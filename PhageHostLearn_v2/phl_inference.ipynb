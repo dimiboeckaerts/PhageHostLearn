{
 "cells": [
  {
   "cell_type": "markdown",
   "metadata": {},
   "source": [
    "# PhageHostLearn - Klebsiella - inference\n",
    "\n",
    "This is the notebook containing the code to run inference with a *Klebsiella* PhageHostLearn model, predicting interactions between phages and host in two folders of phage genome files and bacterial genome files."
   ]
  },
  {
   "cell_type": "markdown",
   "metadata": {},
   "source": [
    "### 1. Load libraries and set paths"
   ]
  },
  {
   "cell_type": "code",
   "execution_count": 1,
   "metadata": {},
   "outputs": [],
   "source": [
    "import phl_utils as phlu\n",
    "import pandas as pd\n",
    "from tqdm.notebook import tqdm\n",
    "\n",
    "path = '/Users/dimi/GoogleDrive/Phabric/2_DATA'"
   ]
  },
  {
   "cell_type": "markdown",
   "metadata": {},
   "source": [
    "### 2. Process genomes"
   ]
  },
  {
   "cell_type": "code",
   "execution_count": null,
   "metadata": {},
   "outputs": [],
   "source": []
  },
  {
   "cell_type": "markdown",
   "metadata": {},
   "source": [
    "### 3. Compute representations"
   ]
  },
  {
   "cell_type": "code",
   "execution_count": 4,
   "metadata": {},
   "outputs": [],
   "source": [
    "rbp_file = 'rbp_proteins.csv'\n",
    "loci_file = 'loci_proteins.csv'"
   ]
  },
  {
   "cell_type": "code",
   "execution_count": 3,
   "metadata": {},
   "outputs": [
    {
     "name": "stderr",
     "output_type": "stream",
     "text": [
      "100%|██████████| 21356/21356 [8:15:45<00:00,  1.39s/it]   \n"
     ]
    }
   ],
   "source": [
    "phlu.compute_representations(loci_file, path, suffix='_loci')"
   ]
  },
  {
   "cell_type": "code",
   "execution_count": null,
   "metadata": {},
   "outputs": [],
   "source": [
    "phlu.compute_representations(rbp_file, path, suffix='_rbps')"
   ]
  },
  {
   "cell_type": "markdown",
   "metadata": {},
   "source": [
    "### 4. Run inference"
   ]
  },
  {
   "cell_type": "code",
   "execution_count": 2,
   "metadata": {},
   "outputs": [
    {
     "name": "stderr",
     "output_type": "stream",
     "text": [
      "100%|██████████| 51329/51329 [1:04:59<00:00, 13.16it/s]\n",
      "100%|██████████| 16558/16558 [1:32:05<00:00,  3.00it/s]  \n"
     ]
    }
   ],
   "source": [
    "# combine to multi-representations\n",
    "filerbps = 'representations_rbps.csv'\n",
    "phlu.combine_representations(filerbps, path, suffix='_rbps', mode='mean')\n",
    "\n",
    "fileloci = 'representations_loci.csv'\n",
    "phlu.combine_representations(fileloci, path, suffix='_loci', mode='mean')"
   ]
  },
  {
   "cell_type": "code",
   "execution_count": null,
   "metadata": {},
   "outputs": [],
   "source": [
    "### todel\n",
    "import numpy as np\n",
    "ints = pd.read_csv(path+'/interactions_rbplevel.csv')\n",
    "new_ints = {'host': [], 'phage': [], 'label': []}\n",
    "# for each unique host and phage in the interactions, check whether their unique interaction is in their, otherwise add with label = NaN\n",
    "for host in tqdm(list(set(ints['host']))):\n",
    "    for phage in list(set(ints['phage'])):\n",
    "        if len(ints[(ints['host']==host) & (ints['phage']==phage)]) == 0:\n",
    "            new_ints['host'].append(host)\n",
    "            new_ints['phage'].append(phage)\n",
    "            new_ints['label'].append(np.nan)\n",
    "ints = pd.concat([ints, pd.DataFrame(new_ints)], axis=0)\n",
    "ints.reset_index(drop=True, inplace=True)\n",
    "print('True?', len(ints) == len(set(ints['host']))*len(set(ints['phage'])))"
   ]
  },
  {
   "cell_type": "code",
   "execution_count": 2,
   "metadata": {},
   "outputs": [
    {
     "name": "stderr",
     "output_type": "stream",
     "text": [
      "100%|██████████| 12695/12695 [15:50<00:00, 13.36it/s]\n"
     ]
    }
   ],
   "source": [
    "# construct input features frame\n",
    "filerbps = 'representations_rbps.csv'\n",
    "fileloci = 'representations_loci.csv'\n",
    "ints = pd.read_csv(path+'/interactions_rbplevel.csv')\n",
    "features, interactions = phlu.construct_inputframe('multi_'+filerbps, 'multi_'+fileloci, path, interactions=ints)"
   ]
  },
  {
   "cell_type": "code",
   "execution_count": null,
   "metadata": {},
   "outputs": [],
   "source": [
    "# make predictions\n",
    "#model_file = 'phagehostlearn_esm2_xgb.json'\n",
    "#predictions = phlu.predict_interactions(features, interactions, model_file, path, suffix='', mode='scores')"
   ]
  },
  {
   "cell_type": "code",
   "execution_count": null,
   "metadata": {},
   "outputs": [],
   "source": [
    "# add the labels that are known to the preds, rest is NaN\n",
    "# for those that are known, compute the recall\n",
    "# for all (known and unknown), plot the score distribution (histogram)"
   ]
  }
 ],
 "metadata": {
  "kernelspec": {
   "display_name": "ML1",
   "language": "python",
   "name": "python3"
  },
  "language_info": {
   "codemirror_mode": {
    "name": "ipython",
    "version": 3
   },
   "file_extension": ".py",
   "mimetype": "text/x-python",
   "name": "python",
   "nbconvert_exporter": "python",
   "pygments_lexer": "ipython3",
   "version": "3.9.7"
  }
 },
 "nbformat": 4,
 "nbformat_minor": 2
}
