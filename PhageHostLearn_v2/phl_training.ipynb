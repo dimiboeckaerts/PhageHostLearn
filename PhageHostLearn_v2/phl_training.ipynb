{
 "cells": [
  {
   "cell_type": "markdown",
   "metadata": {},
   "source": [
    "# PhageHostLearn - Klebsiella - training\n",
    "\n",
    "This is the notebook containing the code to train a *Klebsiella* PhageHostLearn model to predict interactions between phages and host starting from a folder of phage genome files and a folder of bacterial genome files."
   ]
  },
  {
   "cell_type": "markdown",
   "metadata": {},
   "source": [
    "# Step 1: Prepare your data and system\n",
    "\n",
    "1. Make a data folder with two subfolders in it: one for phage genomes and one for bacterial genomes. Each genome should be a separate FASTA file.\n",
    "2. Install Phanotate, Kaptive and PhageRBPdetect."
   ]
  },
  {
   "cell_type": "markdown",
   "metadata": {},
   "source": []
  }
 ],
 "metadata": {
  "language_info": {
   "name": "python"
  }
 },
 "nbformat": 4,
 "nbformat_minor": 2
}
