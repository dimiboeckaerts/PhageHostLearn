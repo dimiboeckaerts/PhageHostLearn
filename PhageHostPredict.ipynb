{
 "cells": [
  {
   "cell_type": "markdown",
   "id": "chronic-establishment",
   "metadata": {},
   "source": [
    "# Klebsiella PhageHostPredict\n",
    "\n",
    "This is the main notebook for the Klebsiella phage-host interaction prediction based on phage RBPs and Klebsiella's K-locus. The idea is to start with something simple and add on to it iteratively. This notebook follows after having ran the PhageHostPredict_processing steps implemented in the accompanying Python script.\n",
    "\n",
    "The predictive framework works as follows:\n",
    "\n",
    "1. [Transform the locus into an embedding using Word2Vec](#locusembed)\n",
    "3. [Transform the RBP sequence into an embedding](#rbpembed) using UniRep, ProtTransBert, SeqVec, ...\n",
    "3. [Exploring the interactions space](#interactions) for insight and further improvement\n",
    "4. [Concatenate and train an RF model](#models) via cross-validation"
   ]
  },
  {
   "cell_type": "markdown",
   "id": "catholic-brush",
   "metadata": {},
   "source": [
    "## 0 - Libraries and directories"
   ]
  },
  {
   "cell_type": "code",
   "execution_count": 4,
   "id": "drawn-centre",
   "metadata": {},
   "outputs": [],
   "source": [
    "import os\n",
    "import math\n",
    "import random\n",
    "import subprocess\n",
    "import numpy as np\n",
    "import pandas as pd\n",
    "import seaborn as sns\n",
    "import matplotlib.pyplot as plt\n",
    "from tqdm import tqdm\n",
    "from Bio import SeqIO\n",
    "from Bio.Blast import NCBIWWW, NCBIXML\n",
    "from sklearn.metrics import make_scorer, f1_score\n",
    "from sklearn.ensemble import RandomForestClassifier\n",
    "from Bio.Blast.Applications import NcbiblastpCommandline\n",
    "from sklearn.model_selection import GridSearchCV, KFold, StratifiedKFold, cross_val_score\n",
    "#from bio_embeddings.embed import Word2VecEmbedder, ProtTransBertBFDEmbedder, SeqVecEmbedder\n",
    "%matplotlib inline"
   ]
  },
  {
   "cell_type": "code",
   "execution_count": 5,
   "id": "together-constitution",
   "metadata": {},
   "outputs": [],
   "source": [
    "# set project directory (to locate Kaptive), data directory and results directory\n",
    "project_dir = '/Users/dimi/Documents/GitHub_Local/PhageHostLearning'\n",
    "klebsiella_dir = '/Users/dimi/GoogleDrive/PhD/4_PHAGEHOST_LEARNING/42_DATA/Klebsiella_RBP_data'\n",
    "results_dir = '/Users/dimi/GoogleDrive/PhD/4_PHAGEHOST_LEARNING/43_RESULTS'\n",
    "cdpath = '/Users/dimi/cd-hit-v4.8.1-2019-0228'"
   ]
  },
  {
   "cell_type": "markdown",
   "id": "posted-continuity",
   "metadata": {},
   "source": [
    "## 1 - Transform locus into embeddings<a name=\"locusembed\"></a>"
   ]
  },
  {
   "cell_type": "code",
   "execution_count": 13,
   "id": "herbal-madness",
   "metadata": {},
   "outputs": [],
   "source": [
    "def locus_embeddings(kaptive_file_names, data_dir):\n",
    "    \"\"\"\n",
    "    This functions computes Word2Vec embeddings for bacterial genomic loci. It uses the bio-embeddings\n",
    "    package together with BioPython to transform fasta sequences of bacterial loci into numerical embeddings.\n",
    "    \n",
    "    WARNING: running this on a personal laptop without GPU can be slow (not advised). Best to start a Google\n",
    "    Colab notebook and run the computations in the cloud.\n",
    "    \n",
    "    Input:\n",
    "    - kaptive_file_names: list of fasta filenames of bacterial loci (output of Kaptive)\n",
    "    - data_dir: location of the sequence file(s) to loop over\n",
    "    - results_dir: directory to store the resulting embeddings in.\n",
    "    \n",
    "    Output:\n",
    "    - embeddings: Pandas DataFrame (as .csv file) with file names and their corresponding embedding\n",
    "    \"\"\"\n",
    "    embedder = Word2VecEmbedder()\n",
    "    embeddings_list = []\n",
    "\n",
    "    for name in tqdm(kaptive_file_names):\n",
    "        locus_sequence = ''\n",
    "        # one or multiple records in fasta file\n",
    "        for record in SeqIO.parse(data_dir+'/'+name, 'fasta'):\n",
    "            locus_sequence += str(record.seq)\n",
    "        \n",
    "        # compute embedding\n",
    "        embedding = embedder.embed(locus_sequence)\n",
    "        reduced_embedding = embedder.reduce_per_protein(embedding)\n",
    "        embeddings_list.append(reduced_embedding)\n",
    "        \n",
    "    embeddings_df = pd.concat([pd.DataFrame(kaptive_file_names), pd.DataFrame(embeddings_list)], axis=1)\n",
    "    embeddings_df.to_csv(data_dir+'/locus_embeddings.csv', index=False)\n",
    "    \n",
    "    return      "
   ]
  },
  {
   "cell_type": "code",
   "execution_count": 14,
   "id": "acting-lincoln",
   "metadata": {},
   "outputs": [
    {
     "name": "stderr",
     "output_type": "stream",
     "text": [
      "100%|██████████| 376/376 [00:29<00:00, 12.69it/s]\n"
     ]
    }
   ],
   "source": [
    "genomes = pd.read_csv(klebsiella_dir+'/klebsiella_genomes_031221.csv')\n",
    "kaptive_file_names = pu.get_kaptive_file_names(genomes)\n",
    "locus_embeddings(names, klebsiella_dir, klebsiella_dir)"
   ]
  },
  {
   "cell_type": "markdown",
   "id": "colored-spencer",
   "metadata": {},
   "source": [
    "## 2 - Tranform RBP sequences into embeddings <a name=\"rbpembed\"></a>"
   ]
  },
  {
   "cell_type": "code",
   "execution_count": 74,
   "id": "provincial-antenna",
   "metadata": {},
   "outputs": [],
   "source": [
    "def RBPbase_identifiers(rbp_data, data_dir):\n",
    "    \"\"\"\n",
    "    This function adds unique IDs to all RBP sequences in the RBP database. As the unit for further\n",
    "    processing is an RBP sequence, each RBP sequence should have a unique identifier.\n",
    "\n",
    "    Input:\n",
    "    - rbp_data: name of the RBP database (string)\n",
    "    - data_dir: location of the database and where the fasta files will be stored (string)\n",
    "\n",
    "    Output:\n",
    "    - adjusted RBPbase (extra column with unique_ID)\n",
    "    \"\"\"\n",
    "    if data_dir != '':\n",
    "        data_dir = data_dir+'/'\n",
    "\n",
    "    RBPbase = pd.read_csv(data_dir+rbp_data)\n",
    "    unique_id_list = []\n",
    "    phage_id_list = []\n",
    "    for i, phage_nr in enumerate(RBPbase['phage_nr']):\n",
    "        phage_id = str(phage_nr)+str(RBPbase['host'][i])\n",
    "        # first RBP\n",
    "        if phage_id not in phage_id_list:\n",
    "            count = 0\n",
    "            phage_id_list.append(phage_id)\n",
    "            unique_id_list.append(phage_id+'_RBP'+str(count))\n",
    "        # second, third, ... RBP\n",
    "        else:\n",
    "            count += 1\n",
    "            unique_id_list.append(phage_id+'_RBP'+str(count))\n",
    "\n",
    "    RBPbase['unique_ID'] = unique_id_list\n",
    "    RBPbase.to_csv(data_dir+rbp_data)\n",
    "\n",
    "    return"
   ]
  },
  {
   "cell_type": "code",
   "execution_count": 83,
   "id": "faced-lodge",
   "metadata": {},
   "outputs": [],
   "source": [
    "def RBPbase_species_filter(rbp_data, data_dir, species):\n",
    "    \"\"\"\n",
    "    This function creates a subset of RBPbase for a specific host species for further processing.\n",
    "\n",
    "    Input:\n",
    "    - rbp_data: name of the RBP database (string)\n",
    "    - data_dir: location of the database and where the fasta files will be stored (string)\n",
    "    - species: the single species to create a subset for\n",
    "\n",
    "    Output:\n",
    "    - subset RBPbase\n",
    "    \"\"\"\n",
    "    if data_dir != '':\n",
    "        data_dir = data_dir+'/'\n",
    "    RBPbase = pd.read_csv(data_dir+rbp_data)\n",
    "    to_delete = [i for i, host in enumerate(RBPbase['host']) if host != species]\n",
    "    RBPbase = RBPbase.drop(to_delete, axis=0)\n",
    "    RBPbase = RBPbase.reset_index(drop=True)\n",
    "    filepieces = rbp_data.split('.')\n",
    "    RBPbase.to_csv(data_dir+filepieces[0]+'_'+species+'.'+filepieces[1], index=False)\n",
    "    \n",
    "    return"
   ]
  },
  {
   "cell_type": "code",
   "execution_count": 37,
   "id": "satisfactory-signal",
   "metadata": {},
   "outputs": [],
   "source": [
    "def RBPbase_fasta_processing(rbp_data, data_dir):\n",
    "    \"\"\"\n",
    "    This function processes the RBP database from a Pandas DataFrame to individual fasta files that can be\n",
    "    looped over to compute protein embeddings.\n",
    "\n",
    "    Input:\n",
    "    - rbp_data: name of the RBP DataFrame (string) in the data_dir, with protein sequences in column 'protein_seq'\n",
    "    - data_dir: location of the database and where the fasta files will be stored (string)\n",
    "\n",
    "    Output:\n",
    "    - fasta files of each of the RBP sequences in the database\n",
    "    - big fasta file of all sequences together (for pairwise alignments later)\n",
    "    \"\"\"\n",
    "    if data_dir != '':\n",
    "        data_dir = data_dir+'/'\n",
    "    if results_dir != '':\n",
    "        results_dir = results_dir+'/'\n",
    "\n",
    "    rbp_file_names = []\n",
    "    RBPbase = pd.read_csv(data_dir+rbp_data)\n",
    "    big_fasta = open(data_dir+rbp_data.split('.')[0]+'.fasta', 'w')\n",
    "    for i, sequence in enumerate(RBPbase['protein_seq']):\n",
    "        unique_id = RBPbase['unique_ID'][i]\n",
    "        rbp_file_names.append(unique_id+'.fasta')\n",
    "        \n",
    "        # write individual fasta\n",
    "        fasta = open(data_dir+unique_id+'.fasta', 'w')\n",
    "        fasta.write('>'+unique_id+'\\n'+sequence+'\\n')\n",
    "        fasta.close()\n",
    "        \n",
    "        # write big fasta\n",
    "        big_fasta.write('>'+unique_id+'\\n'+sequence+'\\n')\n",
    "    big_fasta.close()\n",
    "\n",
    "    return rbp_file_names"
   ]
  },
  {
   "cell_type": "code",
   "execution_count": 36,
   "id": "anticipated-crack",
   "metadata": {},
   "outputs": [],
   "source": [
    "def protein_embeddings(rbp_file_names, data_dir):\n",
    "    \"\"\"\n",
    "    This functions computes ProttransBERT embeddings for phage RBPs. It uses the bio-embeddings\n",
    "    package together with BioPython to transform fasta sequences of phage RBPs into numerical embeddings.\n",
    "    \n",
    "    WARNING: running this on a personal laptop without GPU is very slow and not advised. Best to start a Google\n",
    "    Colab or Kaggle notebook and run the computations in the cloud.\n",
    "    \n",
    "    Input:\n",
    "    - rbp_file_names: list of fasta filenames of phage RBPs\n",
    "    - data_dir: location of the sequence file(s) to loop over\n",
    "    - results_dir: directory to store the resulting embeddings in\n",
    "    \n",
    "    Output:\n",
    "    - embeddings: Pandas DataFrame (as .csv file) with file names and their corresponding embedding\n",
    "    \"\"\"\n",
    "    embedder = ProtTransBertBFDEmbedder()\n",
    "    embeddings_list = []\n",
    "    \n",
    "    if data_dir != '':\n",
    "        data_dir = data_dir+'/'\n",
    "\n",
    "    for name in tqdm(rbp_file_names):\n",
    "        for record in SeqIO.parse(data_dir+name, 'fasta'):\n",
    "            rbp_sequence = str(record.seq)\n",
    "        \n",
    "        embedding = embedder.embed(rbp_sequence)\n",
    "        reduced_embedding = embedder.reduce_per_protein(embedding)\n",
    "        embeddings_list.append(reduced_embedding)\n",
    "        \n",
    "    embeddings_df = pd.concat([pd.DataFrame(rbp_file_names), pd.DataFrame(embeddings_list)], axis=1)\n",
    "    embeddings_df.to_csv(data_dir+'protein_embeddings.csv', index=False)\n",
    "    \n",
    "    return  "
   ]
  },
  {
   "cell_type": "code",
   "execution_count": 65,
   "id": "spanish-repository",
   "metadata": {},
   "outputs": [],
   "source": [
    "RBPbase_identifiers('RBPbase_250621.csv', data_dir)\n",
    "RBPbase_species_filter('RBPbase_250621.csv', data_dir, 'klebsiella_pneumoniae')\n",
    "rbp_file_names = RBPbase_fasta_processing('RBPbase_250621_klebsiella_pneumoniae.csv', data_dir)\n",
    "pd.DataFrame(rbp_file_names, columns=['names']).to_csv(data_dir+'/rbp_file_names.csv', index=False)\n",
    "#protein_embeddings(rbp_file_names, data_dir) # do in Google Colab or Kaggle"
   ]
  },
  {
   "cell_type": "markdown",
   "id": "corrected-scholar",
   "metadata": {},
   "source": [
    "## 4 - Construct reliable negative interactions <a name=\"neginteractions\"></a>"
   ]
  },
  {
   "cell_type": "raw",
   "id": "b4e1519a",
   "metadata": {},
   "source": [
    "def constrained_random_interaction_matrix(loci_similarities, loci_threshold, rbp_similarities, rbp_threshold,\n",
    "                                          kaptive_file_names, rbp_file_names, rbp_data):\n",
    "    \"\"\"\n",
    "    This function constructs an interaction matrix for training by adding known positive interactions\n",
    "    and using similarity scores to sample negative interactions in a random manner, with constraints.\n",
    "    \n",
    "    Input:\n",
    "    - loci_similarities, rbp_similarities: similarity score matrices (hosts m x m and phages n x n)\n",
    "    - loci_threshold, rbp_threshold: thresholds above which not to consider negative interactions\n",
    "    - kaptive_file_names, rbp_file_names: lists of names to construct known interactions\n",
    "    - rbp_data: name of the RBP DataFrame (string) (columns: 'host_accession', 'unique_ID')\n",
    "    \n",
    "    Output:\n",
    "    - interaction matrix\n",
    "    \"\"\"\n",
    "    interaction_matrix = np.empty((len(kaptive_file_names), len(rbp_file_names)))\n",
    "    interaction_matrix[:] = np.nan\n",
    "\n",
    "    # fill in known interactions\n",
    "    for i, host_acc in enumerate(rbp_data['host_accession']):\n",
    "        rbp_id = rbp_data['unique_ID'][i]\n",
    "        index_m = kaptive_file_names.index('kaptive_results_'+host_acc+'.fasta')\n",
    "        index_n = rbp_file_names.index(rbp_id+'.fasta')\n",
    "        interaction_matrix[index_m, index_n] = 1\n",
    "    print('check? ', i == len(rbp_file_names)-1)\n",
    "    \n",
    "    # delete identicals\n",
    "    # ... (+ sample until sum(sum(int_matrix)))\n",
    "    \n",
    "    # sample random RBP and bacterial locus\n",
    "    iteration = 0\n",
    "    while iteration < len(rbp_file_names):\n",
    "        random_rbp = random.choice(range(len(rbp_file_names)))\n",
    "        random_locus = random.choice(range(len(kaptive_file_names)))\n",
    "\n",
    "        # construct reliable negative interaction within constraints\n",
    "        if interaction_matrix[random_locus, random_rbp] != 1:\n",
    "            # collect similar RBPs and their interacting loci\n",
    "            rbp_similarities_row = rbp_similarities[random_rbp,:]\n",
    "            rbp_threshold_indices = [index for index, sim in enumerate(rbp_similarities_row) if sim >= rbp_threshold]\n",
    "            loci_threshold_indices = [index for thr_index in rbp_threshold_indices for index in range(interaction_matrix.shape[0]) \n",
    "                                      if interaction_matrix[index, thr_index] == 1]\n",
    "            duplicates = [dup for dup in loci_threshold_indices if loci_threshold_indices.count(dup) > 1]\n",
    "\n",
    "            # assess similarity between collected loci\n",
    "            loci_similarities_row = loci_similarities[random_locus,:]\n",
    "            loci_exceeding_threshold = [index for index in loci_threshold_indices if loci_similarities_row[index] \n",
    "                                        >= loci_threshold]\n",
    "            if len(loci_exceeding_threshold) == 0:\n",
    "                interaction_matrix[random_locus, random_rbp] = 0\n",
    "                iteration += 1\n",
    "    print(iteration)\n",
    "    return interaction_matrix"
   ]
  },
  {
   "cell_type": "raw",
   "id": "b79ab586",
   "metadata": {},
   "source": [
    "# construct interaction matrix\n",
    "genomes = pd.read_csv(data_dir+'/phagebase1_klebsiella_pneumoniae.csv')\n",
    "kaptive_file_names = get_kaptive_file_names(genomes)\n",
    "loci_sim = np.loadtxt(data_dir+'/kaptive_loci_score_matrix.txt')\n",
    "loci_thr = 0.9\n",
    "rbp_sim = np.loadtxt(data_dir+'/RBPbase_250621_klebsiella_pneumoniae.fasta_score_matrix.txt')\n",
    "rbp_thr = 0.9\n",
    "rbp_file_names = list(pd.read_csv(data_dir+'/rbp_file_names.csv')['names'])\n",
    "rbpbase = pd.read_csv(data_dir+'/RBPbase_250621_klebsiella_pneumoniae.csv')\n",
    "interaction_matrix = constrained_random_interaction_matrix(loci_sim, loci_thr, rbp_sim, rbp_thr, kaptive_file_names, \n",
    "                                                         rbp_file_names, rbpbase)"
   ]
  },
  {
   "cell_type": "markdown",
   "id": "handmade-clothing",
   "metadata": {},
   "source": [
    "## 5 - Exploring the interaction space<a name=\"interactions\"></a>"
   ]
  },
  {
   "cell_type": "markdown",
   "id": "3b3f6cfd",
   "metadata": {},
   "source": [
    "#### How many RBPs do phages have?"
   ]
  },
  {
   "cell_type": "code",
   "execution_count": 19,
   "id": "b5699dba",
   "metadata": {
    "scrolled": true
   },
   "outputs": [
    {
     "data": {
      "image/png": "[encoded data removed]",
      "text/plain": [
       "<Figure size 432x288 with 1 Axes>"
      ]
     },
     "metadata": {
      "needs_background": "light"
     },
     "output_type": "display_data"
    }
   ],
   "source": [
    "rbpbase = pd.read_csv(data_dir+'/RBPbase_250621_klebsiella_pneumoniae.csv')\n",
    "rbp_counts = []\n",
    "for phage in rbpbase['phage_nr']:\n",
    "    rbp_counts.append(list(rbpbase['phage_nr']).count(phage))\n",
    "ax = sns.countplot(x = rbp_counts)"
   ]
  },
  {
   "cell_type": "markdown",
   "id": "048115c1",
   "metadata": {},
   "source": [
    "We see that most Klebsiella phages either have one RBP or two RBPs. Due to the nature of our RBP identification, we might have missed some RBPs though."
   ]
  },
  {
   "cell_type": "markdown",
   "id": "30339fe9",
   "metadata": {},
   "source": [
    "#### Can we discriminate B-helix phages using SPIDER-3?\n",
    "\n",
    "First move all the KP32 RBP sequences in the ./example_data/seq/ folder in SPIDER3-S. Then write/adjust the file_list with all the names of the sequences you want to make predictions for."
   ]
  },
  {
   "cell_type": "code",
   "execution_count": 3,
   "id": "51ced48e",
   "metadata": {},
   "outputs": [],
   "source": [
    "# write klebs rbp files & adjust file_list for SPIDER3-S\n",
    "spider_dir = '/Users/dimi/GoogleDrive/PhD/4_PHAGEHOST_LEARNING/SPIDER3-S'\n",
    "klebs_rbps = '/Users/dimi/GoogleDrive/PhD/4_PHAGEHOST_LEARNING/42_DATA/Klebsiella_RBP_data/sequences/klebsiella_RBPs.fasta'\n",
    "file_list = open(spider_dir+'/file_list', 'w')\n",
    "kpids = []\n",
    "for record in SeqIO.parse(klebs_rbps, 'fasta'):\n",
    "    identifier = record.id\n",
    "    kpids.append(identifier)\n",
    "    sequence = str(record.seq)\n",
    "    \n",
    "    # write fasta\n",
    "    fasta = open(spider_dir+'/example_data/seq/klebs_rbp_'+identifier+'.fasta', 'w')\n",
    "    fasta.write('>'+identifier+'\\n'+sequence+'\\n')\n",
    "    fasta.close()\n",
    "    \n",
    "    # write file_list\n",
    "    file_list.write(identifier+' '+'./example_data/seq/klebs_rbp_'+identifier+'.fasta'+'\\n')\n",
    "file_list.close()"
   ]
  },
  {
   "cell_type": "code",
   "execution_count": 2,
   "id": "ba93e5a4",
   "metadata": {},
   "outputs": [
    {
     "name": "stdout",
     "output_type": "stream",
     "text": [
      "b'doing iteration 0 - SS\\ndoing iteration 0 - ASA THETA TAU PHI PSI HSEa CN\\ncombining both prediction files\\ndoing iteration 1 - SS\\ndoing iteration 1 - ASA THETA TAU PHI PSI HSEa CN\\ncombining both prediction files\\nTime taken - 90 seconds\\n'\n"
     ]
    }
   ],
   "source": [
    "# compute KP32 secondary structures\n",
    "spider_dir = '/Users/dimi/GoogleDrive/PhD/4_PHAGEHOST_LEARNING/SPIDER3-S'\n",
    "command = 'cd '+spider_dir+ '; ./impute_script_np.sh'\n",
    "ssprocess = subprocess.Popen(command, shell=True, stdout=subprocess.PIPE, stderr=subprocess.STDOUT)\n",
    "ssout, sserr = ssprocess.communicate()\n",
    "print(ssout)"
   ]
  },
  {
   "cell_type": "code",
   "execution_count": 5,
   "id": "d6bf4687",
   "metadata": {},
   "outputs": [],
   "source": [
    "B_ratio = []\n",
    "for identifier in kpids:\n",
    "    results = pd.read_csv('/Users/dimi/GoogleDrive/PhD/4_PHAGEHOST_LEARNING/SPIDER3-S/example_data/outputs/'+identifier+'.i1', delim_whitespace=True, header=0)\n",
    "    sstructs = ''.join([i for i in results['SS']])\n",
    "    B_ratio.append(sstructs.count('E')/len(sstructs))"
   ]
  },
  {
   "cell_type": "code",
   "execution_count": 118,
   "id": "3632bcac",
   "metadata": {},
   "outputs": [
    {
     "data": {
      "text/plain": [
       "Text(0, 0.5, 'Count among klebsiella RBPs')"
      ]
     },
     "execution_count": 118,
     "metadata": {},
     "output_type": "execute_result"
    },
    {
     "data": {
      "image/png": "[encoded data removed]",
      "text/plain": [
       "<Figure size 720x576 with 1 Axes>"
      ]
     },
     "metadata": {
      "needs_background": "light"
     },
     "output_type": "display_data"
    }
   ],
   "source": [
    "fig, ax = plt.subplots(figsize=(10, 8))\n",
    "n, bins, patches = plt.hist(B_ratio, bins=20)\n",
    "ax.set_xlabel('Percentage of beta-sheet', size=12)\n",
    "ax.set_ylabel('Count among klebsiella RBPs', size=12)"
   ]
  },
  {
   "cell_type": "markdown",
   "id": "d021a664",
   "metadata": {},
   "source": [
    "We can see that most Klebsiella RBPs with a B-helix have a beta-sheet percentage of 30% or higher."
   ]
  },
  {
   "cell_type": "code",
   "execution_count": 121,
   "id": "31214dfb",
   "metadata": {},
   "outputs": [],
   "source": [
    "# Now do the same for all klebs RBPs in RBPbase\n",
    "spider_dir = '/Users/dimi/GoogleDrive/PhD/4_PHAGEHOST_LEARNING/SPIDER3-S'\n",
    "rbpbase = pd.read_csv(data_dir+'/RBPbase_250621_klebsiella_pneumoniae.csv')\n",
    "file_list = open(spider_dir+'/file_list', 'w')\n",
    "kpids = []\n",
    "for i, sequence in enumerate(rbpbase['protein_seq']):\n",
    "    identifier = rbpbase['unique_ID'][i]\n",
    "    kpids.append(identifier)\n",
    "\n",
    "    # write fasta\n",
    "    fasta = open(spider_dir+'/example_data/seq/rbpbase_'+identifier+'.fasta', 'w')\n",
    "    fasta.write('>'+identifier+'\\n'+sequence+'\\n')\n",
    "    fasta.close()\n",
    "    \n",
    "    # write file_list\n",
    "    file_list.write(identifier+' '+'./example_data/seq/rbpbase_'+identifier+'.fasta'+'\\n')\n",
    "file_list.close()"
   ]
  },
  {
   "cell_type": "code",
   "execution_count": 122,
   "id": "40f7c0e8",
   "metadata": {},
   "outputs": [
    {
     "name": "stdout",
     "output_type": "stream",
     "text": [
      "b'doing iteration 0 - SS\\ndoing iteration 0 - ASA THETA TAU PHI PSI HSEa CN\\ncombining both prediction files\\ndoing iteration 1 - SS\\ndoing iteration 1 - ASA THETA TAU PHI PSI HSEa CN\\ncombining both prediction files\\nTime taken - 3282 seconds\\n'\n"
     ]
    }
   ],
   "source": [
    "# compute KP32 secondary structures -> WILL TAKE ABOUT 100 minutes\n",
    "command = 'cd '+spider_dir+ '; ./impute_script_np.sh'\n",
    "ssprocess = subprocess.Popen(command, shell=True, stdout=subprocess.PIPE, stderr=subprocess.STDOUT)\n",
    "ssout, sserr = ssprocess.communicate()\n",
    "print(ssout)\n",
    "\n",
    "B_ratio = []\n",
    "for identifier in kpids:\n",
    "    results = pd.read_csv('/Users/dimi/GoogleDrive/PhD/4_PHAGEHOST_LEARNING/SPIDER3-S/example_data/outputs/'+identifier+'.i1', delim_whitespace=True, header=0)\n",
    "    sstructs = ''.join([i for i in results['SS']])\n",
    "    B_ratio.append(sstructs.count('E')/len(sstructs))"
   ]
  },
  {
   "cell_type": "code",
   "execution_count": 124,
   "id": "1afbb109",
   "metadata": {},
   "outputs": [
    {
     "data": {
      "text/plain": [
       "Text(0, 0.5, 'Count among klebsiella RBPs')"
      ]
     },
     "execution_count": 124,
     "metadata": {},
     "output_type": "execute_result"
    },
    {
     "data": {
      "image/png": "[encoded data removed]",
      "text/plain": [
       "<Figure size 720x576 with 1 Axes>"
      ]
     },
     "metadata": {
      "needs_background": "light"
     },
     "output_type": "display_data"
    }
   ],
   "source": [
    "fig, ax = plt.subplots(figsize=(10, 8))\n",
    "n, bins, patches = plt.hist(B_ratio, bins=20)\n",
    "ax.set_xlabel('Percentage of beta-sheet', size=12)\n",
    "ax.set_ylabel('Count among klebsiella RBPs', size=12)\n",
    "#ax.axvline(x=0.3, color='red')"
   ]
  },
  {
   "cell_type": "markdown",
   "id": "c8611237",
   "metadata": {},
   "source": [
    "#### Implementing moving average for B-helix detection"
   ]
  },
  {
   "cell_type": "code",
   "execution_count": 8,
   "id": "f17a422f",
   "metadata": {},
   "outputs": [],
   "source": [
    "def moving_average_SS(sequence, window_size=33):\n",
    "    mas = []\n",
    "    window_bit = int((window_size-1)/2)\n",
    "\n",
    "    # compute margins outside of the window\n",
    "    for i, character in enumerate(['H', 'E', 'C']):\n",
    "        first_slice = sequence[:window_size]\n",
    "        moving_average = np.zeros((len(sequence)))\n",
    "        moving_average[:window_bit] = first_slice.count(character) / window_size\n",
    "        last_slice = sequence[len(sequence)-window_size:]\n",
    "        moving_average[len(sequence)-window_bit:] = last_slice.count(character) / window_size\n",
    "\n",
    "        # sliding window\n",
    "        for i in range(int(window_bit), int(len(sequence)-window_bit)):\n",
    "            slice = sequence[int(i-window_bit):int(i+window_bit+1)]\n",
    "            moving_average[i] = slice.count(character) / window_size\n",
    "        mas.append(moving_average)\n",
    "            \n",
    "    return mas[0], mas[1], mas[2]"
   ]
  },
  {
   "cell_type": "code",
   "execution_count": 26,
   "id": "27f03bc7",
   "metadata": {},
   "outputs": [],
   "source": [
    "KP32s = ['ALT58497.1', 'ALT58498.1', 'YP_009198668.1', 'YP_009198669.1', 'APZ82804.1', 'APZ82805.1', 'APZ82847.1', 'APZ82848.1', \n",
    "'YP_002003830.1', 'YP_002003831.1', 'AWN07083.1', 'AWN07084.1', 'AWN07125.1', 'AWN07126.1', 'AWN07172.1', 'AWN07213.1', 'AWN07214.1', \n",
    "'YP_003347555.1', 'YP_003347556.1', 'YP_009215498.1', 'AOT28172.1', 'AOT28173.1', 'AOZ65569.1', 'AUV61507.1']\n",
    "ma_B = []\n",
    "ma_H = []\n",
    "ma_C = []\n",
    "\n",
    "for i, kp32 in enumerate(KP32s):\n",
    "    results = pd.read_csv('/Users/dimi/GoogleDrive/PhD/4_PHAGEHOST_LEARNING/SPIDER3-S/example_data/outputs/'+kp32+'.i1', delim_whitespace=True, header=0)\n",
    "    sstructs = ''.join([x for x in results['SS']])\n",
    "    maHc, maBc, maCc = moving_average_SS(sstructs, window_size=50)\n",
    "    ma_H.append(maHc)\n",
    "    ma_B.append(maBc)\n",
    "    ma_C.append(maCc)"
   ]
  },
  {
   "cell_type": "code",
   "execution_count": 34,
   "id": "cc2198cb",
   "metadata": {},
   "outputs": [
    {
     "data": {
      "image/png": "[encoded data removed]",
      "text/plain": [
       "<Figure size 720x360 with 1 Axes>"
      ]
     },
     "metadata": {
      "needs_background": "light"
     },
     "output_type": "display_data"
    }
   ],
   "source": [
    "index = 4\n",
    "fig, ax = plt.subplots(figsize=(10,5))\n",
    "ax.set_xlabel('position in the sequence')\n",
    "ax.set_ylabel('Moving average (50 AA) B-sheet percentage')\n",
    "ax.plot(ma_B[index], c='red', label='sheet')\n",
    "ax.plot(ma_H[index], c='blue', label='helix')\n",
    "ax.plot(ma_C[index], color='black', label='coil')\n",
    "ax.legend()\n",
    "fig.savefig('/Users/Dimi/Desktop/'+KP32s[index]+'.png', dpi=300)"
   ]
  },
  {
   "cell_type": "markdown",
   "id": "3f622ef1",
   "metadata": {},
   "source": [
    "rule = in a window of 200-250, average must be higher than 35%. If a window like that exists, it's a B-helix RBP."
   ]
  },
  {
   "cell_type": "code",
   "execution_count": null,
   "id": "93b6f2d0",
   "metadata": {},
   "outputs": [],
   "source": [
    "from sklearn.decomposition import PCA\n",
    "from sklearn.manifold import TSNE\n",
    "serotypes = pd.read_csv(klebsiella_dir+'/klebsiella_genomes_031221_serotypes.csv')\n",
    "X_locus = np.asarray(locus_em)\n",
    "labels = np.asarray(frame.iloc[:,-2])\n",
    "X_embedded = TSNE(n_components=2, learning_rate='auto', init='random').fit_transform(X_locus)\n",
    "\n",
    "locus_df = pd.concat([pd.DataFrame(X_embedded), serotypes], axis=1)\n",
    "import seaborn as sns\n",
    "ax, fig = plt.subplots(figsize=(10,7))\n",
    "ax = sns.scatterplot(data=locus_df, x=0, y=1, hue=\"sero\", legend=False)\n",
    "ax.set_xlabel('t-SNE component 1', size=11)\n",
    "ax.set_ylabel('t-SNE component 2', size=11)\n",
    "ax.figure.savefig(klebsiella_dir+'/klebsiella_genomes_031221_embeddings_tSNE.png', dpi=400)"
   ]
  },
  {
   "cell_type": "code",
   "execution_count": 125,
   "id": "64a66520",
   "metadata": {},
   "outputs": [
    {
     "data": {
      "image/png": "[encoded data removed]",
      "text/plain": [
       "<Figure size 720x504 with 1 Axes>"
      ]
     },
     "metadata": {
      "needs_background": "light"
     },
     "output_type": "display_data"
    }
   ],
   "source": [
    "X = np.asarray(frame.iloc[:, :-2])\n",
    "labels = np.asarray(frame.iloc[:,-2])\n",
    "X_embedded = TSNE(n_components=2, learning_rate='auto', init='random').fit_transform(X)\n",
    "plt.figure(figsize=(10,7))\n",
    "colors = [\"navy\", \"darkorange\"]\n",
    "lw = 2\n",
    "\n",
    "for color, i, target_name in zip(colors, [0, 1], ['neg', 'pos']):\n",
    "    plt.scatter(\n",
    "        X_embedded[labels == i, 0], X_embedded[labels == i, 1], color=color, alpha=0.8, lw=lw, label=target_name\n",
    "    )\n",
    "plt.legend(loc=\"best\", shadow=False, scatterpoints=1)\n",
    "plt.title(\"tSNE of dataset\")\n",
    "plt.xlabel('tSNE component 1')\n",
    "plt.ylabel('tSNE component 2')\n",
    "plt.savefig(results_dir+'/features/all_embeddings_tSNE.png', dpi=400)"
   ]
  },
  {
   "cell_type": "markdown",
   "id": "statistical-offer",
   "metadata": {},
   "source": [
    "## 5 - Processing into structured dataframe for training"
   ]
  },
  {
   "cell_type": "code",
   "execution_count": 6,
   "id": "classical-individual",
   "metadata": {},
   "outputs": [],
   "source": [
    "def construct_training_dataframe(locus_features, rbp_features, interaction_matrix, RBPbase=0):\n",
    "    \"\"\"\n",
    "    This function combines the seraparetly computed features of both the locus and the RBPs\n",
    "    into one array suitable for training, considering the interaction matrix.\n",
    "    \n",
    "    At this point, the rows of the featuresets should correspond with the rows and columns of the interaction\n",
    "    matrix, meaning the interaction matrix should be constructed starting from the same data as the features!\n",
    "    \n",
    "    Input:\n",
    "    - locus features: DataFrame of the features constructed for the bacterial loci (m x #feats)\n",
    "    - rbp_features: DataFrame of the features constructured for the phage RBPs (n x #feats)\n",
    "    - interaction matrix: (m x n) with positives (1), negatives (0) and unknown (NaN)\n",
    "    - RBPbase: RBP dataframe for sanity check (optional)\n",
    "    \"\"\"\n",
    "    \n",
    "    # define lists to append to\n",
    "    locus_list = []; rbp_list = []; interaction_list = []; row_list = []; column_list = []\n",
    "    \n",
    "    # loop over interaction matrix and construct dataframe\n",
    "    for i in range(interaction_matrix.shape[0]):\n",
    "        for j in range(interaction_matrix.shape[1]):\n",
    "            interaction = interaction_matrix[i,j]\n",
    "            \n",
    "            if math.isnan(interaction) == False:\n",
    "                # make list of lists, that can subsequently be combined\n",
    "                locus_list.append(list(locus_features.iloc[i,:]))\n",
    "                rbp_list.append(list(rbp_features.iloc[j,:]))\n",
    "                interaction_list.append(int(interaction))\n",
    "                row_list.append(i)\n",
    "                column_list.append(j)\n",
    "            \n",
    "            # sanity check (optional)\n",
    "            if (interaction == 1) and (type(RBPbase) !=  int):\n",
    "                locus_id = locus_em.index[i].split('kaptive_results_')[1].split('.fasta')[0]\n",
    "                rbp_id = RBPbase['host_accession'][j]\n",
    "                if locus_id != rbp_id:\n",
    "                    print('mismatch!', rbp_id, locus_id)\n",
    "    \n",
    "    # concatenate to final dataframe\n",
    "    training_dataframe = pd.concat([pd.DataFrame(locus_list), pd.DataFrame(rbp_list), pd.DataFrame(interaction_list),\n",
    "                                    pd.DataFrame({'row': row_list})], axis=1)\n",
    "    \n",
    "    return training_dataframe     "
   ]
  },
  {
   "cell_type": "code",
   "execution_count": 83,
   "id": "according-blair",
   "metadata": {},
   "outputs": [],
   "source": [
    "rbpbase = pd.read_csv(klebsiella_dir+'/RBPbase_031221_klebsiella_pneumoniae.csv')\n",
    "locus_em = pd.read_csv(klebsiella_dir+'/klebsiella_genomes_031221_embeddings.csv', index_col=0)\n",
    "rbp_em = pd.read_csv(klebsiella_dir+'/RBPbase_031221_klebsiella_pneumoniae_embeddings.csv', index_col=0)\n",
    "interaction_matrix = np.asarray(pd.read_csv(klebsiella_dir+'/interactions_klebsiella.csv', index_col=0))\n",
    "interaction_matrix_mono = np.asarray(pd.read_csv(klebsiella_dir+'/interactions_klebsiella_mono.csv', index_col=0))\n",
    "frame = construct_training_dataframe(locus_em, rbp_em, interaction_matrix_mono)"
   ]
  },
  {
   "cell_type": "code",
   "execution_count": 85,
   "id": "ba0795f6",
   "metadata": {},
   "outputs": [],
   "source": [
    "labels = np.asarray(frame.iloc[:,-2])"
   ]
  },
  {
   "cell_type": "code",
   "execution_count": 88,
   "id": "c9bbb8df",
   "metadata": {},
   "outputs": [
    {
     "name": "stdout",
     "output_type": "stream",
     "text": [
      "pos:  139 negs: 608\n"
     ]
    }
   ],
   "source": [
    "print('pos: ', sum(labels==1), 'negs:', sum(labels==0))"
   ]
  },
  {
   "cell_type": "code",
   "execution_count": null,
   "id": "0067a9fd",
   "metadata": {},
   "outputs": [],
   "source": []
  },
  {
   "cell_type": "markdown",
   "id": "finnish-converter",
   "metadata": {},
   "source": [
    "## 6 - Machine learning models <a name=\"models\"></a>"
   ]
  },
  {
   "cell_type": "markdown",
   "id": "8b78bf22",
   "metadata": {},
   "source": [
    "##### Binary classification"
   ]
  },
  {
   "cell_type": "code",
   "execution_count": 83,
   "id": "weighted-special",
   "metadata": {},
   "outputs": [],
   "source": [
    "# first simple test\n",
    "rf = RandomForestClassifier(n_estimators=500, class_weight='balanced')\n",
    "outer_cv = StratifiedKFold(n_splits=4)\n",
    "score_f1 = make_scorer(f1_score, average='weighted')\n",
    "frame = np.asarray(frame.iloc[:,:-1])\n",
    "perf_f1 = cross_val_score(rf, X=frame[:,:-1], y=frame[:,-1], scoring=score_f1, cv=outer_cv, verbose=False)"
   ]
  },
  {
   "cell_type": "code",
   "execution_count": 84,
   "id": "surprised-actress",
   "metadata": {},
   "outputs": [
    {
     "data": {
      "text/plain": [
       "0.9790391024544483"
      ]
     },
     "execution_count": 84,
     "metadata": {},
     "output_type": "execute_result"
    }
   ],
   "source": [
    "np.mean(perf_f1)"
   ]
  },
  {
   "cell_type": "code",
   "execution_count": 111,
   "id": "starting-concert",
   "metadata": {},
   "outputs": [],
   "source": [
    "# grouped K-fold taking into account the loci\n",
    "loci_sim = np.loadtxt(klebsiella_dir+'/kaptive_loci_score_matrix.txt')\n",
    "rf = RandomForestClassifier(n_estimators=200, class_weight='balanced')\n",
    "loci_cv = KFold(n_splits=5, shuffle=True)\n",
    "frame_array = np.asarray(frame.iloc[:,:-2])\n",
    "labels = np.asarray(frame.iloc[:,-2])\n",
    "fscores = []\n",
    "for train_index, test_index in loci_cv.split(loci_sim):\n",
    "    # construct training and test dataframe\n",
    "    train_index_frame = []; test_index_frame = []\n",
    "    for i, row_id in enumerate(frame['row']):\n",
    "        if row_id in train_index:\n",
    "            train_index_frame.append(i)\n",
    "        else:\n",
    "            test_index_frame.append(i)\n",
    "    frame_train, frame_test = frame_array[train_index_frame], frame_array[test_index_frame]\n",
    "    labels_train, labels_test = labels[train_index_frame], labels[test_index_frame]\n",
    "    \n",
    "    # fit a model\n",
    "    rf.fit(frame_train, labels_train)\n",
    "    \n",
    "    # make predictions and test\n",
    "    preds = rf.predict(frame_test)\n",
    "    fscores.append(f1_score(labels_test, preds))\n",
    "print(fscores, 'mean: ', np.mean(fscores))"
   ]
  },
  {
   "cell_type": "code",
   "execution_count": 81,
   "id": "47f51b8c",
   "metadata": {},
   "outputs": [
    {
     "name": "stdout",
     "output_type": "stream",
     "text": [
      "new split\n"
     ]
    },
    {
     "name": "stderr",
     "output_type": "stream",
     "text": [
      "100%|███████████████████████████████████████████| 37/37 [06:05<00:00,  9.89s/it]\n"
     ]
    },
    {
     "name": "stdout",
     "output_type": "stream",
     "text": [
      "new split\n"
     ]
    },
    {
     "name": "stderr",
     "output_type": "stream",
     "text": [
      "100%|███████████████████████████████████████████| 42/42 [07:02<00:00, 10.06s/it]\n"
     ]
    },
    {
     "name": "stdout",
     "output_type": "stream",
     "text": [
      "new split\n"
     ]
    },
    {
     "name": "stderr",
     "output_type": "stream",
     "text": [
      "100%|███████████████████████████████████████████| 38/38 [06:19<00:00,  9.99s/it]\n"
     ]
    },
    {
     "name": "stdout",
     "output_type": "stream",
     "text": [
      "new split\n"
     ]
    },
    {
     "name": "stderr",
     "output_type": "stream",
     "text": [
      "100%|███████████████████████████████████████████| 40/40 [06:37<00:00,  9.93s/it]\n"
     ]
    },
    {
     "name": "stdout",
     "output_type": "stream",
     "text": [
      "new split\n"
     ]
    },
    {
     "name": "stderr",
     "output_type": "stream",
     "text": [
      "100%|███████████████████████████████████████████| 35/35 [05:48<00:00,  9.95s/it]"
     ]
    },
    {
     "name": "stdout",
     "output_type": "stream",
     "text": [
      "[0.025, 0.0, 0.07352941176470588, 0.03333333333333333, 0.04878048780487805] mean:  0.03612864658058346\n"
     ]
    },
    {
     "name": "stderr",
     "output_type": "stream",
     "text": [
      "\n"
     ]
    }
   ],
   "source": [
    "# grouped loci K-fold with ranking accuracy\n",
    "\"\"\"\n",
    "downside is that we make a lot of predictions for out-of-data samples, that we don't know are good or bad...\n",
    "\"\"\"\n",
    "dim_features_loci = 512\n",
    "loci_sim = np.loadtxt(klebsiella_dir+'/kaptive_loci_score_matrix.txt')\n",
    "rf = RandomForestClassifier(n_estimators=200, class_weight='balanced', n_jobs=6)\n",
    "loci_cv = KFold(n_splits=5, shuffle=True)\n",
    "frame_array = np.asarray(frame.iloc[:,:-2])\n",
    "labels = np.asarray(frame.iloc[:,-2])\n",
    "top10acc = []\n",
    "for train_index, test_index in loci_cv.split(loci_sim):\n",
    "    print('new split')\n",
    "    # construct training and test dataframe\n",
    "    train_index_frame = []; test_index_frame = []\n",
    "    for i, row_id in enumerate(frame['row']):\n",
    "        if row_id in train_index:\n",
    "            train_index_frame.append(i)\n",
    "        else:\n",
    "            test_index_frame.append(i)\n",
    "    frame_train, frame_test = frame_array[train_index_frame], frame_array[test_index_frame]\n",
    "    labels_train, labels_test = labels[train_index_frame], labels[test_index_frame]\n",
    "    \n",
    "    # fit a model\n",
    "    rf.fit(frame_train, labels_train)\n",
    "    \n",
    "    # make predictions and test\n",
    "    test_row_ids = list(set(frame['row'][test_index_frame]))\n",
    "    pos_sum = 0 # track all positives per cv split to compute accuracy\n",
    "    correct_preds_sum = 0\n",
    "    for test_row_index in tqdm(test_row_ids): # loop over test loci\n",
    "        probs = []\n",
    "        test_locus_embedding = np.asarray(locus_em.iloc[test_row_index,:]) # locus feats\n",
    "        positives = [i for i, label in enumerate(labels) if (label == 1) and (frame['row'][i] == test_row_index)]\n",
    "        pos_sum += len(positives)\n",
    "        \n",
    "        # loop over all RBPs\n",
    "        for rbp_row in range(frame_array.shape[0]):\n",
    "            test_rbp_embedding = frame_array[rbp_row, dim_features_loci:] # RBP feats\n",
    "            test_embedding = np.concatenate([test_locus_embedding, test_rbp_embedding]).reshape(1,-1)\n",
    "            probs.append(rf.predict_proba(test_embedding)[:,1])\n",
    "        \n",
    "        # sort probs and get top10 indices\n",
    "        top10_RBPs = [x for _, x in sorted(zip(probs, range(frame_array.shape[0])), reverse=True)][:10]\n",
    "        top10_probs = sorted(probs, reverse=True)\n",
    "        correct_predicted_positives = list(set(top10_RBPs).intersection(positives))\n",
    "        correct_preds_sum += len(correct_predicted_positives)\n",
    "    \n",
    "    # compute top10 accuracy\n",
    "    top10acc.append(correct_preds_sum/pos_sum)\n",
    "        \n",
    "print(top10acc, 'mean: ', np.mean(top10acc))"
   ]
  },
  {
   "cell_type": "code",
   "execution_count": 119,
   "id": "5fd35aa9",
   "metadata": {},
   "outputs": [
    {
     "name": "stdout",
     "output_type": "stream",
     "text": [
      "[0.038461538461538464, 0.0, 0.08, 0.04597701149425287, 0.03636363636363636] mean:  0.04016043726388554\n"
     ]
    }
   ],
   "source": [
    "# RANDOM SHUFFLE LABELS\n",
    "loci_sim = np.loadtxt(klebsiella_dir+'/kaptive_loci_score_matrix.txt')\n",
    "rf = RandomForestClassifier(n_estimators=200, class_weight='balanced')\n",
    "loci_cv = KFold(n_splits=5, shuffle=True)\n",
    "frame_array = np.asarray(frame.iloc[:,:-2])\n",
    "labels = np.asarray(frame.iloc[:,-2])\n",
    "random.shuffle(labels)\n",
    "fscores = []\n",
    "for train_index, test_index in loci_cv.split(loci_sim):\n",
    "    # construct training and test dataframe\n",
    "    train_index_frame = []; test_index_frame = []\n",
    "    for i, row_id in enumerate(frame['row']):\n",
    "        if row_id in train_index:\n",
    "            train_index_frame.append(i)\n",
    "        else:\n",
    "            test_index_frame.append(i)\n",
    "    frame_train, frame_test = frame_array[train_index_frame], frame_array[test_index_frame]\n",
    "    labels_train, labels_test = labels[train_index_frame], labels[test_index_frame]\n",
    "    \n",
    "    # fit a model\n",
    "    rf.fit(frame_train, labels_train)\n",
    "    \n",
    "    # make predictions and test\n",
    "    preds = rf.predict(frame_test)\n",
    "    fscores.append(f1_score(labels_test, preds))\n",
    "print(fscores, 'mean: ', np.mean(fscores))"
   ]
  },
  {
   "cell_type": "raw",
   "id": "tutorial-thread",
   "metadata": {},
   "source": [
    "# inner 4-fold cross-validation to tune hyperparameters\n",
    "lr_l1 = GridSearchCV(pipe_lr_l1, cv=inner_cv, param_grid=param_grid_lr, scoring=score_acc)\n",
    "lr_l2 = GridSearchCV(pipe_lr_l2, cv=inner_cv, param_grid=param_grid_lr, scoring=score_acc)\n",
    "rf = GridSearchCV(pipe_rf, cv=inner_cv, param_grid=param_grid_rf, scoring=score_acc)\n",
    "gb = GridSearchCV(pipe_gb, cv=inner_cv, param_grid=param_grid_gb, scoring=score_acc)\n",
    "\n",
    "# outer 4-fold cross-validation to compute performance\n",
    "performances = {}\n",
    "features['class'] = np.asarray(dummies) # add target column\n",
    "models = {'LDA': pipe_lda, 'logistic (L1)': lr_l1, 'logistic (L2)': lr_l2, 'RF': rf, 'GB': gb}\n",
    "for model_name, model in models.items():\n",
    "    perf_acc = cross_val_score(model, features.iloc[:, :-1], features.iloc[:,-1], scoring=score_acc, cv=outer_cv, verbose=False)\n",
    "    perf_P = cross_val_score(model, features.iloc[:, :-1], features.iloc[:,-1], scoring=score_P, cv=outer_cv, verbose=False)\n",
    "    perf_R = cross_val_score(model, features.iloc[:, :-1], features.iloc[:,-1], scoring=score_R, cv=outer_cv, verbose=False)\n",
    "    perf_f1 = cross_val_score(model, features.iloc[:, :-1], features.iloc[:,-1], scoring=score_f1, cv=outer_cv, verbose=False)\n",
    "    performances[model_name] = {'Acc':np.mean(perf_acc), 'P':np.mean(perf_P), 'R':np.mean(perf_R), 'f1':np.mean(perf_f1)}"
   ]
  },
  {
   "cell_type": "markdown",
   "id": "9438ff47",
   "metadata": {},
   "source": [
    "##### Structured-output learning"
   ]
  },
  {
   "cell_type": "code",
   "execution_count": 37,
   "id": "2aca4c7b",
   "metadata": {},
   "outputs": [],
   "source": [
    "rbpbase = pd.read_csv(data_dir+'/RBPbase_250621_klebsiella_pneumoniae.csv')\n",
    "locus_em = pd.read_csv(data_dir+'/locus_embeddings.csv', index_col=0)\n",
    "rbp_em = pd.read_csv(data_dir+'/protein_embeddings.csv', index_col=0)"
   ]
  },
  {
   "cell_type": "code",
   "execution_count": 12,
   "id": "f93e89c2",
   "metadata": {},
   "outputs": [
    {
     "name": "stdout",
     "output_type": "stream",
     "text": [
      "[121.73740733  31.15853281  98.09647206  67.71553523  41.61800365]\n"
     ]
    }
   ],
   "source": [
    "# k-nearest neighbors for multioutput regression\n",
    "from sklearn.datasets import make_regression\n",
    "from sklearn.neighbors import KNeighborsRegressor\n",
    "import numpy as np\n",
    "# create datasets\n",
    "X, y = make_regression(n_samples=1000, n_features=10, n_informative=5, n_targets=5, random_state=1, noise=0.5)\n",
    "# define model\n",
    "model = KNeighborsRegressor()\n",
    "# fit model\n",
    "model.fit(X, y)\n",
    "# make a prediction\n",
    "row = [0.21947749, 0.32948997, 0.81560036, 0.440956, -0.0606303, -0.29257894, -0.2820059, -0.00290545, 0.96402263, 0.04992249]\n",
    "yhat = model.predict([row])\n",
    "# summarize prediction\n",
    "print(yhat[0])"
   ]
  },
  {
   "cell_type": "code",
   "execution_count": 106,
   "id": "3daab495",
   "metadata": {},
   "outputs": [],
   "source": [
    "# construct simple X and Y off of the embeddings\n",
    "X = np.zeros((rbpbase.shape[0], locus_em.shape[1]))\n",
    "host_names = list(locus_em.index)\n",
    "for row, host in enumerate(rbpbase['host_accession']):\n",
    "    index = [i for i, x in enumerate(host_names) if host in x][0]\n",
    "    X[row, :] = locus_em.iloc[index, :]\n",
    "    \n",
    "from sklearn.decomposition import PCA\n",
    "pca = PCA(n_components=5)\n",
    "Y = pca.fit_transform(rbp_em)"
   ]
  },
  {
   "cell_type": "code",
   "execution_count": 107,
   "id": "59a0ed5d",
   "metadata": {},
   "outputs": [],
   "source": [
    "# fit a linear model without jointXY\n",
    "W1 = np.linalg.inv(np.dot(X.T, X))\n",
    "W2 = np.dot(X.T, Y)\n",
    "W = np.dot(W1, W2)"
   ]
  },
  {
   "cell_type": "code",
   "execution_count": 110,
   "id": "81138efc",
   "metadata": {},
   "outputs": [
    {
     "name": "stdout",
     "output_type": "stream",
     "text": [
      "accuracy:  0.0332667997338656\n"
     ]
    }
   ],
   "source": [
    "# make predictions & compute naive accuracy\n",
    "acc = 0\n",
    "for row in range(X.shape[0]):\n",
    "    yhat = np.dot(W.T, X[row,:])\n",
    "    distances = [sum(abs(Y[i,:]-yhat)) for i in range(Y.shape[0])]\n",
    "    #prediction = distances.index(min(distances))\n",
    "    preds = np.argsort(distances)[:20]\n",
    "    if row in preds:\n",
    "        acc += 1\n",
    "print('accuracy: ', acc/X.shape[0])"
   ]
  },
  {
   "cell_type": "code",
   "execution_count": null,
   "id": "0cb6aef5",
   "metadata": {},
   "outputs": [],
   "source": [
    "from sklearn.neighbors import KNeighborsRegressor\n",
    "model = KNeighborsRegressor()\n",
    "model.fit(X, Y)\n",
    "\n",
    "# make predictions & compute naive accuracy\n",
    "acc = 0\n",
    "for row in range(X.shape[0]):\n",
    "    yhat = model.predict([X[row,:]])\n",
    "    distances = [sum(abs(Y[i,:]-yhat)) for i in range(Y.shape[0])]\n",
    "    preds = np.argsort(distances)[:10]\n",
    "    if row in preds:\n",
    "        acc += 1\n",
    "print('accuracy: ', acc/X.shape[0])"
   ]
  },
  {
   "cell_type": "code",
   "execution_count": 22,
   "id": "3f4674dd",
   "metadata": {},
   "outputs": [
    {
     "data": {
      "text/plain": [
       "(1000, 5)"
      ]
     },
     "execution_count": 22,
     "metadata": {},
     "output_type": "execute_result"
    }
   ],
   "source": [
    "jointXY = ...\n",
    "\n",
    "# fit on the data\n",
    "W1 = np.linalg.inv(np.dot(jointXY.T, jointXY))\n",
    "W2 = np.dot(jointXY.T, y)\n",
    "W = np.dot(W1, W2)\n",
    "\n",
    "# make preds for new data: for every X in the testset, we construct a jointXY_test\n",
    "for row in range(Y.shape[1]):\n",
    "    Yi = Y[row, :]\n",
    "    "
   ]
  },
  {
   "cell_type": "markdown",
   "id": "residential-aging",
   "metadata": {},
   "source": [
    "## X - Out of use"
   ]
  },
  {
   "cell_type": "raw",
   "id": "promising-omaha",
   "metadata": {},
   "source": [
    "def blast_local_python(file_name, data_dir):\n",
    "    \"\"\"\n",
    "    This function does pairwise BLASTs between all sequences of an input FASTA file (Kaptive results)\n",
    "    \n",
    "    Input:\n",
    "    - file_name: string of FASTA file to pairwise BLAST\n",
    "    \n",
    "    To do:\n",
    "    - change to kaptive_file_names -> no big fasta needed, no need to make small fasta's first.\n",
    "    \"\"\"\n",
    "    \n",
    "    sequence_list = []\n",
    "    for record in SeqIO.parse(data_dir+'/'+file_name, 'fasta'):\n",
    "        sequence_list.append(str(record.seq))\n",
    "    score_matrix = np.zeros((len(sequence_list), len(sequence_list)))\n",
    "\n",
    "    for i in range(len(sequence_list)-1):\n",
    "        # make fasta sequence 1\n",
    "        fasta1 = open(data_dir+'/sequence1.fasta', 'w')\n",
    "        fasta1.write('>sequence1'+'\\n'+sequence_list[i]+'\\n')\n",
    "        fasta1.close()\n",
    "        \n",
    "        for j in range(i, len(sequence_list)):\n",
    "            # make fasta sequence 2\n",
    "            fasta2 = open(data_dir+'/sequence2.fasta', 'w')\n",
    "            fasta2.write('>sequence2'+'\\n'+sequence_list[j]+'\\n')\n",
    "            fasta2.close()\n",
    "            \n",
    "            # perform BLAST\n",
    "            blastp_cline = NcbiblastpCommandline(query=data_dir+'/sequence1.fasta', subject=data_dir+'/sequence2.fasta', \n",
    "                                                 evalue=10, outfmt=5, out=data_dir+'/BLAST_results.xml')\n",
    "            stdout, stderr = blastp_cline()\n",
    "            \n",
    "            # get results\n",
    "            blast_result = open(data_dir+'/BLAST_results.xml')\n",
    "            blast_record = NCBIXML.read(blast_result)\n",
    "            try:\n",
    "                alignment = blast_record.alignments[0]\n",
    "                hsp = alignment.hsps[0]\n",
    "                identity = (hsp.identities/hsp.align_length)*100\n",
    "            except IndexError:\n",
    "                identity = 0\n",
    "                pass\n",
    "            \n",
    "            # write to score matrix\n",
    "            score_matrix[i,j] = identity\n",
    "            \n",
    "    score_matrix = score_matrix + score_matrix.transpose()\n",
    "    score_matrix = score_matrix - np.diag(np.diag(score_matrix))  \n",
    "    \n",
    "    os.remove(data_dir+'/sequence1.fasta')\n",
    "    os.remove(data_dir+'/sequence2.fasta')\n",
    "    \n",
    "    return score_matrix"
   ]
  }
 ],
 "metadata": {
  "kernelspec": {
   "display_name": "Python 3 (ipykernel)",
   "language": "python",
   "name": "python3"
  },
  "language_info": {
   "codemirror_mode": {
    "name": "ipython",
    "version": 3
   },
   "file_extension": ".py",
   "mimetype": "text/x-python",
   "name": "python",
   "nbconvert_exporter": "python",
   "pygments_lexer": "ipython3",
   "version": "3.9.7"
  }
 },
 "nbformat": 4,
 "nbformat_minor": 5
}
