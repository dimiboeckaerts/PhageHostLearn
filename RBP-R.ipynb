{
 "cells": [
  {
   "cell_type": "markdown",
   "id": "chronic-establishment",
   "metadata": {},
   "source": [
    "# Klebsiella RBP-R prediction framework\n",
    "\n",
    "This is the main notebook for the Klebsiella phage-host interaction prediction based on phage RBPs and Klebsiella's K-locus. The idea is to start with something simple and add on to it iteratively.\n",
    "\n",
    "The first simple framework is as follows:\n",
    "\n",
    "\n",
    "\n",
    "\n",
    "1. [K locus identification](#Klocus)\n",
    "2. [Transform the locus into an embedding using Word2Vec](#locusembed)\n",
    "3. [Transform the RBP sequence into an embedding](#rbpembed) using UniRep, ProtTransBert, SeqVec, ...\n",
    "4. [Construct reliable negative interactions](#neginteractions) by random sampling with constraints that make sense (use RBPs and loci to create similarity scores)\n",
    "5. [Exploring the interactions space](#interactions) for insight and further improvement\n",
    "6. [Concatenate and train an RF model](#models) via cross-validation\n",
    "\n",
    "\n",
    "After locus identification, we need an extra section for processing. Make one dataframe with the RBPs and their corresponding loci, and then process them further:\n",
    "- compute B-ratio: if RBP B-ratio < 0.3, delete that interaction\n",
    "- compute the similarity matrices\n",
    "- loop over the RBP similarities: if that particular RBP is identical to another, and the loci are as well, then delete the interaction (only once, not both of them!)\n",
    "- if RBPs identical, but loci very different, check their other RBPs -> if both have 2nd, delete the identical ones (both of them, don't interact with K-locus)\n",
    "\n",
    "Only then compute embeddings and sample negative interactions, starting from the dataframe of RBP-locus and their adjusted sim matrices (adjusted for the ones that were deleted)"
   ]
  },
  {
   "cell_type": "markdown",
   "id": "catholic-brush",
   "metadata": {},
   "source": [
    "## 0 - Libraries and directories"
   ]
  },
  {
   "cell_type": "code",
   "execution_count": 1,
   "id": "drawn-centre",
   "metadata": {},
   "outputs": [],
   "source": [
    "import os\n",
    "import math\n",
    "import random\n",
    "import subprocess\n",
    "import numpy as np\n",
    "import pandas as pd\n",
    "import seaborn as sns\n",
    "import matplotlib.pyplot as plt\n",
    "from tqdm import tqdm\n",
    "from Bio import SeqIO\n",
    "from Bio.Blast import NCBIWWW, NCBIXML\n",
    "from sklearn.metrics import make_scorer, f1_score\n",
    "from sklearn.ensemble import RandomForestClassifier\n",
    "from Bio.Blast.Applications import NcbiblastpCommandline\n",
    "from sklearn.model_selection import GridSearchCV, StratifiedKFold, cross_val_score\n",
    "#from bio_embeddings.embed import Word2VecEmbedder, ProtTransBertBFDEmbedder, SeqVecEmbedder\n",
    "%matplotlib inline"
   ]
  },
  {
   "cell_type": "code",
   "execution_count": 2,
   "id": "together-constitution",
   "metadata": {},
   "outputs": [],
   "source": [
    "# set project directory (to locate Kaptive), data directory and results directory\n",
    "project_dir = '/Users/dimi/Documents/GitHub_Local/PhageHostLearning'\n",
    "data_dir = '/Users/dimi/GoogleDrive/PhD/4_PHAGEHOST_LEARNING/42_DATA/Klebsiella_RBP_data'\n",
    "results_dir = '/Users/dimi/GoogleDrive/PhD/4_PHAGEHOST_LEARNING/43_RESULTS'\n",
    "cdpath = '/opt/anaconda3/pkgs/cd-hit-4.8.1-hd9629dc_0/bin'"
   ]
  },
  {
   "cell_type": "markdown",
   "id": "familiar-wagner",
   "metadata": {},
   "source": [
    "## 1 - Identify the K locus using Kaptive <a name=\"Klocus\"></a>"
   ]
  },
  {
   "cell_type": "code",
   "execution_count": 3,
   "id": "julian-country",
   "metadata": {},
   "outputs": [],
   "source": [
    "def kaptive_python(project_dir, data_dir, database_name, file_name):\n",
    "    \"\"\"\n",
    "    This function is a wrapper for the Kaptive Python file to be executed from another Python script.\n",
    "    This wrapper runs on a single FASTA file (one genome) and also produces a single FASTA file.\n",
    "    \n",
    "    Input:\n",
    "    - project_directory: the location of kaptive.py (preferrably in the same project folder)\n",
    "    - data_directory: location of the database and sequence file(s) to loop over\n",
    "    - database_name: string of the name of the database (.gbk file)\n",
    "    - file_name: string of the file name (FASTA)\n",
    "    \n",
    "    Output:\n",
    "    - a single fasta file of the locus (single piece or multiple ones) per genome\n",
    "    \"\"\"\n",
    "    cd_command = 'cd ' + project_dir\n",
    "    \n",
    "    kaptive_command = 'python kaptive.py -a ' + data_dir + '/' + file_name + ' -k ' + data_dir + '/' + database_name + ' -o ' + data_dir + '/ --no_table --no_json'\n",
    "    command = cd_command + '; ' + kaptive_command\n",
    "    ssprocess = subprocess.Popen(command, shell=True, stdout=subprocess.PIPE, stderr=subprocess.STDOUT)\n",
    "    ssout, sserr = ssprocess.communicate()\n",
    "    kaptive_file_name = 'kaptive_results_'+file_name\n",
    "    \n",
    "    return kaptive_file_name, ssout, sserr"
   ]
  },
  {
   "cell_type": "code",
   "execution_count": 6,
   "id": "awful-sally",
   "metadata": {},
   "outputs": [],
   "source": [
    "def compute_loci(klebsiella_genomes, project_dir, data_dir, database_name):\n",
    "    \"\"\"\n",
    "    This function uses kaptive_python to loop over all klebsiella_genomes, construct FASTA files for\n",
    "    each of them and identify their loci. Importantly, the file_names are later used to construct embeddings,\n",
    "    so need to be identifiable (accession numbers).\n",
    "    \n",
    "    EITHER work with phagebase_1 genomes, or with RBPbase accession numbers, what's best?\n",
    "    \n",
    "    Input:\n",
    "    - klebsiella_genomes: Pandas DataFrame of genomes w/ following column names:\n",
    "        'accession', 'sequence' and 'number_of_prophages'\n",
    "    - project_directory: the location of kaptive.py (preferrably in the same project folder)\n",
    "    - data_directory: location of the database and sequence file(s) to loop over\n",
    "    - results_directory: location to store results\n",
    "    - database_name: string of the name of the database (.gbk file)\n",
    "    \"\"\"\n",
    "    kaptive_file_names = []\n",
    "    pbar = tqdm(total=klebsiella_genomes.shape[0])\n",
    "    \n",
    "    # loop over klebsiella_genomes\n",
    "    for i, genome in enumerate(klebsiella_genomes['sequence']):\n",
    "        #if klebsiella_genomes['number_of_prophages'][i] > 0: # no filter: rows/columns consistent down the road\n",
    "        acc = klebsiella_genomes['accession'][i]\n",
    "\n",
    "        # make FASTA file\n",
    "        file_name = acc+'.fasta'\n",
    "        fasta = open(data_dir+'/'+file_name, 'w')\n",
    "        fasta.write('>'+acc+'\\n'+genome+'\\n')\n",
    "        fasta.close()\n",
    "\n",
    "        # run Kaptive\n",
    "        kaptive_file, _, _ = kaptive_python(project_dir, data_dir, database_name, file_name)\n",
    "        kaptive_file_names.append(kaptive_file)\n",
    "\n",
    "        # delete FASTA file\n",
    "        os.remove(data_dir+'/'+file_name)\n",
    "            \n",
    "        # update progress\n",
    "        pbar.update(1)\n",
    "            \n",
    "    pbar.close()\n",
    "    return kaptive_file_names"
   ]
  },
  {
   "cell_type": "code",
   "execution_count": 9,
   "id": "innovative-cowboy",
   "metadata": {},
   "outputs": [
    {
     "name": "stderr",
     "output_type": "stream",
     "text": [
      "100%|██████████| 376/376 [13:00:28<00:00, 124.54s/it]   \n"
     ]
    }
   ],
   "source": [
    "database = 'Klebsiella_k_locus_primary_reference.gbk'\n",
    "genomes = pd.read_csv(data_dir+'/phagebase1_klebsiella_pneumoniae.csv')\n",
    "names = compute_loci(genomes, project_dir, data_dir, database) # results in the same data_dir"
   ]
  },
  {
   "cell_type": "markdown",
   "id": "posted-continuity",
   "metadata": {},
   "source": [
    "## 2 - Transform locus into embeddings<a name=\"locusembed\"></a>"
   ]
  },
  {
   "cell_type": "code",
   "execution_count": 13,
   "id": "herbal-madness",
   "metadata": {},
   "outputs": [],
   "source": [
    "def locus_embeddings(kaptive_file_names, data_dir):\n",
    "    \"\"\"\n",
    "    This functions computes Word2Vec embeddings for bacterial genomic loci. It uses the bio-embeddings\n",
    "    package together with BioPython to transform fasta sequences of bacterial loci into numerical embeddings.\n",
    "    \n",
    "    WARNING: running this on a personal laptop without GPU can be slow (not advised). Best to start a Google\n",
    "    Colab notebook and run the computations in the cloud.\n",
    "    \n",
    "    Input:\n",
    "    - kaptive_file_names: list of fasta filenames of bacterial loci (output of Kaptive)\n",
    "    - data_dir: location of the sequence file(s) to loop over\n",
    "    - results_dir: directory to store the resulting embeddings in.\n",
    "    \n",
    "    Output:\n",
    "    - embeddings: Pandas DataFrame (as .csv file) with file names and their corresponding embedding\n",
    "    \"\"\"\n",
    "    embedder = Word2VecEmbedder()\n",
    "    embeddings_list = []\n",
    "\n",
    "    for name in tqdm(kaptive_file_names):\n",
    "        locus_sequence = ''\n",
    "        # one or multiple records in fasta file\n",
    "        for record in SeqIO.parse(data_dir+'/'+name, 'fasta'):\n",
    "            locus_sequence += str(record.seq)\n",
    "        \n",
    "        # compute embedding\n",
    "        embedding = embedder.embed(locus_sequence)\n",
    "        reduced_embedding = embedder.reduce_per_protein(embedding)\n",
    "        embeddings_list.append(reduced_embedding)\n",
    "        \n",
    "    embeddings_df = pd.concat([pd.DataFrame(kaptive_file_names), pd.DataFrame(embeddings_list)], axis=1)\n",
    "    embeddings_df.to_csv(data_dir+'/locus_embeddings.csv', index=False)\n",
    "    \n",
    "    return      "
   ]
  },
  {
   "cell_type": "code",
   "execution_count": 14,
   "id": "acting-lincoln",
   "metadata": {},
   "outputs": [
    {
     "name": "stderr",
     "output_type": "stream",
     "text": [
      "100%|██████████| 376/376 [00:29<00:00, 12.69it/s]\n"
     ]
    }
   ],
   "source": [
    "locus_embeddings(names, data_dir, data_dir)"
   ]
  },
  {
   "cell_type": "markdown",
   "id": "colored-spencer",
   "metadata": {},
   "source": [
    "## 3 - Tranform RBP sequences into embeddings <a name=\"rbpembed\"></a>"
   ]
  },
  {
   "cell_type": "code",
   "execution_count": 74,
   "id": "provincial-antenna",
   "metadata": {},
   "outputs": [],
   "source": [
    "def RBPbase_identifiers(rbp_data, data_dir):\n",
    "    \"\"\"\n",
    "    This function adds unique IDs to all RBP sequences in the RBP database. As the unit for further\n",
    "    processing is an RBP sequence, each RBP sequence should have a unique identifier.\n",
    "\n",
    "    Input:\n",
    "    - rbp_data: name of the RBP database (string)\n",
    "    - data_dir: location of the database and where the fasta files will be stored (string)\n",
    "\n",
    "    Output:\n",
    "    - adjusted RBPbase (extra column with unique_ID)\n",
    "    \"\"\"\n",
    "    if data_dir != '':\n",
    "        data_dir = data_dir+'/'\n",
    "\n",
    "    RBPbase = pd.read_csv(data_dir+rbp_data)\n",
    "    unique_id_list = []\n",
    "    phage_id_list = []\n",
    "    for i, phage_nr in enumerate(RBPbase['phage_nr']):\n",
    "        phage_id = str(phage_nr)+str(RBPbase['host'][i])\n",
    "        # first RBP\n",
    "        if phage_id not in phage_id_list:\n",
    "            count = 0\n",
    "            phage_id_list.append(phage_id)\n",
    "            unique_id_list.append(phage_id+'_RBP'+str(count))\n",
    "        # second, third, ... RBP\n",
    "        else:\n",
    "            count += 1\n",
    "            unique_id_list.append(phage_id+'_RBP'+str(count))\n",
    "\n",
    "    RBPbase['unique_ID'] = unique_id_list\n",
    "    RBPbase.to_csv(data_dir+rbp_data)\n",
    "\n",
    "    return"
   ]
  },
  {
   "cell_type": "code",
   "execution_count": 83,
   "id": "faced-lodge",
   "metadata": {},
   "outputs": [],
   "source": [
    "def RBPbase_species_filter(rbp_data, data_dir, species):\n",
    "    \"\"\"\n",
    "    This function creates a subset of RBPbase for a specific host species for further processing.\n",
    "\n",
    "    Input:\n",
    "    - rbp_data: name of the RBP database (string)\n",
    "    - data_dir: location of the database and where the fasta files will be stored (string)\n",
    "    - species: the single species to create a subset for\n",
    "\n",
    "    Output:\n",
    "    - subset RBPbase\n",
    "    \"\"\"\n",
    "    if data_dir != '':\n",
    "        data_dir = data_dir+'/'\n",
    "    RBPbase = pd.read_csv(data_dir+rbp_data)\n",
    "    to_delete = [i for i, host in enumerate(RBPbase['host']) if host != species]\n",
    "    RBPbase = RBPbase.drop(to_delete, axis=0)\n",
    "    RBPbase = RBPbase.reset_index(drop=True)\n",
    "    filepieces = rbp_data.split('.')\n",
    "    RBPbase.to_csv(data_dir+filepieces[0]+'_'+species+'.'+filepieces[1], index=False)\n",
    "    \n",
    "    return"
   ]
  },
  {
   "cell_type": "code",
   "execution_count": 37,
   "id": "satisfactory-signal",
   "metadata": {},
   "outputs": [],
   "source": [
    "def RBPbase_fasta_processing(rbp_data, data_dir):\n",
    "    \"\"\"\n",
    "    This function processes the RBP database from a Pandas DataFrame to individual fasta files that can be\n",
    "    looped over to compute protein embeddings.\n",
    "\n",
    "    Input:\n",
    "    - rbp_data: name of the RBP DataFrame (string) in the data_dir, with protein sequences in column 'protein_seq'\n",
    "    - data_dir: location of the database and where the fasta files will be stored (string)\n",
    "\n",
    "    Output:\n",
    "    - fasta files of each of the RBP sequences in the database\n",
    "    - big fasta file of all sequences together (for pairwise alignments later)\n",
    "    \"\"\"\n",
    "    if data_dir != '':\n",
    "        data_dir = data_dir+'/'\n",
    "    if results_dir != '':\n",
    "        results_dir = results_dir+'/'\n",
    "\n",
    "    rbp_file_names = []\n",
    "    RBPbase = pd.read_csv(data_dir+rbp_data)\n",
    "    big_fasta = open(data_dir+rbp_data.split('.')[0]+'.fasta', 'w')\n",
    "    for i, sequence in enumerate(RBPbase['protein_seq']):\n",
    "        unique_id = RBPbase['unique_ID'][i]\n",
    "        rbp_file_names.append(unique_id+'.fasta')\n",
    "        \n",
    "        # write individual fasta\n",
    "        fasta = open(data_dir+unique_id+'.fasta', 'w')\n",
    "        fasta.write('>'+unique_id+'\\n'+sequence+'\\n')\n",
    "        fasta.close()\n",
    "        \n",
    "        # write big fasta\n",
    "        big_fasta.write('>'+unique_id+'\\n'+sequence+'\\n')\n",
    "    big_fasta.close()\n",
    "\n",
    "    return rbp_file_names"
   ]
  },
  {
   "cell_type": "code",
   "execution_count": 36,
   "id": "anticipated-crack",
   "metadata": {},
   "outputs": [],
   "source": [
    "def protein_embeddings(rbp_file_names, data_dir):\n",
    "    \"\"\"\n",
    "    This functions computes ProttransBERT embeddings for phage RBPs. It uses the bio-embeddings\n",
    "    package together with BioPython to transform fasta sequences of phage RBPs into numerical embeddings.\n",
    "    \n",
    "    WARNING: running this on a personal laptop without GPU is very slow and not advised. Best to start a Google\n",
    "    Colab or Kaggle notebook and run the computations in the cloud.\n",
    "    \n",
    "    Input:\n",
    "    - rbp_file_names: list of fasta filenames of phage RBPs\n",
    "    - data_dir: location of the sequence file(s) to loop over\n",
    "    - results_dir: directory to store the resulting embeddings in\n",
    "    \n",
    "    Output:\n",
    "    - embeddings: Pandas DataFrame (as .csv file) with file names and their corresponding embedding\n",
    "    \"\"\"\n",
    "    embedder = ProtTransBertBFDEmbedder()\n",
    "    embeddings_list = []\n",
    "    \n",
    "    if data_dir != '':\n",
    "        data_dir = data_dir+'/'\n",
    "\n",
    "    for name in tqdm(rbp_file_names):\n",
    "        for record in SeqIO.parse(data_dir+name, 'fasta'):\n",
    "            rbp_sequence = str(record.seq)\n",
    "        \n",
    "        embedding = embedder.embed(rbp_sequence)\n",
    "        reduced_embedding = embedder.reduce_per_protein(embedding)\n",
    "        embeddings_list.append(reduced_embedding)\n",
    "        \n",
    "    embeddings_df = pd.concat([pd.DataFrame(rbp_file_names), pd.DataFrame(embeddings_list)], axis=1)\n",
    "    embeddings_df.to_csv(data_dir+'protein_embeddings.csv', index=False)\n",
    "    \n",
    "    return  "
   ]
  },
  {
   "cell_type": "code",
   "execution_count": 65,
   "id": "spanish-repository",
   "metadata": {},
   "outputs": [],
   "source": [
    "RBPbase_identifiers('RBPbase_250621.csv', data_dir)\n",
    "RBPbase_species_filter('RBPbase_250621.csv', data_dir, 'klebsiella_pneumoniae')\n",
    "rbp_file_names = RBPbase_fasta_processing('RBPbase_250621_klebsiella_pneumoniae.csv', data_dir)\n",
    "pd.DataFrame(rbp_file_names, columns=['names']).to_csv(data_dir+'/rbp_file_names.csv', index=False)\n",
    "#protein_embeddings(rbp_file_names, data_dir) # do in Google Colab or Kaggle"
   ]
  },
  {
   "cell_type": "markdown",
   "id": "corrected-scholar",
   "metadata": {},
   "source": [
    "## 4 - Construct reliable negative interactions <a name=\"neginteractions\"></a>"
   ]
  },
  {
   "cell_type": "code",
   "execution_count": 4,
   "id": "personal-painting",
   "metadata": {},
   "outputs": [],
   "source": [
    "def get_kaptive_file_names(klebsiella_genomes):\n",
    "    \"\"\"\n",
    "    This function is a support function to recollect all kaptive file names without\n",
    "    having to recompute all loci.\n",
    "    \n",
    "    Input: klebsiella genomes DataFrame (columns: 'accession', 'sequence' and 'number_of_prophages')\n",
    "    Output: list kaptive_file_names\n",
    "    \"\"\"\n",
    "    kaptive_file_names = []\n",
    "    for acc in klebsiella_genomes['accession']:\n",
    "        file_name = 'kaptive_results_'+acc+'.fasta'\n",
    "        kaptive_file_names.append(file_name)\n",
    "    return kaptive_file_names"
   ]
  },
  {
   "cell_type": "code",
   "execution_count": 5,
   "id": "random-supply",
   "metadata": {},
   "outputs": [],
   "source": [
    "def kaptive_fasta_processing(kaptive_file_names, data_dir):\n",
    "    \"\"\"\n",
    "    This function processes all the separate bacterial loci FASTA files into one merged FASTA file for \n",
    "    further processing (pairwise alignments).\n",
    "    \n",
    "    Input:\n",
    "    - kaptive_file_names: list of fasta filenames of bacterial loci (output of Kaptive)\n",
    "    - data_dir: location of the sequence file(s) to loop over\n",
    "    \"\"\"\n",
    "    kaptive_fasta_all = data_dir+'/kaptive_results_all.fasta'\n",
    "    big_fasta = open(kaptive_fasta_all, 'w')\n",
    "    for name in kaptive_file_names:\n",
    "        kaptive_id = name.split('.fasta')[0].split('kaptive_results_')[1]\n",
    "        locus_sequence = ''\n",
    "        for record in SeqIO.parse(data_dir+'/'+name, 'fasta'):\n",
    "            locus_sequence += str(record.seq)   \n",
    "        big_fasta.write('>'+kaptive_id+'\\n'+locus_sequence+'\\n')\n",
    "    big_fasta.close()\n",
    "\n",
    "    return kaptive_fasta_all"
   ]
  },
  {
   "cell_type": "code",
   "execution_count": 6,
   "id": "nearby-syndicate",
   "metadata": {},
   "outputs": [],
   "source": [
    "def pairwise_alignment_julia(file_name, align_type, project_dir, n_threads='4'):\n",
    "    \"\"\"\n",
    "    Input:\n",
    "    - file_name: string of path to the FASTA file to loop over\n",
    "    - align_type: type of alignment to execute ('DNA' or 'protein')\n",
    "    - project_dir: project directory with julia file in it\n",
    "    - n_threads: number of threads to use for multithreading (as string; default=4)\n",
    "    \n",
    "    Output:\n",
    "    - a score matrix of pairwise ID%, named file_name + '_score_matrix.txt'\n",
    "    \"\"\"\n",
    "    threads_command = 'export JULIA_NUM_THREADS=' + n_threads\n",
    "    alias_command = 'alias julia=\"/Applications/Julia-1.5.app/Contents/Resources/julia/bin/julia\"'\n",
    "    cd_command = 'cd ' + project_dir\n",
    "    pw_command = 'julia pairwise_alignment.jl ' + file_name + ' ' + align_type\n",
    "    \n",
    "    command = threads_command + '; ' + alias_command + '; ' + cd_command + '; ' + pw_command\n",
    "    ssprocess = subprocess.Popen(command, shell=True, stdout=subprocess.PIPE, stderr=subprocess.STDOUT)\n",
    "    ssout, sserr = ssprocess.communicate()\n",
    "    \n",
    "    return ssout, sserr"
   ]
  },
  {
   "cell_type": "code",
   "execution_count": 68,
   "id": "brave-north",
   "metadata": {},
   "outputs": [],
   "source": [
    "def cdhit_est_python(cdhit_path, data_dir, kaptive_file_names, kaptive_fasta, output_file, c=0.90, n=7):\n",
    "    \"\"\"\n",
    "    This function executes CD-HIT-EST (DNA sequences) clustering commands from within Python. \n",
    "    To install CD-HIT, do so via conda: conda install -c bioconda cd-hit.\n",
    "    \n",
    "    Input:\n",
    "        - cdhit_path: path to CD-HIT software\n",
    "        - kaptive_file_names: list of file names for ordering\n",
    "        - kaptive_fasta: FASTA file with locus sequences\n",
    "        - output file: path to output (will be one FASTA file and one .clstr file)\n",
    "        - c: threshold on identity for clustering\n",
    "        - n: word length (7 for thresholds between 0.88 and 0.9, DNA level)\n",
    "    \"\"\"\n",
    "    \n",
    "    # perform clustering\n",
    "    cd_command = 'cd ' + cdhit_path\n",
    "    cluster_command = 'cd-hit-est -i ' + kaptive_fasta + ' -o ' + output_file + ' -c ' + str(c) + ' -n ' + str(n) + ' -d 0'\n",
    "    command = cd_command + '; ' + cluster_command\n",
    "    process = subprocess.Popen(command, shell=True, stdout=subprocess.PIPE, stderr=subprocess.STDOUT)\n",
    "    stdout, stderr = process.communicate()\n",
    "    \n",
    "    # load results and process\n",
    "    score_matrix = np.zeros((len(kaptive_file_names), len(kaptive_file_names)))\n",
    "    clusters = open(output_file+'.clstr')\n",
    "    cluster_iter = 0\n",
    "    cluster_accessions = []\n",
    "    for line in clusters.readlines():\n",
    "        # new cluster\n",
    "        if line[0] == '>':\n",
    "            # finish old cluster if not first one\n",
    "            if (cluster_iter > 0) and (len(cluster_accessions) > 1):\n",
    "                indices = [kaptive_file_names.index('kaptive_results_'+acc+'.fasta') for acc in cluster_accessions]\n",
    "                for i in range(len(indices)-1):\n",
    "                    for j in range(i, len(indices)):\n",
    "                        if indices[i] != indices[j]:\n",
    "                            score_matrix[indices[i],indices[j]], score_matrix[indices[j],indices[i]] = c, c\n",
    "                \n",
    "            # initiate new cluster\n",
    "            cluster_accessions = []\n",
    "            cluster_iter += 1\n",
    "            \n",
    "        # in a cluster\n",
    "        else:\n",
    "            acc = line.split('>')[1].split('...')[0]\n",
    "            cluster_accessions.append(acc)\n",
    "            \n",
    "    # finish last cluster\n",
    "    if len(cluster_accessions) > 1:\n",
    "        indices = [kaptive_file_names.index('kaptive_results_'+acc+'.fasta') for acc in cluster_accessions]\n",
    "        for i in range(len(indices)-1):\n",
    "            for j in range(i, len(indices)):\n",
    "                score_matrix[i,j], score_matrix[j,i] = c, c\n",
    "    \n",
    "    # assess identicals\n",
    "    np.fill_diagonal(score_matrix, 1)\n",
    "    for i in range(len(kaptive_file_names)-1):\n",
    "        for j in range(i, len(kaptive_file_names)):\n",
    "            seq_li = ''; seq_lj = ''\n",
    "            for record in SeqIO.parse(data_dir+'/'+kaptive_file_names[i], 'fasta'):\n",
    "                seq_li += str(record.seq)\n",
    "            for record in SeqIO.parse(data_dir+'/'+kaptive_file_names[j], 'fasta'):\n",
    "                seq_lj += str(record.seq)\n",
    "            if seq_li == seq_lj:\n",
    "                score_matrix[i,j], score_matrix[j,i] = 1, 1\n",
    "           \n",
    "    np.savetxt(output_file+'_score_matrix.txt', score_matrix, fmt='%.3f')\n",
    "            \n",
    "    return stdout, stderr"
   ]
  },
  {
   "cell_type": "code",
   "execution_count": 8,
   "id": "elect-avatar",
   "metadata": {},
   "outputs": [],
   "source": [
    "def constrained_random_interaction_matrix(loci_similarities, loci_threshold, rbp_similarities, rbp_threshold,\n",
    "                                          kaptive_file_names, rbp_file_names, rbp_data):\n",
    "    \"\"\"\n",
    "    This function constructs an interaction matrix for training by adding known positive interactions\n",
    "    and using similarity scores to sample negative interactions in a random manner, with constraints.\n",
    "    \n",
    "    Input:\n",
    "    - loci_similarities, rbp_similarities: similarity score matrices (hosts m x m and phages n x n)\n",
    "    - loci_threshold, rbp_threshold: thresholds above which not to consider negative interactions\n",
    "    - kaptive_file_names, rbp_file_names: lists of names to construct known interactions\n",
    "    - rbp_data: name of the RBP DataFrame (string) (columns: 'host_accession', 'unique_ID')\n",
    "    \n",
    "    Output:\n",
    "    - interaction matrix\n",
    "    \"\"\"\n",
    "    interaction_matrix = np.empty((len(kaptive_file_names), len(rbp_file_names)))\n",
    "    interaction_matrix[:] = np.nan\n",
    "\n",
    "    # fill in known interactions\n",
    "    for i, host_acc in enumerate(rbp_data['host_accession']):\n",
    "        rbp_id = rbp_data['unique_ID'][i]\n",
    "        index_m = kaptive_file_names.index('kaptive_results_'+host_acc+'.fasta')\n",
    "        index_n = rbp_file_names.index(rbp_id+'.fasta')\n",
    "        interaction_matrix[index_m, index_n] = 1\n",
    "    print('check? ', i == len(rbp_file_names)-1)\n",
    "    \n",
    "    # delete identicals\n",
    "    # ... (+ sample until sum(sum(int_matrix)))\n",
    "    \n",
    "    # sample random RBP and bacterial locus\n",
    "    iteration = 0\n",
    "    while iteration < len(rbp_file_names):\n",
    "        random_rbp = random.choice(range(len(rbp_file_names)))\n",
    "        random_locus = random.choice(range(len(kaptive_file_names)))\n",
    "\n",
    "        # construct reliable negative interaction within constraints\n",
    "        if interaction_matrix[random_locus, random_rbp] != 1:\n",
    "            # collect similar RBPs and their interacting loci\n",
    "            rbp_similarities_row = rbp_similarities[random_rbp,:]\n",
    "            rbp_threshold_indices = [index for index, sim in enumerate(rbp_similarities_row) if sim >= rbp_threshold]\n",
    "            loci_threshold_indices = [index for thr_index in rbp_threshold_indices for index in range(interaction_matrix.shape[0]) \n",
    "                                      if interaction_matrix[index, thr_index] == 1]\n",
    "            duplicates = [dup for dup in loci_threshold_indices if loci_threshold_indices.count(dup) > 1]\n",
    "\n",
    "            # assess similarity between collected loci\n",
    "            loci_similarities_row = loci_similarities[random_locus,:]\n",
    "            loci_exceeding_threshold = [index for index in loci_threshold_indices if loci_similarities_row[index] \n",
    "                                        >= loci_threshold]\n",
    "            if len(loci_exceeding_threshold) == 0:\n",
    "                interaction_matrix[random_locus, random_rbp] = 0\n",
    "                iteration += 1\n",
    "    print(iteration)\n",
    "    return interaction_matrix"
   ]
  },
  {
   "cell_type": "code",
   "execution_count": 72,
   "id": "nervous-lying",
   "metadata": {},
   "outputs": [],
   "source": [
    "# process kaptive loci\n",
    "genomes = pd.read_csv(data_dir+'/phagebase1_klebsiella_pneumoniae.csv')\n",
    "kaptive_file_names = get_kaptive_file_names(genomes)\n",
    "kaptive_fasta_all = kaptive_fasta_processing(kaptive_file_names, data_dir)\n",
    "kaptive_out = data_dir+'/kaptive_loci'\n",
    "_, _ = cdhit_est_python(cdpath, data_dir, kaptive_file_names, kaptive_fasta_all, kaptive_out)"
   ]
  },
  {
   "cell_type": "code",
   "execution_count": null,
   "id": "heard-rachel",
   "metadata": {},
   "outputs": [],
   "source": [
    "# process RBP sequences\n",
    "\"\"\"\n",
    "cmd line: julia pairwise_alignment.jl \"/Users/Dimi/GoogleDrive/PhD/4_PHAGEHOST_LEARNING/42_DATA/Klebsiella_RBP_data/RBPbase_250621_klebsiella_pneumoniae.fasta\" \"protein\"\n",
    "takes about 30 mins\n",
    "\"\"\"\n",
    "pairwise_alignment_julia(data_dir+'/RBPbase_250621_klebsiella_pneumoniae.fasta', 'protein', project_dir)"
   ]
  },
  {
   "cell_type": "code",
   "execution_count": 76,
   "id": "thirty-bargain",
   "metadata": {},
   "outputs": [
    {
     "name": "stdout",
     "output_type": "stream",
     "text": [
      "check?  True\n",
      "1503\n"
     ]
    }
   ],
   "source": [
    "# construct interaction matrix\n",
    "genomes = pd.read_csv(data_dir+'/phagebase1_klebsiella_pneumoniae.csv')\n",
    "kaptive_file_names = get_kaptive_file_names(genomes)\n",
    "loci_sim = np.loadtxt(data_dir+'/kaptive_loci_score_matrix.txt')\n",
    "loci_thr = 0.9\n",
    "rbp_sim = np.loadtxt(data_dir+'/RBPbase_250621_klebsiella_pneumoniae.fasta_score_matrix.txt')\n",
    "rbp_thr = 0.9\n",
    "rbp_file_names = list(pd.read_csv(data_dir+'/rbp_file_names.csv')['names'])\n",
    "rbpbase = pd.read_csv(data_dir+'/RBPbase_250621_klebsiella_pneumoniae.csv')\n",
    "interaction_matrix = constrained_random_interaction_matrix(loci_sim, loci_thr, rbp_sim, rbp_thr, kaptive_file_names, \n",
    "                                                         rbp_file_names, rbpbase)"
   ]
  },
  {
   "cell_type": "code",
   "execution_count": null,
   "id": "fresh-growth",
   "metadata": {},
   "outputs": [],
   "source": [
    "# delete identical interactions\n",
    "for i in range(rbp_sim.shape[0]-1):\n",
    "    for j in range(i, rbp_sim.shape[0]):\n",
    "        if (rbp_sim[i,j] == 1) and (i != j):\n",
    "            # get the corresponding loci\n",
    "            locus_i = list(np.where(interaction_matrix[:, i] == 1)[0])\n",
    "            locus_j = list(np.where(interaction_matrix[:, j] == 1)[0])\n",
    "            \n",
    "            for li in locus_i:\n",
    "                for lj in locus_j:\n",
    "                    if loci_sim[li, lj] == 1: # if identical, delete\n",
    "                        interaction_matrix[lj,j] = np.nan\n",
    "print(sum(sum(interaction_matrix == 1)))"
   ]
  },
  {
   "cell_type": "markdown",
   "id": "handmade-clothing",
   "metadata": {},
   "source": [
    "## 5 - Exploring the interaction space<a name=\"interactions\"></a>"
   ]
  },
  {
   "cell_type": "markdown",
   "id": "3b3f6cfd",
   "metadata": {},
   "source": [
    "#### How many RBPs do phages have?"
   ]
  },
  {
   "cell_type": "code",
   "execution_count": 19,
   "id": "b5699dba",
   "metadata": {
    "scrolled": true
   },
   "outputs": [
    {
     "data": {
      "image/png": "[encoded data removed]",
      "text/plain": [
       "<Figure size 432x288 with 1 Axes>"
      ]
     },
     "metadata": {
      "needs_background": "light"
     },
     "output_type": "display_data"
    }
   ],
   "source": [
    "rbpbase = pd.read_csv(data_dir+'/RBPbase_250621_klebsiella_pneumoniae.csv')\n",
    "rbp_counts = []\n",
    "for phage in rbpbase['phage_nr']:\n",
    "    rbp_counts.append(list(rbpbase['phage_nr']).count(phage))\n",
    "ax = sns.countplot(x = rbp_counts)"
   ]
  },
  {
   "cell_type": "markdown",
   "id": "048115c1",
   "metadata": {},
   "source": [
    "We see that most Klebsiella phages either have one RBP or two RBPs. Due to the nature of our RBP identification, we might have missed some RBPs though."
   ]
  },
  {
   "cell_type": "markdown",
   "id": "30339fe9",
   "metadata": {},
   "source": [
    "#### Can we discriminate B-helix phages using SPIDER-3?\n",
    "\n",
    "First move all the KP32 RBP sequences in the ./example_data/seq/ folder in SPIDER3-S. Then write/adjust the file_list with all the names of the sequences you want to make predictions for."
   ]
  },
  {
   "cell_type": "code",
   "execution_count": 3,
   "id": "51ced48e",
   "metadata": {},
   "outputs": [],
   "source": [
    "# write klebs rbp files & adjust file_list for SPIDER3-S\n",
    "spider_dir = '/Users/dimi/GoogleDrive/PhD/4_PHAGEHOST_LEARNING/SPIDER3-S'\n",
    "klebs_rbps = '/Users/dimi/GoogleDrive/PhD/4_PHAGEHOST_LEARNING/42_DATA/Klebsiella_RBP_data/sequences/klebsiella_RBPs.fasta'\n",
    "file_list = open(spider_dir+'/file_list', 'w')\n",
    "kpids = []\n",
    "for record in SeqIO.parse(klebs_rbps, 'fasta'):\n",
    "    identifier = record.id\n",
    "    kpids.append(identifier)\n",
    "    sequence = str(record.seq)\n",
    "    \n",
    "    # write fasta\n",
    "    fasta = open(spider_dir+'/example_data/seq/klebs_rbp_'+identifier+'.fasta', 'w')\n",
    "    fasta.write('>'+identifier+'\\n'+sequence+'\\n')\n",
    "    fasta.close()\n",
    "    \n",
    "    # write file_list\n",
    "    file_list.write(identifier+' '+'./example_data/seq/klebs_rbp_'+identifier+'.fasta'+'\\n')\n",
    "file_list.close()"
   ]
  },
  {
   "cell_type": "code",
   "execution_count": 2,
   "id": "ba93e5a4",
   "metadata": {},
   "outputs": [
    {
     "name": "stdout",
     "output_type": "stream",
     "text": [
      "b'doing iteration 0 - SS\\ndoing iteration 0 - ASA THETA TAU PHI PSI HSEa CN\\ncombining both prediction files\\ndoing iteration 1 - SS\\ndoing iteration 1 - ASA THETA TAU PHI PSI HSEa CN\\ncombining both prediction files\\nTime taken - 90 seconds\\n'\n"
     ]
    }
   ],
   "source": [
    "# compute KP32 secondary structures\n",
    "spider_dir = '/Users/dimi/GoogleDrive/PhD/4_PHAGEHOST_LEARNING/SPIDER3-S'\n",
    "command = 'cd '+spider_dir+ '; ./impute_script_np.sh'\n",
    "ssprocess = subprocess.Popen(command, shell=True, stdout=subprocess.PIPE, stderr=subprocess.STDOUT)\n",
    "ssout, sserr = ssprocess.communicate()\n",
    "print(ssout)"
   ]
  },
  {
   "cell_type": "code",
   "execution_count": 5,
   "id": "d6bf4687",
   "metadata": {},
   "outputs": [],
   "source": [
    "B_ratio = []\n",
    "for identifier in kpids:\n",
    "    results = pd.read_csv('/Users/dimi/GoogleDrive/PhD/4_PHAGEHOST_LEARNING/SPIDER3-S/example_data/outputs/'+identifier+'.i1', delim_whitespace=True, header=0)\n",
    "    sstructs = ''.join([i for i in results['SS']])\n",
    "    B_ratio.append(sstructs.count('E')/len(sstructs))"
   ]
  },
  {
   "cell_type": "code",
   "execution_count": 118,
   "id": "3632bcac",
   "metadata": {},
   "outputs": [
    {
     "data": {
      "text/plain": [
       "Text(0, 0.5, 'Count among klebsiella RBPs')"
      ]
     },
     "execution_count": 118,
     "metadata": {},
     "output_type": "execute_result"
    },
    {
     "data": {
      "image/png": "[encoded data removed]",
      "text/plain": [
       "<Figure size 720x576 with 1 Axes>"
      ]
     },
     "metadata": {
      "needs_background": "light"
     },
     "output_type": "display_data"
    }
   ],
   "source": [
    "fig, ax = plt.subplots(figsize=(10, 8))\n",
    "n, bins, patches = plt.hist(B_ratio, bins=20)\n",
    "ax.set_xlabel('Percentage of beta-sheet', size=12)\n",
    "ax.set_ylabel('Count among klebsiella RBPs', size=12)"
   ]
  },
  {
   "cell_type": "markdown",
   "id": "d021a664",
   "metadata": {},
   "source": [
    "We can see that most Klebsiella RBPs with a B-helix have a beta-sheet percentage of 30% or higher."
   ]
  },
  {
   "cell_type": "code",
   "execution_count": 121,
   "id": "31214dfb",
   "metadata": {},
   "outputs": [],
   "source": [
    "# Now do the same for all klebs RBPs in RBPbase\n",
    "spider_dir = '/Users/dimi/GoogleDrive/PhD/4_PHAGEHOST_LEARNING/SPIDER3-S'\n",
    "rbpbase = pd.read_csv(data_dir+'/RBPbase_250621_klebsiella_pneumoniae.csv')\n",
    "file_list = open(spider_dir+'/file_list', 'w')\n",
    "kpids = []\n",
    "for i, sequence in enumerate(rbpbase['protein_seq']):\n",
    "    identifier = rbpbase['unique_ID'][i]\n",
    "    kpids.append(identifier)\n",
    "\n",
    "    # write fasta\n",
    "    fasta = open(spider_dir+'/example_data/seq/rbpbase_'+identifier+'.fasta', 'w')\n",
    "    fasta.write('>'+identifier+'\\n'+sequence+'\\n')\n",
    "    fasta.close()\n",
    "    \n",
    "    # write file_list\n",
    "    file_list.write(identifier+' '+'./example_data/seq/rbpbase_'+identifier+'.fasta'+'\\n')\n",
    "file_list.close()"
   ]
  },
  {
   "cell_type": "code",
   "execution_count": 122,
   "id": "40f7c0e8",
   "metadata": {},
   "outputs": [
    {
     "name": "stdout",
     "output_type": "stream",
     "text": [
      "b'doing iteration 0 - SS\\ndoing iteration 0 - ASA THETA TAU PHI PSI HSEa CN\\ncombining both prediction files\\ndoing iteration 1 - SS\\ndoing iteration 1 - ASA THETA TAU PHI PSI HSEa CN\\ncombining both prediction files\\nTime taken - 3282 seconds\\n'\n"
     ]
    }
   ],
   "source": [
    "# compute KP32 secondary structures -> WILL TAKE ABOUT 100 minutes\n",
    "command = 'cd '+spider_dir+ '; ./impute_script_np.sh'\n",
    "ssprocess = subprocess.Popen(command, shell=True, stdout=subprocess.PIPE, stderr=subprocess.STDOUT)\n",
    "ssout, sserr = ssprocess.communicate()\n",
    "print(ssout)\n",
    "\n",
    "B_ratio = []\n",
    "for identifier in kpids:\n",
    "    results = pd.read_csv('/Users/dimi/GoogleDrive/PhD/4_PHAGEHOST_LEARNING/SPIDER3-S/example_data/outputs/'+identifier+'.i1', delim_whitespace=True, header=0)\n",
    "    sstructs = ''.join([i for i in results['SS']])\n",
    "    B_ratio.append(sstructs.count('E')/len(sstructs))"
   ]
  },
  {
   "cell_type": "code",
   "execution_count": 124,
   "id": "1afbb109",
   "metadata": {},
   "outputs": [
    {
     "data": {
      "text/plain": [
       "Text(0, 0.5, 'Count among klebsiella RBPs')"
      ]
     },
     "execution_count": 124,
     "metadata": {},
     "output_type": "execute_result"
    },
    {
     "data": {
      "image/png": "[encoded data removed]",
      "text/plain": [
       "<Figure size 720x576 with 1 Axes>"
      ]
     },
     "metadata": {
      "needs_background": "light"
     },
     "output_type": "display_data"
    }
   ],
   "source": [
    "fig, ax = plt.subplots(figsize=(10, 8))\n",
    "n, bins, patches = plt.hist(B_ratio, bins=20)\n",
    "ax.set_xlabel('Percentage of beta-sheet', size=12)\n",
    "ax.set_ylabel('Count among klebsiella RBPs', size=12)\n",
    "#ax.axvline(x=0.3, color='red')"
   ]
  },
  {
   "cell_type": "markdown",
   "id": "c8611237",
   "metadata": {},
   "source": [
    "#### Implementing moving average for B-helix detection"
   ]
  },
  {
   "cell_type": "code",
   "execution_count": 8,
   "id": "f17a422f",
   "metadata": {},
   "outputs": [],
   "source": [
    "def moving_average_SS(sequence, window_size=33):\n",
    "    mas = []\n",
    "    window_bit = int((window_size-1)/2)\n",
    "\n",
    "    # compute margins outside of the window\n",
    "    for i, character in enumerate(['H', 'E', 'C']):\n",
    "        first_slice = sequence[:window_size]\n",
    "        moving_average = np.zeros((len(sequence)))\n",
    "        moving_average[:window_bit] = first_slice.count(character) / window_size\n",
    "        last_slice = sequence[len(sequence)-window_size:]\n",
    "        moving_average[len(sequence)-window_bit:] = last_slice.count(character) / window_size\n",
    "\n",
    "        # sliding window\n",
    "        for i in range(int(window_bit), int(len(sequence)-window_bit)):\n",
    "            slice = sequence[int(i-window_bit):int(i+window_bit+1)]\n",
    "            moving_average[i] = slice.count(character) / window_size\n",
    "        mas.append(moving_average)\n",
    "            \n",
    "    return mas[0], mas[1], mas[2]"
   ]
  },
  {
   "cell_type": "code",
   "execution_count": 26,
   "id": "27f03bc7",
   "metadata": {},
   "outputs": [],
   "source": [
    "KP32s = ['ALT58497.1', 'ALT58498.1', 'YP_009198668.1', 'YP_009198669.1', 'APZ82804.1', 'APZ82805.1', 'APZ82847.1', 'APZ82848.1', \n",
    "'YP_002003830.1', 'YP_002003831.1', 'AWN07083.1', 'AWN07084.1', 'AWN07125.1', 'AWN07126.1', 'AWN07172.1', 'AWN07213.1', 'AWN07214.1', \n",
    "'YP_003347555.1', 'YP_003347556.1', 'YP_009215498.1', 'AOT28172.1', 'AOT28173.1', 'AOZ65569.1', 'AUV61507.1']\n",
    "ma_B = []\n",
    "ma_H = []\n",
    "ma_C = []\n",
    "\n",
    "for i, kp32 in enumerate(KP32s):\n",
    "    results = pd.read_csv('/Users/dimi/GoogleDrive/PhD/4_PHAGEHOST_LEARNING/SPIDER3-S/example_data/outputs/'+kp32+'.i1', delim_whitespace=True, header=0)\n",
    "    sstructs = ''.join([x for x in results['SS']])\n",
    "    maHc, maBc, maCc = moving_average_SS(sstructs, window_size=50)\n",
    "    ma_H.append(maHc)\n",
    "    ma_B.append(maBc)\n",
    "    ma_C.append(maCc)"
   ]
  },
  {
   "cell_type": "code",
   "execution_count": 34,
   "id": "cc2198cb",
   "metadata": {},
   "outputs": [
    {
     "data": {
      "image/png": "[encoded data removed]",
      "text/plain": [
       "<Figure size 720x360 with 1 Axes>"
      ]
     },
     "metadata": {
      "needs_background": "light"
     },
     "output_type": "display_data"
    }
   ],
   "source": [
    "index = 4\n",
    "fig, ax = plt.subplots(figsize=(10,5))\n",
    "ax.set_xlabel('position in the sequence')\n",
    "ax.set_ylabel('Moving average (50 AA) B-sheet percentage')\n",
    "ax.plot(ma_B[index], c='red', label='sheet')\n",
    "ax.plot(ma_H[index], c='blue', label='helix')\n",
    "ax.plot(ma_C[index], color='black', label='coil')\n",
    "ax.legend()\n",
    "fig.savefig('/Users/Dimi/Desktop/'+KP32s[index]+'.png', dpi=300)"
   ]
  },
  {
   "cell_type": "markdown",
   "id": "3f622ef1",
   "metadata": {},
   "source": [
    "rule = in a window of 200-250, average must be higher than 35%. If a window like that exists, it's a B-helix RBP."
   ]
  },
  {
   "cell_type": "markdown",
   "id": "statistical-offer",
   "metadata": {},
   "source": [
    "## 5 - Processing into structured dataframe for training"
   ]
  },
  {
   "cell_type": "code",
   "execution_count": 26,
   "id": "classical-individual",
   "metadata": {},
   "outputs": [],
   "source": [
    "def construct_training_dataframe(locus_features, rbp_features, interaction_matrix, RBPbase=0):\n",
    "    \"\"\"\n",
    "    This function combines the seraparetly computed features of both the locus and the RBPs\n",
    "    into one array suitable for training, considering the interaction matrix.\n",
    "    \n",
    "    At this point, the rows of the featuresets should correspond with the rows and columns of the interaction\n",
    "    matrix, meaning the interaction matrix should be constructed starting from the same data as the features!\n",
    "    \n",
    "    Input:\n",
    "    - locus features: DataFrame of the features constructed for the bacterial loci (m x #feats)\n",
    "    - rbp_features: DataFrame of the features constructured for the phage RBPs (n x #feats)\n",
    "    - interaction matrix: (m x n) with positives (1), negatives (0) and unknown (NaN)\n",
    "    - RBPbase: RBP dataframe for sanity check (optional)\n",
    "    \n",
    "    TO DO: add rows and cols!\n",
    "    \"\"\"\n",
    "    \n",
    "    # define lists to append to\n",
    "    locus_list = []; rbp_list = []; interaction_list = []; row_list = []; column_list = []\n",
    "    \n",
    "    # loop over interaction matrix and construct dataframe\n",
    "    for i in range(interaction_matrix.shape[0]):\n",
    "        for j in range(interaction_matrix.shape[1]):\n",
    "            interaction = interaction_matrix[i,j]\n",
    "            \n",
    "            if math.isnan(interaction) == False:\n",
    "                # make list of lists, that can subsequently be combined\n",
    "                locus_list.append(list(locus_features.iloc[i,:]))\n",
    "                rbp_list.append(list(rbp_features.iloc[j,:]))\n",
    "                interaction_list.append(int(interaction))\n",
    "                row_list.append(i)\n",
    "                column_list.append(j)\n",
    "            \n",
    "            # sanity check (optional)\n",
    "            if (interaction == 1) and (type(RBPbase) !=  int):\n",
    "                locus_id = locus_em.index[i].split('kaptive_results_')[1].split('.fasta')[0]\n",
    "                rbp_id = RBPbase['host_accession'][j]\n",
    "                if locus_id != rbp_id:\n",
    "                    print('mismatch!', rbp_id, locus_id)\n",
    "    \n",
    "    # concatenate to final dataframe\n",
    "    training_dataframe = pd.concat([pd.DataFrame(locus_list), pd.DataFrame(rbp_list), pd.DataFrame(interaction_list),\n",
    "                                    pd.DataFrame({'row': row_list})], axis=1)\n",
    "    \n",
    "    return training_dataframe     "
   ]
  },
  {
   "cell_type": "code",
   "execution_count": 27,
   "id": "according-blair",
   "metadata": {},
   "outputs": [
    {
     "ename": "NameError",
     "evalue": "name 'interaction_matrix' is not defined",
     "output_type": "error",
     "traceback": [
      "\u001b[0;31m---------------------------------------------------------------------------\u001b[0m",
      "\u001b[0;31mNameError\u001b[0m                                 Traceback (most recent call last)",
      "\u001b[0;32m<ipython-input-27-de3c0600438f>\u001b[0m in \u001b[0;36m<module>\u001b[0;34m\u001b[0m\n\u001b[1;32m      1\u001b[0m \u001b[0mlocus_em\u001b[0m \u001b[0;34m=\u001b[0m \u001b[0mpd\u001b[0m\u001b[0;34m.\u001b[0m\u001b[0mread_csv\u001b[0m\u001b[0;34m(\u001b[0m\u001b[0mdata_dir\u001b[0m\u001b[0;34m+\u001b[0m\u001b[0;34m'/locus_embeddings.csv'\u001b[0m\u001b[0;34m,\u001b[0m \u001b[0mindex_col\u001b[0m\u001b[0;34m=\u001b[0m\u001b[0;36m0\u001b[0m\u001b[0;34m)\u001b[0m\u001b[0;34m\u001b[0m\u001b[0;34m\u001b[0m\u001b[0m\n\u001b[1;32m      2\u001b[0m \u001b[0mrbp_em\u001b[0m \u001b[0;34m=\u001b[0m \u001b[0mpd\u001b[0m\u001b[0;34m.\u001b[0m\u001b[0mread_csv\u001b[0m\u001b[0;34m(\u001b[0m\u001b[0mdata_dir\u001b[0m\u001b[0;34m+\u001b[0m\u001b[0;34m'/protein_embeddings.csv'\u001b[0m\u001b[0;34m,\u001b[0m \u001b[0mindex_col\u001b[0m\u001b[0;34m=\u001b[0m\u001b[0;36m0\u001b[0m\u001b[0;34m)\u001b[0m\u001b[0;34m\u001b[0m\u001b[0;34m\u001b[0m\u001b[0m\n\u001b[0;32m----> 3\u001b[0;31m \u001b[0mframe\u001b[0m \u001b[0;34m=\u001b[0m \u001b[0mconstruct_training_dataframe\u001b[0m\u001b[0;34m(\u001b[0m\u001b[0mlocus_em\u001b[0m\u001b[0;34m,\u001b[0m \u001b[0mrbp_em\u001b[0m\u001b[0;34m,\u001b[0m \u001b[0minteraction_matrix\u001b[0m\u001b[0;34m,\u001b[0m \u001b[0mrbpbase\u001b[0m\u001b[0;34m)\u001b[0m\u001b[0;34m\u001b[0m\u001b[0;34m\u001b[0m\u001b[0m\n\u001b[0m",
      "\u001b[0;31mNameError\u001b[0m: name 'interaction_matrix' is not defined"
     ]
    }
   ],
   "source": [
    "locus_em = pd.read_csv(data_dir+'/locus_embeddings.csv', index_col=0)\n",
    "rbp_em = pd.read_csv(data_dir+'/protein_embeddings.csv', index_col=0)\n",
    "frame = construct_training_dataframe(locus_em, rbp_em, interaction_matrix, rbpbase)"
   ]
  },
  {
   "cell_type": "markdown",
   "id": "finnish-converter",
   "metadata": {},
   "source": [
    "## 6 - Machine learning models <a name=\"models\"></a>"
   ]
  },
  {
   "cell_type": "markdown",
   "id": "8b78bf22",
   "metadata": {},
   "source": [
    "##### Binary classification"
   ]
  },
  {
   "cell_type": "code",
   "execution_count": 129,
   "id": "bb8819dd",
   "metadata": {},
   "outputs": [
    {
     "data": {
      "text/html": [
       "<div>\n",
       "<style scoped>\n",
       "    .dataframe tbody tr th:only-of-type {\n",
       "        vertical-align: middle;\n",
       "    }\n",
       "\n",
       "    .dataframe tbody tr th {\n",
       "        vertical-align: top;\n",
       "    }\n",
       "\n",
       "    .dataframe thead th {\n",
       "        text-align: right;\n",
       "    }\n",
       "</style>\n",
       "<table border=\"1\" class=\"dataframe\">\n",
       "  <thead>\n",
       "    <tr style=\"text-align: right;\">\n",
       "      <th></th>\n",
       "      <th>0.1</th>\n",
       "      <th>1</th>\n",
       "      <th>2</th>\n",
       "      <th>3</th>\n",
       "      <th>4</th>\n",
       "      <th>5</th>\n",
       "      <th>6</th>\n",
       "      <th>7</th>\n",
       "      <th>8</th>\n",
       "      <th>9</th>\n",
       "      <th>...</th>\n",
       "      <th>502</th>\n",
       "      <th>503</th>\n",
       "      <th>504</th>\n",
       "      <th>505</th>\n",
       "      <th>506</th>\n",
       "      <th>507</th>\n",
       "      <th>508</th>\n",
       "      <th>509</th>\n",
       "      <th>510</th>\n",
       "      <th>511</th>\n",
       "    </tr>\n",
       "    <tr>\n",
       "      <th>0</th>\n",
       "      <th></th>\n",
       "      <th></th>\n",
       "      <th></th>\n",
       "      <th></th>\n",
       "      <th></th>\n",
       "      <th></th>\n",
       "      <th></th>\n",
       "      <th></th>\n",
       "      <th></th>\n",
       "      <th></th>\n",
       "      <th></th>\n",
       "      <th></th>\n",
       "      <th></th>\n",
       "      <th></th>\n",
       "      <th></th>\n",
       "      <th></th>\n",
       "      <th></th>\n",
       "      <th></th>\n",
       "      <th></th>\n",
       "      <th></th>\n",
       "      <th></th>\n",
       "    </tr>\n",
       "  </thead>\n",
       "  <tbody>\n",
       "    <tr>\n",
       "      <th>kaptive_results_CP041946.1.fasta</th>\n",
       "      <td>-0.019119</td>\n",
       "      <td>0.003384</td>\n",
       "      <td>-0.014961</td>\n",
       "      <td>-0.037385</td>\n",
       "      <td>-0.088417</td>\n",
       "      <td>-0.011068</td>\n",
       "      <td>0.061501</td>\n",
       "      <td>-0.029074</td>\n",
       "      <td>-0.007153</td>\n",
       "      <td>-0.097499</td>\n",
       "      <td>...</td>\n",
       "      <td>-0.027679</td>\n",
       "      <td>-0.019546</td>\n",
       "      <td>0.055735</td>\n",
       "      <td>-0.015377</td>\n",
       "      <td>-0.021971</td>\n",
       "      <td>-0.017729</td>\n",
       "      <td>-0.022120</td>\n",
       "      <td>-0.059440</td>\n",
       "      <td>0.043075</td>\n",
       "      <td>-0.059087</td>\n",
       "    </tr>\n",
       "    <tr>\n",
       "      <th>kaptive_results_NZ_CP020108.1.fasta</th>\n",
       "      <td>-0.019722</td>\n",
       "      <td>0.003844</td>\n",
       "      <td>-0.015634</td>\n",
       "      <td>-0.035726</td>\n",
       "      <td>-0.088859</td>\n",
       "      <td>-0.011161</td>\n",
       "      <td>0.059101</td>\n",
       "      <td>-0.028728</td>\n",
       "      <td>-0.007534</td>\n",
       "      <td>-0.096251</td>\n",
       "      <td>...</td>\n",
       "      <td>-0.029638</td>\n",
       "      <td>-0.019596</td>\n",
       "      <td>0.055170</td>\n",
       "      <td>-0.014480</td>\n",
       "      <td>-0.021051</td>\n",
       "      <td>-0.017460</td>\n",
       "      <td>-0.022553</td>\n",
       "      <td>-0.058412</td>\n",
       "      <td>0.042445</td>\n",
       "      <td>-0.057714</td>\n",
       "    </tr>\n",
       "    <tr>\n",
       "      <th>kaptive_results_NZ_CP020071.1.fasta</th>\n",
       "      <td>-0.020321</td>\n",
       "      <td>0.004278</td>\n",
       "      <td>-0.016836</td>\n",
       "      <td>-0.033476</td>\n",
       "      <td>-0.089300</td>\n",
       "      <td>-0.011208</td>\n",
       "      <td>0.054314</td>\n",
       "      <td>-0.027750</td>\n",
       "      <td>-0.008287</td>\n",
       "      <td>-0.094591</td>\n",
       "      <td>...</td>\n",
       "      <td>-0.032607</td>\n",
       "      <td>-0.019421</td>\n",
       "      <td>0.053451</td>\n",
       "      <td>-0.013676</td>\n",
       "      <td>-0.020543</td>\n",
       "      <td>-0.017741</td>\n",
       "      <td>-0.022645</td>\n",
       "      <td>-0.056251</td>\n",
       "      <td>0.041606</td>\n",
       "      <td>-0.056279</td>\n",
       "    </tr>\n",
       "    <tr>\n",
       "      <th>kaptive_results_NZ_CP020061.1.fasta</th>\n",
       "      <td>-0.019797</td>\n",
       "      <td>0.004172</td>\n",
       "      <td>-0.016230</td>\n",
       "      <td>-0.035455</td>\n",
       "      <td>-0.088952</td>\n",
       "      <td>-0.011010</td>\n",
       "      <td>0.057297</td>\n",
       "      <td>-0.028571</td>\n",
       "      <td>-0.007890</td>\n",
       "      <td>-0.095702</td>\n",
       "      <td>...</td>\n",
       "      <td>-0.030534</td>\n",
       "      <td>-0.019688</td>\n",
       "      <td>0.054923</td>\n",
       "      <td>-0.014231</td>\n",
       "      <td>-0.020980</td>\n",
       "      <td>-0.017610</td>\n",
       "      <td>-0.022215</td>\n",
       "      <td>-0.057986</td>\n",
       "      <td>0.042621</td>\n",
       "      <td>-0.057397</td>\n",
       "    </tr>\n",
       "    <tr>\n",
       "      <th>kaptive_results_NZ_CP034415.1.fasta</th>\n",
       "      <td>-0.019783</td>\n",
       "      <td>0.004324</td>\n",
       "      <td>-0.016197</td>\n",
       "      <td>-0.034635</td>\n",
       "      <td>-0.089133</td>\n",
       "      <td>-0.011079</td>\n",
       "      <td>0.056161</td>\n",
       "      <td>-0.027905</td>\n",
       "      <td>-0.008125</td>\n",
       "      <td>-0.095255</td>\n",
       "      <td>...</td>\n",
       "      <td>-0.031414</td>\n",
       "      <td>-0.019503</td>\n",
       "      <td>0.054066</td>\n",
       "      <td>-0.014192</td>\n",
       "      <td>-0.021030</td>\n",
       "      <td>-0.018273</td>\n",
       "      <td>-0.022608</td>\n",
       "      <td>-0.057535</td>\n",
       "      <td>0.042234</td>\n",
       "      <td>-0.056947</td>\n",
       "    </tr>\n",
       "    <tr>\n",
       "      <th>...</th>\n",
       "      <td>...</td>\n",
       "      <td>...</td>\n",
       "      <td>...</td>\n",
       "      <td>...</td>\n",
       "      <td>...</td>\n",
       "      <td>...</td>\n",
       "      <td>...</td>\n",
       "      <td>...</td>\n",
       "      <td>...</td>\n",
       "      <td>...</td>\n",
       "      <td>...</td>\n",
       "      <td>...</td>\n",
       "      <td>...</td>\n",
       "      <td>...</td>\n",
       "      <td>...</td>\n",
       "      <td>...</td>\n",
       "      <td>...</td>\n",
       "      <td>...</td>\n",
       "      <td>...</td>\n",
       "      <td>...</td>\n",
       "      <td>...</td>\n",
       "    </tr>\n",
       "    <tr>\n",
       "      <th>kaptive_results_NZ_CP012883.1.fasta</th>\n",
       "      <td>-0.019834</td>\n",
       "      <td>0.003746</td>\n",
       "      <td>-0.016145</td>\n",
       "      <td>-0.035034</td>\n",
       "      <td>-0.088989</td>\n",
       "      <td>-0.011074</td>\n",
       "      <td>0.057341</td>\n",
       "      <td>-0.028296</td>\n",
       "      <td>-0.007947</td>\n",
       "      <td>-0.095885</td>\n",
       "      <td>...</td>\n",
       "      <td>-0.030791</td>\n",
       "      <td>-0.019349</td>\n",
       "      <td>0.054248</td>\n",
       "      <td>-0.014719</td>\n",
       "      <td>-0.020907</td>\n",
       "      <td>-0.017573</td>\n",
       "      <td>-0.022633</td>\n",
       "      <td>-0.057590</td>\n",
       "      <td>0.042269</td>\n",
       "      <td>-0.057104</td>\n",
       "    </tr>\n",
       "    <tr>\n",
       "      <th>kaptive_results_NZ_CP011980.1.fasta</th>\n",
       "      <td>-0.018931</td>\n",
       "      <td>0.003718</td>\n",
       "      <td>-0.014458</td>\n",
       "      <td>-0.036785</td>\n",
       "      <td>-0.088489</td>\n",
       "      <td>-0.011503</td>\n",
       "      <td>0.062537</td>\n",
       "      <td>-0.029022</td>\n",
       "      <td>-0.007617</td>\n",
       "      <td>-0.097600</td>\n",
       "      <td>...</td>\n",
       "      <td>-0.027508</td>\n",
       "      <td>-0.019598</td>\n",
       "      <td>0.056211</td>\n",
       "      <td>-0.015462</td>\n",
       "      <td>-0.021360</td>\n",
       "      <td>-0.017586</td>\n",
       "      <td>-0.022637</td>\n",
       "      <td>-0.059872</td>\n",
       "      <td>0.043204</td>\n",
       "      <td>-0.058816</td>\n",
       "    </tr>\n",
       "    <tr>\n",
       "      <th>kaptive_results_NZ_CP006798.1.fasta</th>\n",
       "      <td>-0.019877</td>\n",
       "      <td>0.003685</td>\n",
       "      <td>-0.016115</td>\n",
       "      <td>-0.035592</td>\n",
       "      <td>-0.088867</td>\n",
       "      <td>-0.010701</td>\n",
       "      <td>0.057514</td>\n",
       "      <td>-0.028183</td>\n",
       "      <td>-0.007660</td>\n",
       "      <td>-0.095653</td>\n",
       "      <td>...</td>\n",
       "      <td>-0.030448</td>\n",
       "      <td>-0.019540</td>\n",
       "      <td>0.054117</td>\n",
       "      <td>-0.014668</td>\n",
       "      <td>-0.021305</td>\n",
       "      <td>-0.017890</td>\n",
       "      <td>-0.022288</td>\n",
       "      <td>-0.057694</td>\n",
       "      <td>0.042377</td>\n",
       "      <td>-0.057149</td>\n",
       "    </tr>\n",
       "    <tr>\n",
       "      <th>kaptive_results_NZ_CP009114.1.fasta</th>\n",
       "      <td>-0.019455</td>\n",
       "      <td>0.003631</td>\n",
       "      <td>-0.015602</td>\n",
       "      <td>-0.036359</td>\n",
       "      <td>-0.088749</td>\n",
       "      <td>-0.010922</td>\n",
       "      <td>0.059372</td>\n",
       "      <td>-0.028580</td>\n",
       "      <td>-0.007587</td>\n",
       "      <td>-0.096362</td>\n",
       "      <td>...</td>\n",
       "      <td>-0.029293</td>\n",
       "      <td>-0.019255</td>\n",
       "      <td>0.055036</td>\n",
       "      <td>-0.014912</td>\n",
       "      <td>-0.021608</td>\n",
       "      <td>-0.017695</td>\n",
       "      <td>-0.022378</td>\n",
       "      <td>-0.058573</td>\n",
       "      <td>0.042654</td>\n",
       "      <td>-0.057976</td>\n",
       "    </tr>\n",
       "    <tr>\n",
       "      <th>kaptive_results_NC_022082.1.fasta</th>\n",
       "      <td>-0.019052</td>\n",
       "      <td>0.003198</td>\n",
       "      <td>-0.015194</td>\n",
       "      <td>-0.037532</td>\n",
       "      <td>-0.088671</td>\n",
       "      <td>-0.010940</td>\n",
       "      <td>0.062166</td>\n",
       "      <td>-0.029102</td>\n",
       "      <td>-0.006970</td>\n",
       "      <td>-0.097729</td>\n",
       "      <td>...</td>\n",
       "      <td>-0.027548</td>\n",
       "      <td>-0.019427</td>\n",
       "      <td>0.055943</td>\n",
       "      <td>-0.015470</td>\n",
       "      <td>-0.021807</td>\n",
       "      <td>-0.017397</td>\n",
       "      <td>-0.022190</td>\n",
       "      <td>-0.059178</td>\n",
       "      <td>0.043240</td>\n",
       "      <td>-0.059367</td>\n",
       "    </tr>\n",
       "  </tbody>\n",
       "</table>\n",
       "<p>376 rows × 512 columns</p>\n",
       "</div>"
      ],
      "text/plain": [
       "                                          0.1         1         2         3  \\\n",
       "0                                                                             \n",
       "kaptive_results_CP041946.1.fasta    -0.019119  0.003384 -0.014961 -0.037385   \n",
       "kaptive_results_NZ_CP020108.1.fasta -0.019722  0.003844 -0.015634 -0.035726   \n",
       "kaptive_results_NZ_CP020071.1.fasta -0.020321  0.004278 -0.016836 -0.033476   \n",
       "kaptive_results_NZ_CP020061.1.fasta -0.019797  0.004172 -0.016230 -0.035455   \n",
       "kaptive_results_NZ_CP034415.1.fasta -0.019783  0.004324 -0.016197 -0.034635   \n",
       "...                                       ...       ...       ...       ...   \n",
       "kaptive_results_NZ_CP012883.1.fasta -0.019834  0.003746 -0.016145 -0.035034   \n",
       "kaptive_results_NZ_CP011980.1.fasta -0.018931  0.003718 -0.014458 -0.036785   \n",
       "kaptive_results_NZ_CP006798.1.fasta -0.019877  0.003685 -0.016115 -0.035592   \n",
       "kaptive_results_NZ_CP009114.1.fasta -0.019455  0.003631 -0.015602 -0.036359   \n",
       "kaptive_results_NC_022082.1.fasta   -0.019052  0.003198 -0.015194 -0.037532   \n",
       "\n",
       "                                            4         5         6         7  \\\n",
       "0                                                                             \n",
       "kaptive_results_CP041946.1.fasta    -0.088417 -0.011068  0.061501 -0.029074   \n",
       "kaptive_results_NZ_CP020108.1.fasta -0.088859 -0.011161  0.059101 -0.028728   \n",
       "kaptive_results_NZ_CP020071.1.fasta -0.089300 -0.011208  0.054314 -0.027750   \n",
       "kaptive_results_NZ_CP020061.1.fasta -0.088952 -0.011010  0.057297 -0.028571   \n",
       "kaptive_results_NZ_CP034415.1.fasta -0.089133 -0.011079  0.056161 -0.027905   \n",
       "...                                       ...       ...       ...       ...   \n",
       "kaptive_results_NZ_CP012883.1.fasta -0.088989 -0.011074  0.057341 -0.028296   \n",
       "kaptive_results_NZ_CP011980.1.fasta -0.088489 -0.011503  0.062537 -0.029022   \n",
       "kaptive_results_NZ_CP006798.1.fasta -0.088867 -0.010701  0.057514 -0.028183   \n",
       "kaptive_results_NZ_CP009114.1.fasta -0.088749 -0.010922  0.059372 -0.028580   \n",
       "kaptive_results_NC_022082.1.fasta   -0.088671 -0.010940  0.062166 -0.029102   \n",
       "\n",
       "                                            8         9  ...       502  \\\n",
       "0                                                        ...             \n",
       "kaptive_results_CP041946.1.fasta    -0.007153 -0.097499  ... -0.027679   \n",
       "kaptive_results_NZ_CP020108.1.fasta -0.007534 -0.096251  ... -0.029638   \n",
       "kaptive_results_NZ_CP020071.1.fasta -0.008287 -0.094591  ... -0.032607   \n",
       "kaptive_results_NZ_CP020061.1.fasta -0.007890 -0.095702  ... -0.030534   \n",
       "kaptive_results_NZ_CP034415.1.fasta -0.008125 -0.095255  ... -0.031414   \n",
       "...                                       ...       ...  ...       ...   \n",
       "kaptive_results_NZ_CP012883.1.fasta -0.007947 -0.095885  ... -0.030791   \n",
       "kaptive_results_NZ_CP011980.1.fasta -0.007617 -0.097600  ... -0.027508   \n",
       "kaptive_results_NZ_CP006798.1.fasta -0.007660 -0.095653  ... -0.030448   \n",
       "kaptive_results_NZ_CP009114.1.fasta -0.007587 -0.096362  ... -0.029293   \n",
       "kaptive_results_NC_022082.1.fasta   -0.006970 -0.097729  ... -0.027548   \n",
       "\n",
       "                                          503       504       505       506  \\\n",
       "0                                                                             \n",
       "kaptive_results_CP041946.1.fasta    -0.019546  0.055735 -0.015377 -0.021971   \n",
       "kaptive_results_NZ_CP020108.1.fasta -0.019596  0.055170 -0.014480 -0.021051   \n",
       "kaptive_results_NZ_CP020071.1.fasta -0.019421  0.053451 -0.013676 -0.020543   \n",
       "kaptive_results_NZ_CP020061.1.fasta -0.019688  0.054923 -0.014231 -0.020980   \n",
       "kaptive_results_NZ_CP034415.1.fasta -0.019503  0.054066 -0.014192 -0.021030   \n",
       "...                                       ...       ...       ...       ...   \n",
       "kaptive_results_NZ_CP012883.1.fasta -0.019349  0.054248 -0.014719 -0.020907   \n",
       "kaptive_results_NZ_CP011980.1.fasta -0.019598  0.056211 -0.015462 -0.021360   \n",
       "kaptive_results_NZ_CP006798.1.fasta -0.019540  0.054117 -0.014668 -0.021305   \n",
       "kaptive_results_NZ_CP009114.1.fasta -0.019255  0.055036 -0.014912 -0.021608   \n",
       "kaptive_results_NC_022082.1.fasta   -0.019427  0.055943 -0.015470 -0.021807   \n",
       "\n",
       "                                          507       508       509       510  \\\n",
       "0                                                                             \n",
       "kaptive_results_CP041946.1.fasta    -0.017729 -0.022120 -0.059440  0.043075   \n",
       "kaptive_results_NZ_CP020108.1.fasta -0.017460 -0.022553 -0.058412  0.042445   \n",
       "kaptive_results_NZ_CP020071.1.fasta -0.017741 -0.022645 -0.056251  0.041606   \n",
       "kaptive_results_NZ_CP020061.1.fasta -0.017610 -0.022215 -0.057986  0.042621   \n",
       "kaptive_results_NZ_CP034415.1.fasta -0.018273 -0.022608 -0.057535  0.042234   \n",
       "...                                       ...       ...       ...       ...   \n",
       "kaptive_results_NZ_CP012883.1.fasta -0.017573 -0.022633 -0.057590  0.042269   \n",
       "kaptive_results_NZ_CP011980.1.fasta -0.017586 -0.022637 -0.059872  0.043204   \n",
       "kaptive_results_NZ_CP006798.1.fasta -0.017890 -0.022288 -0.057694  0.042377   \n",
       "kaptive_results_NZ_CP009114.1.fasta -0.017695 -0.022378 -0.058573  0.042654   \n",
       "kaptive_results_NC_022082.1.fasta   -0.017397 -0.022190 -0.059178  0.043240   \n",
       "\n",
       "                                          511  \n",
       "0                                              \n",
       "kaptive_results_CP041946.1.fasta    -0.059087  \n",
       "kaptive_results_NZ_CP020108.1.fasta -0.057714  \n",
       "kaptive_results_NZ_CP020071.1.fasta -0.056279  \n",
       "kaptive_results_NZ_CP020061.1.fasta -0.057397  \n",
       "kaptive_results_NZ_CP034415.1.fasta -0.056947  \n",
       "...                                       ...  \n",
       "kaptive_results_NZ_CP012883.1.fasta -0.057104  \n",
       "kaptive_results_NZ_CP011980.1.fasta -0.058816  \n",
       "kaptive_results_NZ_CP006798.1.fasta -0.057149  \n",
       "kaptive_results_NZ_CP009114.1.fasta -0.057976  \n",
       "kaptive_results_NC_022082.1.fasta   -0.059367  \n",
       "\n",
       "[376 rows x 512 columns]"
      ]
     },
     "execution_count": 129,
     "metadata": {},
     "output_type": "execute_result"
    }
   ],
   "source": [
    "locus_em"
   ]
  },
  {
   "cell_type": "code",
   "execution_count": 96,
   "id": "weighted-special",
   "metadata": {},
   "outputs": [],
   "source": [
    "# first simple test\n",
    "rf = RandomForestClassifier(n_estimators=200, class_weight='balanced')\n",
    "outer_cv = StratifiedKFold(n_splits=4)\n",
    "score_f1 = make_scorer(f1_score, average='weighted')\n",
    "frame = np.asarray(frame)\n",
    "perf_f1 = cross_val_score(rf, X=frame[:,:-1], y=frame[:,-1], scoring=score_f1, cv=outer_cv, verbose=False)"
   ]
  },
  {
   "cell_type": "code",
   "execution_count": 97,
   "id": "surprised-actress",
   "metadata": {},
   "outputs": [
    {
     "data": {
      "text/plain": [
       "0.7643560945525851"
      ]
     },
     "execution_count": 97,
     "metadata": {},
     "output_type": "execute_result"
    }
   ],
   "source": [
    "np.mean(perf_f1)"
   ]
  },
  {
   "cell_type": "code",
   "execution_count": 113,
   "id": "starting-concert",
   "metadata": {},
   "outputs": [
    {
     "name": "stdout",
     "output_type": "stream",
     "text": [
      "2080\n",
      "2083\n",
      "2089\n",
      "2127\n",
      "2149\n"
     ]
    }
   ],
   "source": [
    "from sklearn.model_selection import KFold\n",
    "rf = RandomForestClassifier(n_estimators=200, class_weight='balanced')\n",
    "loci_cv = KFold(n_splits=5)\n",
    "frame_array = np.asarray(frame.iloc[:,:-2])\n",
    "labels = np.asarray(frame.iloc[:,-2])\n",
    "fscores = []\n",
    "for train_index, test_index in loci_cv.split(loci_sim):\n",
    "    # construct training and test dataframe\n",
    "    train_index_frame = []; test_index_frame = []\n",
    "    for i, row_id in enumerate(frame['row']):\n",
    "        if row_id in train_index:\n",
    "            train_index_frame.append(i)\n",
    "        else:\n",
    "            test_index_frame.append(i)\n",
    "    frame_train, frame_test = frame_array[train_index_frame], frame_array[test_index_frame]\n",
    "    labels_train, labels_test = labels[train_index_frame], labels[test_index_frame]\n",
    "    \n",
    "    # fit a model\n",
    "    rf.fit(frame_train, labels_train)\n",
    "    \n",
    "    # make predictions and test\n",
    "    preds = rf.predict(frame_test)\n",
    "    fscores.append(f1_score(labels_test, preds))"
   ]
  },
  {
   "cell_type": "code",
   "execution_count": 112,
   "id": "tropical-grave",
   "metadata": {},
   "outputs": [
    {
     "data": {
      "text/plain": [
       "0.6992311395518278"
      ]
     },
     "execution_count": 112,
     "metadata": {},
     "output_type": "execute_result"
    }
   ],
   "source": [
    "np.mean(fscores)"
   ]
  },
  {
   "cell_type": "raw",
   "id": "tutorial-thread",
   "metadata": {},
   "source": [
    "# inner 4-fold cross-validation to tune hyperparameters\n",
    "lr_l1 = GridSearchCV(pipe_lr_l1, cv=inner_cv, param_grid=param_grid_lr, scoring=score_acc)\n",
    "lr_l2 = GridSearchCV(pipe_lr_l2, cv=inner_cv, param_grid=param_grid_lr, scoring=score_acc)\n",
    "rf = GridSearchCV(pipe_rf, cv=inner_cv, param_grid=param_grid_rf, scoring=score_acc)\n",
    "gb = GridSearchCV(pipe_gb, cv=inner_cv, param_grid=param_grid_gb, scoring=score_acc)\n",
    "\n",
    "# outer 4-fold cross-validation to compute performance\n",
    "performances = {}\n",
    "features['class'] = np.asarray(dummies) # add target column\n",
    "models = {'LDA': pipe_lda, 'logistic (L1)': lr_l1, 'logistic (L2)': lr_l2, 'RF': rf, 'GB': gb}\n",
    "for model_name, model in models.items():\n",
    "    perf_acc = cross_val_score(model, features.iloc[:, :-1], features.iloc[:,-1], scoring=score_acc, cv=outer_cv, verbose=False)\n",
    "    perf_P = cross_val_score(model, features.iloc[:, :-1], features.iloc[:,-1], scoring=score_P, cv=outer_cv, verbose=False)\n",
    "    perf_R = cross_val_score(model, features.iloc[:, :-1], features.iloc[:,-1], scoring=score_R, cv=outer_cv, verbose=False)\n",
    "    perf_f1 = cross_val_score(model, features.iloc[:, :-1], features.iloc[:,-1], scoring=score_f1, cv=outer_cv, verbose=False)\n",
    "    performances[model_name] = {'Acc':np.mean(perf_acc), 'P':np.mean(perf_P), 'R':np.mean(perf_R), 'f1':np.mean(perf_f1)}"
   ]
  },
  {
   "cell_type": "markdown",
   "id": "9438ff47",
   "metadata": {},
   "source": [
    "##### Structured-output learning"
   ]
  },
  {
   "cell_type": "code",
   "execution_count": 37,
   "id": "2aca4c7b",
   "metadata": {},
   "outputs": [],
   "source": [
    "rbpbase = pd.read_csv(data_dir+'/RBPbase_250621_klebsiella_pneumoniae.csv')\n",
    "locus_em = pd.read_csv(data_dir+'/locus_embeddings.csv', index_col=0)\n",
    "rbp_em = pd.read_csv(data_dir+'/protein_embeddings.csv', index_col=0)"
   ]
  },
  {
   "cell_type": "code",
   "execution_count": 12,
   "id": "f93e89c2",
   "metadata": {},
   "outputs": [
    {
     "name": "stdout",
     "output_type": "stream",
     "text": [
      "[121.73740733  31.15853281  98.09647206  67.71553523  41.61800365]\n"
     ]
    }
   ],
   "source": [
    "# k-nearest neighbors for multioutput regression\n",
    "from sklearn.datasets import make_regression\n",
    "from sklearn.neighbors import KNeighborsRegressor\n",
    "import numpy as np\n",
    "# create datasets\n",
    "X, y = make_regression(n_samples=1000, n_features=10, n_informative=5, n_targets=5, random_state=1, noise=0.5)\n",
    "# define model\n",
    "model = KNeighborsRegressor()\n",
    "# fit model\n",
    "model.fit(X, y)\n",
    "# make a prediction\n",
    "row = [0.21947749, 0.32948997, 0.81560036, 0.440956, -0.0606303, -0.29257894, -0.2820059, -0.00290545, 0.96402263, 0.04992249]\n",
    "yhat = model.predict([row])\n",
    "# summarize prediction\n",
    "print(yhat[0])"
   ]
  },
  {
   "cell_type": "code",
   "execution_count": 106,
   "id": "3daab495",
   "metadata": {},
   "outputs": [],
   "source": [
    "# construct simple X and Y off of the embeddings\n",
    "X = np.zeros((rbpbase.shape[0], locus_em.shape[1]))\n",
    "host_names = list(locus_em.index)\n",
    "for row, host in enumerate(rbpbase['host_accession']):\n",
    "    index = [i for i, x in enumerate(host_names) if host in x][0]\n",
    "    X[row, :] = locus_em.iloc[index, :]\n",
    "    \n",
    "from sklearn.decomposition import PCA\n",
    "pca = PCA(n_components=5)\n",
    "Y = pca.fit_transform(rbp_em)"
   ]
  },
  {
   "cell_type": "code",
   "execution_count": 107,
   "id": "59a0ed5d",
   "metadata": {},
   "outputs": [],
   "source": [
    "# fit a linear model without jointXY\n",
    "W1 = np.linalg.inv(np.dot(X.T, X))\n",
    "W2 = np.dot(X.T, Y)\n",
    "W = np.dot(W1, W2)"
   ]
  },
  {
   "cell_type": "code",
   "execution_count": 110,
   "id": "81138efc",
   "metadata": {},
   "outputs": [
    {
     "name": "stdout",
     "output_type": "stream",
     "text": [
      "accuracy:  0.0332667997338656\n"
     ]
    }
   ],
   "source": [
    "# make predictions & compute naive accuracy\n",
    "acc = 0\n",
    "for row in range(X.shape[0]):\n",
    "    yhat = np.dot(W.T, X[row,:])\n",
    "    distances = [sum(abs(Y[i,:]-yhat)) for i in range(Y.shape[0])]\n",
    "    #prediction = distances.index(min(distances))\n",
    "    preds = np.argsort(distances)[:20]\n",
    "    if row in preds:\n",
    "        acc += 1\n",
    "print('accuracy: ', acc/X.shape[0])"
   ]
  },
  {
   "cell_type": "code",
   "execution_count": null,
   "id": "0cb6aef5",
   "metadata": {},
   "outputs": [],
   "source": [
    "from sklearn.neighbors import KNeighborsRegressor\n",
    "model = KNeighborsRegressor()\n",
    "model.fit(X, Y)\n",
    "\n",
    "# make predictions & compute naive accuracy\n",
    "acc = 0\n",
    "for row in range(X.shape[0]):\n",
    "    yhat = model.predict([X[row,:]])\n",
    "    distances = [sum(abs(Y[i,:]-yhat)) for i in range(Y.shape[0])]\n",
    "    preds = np.argsort(distances)[:10]\n",
    "    if row in preds:\n",
    "        acc += 1\n",
    "print('accuracy: ', acc/X.shape[0])"
   ]
  },
  {
   "cell_type": "code",
   "execution_count": 22,
   "id": "3f4674dd",
   "metadata": {},
   "outputs": [
    {
     "data": {
      "text/plain": [
       "(1000, 5)"
      ]
     },
     "execution_count": 22,
     "metadata": {},
     "output_type": "execute_result"
    }
   ],
   "source": [
    "jointXY = ...\n",
    "\n",
    "# fit on the data\n",
    "W1 = np.linalg.inv(np.dot(jointXY.T, jointXY))\n",
    "W2 = np.dot(jointXY.T, y)\n",
    "W = np.dot(W1, W2)\n",
    "\n",
    "# make preds for new data: for every X in the testset, we construct a jointXY_test\n",
    "for row in range(Y.shape[1]):\n",
    "    Yi = Y[row, :]\n",
    "    "
   ]
  },
  {
   "cell_type": "markdown",
   "id": "residential-aging",
   "metadata": {},
   "source": [
    "## X - Out of use"
   ]
  },
  {
   "cell_type": "raw",
   "id": "promising-omaha",
   "metadata": {},
   "source": [
    "def blast_local_python(file_name, data_dir):\n",
    "    \"\"\"\n",
    "    This function does pairwise BLASTs between all sequences of an input FASTA file (Kaptive results)\n",
    "    \n",
    "    Input:\n",
    "    - file_name: string of FASTA file to pairwise BLAST\n",
    "    \n",
    "    To do:\n",
    "    - change to kaptive_file_names -> no big fasta needed, no need to make small fasta's first.\n",
    "    \"\"\"\n",
    "    \n",
    "    sequence_list = []\n",
    "    for record in SeqIO.parse(data_dir+'/'+file_name, 'fasta'):\n",
    "        sequence_list.append(str(record.seq))\n",
    "    score_matrix = np.zeros((len(sequence_list), len(sequence_list)))\n",
    "\n",
    "    for i in range(len(sequence_list)-1):\n",
    "        # make fasta sequence 1\n",
    "        fasta1 = open(data_dir+'/sequence1.fasta', 'w')\n",
    "        fasta1.write('>sequence1'+'\\n'+sequence_list[i]+'\\n')\n",
    "        fasta1.close()\n",
    "        \n",
    "        for j in range(i, len(sequence_list)):\n",
    "            # make fasta sequence 2\n",
    "            fasta2 = open(data_dir+'/sequence2.fasta', 'w')\n",
    "            fasta2.write('>sequence2'+'\\n'+sequence_list[j]+'\\n')\n",
    "            fasta2.close()\n",
    "            \n",
    "            # perform BLAST\n",
    "            blastp_cline = NcbiblastpCommandline(query=data_dir+'/sequence1.fasta', subject=data_dir+'/sequence2.fasta', \n",
    "                                                 evalue=10, outfmt=5, out=data_dir+'/BLAST_results.xml')\n",
    "            stdout, stderr = blastp_cline()\n",
    "            \n",
    "            # get results\n",
    "            blast_result = open(data_dir+'/BLAST_results.xml')\n",
    "            blast_record = NCBIXML.read(blast_result)\n",
    "            try:\n",
    "                alignment = blast_record.alignments[0]\n",
    "                hsp = alignment.hsps[0]\n",
    "                identity = (hsp.identities/hsp.align_length)*100\n",
    "            except IndexError:\n",
    "                identity = 0\n",
    "                pass\n",
    "            \n",
    "            # write to score matrix\n",
    "            score_matrix[i,j] = identity\n",
    "            \n",
    "    score_matrix = score_matrix + score_matrix.transpose()\n",
    "    score_matrix = score_matrix - np.diag(np.diag(score_matrix))  \n",
    "    \n",
    "    os.remove(data_dir+'/sequence1.fasta')\n",
    "    os.remove(data_dir+'/sequence2.fasta')\n",
    "    \n",
    "    return score_matrix"
   ]
  }
 ],
 "metadata": {
  "kernelspec": {
   "display_name": "Python 3 (ipykernel)",
   "language": "python",
   "name": "python3"
  },
  "language_info": {
   "codemirror_mode": {
    "name": "ipython",
    "version": 3
   },
   "file_extension": ".py",
   "mimetype": "text/x-python",
   "name": "python",
   "nbconvert_exporter": "python",
   "pygments_lexer": "ipython3",
   "version": "3.9.7"
  }
 },
 "nbformat": 4,
 "nbformat_minor": 5
}
