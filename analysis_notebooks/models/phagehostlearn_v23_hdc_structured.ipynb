{
 "cells": [
  {
   "cell_type": "markdown",
   "id": "f577d7df",
   "metadata": {},
   "source": [
    "# PhageHostLearn - v2.3 (Klebsiella)\n",
    "\n",
    "An AI-based Phage-Host interaction predictor framework with K-loci and receptor-binding proteins at its core. This particular PhageHostLearn is for *Klebsiella pneumoniae* related phages. This notebook follows after having ran the PhageHostLearn_processing steps implemented in the accompanying Jupyter notebook.\n",
    "\n",
    "**Architecture of this framework**: \n",
    "- Multi-instance RBP embedding: phages consist of one or more RBPs that are embedded together\n",
    "- Multi-instance K-loci embedding: K-locus consists of multiple proteins that are embedded together\n",
    "- Hyperdimensional vector embeddings for both that are bound to signatures\n",
    "- Signatures that are aggregated to create profiles of the positive class\n",
    "- Unbinding with new loci HDVs on the positive profile to get a proxy for the closest multiRBP HDV\n",
    "- Cosine similarity to compute and rank the closest known multiRBP embeddings\n",
    "\n",
    "**Overview of the notebook**:\n",
    "\n",
    "1. [Defining the necessary functions](#functions)\n",
    "2. [Transform the loci sequences into embeddings](#lociembed) using hyperdimensional vectors\n",
    "3. [Transform the RBP sequences into embeddings](#rbpembed) using hyperdimensional vectors\n",
    "4. [Compute joint features: bind or concat](#joint)\n",
    "5. [Aggregation and cosine similarity](#hdc)"
   ]
  },
  {
   "cell_type": "markdown",
   "id": "a4cc1380",
   "metadata": {},
   "source": [
    "## 0 - Libraries and directories"
   ]
  },
  {
   "cell_type": "code",
   "execution_count": 1,
   "id": "5e3e26c3",
   "metadata": {},
   "outputs": [],
   "source": [
    "using CSV\n",
    "using Test\n",
    "using JSON\n",
    "using Plots\n",
    "using FASTX\n",
    "using Colors\n",
    "using Random\n",
    "using StatsBase\n",
    "using Statistics\n",
    "using DataFrames\n",
    "using ScikitLearn\n",
    "using EvalMetrics\n",
    "using BioAlignments\n",
    "using ProgressMeter\n",
    "using LinearAlgebra\n",
    "using ProgressMeter\n",
    "using BioAlignments\n",
    "using DelimitedFiles\n",
    "using MultivariateStats\n",
    "\n",
    "@sk_import decomposition: PCA\n",
    "@sk_import ensemble: RandomForestClassifier\n",
    "@sk_import metrics: roc_auc_score\n",
    "\n",
    "push!(LOAD_PATH, \"/Users/dimi/Documents/GitHub/HyperdimensionalComputing.jl/src/\")\n",
    "using HyperdimensionalComputing\n",
    "\n",
    "general_dir = \"/Users/dimi/GoogleDrive/PhD/4_PHAGEHOST_LEARNING/42_DATA/Valencia_data\" # general directory\n",
    "results_dir = \"/Users/dimi/GoogleDrive/PhD/4_PHAGEHOST_LEARNING/43_RESULTS/models\"\n",
    "data_suffix = \"Valencia\"; # choose a suffix for the created data files"
   ]
  },
  {
   "cell_type": "markdown",
   "id": "a9cff52b",
   "metadata": {},
   "source": [
    "## 1 - Functions<a name=\"functions\"></a>"
   ]
  },
  {
   "cell_type": "code",
   "execution_count": 2,
   "id": "015ad564",
   "metadata": {},
   "outputs": [
    {
     "data": {
      "text/plain": [
       "file_to_array (generic function with 1 method)"
      ]
     },
     "execution_count": 2,
     "metadata": {},
     "output_type": "execute_result"
    }
   ],
   "source": [
    "function file_to_array(file)\n",
    "    \"\"\"\n",
    "    Function that reads a FASTA file and puts its sequences in an array.\n",
    "    \"\"\"\n",
    "    sequences = []\n",
    "    reader = FASTA.Reader(open(file, \"r\"))\n",
    "    for record in reader\n",
    "        seq = FASTA.sequence(record)\n",
    "        push!(sequences, seq)\n",
    "    end\n",
    "    return sequences\n",
    "end"
   ]
  },
  {
   "cell_type": "code",
   "execution_count": 3,
   "id": "fc871105",
   "metadata": {
    "scrolled": true
   },
   "outputs": [
    {
     "data": {
      "text/plain": [
       "mean_reciprocal_rank (generic function with 1 method)"
      ]
     },
     "execution_count": 3,
     "metadata": {},
     "output_type": "execute_result"
    }
   ],
   "source": [
    "function mean_reciprocal_rank(queries)\n",
    "    \"\"\"\n",
    "    This function computes the mean reciprocal rank for a given array or\n",
    "    matrix of queries. It deals with relevant vs. non-relevant queries that are\n",
    "    binary. If queries is a matrix, then it will compute the reciprocal ranks over\n",
    "    all rows individually (for each 'query') and then average those.\n",
    "    E.g.:\n",
    "    queries = [[0, 0, 0], [0, 1, 0], [1, 0, 0]]\n",
    "    mean_reciprocal_rank(queries) -> 0.5\n",
    "    \"\"\"\n",
    "    if isa(queries, Matrix)\n",
    "        queries_list = [queries[i,:] for i in 1:size(queries)[1]]\n",
    "        reciprocal_ranks = [sum(query) > 0 ? 1/argmax(query) : 0 for query in queries_list]\n",
    "    else\n",
    "        reciprocal_ranks = [sum(query) > 0 ? 1/argmax(query) : 0 for query in queries]\n",
    "    end\n",
    "    return mean(reciprocal_ranks)\n",
    "end"
   ]
  },
  {
   "cell_type": "code",
   "execution_count": 4,
   "id": "a7d8b405",
   "metadata": {},
   "outputs": [
    {
     "data": {
      "text/plain": [
       "recallatk (generic function with 1 method)"
      ]
     },
     "execution_count": 4,
     "metadata": {},
     "output_type": "execute_result"
    }
   ],
   "source": [
    "function recallatk(queries, k)\n",
    "    \"\"\"\n",
    "    recall at top K for binary problems. Relevant items should be labeled as 1.\n",
    "    \n",
    "    Input: \n",
    "    - queries: list of lists of queries that are sorted (i.e. true labels sorted by prediction score)\n",
    "    - k: the top you want to look at\n",
    "    \"\"\"\n",
    "    recalls_k = [sum(query[1:k] .== 1) / sum(query .== 1) for query in queries]\n",
    "    return mean(recalls_k)\n",
    "end"
   ]
  },
  {
   "cell_type": "code",
   "execution_count": 5,
   "id": "fd2b9f57",
   "metadata": {},
   "outputs": [
    {
     "data": {
      "text/plain": [
       "hitratio (generic function with 1 method)"
      ]
     },
     "execution_count": 5,
     "metadata": {},
     "output_type": "execute_result"
    }
   ],
   "source": [
    "function hitratio(queries, k)\n",
    "    \"\"\"\n",
    "    hit ratio for in the first k elements (sorted queries)\n",
    "    \"\"\"\n",
    "    return sum([1 for query in queries if sum(query[1:k]) > 0]) / length(queries)\n",
    "end"
   ]
  },
  {
   "cell_type": "code",
   "execution_count": 6,
   "id": "4f3be05d",
   "metadata": {},
   "outputs": [
    {
     "data": {
      "text/plain": [
       "sort_label_matrix (generic function with 1 method)"
      ]
     },
     "execution_count": 6,
     "metadata": {},
     "output_type": "execute_result"
    }
   ],
   "source": [
    "function sort_label_matrix(score_matrix, label_matrix)\n",
    "    \"\"\"\n",
    "    This function sorts the label matrix based on the score matrix.\n",
    "    It does so per row (corresponding to bacteria in our setting).\n",
    "    \n",
    "    WARNING: The sortperm function will rank equal elements by ascending index order. \n",
    "    This potentially can cause an underestimation of performance (MRR), as it can be that \n",
    "    an irrelevant 0 appears earlier and then is place before a relevant 1.\n",
    "    \"\"\"\n",
    "    @assert size(label_matrix) == size(score_matrix)\n",
    "    sorted_matrix = zeros(Int64, size(label_matrix)[1], size(label_matrix)[2])\n",
    "    for i in 1:size(label_matrix)[1] # loop over rows\n",
    "        label_row = label_matrix[i,:]\n",
    "        score_row = score_matrix[i,:]\n",
    "        sorted_row = label_row[sortperm(score_row, rev=true)]\n",
    "        sorted_matrix[i,:] = sorted_row\n",
    "    end\n",
    "    return sorted_matrix\n",
    "end"
   ]
  },
  {
   "cell_type": "code",
   "execution_count": 7,
   "id": "596df09d",
   "metadata": {},
   "outputs": [
    {
     "data": {
      "text/plain": [
       "mrr_from_scores (generic function with 1 method)"
      ]
     },
     "execution_count": 7,
     "metadata": {},
     "output_type": "execute_result"
    }
   ],
   "source": [
    "function mrr_from_scores(score_matrix, label_matrix)\n",
    "    \"\"\"\n",
    "    This function is a wrapper for the previous functions that computes\n",
    "    the MRR starting from a matrix of (prediction) scores, a threshold above\n",
    "    which to consider an interaction positive and a label matrix.\n",
    "    \"\"\"\n",
    "    # sort the matrix per row and compute\n",
    "    replace!(label_matrix, missing => 0)\n",
    "    sorted_matrix = sort_label_matrix(score_matrix, label_matrix)\n",
    "    \n",
    "    return mean_reciprocal_rank(sorted_matrix)\n",
    "end"
   ]
  },
  {
   "cell_type": "code",
   "execution_count": 8,
   "id": "916c4a1c",
   "metadata": {},
   "outputs": [
    {
     "data": {
      "text/plain": [
       "auc_from_scores (generic function with 1 method)"
      ]
     },
     "execution_count": 8,
     "metadata": {},
     "output_type": "execute_result"
    }
   ],
   "source": [
    "function auc_from_scores(scores_flat, labels_flat)\n",
    "    \"\"\"\n",
    "    This function computes the AUC from raw scores returned by ScikitLearn classifiers.\n",
    "    For the AUC, we need the flat versions of scores and labels that don't contain missing \n",
    "    values (if not, this will skew the results).\n",
    "    \n",
    "    Dependencies: MLJ\n",
    "    \"\"\"\n",
    "    c = [\"neg\", \"pos\"]\n",
    "    labels_cat = categorical(c[labels_flat .+ 1])\n",
    "    scores_uni = [UnivariateFinite(categorical([\"neg\", \"pos\"]), [1.0 - p, p]) for p in scores_flat]\n",
    "    AUC = auc(scores_uni, labels_cat)\n",
    "    return AUC\n",
    "end"
   ]
  },
  {
   "cell_type": "code",
   "execution_count": 9,
   "id": "7123b0c9",
   "metadata": {},
   "outputs": [
    {
     "data": {
      "text/plain": [
       "compute_performance (generic function with 1 method)"
      ]
     },
     "execution_count": 9,
     "metadata": {},
     "output_type": "execute_result"
    }
   ],
   "source": [
    "function compute_performance(score_matrix, label_matrix, scores_flat, labels_flat)\n",
    "    \"\"\"\n",
    "    Wrapper function that computes the two relevant results we want to compare for \n",
    "    our models: the ROC AUC and the MRR.    \n",
    "    \"\"\"\n",
    "    MRR = mrr_from_scores(score_matrix, label_matrix) # compute MRR\n",
    "    AUC = auc_from_scores(scores_flat, labels_flat) # compute AUC\n",
    "    return MRR, AUC\n",
    "end"
   ]
  },
  {
   "cell_type": "markdown",
   "id": "f1db0834",
   "metadata": {},
   "source": [
    "## 2 - Computing loci embeddings<a name=\"lociembed\"></a>"
   ]
  },
  {
   "cell_type": "markdown",
   "id": "8b4dcb22",
   "metadata": {},
   "source": [
    "In this section, we define hyperdimensional vectors for the amino-acid alphabet and use these hyperdimensional vectors to construct *hyperdimensional embeddings* for our loci proteins. For the loci proteins, this is a multi-instance setting: multiple proteins will be embedded into hyperdimensional space and then those vectors are aggregated to form one final vector for each locus."
   ]
  },
  {
   "cell_type": "code",
   "execution_count": 9,
   "id": "69da2bd6",
   "metadata": {},
   "outputs": [],
   "source": [
    "# load data\n",
    "LociBase = JSON.parsefile(general_dir*\"/Locibase\"*data_suffix*\".json\")\n",
    "seros = DataFrame(CSV.File(general_dir*\"/serotypes\"*data_suffix*\".csv\"));"
   ]
  },
  {
   "cell_type": "code",
   "execution_count": 10,
   "id": "bb78964a",
   "metadata": {},
   "outputs": [],
   "source": [
    "# define protein alphabet\n",
    "alphabet = \"GAVLIFPSTYCMKRHWDENQX\"\n",
    "basis = Dict(c=>BipolarHDV() for c in alphabet);"
   ]
  },
  {
   "cell_type": "code",
   "execution_count": 11,
   "id": "356e2c2c",
   "metadata": {},
   "outputs": [],
   "source": [
    "# compute loci embeddings w/ proteins (multi-instance)\n",
    "loci_embeddings = Array{BipolarHDV}(undef, length(LociBase))\n",
    "for (i, (name, proteins)) in enumerate(LociBase)\n",
    "    # bind within one sequence, then aggregate the different sequences\n",
    "    protein_hdvs = [sequence_embedding(string(sequence), basis, 6) for sequence in proteins]\n",
    "    loci_hdv = HyperdimensionalComputing.aggregate(protein_hdvs)\n",
    "    loci_embeddings[i] = loci_hdv\n",
    "end"
   ]
  },
  {
   "cell_type": "markdown",
   "id": "a573ebc0",
   "metadata": {},
   "source": [
    "## 3 - Computing RBP embeddings<a name=\"rbpembed\"></a>\n",
    "\n",
    "We combine the vectors for each phage's RBP(s), also a multi-instance setting"
   ]
  },
  {
   "cell_type": "code",
   "execution_count": 14,
   "id": "0b646f90",
   "metadata": {},
   "outputs": [],
   "source": [
    "# load data\n",
    "RBPbase = DataFrame(CSV.File(general_dir*\"/RBPbase\"*data_suffix*\".csv\"));"
   ]
  },
  {
   "cell_type": "code",
   "execution_count": 15,
   "id": "8dcb88d4",
   "metadata": {},
   "outputs": [],
   "source": [
    "# compute single-rbp embeddings\n",
    "single_rbp_embeddings = [sequence_embedding(string(sequence), basis, 6) for sequence in RBPbase.protein_sequence]\n",
    "\n",
    "# put the signatures in a matrix for sklearn\n",
    "single_rbp_matrix = zeros(Int64, length(single_rbp_embeddings), 10000)\n",
    "for (i, embedding) in enumerate(single_rbp_embeddings)\n",
    "    single_rbp_matrix[i,:] = embedding\n",
    "end\n",
    "single_rbp_embeddings = hcat(DataFrame(name=RBPbase.phage_ID), DataFrame(single_rbp_matrix, :auto));"
   ]
  },
  {
   "cell_type": "code",
   "execution_count": 16,
   "id": "982319c8",
   "metadata": {},
   "outputs": [],
   "source": [
    "# compute multi-rbp embeddings\n",
    "rbp_embeddings = Array{BipolarHDV}(undef, length(unique(RBPbase.phage_ID)))\n",
    "for (i, phageid) in enumerate(unique(RBPbase.phage_ID))\n",
    "    subset = filter(row -> row.phage_ID == phageid, RBPbase)\n",
    "    protein_hdvs = [sequence_embedding(string(sequence), basis, 6) for sequence in subset.protein_sequence]\n",
    "    multirbp_hdv = HyperdimensionalComputing.aggregate(protein_hdvs)\n",
    "    rbp_embeddings[i] = multirbp_hdv\n",
    "end"
   ]
  },
  {
   "cell_type": "markdown",
   "id": "3e46957e",
   "metadata": {},
   "source": [
    "## 4 - Compute joint signatures by binding<a name=\"joint\"></a>"
   ]
  },
  {
   "cell_type": "code",
   "execution_count": 17,
   "id": "f71dbd10",
   "metadata": {},
   "outputs": [],
   "source": [
    "IM = DataFrame(CSV.File(general_dir*\"/phage_host_interactions\"*data_suffix*\".csv\"))\n",
    "rename!(IM,:Column1 => :Host)\n",
    "interaction_matrix = Matrix(IM[1:end, 2:end])\n",
    "#loci_names = IM.accession\n",
    "#serotypes = DataFrame(CSV.File(general_dir*\"/serotypes\"*data_suffix*\".csv\"))\n",
    "#rbp_names = names(IM)[2:end];"
   ]
  },
  {
   "cell_type": "code",
   "execution_count": 18,
   "id": "4cb21946",
   "metadata": {},
   "outputs": [],
   "source": [
    "# compute sigatures for loci x RBP embeddings\n",
    "features_bind = []\n",
    "labels = []\n",
    "loci_groups = []\n",
    "rbp_groups = []\n",
    "for (i, accession) in enumerate(collect(keys(LociBase)))\n",
    "    for (j, phage_id) in enumerate(unique(RBPbase.phage_ID))\n",
    "        subset = filter(row -> row.Host == accession, IM)\n",
    "        interaction = subset[!, phage_id][1]\n",
    "        if isequal(interaction, 1) || isequal(interaction, 0)\n",
    "            signature = HyperdimensionalComputing.bind([loci_embeddings[i], rbp_embeddings[j]])\n",
    "            push!(features_bind, signature)\n",
    "            push!(labels, trunc(Int, interaction))\n",
    "            push!(loci_groups, i)\n",
    "            push!(rbp_groups, j)\n",
    "        end\n",
    "    end\n",
    "end"
   ]
  },
  {
   "cell_type": "code",
   "execution_count": 19,
   "id": "01c70737",
   "metadata": {},
   "outputs": [],
   "source": [
    "# put the signatures in a matrix for sklearn\n",
    "features_b = zeros(Int64, length(features_bind), 10000)\n",
    "for i in range(1, length=length(features_bind))\n",
    "    features_b[i,:] = features_bind[i]\n",
    "end"
   ]
  },
  {
   "cell_type": "markdown",
   "id": "19b7f5e5",
   "metadata": {},
   "source": [
    "## 5 - K-fold cross-validation"
   ]
  },
  {
   "cell_type": "code",
   "execution_count": 27,
   "id": "d46cff69",
   "metadata": {},
   "outputs": [],
   "source": [
    "# perform K-fold cross-validation and keep the scores\n",
    "scores_pos = []\n",
    "kfold_labels = []\n",
    "for (train_indices, test_indices) in CrossValidation.StratifiedKFold(labels, n_folds=5, shuffle=true, random_state=42)\n",
    "    # define training and test data\n",
    "    x_train = features_bind[train_indices]\n",
    "    y_train = labels[train_indices]\n",
    "    loci_test = loci_groups[test_indices]\n",
    "    rbps_test = rbp_groups[test_indices]\n",
    "    y_test = labels[test_indices]\n",
    "    \n",
    "    # train pos aggregate\n",
    "    positives = convert(Array{BipolarHDV}, x_train[y_train .== 1])\n",
    "    pos_aggregate = HyperdimensionalComputing.aggregate(positives)\n",
    "    \n",
    "    # compute similarities\n",
    "    for (i, loci_index) in enumerate(loci_test)\n",
    "        test_locus = loci_embeddings[loci_index]\n",
    "        test_rbp = rbp_embeddings[rbps_test[i]]\n",
    "        unbind = HyperdimensionalComputing.bind([test_locus, pos_aggregate])\n",
    "        push!(scores_pos, (cos_sim(test_rbp, unbind)+1)/2)\n",
    "        push!(kfold_labels, y_test[i])\n",
    "    end\n",
    "end"
   ]
  },
  {
   "cell_type": "code",
   "execution_count": 28,
   "id": "6f5e50ac",
   "metadata": {},
   "outputs": [
    {
     "data": {
      "text/plain": [
       "0.7281339530651976"
      ]
     },
     "execution_count": 28,
     "metadata": {},
     "output_type": "execute_result"
    }
   ],
   "source": [
    "roc_auc_score(kfold_labels, scores_pos)"
   ]
  },
  {
   "cell_type": "code",
   "execution_count": 29,
   "id": "6e183c11",
   "metadata": {},
   "outputs": [
    {
     "data": {
      "text/plain": [
       "\"/Users/dimi/GoogleDrive/PhD/4_PHAGEHOST_LEARNING/43_RESULTS/models/v2.2/hdc_structured_scores_locibind.csv\""
      ]
     },
     "execution_count": 29,
     "metadata": {},
     "output_type": "execute_result"
    }
   ],
   "source": [
    "# save scores for plotting\n",
    "results = DataFrame(labels=kfold_labels, scores=scores_pos)\n",
    "#CSV.write(results_dir*\"/v2.2/hdc_structured_scores_locibind.csv\", results)"
   ]
  },
  {
   "cell_type": "markdown",
   "id": "a51ebfd3",
   "metadata": {},
   "source": [
    "## 7 - Randomized labels"
   ]
  },
  {
   "cell_type": "code",
   "execution_count": 18,
   "id": "f9cc8030",
   "metadata": {},
   "outputs": [
    {
     "name": "stdout",
     "output_type": "stream",
     "text": [
      "0.41475385638592066\n"
     ]
    }
   ],
   "source": [
    "# perform K-fold cross-validation and keep the scores\n",
    "scores_pos = []\n",
    "kfold_labels = []\n",
    "for (train_indices, test_indices) in CrossValidation.StratifiedKFold(labels, n_folds=5, shuffle=true, random_state=42)\n",
    "    # define training and test data\n",
    "    x_train = features_bind[train_indices]\n",
    "    y_train = labels[train_indices]\n",
    "    loci_test = loci_groups[test_indices]\n",
    "    rbps_test = rbp_groups[test_indices]\n",
    "    y_test = labels[test_indices]\n",
    "    y_shuffled = shuffle(y_train)\n",
    "    \n",
    "    # train pos aggregate\n",
    "    positives = convert(Array{BipolarHDV}, x_train[y_shuffled .== 1])\n",
    "    pos_aggregate = HyperdimensionalComputing.aggregate(positives)\n",
    "    \n",
    "    # compute similarities\n",
    "    for (i, loci_index) in enumerate(loci_test)\n",
    "        test_locus = loci_embeddings[loci_index]\n",
    "        test_rbp = rbp_embeddings[rbps_test[i]]\n",
    "        unbind = HyperdimensionalComputing.bind([test_locus, pos_aggregate])\n",
    "        push!(scores_pos, (cos_sim(test_rbp, unbind)+1)/2)\n",
    "        push!(kfold_labels, y_test[i])\n",
    "    end\n",
    "end\n",
    "println(roc_auc_score(kfold_labels, scores_pos))\n",
    "# save scores for plotting\n",
    "results = DataFrame(labels=kfold_labels, scores=scores_pos)\n",
    "#CSV.write(results_dir*\"/v2.2/hdc_structured_scores_random.csv\", results);"
   ]
  },
  {
   "cell_type": "markdown",
   "id": "f8422010",
   "metadata": {},
   "source": [
    "## 7 - LOGOCV"
   ]
  },
  {
   "cell_type": "code",
   "execution_count": 20,
   "id": "311c7407",
   "metadata": {},
   "outputs": [
    {
     "name": "stderr",
     "output_type": "stream",
     "text": [
      "\u001b[32mProgress: 100%|█████████████████████████████████████████| Time: 0:00:03\u001b[39m\n"
     ]
    }
   ],
   "source": [
    "rocauc_scores = []\n",
    "prauc_scores = []\n",
    "noauc_scores = []\n",
    "sero_groups = []\n",
    "ranked_q = []\n",
    "p = Progress(200)\n",
    "\n",
    "for item in unique(loci_groups)\n",
    "    # define training and test data\n",
    "    x_train = features_bind[loci_groups .!= item]\n",
    "    y_train = labels[loci_groups .!= item]\n",
    "    x_test = features_bind[loci_groups .== item]\n",
    "    y_test = labels[loci_groups .== item]\n",
    "    rbps_test = rbp_groups[loci_groups .== item]\n",
    "    \n",
    "    # train aggregates\n",
    "    positives = convert(Array{BipolarHDV}, x_train[y_train .== 1])\n",
    "    pos_aggregate = HyperdimensionalComputing.aggregate(positives)\n",
    "    \n",
    "    # compute similarities\n",
    "    test_locus = loci_embeddings[item]\n",
    "    unbind = HyperdimensionalComputing.bind([test_locus, pos_aggregate])\n",
    "    scores_pos = [(cos_sim(rbp_embeddings[rbp_index], unbind)+1)/2 for rbp_index in rbps_test]\n",
    "    try\n",
    "        roc_auc = roc_auc_score(y_test, scores_pos)\n",
    "        pr_auc = au_prcurve(convert(Vector{Int64}, y_test), convert(Vector{Float64}, scores_pos))\n",
    "        push!(rocauc_scores, roc_auc)\n",
    "        push!(prauc_scores, pr_auc)\n",
    "        sorted_query = y_test[sortperm(scores_pos, rev=true)] # sort labels to compute MRR later\n",
    "        push!(ranked_q, sorted_query)\n",
    "        push!(sero_groups, seros.sero[item])\n",
    "    catch\n",
    "        push!(noauc_scores, scores_pos)\n",
    "    end\n",
    "    \n",
    "    # pbar update\n",
    "    next!(p)\n",
    "end"
   ]
  },
  {
   "cell_type": "code",
   "execution_count": 23,
   "id": "2f14c672",
   "metadata": {},
   "outputs": [
    {
     "name": "stdout",
     "output_type": "stream",
     "text": [
      "ROC AUC: 0.7321742548483929\n",
      "PR AUC: 0.31881492332568245\n",
      "MRR: 0.43522807341385117\n",
      "Top 10 Recall: 0.5468878890138732\n"
     ]
    }
   ],
   "source": [
    "# print scores\n",
    "println(\"ROC AUC: \", mean(rocauc_scores))\n",
    "println(\"PR AUC: \", mean(prauc_scores))\n",
    "println(\"MRR: \", mean_reciprocal_rank(ranked_q))\n",
    "println(\"Top 10 Recall: \", recallatk(ranked_q, 10))\n",
    "\n",
    "# save scores for plotting\n",
    "logo_results = DataFrame(sero=sero_groups, rocauc_scores=rocauc_scores, prauc_scores=prauc_scores, \n",
    "                            ranked_queries=ranked_q)\n",
    "CSV.write(results_dir*\"/v2.3/hdc_structured_logocv_results.csv\", logo_results);"
   ]
  },
  {
   "cell_type": "code",
   "execution_count": 11,
   "id": "15109fd6",
   "metadata": {},
   "outputs": [],
   "source": [
    "logo_results = DataFrame(CSV.File(results_dir*\"/v2.3/hdc_structured_logocv_results.csv\"))\n",
    "ranked_queries = [eval(Meta.parse(logo_results.ranked_queries[i])) for i in 1:length(logo_results.ranked_queries)]\n",
    "ks = LinRange(1, 46, 46)\n",
    "recalls = [recallatk(ranked_queries, trunc(Int, k)) for k in ks]\n",
    "hits = [hitratio(ranked_queries, trunc(Int, k)) for k in ks]\n",
    "plot(ks, recalls, lw=2.5, label=\"Recall\", c=\"#508AA8\", legend=:topleft, dpi=400)\n",
    "plot!(ks, hits, lw=2.5, label=\"Hit ratio\", c=\"#BA2D0B\")\n",
    "ylims!((0.1, 1))\n",
    "savefig(results_dir*\"/v2.3/hdc_structured_logocv_recall_hitratio.png\")"
   ]
  },
  {
   "cell_type": "code",
   "execution_count": 24,
   "id": "ea906963",
   "metadata": {},
   "outputs": [
    {
     "data": {
      "image/svg+xml": [
       "<?xml version=\"1.0\" encoding=\"utf-8\"?>\n",
       "<svg xmlns=\"http://www.w3.org/2000/svg\" xmlns:xlink=\"http://www.w3.org/1999/xlink\" width=\"600\" height=\"400\" viewBox=\"0 0 2400 1600\">\n",
       "<defs>\n",
       "  <clipPath id=\"clip270\">\n",
       "    <rect x=\"0\" y=\"0\" width=\"2400\" height=\"1600\"/>\n",
       "  </clipPath>\n",
       "</defs>\n",
       "<path clip-path=\"url(#clip270)\" d=\"\n",
       "M0 1600 L2400 1600 L2400 0 L0 0  Z\n",
       "  \" fill=\"#ffffff\" fill-rule=\"evenodd\" fill-opacity=\"1\"/>\n",
       "<defs>\n",
       "  <clipPath id=\"clip271\">\n",
       "    <rect x=\"480\" y=\"0\" width=\"1681\" height=\"1600\"/>\n",
       "  </clipPath>\n",
       "</defs>\n",
       "<path clip-path=\"url(#clip270)\" d=\"\n",
       "M172.015 1486.45 L2352.76 1486.45 L2352.76 47.2441 L172.015 47.2441  Z\n",
       "  \" fill=\"#ffffff\" fill-rule=\"evenodd\" fill-opacity=\"1\"/>\n",
       "<defs>\n",
       "  <clipPath id=\"clip272\">\n",
       "    <rect x=\"172\" y=\"47\" width=\"2182\" height=\"1440\"/>\n",
       "  </clipPath>\n",
       "</defs>\n",
       "<polyline clip-path=\"url(#clip272)\" style=\"stroke:#000000; stroke-linecap:round; stroke-linejoin:round; stroke-width:2; stroke-opacity:0.1; fill:none\" points=\"\n",
       "  547.335,1486.45 547.335,47.2441 \n",
       "  \"/>\n",
       "<polyline clip-path=\"url(#clip272)\" style=\"stroke:#000000; stroke-linecap:round; stroke-linejoin:round; stroke-width:2; stroke-opacity:0.1; fill:none\" points=\"\n",
       "  1058.09,1486.45 1058.09,47.2441 \n",
       "  \"/>\n",
       "<polyline clip-path=\"url(#clip272)\" style=\"stroke:#000000; stroke-linecap:round; stroke-linejoin:round; stroke-width:2; stroke-opacity:0.1; fill:none\" points=\"\n",
       "  1568.84,1486.45 1568.84,47.2441 \n",
       "  \"/>\n",
       "<polyline clip-path=\"url(#clip272)\" style=\"stroke:#000000; stroke-linecap:round; stroke-linejoin:round; stroke-width:2; stroke-opacity:0.1; fill:none\" points=\"\n",
       "  2079.59,1486.45 2079.59,47.2441 \n",
       "  \"/>\n",
       "<polyline clip-path=\"url(#clip270)\" style=\"stroke:#000000; stroke-linecap:round; stroke-linejoin:round; stroke-width:4; stroke-opacity:1; fill:none\" points=\"\n",
       "  172.015,1486.45 2352.76,1486.45 \n",
       "  \"/>\n",
       "<polyline clip-path=\"url(#clip270)\" style=\"stroke:#000000; stroke-linecap:round; stroke-linejoin:round; stroke-width:4; stroke-opacity:1; fill:none\" points=\"\n",
       "  547.335,1486.45 547.335,1467.55 \n",
       "  \"/>\n",
       "<polyline clip-path=\"url(#clip270)\" style=\"stroke:#000000; stroke-linecap:round; stroke-linejoin:round; stroke-width:4; stroke-opacity:1; fill:none\" points=\"\n",
       "  1058.09,1486.45 1058.09,1467.55 \n",
       "  \"/>\n",
       "<polyline clip-path=\"url(#clip270)\" style=\"stroke:#000000; stroke-linecap:round; stroke-linejoin:round; stroke-width:4; stroke-opacity:1; fill:none\" points=\"\n",
       "  1568.84,1486.45 1568.84,1467.55 \n",
       "  \"/>\n",
       "<polyline clip-path=\"url(#clip270)\" style=\"stroke:#000000; stroke-linecap:round; stroke-linejoin:round; stroke-width:4; stroke-opacity:1; fill:none\" points=\"\n",
       "  2079.59,1486.45 2079.59,1467.55 \n",
       "  \"/>\n",
       "<path clip-path=\"url(#clip270)\" d=\"M509.638 1517.37 Q506.027 1517.37 504.198 1520.93 Q502.393 1524.47 502.393 1531.6 Q502.393 1538.71 504.198 1542.27 Q506.027 1545.82 509.638 1545.82 Q513.272 1545.82 515.078 1542.27 Q516.907 1538.71 516.907 1531.6 Q516.907 1524.47 515.078 1520.93 Q513.272 1517.37 509.638 1517.37 M509.638 1513.66 Q515.448 1513.66 518.504 1518.27 Q521.583 1522.85 521.583 1531.6 Q521.583 1540.33 518.504 1544.94 Q515.448 1549.52 509.638 1549.52 Q503.828 1549.52 500.749 1544.94 Q497.694 1540.33 497.694 1531.6 Q497.694 1522.85 500.749 1518.27 Q503.828 1513.66 509.638 1513.66 Z\" fill=\"#000000\" fill-rule=\"evenodd\" fill-opacity=\"1\" /><path clip-path=\"url(#clip270)\" d=\"M529.8 1542.97 L534.684 1542.97 L534.684 1548.85 L529.8 1548.85 L529.8 1542.97 Z\" fill=\"#000000\" fill-rule=\"evenodd\" fill-opacity=\"1\" /><path clip-path=\"url(#clip270)\" d=\"M544.916 1514.29 L563.272 1514.29 L563.272 1518.22 L549.198 1518.22 L549.198 1526.7 Q550.217 1526.35 551.235 1526.19 Q552.254 1526 553.272 1526 Q559.059 1526 562.439 1529.17 Q565.818 1532.34 565.818 1537.76 Q565.818 1543.34 562.346 1546.44 Q558.874 1549.52 552.555 1549.52 Q550.379 1549.52 548.11 1549.15 Q545.865 1548.78 543.457 1548.04 L543.457 1543.34 Q545.541 1544.47 547.763 1545.03 Q549.985 1545.58 552.462 1545.58 Q556.467 1545.58 558.805 1543.48 Q561.142 1541.37 561.142 1537.76 Q561.142 1534.15 558.805 1532.04 Q556.467 1529.94 552.462 1529.94 Q550.587 1529.94 548.712 1530.35 Q546.86 1530.77 544.916 1531.65 L544.916 1514.29 Z\" fill=\"#000000\" fill-rule=\"evenodd\" fill-opacity=\"1\" /><path clip-path=\"url(#clip270)\" d=\"M585.031 1517.37 Q581.42 1517.37 579.591 1520.93 Q577.786 1524.47 577.786 1531.6 Q577.786 1538.71 579.591 1542.27 Q581.42 1545.82 585.031 1545.82 Q588.665 1545.82 590.471 1542.27 Q592.3 1538.71 592.3 1531.6 Q592.3 1524.47 590.471 1520.93 Q588.665 1517.37 585.031 1517.37 M585.031 1513.66 Q590.841 1513.66 593.897 1518.27 Q596.976 1522.85 596.976 1531.6 Q596.976 1540.33 593.897 1544.94 Q590.841 1549.52 585.031 1549.52 Q579.221 1549.52 576.142 1544.94 Q573.087 1540.33 573.087 1531.6 Q573.087 1522.85 576.142 1518.27 Q579.221 1513.66 585.031 1513.66 Z\" fill=\"#000000\" fill-rule=\"evenodd\" fill-opacity=\"1\" /><path clip-path=\"url(#clip270)\" d=\"M1021.19 1517.37 Q1017.58 1517.37 1015.75 1520.93 Q1013.94 1524.47 1013.94 1531.6 Q1013.94 1538.71 1015.75 1542.27 Q1017.58 1545.82 1021.19 1545.82 Q1024.82 1545.82 1026.63 1542.27 Q1028.46 1538.71 1028.46 1531.6 Q1028.46 1524.47 1026.63 1520.93 Q1024.82 1517.37 1021.19 1517.37 M1021.19 1513.66 Q1027 1513.66 1030.05 1518.27 Q1033.13 1522.85 1033.13 1531.6 Q1033.13 1540.33 1030.05 1544.94 Q1027 1549.52 1021.19 1549.52 Q1015.38 1549.52 1012.3 1544.94 Q1009.24 1540.33 1009.24 1531.6 Q1009.24 1522.85 1012.3 1518.27 Q1015.38 1513.66 1021.19 1513.66 Z\" fill=\"#000000\" fill-rule=\"evenodd\" fill-opacity=\"1\" /><path clip-path=\"url(#clip270)\" d=\"M1041.35 1542.97 L1046.23 1542.97 L1046.23 1548.85 L1041.35 1548.85 L1041.35 1542.97 Z\" fill=\"#000000\" fill-rule=\"evenodd\" fill-opacity=\"1\" /><path clip-path=\"url(#clip270)\" d=\"M1056.46 1514.29 L1074.82 1514.29 L1074.82 1518.22 L1060.75 1518.22 L1060.75 1526.7 Q1061.77 1526.35 1062.78 1526.19 Q1063.8 1526 1064.82 1526 Q1070.61 1526 1073.99 1529.17 Q1077.37 1532.34 1077.37 1537.76 Q1077.37 1543.34 1073.9 1546.44 Q1070.42 1549.52 1064.1 1549.52 Q1061.93 1549.52 1059.66 1549.15 Q1057.41 1548.78 1055.01 1548.04 L1055.01 1543.34 Q1057.09 1544.47 1059.31 1545.03 Q1061.53 1545.58 1064.01 1545.58 Q1068.02 1545.58 1070.35 1543.48 Q1072.69 1541.37 1072.69 1537.76 Q1072.69 1534.15 1070.35 1532.04 Q1068.02 1529.94 1064.01 1529.94 Q1062.14 1529.94 1060.26 1530.35 Q1058.41 1530.77 1056.46 1531.65 L1056.46 1514.29 Z\" fill=\"#000000\" fill-rule=\"evenodd\" fill-opacity=\"1\" /><path clip-path=\"url(#clip270)\" d=\"M1090.61 1544.91 L1106.93 1544.91 L1106.93 1548.85 L1084.98 1548.85 L1084.98 1544.91 Q1087.65 1542.16 1092.23 1537.53 Q1096.83 1532.88 1098.02 1531.53 Q1100.26 1529.01 1101.14 1527.27 Q1102.04 1525.51 1102.04 1523.82 Q1102.04 1521.07 1100.1 1519.33 Q1098.18 1517.6 1095.08 1517.6 Q1092.88 1517.6 1090.42 1518.36 Q1087.99 1519.13 1085.21 1520.68 L1085.21 1515.95 Q1088.04 1514.82 1090.49 1514.24 Q1092.95 1513.66 1094.98 1513.66 Q1100.35 1513.66 1103.55 1516.35 Q1106.74 1519.03 1106.74 1523.52 Q1106.74 1525.65 1105.93 1527.57 Q1105.15 1529.47 1103.04 1532.07 Q1102.46 1532.74 1099.36 1535.95 Q1096.26 1539.15 1090.61 1544.91 Z\" fill=\"#000000\" fill-rule=\"evenodd\" fill-opacity=\"1\" /><path clip-path=\"url(#clip270)\" d=\"M1530.9 1517.37 Q1527.28 1517.37 1525.46 1520.93 Q1523.65 1524.47 1523.65 1531.6 Q1523.65 1538.71 1525.46 1542.27 Q1527.28 1545.82 1530.9 1545.82 Q1534.53 1545.82 1536.34 1542.27 Q1538.16 1538.71 1538.16 1531.6 Q1538.16 1524.47 1536.34 1520.93 Q1534.53 1517.37 1530.9 1517.37 M1530.9 1513.66 Q1536.71 1513.66 1539.76 1518.27 Q1542.84 1522.85 1542.84 1531.6 Q1542.84 1540.33 1539.76 1544.94 Q1536.71 1549.52 1530.9 1549.52 Q1525.09 1549.52 1522.01 1544.94 Q1518.95 1540.33 1518.95 1531.6 Q1518.95 1522.85 1522.01 1518.27 Q1525.09 1513.66 1530.9 1513.66 Z\" fill=\"#000000\" fill-rule=\"evenodd\" fill-opacity=\"1\" /><path clip-path=\"url(#clip270)\" d=\"M1551.06 1542.97 L1555.94 1542.97 L1555.94 1548.85 L1551.06 1548.85 L1551.06 1542.97 Z\" fill=\"#000000\" fill-rule=\"evenodd\" fill-opacity=\"1\" /><path clip-path=\"url(#clip270)\" d=\"M1566.17 1514.29 L1584.53 1514.29 L1584.53 1518.22 L1570.46 1518.22 L1570.46 1526.7 Q1571.47 1526.35 1572.49 1526.19 Q1573.51 1526 1574.53 1526 Q1580.32 1526 1583.7 1529.17 Q1587.08 1532.34 1587.08 1537.76 Q1587.08 1543.34 1583.6 1546.44 Q1580.13 1549.52 1573.81 1549.52 Q1571.64 1549.52 1569.37 1549.15 Q1567.12 1548.78 1564.72 1548.04 L1564.72 1543.34 Q1566.8 1544.47 1569.02 1545.03 Q1571.24 1545.58 1573.72 1545.58 Q1577.72 1545.58 1580.06 1543.48 Q1582.4 1541.37 1582.4 1537.76 Q1582.4 1534.15 1580.06 1532.04 Q1577.72 1529.94 1573.72 1529.94 Q1571.84 1529.94 1569.97 1530.35 Q1568.12 1530.77 1566.17 1531.65 L1566.17 1514.29 Z\" fill=\"#000000\" fill-rule=\"evenodd\" fill-opacity=\"1\" /><path clip-path=\"url(#clip270)\" d=\"M1609.14 1518.36 L1597.33 1536.81 L1609.14 1536.81 L1609.14 1518.36 M1607.91 1514.29 L1613.79 1514.29 L1613.79 1536.81 L1618.72 1536.81 L1618.72 1540.7 L1613.79 1540.7 L1613.79 1548.85 L1609.14 1548.85 L1609.14 1540.7 L1593.53 1540.7 L1593.53 1536.19 L1607.91 1514.29 Z\" fill=\"#000000\" fill-rule=\"evenodd\" fill-opacity=\"1\" /><path clip-path=\"url(#clip270)\" d=\"M2041.81 1517.37 Q2038.2 1517.37 2036.37 1520.93 Q2034.56 1524.47 2034.56 1531.6 Q2034.56 1538.71 2036.37 1542.27 Q2038.2 1545.82 2041.81 1545.82 Q2045.44 1545.82 2047.25 1542.27 Q2049.08 1538.71 2049.08 1531.6 Q2049.08 1524.47 2047.25 1520.93 Q2045.44 1517.37 2041.81 1517.37 M2041.81 1513.66 Q2047.62 1513.66 2050.67 1518.27 Q2053.75 1522.85 2053.75 1531.6 Q2053.75 1540.33 2050.67 1544.94 Q2047.62 1549.52 2041.81 1549.52 Q2036 1549.52 2032.92 1544.94 Q2029.86 1540.33 2029.86 1531.6 Q2029.86 1522.85 2032.92 1518.27 Q2036 1513.66 2041.81 1513.66 Z\" fill=\"#000000\" fill-rule=\"evenodd\" fill-opacity=\"1\" /><path clip-path=\"url(#clip270)\" d=\"M2061.97 1542.97 L2066.85 1542.97 L2066.85 1548.85 L2061.97 1548.85 L2061.97 1542.97 Z\" fill=\"#000000\" fill-rule=\"evenodd\" fill-opacity=\"1\" /><path clip-path=\"url(#clip270)\" d=\"M2077.09 1514.29 L2095.44 1514.29 L2095.44 1518.22 L2081.37 1518.22 L2081.37 1526.7 Q2082.39 1526.35 2083.41 1526.19 Q2084.42 1526 2085.44 1526 Q2091.23 1526 2094.61 1529.17 Q2097.99 1532.34 2097.99 1537.76 Q2097.99 1543.34 2094.52 1546.44 Q2091.04 1549.52 2084.72 1549.52 Q2082.55 1549.52 2080.28 1549.15 Q2078.04 1548.78 2075.63 1548.04 L2075.63 1543.34 Q2077.71 1544.47 2079.93 1545.03 Q2082.16 1545.58 2084.63 1545.58 Q2088.64 1545.58 2090.97 1543.48 Q2093.31 1541.37 2093.31 1537.76 Q2093.31 1534.15 2090.97 1532.04 Q2088.64 1529.94 2084.63 1529.94 Q2082.76 1529.94 2080.88 1530.35 Q2079.03 1530.77 2077.09 1531.65 L2077.09 1514.29 Z\" fill=\"#000000\" fill-rule=\"evenodd\" fill-opacity=\"1\" /><path clip-path=\"url(#clip270)\" d=\"M2117.78 1529.7 Q2114.63 1529.7 2112.78 1531.86 Q2110.95 1534.01 2110.95 1537.76 Q2110.95 1541.49 2112.78 1543.66 Q2114.63 1545.82 2117.78 1545.82 Q2120.93 1545.82 2122.76 1543.66 Q2124.61 1541.49 2124.61 1537.76 Q2124.61 1534.01 2122.76 1531.86 Q2120.93 1529.7 2117.78 1529.7 M2127.06 1515.05 L2127.06 1519.31 Q2125.3 1518.48 2123.5 1518.04 Q2121.72 1517.6 2119.96 1517.6 Q2115.33 1517.6 2112.87 1520.72 Q2110.44 1523.85 2110.1 1530.17 Q2111.46 1528.15 2113.52 1527.09 Q2115.58 1526 2118.06 1526 Q2123.27 1526 2126.28 1529.17 Q2129.31 1532.32 2129.31 1537.76 Q2129.31 1543.08 2126.16 1546.3 Q2123.01 1549.52 2117.78 1549.52 Q2111.79 1549.52 2108.61 1544.94 Q2105.44 1540.33 2105.44 1531.6 Q2105.44 1523.41 2109.33 1518.55 Q2113.22 1513.66 2119.77 1513.66 Q2121.53 1513.66 2123.31 1514.01 Q2125.12 1514.36 2127.06 1515.05 Z\" fill=\"#000000\" fill-rule=\"evenodd\" fill-opacity=\"1\" /><polyline clip-path=\"url(#clip272)\" style=\"stroke:#000000; stroke-linecap:round; stroke-linejoin:round; stroke-width:2; stroke-opacity:0.1; fill:none\" points=\"\n",
       "  172.015,1445.72 2352.76,1445.72 \n",
       "  \"/>\n",
       "<polyline clip-path=\"url(#clip272)\" style=\"stroke:#000000; stroke-linecap:round; stroke-linejoin:round; stroke-width:2; stroke-opacity:0.1; fill:none\" points=\"\n",
       "  172.015,1155.6 2352.76,1155.6 \n",
       "  \"/>\n",
       "<polyline clip-path=\"url(#clip272)\" style=\"stroke:#000000; stroke-linecap:round; stroke-linejoin:round; stroke-width:2; stroke-opacity:0.1; fill:none\" points=\"\n",
       "  172.015,865.485 2352.76,865.485 \n",
       "  \"/>\n",
       "<polyline clip-path=\"url(#clip272)\" style=\"stroke:#000000; stroke-linecap:round; stroke-linejoin:round; stroke-width:2; stroke-opacity:0.1; fill:none\" points=\"\n",
       "  172.015,575.37 2352.76,575.37 \n",
       "  \"/>\n",
       "<polyline clip-path=\"url(#clip272)\" style=\"stroke:#000000; stroke-linecap:round; stroke-linejoin:round; stroke-width:2; stroke-opacity:0.1; fill:none\" points=\"\n",
       "  172.015,285.255 2352.76,285.255 \n",
       "  \"/>\n",
       "<polyline clip-path=\"url(#clip270)\" style=\"stroke:#000000; stroke-linecap:round; stroke-linejoin:round; stroke-width:4; stroke-opacity:1; fill:none\" points=\"\n",
       "  172.015,1486.45 172.015,47.2441 \n",
       "  \"/>\n",
       "<polyline clip-path=\"url(#clip270)\" style=\"stroke:#000000; stroke-linecap:round; stroke-linejoin:round; stroke-width:4; stroke-opacity:1; fill:none\" points=\"\n",
       "  172.015,1445.72 190.912,1445.72 \n",
       "  \"/>\n",
       "<polyline clip-path=\"url(#clip270)\" style=\"stroke:#000000; stroke-linecap:round; stroke-linejoin:round; stroke-width:4; stroke-opacity:1; fill:none\" points=\"\n",
       "  172.015,1155.6 190.912,1155.6 \n",
       "  \"/>\n",
       "<polyline clip-path=\"url(#clip270)\" style=\"stroke:#000000; stroke-linecap:round; stroke-linejoin:round; stroke-width:4; stroke-opacity:1; fill:none\" points=\"\n",
       "  172.015,865.485 190.912,865.485 \n",
       "  \"/>\n",
       "<polyline clip-path=\"url(#clip270)\" style=\"stroke:#000000; stroke-linecap:round; stroke-linejoin:round; stroke-width:4; stroke-opacity:1; fill:none\" points=\"\n",
       "  172.015,575.37 190.912,575.37 \n",
       "  \"/>\n",
       "<polyline clip-path=\"url(#clip270)\" style=\"stroke:#000000; stroke-linecap:round; stroke-linejoin:round; stroke-width:4; stroke-opacity:1; fill:none\" points=\"\n",
       "  172.015,285.255 190.912,285.255 \n",
       "  \"/>\n",
       "<path clip-path=\"url(#clip270)\" d=\"M124.07 1431.51 Q120.459 1431.51 118.631 1435.08 Q116.825 1438.62 116.825 1445.75 Q116.825 1452.86 118.631 1456.42 Q120.459 1459.96 124.07 1459.96 Q127.705 1459.96 129.51 1456.42 Q131.339 1452.86 131.339 1445.75 Q131.339 1438.62 129.51 1435.08 Q127.705 1431.51 124.07 1431.51 M124.07 1427.81 Q129.881 1427.81 132.936 1432.42 Q136.015 1437 136.015 1445.75 Q136.015 1454.48 132.936 1459.08 Q129.881 1463.67 124.07 1463.67 Q118.26 1463.67 115.182 1459.08 Q112.126 1454.48 112.126 1445.75 Q112.126 1437 115.182 1432.42 Q118.26 1427.81 124.07 1427.81 Z\" fill=\"#000000\" fill-rule=\"evenodd\" fill-opacity=\"1\" /><path clip-path=\"url(#clip270)\" d=\"M54.5569 1168.95 L62.1958 1168.95 L62.1958 1142.58 L53.8856 1144.25 L53.8856 1139.99 L62.1495 1138.32 L66.8254 1138.32 L66.8254 1168.95 L74.4642 1168.95 L74.4642 1172.88 L54.5569 1172.88 L54.5569 1168.95 Z\" fill=\"#000000\" fill-rule=\"evenodd\" fill-opacity=\"1\" /><path clip-path=\"url(#clip270)\" d=\"M93.9086 1141.4 Q90.2975 1141.4 88.4688 1144.96 Q86.6632 1148.51 86.6632 1155.64 Q86.6632 1162.74 88.4688 1166.31 Q90.2975 1169.85 93.9086 1169.85 Q97.5428 1169.85 99.3483 1166.31 Q101.177 1162.74 101.177 1155.64 Q101.177 1148.51 99.3483 1144.96 Q97.5428 1141.4 93.9086 1141.4 M93.9086 1137.7 Q99.7187 1137.7 102.774 1142.3 Q105.853 1146.89 105.853 1155.64 Q105.853 1164.36 102.774 1168.97 Q99.7187 1173.55 93.9086 1173.55 Q88.0984 1173.55 85.0197 1168.97 Q81.9642 1164.36 81.9642 1155.64 Q81.9642 1146.89 85.0197 1142.3 Q88.0984 1137.7 93.9086 1137.7 Z\" fill=\"#000000\" fill-rule=\"evenodd\" fill-opacity=\"1\" /><path clip-path=\"url(#clip270)\" d=\"M124.07 1141.4 Q120.459 1141.4 118.631 1144.96 Q116.825 1148.51 116.825 1155.64 Q116.825 1162.74 118.631 1166.31 Q120.459 1169.85 124.07 1169.85 Q127.705 1169.85 129.51 1166.31 Q131.339 1162.74 131.339 1155.64 Q131.339 1148.51 129.51 1144.96 Q127.705 1141.4 124.07 1141.4 M124.07 1137.7 Q129.881 1137.7 132.936 1142.3 Q136.015 1146.89 136.015 1155.64 Q136.015 1164.36 132.936 1168.97 Q129.881 1173.55 124.07 1173.55 Q118.26 1173.55 115.182 1168.97 Q112.126 1164.36 112.126 1155.64 Q112.126 1146.89 115.182 1142.3 Q118.26 1137.7 124.07 1137.7 Z\" fill=\"#000000\" fill-rule=\"evenodd\" fill-opacity=\"1\" /><path clip-path=\"url(#clip270)\" d=\"M57.7745 878.83 L74.0939 878.83 L74.0939 882.765 L52.1495 882.765 L52.1495 878.83 Q54.8115 876.075 59.3949 871.446 Q64.0013 866.793 65.1819 865.45 Q67.4272 862.927 68.3068 861.191 Q69.2096 859.432 69.2096 857.742 Q69.2096 854.988 67.2652 853.251 Q65.3439 851.515 62.2421 851.515 Q60.043 851.515 57.5893 852.279 Q55.1588 853.043 52.381 854.594 L52.381 849.872 Q55.2051 848.738 57.6588 848.159 Q60.1124 847.58 62.1495 847.58 Q67.5198 847.58 70.7142 850.265 Q73.9087 852.951 73.9087 857.441 Q73.9087 859.571 73.0985 861.492 Q72.3115 863.39 70.205 865.983 Q69.6263 866.654 66.5245 869.872 Q63.4226 873.066 57.7745 878.83 Z\" fill=\"#000000\" fill-rule=\"evenodd\" fill-opacity=\"1\" /><path clip-path=\"url(#clip270)\" d=\"M93.9086 851.284 Q90.2975 851.284 88.4688 854.849 Q86.6632 858.39 86.6632 865.52 Q86.6632 872.626 88.4688 876.191 Q90.2975 879.733 93.9086 879.733 Q97.5428 879.733 99.3483 876.191 Q101.177 872.626 101.177 865.52 Q101.177 858.39 99.3483 854.849 Q97.5428 851.284 93.9086 851.284 M93.9086 847.58 Q99.7187 847.58 102.774 852.187 Q105.853 856.77 105.853 865.52 Q105.853 874.247 102.774 878.853 Q99.7187 883.436 93.9086 883.436 Q88.0984 883.436 85.0197 878.853 Q81.9642 874.247 81.9642 865.52 Q81.9642 856.77 85.0197 852.187 Q88.0984 847.58 93.9086 847.58 Z\" fill=\"#000000\" fill-rule=\"evenodd\" fill-opacity=\"1\" /><path clip-path=\"url(#clip270)\" d=\"M124.07 851.284 Q120.459 851.284 118.631 854.849 Q116.825 858.39 116.825 865.52 Q116.825 872.626 118.631 876.191 Q120.459 879.733 124.07 879.733 Q127.705 879.733 129.51 876.191 Q131.339 872.626 131.339 865.52 Q131.339 858.39 129.51 854.849 Q127.705 851.284 124.07 851.284 M124.07 847.58 Q129.881 847.58 132.936 852.187 Q136.015 856.77 136.015 865.52 Q136.015 874.247 132.936 878.853 Q129.881 883.436 124.07 883.436 Q118.26 883.436 115.182 878.853 Q112.126 874.247 112.126 865.52 Q112.126 856.77 115.182 852.187 Q118.26 847.58 124.07 847.58 Z\" fill=\"#000000\" fill-rule=\"evenodd\" fill-opacity=\"1\" /><path clip-path=\"url(#clip270)\" d=\"M67.9133 574.016 Q71.2698 574.733 73.1448 577.002 Q75.0429 579.27 75.0429 582.604 Q75.0429 587.719 71.5244 590.52 Q68.0059 593.321 61.5245 593.321 Q59.3486 593.321 57.0338 592.881 Q54.7421 592.465 52.2884 591.608 L52.2884 587.094 Q54.2328 588.229 56.5477 588.807 Q58.8625 589.386 61.3856 589.386 Q65.7837 589.386 68.0754 587.65 Q70.3902 585.914 70.3902 582.604 Q70.3902 579.548 68.2374 577.835 Q66.1078 576.099 62.2884 576.099 L58.2606 576.099 L58.2606 572.257 L62.4735 572.257 Q65.9226 572.257 67.7513 570.891 Q69.58 569.502 69.58 566.909 Q69.58 564.247 67.6819 562.835 Q65.8069 561.4 62.2884 561.4 Q60.3671 561.4 58.168 561.817 Q55.969 562.233 53.3301 563.113 L53.3301 558.946 Q55.9921 558.206 58.3069 557.835 Q60.6449 557.465 62.705 557.465 Q68.0291 557.465 71.1309 559.895 Q74.2327 562.303 74.2327 566.423 Q74.2327 569.294 72.5892 571.284 Q70.9457 573.252 67.9133 574.016 Z\" fill=\"#000000\" fill-rule=\"evenodd\" fill-opacity=\"1\" /><path clip-path=\"url(#clip270)\" d=\"M93.9086 561.169 Q90.2975 561.169 88.4688 564.733 Q86.6632 568.275 86.6632 575.405 Q86.6632 582.511 88.4688 586.076 Q90.2975 589.618 93.9086 589.618 Q97.5428 589.618 99.3483 586.076 Q101.177 582.511 101.177 575.405 Q101.177 568.275 99.3483 564.733 Q97.5428 561.169 93.9086 561.169 M93.9086 557.465 Q99.7187 557.465 102.774 562.071 Q105.853 566.655 105.853 575.405 Q105.853 584.131 102.774 588.738 Q99.7187 593.321 93.9086 593.321 Q88.0984 593.321 85.0197 588.738 Q81.9642 584.131 81.9642 575.405 Q81.9642 566.655 85.0197 562.071 Q88.0984 557.465 93.9086 557.465 Z\" fill=\"#000000\" fill-rule=\"evenodd\" fill-opacity=\"1\" /><path clip-path=\"url(#clip270)\" d=\"M124.07 561.169 Q120.459 561.169 118.631 564.733 Q116.825 568.275 116.825 575.405 Q116.825 582.511 118.631 586.076 Q120.459 589.618 124.07 589.618 Q127.705 589.618 129.51 586.076 Q131.339 582.511 131.339 575.405 Q131.339 568.275 129.51 564.733 Q127.705 561.169 124.07 561.169 M124.07 557.465 Q129.881 557.465 132.936 562.071 Q136.015 566.655 136.015 575.405 Q136.015 584.131 132.936 588.738 Q129.881 593.321 124.07 593.321 Q118.26 593.321 115.182 588.738 Q112.126 584.131 112.126 575.405 Q112.126 566.655 115.182 562.071 Q118.26 557.465 124.07 557.465 Z\" fill=\"#000000\" fill-rule=\"evenodd\" fill-opacity=\"1\" /><path clip-path=\"url(#clip270)\" d=\"M66.5939 272.049 L54.7884 290.498 L66.5939 290.498 L66.5939 272.049 M65.367 267.975 L71.2466 267.975 L71.2466 290.498 L76.1772 290.498 L76.1772 294.387 L71.2466 294.387 L71.2466 302.535 L66.5939 302.535 L66.5939 294.387 L50.9921 294.387 L50.9921 289.873 L65.367 267.975 Z\" fill=\"#000000\" fill-rule=\"evenodd\" fill-opacity=\"1\" /><path clip-path=\"url(#clip270)\" d=\"M93.9086 271.053 Q90.2975 271.053 88.4688 274.618 Q86.6632 278.16 86.6632 285.289 Q86.6632 292.396 88.4688 295.961 Q90.2975 299.502 93.9086 299.502 Q97.5428 299.502 99.3483 295.961 Q101.177 292.396 101.177 285.289 Q101.177 278.16 99.3483 274.618 Q97.5428 271.053 93.9086 271.053 M93.9086 267.35 Q99.7187 267.35 102.774 271.956 Q105.853 276.539 105.853 285.289 Q105.853 294.016 102.774 298.623 Q99.7187 303.206 93.9086 303.206 Q88.0984 303.206 85.0197 298.623 Q81.9642 294.016 81.9642 285.289 Q81.9642 276.539 85.0197 271.956 Q88.0984 267.35 93.9086 267.35 Z\" fill=\"#000000\" fill-rule=\"evenodd\" fill-opacity=\"1\" /><path clip-path=\"url(#clip270)\" d=\"M124.07 271.053 Q120.459 271.053 118.631 274.618 Q116.825 278.16 116.825 285.289 Q116.825 292.396 118.631 295.961 Q120.459 299.502 124.07 299.502 Q127.705 299.502 129.51 295.961 Q131.339 292.396 131.339 285.289 Q131.339 278.16 129.51 274.618 Q127.705 271.053 124.07 271.053 M124.07 267.35 Q129.881 267.35 132.936 271.956 Q136.015 276.539 136.015 285.289 Q136.015 294.016 132.936 298.623 Q129.881 303.206 124.07 303.206 Q118.26 303.206 115.182 298.623 Q112.126 294.016 112.126 285.289 Q112.126 276.539 115.182 271.956 Q118.26 267.35 124.07 267.35 Z\" fill=\"#000000\" fill-rule=\"evenodd\" fill-opacity=\"1\" /><path clip-path=\"url(#clip272)\" d=\"\n",
       "M291.959 1428.31 L291.959 1445.72 L343.035 1445.72 L343.035 1428.31 L291.959 1428.31 L291.959 1428.31  Z\n",
       "  \" fill=\"#009af9\" fill-rule=\"evenodd\" fill-opacity=\"1\"/>\n",
       "<polyline clip-path=\"url(#clip272)\" style=\"stroke:#000000; stroke-linecap:round; stroke-linejoin:round; stroke-width:4; stroke-opacity:1; fill:none\" points=\"\n",
       "  291.959,1428.31 291.959,1445.72 343.035,1445.72 343.035,1428.31 291.959,1428.31 \n",
       "  \"/>\n",
       "<path clip-path=\"url(#clip272)\" d=\"\n",
       "M343.035 1434.11 L343.035 1445.72 L394.11 1445.72 L394.11 1434.11 L343.035 1434.11 L343.035 1434.11  Z\n",
       "  \" fill=\"#009af9\" fill-rule=\"evenodd\" fill-opacity=\"1\"/>\n",
       "<polyline clip-path=\"url(#clip272)\" style=\"stroke:#000000; stroke-linecap:round; stroke-linejoin:round; stroke-width:4; stroke-opacity:1; fill:none\" points=\"\n",
       "  343.035,1434.11 343.035,1445.72 394.11,1445.72 394.11,1434.11 343.035,1434.11 \n",
       "  \"/>\n",
       "<path clip-path=\"url(#clip272)\" d=\"\n",
       "M394.11 1349.98 L394.11 1445.72 L445.185 1445.72 L445.185 1349.98 L394.11 1349.98 L394.11 1349.98  Z\n",
       "  \" fill=\"#009af9\" fill-rule=\"evenodd\" fill-opacity=\"1\"/>\n",
       "<polyline clip-path=\"url(#clip272)\" style=\"stroke:#000000; stroke-linecap:round; stroke-linejoin:round; stroke-width:4; stroke-opacity:1; fill:none\" points=\"\n",
       "  394.11,1349.98 394.11,1445.72 445.185,1445.72 445.185,1349.98 394.11,1349.98 \n",
       "  \"/>\n",
       "<path clip-path=\"url(#clip272)\" d=\"\n",
       "M445.185 1289.05 L445.185 1445.72 L496.26 1445.72 L496.26 1289.05 L445.185 1289.05 L445.185 1289.05  Z\n",
       "  \" fill=\"#009af9\" fill-rule=\"evenodd\" fill-opacity=\"1\"/>\n",
       "<polyline clip-path=\"url(#clip272)\" style=\"stroke:#000000; stroke-linecap:round; stroke-linejoin:round; stroke-width:4; stroke-opacity:1; fill:none\" points=\"\n",
       "  445.185,1289.05 445.185,1445.72 496.26,1445.72 496.26,1289.05 445.185,1289.05 \n",
       "  \"/>\n",
       "<path clip-path=\"url(#clip272)\" d=\"\n",
       "M496.26 935.113 L496.26 1445.72 L547.335 1445.72 L547.335 935.113 L496.26 935.113 L496.26 935.113  Z\n",
       "  \" fill=\"#009af9\" fill-rule=\"evenodd\" fill-opacity=\"1\"/>\n",
       "<polyline clip-path=\"url(#clip272)\" style=\"stroke:#000000; stroke-linecap:round; stroke-linejoin:round; stroke-width:4; stroke-opacity:1; fill:none\" points=\"\n",
       "  496.26,935.113 496.26,1445.72 547.335,1445.72 547.335,935.113 496.26,935.113 \n",
       "  \"/>\n",
       "<path clip-path=\"url(#clip272)\" d=\"\n",
       "M547.335 349.08 L547.335 1445.72 L598.41 1445.72 L598.41 349.08 L547.335 349.08 L547.335 349.08  Z\n",
       "  \" fill=\"#009af9\" fill-rule=\"evenodd\" fill-opacity=\"1\"/>\n",
       "<polyline clip-path=\"url(#clip272)\" style=\"stroke:#000000; stroke-linecap:round; stroke-linejoin:round; stroke-width:4; stroke-opacity:1; fill:none\" points=\"\n",
       "  547.335,349.08 547.335,1445.72 598.41,1445.72 598.41,349.08 547.335,349.08 \n",
       "  \"/>\n",
       "<path clip-path=\"url(#clip272)\" d=\"\n",
       "M598.41 87.9763 L598.41 1445.72 L649.485 1445.72 L649.485 87.9763 L598.41 87.9763 L598.41 87.9763  Z\n",
       "  \" fill=\"#009af9\" fill-rule=\"evenodd\" fill-opacity=\"1\"/>\n",
       "<polyline clip-path=\"url(#clip272)\" style=\"stroke:#000000; stroke-linecap:round; stroke-linejoin:round; stroke-width:4; stroke-opacity:1; fill:none\" points=\"\n",
       "  598.41,87.9763 598.41,1445.72 649.485,1445.72 649.485,87.9763 598.41,87.9763 \n",
       "  \"/>\n",
       "<path clip-path=\"url(#clip272)\" d=\"\n",
       "M649.485 256.243 L649.485 1445.72 L700.56 1445.72 L700.56 256.243 L649.485 256.243 L649.485 256.243  Z\n",
       "  \" fill=\"#009af9\" fill-rule=\"evenodd\" fill-opacity=\"1\"/>\n",
       "<polyline clip-path=\"url(#clip272)\" style=\"stroke:#000000; stroke-linecap:round; stroke-linejoin:round; stroke-width:4; stroke-opacity:1; fill:none\" points=\"\n",
       "  649.485,256.243 649.485,1445.72 700.56,1445.72 700.56,256.243 649.485,256.243 \n",
       "  \"/>\n",
       "<path clip-path=\"url(#clip272)\" d=\"\n",
       "M700.56 424.51 L700.56 1445.72 L751.635 1445.72 L751.635 424.51 L700.56 424.51 L700.56 424.51  Z\n",
       "  \" fill=\"#009af9\" fill-rule=\"evenodd\" fill-opacity=\"1\"/>\n",
       "<polyline clip-path=\"url(#clip272)\" style=\"stroke:#000000; stroke-linecap:round; stroke-linejoin:round; stroke-width:4; stroke-opacity:1; fill:none\" points=\"\n",
       "  700.56,424.51 700.56,1445.72 751.635,1445.72 751.635,424.51 700.56,424.51 \n",
       "  \"/>\n",
       "<path clip-path=\"url(#clip272)\" d=\"\n",
       "M751.635 723.329 L751.635 1445.72 L802.71 1445.72 L802.71 723.329 L751.635 723.329 L751.635 723.329  Z\n",
       "  \" fill=\"#009af9\" fill-rule=\"evenodd\" fill-opacity=\"1\"/>\n",
       "<polyline clip-path=\"url(#clip272)\" style=\"stroke:#000000; stroke-linecap:round; stroke-linejoin:round; stroke-width:4; stroke-opacity:1; fill:none\" points=\"\n",
       "  751.635,723.329 751.635,1445.72 802.71,1445.72 802.71,723.329 751.635,723.329 \n",
       "  \"/>\n",
       "<path clip-path=\"url(#clip272)\" d=\"\n",
       "M802.71 659.503 L802.71 1445.72 L853.785 1445.72 L853.785 659.503 L802.71 659.503 L802.71 659.503  Z\n",
       "  \" fill=\"#009af9\" fill-rule=\"evenodd\" fill-opacity=\"1\"/>\n",
       "<polyline clip-path=\"url(#clip272)\" style=\"stroke:#000000; stroke-linecap:round; stroke-linejoin:round; stroke-width:4; stroke-opacity:1; fill:none\" points=\"\n",
       "  802.71,659.503 802.71,1445.72 853.785,1445.72 853.785,659.503 802.71,659.503 \n",
       "  \"/>\n",
       "<path clip-path=\"url(#clip272)\" d=\"\n",
       "M853.785 665.306 L853.785 1445.72 L904.86 1445.72 L904.86 665.306 L853.785 665.306 L853.785 665.306  Z\n",
       "  \" fill=\"#009af9\" fill-rule=\"evenodd\" fill-opacity=\"1\"/>\n",
       "<polyline clip-path=\"url(#clip272)\" style=\"stroke:#000000; stroke-linecap:round; stroke-linejoin:round; stroke-width:4; stroke-opacity:1; fill:none\" points=\"\n",
       "  853.785,665.306 853.785,1445.72 904.86,1445.72 904.86,665.306 853.785,665.306 \n",
       "  \"/>\n",
       "<path clip-path=\"url(#clip272)\" d=\"\n",
       "M904.86 874.189 L904.86 1445.72 L955.935 1445.72 L955.935 874.189 L904.86 874.189 L904.86 874.189  Z\n",
       "  \" fill=\"#009af9\" fill-rule=\"evenodd\" fill-opacity=\"1\"/>\n",
       "<polyline clip-path=\"url(#clip272)\" style=\"stroke:#000000; stroke-linecap:round; stroke-linejoin:round; stroke-width:4; stroke-opacity:1; fill:none\" points=\"\n",
       "  904.86,874.189 904.86,1445.72 955.935,1445.72 955.935,874.189 904.86,874.189 \n",
       "  \"/>\n",
       "<path clip-path=\"url(#clip272)\" d=\"\n",
       "M955.935 996.037 L955.935 1445.72 L1007.01 1445.72 L1007.01 996.037 L955.935 996.037 L955.935 996.037  Z\n",
       "  \" fill=\"#009af9\" fill-rule=\"evenodd\" fill-opacity=\"1\"/>\n",
       "<polyline clip-path=\"url(#clip272)\" style=\"stroke:#000000; stroke-linecap:round; stroke-linejoin:round; stroke-width:4; stroke-opacity:1; fill:none\" points=\"\n",
       "  955.935,996.037 955.935,1445.72 1007.01,1445.72 1007.01,996.037 955.935,996.037 \n",
       "  \"/>\n",
       "<path clip-path=\"url(#clip272)\" d=\"\n",
       "M1007.01 1120.79 L1007.01 1445.72 L1058.09 1445.72 L1058.09 1120.79 L1007.01 1120.79 L1007.01 1120.79  Z\n",
       "  \" fill=\"#009af9\" fill-rule=\"evenodd\" fill-opacity=\"1\"/>\n",
       "<polyline clip-path=\"url(#clip272)\" style=\"stroke:#000000; stroke-linecap:round; stroke-linejoin:round; stroke-width:4; stroke-opacity:1; fill:none\" points=\"\n",
       "  1007.01,1120.79 1007.01,1445.72 1058.09,1445.72 1058.09,1120.79 1007.01,1120.79 \n",
       "  \"/>\n",
       "<path clip-path=\"url(#clip272)\" d=\"\n",
       "M1058.09 1231.03 L1058.09 1445.72 L1109.16 1445.72 L1109.16 1231.03 L1058.09 1231.03 L1058.09 1231.03  Z\n",
       "  \" fill=\"#009af9\" fill-rule=\"evenodd\" fill-opacity=\"1\"/>\n",
       "<polyline clip-path=\"url(#clip272)\" style=\"stroke:#000000; stroke-linecap:round; stroke-linejoin:round; stroke-width:4; stroke-opacity:1; fill:none\" points=\"\n",
       "  1058.09,1231.03 1058.09,1445.72 1109.16,1445.72 1109.16,1231.03 1058.09,1231.03 \n",
       "  \"/>\n",
       "<path clip-path=\"url(#clip272)\" d=\"\n",
       "M1109.16 1306.46 L1109.16 1445.72 L1160.24 1445.72 L1160.24 1306.46 L1109.16 1306.46 L1109.16 1306.46  Z\n",
       "  \" fill=\"#009af9\" fill-rule=\"evenodd\" fill-opacity=\"1\"/>\n",
       "<polyline clip-path=\"url(#clip272)\" style=\"stroke:#000000; stroke-linecap:round; stroke-linejoin:round; stroke-width:4; stroke-opacity:1; fill:none\" points=\"\n",
       "  1109.16,1306.46 1109.16,1445.72 1160.24,1445.72 1160.24,1306.46 1109.16,1306.46 \n",
       "  \"/>\n",
       "<path clip-path=\"url(#clip272)\" d=\"\n",
       "M1160.24 1332.57 L1160.24 1445.72 L1211.31 1445.72 L1211.31 1332.57 L1160.24 1332.57 L1160.24 1332.57  Z\n",
       "  \" fill=\"#009af9\" fill-rule=\"evenodd\" fill-opacity=\"1\"/>\n",
       "<polyline clip-path=\"url(#clip272)\" style=\"stroke:#000000; stroke-linecap:round; stroke-linejoin:round; stroke-width:4; stroke-opacity:1; fill:none\" points=\"\n",
       "  1160.24,1332.57 1160.24,1445.72 1211.31,1445.72 1211.31,1332.57 1160.24,1332.57 \n",
       "  \"/>\n",
       "<path clip-path=\"url(#clip272)\" d=\"\n",
       "M1211.31 1367.38 L1211.31 1445.72 L1262.39 1445.72 L1262.39 1367.38 L1211.31 1367.38 L1211.31 1367.38  Z\n",
       "  \" fill=\"#009af9\" fill-rule=\"evenodd\" fill-opacity=\"1\"/>\n",
       "<polyline clip-path=\"url(#clip272)\" style=\"stroke:#000000; stroke-linecap:round; stroke-linejoin:round; stroke-width:4; stroke-opacity:1; fill:none\" points=\"\n",
       "  1211.31,1367.38 1211.31,1445.72 1262.39,1445.72 1262.39,1367.38 1211.31,1367.38 \n",
       "  \"/>\n",
       "<path clip-path=\"url(#clip272)\" d=\"\n",
       "M1262.39 1393.49 L1262.39 1445.72 L1313.46 1445.72 L1313.46 1393.49 L1262.39 1393.49 L1262.39 1393.49  Z\n",
       "  \" fill=\"#009af9\" fill-rule=\"evenodd\" fill-opacity=\"1\"/>\n",
       "<polyline clip-path=\"url(#clip272)\" style=\"stroke:#000000; stroke-linecap:round; stroke-linejoin:round; stroke-width:4; stroke-opacity:1; fill:none\" points=\"\n",
       "  1262.39,1393.49 1262.39,1445.72 1313.46,1445.72 1313.46,1393.49 1262.39,1393.49 \n",
       "  \"/>\n",
       "<path clip-path=\"url(#clip272)\" d=\"\n",
       "M1313.46 1367.38 L1313.46 1445.72 L1364.54 1445.72 L1364.54 1367.38 L1313.46 1367.38 L1313.46 1367.38  Z\n",
       "  \" fill=\"#009af9\" fill-rule=\"evenodd\" fill-opacity=\"1\"/>\n",
       "<polyline clip-path=\"url(#clip272)\" style=\"stroke:#000000; stroke-linecap:round; stroke-linejoin:round; stroke-width:4; stroke-opacity:1; fill:none\" points=\"\n",
       "  1313.46,1367.38 1313.46,1445.72 1364.54,1445.72 1364.54,1367.38 1313.46,1367.38 \n",
       "  \"/>\n",
       "<path clip-path=\"url(#clip272)\" d=\"\n",
       "M1364.54 1396.4 L1364.54 1445.72 L1415.61 1445.72 L1415.61 1396.4 L1364.54 1396.4 L1364.54 1396.4  Z\n",
       "  \" fill=\"#009af9\" fill-rule=\"evenodd\" fill-opacity=\"1\"/>\n",
       "<polyline clip-path=\"url(#clip272)\" style=\"stroke:#000000; stroke-linecap:round; stroke-linejoin:round; stroke-width:4; stroke-opacity:1; fill:none\" points=\"\n",
       "  1364.54,1396.4 1364.54,1445.72 1415.61,1445.72 1415.61,1396.4 1364.54,1396.4 \n",
       "  \"/>\n",
       "<path clip-path=\"url(#clip272)\" d=\"\n",
       "M1415.61 1402.2 L1415.61 1445.72 L1466.69 1445.72 L1466.69 1402.2 L1415.61 1402.2 L1415.61 1402.2  Z\n",
       "  \" fill=\"#009af9\" fill-rule=\"evenodd\" fill-opacity=\"1\"/>\n",
       "<polyline clip-path=\"url(#clip272)\" style=\"stroke:#000000; stroke-linecap:round; stroke-linejoin:round; stroke-width:4; stroke-opacity:1; fill:none\" points=\"\n",
       "  1415.61,1402.2 1415.61,1445.72 1466.69,1445.72 1466.69,1402.2 1415.61,1402.2 \n",
       "  \"/>\n",
       "<path clip-path=\"url(#clip272)\" d=\"\n",
       "M1466.69 1410.9 L1466.69 1445.72 L1517.76 1445.72 L1517.76 1410.9 L1466.69 1410.9 L1466.69 1410.9  Z\n",
       "  \" fill=\"#009af9\" fill-rule=\"evenodd\" fill-opacity=\"1\"/>\n",
       "<polyline clip-path=\"url(#clip272)\" style=\"stroke:#000000; stroke-linecap:round; stroke-linejoin:round; stroke-width:4; stroke-opacity:1; fill:none\" points=\"\n",
       "  1466.69,1410.9 1466.69,1445.72 1517.76,1445.72 1517.76,1410.9 1466.69,1410.9 \n",
       "  \"/>\n",
       "<path clip-path=\"url(#clip272)\" d=\"\n",
       "M1517.76 1425.41 L1517.76 1445.72 L1568.84 1445.72 L1568.84 1425.41 L1517.76 1425.41 L1517.76 1425.41  Z\n",
       "  \" fill=\"#009af9\" fill-rule=\"evenodd\" fill-opacity=\"1\"/>\n",
       "<polyline clip-path=\"url(#clip272)\" style=\"stroke:#000000; stroke-linecap:round; stroke-linejoin:round; stroke-width:4; stroke-opacity:1; fill:none\" points=\"\n",
       "  1517.76,1425.41 1517.76,1445.72 1568.84,1445.72 1568.84,1425.41 1517.76,1425.41 \n",
       "  \"/>\n",
       "<path clip-path=\"url(#clip272)\" d=\"\n",
       "M1568.84 1428.31 L1568.84 1445.72 L1619.91 1445.72 L1619.91 1428.31 L1568.84 1428.31 L1568.84 1428.31  Z\n",
       "  \" fill=\"#009af9\" fill-rule=\"evenodd\" fill-opacity=\"1\"/>\n",
       "<polyline clip-path=\"url(#clip272)\" style=\"stroke:#000000; stroke-linecap:round; stroke-linejoin:round; stroke-width:4; stroke-opacity:1; fill:none\" points=\"\n",
       "  1568.84,1428.31 1568.84,1445.72 1619.91,1445.72 1619.91,1428.31 1568.84,1428.31 \n",
       "  \"/>\n",
       "<path clip-path=\"url(#clip272)\" d=\"\n",
       "M1619.91 1425.41 L1619.91 1445.72 L1670.99 1445.72 L1670.99 1425.41 L1619.91 1425.41 L1619.91 1425.41  Z\n",
       "  \" fill=\"#009af9\" fill-rule=\"evenodd\" fill-opacity=\"1\"/>\n",
       "<polyline clip-path=\"url(#clip272)\" style=\"stroke:#000000; stroke-linecap:round; stroke-linejoin:round; stroke-width:4; stroke-opacity:1; fill:none\" points=\"\n",
       "  1619.91,1425.41 1619.91,1445.72 1670.99,1445.72 1670.99,1425.41 1619.91,1425.41 \n",
       "  \"/>\n",
       "<path clip-path=\"url(#clip272)\" d=\"\n",
       "M1670.99 1419.61 L1670.99 1445.72 L1722.06 1445.72 L1722.06 1419.61 L1670.99 1419.61 L1670.99 1419.61  Z\n",
       "  \" fill=\"#009af9\" fill-rule=\"evenodd\" fill-opacity=\"1\"/>\n",
       "<polyline clip-path=\"url(#clip272)\" style=\"stroke:#000000; stroke-linecap:round; stroke-linejoin:round; stroke-width:4; stroke-opacity:1; fill:none\" points=\"\n",
       "  1670.99,1419.61 1670.99,1445.72 1722.06,1445.72 1722.06,1419.61 1670.99,1419.61 \n",
       "  \"/>\n",
       "<path clip-path=\"url(#clip272)\" d=\"\n",
       "M1722.06 1434.11 L1722.06 1445.72 L1773.14 1445.72 L1773.14 1434.11 L1722.06 1434.11 L1722.06 1434.11  Z\n",
       "  \" fill=\"#009af9\" fill-rule=\"evenodd\" fill-opacity=\"1\"/>\n",
       "<polyline clip-path=\"url(#clip272)\" style=\"stroke:#000000; stroke-linecap:round; stroke-linejoin:round; stroke-width:4; stroke-opacity:1; fill:none\" points=\"\n",
       "  1722.06,1434.11 1722.06,1445.72 1773.14,1445.72 1773.14,1434.11 1722.06,1434.11 \n",
       "  \"/>\n",
       "<path clip-path=\"url(#clip272)\" d=\"\n",
       "M1773.14 1431.21 L1773.14 1445.72 L1824.21 1445.72 L1824.21 1431.21 L1773.14 1431.21 L1773.14 1431.21  Z\n",
       "  \" fill=\"#009af9\" fill-rule=\"evenodd\" fill-opacity=\"1\"/>\n",
       "<polyline clip-path=\"url(#clip272)\" style=\"stroke:#000000; stroke-linecap:round; stroke-linejoin:round; stroke-width:4; stroke-opacity:1; fill:none\" points=\"\n",
       "  1773.14,1431.21 1773.14,1445.72 1824.21,1445.72 1824.21,1431.21 1773.14,1431.21 \n",
       "  \"/>\n",
       "<path clip-path=\"url(#clip272)\" d=\"\n",
       "M1824.21 1439.91 L1824.21 1445.72 L1875.29 1445.72 L1875.29 1439.91 L1824.21 1439.91 L1824.21 1439.91  Z\n",
       "  \" fill=\"#009af9\" fill-rule=\"evenodd\" fill-opacity=\"1\"/>\n",
       "<polyline clip-path=\"url(#clip272)\" style=\"stroke:#000000; stroke-linecap:round; stroke-linejoin:round; stroke-width:4; stroke-opacity:1; fill:none\" points=\"\n",
       "  1824.21,1439.91 1824.21,1445.72 1875.29,1445.72 1875.29,1439.91 1824.21,1439.91 \n",
       "  \"/>\n",
       "<path clip-path=\"url(#clip272)\" d=\"\n",
       "M1875.29 1439.91 L1875.29 1445.72 L1926.36 1445.72 L1926.36 1439.91 L1875.29 1439.91 L1875.29 1439.91  Z\n",
       "  \" fill=\"#009af9\" fill-rule=\"evenodd\" fill-opacity=\"1\"/>\n",
       "<polyline clip-path=\"url(#clip272)\" style=\"stroke:#000000; stroke-linecap:round; stroke-linejoin:round; stroke-width:4; stroke-opacity:1; fill:none\" points=\"\n",
       "  1875.29,1439.91 1875.29,1445.72 1926.36,1445.72 1926.36,1439.91 1875.29,1439.91 \n",
       "  \"/>\n",
       "<path clip-path=\"url(#clip272)\" d=\"\n",
       "M1926.36 1445.72 L1926.36 1445.72 L1977.44 1445.72 L1977.44 1445.72 L1926.36 1445.72 L1926.36 1445.72  Z\n",
       "  \" fill=\"#009af9\" fill-rule=\"evenodd\" fill-opacity=\"1\"/>\n",
       "<polyline clip-path=\"url(#clip272)\" style=\"stroke:#000000; stroke-linecap:round; stroke-linejoin:round; stroke-width:4; stroke-opacity:1; fill:none\" points=\"\n",
       "  1926.36,1445.72 1926.36,1445.72 1977.44,1445.72 1926.36,1445.72 \n",
       "  \"/>\n",
       "<path clip-path=\"url(#clip272)\" d=\"\n",
       "M1977.44 1445.72 L1977.44 1445.72 L2028.51 1445.72 L2028.51 1445.72 L1977.44 1445.72 L1977.44 1445.72  Z\n",
       "  \" fill=\"#009af9\" fill-rule=\"evenodd\" fill-opacity=\"1\"/>\n",
       "<polyline clip-path=\"url(#clip272)\" style=\"stroke:#000000; stroke-linecap:round; stroke-linejoin:round; stroke-width:4; stroke-opacity:1; fill:none\" points=\"\n",
       "  1977.44,1445.72 1977.44,1445.72 2028.51,1445.72 1977.44,1445.72 \n",
       "  \"/>\n",
       "<path clip-path=\"url(#clip272)\" d=\"\n",
       "M2028.51 1437.01 L2028.51 1445.72 L2079.59 1445.72 L2079.59 1437.01 L2028.51 1437.01 L2028.51 1437.01  Z\n",
       "  \" fill=\"#009af9\" fill-rule=\"evenodd\" fill-opacity=\"1\"/>\n",
       "<polyline clip-path=\"url(#clip272)\" style=\"stroke:#000000; stroke-linecap:round; stroke-linejoin:round; stroke-width:4; stroke-opacity:1; fill:none\" points=\"\n",
       "  2028.51,1437.01 2028.51,1445.72 2079.59,1445.72 2079.59,1437.01 2028.51,1437.01 \n",
       "  \"/>\n",
       "<path clip-path=\"url(#clip272)\" d=\"\n",
       "M2079.59 1445.72 L2079.59 1445.72 L2130.66 1445.72 L2130.66 1445.72 L2079.59 1445.72 L2079.59 1445.72  Z\n",
       "  \" fill=\"#009af9\" fill-rule=\"evenodd\" fill-opacity=\"1\"/>\n",
       "<polyline clip-path=\"url(#clip272)\" style=\"stroke:#000000; stroke-linecap:round; stroke-linejoin:round; stroke-width:4; stroke-opacity:1; fill:none\" points=\"\n",
       "  2079.59,1445.72 2079.59,1445.72 2130.66,1445.72 2079.59,1445.72 \n",
       "  \"/>\n",
       "<path clip-path=\"url(#clip272)\" d=\"\n",
       "M2130.66 1442.81 L2130.66 1445.72 L2181.74 1445.72 L2181.74 1442.81 L2130.66 1442.81 L2130.66 1442.81  Z\n",
       "  \" fill=\"#009af9\" fill-rule=\"evenodd\" fill-opacity=\"1\"/>\n",
       "<polyline clip-path=\"url(#clip272)\" style=\"stroke:#000000; stroke-linecap:round; stroke-linejoin:round; stroke-width:4; stroke-opacity:1; fill:none\" points=\"\n",
       "  2130.66,1442.81 2130.66,1445.72 2181.74,1445.72 2181.74,1442.81 2130.66,1442.81 \n",
       "  \"/>\n",
       "<path clip-path=\"url(#clip272)\" d=\"\n",
       "M2181.74 1442.81 L2181.74 1445.72 L2232.81 1445.72 L2232.81 1442.81 L2181.74 1442.81 L2181.74 1442.81  Z\n",
       "  \" fill=\"#009af9\" fill-rule=\"evenodd\" fill-opacity=\"1\"/>\n",
       "<polyline clip-path=\"url(#clip272)\" style=\"stroke:#000000; stroke-linecap:round; stroke-linejoin:round; stroke-width:4; stroke-opacity:1; fill:none\" points=\"\n",
       "  2181.74,1442.81 2181.74,1445.72 2232.81,1445.72 2232.81,1442.81 2181.74,1442.81 \n",
       "  \"/>\n",
       "<circle clip-path=\"url(#clip272)\" style=\"fill:#009af9; stroke:none; fill-opacity:0\" cx=\"317.497\" cy=\"1428.31\" r=\"2\"/>\n",
       "<circle clip-path=\"url(#clip272)\" style=\"fill:#009af9; stroke:none; fill-opacity:0\" cx=\"368.572\" cy=\"1434.11\" r=\"2\"/>\n",
       "<circle clip-path=\"url(#clip272)\" style=\"fill:#009af9; stroke:none; fill-opacity:0\" cx=\"419.647\" cy=\"1349.98\" r=\"2\"/>\n",
       "<circle clip-path=\"url(#clip272)\" style=\"fill:#009af9; stroke:none; fill-opacity:0\" cx=\"470.722\" cy=\"1289.05\" r=\"2\"/>\n",
       "<circle clip-path=\"url(#clip272)\" style=\"fill:#009af9; stroke:none; fill-opacity:0\" cx=\"521.797\" cy=\"935.113\" r=\"2\"/>\n",
       "<circle clip-path=\"url(#clip272)\" style=\"fill:#009af9; stroke:none; fill-opacity:0\" cx=\"572.872\" cy=\"349.08\" r=\"2\"/>\n",
       "<circle clip-path=\"url(#clip272)\" style=\"fill:#009af9; stroke:none; fill-opacity:0\" cx=\"623.947\" cy=\"87.9763\" r=\"2\"/>\n",
       "<circle clip-path=\"url(#clip272)\" style=\"fill:#009af9; stroke:none; fill-opacity:0\" cx=\"675.022\" cy=\"256.243\" r=\"2\"/>\n",
       "<circle clip-path=\"url(#clip272)\" style=\"fill:#009af9; stroke:none; fill-opacity:0\" cx=\"726.097\" cy=\"424.51\" r=\"2\"/>\n",
       "<circle clip-path=\"url(#clip272)\" style=\"fill:#009af9; stroke:none; fill-opacity:0\" cx=\"777.172\" cy=\"723.329\" r=\"2\"/>\n",
       "<circle clip-path=\"url(#clip272)\" style=\"fill:#009af9; stroke:none; fill-opacity:0\" cx=\"828.247\" cy=\"659.503\" r=\"2\"/>\n",
       "<circle clip-path=\"url(#clip272)\" style=\"fill:#009af9; stroke:none; fill-opacity:0\" cx=\"879.323\" cy=\"665.306\" r=\"2\"/>\n",
       "<circle clip-path=\"url(#clip272)\" style=\"fill:#009af9; stroke:none; fill-opacity:0\" cx=\"930.398\" cy=\"874.189\" r=\"2\"/>\n",
       "<circle clip-path=\"url(#clip272)\" style=\"fill:#009af9; stroke:none; fill-opacity:0\" cx=\"981.473\" cy=\"996.037\" r=\"2\"/>\n",
       "<circle clip-path=\"url(#clip272)\" style=\"fill:#009af9; stroke:none; fill-opacity:0\" cx=\"1032.55\" cy=\"1120.79\" r=\"2\"/>\n",
       "<circle clip-path=\"url(#clip272)\" style=\"fill:#009af9; stroke:none; fill-opacity:0\" cx=\"1083.62\" cy=\"1231.03\" r=\"2\"/>\n",
       "<circle clip-path=\"url(#clip272)\" style=\"fill:#009af9; stroke:none; fill-opacity:0\" cx=\"1134.7\" cy=\"1306.46\" r=\"2\"/>\n",
       "<circle clip-path=\"url(#clip272)\" style=\"fill:#009af9; stroke:none; fill-opacity:0\" cx=\"1185.77\" cy=\"1332.57\" r=\"2\"/>\n",
       "<circle clip-path=\"url(#clip272)\" style=\"fill:#009af9; stroke:none; fill-opacity:0\" cx=\"1236.85\" cy=\"1367.38\" r=\"2\"/>\n",
       "<circle clip-path=\"url(#clip272)\" style=\"fill:#009af9; stroke:none; fill-opacity:0\" cx=\"1287.92\" cy=\"1393.49\" r=\"2\"/>\n",
       "<circle clip-path=\"url(#clip272)\" style=\"fill:#009af9; stroke:none; fill-opacity:0\" cx=\"1339\" cy=\"1367.38\" r=\"2\"/>\n",
       "<circle clip-path=\"url(#clip272)\" style=\"fill:#009af9; stroke:none; fill-opacity:0\" cx=\"1390.07\" cy=\"1396.4\" r=\"2\"/>\n",
       "<circle clip-path=\"url(#clip272)\" style=\"fill:#009af9; stroke:none; fill-opacity:0\" cx=\"1441.15\" cy=\"1402.2\" r=\"2\"/>\n",
       "<circle clip-path=\"url(#clip272)\" style=\"fill:#009af9; stroke:none; fill-opacity:0\" cx=\"1492.22\" cy=\"1410.9\" r=\"2\"/>\n",
       "<circle clip-path=\"url(#clip272)\" style=\"fill:#009af9; stroke:none; fill-opacity:0\" cx=\"1543.3\" cy=\"1425.41\" r=\"2\"/>\n",
       "<circle clip-path=\"url(#clip272)\" style=\"fill:#009af9; stroke:none; fill-opacity:0\" cx=\"1594.37\" cy=\"1428.31\" r=\"2\"/>\n",
       "<circle clip-path=\"url(#clip272)\" style=\"fill:#009af9; stroke:none; fill-opacity:0\" cx=\"1645.45\" cy=\"1425.41\" r=\"2\"/>\n",
       "<circle clip-path=\"url(#clip272)\" style=\"fill:#009af9; stroke:none; fill-opacity:0\" cx=\"1696.52\" cy=\"1419.61\" r=\"2\"/>\n",
       "<circle clip-path=\"url(#clip272)\" style=\"fill:#009af9; stroke:none; fill-opacity:0\" cx=\"1747.6\" cy=\"1434.11\" r=\"2\"/>\n",
       "<circle clip-path=\"url(#clip272)\" style=\"fill:#009af9; stroke:none; fill-opacity:0\" cx=\"1798.67\" cy=\"1431.21\" r=\"2\"/>\n",
       "<circle clip-path=\"url(#clip272)\" style=\"fill:#009af9; stroke:none; fill-opacity:0\" cx=\"1849.75\" cy=\"1439.91\" r=\"2\"/>\n",
       "<circle clip-path=\"url(#clip272)\" style=\"fill:#009af9; stroke:none; fill-opacity:0\" cx=\"1900.82\" cy=\"1439.91\" r=\"2\"/>\n",
       "<circle clip-path=\"url(#clip272)\" style=\"fill:#009af9; stroke:none; fill-opacity:0\" cx=\"1951.9\" cy=\"1445.72\" r=\"2\"/>\n",
       "<circle clip-path=\"url(#clip272)\" style=\"fill:#009af9; stroke:none; fill-opacity:0\" cx=\"2002.97\" cy=\"1445.72\" r=\"2\"/>\n",
       "<circle clip-path=\"url(#clip272)\" style=\"fill:#009af9; stroke:none; fill-opacity:0\" cx=\"2054.05\" cy=\"1437.01\" r=\"2\"/>\n",
       "<circle clip-path=\"url(#clip272)\" style=\"fill:#009af9; stroke:none; fill-opacity:0\" cx=\"2105.12\" cy=\"1445.72\" r=\"2\"/>\n",
       "<circle clip-path=\"url(#clip272)\" style=\"fill:#009af9; stroke:none; fill-opacity:0\" cx=\"2156.2\" cy=\"1442.81\" r=\"2\"/>\n",
       "<circle clip-path=\"url(#clip272)\" style=\"fill:#009af9; stroke:none; fill-opacity:0\" cx=\"2207.27\" cy=\"1442.81\" r=\"2\"/>\n",
       "<path clip-path=\"url(#clip270)\" d=\"\n",
       "M1985.33 198.898 L2280.06 198.898 L2280.06 95.2176 L1985.33 95.2176  Z\n",
       "  \" fill=\"#ffffff\" fill-rule=\"evenodd\" fill-opacity=\"1\"/>\n",
       "<polyline clip-path=\"url(#clip270)\" style=\"stroke:#000000; stroke-linecap:round; stroke-linejoin:round; stroke-width:4; stroke-opacity:1; fill:none\" points=\"\n",
       "  1985.33,198.898 2280.06,198.898 2280.06,95.2176 1985.33,95.2176 1985.33,198.898 \n",
       "  \"/>\n",
       "<path clip-path=\"url(#clip270)\" d=\"\n",
       "M2009.56 167.794 L2154.94 167.794 L2154.94 126.322 L2009.56 126.322 L2009.56 167.794  Z\n",
       "  \" fill=\"#009af9\" fill-rule=\"evenodd\" fill-opacity=\"1\"/>\n",
       "<polyline clip-path=\"url(#clip270)\" style=\"stroke:#000000; stroke-linecap:round; stroke-linejoin:round; stroke-width:4; stroke-opacity:1; fill:none\" points=\"\n",
       "  2009.56,167.794 2154.94,167.794 2154.94,126.322 2009.56,126.322 2009.56,167.794 \n",
       "  \"/>\n",
       "<path clip-path=\"url(#clip270)\" d=\"M2193.02 166.745 Q2191.21 171.375 2189.5 172.787 Q2187.78 174.199 2184.91 174.199 L2181.51 174.199 L2181.51 170.634 L2184.01 170.634 Q2185.77 170.634 2186.74 169.8 Q2187.71 168.967 2188.9 165.865 L2189.66 163.921 L2179.17 138.412 L2183.69 138.412 L2191.79 158.689 L2199.89 138.412 L2204.4 138.412 L2193.02 166.745 Z\" fill=\"#000000\" fill-rule=\"evenodd\" fill-opacity=\"1\" /><path clip-path=\"url(#clip270)\" d=\"M2211.7 160.402 L2219.34 160.402 L2219.34 134.037 L2211.03 135.703 L2211.03 131.444 L2219.29 129.778 L2223.96 129.778 L2223.96 160.402 L2231.6 160.402 L2231.6 164.338 L2211.7 164.338 L2211.7 160.402 Z\" fill=\"#000000\" fill-rule=\"evenodd\" fill-opacity=\"1\" /></svg>\n"
      ]
     },
     "execution_count": 24,
     "metadata": {},
     "output_type": "execute_result"
    }
   ],
   "source": [
    "scores_flat = vcat(noauc_scores...)\n",
    "histogram(scores_flat) # quasi all scores are very low"
   ]
  },
  {
   "cell_type": "markdown",
   "id": "5b632fab",
   "metadata": {},
   "source": [
    "Here, not all scores are low, actually most are around 0.5-0.51, which is indeed what we would expect after scaling! Normally scores would be around 0 in [-1, 1], but now we shifted and scaled to [0, 1], so 'random' scores will be expected around 0.5"
   ]
  },
  {
   "cell_type": "markdown",
   "id": "6aaf328c",
   "metadata": {},
   "source": [
    "## 8 - Single-RBP LOGOCV"
   ]
  },
  {
   "cell_type": "code",
   "execution_count": 70,
   "id": "bd0f12b9",
   "metadata": {},
   "outputs": [
    {
     "name": "stderr",
     "output_type": "stream",
     "text": [
      "\u001b[32mProgress: 100%|█████████████████████████████████████████| Time: 0:01:29\u001b[39m\n"
     ]
    }
   ],
   "source": [
    "rocauc_scores = []\n",
    "prauc_scores = []\n",
    "noauc_scores = []\n",
    "sero_groups = []\n",
    "ranked_q = []\n",
    "p = Progress(200)\n",
    "for item in unique(loci_groups)\n",
    "    # define training and test data\n",
    "    x_train = features_bind[loci_groups .!= item]\n",
    "    y_train = labels[loci_groups .!= item]\n",
    "    x_test = features_bind[loci_groups .== item]\n",
    "    y_test = labels[loci_groups .== item]\n",
    "    phage_test = rbp_groups[loci_groups .== item]\n",
    "    \n",
    "    # train aggregates\n",
    "    positives = convert(Array{BipolarHDV}, x_train[y_train .== 1])\n",
    "    pos_aggregate = HyperdimensionalComputing.aggregate(positives)\n",
    "    \n",
    "    # loop over phage RBPs in test set\n",
    "    scores_pos = []\n",
    "    this_loci_embedding = loci_embeddings[item]\n",
    "    unbind = HyperdimensionalComputing.bind([this_loci_embedding, pos_aggregate])\n",
    "    for phage_index in phage_test\n",
    "        # get the correct rbp embeddings\n",
    "        phageid = unique(RBPbase.phage_ID)[phage_index]\n",
    "        single_rbp_subset = filter(:name => n -> n == phageid, single_rbp_embeddings)\n",
    "        \n",
    "        # make predictions for each single RBP\n",
    "        rbp_scores = []\n",
    "        for rbpi in 1:size(single_rbp_subset)[1] # loop over each single rbp embedding\n",
    "            this_rbp_embedding = BipolarHDV(Vector(single_rbp_subset[rbpi, 2:end]))\n",
    "            push!(rbp_scores, (cos_sim(this_rbp_embedding, unbind)+1)/2)\n",
    "        end\n",
    "        \n",
    "        # add max score to the list for AUC computing\n",
    "        push!(scores_pos, maximum(rbp_scores))\n",
    "    end\n",
    "\n",
    "    # compute ROC & PR AUC\n",
    "    try\n",
    "        roc_auc = roc_auc_score(y_test, scores_pos)\n",
    "        pr_auc = au_prcurve(convert(Vector{Int64}, y_test), convert(Vector{Float64}, scores_pos))\n",
    "        push!(rocauc_scores, roc_auc)\n",
    "        push!(prauc_scores, pr_auc)\n",
    "        sorted_query = y_test[sortperm(scores_pos, rev=true)] # sort labels to compute MRR later\n",
    "        push!(ranked_q, sorted_query)\n",
    "        push!(sero_groups, seros.sero[item])\n",
    "    catch\n",
    "        push!(noauc_scores, scores_pos)\n",
    "    end\n",
    "    \n",
    "    # pbar update\n",
    "    next!(p)\n",
    "end"
   ]
  },
  {
   "cell_type": "code",
   "execution_count": 74,
   "id": "1636f477",
   "metadata": {},
   "outputs": [
    {
     "name": "stdout",
     "output_type": "stream",
     "text": [
      "ROC AUC: 0.6925997271191797\n",
      "PR AUC: 0.30182208534991534\n",
      "MRR: 0.4215739308085433\n",
      "Top 10 Recall: 0.4876140482439695\n"
     ]
    }
   ],
   "source": [
    "# print scores\n",
    "println(\"ROC AUC: \", mean(rocauc_scores))\n",
    "println(\"PR AUC: \", mean(prauc_scores))\n",
    "println(\"MRR: \", mean_reciprocal_rank(ranked_q))\n",
    "println(\"Top 10 Recall: \", recallatk(ranked_q, 10))\n",
    "\n",
    "# save scores for plotting\n",
    "logo_results = DataFrame(sero=sero_groups, rocauc_scores=rocauc_scores, prauc_scores=prauc_scores, \n",
    "                            ranked_queries=ranked_q)\n",
    "CSV.write(results_dir*\"/v2.3/hdc_structured_singlerbp_logocv_results.csv\", logo_results);"
   ]
  },
  {
   "cell_type": "code",
   "execution_count": 13,
   "id": "632fa7f8",
   "metadata": {},
   "outputs": [],
   "source": [
    "logo_results = DataFrame(CSV.File(results_dir*\"/v2.3/hdc_structured_singlerbp_logocv_results.csv\"))\n",
    "ranked_queries = [eval(Meta.parse(logo_results.ranked_queries[i])) for i in 1:length(logo_results.ranked_queries)]\n",
    "ks = LinRange(1, 46, 46)\n",
    "recalls = [recallatk(ranked_queries, trunc(Int, k)) for k in ks]\n",
    "hits = [hitratio(ranked_queries, trunc(Int, k)) for k in ks]\n",
    "plot(ks, recalls, lw=2.5, label=\"Recall\", c=\"#508AA8\", legend=:topleft, dpi=400)\n",
    "plot!(ks, hits, lw=2.5, label=\"Hit ratio\", c=\"#BA2D0B\")\n",
    "ylims!((0.1, 1))\n",
    "savefig(results_dir*\"/v2.3/hdc_structured_singlerbp_logocv_recall_hitratio.png\")"
   ]
  },
  {
   "cell_type": "code",
   "execution_count": 75,
   "id": "80cdb9f1",
   "metadata": {},
   "outputs": [
    {
     "data": {
      "image/svg+xml": [
       "<?xml version=\"1.0\" encoding=\"utf-8\"?>\n",
       "<svg xmlns=\"http://www.w3.org/2000/svg\" xmlns:xlink=\"http://www.w3.org/1999/xlink\" width=\"600\" height=\"400\" viewBox=\"0 0 2400 1600\">\n",
       "<defs>\n",
       "  <clipPath id=\"clip310\">\n",
       "    <rect x=\"0\" y=\"0\" width=\"2400\" height=\"1600\"/>\n",
       "  </clipPath>\n",
       "</defs>\n",
       "<path clip-path=\"url(#clip310)\" d=\"\n",
       "M0 1600 L2400 1600 L2400 0 L0 0  Z\n",
       "  \" fill=\"#ffffff\" fill-rule=\"evenodd\" fill-opacity=\"1\"/>\n",
       "<defs>\n",
       "  <clipPath id=\"clip311\">\n",
       "    <rect x=\"480\" y=\"0\" width=\"1681\" height=\"1600\"/>\n",
       "  </clipPath>\n",
       "</defs>\n",
       "<path clip-path=\"url(#clip310)\" d=\"\n",
       "M172.015 1486.45 L2352.76 1486.45 L2352.76 47.2441 L172.015 47.2441  Z\n",
       "  \" fill=\"#ffffff\" fill-rule=\"evenodd\" fill-opacity=\"1\"/>\n",
       "<defs>\n",
       "  <clipPath id=\"clip312\">\n",
       "    <rect x=\"172\" y=\"47\" width=\"2182\" height=\"1440\"/>\n",
       "  </clipPath>\n",
       "</defs>\n",
       "<polyline clip-path=\"url(#clip312)\" style=\"stroke:#000000; stroke-linecap:round; stroke-linejoin:round; stroke-width:2; stroke-opacity:0.1; fill:none\" points=\"\n",
       "  468.401,1486.45 468.401,47.2441 \n",
       "  \"/>\n",
       "<polyline clip-path=\"url(#clip312)\" style=\"stroke:#000000; stroke-linecap:round; stroke-linejoin:round; stroke-width:2; stroke-opacity:0.1; fill:none\" points=\"\n",
       "  909.503,1486.45 909.503,47.2441 \n",
       "  \"/>\n",
       "<polyline clip-path=\"url(#clip312)\" style=\"stroke:#000000; stroke-linecap:round; stroke-linejoin:round; stroke-width:2; stroke-opacity:0.1; fill:none\" points=\"\n",
       "  1350.61,1486.45 1350.61,47.2441 \n",
       "  \"/>\n",
       "<polyline clip-path=\"url(#clip312)\" style=\"stroke:#000000; stroke-linecap:round; stroke-linejoin:round; stroke-width:2; stroke-opacity:0.1; fill:none\" points=\"\n",
       "  1791.71,1486.45 1791.71,47.2441 \n",
       "  \"/>\n",
       "<polyline clip-path=\"url(#clip312)\" style=\"stroke:#000000; stroke-linecap:round; stroke-linejoin:round; stroke-width:2; stroke-opacity:0.1; fill:none\" points=\"\n",
       "  2232.81,1486.45 2232.81,47.2441 \n",
       "  \"/>\n",
       "<polyline clip-path=\"url(#clip310)\" style=\"stroke:#000000; stroke-linecap:round; stroke-linejoin:round; stroke-width:4; stroke-opacity:1; fill:none\" points=\"\n",
       "  172.015,1486.45 2352.76,1486.45 \n",
       "  \"/>\n",
       "<polyline clip-path=\"url(#clip310)\" style=\"stroke:#000000; stroke-linecap:round; stroke-linejoin:round; stroke-width:4; stroke-opacity:1; fill:none\" points=\"\n",
       "  468.401,1486.45 468.401,1467.55 \n",
       "  \"/>\n",
       "<polyline clip-path=\"url(#clip310)\" style=\"stroke:#000000; stroke-linecap:round; stroke-linejoin:round; stroke-width:4; stroke-opacity:1; fill:none\" points=\"\n",
       "  909.503,1486.45 909.503,1467.55 \n",
       "  \"/>\n",
       "<polyline clip-path=\"url(#clip310)\" style=\"stroke:#000000; stroke-linecap:round; stroke-linejoin:round; stroke-width:4; stroke-opacity:1; fill:none\" points=\"\n",
       "  1350.61,1486.45 1350.61,1467.55 \n",
       "  \"/>\n",
       "<polyline clip-path=\"url(#clip310)\" style=\"stroke:#000000; stroke-linecap:round; stroke-linejoin:round; stroke-width:4; stroke-opacity:1; fill:none\" points=\"\n",
       "  1791.71,1486.45 1791.71,1467.55 \n",
       "  \"/>\n",
       "<polyline clip-path=\"url(#clip310)\" style=\"stroke:#000000; stroke-linecap:round; stroke-linejoin:round; stroke-width:4; stroke-opacity:1; fill:none\" points=\"\n",
       "  2232.81,1486.45 2232.81,1467.55 \n",
       "  \"/>\n",
       "<path clip-path=\"url(#clip310)\" d=\"M415.623 1517.37 Q412.012 1517.37 410.183 1520.93 Q408.378 1524.47 408.378 1531.6 Q408.378 1538.71 410.183 1542.27 Q412.012 1545.82 415.623 1545.82 Q419.257 1545.82 421.063 1542.27 Q422.892 1538.71 422.892 1531.6 Q422.892 1524.47 421.063 1520.93 Q419.257 1517.37 415.623 1517.37 M415.623 1513.66 Q421.433 1513.66 424.489 1518.27 Q427.567 1522.85 427.567 1531.6 Q427.567 1540.33 424.489 1544.94 Q421.433 1549.52 415.623 1549.52 Q409.813 1549.52 406.734 1544.94 Q403.679 1540.33 403.679 1531.6 Q403.679 1522.85 406.734 1518.27 Q409.813 1513.66 415.623 1513.66 Z\" fill=\"#000000\" fill-rule=\"evenodd\" fill-opacity=\"1\" /><path clip-path=\"url(#clip310)\" d=\"M435.785 1542.97 L440.669 1542.97 L440.669 1548.85 L435.785 1548.85 L435.785 1542.97 Z\" fill=\"#000000\" fill-rule=\"evenodd\" fill-opacity=\"1\" /><path clip-path=\"url(#clip310)\" d=\"M450.901 1514.29 L469.257 1514.29 L469.257 1518.22 L455.183 1518.22 L455.183 1526.7 Q456.202 1526.35 457.22 1526.19 Q458.239 1526 459.257 1526 Q465.044 1526 468.424 1529.17 Q471.803 1532.34 471.803 1537.76 Q471.803 1543.34 468.331 1546.44 Q464.859 1549.52 458.539 1549.52 Q456.364 1549.52 454.095 1549.15 Q451.85 1548.78 449.442 1548.04 L449.442 1543.34 Q451.526 1544.47 453.748 1545.03 Q455.97 1545.58 458.447 1545.58 Q462.451 1545.58 464.789 1543.48 Q467.127 1541.37 467.127 1537.76 Q467.127 1534.15 464.789 1532.04 Q462.451 1529.94 458.447 1529.94 Q456.572 1529.94 454.697 1530.35 Q452.845 1530.77 450.901 1531.65 L450.901 1514.29 Z\" fill=\"#000000\" fill-rule=\"evenodd\" fill-opacity=\"1\" /><path clip-path=\"url(#clip310)\" d=\"M491.016 1517.37 Q487.405 1517.37 485.576 1520.93 Q483.771 1524.47 483.771 1531.6 Q483.771 1538.71 485.576 1542.27 Q487.405 1545.82 491.016 1545.82 Q494.65 1545.82 496.456 1542.27 Q498.285 1538.71 498.285 1531.6 Q498.285 1524.47 496.456 1520.93 Q494.65 1517.37 491.016 1517.37 M491.016 1513.66 Q496.826 1513.66 499.882 1518.27 Q502.961 1522.85 502.961 1531.6 Q502.961 1540.33 499.882 1544.94 Q496.826 1549.52 491.016 1549.52 Q485.206 1549.52 482.127 1544.94 Q479.072 1540.33 479.072 1531.6 Q479.072 1522.85 482.127 1518.27 Q485.206 1513.66 491.016 1513.66 Z\" fill=\"#000000\" fill-rule=\"evenodd\" fill-opacity=\"1\" /><path clip-path=\"url(#clip310)\" d=\"M521.178 1517.37 Q517.567 1517.37 515.738 1520.93 Q513.933 1524.47 513.933 1531.6 Q513.933 1538.71 515.738 1542.27 Q517.567 1545.82 521.178 1545.82 Q524.812 1545.82 526.618 1542.27 Q528.447 1538.71 528.447 1531.6 Q528.447 1524.47 526.618 1520.93 Q524.812 1517.37 521.178 1517.37 M521.178 1513.66 Q526.988 1513.66 530.044 1518.27 Q533.122 1522.85 533.122 1531.6 Q533.122 1540.33 530.044 1544.94 Q526.988 1549.52 521.178 1549.52 Q515.368 1549.52 512.289 1544.94 Q509.234 1540.33 509.234 1531.6 Q509.234 1522.85 512.289 1518.27 Q515.368 1513.66 521.178 1513.66 Z\" fill=\"#000000\" fill-rule=\"evenodd\" fill-opacity=\"1\" /><path clip-path=\"url(#clip310)\" d=\"M857.223 1517.37 Q853.612 1517.37 851.784 1520.93 Q849.978 1524.47 849.978 1531.6 Q849.978 1538.71 851.784 1542.27 Q853.612 1545.82 857.223 1545.82 Q860.858 1545.82 862.663 1542.27 Q864.492 1538.71 864.492 1531.6 Q864.492 1524.47 862.663 1520.93 Q860.858 1517.37 857.223 1517.37 M857.223 1513.66 Q863.034 1513.66 866.089 1518.27 Q869.168 1522.85 869.168 1531.6 Q869.168 1540.33 866.089 1544.94 Q863.034 1549.52 857.223 1549.52 Q851.413 1549.52 848.335 1544.94 Q845.279 1540.33 845.279 1531.6 Q845.279 1522.85 848.335 1518.27 Q851.413 1513.66 857.223 1513.66 Z\" fill=\"#000000\" fill-rule=\"evenodd\" fill-opacity=\"1\" /><path clip-path=\"url(#clip310)\" d=\"M877.385 1542.97 L882.27 1542.97 L882.27 1548.85 L877.385 1548.85 L877.385 1542.97 Z\" fill=\"#000000\" fill-rule=\"evenodd\" fill-opacity=\"1\" /><path clip-path=\"url(#clip310)\" d=\"M892.501 1514.29 L910.857 1514.29 L910.857 1518.22 L896.783 1518.22 L896.783 1526.7 Q897.802 1526.35 898.82 1526.19 Q899.839 1526 900.857 1526 Q906.644 1526 910.024 1529.17 Q913.404 1532.34 913.404 1537.76 Q913.404 1543.34 909.931 1546.44 Q906.459 1549.52 900.14 1549.52 Q897.964 1549.52 895.695 1549.15 Q893.45 1548.78 891.043 1548.04 L891.043 1543.34 Q893.126 1544.47 895.348 1545.03 Q897.57 1545.58 900.047 1545.58 Q904.052 1545.58 906.39 1543.48 Q908.728 1541.37 908.728 1537.76 Q908.728 1534.15 906.39 1532.04 Q904.052 1529.94 900.047 1529.94 Q898.172 1529.94 896.297 1530.35 Q894.445 1530.77 892.501 1531.65 L892.501 1514.29 Z\" fill=\"#000000\" fill-rule=\"evenodd\" fill-opacity=\"1\" /><path clip-path=\"url(#clip310)\" d=\"M926.644 1544.91 L942.964 1544.91 L942.964 1548.85 L921.019 1548.85 L921.019 1544.91 Q923.681 1542.16 928.265 1537.53 Q932.871 1532.88 934.052 1531.53 Q936.297 1529.01 937.177 1527.27 Q938.079 1525.51 938.079 1523.82 Q938.079 1521.07 936.135 1519.33 Q934.214 1517.6 931.112 1517.6 Q928.913 1517.6 926.459 1518.36 Q924.029 1519.13 921.251 1520.68 L921.251 1515.95 Q924.075 1514.82 926.529 1514.24 Q928.982 1513.66 931.019 1513.66 Q936.39 1513.66 939.584 1516.35 Q942.779 1519.03 942.779 1523.52 Q942.779 1525.65 941.968 1527.57 Q941.181 1529.47 939.075 1532.07 Q938.496 1532.74 935.394 1535.95 Q932.292 1539.15 926.644 1544.91 Z\" fill=\"#000000\" fill-rule=\"evenodd\" fill-opacity=\"1\" /><path clip-path=\"url(#clip310)\" d=\"M952.825 1514.29 L971.181 1514.29 L971.181 1518.22 L957.107 1518.22 L957.107 1526.7 Q958.126 1526.35 959.144 1526.19 Q960.163 1526 961.181 1526 Q966.968 1526 970.348 1529.17 Q973.727 1532.34 973.727 1537.76 Q973.727 1543.34 970.255 1546.44 Q966.783 1549.52 960.464 1549.52 Q958.288 1549.52 956.019 1549.15 Q953.774 1548.78 951.366 1548.04 L951.366 1543.34 Q953.45 1544.47 955.672 1545.03 Q957.894 1545.58 960.371 1545.58 Q964.376 1545.58 966.714 1543.48 Q969.052 1541.37 969.052 1537.76 Q969.052 1534.15 966.714 1532.04 Q964.376 1529.94 960.371 1529.94 Q958.496 1529.94 956.621 1530.35 Q954.769 1530.77 952.825 1531.65 L952.825 1514.29 Z\" fill=\"#000000\" fill-rule=\"evenodd\" fill-opacity=\"1\" /><path clip-path=\"url(#clip310)\" d=\"M1297.83 1517.37 Q1294.22 1517.37 1292.39 1520.93 Q1290.58 1524.47 1290.58 1531.6 Q1290.58 1538.71 1292.39 1542.27 Q1294.22 1545.82 1297.83 1545.82 Q1301.46 1545.82 1303.27 1542.27 Q1305.1 1538.71 1305.1 1531.6 Q1305.1 1524.47 1303.27 1520.93 Q1301.46 1517.37 1297.83 1517.37 M1297.83 1513.66 Q1303.64 1513.66 1306.69 1518.27 Q1309.77 1522.85 1309.77 1531.6 Q1309.77 1540.33 1306.69 1544.94 Q1303.64 1549.52 1297.83 1549.52 Q1292.02 1549.52 1288.94 1544.94 Q1285.88 1540.33 1285.88 1531.6 Q1285.88 1522.85 1288.94 1518.27 Q1292.02 1513.66 1297.83 1513.66 Z\" fill=\"#000000\" fill-rule=\"evenodd\" fill-opacity=\"1\" /><path clip-path=\"url(#clip310)\" d=\"M1317.99 1542.97 L1322.87 1542.97 L1322.87 1548.85 L1317.99 1548.85 L1317.99 1542.97 Z\" fill=\"#000000\" fill-rule=\"evenodd\" fill-opacity=\"1\" /><path clip-path=\"url(#clip310)\" d=\"M1333.11 1514.29 L1351.46 1514.29 L1351.46 1518.22 L1337.39 1518.22 L1337.39 1526.7 Q1338.41 1526.35 1339.43 1526.19 Q1340.44 1526 1341.46 1526 Q1347.25 1526 1350.63 1529.17 Q1354.01 1532.34 1354.01 1537.76 Q1354.01 1543.34 1350.54 1546.44 Q1347.06 1549.52 1340.74 1549.52 Q1338.57 1549.52 1336.3 1549.15 Q1334.06 1548.78 1331.65 1548.04 L1331.65 1543.34 Q1333.73 1544.47 1335.95 1545.03 Q1338.18 1545.58 1340.65 1545.58 Q1344.66 1545.58 1346.99 1543.48 Q1349.33 1541.37 1349.33 1537.76 Q1349.33 1534.15 1346.99 1532.04 Q1344.66 1529.94 1340.65 1529.94 Q1338.78 1529.94 1336.9 1530.35 Q1335.05 1530.77 1333.11 1531.65 L1333.11 1514.29 Z\" fill=\"#000000\" fill-rule=\"evenodd\" fill-opacity=\"1\" /><path clip-path=\"url(#clip310)\" d=\"M1363.27 1514.29 L1381.62 1514.29 L1381.62 1518.22 L1367.55 1518.22 L1367.55 1526.7 Q1368.57 1526.35 1369.59 1526.19 Q1370.61 1526 1371.62 1526 Q1377.41 1526 1380.79 1529.17 Q1384.17 1532.34 1384.17 1537.76 Q1384.17 1543.34 1380.7 1546.44 Q1377.23 1549.52 1370.91 1549.52 Q1368.73 1549.52 1366.46 1549.15 Q1364.22 1548.78 1361.81 1548.04 L1361.81 1543.34 Q1363.89 1544.47 1366.12 1545.03 Q1368.34 1545.58 1370.81 1545.58 Q1374.82 1545.58 1377.16 1543.48 Q1379.49 1541.37 1379.49 1537.76 Q1379.49 1534.15 1377.16 1532.04 Q1374.82 1529.94 1370.81 1529.94 Q1368.94 1529.94 1367.06 1530.35 Q1365.21 1530.77 1363.27 1531.65 L1363.27 1514.29 Z\" fill=\"#000000\" fill-rule=\"evenodd\" fill-opacity=\"1\" /><path clip-path=\"url(#clip310)\" d=\"M1403.38 1517.37 Q1399.77 1517.37 1397.94 1520.93 Q1396.14 1524.47 1396.14 1531.6 Q1396.14 1538.71 1397.94 1542.27 Q1399.77 1545.82 1403.38 1545.82 Q1407.02 1545.82 1408.82 1542.27 Q1410.65 1538.71 1410.65 1531.6 Q1410.65 1524.47 1408.82 1520.93 Q1407.02 1517.37 1403.38 1517.37 M1403.38 1513.66 Q1409.19 1513.66 1412.25 1518.27 Q1415.33 1522.85 1415.33 1531.6 Q1415.33 1540.33 1412.25 1544.94 Q1409.19 1549.52 1403.38 1549.52 Q1397.57 1549.52 1394.49 1544.94 Q1391.44 1540.33 1391.44 1531.6 Q1391.44 1522.85 1394.49 1518.27 Q1397.57 1513.66 1403.38 1513.66 Z\" fill=\"#000000\" fill-rule=\"evenodd\" fill-opacity=\"1\" /><path clip-path=\"url(#clip310)\" d=\"M1739.43 1517.37 Q1735.82 1517.37 1733.99 1520.93 Q1732.18 1524.47 1732.18 1531.6 Q1732.18 1538.71 1733.99 1542.27 Q1735.82 1545.82 1739.43 1545.82 Q1743.06 1545.82 1744.87 1542.27 Q1746.7 1538.71 1746.7 1531.6 Q1746.7 1524.47 1744.87 1520.93 Q1743.06 1517.37 1739.43 1517.37 M1739.43 1513.66 Q1745.24 1513.66 1748.29 1518.27 Q1751.37 1522.85 1751.37 1531.6 Q1751.37 1540.33 1748.29 1544.94 Q1745.24 1549.52 1739.43 1549.52 Q1733.62 1549.52 1730.54 1544.94 Q1727.48 1540.33 1727.48 1531.6 Q1727.48 1522.85 1730.54 1518.27 Q1733.62 1513.66 1739.43 1513.66 Z\" fill=\"#000000\" fill-rule=\"evenodd\" fill-opacity=\"1\" /><path clip-path=\"url(#clip310)\" d=\"M1759.59 1542.97 L1764.47 1542.97 L1764.47 1548.85 L1759.59 1548.85 L1759.59 1542.97 Z\" fill=\"#000000\" fill-rule=\"evenodd\" fill-opacity=\"1\" /><path clip-path=\"url(#clip310)\" d=\"M1774.71 1514.29 L1793.06 1514.29 L1793.06 1518.22 L1778.99 1518.22 L1778.99 1526.7 Q1780.01 1526.35 1781.03 1526.19 Q1782.04 1526 1783.06 1526 Q1788.85 1526 1792.23 1529.17 Q1795.61 1532.34 1795.61 1537.76 Q1795.61 1543.34 1792.14 1546.44 Q1788.66 1549.52 1782.35 1549.52 Q1780.17 1549.52 1777.9 1549.15 Q1775.66 1548.78 1773.25 1548.04 L1773.25 1543.34 Q1775.33 1544.47 1777.55 1545.03 Q1779.78 1545.58 1782.25 1545.58 Q1786.26 1545.58 1788.6 1543.48 Q1790.93 1541.37 1790.93 1537.76 Q1790.93 1534.15 1788.6 1532.04 Q1786.26 1529.94 1782.25 1529.94 Q1780.38 1529.94 1778.5 1530.35 Q1776.65 1530.77 1774.71 1531.65 L1774.71 1514.29 Z\" fill=\"#000000\" fill-rule=\"evenodd\" fill-opacity=\"1\" /><path clip-path=\"url(#clip310)\" d=\"M1803.64 1514.29 L1825.86 1514.29 L1825.86 1516.28 L1813.32 1548.85 L1808.43 1548.85 L1820.24 1518.22 L1803.64 1518.22 L1803.64 1514.29 Z\" fill=\"#000000\" fill-rule=\"evenodd\" fill-opacity=\"1\" /><path clip-path=\"url(#clip310)\" d=\"M1835.03 1514.29 L1853.39 1514.29 L1853.39 1518.22 L1839.31 1518.22 L1839.31 1526.7 Q1840.33 1526.35 1841.35 1526.19 Q1842.37 1526 1843.39 1526 Q1849.17 1526 1852.55 1529.17 Q1855.93 1532.34 1855.93 1537.76 Q1855.93 1543.34 1852.46 1546.44 Q1848.99 1549.52 1842.67 1549.52 Q1840.49 1549.52 1838.22 1549.15 Q1835.98 1548.78 1833.57 1548.04 L1833.57 1543.34 Q1835.66 1544.47 1837.88 1545.03 Q1840.1 1545.58 1842.58 1545.58 Q1846.58 1545.58 1848.92 1543.48 Q1851.26 1541.37 1851.26 1537.76 Q1851.26 1534.15 1848.92 1532.04 Q1846.58 1529.94 1842.58 1529.94 Q1840.7 1529.94 1838.83 1530.35 Q1836.97 1530.77 1835.03 1531.65 L1835.03 1514.29 Z\" fill=\"#000000\" fill-rule=\"evenodd\" fill-opacity=\"1\" /><path clip-path=\"url(#clip310)\" d=\"M2180.03 1517.37 Q2176.42 1517.37 2174.59 1520.93 Q2172.79 1524.47 2172.79 1531.6 Q2172.79 1538.71 2174.59 1542.27 Q2176.42 1545.82 2180.03 1545.82 Q2183.67 1545.82 2185.47 1542.27 Q2187.3 1538.71 2187.3 1531.6 Q2187.3 1524.47 2185.47 1520.93 Q2183.67 1517.37 2180.03 1517.37 M2180.03 1513.66 Q2185.84 1513.66 2188.9 1518.27 Q2191.98 1522.85 2191.98 1531.6 Q2191.98 1540.33 2188.9 1544.94 Q2185.84 1549.52 2180.03 1549.52 Q2174.22 1549.52 2171.14 1544.94 Q2168.09 1540.33 2168.09 1531.6 Q2168.09 1522.85 2171.14 1518.27 Q2174.22 1513.66 2180.03 1513.66 Z\" fill=\"#000000\" fill-rule=\"evenodd\" fill-opacity=\"1\" /><path clip-path=\"url(#clip310)\" d=\"M2200.2 1542.97 L2205.08 1542.97 L2205.08 1548.85 L2200.2 1548.85 L2200.2 1542.97 Z\" fill=\"#000000\" fill-rule=\"evenodd\" fill-opacity=\"1\" /><path clip-path=\"url(#clip310)\" d=\"M2225.84 1529.7 Q2222.7 1529.7 2220.84 1531.86 Q2219.02 1534.01 2219.02 1537.76 Q2219.02 1541.49 2220.84 1543.66 Q2222.7 1545.82 2225.84 1545.82 Q2228.99 1545.82 2230.82 1543.66 Q2232.67 1541.49 2232.67 1537.76 Q2232.67 1534.01 2230.82 1531.86 Q2228.99 1529.7 2225.84 1529.7 M2235.13 1515.05 L2235.13 1519.31 Q2233.37 1518.48 2231.56 1518.04 Q2229.78 1517.6 2228.02 1517.6 Q2223.39 1517.6 2220.94 1520.72 Q2218.51 1523.85 2218.16 1530.17 Q2219.52 1528.15 2221.58 1527.09 Q2223.64 1526 2226.12 1526 Q2231.33 1526 2234.34 1529.17 Q2237.37 1532.32 2237.37 1537.76 Q2237.37 1543.08 2234.22 1546.3 Q2231.08 1549.52 2225.84 1549.52 Q2219.85 1549.52 2216.68 1544.94 Q2213.51 1540.33 2213.51 1531.6 Q2213.51 1523.41 2217.39 1518.55 Q2221.28 1513.66 2227.83 1513.66 Q2229.59 1513.66 2231.38 1514.01 Q2233.18 1514.36 2235.13 1515.05 Z\" fill=\"#000000\" fill-rule=\"evenodd\" fill-opacity=\"1\" /><path clip-path=\"url(#clip310)\" d=\"M2255.43 1517.37 Q2251.82 1517.37 2249.99 1520.93 Q2248.18 1524.47 2248.18 1531.6 Q2248.18 1538.71 2249.99 1542.27 Q2251.82 1545.82 2255.43 1545.82 Q2259.06 1545.82 2260.87 1542.27 Q2262.7 1538.71 2262.7 1531.6 Q2262.7 1524.47 2260.87 1520.93 Q2259.06 1517.37 2255.43 1517.37 M2255.43 1513.66 Q2261.24 1513.66 2264.29 1518.27 Q2267.37 1522.85 2267.37 1531.6 Q2267.37 1540.33 2264.29 1544.94 Q2261.24 1549.52 2255.43 1549.52 Q2249.62 1549.52 2246.54 1544.94 Q2243.48 1540.33 2243.48 1531.6 Q2243.48 1522.85 2246.54 1518.27 Q2249.62 1513.66 2255.43 1513.66 Z\" fill=\"#000000\" fill-rule=\"evenodd\" fill-opacity=\"1\" /><path clip-path=\"url(#clip310)\" d=\"M2285.59 1517.37 Q2281.98 1517.37 2280.15 1520.93 Q2278.34 1524.47 2278.34 1531.6 Q2278.34 1538.71 2280.15 1542.27 Q2281.98 1545.82 2285.59 1545.82 Q2289.22 1545.82 2291.03 1542.27 Q2292.86 1538.71 2292.86 1531.6 Q2292.86 1524.47 2291.03 1520.93 Q2289.22 1517.37 2285.59 1517.37 M2285.59 1513.66 Q2291.4 1513.66 2294.45 1518.27 Q2297.53 1522.85 2297.53 1531.6 Q2297.53 1540.33 2294.45 1544.94 Q2291.4 1549.52 2285.59 1549.52 Q2279.78 1549.52 2276.7 1544.94 Q2273.64 1540.33 2273.64 1531.6 Q2273.64 1522.85 2276.7 1518.27 Q2279.78 1513.66 2285.59 1513.66 Z\" fill=\"#000000\" fill-rule=\"evenodd\" fill-opacity=\"1\" /><polyline clip-path=\"url(#clip312)\" style=\"stroke:#000000; stroke-linecap:round; stroke-linejoin:round; stroke-width:2; stroke-opacity:0.1; fill:none\" points=\"\n",
       "  172.015,1445.72 2352.76,1445.72 \n",
       "  \"/>\n",
       "<polyline clip-path=\"url(#clip312)\" style=\"stroke:#000000; stroke-linecap:round; stroke-linejoin:round; stroke-width:2; stroke-opacity:0.1; fill:none\" points=\"\n",
       "  172.015,1079.75 2352.76,1079.75 \n",
       "  \"/>\n",
       "<polyline clip-path=\"url(#clip312)\" style=\"stroke:#000000; stroke-linecap:round; stroke-linejoin:round; stroke-width:2; stroke-opacity:0.1; fill:none\" points=\"\n",
       "  172.015,713.781 2352.76,713.781 \n",
       "  \"/>\n",
       "<polyline clip-path=\"url(#clip312)\" style=\"stroke:#000000; stroke-linecap:round; stroke-linejoin:round; stroke-width:2; stroke-opacity:0.1; fill:none\" points=\"\n",
       "  172.015,347.813 2352.76,347.813 \n",
       "  \"/>\n",
       "<polyline clip-path=\"url(#clip310)\" style=\"stroke:#000000; stroke-linecap:round; stroke-linejoin:round; stroke-width:4; stroke-opacity:1; fill:none\" points=\"\n",
       "  172.015,1486.45 172.015,47.2441 \n",
       "  \"/>\n",
       "<polyline clip-path=\"url(#clip310)\" style=\"stroke:#000000; stroke-linecap:round; stroke-linejoin:round; stroke-width:4; stroke-opacity:1; fill:none\" points=\"\n",
       "  172.015,1445.72 190.912,1445.72 \n",
       "  \"/>\n",
       "<polyline clip-path=\"url(#clip310)\" style=\"stroke:#000000; stroke-linecap:round; stroke-linejoin:round; stroke-width:4; stroke-opacity:1; fill:none\" points=\"\n",
       "  172.015,1079.75 190.912,1079.75 \n",
       "  \"/>\n",
       "<polyline clip-path=\"url(#clip310)\" style=\"stroke:#000000; stroke-linecap:round; stroke-linejoin:round; stroke-width:4; stroke-opacity:1; fill:none\" points=\"\n",
       "  172.015,713.781 190.912,713.781 \n",
       "  \"/>\n",
       "<polyline clip-path=\"url(#clip310)\" style=\"stroke:#000000; stroke-linecap:round; stroke-linejoin:round; stroke-width:4; stroke-opacity:1; fill:none\" points=\"\n",
       "  172.015,347.813 190.912,347.813 \n",
       "  \"/>\n",
       "<path clip-path=\"url(#clip310)\" d=\"M124.07 1431.51 Q120.459 1431.51 118.631 1435.08 Q116.825 1438.62 116.825 1445.75 Q116.825 1452.86 118.631 1456.42 Q120.459 1459.96 124.07 1459.96 Q127.705 1459.96 129.51 1456.42 Q131.339 1452.86 131.339 1445.75 Q131.339 1438.62 129.51 1435.08 Q127.705 1431.51 124.07 1431.51 M124.07 1427.81 Q129.881 1427.81 132.936 1432.42 Q136.015 1437 136.015 1445.75 Q136.015 1454.48 132.936 1459.08 Q129.881 1463.67 124.07 1463.67 Q118.26 1463.67 115.182 1459.08 Q112.126 1454.48 112.126 1445.75 Q112.126 1437 115.182 1432.42 Q118.26 1427.81 124.07 1427.81 Z\" fill=\"#000000\" fill-rule=\"evenodd\" fill-opacity=\"1\" /><path clip-path=\"url(#clip310)\" d=\"M57.7745 1093.09 L74.0939 1093.09 L74.0939 1097.03 L52.1495 1097.03 L52.1495 1093.09 Q54.8115 1090.34 59.3949 1085.71 Q64.0013 1081.06 65.1819 1079.71 Q67.4272 1077.19 68.3068 1075.45 Q69.2096 1073.69 69.2096 1072.01 Q69.2096 1069.25 67.2652 1067.51 Q65.3439 1065.78 62.2421 1065.78 Q60.043 1065.78 57.5893 1066.54 Q55.1588 1067.31 52.381 1068.86 L52.381 1064.13 Q55.2051 1063 57.6588 1062.42 Q60.1124 1061.84 62.1495 1061.84 Q67.5198 1061.84 70.7142 1064.53 Q73.9087 1067.21 73.9087 1071.7 Q73.9087 1073.83 73.0985 1075.76 Q72.3115 1077.65 70.205 1080.25 Q69.6263 1080.92 66.5245 1084.13 Q63.4226 1087.33 57.7745 1093.09 Z\" fill=\"#000000\" fill-rule=\"evenodd\" fill-opacity=\"1\" /><path clip-path=\"url(#clip310)\" d=\"M93.9086 1065.55 Q90.2975 1065.55 88.4688 1069.11 Q86.6632 1072.65 86.6632 1079.78 Q86.6632 1086.89 88.4688 1090.45 Q90.2975 1094 93.9086 1094 Q97.5428 1094 99.3483 1090.45 Q101.177 1086.89 101.177 1079.78 Q101.177 1072.65 99.3483 1069.11 Q97.5428 1065.55 93.9086 1065.55 M93.9086 1061.84 Q99.7187 1061.84 102.774 1066.45 Q105.853 1071.03 105.853 1079.78 Q105.853 1088.51 102.774 1093.12 Q99.7187 1097.7 93.9086 1097.7 Q88.0984 1097.7 85.0197 1093.12 Q81.9642 1088.51 81.9642 1079.78 Q81.9642 1071.03 85.0197 1066.45 Q88.0984 1061.84 93.9086 1061.84 Z\" fill=\"#000000\" fill-rule=\"evenodd\" fill-opacity=\"1\" /><path clip-path=\"url(#clip310)\" d=\"M124.07 1065.55 Q120.459 1065.55 118.631 1069.11 Q116.825 1072.65 116.825 1079.78 Q116.825 1086.89 118.631 1090.45 Q120.459 1094 124.07 1094 Q127.705 1094 129.51 1090.45 Q131.339 1086.89 131.339 1079.78 Q131.339 1072.65 129.51 1069.11 Q127.705 1065.55 124.07 1065.55 M124.07 1061.84 Q129.881 1061.84 132.936 1066.45 Q136.015 1071.03 136.015 1079.78 Q136.015 1088.51 132.936 1093.12 Q129.881 1097.7 124.07 1097.7 Q118.26 1097.7 115.182 1093.12 Q112.126 1088.51 112.126 1079.78 Q112.126 1071.03 115.182 1066.45 Q118.26 1061.84 124.07 1061.84 Z\" fill=\"#000000\" fill-rule=\"evenodd\" fill-opacity=\"1\" /><path clip-path=\"url(#clip310)\" d=\"M66.5939 700.575 L54.7884 719.024 L66.5939 719.024 L66.5939 700.575 M65.367 696.501 L71.2466 696.501 L71.2466 719.024 L76.1772 719.024 L76.1772 722.913 L71.2466 722.913 L71.2466 731.061 L66.5939 731.061 L66.5939 722.913 L50.9921 722.913 L50.9921 718.399 L65.367 696.501 Z\" fill=\"#000000\" fill-rule=\"evenodd\" fill-opacity=\"1\" /><path clip-path=\"url(#clip310)\" d=\"M93.9086 699.579 Q90.2975 699.579 88.4688 703.144 Q86.6632 706.686 86.6632 713.815 Q86.6632 720.922 88.4688 724.487 Q90.2975 728.028 93.9086 728.028 Q97.5428 728.028 99.3483 724.487 Q101.177 720.922 101.177 713.815 Q101.177 706.686 99.3483 703.144 Q97.5428 699.579 93.9086 699.579 M93.9086 695.876 Q99.7187 695.876 102.774 700.482 Q105.853 705.065 105.853 713.815 Q105.853 722.542 102.774 727.149 Q99.7187 731.732 93.9086 731.732 Q88.0984 731.732 85.0197 727.149 Q81.9642 722.542 81.9642 713.815 Q81.9642 705.065 85.0197 700.482 Q88.0984 695.876 93.9086 695.876 Z\" fill=\"#000000\" fill-rule=\"evenodd\" fill-opacity=\"1\" /><path clip-path=\"url(#clip310)\" d=\"M124.07 699.579 Q120.459 699.579 118.631 703.144 Q116.825 706.686 116.825 713.815 Q116.825 720.922 118.631 724.487 Q120.459 728.028 124.07 728.028 Q127.705 728.028 129.51 724.487 Q131.339 720.922 131.339 713.815 Q131.339 706.686 129.51 703.144 Q127.705 699.579 124.07 699.579 M124.07 695.876 Q129.881 695.876 132.936 700.482 Q136.015 705.065 136.015 713.815 Q136.015 722.542 132.936 727.149 Q129.881 731.732 124.07 731.732 Q118.26 731.732 115.182 727.149 Q112.126 722.542 112.126 713.815 Q112.126 705.065 115.182 700.482 Q118.26 695.876 124.07 695.876 Z\" fill=\"#000000\" fill-rule=\"evenodd\" fill-opacity=\"1\" /><path clip-path=\"url(#clip310)\" d=\"M64.3254 345.95 Q61.1773 345.95 59.3254 348.103 Q57.4967 350.255 57.4967 354.005 Q57.4967 357.732 59.3254 359.908 Q61.1773 362.061 64.3254 362.061 Q67.4735 362.061 69.3022 359.908 Q71.1541 357.732 71.1541 354.005 Q71.1541 350.255 69.3022 348.103 Q67.4735 345.95 64.3254 345.95 M73.6077 331.297 L73.6077 335.556 Q71.8485 334.723 70.0429 334.283 Q68.2606 333.843 66.5013 333.843 Q61.8717 333.843 59.418 336.968 Q56.9875 340.093 56.6402 346.413 Q58.006 344.399 60.0662 343.334 Q62.1263 342.246 64.6032 342.246 Q69.8115 342.246 72.8207 345.417 Q75.8531 348.566 75.8531 354.005 Q75.8531 359.329 72.705 362.547 Q69.5568 365.764 64.3254 365.764 Q58.33 365.764 55.1588 361.181 Q51.9875 356.575 51.9875 347.848 Q51.9875 339.654 55.8764 334.792 Q59.7652 329.908 66.3161 329.908 Q68.0754 329.908 69.8578 330.255 Q71.6633 330.603 73.6077 331.297 Z\" fill=\"#000000\" fill-rule=\"evenodd\" fill-opacity=\"1\" /><path clip-path=\"url(#clip310)\" d=\"M93.9086 333.612 Q90.2975 333.612 88.4688 337.177 Q86.6632 340.718 86.6632 347.848 Q86.6632 354.954 88.4688 358.519 Q90.2975 362.061 93.9086 362.061 Q97.5428 362.061 99.3483 358.519 Q101.177 354.954 101.177 347.848 Q101.177 340.718 99.3483 337.177 Q97.5428 333.612 93.9086 333.612 M93.9086 329.908 Q99.7187 329.908 102.774 334.515 Q105.853 339.098 105.853 347.848 Q105.853 356.575 102.774 361.181 Q99.7187 365.764 93.9086 365.764 Q88.0984 365.764 85.0197 361.181 Q81.9642 356.575 81.9642 347.848 Q81.9642 339.098 85.0197 334.515 Q88.0984 329.908 93.9086 329.908 Z\" fill=\"#000000\" fill-rule=\"evenodd\" fill-opacity=\"1\" /><path clip-path=\"url(#clip310)\" d=\"M124.07 333.612 Q120.459 333.612 118.631 337.177 Q116.825 340.718 116.825 347.848 Q116.825 354.954 118.631 358.519 Q120.459 362.061 124.07 362.061 Q127.705 362.061 129.51 358.519 Q131.339 354.954 131.339 347.848 Q131.339 340.718 129.51 337.177 Q127.705 333.612 124.07 333.612 M124.07 329.908 Q129.881 329.908 132.936 334.515 Q136.015 339.098 136.015 347.848 Q136.015 356.575 132.936 361.181 Q129.881 365.764 124.07 365.764 Q118.26 365.764 115.182 361.181 Q112.126 356.575 112.126 347.848 Q112.126 339.098 115.182 334.515 Q118.26 329.908 124.07 329.908 Z\" fill=\"#000000\" fill-rule=\"evenodd\" fill-opacity=\"1\" /><path clip-path=\"url(#clip312)\" d=\"\n",
       "M291.959 1420.1 L291.959 1445.72 L380.18 1445.72 L380.18 1420.1 L291.959 1420.1 L291.959 1420.1  Z\n",
       "  \" fill=\"#009af9\" fill-rule=\"evenodd\" fill-opacity=\"1\"/>\n",
       "<polyline clip-path=\"url(#clip312)\" style=\"stroke:#000000; stroke-linecap:round; stroke-linejoin:round; stroke-width:4; stroke-opacity:1; fill:none\" points=\"\n",
       "  291.959,1420.1 291.959,1445.72 380.18,1445.72 380.18,1420.1 291.959,1420.1 \n",
       "  \"/>\n",
       "<path clip-path=\"url(#clip312)\" d=\"\n",
       "M380.18 1224.31 L380.18 1445.72 L468.401 1445.72 L468.401 1224.31 L380.18 1224.31 L380.18 1224.31  Z\n",
       "  \" fill=\"#009af9\" fill-rule=\"evenodd\" fill-opacity=\"1\"/>\n",
       "<polyline clip-path=\"url(#clip312)\" style=\"stroke:#000000; stroke-linecap:round; stroke-linejoin:round; stroke-width:4; stroke-opacity:1; fill:none\" points=\"\n",
       "  380.18,1224.31 380.18,1445.72 468.401,1445.72 468.401,1224.31 380.18,1224.31 \n",
       "  \"/>\n",
       "<path clip-path=\"url(#clip312)\" d=\"\n",
       "M468.401 907.743 L468.401 1445.72 L556.621 1445.72 L556.621 907.743 L468.401 907.743 L468.401 907.743  Z\n",
       "  \" fill=\"#009af9\" fill-rule=\"evenodd\" fill-opacity=\"1\"/>\n",
       "<polyline clip-path=\"url(#clip312)\" style=\"stroke:#000000; stroke-linecap:round; stroke-linejoin:round; stroke-width:4; stroke-opacity:1; fill:none\" points=\"\n",
       "  468.401,907.743 468.401,1445.72 556.621,1445.72 556.621,907.743 468.401,907.743 \n",
       "  \"/>\n",
       "<path clip-path=\"url(#clip312)\" d=\"\n",
       "M556.621 87.9763 L556.621 1445.72 L644.842 1445.72 L644.842 87.9763 L556.621 87.9763 L556.621 87.9763  Z\n",
       "  \" fill=\"#009af9\" fill-rule=\"evenodd\" fill-opacity=\"1\"/>\n",
       "<polyline clip-path=\"url(#clip312)\" style=\"stroke:#000000; stroke-linecap:round; stroke-linejoin:round; stroke-width:4; stroke-opacity:1; fill:none\" points=\"\n",
       "  556.621,87.9763 556.621,1445.72 644.842,1445.72 644.842,87.9763 556.621,87.9763 \n",
       "  \"/>\n",
       "<path clip-path=\"url(#clip312)\" d=\"\n",
       "M644.842 307.557 L644.842 1445.72 L733.062 1445.72 L733.062 307.557 L644.842 307.557 L644.842 307.557  Z\n",
       "  \" fill=\"#009af9\" fill-rule=\"evenodd\" fill-opacity=\"1\"/>\n",
       "<polyline clip-path=\"url(#clip312)\" style=\"stroke:#000000; stroke-linecap:round; stroke-linejoin:round; stroke-width:4; stroke-opacity:1; fill:none\" points=\"\n",
       "  644.842,307.557 644.842,1445.72 733.062,1445.72 733.062,307.557 644.842,307.557 \n",
       "  \"/>\n",
       "<path clip-path=\"url(#clip312)\" d=\"\n",
       "M733.062 680.844 L733.062 1445.72 L821.283 1445.72 L821.283 680.844 L733.062 680.844 L733.062 680.844  Z\n",
       "  \" fill=\"#009af9\" fill-rule=\"evenodd\" fill-opacity=\"1\"/>\n",
       "<polyline clip-path=\"url(#clip312)\" style=\"stroke:#000000; stroke-linecap:round; stroke-linejoin:round; stroke-width:4; stroke-opacity:1; fill:none\" points=\"\n",
       "  733.062,680.844 733.062,1445.72 821.283,1445.72 821.283,680.844 733.062,680.844 \n",
       "  \"/>\n",
       "<path clip-path=\"url(#clip312)\" d=\"\n",
       "M821.283 900.424 L821.283 1445.72 L909.503 1445.72 L909.503 900.424 L821.283 900.424 L821.283 900.424  Z\n",
       "  \" fill=\"#009af9\" fill-rule=\"evenodd\" fill-opacity=\"1\"/>\n",
       "<polyline clip-path=\"url(#clip312)\" style=\"stroke:#000000; stroke-linecap:round; stroke-linejoin:round; stroke-width:4; stroke-opacity:1; fill:none\" points=\"\n",
       "  821.283,900.424 821.283,1445.72 909.503,1445.72 909.503,900.424 821.283,900.424 \n",
       "  \"/>\n",
       "<path clip-path=\"url(#clip312)\" d=\"\n",
       "M909.503 651.566 L909.503 1445.72 L997.724 1445.72 L997.724 651.566 L909.503 651.566 L909.503 651.566  Z\n",
       "  \" fill=\"#009af9\" fill-rule=\"evenodd\" fill-opacity=\"1\"/>\n",
       "<polyline clip-path=\"url(#clip312)\" style=\"stroke:#000000; stroke-linecap:round; stroke-linejoin:round; stroke-width:4; stroke-opacity:1; fill:none\" points=\"\n",
       "  909.503,651.566 909.503,1445.72 997.724,1445.72 997.724,651.566 909.503,651.566 \n",
       "  \"/>\n",
       "<path clip-path=\"url(#clip312)\" d=\"\n",
       "M997.724 863.827 L997.724 1445.72 L1085.94 1445.72 L1085.94 863.827 L997.724 863.827 L997.724 863.827  Z\n",
       "  \" fill=\"#009af9\" fill-rule=\"evenodd\" fill-opacity=\"1\"/>\n",
       "<polyline clip-path=\"url(#clip312)\" style=\"stroke:#000000; stroke-linecap:round; stroke-linejoin:round; stroke-width:4; stroke-opacity:1; fill:none\" points=\"\n",
       "  997.724,863.827 997.724,1445.72 1085.94,1445.72 1085.94,863.827 997.724,863.827 \n",
       "  \"/>\n",
       "<path clip-path=\"url(#clip312)\" d=\"\n",
       "M1085.94 1238.94 L1085.94 1445.72 L1174.16 1445.72 L1174.16 1238.94 L1085.94 1238.94 L1085.94 1238.94  Z\n",
       "  \" fill=\"#009af9\" fill-rule=\"evenodd\" fill-opacity=\"1\"/>\n",
       "<polyline clip-path=\"url(#clip312)\" style=\"stroke:#000000; stroke-linecap:round; stroke-linejoin:round; stroke-width:4; stroke-opacity:1; fill:none\" points=\"\n",
       "  1085.94,1238.94 1085.94,1445.72 1174.16,1445.72 1174.16,1238.94 1085.94,1238.94 \n",
       "  \"/>\n",
       "<path clip-path=\"url(#clip312)\" d=\"\n",
       "M1174.16 1376.18 L1174.16 1445.72 L1262.39 1445.72 L1262.39 1376.18 L1174.16 1376.18 L1174.16 1376.18  Z\n",
       "  \" fill=\"#009af9\" fill-rule=\"evenodd\" fill-opacity=\"1\"/>\n",
       "<polyline clip-path=\"url(#clip312)\" style=\"stroke:#000000; stroke-linecap:round; stroke-linejoin:round; stroke-width:4; stroke-opacity:1; fill:none\" points=\"\n",
       "  1174.16,1376.18 1174.16,1445.72 1262.39,1445.72 1262.39,1376.18 1174.16,1376.18 \n",
       "  \"/>\n",
       "<path clip-path=\"url(#clip312)\" d=\"\n",
       "M1262.39 1405.46 L1262.39 1445.72 L1350.61 1445.72 L1350.61 1405.46 L1262.39 1405.46 L1262.39 1405.46  Z\n",
       "  \" fill=\"#009af9\" fill-rule=\"evenodd\" fill-opacity=\"1\"/>\n",
       "<polyline clip-path=\"url(#clip312)\" style=\"stroke:#000000; stroke-linecap:round; stroke-linejoin:round; stroke-width:4; stroke-opacity:1; fill:none\" points=\"\n",
       "  1262.39,1405.46 1262.39,1445.72 1350.61,1445.72 1350.61,1405.46 1262.39,1405.46 \n",
       "  \"/>\n",
       "<path clip-path=\"url(#clip312)\" d=\"\n",
       "M1350.61 1436.57 L1350.61 1445.72 L1438.83 1445.72 L1438.83 1436.57 L1350.61 1436.57 L1350.61 1436.57  Z\n",
       "  \" fill=\"#009af9\" fill-rule=\"evenodd\" fill-opacity=\"1\"/>\n",
       "<polyline clip-path=\"url(#clip312)\" style=\"stroke:#000000; stroke-linecap:round; stroke-linejoin:round; stroke-width:4; stroke-opacity:1; fill:none\" points=\"\n",
       "  1350.61,1436.57 1350.61,1445.72 1438.83,1445.72 1438.83,1436.57 1350.61,1436.57 \n",
       "  \"/>\n",
       "<path clip-path=\"url(#clip312)\" d=\"\n",
       "M1438.83 1440.23 L1438.83 1445.72 L1527.05 1445.72 L1527.05 1440.23 L1438.83 1440.23 L1438.83 1440.23  Z\n",
       "  \" fill=\"#009af9\" fill-rule=\"evenodd\" fill-opacity=\"1\"/>\n",
       "<polyline clip-path=\"url(#clip312)\" style=\"stroke:#000000; stroke-linecap:round; stroke-linejoin:round; stroke-width:4; stroke-opacity:1; fill:none\" points=\"\n",
       "  1438.83,1440.23 1438.83,1445.72 1527.05,1445.72 1527.05,1440.23 1438.83,1440.23 \n",
       "  \"/>\n",
       "<path clip-path=\"url(#clip312)\" d=\"\n",
       "M1527.05 1442.06 L1527.05 1445.72 L1615.27 1445.72 L1615.27 1442.06 L1527.05 1442.06 L1527.05 1442.06  Z\n",
       "  \" fill=\"#009af9\" fill-rule=\"evenodd\" fill-opacity=\"1\"/>\n",
       "<polyline clip-path=\"url(#clip312)\" style=\"stroke:#000000; stroke-linecap:round; stroke-linejoin:round; stroke-width:4; stroke-opacity:1; fill:none\" points=\"\n",
       "  1527.05,1442.06 1527.05,1445.72 1615.27,1445.72 1615.27,1442.06 1527.05,1442.06 \n",
       "  \"/>\n",
       "<path clip-path=\"url(#clip312)\" d=\"\n",
       "M1615.27 1445.72 L1615.27 1445.72 L1703.49 1445.72 L1703.49 1445.72 L1615.27 1445.72 L1615.27 1445.72  Z\n",
       "  \" fill=\"#009af9\" fill-rule=\"evenodd\" fill-opacity=\"1\"/>\n",
       "<polyline clip-path=\"url(#clip312)\" style=\"stroke:#000000; stroke-linecap:round; stroke-linejoin:round; stroke-width:4; stroke-opacity:1; fill:none\" points=\"\n",
       "  1615.27,1445.72 1615.27,1445.72 1703.49,1445.72 1615.27,1445.72 \n",
       "  \"/>\n",
       "<path clip-path=\"url(#clip312)\" d=\"\n",
       "M1703.49 1443.89 L1703.49 1445.72 L1791.71 1445.72 L1791.71 1443.89 L1703.49 1443.89 L1703.49 1443.89  Z\n",
       "  \" fill=\"#009af9\" fill-rule=\"evenodd\" fill-opacity=\"1\"/>\n",
       "<polyline clip-path=\"url(#clip312)\" style=\"stroke:#000000; stroke-linecap:round; stroke-linejoin:round; stroke-width:4; stroke-opacity:1; fill:none\" points=\"\n",
       "  1703.49,1443.89 1703.49,1445.72 1791.71,1445.72 1791.71,1443.89 1703.49,1443.89 \n",
       "  \"/>\n",
       "<path clip-path=\"url(#clip312)\" d=\"\n",
       "M1791.71 1445.72 L1791.71 1445.72 L1879.93 1445.72 L1879.93 1445.72 L1791.71 1445.72 L1791.71 1445.72  Z\n",
       "  \" fill=\"#009af9\" fill-rule=\"evenodd\" fill-opacity=\"1\"/>\n",
       "<polyline clip-path=\"url(#clip312)\" style=\"stroke:#000000; stroke-linecap:round; stroke-linejoin:round; stroke-width:4; stroke-opacity:1; fill:none\" points=\"\n",
       "  1791.71,1445.72 1791.71,1445.72 1879.93,1445.72 1791.71,1445.72 \n",
       "  \"/>\n",
       "<path clip-path=\"url(#clip312)\" d=\"\n",
       "M1879.93 1438.4 L1879.93 1445.72 L1968.15 1445.72 L1968.15 1438.4 L1879.93 1438.4 L1879.93 1438.4  Z\n",
       "  \" fill=\"#009af9\" fill-rule=\"evenodd\" fill-opacity=\"1\"/>\n",
       "<polyline clip-path=\"url(#clip312)\" style=\"stroke:#000000; stroke-linecap:round; stroke-linejoin:round; stroke-width:4; stroke-opacity:1; fill:none\" points=\"\n",
       "  1879.93,1438.4 1879.93,1445.72 1968.15,1445.72 1968.15,1438.4 1879.93,1438.4 \n",
       "  \"/>\n",
       "<path clip-path=\"url(#clip312)\" d=\"\n",
       "M1968.15 1440.23 L1968.15 1445.72 L2056.37 1445.72 L2056.37 1440.23 L1968.15 1440.23 L1968.15 1440.23  Z\n",
       "  \" fill=\"#009af9\" fill-rule=\"evenodd\" fill-opacity=\"1\"/>\n",
       "<polyline clip-path=\"url(#clip312)\" style=\"stroke:#000000; stroke-linecap:round; stroke-linejoin:round; stroke-width:4; stroke-opacity:1; fill:none\" points=\"\n",
       "  1968.15,1440.23 1968.15,1445.72 2056.37,1445.72 2056.37,1440.23 1968.15,1440.23 \n",
       "  \"/>\n",
       "<path clip-path=\"url(#clip312)\" d=\"\n",
       "M2056.37 1438.4 L2056.37 1445.72 L2144.59 1445.72 L2144.59 1438.4 L2056.37 1438.4 L2056.37 1438.4  Z\n",
       "  \" fill=\"#009af9\" fill-rule=\"evenodd\" fill-opacity=\"1\"/>\n",
       "<polyline clip-path=\"url(#clip312)\" style=\"stroke:#000000; stroke-linecap:round; stroke-linejoin:round; stroke-width:4; stroke-opacity:1; fill:none\" points=\"\n",
       "  2056.37,1438.4 2056.37,1445.72 2144.59,1445.72 2144.59,1438.4 2056.37,1438.4 \n",
       "  \"/>\n",
       "<path clip-path=\"url(#clip312)\" d=\"\n",
       "M2144.59 1442.06 L2144.59 1445.72 L2232.81 1445.72 L2232.81 1442.06 L2144.59 1442.06 L2144.59 1442.06  Z\n",
       "  \" fill=\"#009af9\" fill-rule=\"evenodd\" fill-opacity=\"1\"/>\n",
       "<polyline clip-path=\"url(#clip312)\" style=\"stroke:#000000; stroke-linecap:round; stroke-linejoin:round; stroke-width:4; stroke-opacity:1; fill:none\" points=\"\n",
       "  2144.59,1442.06 2144.59,1445.72 2232.81,1445.72 2232.81,1442.06 2144.59,1442.06 \n",
       "  \"/>\n",
       "<circle clip-path=\"url(#clip312)\" style=\"fill:#009af9; stroke:none; fill-opacity:0\" cx=\"336.07\" cy=\"1420.1\" r=\"2\"/>\n",
       "<circle clip-path=\"url(#clip312)\" style=\"fill:#009af9; stroke:none; fill-opacity:0\" cx=\"424.29\" cy=\"1224.31\" r=\"2\"/>\n",
       "<circle clip-path=\"url(#clip312)\" style=\"fill:#009af9; stroke:none; fill-opacity:0\" cx=\"512.511\" cy=\"907.743\" r=\"2\"/>\n",
       "<circle clip-path=\"url(#clip312)\" style=\"fill:#009af9; stroke:none; fill-opacity:0\" cx=\"600.731\" cy=\"87.9763\" r=\"2\"/>\n",
       "<circle clip-path=\"url(#clip312)\" style=\"fill:#009af9; stroke:none; fill-opacity:0\" cx=\"688.952\" cy=\"307.557\" r=\"2\"/>\n",
       "<circle clip-path=\"url(#clip312)\" style=\"fill:#009af9; stroke:none; fill-opacity:0\" cx=\"777.172\" cy=\"680.844\" r=\"2\"/>\n",
       "<circle clip-path=\"url(#clip312)\" style=\"fill:#009af9; stroke:none; fill-opacity:0\" cx=\"865.393\" cy=\"900.424\" r=\"2\"/>\n",
       "<circle clip-path=\"url(#clip312)\" style=\"fill:#009af9; stroke:none; fill-opacity:0\" cx=\"953.613\" cy=\"651.566\" r=\"2\"/>\n",
       "<circle clip-path=\"url(#clip312)\" style=\"fill:#009af9; stroke:none; fill-opacity:0\" cx=\"1041.83\" cy=\"863.827\" r=\"2\"/>\n",
       "<circle clip-path=\"url(#clip312)\" style=\"fill:#009af9; stroke:none; fill-opacity:0\" cx=\"1130.05\" cy=\"1238.94\" r=\"2\"/>\n",
       "<circle clip-path=\"url(#clip312)\" style=\"fill:#009af9; stroke:none; fill-opacity:0\" cx=\"1218.28\" cy=\"1376.18\" r=\"2\"/>\n",
       "<circle clip-path=\"url(#clip312)\" style=\"fill:#009af9; stroke:none; fill-opacity:0\" cx=\"1306.5\" cy=\"1405.46\" r=\"2\"/>\n",
       "<circle clip-path=\"url(#clip312)\" style=\"fill:#009af9; stroke:none; fill-opacity:0\" cx=\"1394.72\" cy=\"1436.57\" r=\"2\"/>\n",
       "<circle clip-path=\"url(#clip312)\" style=\"fill:#009af9; stroke:none; fill-opacity:0\" cx=\"1482.94\" cy=\"1440.23\" r=\"2\"/>\n",
       "<circle clip-path=\"url(#clip312)\" style=\"fill:#009af9; stroke:none; fill-opacity:0\" cx=\"1571.16\" cy=\"1442.06\" r=\"2\"/>\n",
       "<circle clip-path=\"url(#clip312)\" style=\"fill:#009af9; stroke:none; fill-opacity:0\" cx=\"1659.38\" cy=\"1445.72\" r=\"2\"/>\n",
       "<circle clip-path=\"url(#clip312)\" style=\"fill:#009af9; stroke:none; fill-opacity:0\" cx=\"1747.6\" cy=\"1443.89\" r=\"2\"/>\n",
       "<circle clip-path=\"url(#clip312)\" style=\"fill:#009af9; stroke:none; fill-opacity:0\" cx=\"1835.82\" cy=\"1445.72\" r=\"2\"/>\n",
       "<circle clip-path=\"url(#clip312)\" style=\"fill:#009af9; stroke:none; fill-opacity:0\" cx=\"1924.04\" cy=\"1438.4\" r=\"2\"/>\n",
       "<circle clip-path=\"url(#clip312)\" style=\"fill:#009af9; stroke:none; fill-opacity:0\" cx=\"2012.26\" cy=\"1440.23\" r=\"2\"/>\n",
       "<circle clip-path=\"url(#clip312)\" style=\"fill:#009af9; stroke:none; fill-opacity:0\" cx=\"2100.48\" cy=\"1438.4\" r=\"2\"/>\n",
       "<circle clip-path=\"url(#clip312)\" style=\"fill:#009af9; stroke:none; fill-opacity:0\" cx=\"2188.7\" cy=\"1442.06\" r=\"2\"/>\n",
       "<path clip-path=\"url(#clip310)\" d=\"\n",
       "M1985.33 198.898 L2280.06 198.898 L2280.06 95.2176 L1985.33 95.2176  Z\n",
       "  \" fill=\"#ffffff\" fill-rule=\"evenodd\" fill-opacity=\"1\"/>\n",
       "<polyline clip-path=\"url(#clip310)\" style=\"stroke:#000000; stroke-linecap:round; stroke-linejoin:round; stroke-width:4; stroke-opacity:1; fill:none\" points=\"\n",
       "  1985.33,198.898 2280.06,198.898 2280.06,95.2176 1985.33,95.2176 1985.33,198.898 \n",
       "  \"/>\n",
       "<path clip-path=\"url(#clip310)\" d=\"\n",
       "M2009.56 167.794 L2154.94 167.794 L2154.94 126.322 L2009.56 126.322 L2009.56 167.794  Z\n",
       "  \" fill=\"#009af9\" fill-rule=\"evenodd\" fill-opacity=\"1\"/>\n",
       "<polyline clip-path=\"url(#clip310)\" style=\"stroke:#000000; stroke-linecap:round; stroke-linejoin:round; stroke-width:4; stroke-opacity:1; fill:none\" points=\"\n",
       "  2009.56,167.794 2154.94,167.794 2154.94,126.322 2009.56,126.322 2009.56,167.794 \n",
       "  \"/>\n",
       "<path clip-path=\"url(#clip310)\" d=\"M2193.02 166.745 Q2191.21 171.375 2189.5 172.787 Q2187.78 174.199 2184.91 174.199 L2181.51 174.199 L2181.51 170.634 L2184.01 170.634 Q2185.77 170.634 2186.74 169.8 Q2187.71 168.967 2188.9 165.865 L2189.66 163.921 L2179.17 138.412 L2183.69 138.412 L2191.79 158.689 L2199.89 138.412 L2204.4 138.412 L2193.02 166.745 Z\" fill=\"#000000\" fill-rule=\"evenodd\" fill-opacity=\"1\" /><path clip-path=\"url(#clip310)\" d=\"M2211.7 160.402 L2219.34 160.402 L2219.34 134.037 L2211.03 135.703 L2211.03 131.444 L2219.29 129.778 L2223.96 129.778 L2223.96 160.402 L2231.6 160.402 L2231.6 164.338 L2211.7 164.338 L2211.7 160.402 Z\" fill=\"#000000\" fill-rule=\"evenodd\" fill-opacity=\"1\" /></svg>\n"
      ]
     },
     "execution_count": 75,
     "metadata": {},
     "output_type": "execute_result"
    }
   ],
   "source": [
    "scores_flat = vcat(noauc_scores...)\n",
    "histogram(scores_flat) # quasi all scores are very low"
   ]
  },
  {
   "cell_type": "markdown",
   "id": "205933e6",
   "metadata": {},
   "source": [
    "## X - Tests"
   ]
  },
  {
   "cell_type": "code",
   "execution_count": 69,
   "id": "10452d24",
   "metadata": {},
   "outputs": [
    {
     "name": "stdout",
     "output_type": "stream",
     "text": [
      "\u001b[37m\u001b[1mTest Summary: | \u001b[22m\u001b[39m\u001b[32m\u001b[1mPass  \u001b[22m\u001b[39m\u001b[36m\u001b[1mTotal\u001b[22m\u001b[39m\n",
      "tests for MRR | \u001b[32m   3  \u001b[39m\u001b[36m    3\u001b[39m\n"
     ]
    }
   ],
   "source": [
    "@testset \"tests for MRR\" begin\n",
    "    @test mean_reciprocal_rank([[0, 0, 0], [0, 1, 0], [1, 0, 0]]) == 0.5\n",
    "    @test mean_reciprocal_rank([[1, 0, 0], [1, 1, 0], [1, 0, 0]]) == 1\n",
    "    A = [0 0 0; 0 1 0; 1 0 0] # Matrix\n",
    "    @test mean_reciprocal_rank(A) == 0.5\n",
    "end;"
   ]
  },
  {
   "cell_type": "code",
   "execution_count": 51,
   "id": "77d726c1",
   "metadata": {},
   "outputs": [
    {
     "name": "stdout",
     "output_type": "stream",
     "text": [
      "\u001b[37m\u001b[1mTest Summary:                          | \u001b[22m\u001b[39m\u001b[32m\u001b[1mPass  \u001b[22m\u001b[39m\u001b[36m\u001b[1mTotal\u001b[22m\u001b[39m\n",
      "tests for constructing relevant matrix | \u001b[32m   3  \u001b[39m\u001b[36m    3\u001b[39m\n"
     ]
    }
   ],
   "source": [
    "@testset \"tests for constructing relevant matrix\" begin\n",
    "    preds = [0 0 1; 1 1 0; 0 0 0]\n",
    "    labels = [0 0 1; 1 1 0; 0 0 0]\n",
    "    @test construct_relevant_matrix(preds, labels) == labels # all TPs\n",
    "    preds = [0 0 0; 1 0 0; 0 0 0]\n",
    "    labels = [0 0 1; 1 1 0; 0 0 0]\n",
    "    @test construct_relevant_matrix(preds, labels) == [0 0 0; 1 0 0; 0 0 0] # missed TPs\n",
    "    preds = [0 1 0; 1 1 0; 1 0 0]\n",
    "    labels = [0 0 1; 1 1 0; 0 0 0]\n",
    "    @test construct_relevant_matrix(preds, labels) == [0 0 0; 1 1 0; 0 0 0] # FPs\n",
    "end;"
   ]
  },
  {
   "cell_type": "code",
   "execution_count": 122,
   "id": "ecf63855",
   "metadata": {},
   "outputs": [
    {
     "name": "stdout",
     "output_type": "stream",
     "text": [
      "\u001b[37m\u001b[1mTest Summary:                  | \u001b[22m\u001b[39m\u001b[32m\u001b[1mPass  \u001b[22m\u001b[39m\u001b[36m\u001b[1mTotal\u001b[22m\u001b[39m\n",
      "tests for sorting label matrix | \u001b[32m   2  \u001b[39m\u001b[36m    2\u001b[39m\n"
     ]
    }
   ],
   "source": [
    "@testset \"tests for sorting label matrix\" begin \n",
    "    rel = [0 0 1; 1 1 0; 0 0 0]\n",
    "    scores = [0.5 0.3 1; 1 0.3 0.7; 0.2 0.3 0.3]\n",
    "    @test sort_label_matrix(scores, rel) == [1 0 0; 1 0 1; 0 0 0]\n",
    "    \n",
    "    rel = [0 0 1; 1 1 0; 0 0 0]\n",
    "    scores = [1 0.3 1; 1 0.3 0.7; 0.2 0.3 0.3] # equal score for 0 and 1\n",
    "    @test sort_label_matrix(scores, rel) == [0 1 0; 1 0 1; 0 0 0] # equals will appear in ascending order\n",
    "end;"
   ]
  },
  {
   "cell_type": "code",
   "execution_count": 124,
   "id": "522f6870",
   "metadata": {},
   "outputs": [
    {
     "name": "stdout",
     "output_type": "stream",
     "text": [
      "\u001b[37m\u001b[1mTest Summary:  | \u001b[22m\u001b[39m\u001b[32m\u001b[1mPass  \u001b[22m\u001b[39m\u001b[36m\u001b[1mTotal\u001b[22m\u001b[39m\n",
      "tests pipeline | \u001b[32m   3  \u001b[39m\u001b[36m    3\u001b[39m\n"
     ]
    }
   ],
   "source": [
    "@testset \"tests pipeline\" begin\n",
    "    preds = [0 0 1; 0 1 0; 0 0 0]\n",
    "    labels = [0 0 1; 1 1 0; 0 0 0]\n",
    "    scores = [0 0.2 0.5; 0.3 0.2 0.1; 0.2 0.4 0.3]\n",
    "    relm = construct_relevant_matrix(preds, labels)\n",
    "    sortm = sort_label_matrix(scores, relm)\n",
    "    @test construct_relevant_matrix(preds, labels) == [0 0 1; 0 1 0; 0 0 0]\n",
    "    @test sort_relevant_matrix(relm, scores) == [1 0 0; 0 1 0; 0 0 0] \n",
    "    @test mean_reciprocal_rank(sortm) == 0.5\n",
    "end;"
   ]
  },
  {
   "cell_type": "code",
   "execution_count": 28,
   "id": "01358f70",
   "metadata": {},
   "outputs": [
    {
     "name": "stdout",
     "output_type": "stream",
     "text": [
      "\u001b[37m\u001b[1mTest Summary:         | \u001b[22m\u001b[39m\u001b[32m\u001b[1mPass  \u001b[22m\u001b[39m\u001b[36m\u001b[1mTotal\u001b[22m\u001b[39m\n",
      "tests mrr from scores | \u001b[32m   1  \u001b[39m\u001b[36m    1\u001b[39m\n"
     ]
    }
   ],
   "source": [
    "@testset \"tests mrr from scores\" begin\n",
    "    labels = [0 0 1; 1 1 0; 0 0 0]\n",
    "    scores = [0 0.2 0.5; 0.3 0.5 0.6; 0.2 0.4 0.3]\n",
    "    @test mrr_from_scores(scores, labels, 0.4) == 0.5\n",
    "end;"
   ]
  },
  {
   "cell_type": "markdown",
   "id": "143556f7",
   "metadata": {},
   "source": [
    "## X - Legacy code"
   ]
  },
  {
   "cell_type": "raw",
   "id": "cee06006",
   "metadata": {},
   "source": [
    "\"\"\"\n",
    "Here, we perform a 10-fold CV over the loci, just like we do to evaluate the\n",
    "binary classifiers in Python.\n",
    "\"\"\"\n",
    "loci_known = [x for x in range(1, length=length(LociBase)) \n",
    "                if (any(isequal.(interaction_matrix[x,:], 0))) \n",
    "                    || (any(isequal.(interaction_matrix[x,:], 1)))]\n",
    "\n",
    "# shuffle loci\n",
    "loci_shuffle = shuffle(loci_known)\n",
    "\n",
    "# divide into 10 groups\n",
    "group_size = div(length(loci_shuffle), 10) + 1\n",
    "get_groups(x, n) = [x[i:min(i+n-1,length(x))] for i in 1:n:length(x)]\n",
    "loci_groups = get_groups(loci_shuffle, group_size)\n",
    "\n",
    "# loop over groups\n",
    "loci_nr = []; rbp_nr = []; scores = []; scores_pos = []; labels = []\n",
    "for group in loci_groups\n",
    "    # compute signatures for training and testing parts (group = test)\n",
    "    signatures_train_pos = []\n",
    "    signatures_train_neg = []\n",
    "    signatures_test = []\n",
    "    for (i, loci_embedding) in enumerate(loci_embeddings)\n",
    "        for (j, rbp_embedding) in enumerate(rbp_embeddings)\n",
    "            # training pos interaction\n",
    "            if isequal(interaction_matrix[i,j], 1) && i ∉ group\n",
    "                push!(signatures_train_pos, HyperdimensionalComputing.bind([loci_embedding, rbp_embedding]))\n",
    "            # training neg interaction\n",
    "            elseif isequal(interaction_matrix[i,j], 0) && i ∉ group\n",
    "                push!(signatures_train_neg, HyperdimensionalComputing.bind([loci_embedding, rbp_embedding]))\n",
    "            # test interaction\n",
    "            elseif isequal(interaction_matrix[i,j], 1) && i in group\n",
    "                push!(signatures_test, HyperdimensionalComputing.bind([loci_embedding, rbp_embedding]))\n",
    "                push!(loci_nr, i-1) # -1 to cope with indexing python\n",
    "                push!(rbp_nr, j-1)\n",
    "                push!(labels, interaction_matrix[i,j])\n",
    "            elseif isequal(interaction_matrix[i,j], 0) && i in group\n",
    "                push!(signatures_test, HyperdimensionalComputing.bind([loci_embedding, rbp_embedding]))\n",
    "                push!(loci_nr, i-1)\n",
    "                push!(rbp_nr, j-1)\n",
    "                push!(labels, interaction_matrix[i,j])\n",
    "            end\n",
    "        end\n",
    "    end\n",
    "\n",
    "    # convert signatures\n",
    "    signatures_train_pos = convert(Array{BipolarHDV}, signatures_train_pos)\n",
    "    signatures_train_neg = convert(Array{BipolarHDV}, signatures_train_neg)\n",
    "    signatures_test = convert(Array{BipolarHDV}, signatures_test)\n",
    "    println(\"train size:\", length(signatures_train_pos)+length(signatures_train_neg))\n",
    "    println(\"test size:\", length(signatures_test))\n",
    "    \n",
    "    # aggregate training signatures\n",
    "    signatures_pos_agg = HyperdimensionalComputing.aggregate(signatures_train_pos)\n",
    "    signatures_neg_agg = HyperdimensionalComputing.aggregate(signatures_train_neg)\n",
    "\n",
    "    # compute distance/similarity to test signatures\n",
    "    for test in signatures_test\n",
    "        score_pos_agg = cos_sim(signatures_pos_agg, test)\n",
    "        score_neg_agg = cos_sim(signatures_neg_agg, test)\n",
    "        push!(scores, score_pos_agg/score_neg_agg) # > 1 then pos, < 1 then neg\n",
    "        push!(scores_pos, score_pos_agg)\n",
    "    end\n",
    "end\n",
    "\n",
    "# results pos vs. neg\n",
    "results = DataFrame(locus=loci_nr, rbps=rbp_nr, scores=scores, label=labels)\n",
    "CSV.write(results_dir*\"/results_HDC_grouped10CV_\"*data_suffix*\".csv\", results)\n",
    "\n",
    "# results pos only\n",
    "results = DataFrame(locus=loci_nr, rbps=rbp_nr, scores=scores_pos, label=labels)\n",
    "CSV.write(results_dir*\"/results_HDCpos_grouped10CV_\"*data_suffix*\".csv\", results)\n",
    "\n",
    "# examine scores\n",
    "histogram(scores, xlabel=\"score\", ylabel=\"count\")\n",
    "sum(scores .< 1)/length(scores)"
   ]
  },
  {
   "cell_type": "raw",
   "id": "226146c2",
   "metadata": {},
   "source": [
    "function construct_relevant_matrix(preds_matrix, label_matrix)\n",
    "    \"\"\"\n",
    "    This function constructs a matrix of relevant predictions\n",
    "    (i.e., true positives) from the prediction matrix and label matrix.\n",
    "    \"\"\"\n",
    "    @assert size(preds_matrix) == size(label_matrix)\n",
    "    relevant_matrix = zeros(Int64, size(preds_matrix)[1], size(preds_matrix)[2])\n",
    "    for i in 1:size(preds_matrix)[1]\n",
    "        for j in 1:size(preds_matrix)[2]\n",
    "            if (preds_matrix[i,j] == label_matrix[i,j]) & (label_matrix[i,j] == 1)\n",
    "                relevant_matrix[i,j] = 1\n",
    "            end\n",
    "        end\n",
    "    end\n",
    "    return relevant_matrix\n",
    "end"
   ]
  },
  {
   "cell_type": "raw",
   "id": "085a9cd7",
   "metadata": {},
   "source": [
    "function mrr_from_scores_OLD(score_matrix, label_matrix)\n",
    "    \"\"\"\n",
    "    OLD version of the function is a wrapper for the previous functions that computes\n",
    "    the MRR starting from a matrix of (prediction) scores, a threshold above\n",
    "    which to consider an interaction positive and a label matrix.\n",
    "    \"\"\"\n",
    "    # construct the prediction matrix\n",
    "    preds_matrix = convert(Matrix{Int64}, score_matrix .> threshold)\n",
    "\n",
    "    # construct the relevant matrix\n",
    "    replace!(label_matrix, missing => 0)\n",
    "    rel_matrix = construct_relevant_matrix(preds_matrix, label_matrix)\n",
    "\n",
    "    # sort the matrix per row and compute\n",
    "    sorted_matrix = sort_relevant_matrix(rel_matrix, score_matrix)\n",
    "    \n",
    "    return mean_reciprocal_rank(sorted_matrix)\n",
    "end"
   ]
  }
 ],
 "metadata": {
  "kernelspec": {
   "display_name": "Julia 1.6.3",
   "language": "julia",
   "name": "julia-1.6"
  },
  "language_info": {
   "file_extension": ".jl",
   "mimetype": "application/julia",
   "name": "julia",
   "version": "1.6.3"
  }
 },
 "nbformat": 4,
 "nbformat_minor": 5
}
