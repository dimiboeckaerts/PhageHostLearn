{
 "cells": [
  {
   "cell_type": "markdown",
   "metadata": {
    "id": "8QW5I6LYPCkb"
   },
   "source": [
    "# Protein embeddings on the cloud (Google Colab, Kaggle)"
   ]
  },
  {
   "cell_type": "markdown",
   "metadata": {
    "id": "-aOQeo6fPiag"
   },
   "source": [
    "### Installation and libraries\n",
    "\n",
    "Note: the pip's dependency resolver ERROR can be safely ignored, as long as it is mentioned below the error that all packages were installed successfully."
   ]
  },
  {
   "cell_type": "code",
   "execution_count": null,
   "metadata": {
    "execution": {
     "iopub.execute_input": "2022-11-24T09:10:11.179842Z",
     "iopub.status.busy": "2022-11-24T09:10:11.178933Z",
     "iopub.status.idle": "2022-11-24T09:13:04.773810Z",
     "shell.execute_reply": "2022-11-24T09:13:04.772619Z",
     "shell.execute_reply.started": "2022-11-24T09:10:11.179754Z"
    }
   },
   "outputs": [],
   "source": [
    "# Install software for Kaggle\n",
    "!pip install bio_embeddings==0.2.2\n",
    "!pip install torchvision==0.10.1\n",
    "!pip install setuptools==59.5.0"
   ]
  },
  {
   "cell_type": "code",
   "execution_count": 2,
   "metadata": {
    "execution": {
     "iopub.execute_input": "2022-11-24T09:13:13.835420Z",
     "iopub.status.busy": "2022-11-24T09:13:13.834687Z",
     "iopub.status.idle": "2022-11-24T09:13:39.285491Z",
     "shell.execute_reply": "2022-11-24T09:13:39.284258Z",
     "shell.execute_reply.started": "2022-11-24T09:13:13.835381Z"
    },
    "executionInfo": {
     "elapsed": 6351,
     "status": "ok",
     "timestamp": 1631025513656,
     "user": {
      "displayName": "Dimi Boeckaerts",
      "photoUrl": "https://lh3.googleusercontent.com/a-/AOh14GimOjkmN_8CXWb_xzIPwTTl_i6ozwpuZqUt_ri0=s64",
      "userId": "04262803601048577749"
     },
     "user_tz": -120
    },
    "id": "8jrtaDJdPEiH",
    "outputId": "cac40355-988f-4f32-d387-e10d71149e8b"
   },
   "outputs": [],
   "source": [
    "import numpy as np\n",
    "import pandas as pd\n",
    "from tqdm import tqdm\n",
    "from Bio import SeqIO\n",
    "from Bio.Seq import Seq\n",
    "from datetime import date\n",
    "#from distutils.version import LooseVersion\n",
    "from bio_embeddings.embed import ProtTransBertBFDEmbedder"
   ]
  },
  {
   "cell_type": "markdown",
   "metadata": {},
   "source": [
    "### Define function and compute embeddings"
   ]
  },
  {
   "cell_type": "markdown",
   "metadata": {},
   "source": [
    "In Kaggle, upload the phage_genes.csv file you want to compute embeddings for. See the 'Add data' button in the right upper corner. This file will be located at '../input/a_folder_you_designate'. The results can be stored in the output directory, which is simply './'. The computed embeddings can then be downloaded from this folder for later use."
   ]
  },
  {
   "cell_type": "code",
   "execution_count": null,
   "metadata": {},
   "outputs": [],
   "source": [
    "def compute_protein_embeddings(general_path, data_suffix='', add=False):\n",
    "    \"\"\"\n",
    "    This function computes protein embeddings -> SLOW ON CPU! Alternatively, can be done\n",
    "    in the cloud, using the separate notebook (compute_embeddings_cloud).\n",
    "    \"\"\"\n",
    "    genebase = pd.read_csv(general_path+'/phage_genes'+data_suffix+'.csv')\n",
    "    embedder = ProtTransBertBFDEmbedder()\n",
    "    if add == True:\n",
    "        old_embeddings_df = pd.read_csv(general_path+'/phage_protein_embeddings'+data_suffix+'.csv')\n",
    "        protein_ids = list(old_embeddings_df['ID'])\n",
    "        sequences = []; names = []\n",
    "        for i, sequence in enumerate(genebase['gene_sequence']):\n",
    "            if genebase['gene_ID'][i] not in protein_ids:\n",
    "                sequences.append(str(Seq(sequence).translate())[:-1])\n",
    "                names.append(genebase['gene_ID'][i])\n",
    "    else:\n",
    "        names = list(genebase['gene_ID'])\n",
    "        sequences = [str(Seq(sequence).translate())[:-1] for sequence in genebase['gene_sequence']]\n",
    "    \n",
    "    embeddings = [embedder.reduce_per_protein(embedder.embed(sequence)) for sequence in tqdm(sequences)]\n",
    "    embeddings_df = pd.concat([pd.DataFrame({'ID':names}), pd.DataFrame(embeddings)], axis=1)\n",
    "    if add == True:\n",
    "        embeddings_df = pd.concat([old_embeddings_df, embeddings_df], axis=0)\n",
    "    embeddings_df.to_csv(general_path+'/phage_protein_embeddings'+data_suffix+'.csv', index=False)\n",
    "    return"
   ]
  },
  {
   "cell_type": "code",
   "execution_count": null,
   "metadata": {
    "execution": {
     "iopub.execute_input": "2022-11-24T09:15:14.239790Z",
     "iopub.status.busy": "2022-11-24T09:15:14.239408Z",
     "iopub.status.idle": "2022-11-24T09:16:26.544471Z",
     "shell.execute_reply": "2022-11-24T09:16:26.543419Z",
     "shell.execute_reply.started": "2022-11-24T09:15:14.239758Z"
    }
   },
   "outputs": [],
   "source": [
    "path_to_genes = '../input/phage_data/phage_genes.csv'\n",
    "compute_protein_embeddings(path_to_genes, data_suffix='', add=False)"
   ]
  }
 ],
 "metadata": {
  "kernelspec": {
   "display_name": "Python 3 (ipykernel)",
   "language": "python",
   "name": "python3"
  },
  "language_info": {
   "codemirror_mode": {
    "name": "ipython",
    "version": 3
   },
   "file_extension": ".py",
   "mimetype": "text/x-python",
   "name": "python",
   "nbconvert_exporter": "python",
   "pygments_lexer": "ipython3",
   "version": "3.9.7"
  },
  "vscode": {
   "interpreter": {
    "hash": "cdf400e2b2cf645b2ec6a448fcb5b3c1b3d3d5834714944466c9c0370880fa51"
   }
  }
 },
 "nbformat": 4,
 "nbformat_minor": 4
}
