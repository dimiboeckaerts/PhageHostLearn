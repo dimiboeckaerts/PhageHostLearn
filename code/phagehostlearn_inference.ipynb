{
 "cells": [
  {
   "cell_type": "markdown",
   "id": "chronic-establishment",
   "metadata": {},
   "source": [
    "# PhageHostLearn.*klebsiella* - inference\n",
    "\n",
    "This notebook offers complete functionality to make predictions for new bacteria, phages or both, using a trained PhageHostLearn prediction model for Klebsiella phage-host interactions.\n",
    "\n",
    "**Overview of this notebook**\n",
    "1. Initial set-up\n",
    "2. Processing phage genomes and bacterial genomes into RBPs and K-locus proteins, respectively\n",
    "3. Computing feature representations based on ESM-2.\n",
    "4. Predicting new interactions and ranking\n",
    "\n",
    "**Architecture of the PhageHostLearn framework**: \n",
    "- Multi-RBP setting: phages consisting of one or more RBPs (multi-instance)\n",
    "- K-loci proteins (multi-instance) \n",
    "- Embeddings for both based on the ESM-2 language model.\n",
    "- An XGBoost model on top of language embeddings to make predictions"
   ]
  },
  {
   "cell_type": "markdown",
   "id": "1e97849c",
   "metadata": {},
   "source": [
    "## 1. Initial set-up"
   ]
  },
  {
   "cell_type": "markdown",
   "id": "15cf6121",
   "metadata": {},
   "source": [
    "DISCLAIMER: PhageHostLearn is only evaluated to make predictions for new bacterial strains against known phages in training. While we believe PhageHostLearn can also be used to make predictions for new phages against known bacteria, or even entirely new bacteria-phage combinations, we have so far not evaluated this in our study.\n",
    "\n",
    "PhageHostLearn takes as inputs phage genomes and bacterial genomes that are later transformed into phage RBPs and bacterial K-locus proteins. To do this data processing, you'll need to do the following:\n",
    "1. If you haven't already, download and install all of the following software: [HMMER](http://hmmer.org/), [PHANOTATE](https://github.com/deprekate/PHANOTATE), [Kaptive](https://github.com/katholt/Kaptive), [fair-esm](https://github.com/facebookresearch/esm) and optionally [bio_embeddings](https://github.com/sacdallago/bio_embeddings) (if you want to locally compute embeddings for RBP detection, this can also be done in the cloud with the provided notebook `PTBembeddings_cloud.ipynb`).\n",
    "\n",
    "2. Make a new data folder with two subfolders in: one for phage genomes and one for bacterial genomes. In both these subfolders, you can collect the genomes as individual FASTA files. If you want to make predictions for new bacterial strains against the phages in training (or vice versa), download the training data from [Zenodo](https://zenodo.org/records/8095914) and put the genomes in your corresponding subfolder.\n",
    "\n",
    "3. Set the paths to the files and folders below, then run each of the code cells (select and press shift+enter)."
   ]
  },
  {
   "cell_type": "code",
   "execution_count": 1,
   "id": "bf11f468",
   "metadata": {},
   "outputs": [],
   "source": [
    "# data paths\n",
    "path = './data'\n",
    "phages_path = path+'/phage_genomes'\n",
    "bacteria_path = path+'/bacteria_genomes'\n",
    "pfam_path = 'RBPdetect_phageRBPs.hmm'\n",
    "xgb_path = 'RBPdetect_xgb_hmm.json'\n",
    "kaptive_db_path = path+'/Klebsiella_k_locus_primary_reference.gbk'\n",
    "suffix = 'inference'\n",
    "\n",
    "# software paths\n",
    "hmmer_path = '/path/to/hmmer'\n",
    "phanotate_path = '/path/to/phanotate.py'"
   ]
  },
  {
   "cell_type": "markdown",
   "id": "60092310",
   "metadata": {},
   "source": [
    "## 2. Data processing\n",
    "\n",
    "The data processing of PhageHostLearn consists of four consecutive steps: (1) phage gene calling with PHANOTATE, (2) phage protein embedding with bio_embeddings, (3) phage RBP detection and (4) bacterial genome processing with Kaptive.\n",
    "\n",
    "Expected outputs: (1) an RBPbase.csv file with detected RBPs, (2) a Locibase.json file with detected K-loci proteins."
   ]
  },
  {
   "cell_type": "code",
   "execution_count": 2,
   "id": "2cc090f9",
   "metadata": {},
   "outputs": [],
   "source": [
    "import phagehostlearn_processing as phlp"
   ]
  },
  {
   "cell_type": "code",
   "execution_count": null,
   "id": "6d633972",
   "metadata": {},
   "outputs": [],
   "source": [
    "# run Phanotate\n",
    "phanotate_path = '/opt/homebrew/Caskroom/miniforge/base/envs/ML1/bin/phanotate.py'\n",
    "phlp.phanotate_processing(path, phages_path, phanotate_path, data_suffix=suffix)"
   ]
  },
  {
   "cell_type": "code",
   "execution_count": null,
   "id": "62489ce8",
   "metadata": {},
   "outputs": [],
   "source": [
    "# run PTB embeddings (can be done faster in the cloud, see PTB_embeddings.ipynb)\n",
    "phlp.compute_protein_embeddings(path, data_suffix=suffix)"
   ]
  },
  {
   "cell_type": "code",
   "execution_count": null,
   "id": "a69a6215",
   "metadata": {},
   "outputs": [],
   "source": [
    "# run PhageRBPdetect\n",
    "gene_embeddings_file = path+'/phage_protein_embeddings'+suffix+'.csv'\n",
    "phlp.phageRBPdetect(path, pfam_path, hmmer_path, xgb_path, gene_embeddings_file, data_suffix=suffix)"
   ]
  },
  {
   "cell_type": "code",
   "execution_count": 4,
   "id": "be319ea5",
   "metadata": {},
   "outputs": [
    {
     "data": {
      "application/vnd.jupyter.widget-view+json": {
       "model_id": "c42f4c96478444c5825759ccaaf024b0",
       "version_major": 2,
       "version_minor": 0
      },
      "text/plain": [
       "  0%|          | 0/31 [00:00<?, ?it/s]"
      ]
     },
     "metadata": {},
     "output_type": "display_data"
    }
   ],
   "source": [
    "# run Kaptive\n",
    "phlp.process_bacterial_genomes(path, bacteria_path, kaptive_db_path, data_suffix=suffix)"
   ]
  },
  {
   "cell_type": "markdown",
   "id": "4e13771b",
   "metadata": {},
   "source": [
    "## 3. Feature construction\n",
    "\n",
    "Starts from the RBPbase.csv and the Locibase.json in the path. If the ESM-2 embeddings take too long, you might opt to do this step in the cloud or on a high-performance computer. Expected outputs: (1) a .csv file with RBP embeddings, (2) a .csv file with loci embeddings. The last function outputs the following Python objects: ESM-2 feature matrix and groups_bact. If the ESM-2 embeddings take too long, you might opt to do this step in the cloud or on a high-performance computer."
   ]
  },
  {
   "cell_type": "code",
   "execution_count": 3,
   "id": "be94f97d",
   "metadata": {},
   "outputs": [],
   "source": [
    "import phagehostlearn_features as phlf"
   ]
  },
  {
   "cell_type": "code",
   "execution_count": null,
   "id": "34687caa",
   "metadata": {},
   "outputs": [],
   "source": [
    "# ESM-2 features for RBPs\n",
    "phlf.compute_esm2_embeddings_rbp(path, data_suffix=suffix)"
   ]
  },
  {
   "cell_type": "code",
   "execution_count": 15,
   "id": "94526a38",
   "metadata": {
    "scrolled": true
   },
   "outputs": [
    {
     "name": "stderr",
     "output_type": "stream",
     "text": [
      "100%|███████████████████████████████████████████| 31/31 [14:29<00:00, 28.03s/it]\n"
     ]
    }
   ],
   "source": [
    "# ESM-2 features for loci\n",
    "phlf.compute_esm2_embeddings_loci(path, data_suffix=suffix)"
   ]
  },
  {
   "cell_type": "code",
   "execution_count": 5,
   "id": "bdd9c807",
   "metadata": {},
   "outputs": [],
   "source": [
    "# Construct feature matrices\n",
    "rbp_embeddings_path = path+'/esm2_embeddings_rbp'+suffix+'.csv'\n",
    "loci_embeddings_path = path+'/esm2_embeddings_loci'+suffix+'.csv'\n",
    "features_esm2, groups_bact = phlf.construct_feature_matrices(path, suffix, loci_embeddings_path, rbp_embeddings_path, mode='test')"
   ]
  },
  {
   "cell_type": "markdown",
   "id": "be83b57a",
   "metadata": {},
   "source": [
    "## 4. Predict and rank new interactions"
   ]
  },
  {
   "cell_type": "markdown",
   "id": "b05f9213",
   "metadata": {},
   "source": [
    "What we want is to make predictions per bacterium for all of the phages, and then use the prediction scores to rank the potential phages per bacterium."
   ]
  },
  {
   "cell_type": "code",
   "execution_count": 7,
   "id": "drawn-centre",
   "metadata": {},
   "outputs": [],
   "source": [
    "# load the needed libraries\n",
    "import pickle\n",
    "import numpy as np\n",
    "import pandas as pd\n",
    "from xgboost import XGBClassifier\n",
    "%matplotlib inline"
   ]
  },
  {
   "cell_type": "code",
   "execution_count": 11,
   "id": "344d28a3",
   "metadata": {},
   "outputs": [],
   "source": [
    "# Load the XGBoost model and make predictions\n",
    "xgb = XGBClassifier()\n",
    "xgb.load_model('phagehostlearn_esm2_xgb.json')\n",
    "scores_xgb = xgb.predict_proba(features_esm2)[:,1]"
   ]
  },
  {
   "cell_type": "code",
   "execution_count": 14,
   "id": "7d51249b",
   "metadata": {},
   "outputs": [],
   "source": [
    "# save prediction scores in an interaction matrix\n",
    "groups_bact = np.asarray(groups_bact)\n",
    "loci_embeddings = pd.read_csv(loci_embeddings_path)\n",
    "rbp_embeddings = pd.read_csv(rbp_embeddings_path)\n",
    "bacteria = list(loci_embeddings['accession'])\n",
    "phages = list(set(rbp_embeddings['phage_ID']))\n",
    "\n",
    "score_matrix = np.zeros((len(bacteria), len(phages)))\n",
    "for i, group in enumerate(list(set(groups_bact))):\n",
    "    #scores_this_group = scores[groups_bact == group]\n",
    "    scores_this_group = scores_xgb[groups_bact == group]\n",
    "    score_matrix[i, :] = scores_this_group\n",
    "results = pd.DataFrame(score_matrix, index=bacteria, columns=phages)\n",
    "results.to_csv(path+'/prediction_results'+suffix+'.csv', index=False)"
   ]
  },
  {
   "cell_type": "code",
   "execution_count": 16,
   "id": "a08f973f",
   "metadata": {},
   "outputs": [],
   "source": [
    "# rank the phages per bacterium\n",
    "ranked = {}\n",
    "for group in list(set(groups_bact)):\n",
    "    scores_this_group = scores_xgb[groups_bact == group]\n",
    "    ranked_phages = [(x, y) for y, x in sorted(zip(scores_this_group, phages), reverse=True)]\n",
    "    ranked[bacteria[group]] = ranked_phages\n",
    "\n",
    "# save results\n",
    "with open(path+'/ranked_results'+suffix+'.pickle', 'wb') as f:\n",
    "    pickle.dump(ranked, f)"
   ]
  },
  {
   "cell_type": "markdown",
   "id": "036206be",
   "metadata": {},
   "source": [
    "## 5. Read & interpret results"
   ]
  },
  {
   "cell_type": "code",
   "execution_count": 8,
   "id": "139793ef",
   "metadata": {},
   "outputs": [],
   "source": [
    "# read results\n",
    "with open(path+'/ranked_results'+suffix+'.pickle', 'rb') as f:\n",
    "    ranked_results = pickle.load(f)"
   ]
  },
  {
   "cell_type": "code",
   "execution_count": 62,
   "id": "0b7c9583",
   "metadata": {},
   "outputs": [
    {
     "data": {
      "text/html": [
       "<div>\n",
       "<style scoped>\n",
       "    .dataframe tbody tr th:only-of-type {\n",
       "        vertical-align: middle;\n",
       "    }\n",
       "\n",
       "    .dataframe tbody tr th {\n",
       "        vertical-align: top;\n",
       "    }\n",
       "\n",
       "    .dataframe thead th {\n",
       "        text-align: right;\n",
       "    }\n",
       "</style>\n",
       "<table border=\"1\" class=\"dataframe\">\n",
       "  <thead>\n",
       "    <tr style=\"text-align: right;\">\n",
       "      <th></th>\n",
       "      <th>0</th>\n",
       "      <th>1</th>\n",
       "      <th>2</th>\n",
       "      <th>3</th>\n",
       "      <th>4</th>\n",
       "    </tr>\n",
       "  </thead>\n",
       "  <tbody>\n",
       "    <tr>\n",
       "      <th>A1002KPN</th>\n",
       "      <td>0.056</td>\n",
       "      <td>0.032</td>\n",
       "      <td>0.003</td>\n",
       "      <td>0.000</td>\n",
       "      <td>0.000</td>\n",
       "    </tr>\n",
       "    <tr>\n",
       "      <th>E0204</th>\n",
       "      <td>1.000</td>\n",
       "      <td>1.000</td>\n",
       "      <td>1.000</td>\n",
       "      <td>0.985</td>\n",
       "      <td>0.961</td>\n",
       "    </tr>\n",
       "    <tr>\n",
       "      <th>k4159</th>\n",
       "      <td>0.895</td>\n",
       "      <td>0.692</td>\n",
       "      <td>0.006</td>\n",
       "      <td>0.000</td>\n",
       "      <td>0.000</td>\n",
       "    </tr>\n",
       "    <tr>\n",
       "      <th>9517_7_8</th>\n",
       "      <td>0.849</td>\n",
       "      <td>0.422</td>\n",
       "      <td>0.007</td>\n",
       "      <td>0.004</td>\n",
       "      <td>0.003</td>\n",
       "    </tr>\n",
       "    <tr>\n",
       "      <th>A1009KPN</th>\n",
       "      <td>0.999</td>\n",
       "      <td>0.998</td>\n",
       "      <td>0.992</td>\n",
       "      <td>0.992</td>\n",
       "      <td>0.949</td>\n",
       "    </tr>\n",
       "    <tr>\n",
       "      <th>K0006KPN</th>\n",
       "      <td>0.056</td>\n",
       "      <td>0.032</td>\n",
       "      <td>0.003</td>\n",
       "      <td>0.000</td>\n",
       "      <td>0.000</td>\n",
       "    </tr>\n",
       "    <tr>\n",
       "      <th>D0006</th>\n",
       "      <td>0.056</td>\n",
       "      <td>0.032</td>\n",
       "      <td>0.003</td>\n",
       "      <td>0.000</td>\n",
       "      <td>0.000</td>\n",
       "    </tr>\n",
       "    <tr>\n",
       "      <th>K12100</th>\n",
       "      <td>0.999</td>\n",
       "      <td>0.999</td>\n",
       "      <td>0.992</td>\n",
       "      <td>0.990</td>\n",
       "      <td>0.954</td>\n",
       "    </tr>\n",
       "    <tr>\n",
       "      <th>H0502KPN</th>\n",
       "      <td>0.056</td>\n",
       "      <td>0.032</td>\n",
       "      <td>0.003</td>\n",
       "      <td>0.000</td>\n",
       "      <td>0.000</td>\n",
       "    </tr>\n",
       "    <tr>\n",
       "      <th>K11933</th>\n",
       "      <td>0.999</td>\n",
       "      <td>0.999</td>\n",
       "      <td>0.992</td>\n",
       "      <td>0.990</td>\n",
       "      <td>0.954</td>\n",
       "    </tr>\n",
       "    <tr>\n",
       "      <th>A2808KPN</th>\n",
       "      <td>1.000</td>\n",
       "      <td>1.000</td>\n",
       "      <td>1.000</td>\n",
       "      <td>0.985</td>\n",
       "      <td>0.961</td>\n",
       "    </tr>\n",
       "    <tr>\n",
       "      <th>9263_7_40</th>\n",
       "      <td>0.849</td>\n",
       "      <td>0.422</td>\n",
       "      <td>0.007</td>\n",
       "      <td>0.004</td>\n",
       "      <td>0.003</td>\n",
       "    </tr>\n",
       "    <tr>\n",
       "      <th>k11601</th>\n",
       "      <td>0.738</td>\n",
       "      <td>0.032</td>\n",
       "      <td>0.024</td>\n",
       "      <td>0.010</td>\n",
       "      <td>0.002</td>\n",
       "    </tr>\n",
       "    <tr>\n",
       "      <th>A0507KPN</th>\n",
       "      <td>0.056</td>\n",
       "      <td>0.031</td>\n",
       "      <td>0.003</td>\n",
       "      <td>0.000</td>\n",
       "      <td>0.000</td>\n",
       "    </tr>\n",
       "    <tr>\n",
       "      <th>A2803KPN</th>\n",
       "      <td>1.000</td>\n",
       "      <td>1.000</td>\n",
       "      <td>1.000</td>\n",
       "      <td>0.985</td>\n",
       "      <td>0.961</td>\n",
       "    </tr>\n",
       "    <tr>\n",
       "      <th>k4043</th>\n",
       "      <td>0.927</td>\n",
       "      <td>0.768</td>\n",
       "      <td>0.008</td>\n",
       "      <td>0.000</td>\n",
       "      <td>0.000</td>\n",
       "    </tr>\n",
       "    <tr>\n",
       "      <th>K11373</th>\n",
       "      <td>0.999</td>\n",
       "      <td>0.998</td>\n",
       "      <td>0.992</td>\n",
       "      <td>0.992</td>\n",
       "      <td>0.949</td>\n",
       "    </tr>\n",
       "    <tr>\n",
       "      <th>k993</th>\n",
       "      <td>0.524</td>\n",
       "      <td>0.003</td>\n",
       "      <td>0.001</td>\n",
       "      <td>0.000</td>\n",
       "      <td>0.000</td>\n",
       "    </tr>\n",
       "    <tr>\n",
       "      <th>K0004KPN-COL</th>\n",
       "      <td>1.000</td>\n",
       "      <td>1.000</td>\n",
       "      <td>1.000</td>\n",
       "      <td>0.996</td>\n",
       "      <td>0.973</td>\n",
       "    </tr>\n",
       "    <tr>\n",
       "      <th>A0610KPN</th>\n",
       "      <td>0.062</td>\n",
       "      <td>0.035</td>\n",
       "      <td>0.004</td>\n",
       "      <td>0.000</td>\n",
       "      <td>0.000</td>\n",
       "    </tr>\n",
       "    <tr>\n",
       "      <th>A1402KPN</th>\n",
       "      <td>0.849</td>\n",
       "      <td>0.422</td>\n",
       "      <td>0.007</td>\n",
       "      <td>0.004</td>\n",
       "      <td>0.003</td>\n",
       "    </tr>\n",
       "    <tr>\n",
       "      <th>k10963</th>\n",
       "      <td>0.798</td>\n",
       "      <td>0.631</td>\n",
       "      <td>0.097</td>\n",
       "      <td>0.051</td>\n",
       "      <td>0.011</td>\n",
       "    </tr>\n",
       "    <tr>\n",
       "      <th>K0107KPN</th>\n",
       "      <td>1.000</td>\n",
       "      <td>1.000</td>\n",
       "      <td>1.000</td>\n",
       "      <td>0.985</td>\n",
       "      <td>0.961</td>\n",
       "    </tr>\n",
       "    <tr>\n",
       "      <th>B0104KPN</th>\n",
       "      <td>0.056</td>\n",
       "      <td>0.032</td>\n",
       "      <td>0.003</td>\n",
       "      <td>0.000</td>\n",
       "      <td>0.000</td>\n",
       "    </tr>\n",
       "    <tr>\n",
       "      <th>A2608KPN</th>\n",
       "      <td>0.999</td>\n",
       "      <td>0.997</td>\n",
       "      <td>0.993</td>\n",
       "      <td>0.992</td>\n",
       "      <td>0.991</td>\n",
       "    </tr>\n",
       "    <tr>\n",
       "      <th>A2001KPN</th>\n",
       "      <td>1.000</td>\n",
       "      <td>1.000</td>\n",
       "      <td>1.000</td>\n",
       "      <td>0.501</td>\n",
       "      <td>0.313</td>\n",
       "    </tr>\n",
       "    <tr>\n",
       "      <th>A0106KPN</th>\n",
       "      <td>0.849</td>\n",
       "      <td>0.422</td>\n",
       "      <td>0.007</td>\n",
       "      <td>0.004</td>\n",
       "      <td>0.003</td>\n",
       "    </tr>\n",
       "    <tr>\n",
       "      <th>k2234</th>\n",
       "      <td>0.938</td>\n",
       "      <td>0.902</td>\n",
       "      <td>0.007</td>\n",
       "      <td>0.000</td>\n",
       "      <td>0.000</td>\n",
       "    </tr>\n",
       "    <tr>\n",
       "      <th>A1303KPN</th>\n",
       "      <td>0.743</td>\n",
       "      <td>0.033</td>\n",
       "      <td>0.025</td>\n",
       "      <td>0.007</td>\n",
       "      <td>0.001</td>\n",
       "    </tr>\n",
       "    <tr>\n",
       "      <th>A0805KPN</th>\n",
       "      <td>0.849</td>\n",
       "      <td>0.422</td>\n",
       "      <td>0.007</td>\n",
       "      <td>0.004</td>\n",
       "      <td>0.003</td>\n",
       "    </tr>\n",
       "  </tbody>\n",
       "</table>\n",
       "</div>"
      ],
      "text/plain": [
       "                  0      1      2      3      4\n",
       "A1002KPN      0.056  0.032  0.003  0.000  0.000\n",
       "E0204         1.000  1.000  1.000  0.985  0.961\n",
       "k4159         0.895  0.692  0.006  0.000  0.000\n",
       "9517_7_8      0.849  0.422  0.007  0.004  0.003\n",
       "A1009KPN      0.999  0.998  0.992  0.992  0.949\n",
       "K0006KPN      0.056  0.032  0.003  0.000  0.000\n",
       "D0006         0.056  0.032  0.003  0.000  0.000\n",
       "K12100        0.999  0.999  0.992  0.990  0.954\n",
       "H0502KPN      0.056  0.032  0.003  0.000  0.000\n",
       "K11933        0.999  0.999  0.992  0.990  0.954\n",
       "A2808KPN      1.000  1.000  1.000  0.985  0.961\n",
       "9263_7_40     0.849  0.422  0.007  0.004  0.003\n",
       "k11601        0.738  0.032  0.024  0.010  0.002\n",
       "A0507KPN      0.056  0.031  0.003  0.000  0.000\n",
       "A2803KPN      1.000  1.000  1.000  0.985  0.961\n",
       "k4043         0.927  0.768  0.008  0.000  0.000\n",
       "K11373        0.999  0.998  0.992  0.992  0.949\n",
       "k993          0.524  0.003  0.001  0.000  0.000\n",
       "K0004KPN-COL  1.000  1.000  1.000  0.996  0.973\n",
       "A0610KPN      0.062  0.035  0.004  0.000  0.000\n",
       "A1402KPN      0.849  0.422  0.007  0.004  0.003\n",
       "k10963        0.798  0.631  0.097  0.051  0.011\n",
       "K0107KPN      1.000  1.000  1.000  0.985  0.961\n",
       "B0104KPN      0.056  0.032  0.003  0.000  0.000\n",
       "A2608KPN      0.999  0.997  0.993  0.992  0.991\n",
       "A2001KPN      1.000  1.000  1.000  0.501  0.313\n",
       "A0106KPN      0.849  0.422  0.007  0.004  0.003\n",
       "k2234         0.938  0.902  0.007  0.000  0.000\n",
       "A1303KPN      0.743  0.033  0.025  0.007  0.001\n",
       "A0805KPN      0.849  0.422  0.007  0.004  0.003"
      ]
     },
     "execution_count": 62,
     "metadata": {},
     "output_type": "execute_result"
    }
   ],
   "source": [
    "# print top phages per bacterium\n",
    "top =  5\n",
    "scores = np.zeros((len(ranked_results.keys()), top))\n",
    "for i, acc in enumerate(ranked_results.keys()):\n",
    "    topscores = [round(y, 3) for (x,y) in ranked_results[acc]][:top]\n",
    "    scores[i,:] = topscores\n",
    "pd.DataFrame(scores, index=list(ranked_results.keys()))"
   ]
  }
 ],
 "metadata": {
  "kernelspec": {
   "display_name": "Python 3 (ipykernel)",
   "language": "python",
   "name": "python3"
  },
  "language_info": {
   "codemirror_mode": {
    "name": "ipython",
    "version": 3
   },
   "file_extension": ".py",
   "mimetype": "text/x-python",
   "name": "python",
   "nbconvert_exporter": "python",
   "pygments_lexer": "ipython3",
   "version": "3.9.7"
  }
 },
 "nbformat": 4,
 "nbformat_minor": 5
}
