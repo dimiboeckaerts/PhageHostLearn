{
 "cells": [
  {
   "cell_type": "markdown",
   "id": "4eb51877",
   "metadata": {},
   "source": [
    "# PhageHostLearn - v2.2 (Klebsiella) - feature exploration\n",
    "\n",
    "An AI-based Phage-Host interaction predictor framework with K-loci and receptor-binding proteins at its core. This particular PhageHostLearn is for *Klebsiella pneumoniae* related phages. This notebook follows after having ran the PhageHostLearn_processing steps implemented in the accompanying Jupyter notebook."
   ]
  },
  {
   "cell_type": "code",
   "execution_count": null,
   "id": "f3925e71",
   "metadata": {},
   "outputs": [],
   "source": [
    "RBP_embeddings = pd.read_csv(valencia_dir+'/RBP_embeddings.csv')\n",
    "\n",
    "loci_embeddings = pd.read_csv(valencia_dir+'/loci_embeddings.csv')\n",
    "interactions = pd.read_csv(valencia_dir+'/phage_host_interactionsValencia.csv', index_col=0)\n",
    "\n",
    "\n"
   ]
  },
  {
   "cell_type": "markdown",
   "id": "53e4f7a5",
   "metadata": {},
   "source": [
    "#### TSNE"
   ]
  },
  {
   "cell_type": "code",
   "execution_count": null,
   "id": "1daed8f9",
   "metadata": {},
   "outputs": [],
   "source": [
    "X = np.asarray(frame.iloc[:, :-4])\n",
    "X_loci = np.asarray(frame.iloc[:, :1024]) # first 1024\n",
    "X_rbps = np.asarray(frame.iloc[:, 1024:-4]) # second 1024"
   ]
  },
  {
   "cell_type": "code",
   "execution_count": null,
   "id": "81bbb03b",
   "metadata": {},
   "outputs": [],
   "source": [
    "# colored by label\n",
    "X_tsne = TSNE(n_components=2, learning_rate='auto', init='random').fit_transform(X)\n",
    "plt.figure(figsize=(10,7))\n",
    "colors = [\"navy\", \"darkorange\"]\n",
    "\n",
    "for i in range(X_tsne.shape[0]):\n",
    "    if (frame['origin'][i] == 'prophage') and (labels[i] == 1):\n",
    "        plt.scatter(X_tsne[i,0], X_tsne[i,1], color='darkorange', marker='+')\n",
    "    if (frame['origin'][i] == 'prophage') and (labels[i] == 0):\n",
    "        plt.scatter(X_tsne[i,0], X_tsne[i,1], color='navy', marker='+')\n",
    "    if (frame['origin'][i] == 'valencia') and (labels[i] == 1):\n",
    "        plt.scatter(X_tsne[i,0], X_tsne[i,1], color='darkorange', marker='>')\n",
    "    if (frame['origin'][i] == 'valencia') and (labels[i] == 0):\n",
    "        plt.scatter(X_tsne[i,0], X_tsne[i,1], color='navy', marker='>')\n",
    "        \n",
    "plt.scatter([],[], color='darkorange', marker='+', label='pos+ prophage')\n",
    "plt.scatter([],[], color='navy', marker='+', label='neg- prophage')\n",
    "plt.scatter([],[], color='darkorange', marker='>', label='pos+ valencia')\n",
    "plt.scatter([],[], color='navy', marker='>', label='neg- valencia')\n",
    "  \n",
    "plt.legend(loc=\"best\", shadow=False, scatterpoints=1)\n",
    "plt.title(\"tSNE of dataset\")\n",
    "plt.xlabel('tSNE component 1')\n",
    "plt.ylabel('tSNE component 2')\n",
    "#plt.savefig(results_dir+'/features/all_embeddings_tSNE.png', dpi=400)"
   ]
  },
  {
   "cell_type": "code",
   "execution_count": null,
   "id": "75a62396",
   "metadata": {},
   "outputs": [],
   "source": [
    "# colored by serotype\n",
    "X_tsne = TSNE(n_components=2, perplexity=61, learning_rate='auto', init='random').fit_transform(X_rbps)\n",
    "seros = pd.read_csv(klebsiella_dir+'/klebsiella_genomes_031221_serotypes.csv')\n",
    "unique_seros = list(set(seros['sero']))\n",
    "seros_count = [list(seros['sero']).count(x) for x in unique_seros]\n",
    "seros_top = [x for _,x in sorted(zip(seros_count,unique_seros), reverse=True)][:20]\n",
    "plt.figure(figsize=(10,7))\n",
    "viridis = cm.get_cmap('rainbow')\n",
    "crange = np.linspace(0.01, 0.99, len(seros_top))\n",
    "\n",
    "for i in range(X_tsne.shape[0]):\n",
    "    this_index = frame['row'][i]\n",
    "    this_sero = seros['sero'][this_index]\n",
    "    if (frame['origin'][i] == 'prophage') and (this_sero in seros_top):\n",
    "        col = viridis(crange[seros_top.index(this_sero)])\n",
    "        plt.scatter(X_tsne[i,0], X_tsne[i,1], color=col, marker='+')\n",
    "    if (frame['origin'][i] == 'prophage') and (this_sero not in seros_top):\n",
    "        plt.scatter(X_tsne[i,0], X_tsne[i,1], color='grey', marker='+')\n",
    "    if (frame['origin'][i] == 'valencia') and (this_sero in seros_top):\n",
    "        col = viridis(crange[seros_top.index(this_sero)])\n",
    "        plt.scatter(X_tsne[i,0], X_tsne[i,1], color=col, marker='>')\n",
    "    if (frame['origin'][i] == 'valencia') and (this_sero not in seros_top):\n",
    "        plt.scatter(X_tsne[i,0], X_tsne[i,1], color='grey', marker='>')\n",
    "         \n",
    "plt.title(\"tSNE of dataset, colored by top20 serotypes\")\n",
    "plt.xlabel('tSNE component 1')\n",
    "plt.ylabel('tSNE component 2')\n",
    "plt.savefig(results_dir+'/features/rbp_embeddings_tSNE_serocolor.png', dpi=400)"
   ]
  },
  {
   "cell_type": "code",
   "execution_count": null,
   "id": "bd741cd9",
   "metadata": {},
   "outputs": [],
   "source": [
    "# colored with Valencia RBPs\n",
    "X_PCA = PCA(n_components=2).fit_transform(X_rbps)\n",
    "\n",
    "unique_valencia_rbps = list(set(frame['col'][frame['origin']=='valencia']))\n",
    "colors = cm.get_cmap('rainbow')\n",
    "crange = np.linspace(0.01, 0.99, len(unique_valencia_rbps))\n",
    "\n",
    "plt.figure(figsize=(10,7))\n",
    "for i in range(X_tsne.shape[0]):\n",
    "    this_rbp = frame['col'][i]\n",
    "    if (frame['origin'][i] == 'prophage'):        \n",
    "        plt.scatter(X_PCA[i,0], X_PCA[i,1], color='grey', marker='+')\n",
    "    if (frame['origin'][i] == 'valencia'):\n",
    "        col = colors(crange[unique_valencia_rbps.index(this_rbp)])\n",
    "        plt.scatter(X_PCA[i,0], X_PCA[i,1], color=col, marker='>')\n",
    "         \n",
    "plt.title(\"tSNE of dataset, colored by Valencia RBP\")\n",
    "plt.xlabel('tSNE component 1')\n",
    "plt.ylabel('tSNE component 2')\n",
    "#plt.savefig(results_dir+'/features/rbp_embeddings_tSNE_serocolor.png', dpi=400)"
   ]
  }
 ],
 "metadata": {
  "kernelspec": {
   "display_name": "Python 3 (ipykernel)",
   "language": "python",
   "name": "python3"
  },
  "language_info": {
   "codemirror_mode": {
    "name": "ipython",
    "version": 3
   },
   "file_extension": ".py",
   "mimetype": "text/x-python",
   "name": "python",
   "nbconvert_exporter": "python",
   "pygments_lexer": "ipython3",
   "version": "3.9.7"
  }
 },
 "nbformat": 4,
 "nbformat_minor": 5
}
