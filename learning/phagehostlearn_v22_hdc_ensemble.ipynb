{
 "cells": [
  {
   "cell_type": "markdown",
   "id": "f577d7df",
   "metadata": {},
   "source": [
    "# PhageHostLearn - v2.2 (Klebsiella)\n",
    "\n",
    "An AI-based Phage-Host interaction predictor framework with K-loci and receptor-binding proteins at its core. This particular PhageHostLearn is for *Klebsiella pneumoniae* related phages. This notebook follows after having ran the PhageHostLearn_processing steps implemented in the accompanying Jupyter notebook.\n",
    "\n",
    "**Architecture of this framework**: \n",
    "- Multi-RBP setting: phages consisting of one or more RBPs (multi-instance)\n",
    "- K-loci proteins (multi-instance) \n",
    "- Hyperdimensional vector embeddings for both that are bound or concatenated\n",
    "- Do PCA and train an XGBoost and RF model on the reduced embeddings (binary classification)\n",
    "\n",
    "**Overview of the notebook**:\n",
    "\n",
    "1. [Defining the necessary functions](#functions)\n",
    "2. [Transform the loci sequences into embeddings](#lociembed) using hyperdimensional vectors\n",
    "3. [Transform the RBP sequences into embeddings](#rbpembed) using hyperdimensional vectors\n",
    "4. [Compute joint features: bind or concat](#joint)\n",
    "5. [PCA and RF](#machinelearning)\n",
    "6. PCA + RF LOGOCV\n",
    "7. [PCA + XGBoost LOGOCV](#xgb)"
   ]
  },
  {
   "cell_type": "markdown",
   "id": "a4cc1380",
   "metadata": {},
   "source": [
    "## 0 - Libraries and directories"
   ]
  },
  {
   "cell_type": "code",
   "execution_count": 1,
   "id": "5e3e26c3",
   "metadata": {},
   "outputs": [],
   "source": [
    "using CSV\n",
    "using MLJ\n",
    "using Test\n",
    "using JSON\n",
    "using Plots\n",
    "using FASTX\n",
    "using MLBase\n",
    "using Colors\n",
    "using Random\n",
    "using XGBoost\n",
    "using StatsBase\n",
    "using Statistics\n",
    "using DataFrames\n",
    "using ScikitLearn\n",
    "using BioAlignments\n",
    "using ProgressMeter\n",
    "using LinearAlgebra\n",
    "using ProgressMeter\n",
    "using BioAlignments\n",
    "using DelimitedFiles\n",
    "using MultivariateStats\n",
    "using ScikitLearn.Pipelines: Pipeline\n",
    "using ScikitLearn.CrossValidation: train_test_split\n",
    "using ScikitLearn.GridSearch: GridSearchCV\n",
    "using ScikitLearn.Skcore: make_scorer\n",
    "\n",
    "@sk_import decomposition: PCA\n",
    "@sk_import ensemble: RandomForestClassifier\n",
    "@sk_import metrics: roc_auc_score\n",
    "\n",
    "push!(LOAD_PATH, \"/Users/dimi/Documents/GitHub/HyperdimensionalComputing.jl/src/\")\n",
    "using HyperdimensionalComputing\n",
    "\n",
    "general_dir = \"/Users/dimi/GoogleDrive/PhD/4_PHAGEHOST_LEARNING/42_DATA/Valencia_data\" # general directory\n",
    "results_dir = \"/Users/dimi/GoogleDrive/PhD/4_PHAGEHOST_LEARNING/43_RESULTS/models\"\n",
    "data_suffix = \"Valencia\"; # choose a suffix for the created data files"
   ]
  },
  {
   "cell_type": "markdown",
   "id": "a9cff52b",
   "metadata": {},
   "source": [
    "## 1 - Functions<a name=\"functions\"></a>"
   ]
  },
  {
   "cell_type": "code",
   "execution_count": 2,
   "id": "015ad564",
   "metadata": {},
   "outputs": [
    {
     "data": {
      "text/plain": [
       "file_to_array (generic function with 1 method)"
      ]
     },
     "execution_count": 2,
     "metadata": {},
     "output_type": "execute_result"
    }
   ],
   "source": [
    "function file_to_array(file)\n",
    "    \"\"\"\n",
    "    Function that reads a FASTA file and puts its sequences in an array.\n",
    "    \"\"\"\n",
    "    sequences = []\n",
    "    reader = FASTA.Reader(open(file, \"r\"))\n",
    "    for record in reader\n",
    "        seq = FASTA.sequence(record)\n",
    "        push!(sequences, seq)\n",
    "    end\n",
    "    return sequences\n",
    "end"
   ]
  },
  {
   "cell_type": "code",
   "execution_count": 3,
   "id": "fc871105",
   "metadata": {
    "scrolled": true
   },
   "outputs": [
    {
     "data": {
      "text/plain": [
       "mean_reciprocal_rank (generic function with 1 method)"
      ]
     },
     "execution_count": 3,
     "metadata": {},
     "output_type": "execute_result"
    }
   ],
   "source": [
    "function mean_reciprocal_rank(queries)\n",
    "    \"\"\"\n",
    "    This function computes the mean reciprocal rank for a given array or\n",
    "    matrix of queries. It deals with relevant vs. non-relevant queries that are\n",
    "    binary. If queries is a matrix, then it will compute the reciprocal ranks over\n",
    "    all rows individually (for each 'query') and then average those.\n",
    "    E.g.:\n",
    "    queries = [[0, 0, 0], [0, 1, 0], [1, 0, 0]]\n",
    "    mean_reciprocal_rank(queries) -> 0.5\n",
    "    \"\"\"\n",
    "    if isa(queries, Matrix)\n",
    "        queries_list = [queries[i,:] for i in 1:size(queries)[1]]\n",
    "        reciprocal_ranks = [sum(query) > 0 ? 1/argmax(query) : 0 for query in queries_list]\n",
    "    else\n",
    "        reciprocal_ranks = [sum(query) > 0 ? 1/argmax(query) : 0 for query in queries]\n",
    "    end\n",
    "    return mean(reciprocal_ranks)\n",
    "end"
   ]
  },
  {
   "cell_type": "code",
   "execution_count": 4,
   "id": "4f3be05d",
   "metadata": {},
   "outputs": [
    {
     "data": {
      "text/plain": [
       "sort_label_matrix (generic function with 1 method)"
      ]
     },
     "execution_count": 4,
     "metadata": {},
     "output_type": "execute_result"
    }
   ],
   "source": [
    "function sort_label_matrix(score_matrix, label_matrix)\n",
    "    \"\"\"\n",
    "    This function sorts the label matrix based on the score matrix.\n",
    "    It does so per row (corresponding to bacteria in our setting).\n",
    "    \n",
    "    WARNING: The sortperm function will rank equal elements by ascending index order. \n",
    "    This potentially can cause an underestimation of performance (MRR), as it can be that \n",
    "    an irrelevant 0 appears earlier and then is place before a relevant 1.\n",
    "    \"\"\"\n",
    "    @assert size(label_matrix) == size(score_matrix)\n",
    "    sorted_matrix = zeros(Int64, size(label_matrix)[1], size(label_matrix)[2])\n",
    "    for i in 1:size(label_matrix)[1] # loop over rows\n",
    "        label_row = label_matrix[i,:]\n",
    "        score_row = score_matrix[i,:]\n",
    "        sorted_row = label_row[sortperm(score_row, rev=true)]\n",
    "        sorted_matrix[i,:] = sorted_row\n",
    "    end\n",
    "    return sorted_matrix\n",
    "end"
   ]
  },
  {
   "cell_type": "code",
   "execution_count": 5,
   "id": "596df09d",
   "metadata": {},
   "outputs": [
    {
     "data": {
      "text/plain": [
       "mrr_from_scores (generic function with 1 method)"
      ]
     },
     "execution_count": 5,
     "metadata": {},
     "output_type": "execute_result"
    }
   ],
   "source": [
    "function mrr_from_scores(score_matrix, label_matrix)\n",
    "    \"\"\"\n",
    "    This function is a wrapper for the previous functions that computes\n",
    "    the MRR starting from a matrix of (prediction) scores, a threshold above\n",
    "    which to consider an interaction positive and a label matrix.\n",
    "    \"\"\"\n",
    "    # sort the matrix per row and compute\n",
    "    replace!(label_matrix, missing => 0)\n",
    "    sorted_matrix = sort_label_matrix(score_matrix, label_matrix)\n",
    "    \n",
    "    return mean_reciprocal_rank(sorted_matrix)\n",
    "end"
   ]
  },
  {
   "cell_type": "code",
   "execution_count": 6,
   "id": "916c4a1c",
   "metadata": {},
   "outputs": [
    {
     "data": {
      "text/plain": [
       "auc_from_scores (generic function with 1 method)"
      ]
     },
     "execution_count": 6,
     "metadata": {},
     "output_type": "execute_result"
    }
   ],
   "source": [
    "function auc_from_scores(scores_flat, labels_flat)\n",
    "    \"\"\"\n",
    "    This function computes the AUC from raw scores returned by ScikitLearn classifiers.\n",
    "    For the AUC, we need the flat versions of scores and labels that don't contain missing \n",
    "    values (if not, this will skew the results).\n",
    "    \n",
    "    Dependencies: MLJ\n",
    "    \"\"\"\n",
    "    c = [\"neg\", \"pos\"]\n",
    "    labels_cat = categorical(c[labels_flat .+ 1])\n",
    "    scores_uni = [UnivariateFinite(categorical([\"neg\", \"pos\"]), [1.0 - p, p]) for p in scores_flat]\n",
    "    AUC = auc(scores_uni, labels_cat)\n",
    "    return AUC\n",
    "end"
   ]
  },
  {
   "cell_type": "code",
   "execution_count": 7,
   "id": "7123b0c9",
   "metadata": {},
   "outputs": [
    {
     "data": {
      "text/plain": [
       "compute_performance (generic function with 1 method)"
      ]
     },
     "execution_count": 7,
     "metadata": {},
     "output_type": "execute_result"
    }
   ],
   "source": [
    "function compute_performance(score_matrix, label_matrix, scores_flat, labels_flat)\n",
    "    \"\"\"\n",
    "    Wrapper function that computes the two relevant results we want to compare for \n",
    "    our models: the ROC AUC and the MRR.    \n",
    "    \"\"\"\n",
    "    MRR = mrr_from_scores(score_matrix, label_matrix) # compute MRR\n",
    "    AUC = auc_from_scores(scores_flat, labels_flat) # compute AUC\n",
    "    return MRR, AUC\n",
    "end"
   ]
  },
  {
   "cell_type": "markdown",
   "id": "f1db0834",
   "metadata": {},
   "source": [
    "## 2 - Computing loci embeddings<a name=\"lociembed\"></a>"
   ]
  },
  {
   "cell_type": "markdown",
   "id": "8b4dcb22",
   "metadata": {},
   "source": [
    "In this section, we define hyperdimensional vectors for the amino-acid alphabet and use these hyperdimensional vectors to construct *hyperdimensional embeddings* for our loci proteins. For the loci proteins, this is a multi-instance setting: multiple proteins will be embedded into hyperdimensional space and then those vectors are aggregated to form one final vector for each locus."
   ]
  },
  {
   "cell_type": "code",
   "execution_count": 8,
   "id": "69da2bd6",
   "metadata": {},
   "outputs": [],
   "source": [
    "# load data\n",
    "LociBase = JSON.parsefile(general_dir*\"/Locibase\"*data_suffix*\".json\")\n",
    "seros = DataFrame(CSV.File(general_dir*\"/serotypes\"*data_suffix*\".csv\"));"
   ]
  },
  {
   "cell_type": "code",
   "execution_count": 9,
   "id": "bb78964a",
   "metadata": {},
   "outputs": [],
   "source": [
    "# define protein alphabet\n",
    "alphabet = \"GAVLIFPSTYCMKRHWDENQX\"\n",
    "basis = Dict(c=>BipolarHDV() for c in alphabet);"
   ]
  },
  {
   "cell_type": "code",
   "execution_count": 10,
   "id": "356e2c2c",
   "metadata": {},
   "outputs": [],
   "source": [
    "# compute loci embeddings w/ proteins (multi-instance)\n",
    "loci_embeddings = Array{BipolarHDV}(undef, length(LociBase))\n",
    "for (i, (name, proteins)) in enumerate(LociBase)\n",
    "    # bind within one sequence, then aggregate the different sequences\n",
    "    protein_hdvs = [sequence_embedding(string(sequence), basis, 6) for sequence in proteins]\n",
    "    loci_hdv = HyperdimensionalComputing.aggregate(protein_hdvs)\n",
    "    loci_embeddings[i] = loci_hdv\n",
    "end"
   ]
  },
  {
   "cell_type": "markdown",
   "id": "a573ebc0",
   "metadata": {},
   "source": [
    "## 3 - Computing RBP embeddings<a name=\"rbpembed\"></a>\n",
    "\n",
    "We combine the vectors for each phage's RBP(s), also a multi-instance setting"
   ]
  },
  {
   "cell_type": "code",
   "execution_count": 11,
   "id": "0b646f90",
   "metadata": {},
   "outputs": [],
   "source": [
    "# load data\n",
    "RBPbase = DataFrame(CSV.File(general_dir*\"/RBPbase\"*data_suffix*\".csv\"));"
   ]
  },
  {
   "cell_type": "code",
   "execution_count": 12,
   "id": "982319c8",
   "metadata": {},
   "outputs": [],
   "source": [
    "# compute rbp embeddings\n",
    "rbp_embeddings = Array{BipolarHDV}(undef, length(unique(RBPbase.phage_ID)))\n",
    "for (i, phageid) in enumerate(unique(RBPbase.phage_ID))\n",
    "    subset = filter(row -> row.phage_ID == phageid, RBPbase)\n",
    "    protein_hdvs = [sequence_embedding(string(sequence), basis, 6) for sequence in subset.protein_sequence]\n",
    "    multirbp_hdv = HyperdimensionalComputing.aggregate(protein_hdvs)\n",
    "    rbp_embeddings[i] = multirbp_hdv\n",
    "end"
   ]
  },
  {
   "cell_type": "markdown",
   "id": "3e46957e",
   "metadata": {},
   "source": [
    "## 4 - Compute joint feature representations and make dataframe for training<a name=\"joint\"></a>"
   ]
  },
  {
   "cell_type": "code",
   "execution_count": 13,
   "id": "f71dbd10",
   "metadata": {},
   "outputs": [],
   "source": [
    "IM = DataFrame(CSV.File(general_dir*\"/phage_host_interactions\"*data_suffix*\".csv\"))\n",
    "rename!(IM,:Column1 => :Host)\n",
    "interaction_matrix = Matrix(IM[1:end, 2:end])\n",
    "#loci_names = IM.accession\n",
    "#serotypes = DataFrame(CSV.File(general_dir*\"/serotypes\"*data_suffix*\".csv\"))\n",
    "#rbp_names = names(IM)[2:end];"
   ]
  },
  {
   "cell_type": "markdown",
   "id": "58156925",
   "metadata": {},
   "source": [
    "##### Binding"
   ]
  },
  {
   "cell_type": "code",
   "execution_count": 14,
   "id": "4cb21946",
   "metadata": {},
   "outputs": [],
   "source": [
    "# compute sigatures for loci x RBP embeddings\n",
    "features_bind = []\n",
    "labels = []\n",
    "groups = []\n",
    "for (i, accession) in enumerate(collect(keys(LociBase)))\n",
    "    for (j, phage_id) in enumerate(unique(RBPbase.phage_ID))\n",
    "        subset = filter(row -> row.Host == accession, IM)\n",
    "        interaction = subset[!, phage_id][1]\n",
    "        if isequal(interaction, 1) || isequal(interaction, 0)\n",
    "            signature = HyperdimensionalComputing.bind([loci_embeddings[i], rbp_embeddings[j]])\n",
    "            push!(features_bind, signature)\n",
    "            push!(labels, trunc(Int, interaction))\n",
    "            push!(groups, i)\n",
    "        end\n",
    "    end\n",
    "end"
   ]
  },
  {
   "cell_type": "code",
   "execution_count": 15,
   "id": "01c70737",
   "metadata": {},
   "outputs": [],
   "source": [
    "# put the signatures in a matrix for sklearn\n",
    "features_b = zeros(Int64, length(features_bind), 10000)\n",
    "for i in range(1, length=length(features_bind))\n",
    "    features_b[i,:] = features_bind[i]\n",
    "end"
   ]
  },
  {
   "cell_type": "markdown",
   "id": "a7377488",
   "metadata": {},
   "source": [
    "#### Concatenation"
   ]
  },
  {
   "cell_type": "code",
   "execution_count": 16,
   "id": "c25d9706",
   "metadata": {},
   "outputs": [],
   "source": [
    "# compute [loci] + [RBP] embeddings\n",
    "features_concat = []\n",
    "labels = []\n",
    "groups = []\n",
    "for (i, accession) in enumerate(collect(keys(LociBase)))\n",
    "    for (j, phage_id) in enumerate(unique(RBPbase.phage_ID))\n",
    "        subset = filter(row -> row.Host == accession, IM)\n",
    "        interaction = subset[!, phage_id][1]\n",
    "        if isequal(interaction, 1) || isequal(interaction, 0)\n",
    "            concatenation = vcat(loci_embeddings[i], rbp_embeddings[j])\n",
    "            push!(features_concat, concatenation)\n",
    "            push!(labels, trunc(Int, interaction))\n",
    "            push!(groups, i)\n",
    "        end\n",
    "    end\n",
    "end"
   ]
  },
  {
   "cell_type": "code",
   "execution_count": 17,
   "id": "633832b3",
   "metadata": {},
   "outputs": [],
   "source": [
    "# put the signatures in a matrix for sklearn\n",
    "features_c = zeros(Int64, length(features_concat), 20000)\n",
    "for i in range(1, length=length(features_concat))\n",
    "    features_c[i,:] = features_concat[i]\n",
    "end"
   ]
  },
  {
   "cell_type": "markdown",
   "id": "14d4aa51",
   "metadata": {},
   "source": [
    "## 5 - Do PCA and build RF model<a name=\"machinelearning\"></a>"
   ]
  },
  {
   "cell_type": "markdown",
   "id": "2abe932b",
   "metadata": {},
   "source": [
    "##### Binding features"
   ]
  },
  {
   "cell_type": "code",
   "execution_count": 40,
   "id": "bb2e38b1",
   "metadata": {},
   "outputs": [],
   "source": [
    "# shuffle and set test set aside\n",
    "X_train, X_test, y_train, y_test = train_test_split(features_b, labels, test_size=0.2, stratify=labels);"
   ]
  },
  {
   "cell_type": "code",
   "execution_count": 41,
   "id": "d44377ee",
   "metadata": {},
   "outputs": [],
   "source": [
    "# define model and CV\n",
    "rf = RandomForestClassifier(class_weight=\"balanced\")\n",
    "pca = PCA()\n",
    "pipe = Pipeline([(\"pca\", pca), (\"rf\", rf)])\n",
    "params_pipe = Dict(\"pca__n_components\"=>[50, 100, 200, 300], \"rf__n_estimators\"=>[100, 250, 500, 750])\n",
    "cv = CrossValidation.StratifiedKFold(y_train, n_folds=5, shuffle=true, random_state=42);"
   ]
  },
  {
   "cell_type": "code",
   "execution_count": null,
   "id": "ee6e4c03",
   "metadata": {},
   "outputs": [],
   "source": [
    "# do hyperparameter tuning\n",
    "rocauc = make_scorer(roc_auc_score)\n",
    "xgb_tuned = GridSearchCV(pipe, params_pipe, cv=cv, scoring=rocauc, verbose=3)\n",
    "ScikitLearn.fit!(xgb_tuned, X_train, y_train)\n",
    "println(xgb_tuned.best_params_)"
   ]
  },
  {
   "cell_type": "code",
   "execution_count": 42,
   "id": "3a683ed7",
   "metadata": {},
   "outputs": [
    {
     "data": {
      "text/plain": [
       "0.8482508205335837"
      ]
     },
     "execution_count": 42,
     "metadata": {},
     "output_type": "execute_result"
    }
   ],
   "source": [
    "# test set evaluation\n",
    "rf = RandomForestClassifier(n_estimators=100, class_weight=\"balanced\")\n",
    "pca = PCA(n_components=200)\n",
    "pipe = Pipeline([(\"pca\", pca), (\"rf\", rf)])\n",
    "model = ScikitLearn.fit!(pipe, X_train, y_train)\n",
    "scores_pos = ScikitLearn.predict_proba(model, X_test)[:,2]\n",
    "roc_auc_score(y_test, scores_pos)"
   ]
  },
  {
   "cell_type": "code",
   "execution_count": 44,
   "id": "41f62a35",
   "metadata": {},
   "outputs": [
    {
     "data": {
      "text/plain": [
       "\"/Users/dimi/GoogleDrive/PhD/4_PHAGEHOST_LEARNING/43_RESULTS/models/v2.2/hdc_bind_rf_scores.csv\""
      ]
     },
     "execution_count": 44,
     "metadata": {},
     "output_type": "execute_result"
    }
   ],
   "source": [
    "# save scores for plotting\n",
    "results = DataFrame(labels=y_test, scores=scores_pos)\n",
    "CSV.write(results_dir*\"/v2.2/hdc_bind_rf_scores.csv\", results)"
   ]
  },
  {
   "cell_type": "markdown",
   "id": "740bd8d1",
   "metadata": {},
   "source": [
    "##### Concatenating features"
   ]
  },
  {
   "cell_type": "code",
   "execution_count": 48,
   "id": "6fd6e682",
   "metadata": {},
   "outputs": [],
   "source": [
    "# shuffle and set test set aside\n",
    "X_train, X_test, y_train, y_test = train_test_split(features_b, labels, test_size=0.2, stratify=labels);"
   ]
  },
  {
   "cell_type": "code",
   "execution_count": 49,
   "id": "ed3e5aed",
   "metadata": {},
   "outputs": [],
   "source": [
    "# define model and CV\n",
    "rf = RandomForestClassifier(class_weight=\"balanced\")\n",
    "pca = PCA()\n",
    "pipe = Pipeline([(\"pca\", pca), (\"rf\", rf)])\n",
    "params_pipe = Dict(\"pca__n_components\"=>[50, 100, 200, 300], \"rf__n_estimators\"=>[100, 250, 500, 750])\n",
    "cv = CrossValidation.StratifiedKFold(y_train, n_folds=5, shuffle=true, random_state=42);"
   ]
  },
  {
   "cell_type": "code",
   "execution_count": 123,
   "id": "8cf26717",
   "metadata": {},
   "outputs": [
    {
     "name": "stdout",
     "output_type": "stream",
     "text": [
      "Fitting 5 folds for each of 16 candidates, totalling 80 fits\n",
      "[CV] rf__n_estimators=100, pca__n_components=50\n",
      "[CV] rf__n_estimators=100, pca__n_components=50, score=0.63925  -  5.0s\n",
      "[CV] rf__n_estimators=100, pca__n_components=50\n",
      "[CV] rf__n_estimators=100, pca__n_components=50, score=0.59941  -  4.9s\n",
      "[CV] rf__n_estimators=100, pca__n_components=50\n",
      "[CV] rf__n_estimators=100, pca__n_components=50, score=0.61982  -  4.8s\n",
      "[CV] rf__n_estimators=100, pca__n_components=50\n",
      "[CV] rf__n_estimators=100, pca__n_components=50, score=0.61163  -  4.7s\n",
      "[CV] rf__n_estimators=100, pca__n_components=50\n",
      "[CV] rf__n_estimators=100, pca__n_components=50, score=0.68454  -  4.9s\n",
      "[CV] rf__n_estimators=250, pca__n_components=50\n",
      "[CV] rf__n_estimators=250, pca__n_components=50, score=0.63925  -  7.5s\n",
      "[CV] rf__n_estimators=250, pca__n_components=50\n",
      "[CV] rf__n_estimators=250, pca__n_components=50, score=0.59941  -  7.3s\n",
      "[CV] rf__n_estimators=250, pca__n_components=50\n",
      "[CV] rf__n_estimators=250, pca__n_components=50, score=0.63068  -  7.5s\n",
      "[CV] rf__n_estimators=250, pca__n_components=50\n",
      "[CV] rf__n_estimators=250, pca__n_components=50, score=0.61163  -  7.3s\n",
      "[CV] rf__n_estimators=250, pca__n_components=50\n",
      "[CV] rf__n_estimators=250, pca__n_components=50, score=0.69496  -  7.5s\n",
      "[CV] rf__n_estimators=500, pca__n_components=50\n",
      "[CV] rf__n_estimators=500, pca__n_components=50, score=0.63925  -  11.7s\n",
      "[CV] rf__n_estimators=500, pca__n_components=50\n",
      "[CV] rf__n_estimators=500, pca__n_components=50, score=0.58921  -  11.8s\n",
      "[CV] rf__n_estimators=500, pca__n_components=50\n",
      "[CV] rf__n_estimators=500, pca__n_components=50, score=0.63101  -  11.7s\n",
      "[CV] rf__n_estimators=500, pca__n_components=50\n",
      "[CV] rf__n_estimators=500, pca__n_components=50, score=0.62204  -  11.9s\n",
      "[CV] rf__n_estimators=500, pca__n_components=50\n",
      "[CV] rf__n_estimators=500, pca__n_components=50, score=0.67413  -  11.8s\n",
      "[CV] rf__n_estimators=750, pca__n_components=50\n",
      "[CV] rf__n_estimators=750, pca__n_components=50, score=0.63925  -  16.1s\n",
      "[CV] rf__n_estimators=750, pca__n_components=50\n",
      "[CV] rf__n_estimators=750, pca__n_components=50, score=0.58888  -  15.9s\n",
      "[CV] rf__n_estimators=750, pca__n_components=50\n",
      "[CV] rf__n_estimators=750, pca__n_components=50, score=0.63068  -  16.2s\n",
      "[CV] rf__n_estimators=750, pca__n_components=50\n",
      "[CV] rf__n_estimators=750, pca__n_components=50, score=0.61163  -  15.8s\n",
      "[CV] rf__n_estimators=750, pca__n_components=50\n",
      "[CV] rf__n_estimators=750, pca__n_components=50, score=0.68454  -  16.4s\n",
      "[CV] rf__n_estimators=100, pca__n_components=100\n",
      "[CV] rf__n_estimators=100, pca__n_components=100, score=0.63925  -  7.3s\n",
      "[CV] rf__n_estimators=100, pca__n_components=100\n",
      "[CV] rf__n_estimators=100, pca__n_components=100, score=0.63003  -  7.5s\n",
      "[CV] rf__n_estimators=100, pca__n_components=100\n",
      "[CV] rf__n_estimators=100, pca__n_components=100, score=0.65142  -  7.3s\n",
      "[CV] rf__n_estimators=100, pca__n_components=100\n",
      "[CV] rf__n_estimators=100, pca__n_components=100, score=0.61163  -  7.6s\n",
      "[CV] rf__n_estimators=100, pca__n_components=100\n",
      "[CV] rf__n_estimators=100, pca__n_components=100, score=0.68454  -  7.6s\n",
      "[CV] rf__n_estimators=250, pca__n_components=100\n",
      "[CV] rf__n_estimators=250, pca__n_components=100, score=0.63925  -  11.4s\n",
      "[CV] rf__n_estimators=250, pca__n_components=100\n",
      "[CV] rf__n_estimators=250, pca__n_components=100, score=0.63003  -  11.2s\n",
      "[CV] rf__n_estimators=250, pca__n_components=100\n",
      "[CV] rf__n_estimators=250, pca__n_components=100, score=0.66162  -  11.2s\n",
      "[CV] rf__n_estimators=250, pca__n_components=100\n",
      "[CV] rf__n_estimators=250, pca__n_components=100, score=0.61163  -  11.9s\n",
      "[CV] rf__n_estimators=250, pca__n_components=100\n",
      "[CV] rf__n_estimators=250, pca__n_components=100, score=0.68454  -  12.4s\n",
      "[CV] rf__n_estimators=500, pca__n_components=100\n",
      "[CV] rf__n_estimators=500, pca__n_components=100, score=0.63925  -  17.5s\n",
      "[CV] rf__n_estimators=500, pca__n_components=100\n",
      "[CV] rf__n_estimators=500, pca__n_components=100, score=0.63003  -  19.4s\n",
      "[CV] rf__n_estimators=500, pca__n_components=100\n",
      "[CV] rf__n_estimators=500, pca__n_components=100, score=0.65142  -  17.6s\n",
      "[CV] rf__n_estimators=500, pca__n_components=100\n",
      "[CV] rf__n_estimators=500, pca__n_components=100, score=0.61163  -  17.8s\n",
      "[CV] rf__n_estimators=500, pca__n_components=100\n",
      "[CV] rf__n_estimators=500, pca__n_components=100, score=0.68454  -  17.8s\n",
      "[CV] rf__n_estimators=750, pca__n_components=100\n",
      "[CV] rf__n_estimators=750, pca__n_components=100, score=0.63925  -  24.5s\n",
      "[CV] rf__n_estimators=750, pca__n_components=100\n",
      "[CV] rf__n_estimators=750, pca__n_components=100, score=0.63003  -  24.0s\n",
      "[CV] rf__n_estimators=750, pca__n_components=100\n",
      "[CV] rf__n_estimators=750, pca__n_components=100, score=0.66162  -  23.2s\n",
      "[CV] rf__n_estimators=750, pca__n_components=100\n",
      "[CV] rf__n_estimators=750, pca__n_components=100, score=0.61163  -  23.7s\n",
      "[CV] rf__n_estimators=750, pca__n_components=100\n",
      "[CV] rf__n_estimators=750, pca__n_components=100, score=0.68454  -  25.1s\n",
      "[CV] rf__n_estimators=100, pca__n_components=200\n",
      "[CV] rf__n_estimators=100, pca__n_components=200, score=0.63925  -  12.3s\n",
      "[CV] rf__n_estimators=100, pca__n_components=200\n",
      "[CV] rf__n_estimators=100, pca__n_components=200, score=0.65011  -  12.2s\n",
      "[CV] rf__n_estimators=100, pca__n_components=200\n",
      "[CV] rf__n_estimators=100, pca__n_components=200, score=0.65142  -  12.6s\n",
      "[CV] rf__n_estimators=100, pca__n_components=200\n",
      "[CV] rf__n_estimators=100, pca__n_components=200, score=0.61163  -  12.5s\n",
      "[CV] rf__n_estimators=100, pca__n_components=200\n",
      "[CV] rf__n_estimators=100, pca__n_components=200, score=0.68454  -  12.6s\n",
      "[CV] rf__n_estimators=250, pca__n_components=200\n",
      "[CV] rf__n_estimators=250, pca__n_components=200, score=0.63925  -  18.2s\n",
      "[CV] rf__n_estimators=250, pca__n_components=200\n",
      "[CV] rf__n_estimators=250, pca__n_components=200, score=0.61982  -  17.6s\n",
      "[CV] rf__n_estimators=250, pca__n_components=200\n",
      "[CV] rf__n_estimators=250, pca__n_components=200, score=0.65142  -  17.4s\n",
      "[CV] rf__n_estimators=250, pca__n_components=200\n",
      "[CV] rf__n_estimators=250, pca__n_components=200, score=0.61163  -  17.7s\n",
      "[CV] rf__n_estimators=250, pca__n_components=200\n",
      "[CV] rf__n_estimators=250, pca__n_components=200, score=0.67413  -  17.9s\n",
      "[CV] rf__n_estimators=500, pca__n_components=200\n",
      "[CV] rf__n_estimators=500, pca__n_components=200, score=0.63925  -  25.9s\n",
      "[CV] rf__n_estimators=500, pca__n_components=200\n",
      "[CV] rf__n_estimators=500, pca__n_components=200, score=0.64023  -  25.7s\n",
      "[CV] rf__n_estimators=500, pca__n_components=200\n",
      "[CV] rf__n_estimators=500, pca__n_components=200, score=0.65142  -  25.5s\n",
      "[CV] rf__n_estimators=500, pca__n_components=200\n",
      "[CV] rf__n_estimators=500, pca__n_components=200, score=0.61163  -  25.7s\n",
      "[CV] rf__n_estimators=500, pca__n_components=200\n",
      "[CV] rf__n_estimators=500, pca__n_components=200, score=0.67413  -  26.0s\n",
      "[CV] rf__n_estimators=750, pca__n_components=200\n",
      "[CV] rf__n_estimators=750, pca__n_components=200, score=0.63925  -  34.6s\n",
      "[CV] rf__n_estimators=750, pca__n_components=200\n",
      "[CV] rf__n_estimators=750, pca__n_components=200, score=0.64023  -  34.7s\n",
      "[CV] rf__n_estimators=750, pca__n_components=200\n",
      "[CV] rf__n_estimators=750, pca__n_components=200, score=0.65142  -  34.0s\n",
      "[CV] rf__n_estimators=750, pca__n_components=200\n",
      "[CV] rf__n_estimators=750, pca__n_components=200, score=0.61163  -  33.6s\n",
      "[CV] rf__n_estimators=750, pca__n_components=200\n",
      "[CV] rf__n_estimators=750, pca__n_components=200, score=0.68454  -  34.3s\n",
      "[CV] rf__n_estimators=100, pca__n_components=300\n",
      "[CV] rf__n_estimators=100, pca__n_components=300, score=0.63925  -  16.2s\n",
      "[CV] rf__n_estimators=100, pca__n_components=300\n",
      "[CV] rf__n_estimators=100, pca__n_components=300, score=0.63003  -  16.4s\n",
      "[CV] rf__n_estimators=100, pca__n_components=300\n",
      "[CV] rf__n_estimators=100, pca__n_components=300, score=0.64122  -  16.9s\n",
      "[CV] rf__n_estimators=100, pca__n_components=300\n",
      "[CV] rf__n_estimators=100, pca__n_components=300, score=0.61196  -  17.2s\n",
      "[CV] rf__n_estimators=100, pca__n_components=300\n",
      "[CV] rf__n_estimators=100, pca__n_components=300, score=0.68454  -  17.3s\n",
      "[CV] rf__n_estimators=250, pca__n_components=300\n",
      "[CV] rf__n_estimators=250, pca__n_components=300, score=0.63925  -  24.3s\n",
      "[CV] rf__n_estimators=250, pca__n_components=300\n",
      "[CV] rf__n_estimators=250, pca__n_components=300, score=0.63003  -  23.5s\n",
      "[CV] rf__n_estimators=250, pca__n_components=300\n"
     ]
    },
    {
     "name": "stdout",
     "output_type": "stream",
     "text": [
      "[CV] rf__n_estimators=250, pca__n_components=300, score=0.65142  -  22.6s\n",
      "[CV] rf__n_estimators=250, pca__n_components=300\n",
      "[CV] rf__n_estimators=250, pca__n_components=300, score=0.61163  -  24.2s\n",
      "[CV] rf__n_estimators=250, pca__n_components=300\n",
      "[CV] rf__n_estimators=250, pca__n_components=300, score=0.68454  -  23.5s\n",
      "[CV] rf__n_estimators=500, pca__n_components=300\n",
      "[CV] rf__n_estimators=500, pca__n_components=300, score=0.63925  -  33.8s\n",
      "[CV] rf__n_estimators=500, pca__n_components=300\n",
      "[CV] rf__n_estimators=500, pca__n_components=300, score=0.61982  -  34.5s\n",
      "[CV] rf__n_estimators=500, pca__n_components=300\n",
      "[CV] rf__n_estimators=500, pca__n_components=300, score=0.65142  -  32.7s\n",
      "[CV] rf__n_estimators=500, pca__n_components=300\n",
      "[CV] rf__n_estimators=500, pca__n_components=300, score=0.61163  -  33.1s\n",
      "[CV] rf__n_estimators=500, pca__n_components=300\n",
      "[CV] rf__n_estimators=500, pca__n_components=300, score=0.68454  -  34.2s\n",
      "[CV] rf__n_estimators=750, pca__n_components=300\n",
      "[CV] rf__n_estimators=750, pca__n_components=300, score=0.63925  -  48.5s\n",
      "[CV] rf__n_estimators=750, pca__n_components=300\n",
      "[CV] rf__n_estimators=750, pca__n_components=300, score=0.63003  -  45.7s\n",
      "[CV] rf__n_estimators=750, pca__n_components=300\n",
      "[CV] rf__n_estimators=750, pca__n_components=300, score=0.65142  -  44.0s\n",
      "[CV] rf__n_estimators=750, pca__n_components=300\n",
      "[CV] rf__n_estimators=750, pca__n_components=300, score=0.61163  -  43.0s\n",
      "[CV] rf__n_estimators=750, pca__n_components=300\n",
      "[CV] rf__n_estimators=750, pca__n_components=300, score=0.68454  -  43.4s\n",
      "Dict{Symbol, Any}(:rf__n_estimators => 100, :pca__n_components => 200)\n"
     ]
    }
   ],
   "source": [
    "# do hyperparameter tuning\n",
    "rocauc = make_scorer(roc_auc_score)\n",
    "rf_tuned = GridSearchCV(pipe, params_pipe, cv=cv, scoring=rocauc, verbose=3)\n",
    "ScikitLearn.fit!(rf_tuned, X_train, y_train)\n",
    "println(rf_tuned.best_params_)"
   ]
  },
  {
   "cell_type": "code",
   "execution_count": 50,
   "id": "4ff156cc",
   "metadata": {},
   "outputs": [
    {
     "data": {
      "text/plain": [
       "0.808434482223926"
      ]
     },
     "execution_count": 50,
     "metadata": {},
     "output_type": "execute_result"
    }
   ],
   "source": [
    "# test set evaluation\n",
    "rf = RandomForestClassifier(n_estimators=100, class_weight=\"balanced\")\n",
    "pca = PCA(n_components=200)\n",
    "pipe = Pipeline([(\"pca\", pca), (\"rf\", rf)])\n",
    "model = ScikitLearn.fit!(pipe, X_train, y_train)\n",
    "scores_pos = ScikitLearn.predict_proba(model, X_test)[:,2]\n",
    "roc_auc_score(y_test, scores_pos)"
   ]
  },
  {
   "cell_type": "code",
   "execution_count": 51,
   "id": "ba3787fd",
   "metadata": {},
   "outputs": [
    {
     "data": {
      "text/plain": [
       "\"/Users/dimi/GoogleDrive/PhD/4_PHAGEHOST_LEARNING/43_RESULTS/models/v2.2/hdc_concat_rf_scores.csv\""
      ]
     },
     "execution_count": 51,
     "metadata": {},
     "output_type": "execute_result"
    }
   ],
   "source": [
    "# save scores for plotting\n",
    "results = DataFrame(labels=y_test, scores=scores_pos)\n",
    "CSV.write(results_dir*\"/v2.2/hdc_concat_rf_scores.csv\", results)"
   ]
  },
  {
   "cell_type": "code",
   "execution_count": 140,
   "id": "72e647af",
   "metadata": {},
   "outputs": [
    {
     "name": "stdout",
     "output_type": "stream",
     "text": [
      "0.8851564585500992\n"
     ]
    }
   ],
   "source": [
    "# doublecheck the other way around!\n",
    "rf = RandomForestClassifier(n_estimators=500, class_weight=\"balanced\")\n",
    "pca = PCA(n_components=300)\n",
    "pipe = Pipeline([(\"pca\", pca), (\"rf\", rf)])\n",
    "auc_scores = []\n",
    "\n",
    "for (train_indices, test_indices) in CrossValidation.StratifiedKFold(labels, n_folds=5, shuffle=true, random_state=42)\n",
    "    # define training and test data\n",
    "    x_train = features_c[train_indices, :]\n",
    "    y_train = labels[train_indices]\n",
    "    x_test = features_c[test_indices, :]\n",
    "    y_test = labels[test_indices]\n",
    "    \n",
    "    # train the model\n",
    "    model = ScikitLearn.fit!(pipe, x_train, y_train)\n",
    "    \n",
    "    # make predictions and keep the scores\n",
    "    scores_pos = ScikitLearn.predict_proba(model, x_test)[:,2]\n",
    "    push!(auc_scores, roc_auc_score(y_test, scores_pos))\n",
    "end\n",
    "println(mean(auc_scores))"
   ]
  },
  {
   "cell_type": "markdown",
   "id": "d3d6c75e",
   "metadata": {},
   "source": [
    "## 6 - PCA+RF in LOGOCV setting"
   ]
  },
  {
   "cell_type": "markdown",
   "id": "2a3fd4e9",
   "metadata": {},
   "source": [
    "##### Binding"
   ]
  },
  {
   "cell_type": "code",
   "execution_count": 21,
   "id": "7a8803b7",
   "metadata": {},
   "outputs": [
    {
     "name": "stderr",
     "output_type": "stream",
     "text": [
      "\u001b[32mProgress:   2%|▋                                        |  ETA: 2:12:39\u001b[39m"
     ]
    },
    {
     "name": "stdout",
     "output_type": "stream",
     "text": [
      "No AUC/MRR computable for this sero: K143\n"
     ]
    },
    {
     "name": "stderr",
     "output_type": "stream",
     "text": [
      "\u001b[32mProgress:   4%|█▍                                       |  ETA: 2:11:32\u001b[39m"
     ]
    },
    {
     "name": "stdout",
     "output_type": "stream",
     "text": [
      "No AUC/MRR computable for this sero: K627\n"
     ]
    },
    {
     "name": "stderr",
     "output_type": "stream",
     "text": [
      "\u001b[32mProgress:   8%|███▎                                     |  ETA: 2:06:58\u001b[39m"
     ]
    },
    {
     "name": "stdout",
     "output_type": "stream",
     "text": [
      "No AUC/MRR computable for this sero: K1116\n"
     ]
    },
    {
     "name": "stderr",
     "output_type": "stream",
     "text": [
      "\u001b[32mProgress:  10%|████▎                                    |  ETA: 2:03:47\u001b[39m"
     ]
    },
    {
     "name": "stdout",
     "output_type": "stream",
     "text": [
      "No AUC/MRR computable for this sero: K2921\n"
     ]
    },
    {
     "name": "stderr",
     "output_type": "stream",
     "text": [
      "\u001b[32mProgress:  12%|████▉                                    |  ETA: 2:01:41\u001b[39m"
     ]
    },
    {
     "name": "stdout",
     "output_type": "stream",
     "text": [
      "No AUC/MRR computable for this sero: K6124\n"
     ]
    },
    {
     "name": "stderr",
     "output_type": "stream",
     "text": [
      "\u001b[32mProgress:  14%|██████                                   |  ETA: 1:58:20\u001b[39m"
     ]
    },
    {
     "name": "stdout",
     "output_type": "stream",
     "text": [
      "No AUC/MRR computable for this sero: K5829\n"
     ]
    },
    {
     "name": "stderr",
     "output_type": "stream",
     "text": [
      "\u001b[32mProgress:  16%|██████▌                                  |  ETA: 1:56:13\u001b[39m"
     ]
    },
    {
     "name": "stdout",
     "output_type": "stream",
     "text": [
      "No AUC/MRR computable for this sero: K6032\n"
     ]
    },
    {
     "name": "stderr",
     "output_type": "stream",
     "text": [
      "\r",
      "\u001b[32mProgress:  16%|██████▊                                  |  ETA: 1:55:33\u001b[39m"
     ]
    },
    {
     "name": "stdout",
     "output_type": "stream",
     "text": [
      "No AUC/MRR computable for this sero: K4233\n"
     ]
    },
    {
     "name": "stderr",
     "output_type": "stream",
     "text": [
      "\r",
      "\u001b[32mProgress:  17%|███████                                  |  ETA: 1:54:52\u001b[39m"
     ]
    },
    {
     "name": "stdout",
     "output_type": "stream",
     "text": [
      "No AUC/MRR computable for this sero: K6334\n"
     ]
    },
    {
     "name": "stderr",
     "output_type": "stream",
     "text": [
      "\r",
      "\u001b[32mProgress:  18%|███████▏                                 |  ETA: 1:54:12\u001b[39m"
     ]
    },
    {
     "name": "stdout",
     "output_type": "stream",
     "text": [
      "No AUC/MRR computable for this sero: K5535\n"
     ]
    },
    {
     "name": "stderr",
     "output_type": "stream",
     "text": [
      "\r",
      "\u001b[32mProgress:  18%|███████▍                                 |  ETA: 1:53:30\u001b[39m"
     ]
    },
    {
     "name": "stdout",
     "output_type": "stream",
     "text": [
      "No AUC/MRR computable for this sero: K1336\n"
     ]
    },
    {
     "name": "stderr",
     "output_type": "stream",
     "text": [
      "\u001b[32mProgress:  19%|███████▊                                 |  ETA: 1:52:09\u001b[39m"
     ]
    },
    {
     "name": "stdout",
     "output_type": "stream",
     "text": [
      "No AUC/MRR computable for this sero: K5938\n"
     ]
    },
    {
     "name": "stderr",
     "output_type": "stream",
     "text": [
      "\r",
      "\u001b[32mProgress:  20%|████████                                 |  ETA: 1:51:27\u001b[39m"
     ]
    },
    {
     "name": "stdout",
     "output_type": "stream",
     "text": [
      "No AUC/MRR computable for this sero: K639\n"
     ]
    },
    {
     "name": "stderr",
     "output_type": "stream",
     "text": [
      "\r",
      "\u001b[32mProgress:  20%|████████▎                                |  ETA: 1:50:49\u001b[39m"
     ]
    },
    {
     "name": "stdout",
     "output_type": "stream",
     "text": [
      "No AUC/MRR computable for this sero: K6440\n"
     ]
    },
    {
     "name": "stderr",
     "output_type": "stream",
     "text": [
      "\u001b[32mProgress:  22%|█████████▎                               |  ETA: 1:47:27\u001b[39m"
     ]
    },
    {
     "name": "stdout",
     "output_type": "stream",
     "text": [
      "No AUC/MRR computable for this sero: K3545\n"
     ]
    },
    {
     "name": "stderr",
     "output_type": "stream",
     "text": [
      "\u001b[32mProgress:  24%|█████████▉                               |  ETA: 1:45:23\u001b[39m"
     ]
    },
    {
     "name": "stdout",
     "output_type": "stream",
     "text": [
      "No AUC/MRR computable for this sero: K448\n"
     ]
    },
    {
     "name": "stderr",
     "output_type": "stream",
     "text": [
      "\r",
      "\u001b[32mProgress:  24%|██████████                               |  ETA: 1:44:42\u001b[39m"
     ]
    },
    {
     "name": "stdout",
     "output_type": "stream",
     "text": [
      "No AUC/MRR computable for this sero: K3349\n"
     ]
    },
    {
     "name": "stderr",
     "output_type": "stream",
     "text": [
      "\r",
      "\u001b[32mProgress:  25%|██████████▎                              |  ETA: 1:44:01\u001b[39m"
     ]
    },
    {
     "name": "stdout",
     "output_type": "stream",
     "text": [
      "No AUC/MRR computable for this sero: K950\n"
     ]
    },
    {
     "name": "stderr",
     "output_type": "stream",
     "text": [
      "\r",
      "\u001b[32mProgress:  26%|██████████▌                              |  ETA: 1:43:21\u001b[39m"
     ]
    },
    {
     "name": "stdout",
     "output_type": "stream",
     "text": [
      "No AUC/MRR computable for this sero: K8251\n"
     ]
    },
    {
     "name": "stderr",
     "output_type": "stream",
     "text": [
      "\u001b[32mProgress:  27%|███████████▏                             |  ETA: 1:41:22\u001b[39m"
     ]
    },
    {
     "name": "stdout",
     "output_type": "stream",
     "text": [
      "No AUC/MRR computable for this sero: K354\n"
     ]
    },
    {
     "name": "stderr",
     "output_type": "stream",
     "text": [
      "\u001b[32mProgress:  30%|████████████▏                            |  ETA: 1:37:56\u001b[39m"
     ]
    },
    {
     "name": "stdout",
     "output_type": "stream",
     "text": [
      "No AUC/MRR computable for this sero: K5659\n"
     ]
    },
    {
     "name": "stderr",
     "output_type": "stream",
     "text": [
      "\u001b[32mProgress:  30%|████████████▌                            |  ETA: 1:36:30\u001b[39m"
     ]
    },
    {
     "name": "stdout",
     "output_type": "stream",
     "text": [
      "No AUC/MRR computable for this sero: K2461\n"
     ]
    },
    {
     "name": "stderr",
     "output_type": "stream",
     "text": [
      "\u001b[32mProgress:  32%|█████████████▏                           |  ETA: 1:34:25\u001b[39m"
     ]
    },
    {
     "name": "stdout",
     "output_type": "stream",
     "text": [
      "No AUC/MRR computable for this sero: unknown (KL125)64\n"
     ]
    },
    {
     "name": "stderr",
     "output_type": "stream",
     "text": [
      "\u001b[32mProgress:  34%|██████████████                           |  ETA: 1:31:41\u001b[39m"
     ]
    },
    {
     "name": "stdout",
     "output_type": "stream",
     "text": [
      "No AUC/MRR computable for this sero: K3568\n"
     ]
    },
    {
     "name": "stderr",
     "output_type": "stream",
     "text": [
      "\u001b[32mProgress:  35%|██████████████▍                          |  ETA: 1:30:19\u001b[39m"
     ]
    },
    {
     "name": "stdout",
     "output_type": "stream",
     "text": [
      "No AUC/MRR computable for this sero: unknown (KL111)70\n"
     ]
    },
    {
     "name": "stderr",
     "output_type": "stream",
     "text": [
      "\u001b[32mProgress:  36%|██████████████▊                          |  ETA: 1:29:00\u001b[39m"
     ]
    },
    {
     "name": "stdout",
     "output_type": "stream",
     "text": [
      "No AUC/MRR computable for this sero: K6272\n"
     ]
    },
    {
     "name": "stderr",
     "output_type": "stream",
     "text": [
      "\u001b[32mProgress:  37%|███████████████▏                         |  ETA: 1:27:39\u001b[39m"
     ]
    },
    {
     "name": "stdout",
     "output_type": "stream",
     "text": [
      "No AUC/MRR computable for this sero: K3974\n"
     ]
    },
    {
     "name": "stderr",
     "output_type": "stream",
     "text": [
      "\u001b[32mProgress:  39%|████████████████                         |  ETA: 1:24:54\u001b[39m"
     ]
    },
    {
     "name": "stdout",
     "output_type": "stream",
     "text": [
      "No AUC/MRR computable for this sero: K1378\n"
     ]
    },
    {
     "name": "stderr",
     "output_type": "stream",
     "text": [
      "\u001b[32mProgress:  41%|████████████████▊                        |  ETA: 1:22:07\u001b[39m"
     ]
    },
    {
     "name": "stdout",
     "output_type": "stream",
     "text": [
      "No AUC/MRR computable for this sero: unknown (KL125)82\n"
     ]
    },
    {
     "name": "stderr",
     "output_type": "stream",
     "text": [
      "\r",
      "\u001b[32mProgress:  42%|█████████████████                        |  ETA: 1:21:25\u001b[39m"
     ]
    },
    {
     "name": "stdout",
     "output_type": "stream",
     "text": [
      "No AUC/MRR computable for this sero: K3683\n"
     ]
    },
    {
     "name": "stderr",
     "output_type": "stream",
     "text": [
      "\r",
      "\u001b[32mProgress:  42%|█████████████████▎                       |  ETA: 1:20:43\u001b[39m"
     ]
    },
    {
     "name": "stdout",
     "output_type": "stream",
     "text": [
      "No AUC/MRR computable for this sero: K284\n"
     ]
    },
    {
     "name": "stderr",
     "output_type": "stream",
     "text": [
      "\u001b[32mProgress:  44%|█████████████████▉                       |  ETA: 1:18:39\u001b[39m"
     ]
    },
    {
     "name": "stdout",
     "output_type": "stream",
     "text": [
      "No AUC/MRR computable for this sero: unknown (KL136)87\n"
     ]
    },
    {
     "name": "stderr",
     "output_type": "stream",
     "text": [
      "\r",
      "\u001b[32mProgress:  44%|██████████████████                       |  ETA: 1:17:58\u001b[39m"
     ]
    },
    {
     "name": "stdout",
     "output_type": "stream",
     "text": [
      "No AUC/MRR computable for this sero: K1488\n"
     ]
    },
    {
     "name": "stderr",
     "output_type": "stream",
     "text": [
      "\u001b[32mProgress:  46%|██████████████████▉                      |  ETA: 1:15:16\u001b[39m"
     ]
    },
    {
     "name": "stdout",
     "output_type": "stream",
     "text": [
      "No AUC/MRR computable for this sero: unknown (KL153)92\n"
     ]
    },
    {
     "name": "stderr",
     "output_type": "stream",
     "text": [
      "\u001b[32mProgress:  50%|████████████████████▎                    |  ETA: 1:10:27\u001b[39m"
     ]
    },
    {
     "name": "stdout",
     "output_type": "stream",
     "text": [
      "No AUC/MRR computable for this sero: K2799\n"
     ]
    },
    {
     "name": "stderr",
     "output_type": "stream",
     "text": [
      "\u001b[32mProgress:  52%|█████████████████████▏                   |  ETA: 1:07:43\u001b[39m"
     ]
    },
    {
     "name": "stdout",
     "output_type": "stream",
     "text": [
      "No AUC/MRR computable for this sero: K17103\n"
     ]
    },
    {
     "name": "stderr",
     "output_type": "stream",
     "text": [
      "\r",
      "\u001b[32mProgress:  52%|█████████████████████▍                   |  ETA: 1:07:02\u001b[39m"
     ]
    },
    {
     "name": "stdout",
     "output_type": "stream",
     "text": [
      "No AUC/MRR computable for this sero: K81104\n"
     ]
    },
    {
     "name": "stderr",
     "output_type": "stream",
     "text": [
      "\r",
      "\u001b[32mProgress:  52%|█████████████████████▌                   |  ETA: 1:06:20\u001b[39m"
     ]
    },
    {
     "name": "stdout",
     "output_type": "stream",
     "text": [
      "No AUC/MRR computable for this sero: unknown (KL105)105\n"
     ]
    },
    {
     "name": "stderr",
     "output_type": "stream",
     "text": [
      "\u001b[32mProgress:  54%|██████████████████████▏                  |  ETA: 1:04:15\u001b[39m"
     ]
    },
    {
     "name": "stdout",
     "output_type": "stream",
     "text": [
      "No AUC/MRR computable for this sero: unknown (KL158)108\n"
     ]
    },
    {
     "name": "stderr",
     "output_type": "stream",
     "text": [
      "\r",
      "\u001b[32mProgress:  54%|██████████████████████▍                  |  ETA: 1:03:33\u001b[39m"
     ]
    },
    {
     "name": "stdout",
     "output_type": "stream",
     "text": [
      "No AUC/MRR computable for this sero: K27109\n"
     ]
    },
    {
     "name": "stderr",
     "output_type": "stream",
     "text": [
      "\u001b[32mProgress:  56%|███████████████████████                  |  ETA: 1:01:29\u001b[39m"
     ]
    },
    {
     "name": "stdout",
     "output_type": "stream",
     "text": [
      "No AUC/MRR computable for this sero: K30112\n"
     ]
    },
    {
     "name": "stderr",
     "output_type": "stream",
     "text": [
      "\r",
      "\u001b[32mProgress:  56%|███████████████████████▏                 |  ETA: 1:00:47\u001b[39m"
     ]
    },
    {
     "name": "stdout",
     "output_type": "stream",
     "text": [
      "No AUC/MRR computable for this sero: K51113\n"
     ]
    },
    {
     "name": "stderr",
     "output_type": "stream",
     "text": [
      "\u001b[32mProgress:  61%|█████████████████████████                |  ETA: 0:54:30\u001b[39m"
     ]
    },
    {
     "name": "stdout",
     "output_type": "stream",
     "text": [
      "No AUC/MRR computable for this sero: unknown (KL140)122\n"
     ]
    },
    {
     "name": "stderr",
     "output_type": "stream",
     "text": [
      "\u001b[32mProgress:  62%|█████████████████████████▋               |  ETA: 0:52:24\u001b[39m"
     ]
    },
    {
     "name": "stdout",
     "output_type": "stream",
     "text": [
      "No AUC/MRR computable for this sero: K20125\n"
     ]
    },
    {
     "name": "stderr",
     "output_type": "stream",
     "text": [
      "\u001b[32mProgress:  64%|██████████████████████████               |  ETA: 0:51:01\u001b[39m"
     ]
    },
    {
     "name": "stdout",
     "output_type": "stream",
     "text": [
      "No AUC/MRR computable for this sero: unknown (KL102)127\n"
     ]
    },
    {
     "name": "stderr",
     "output_type": "stream",
     "text": [
      "\u001b[32mProgress:  65%|██████████████████████████▋              |  ETA: 0:48:56\u001b[39m"
     ]
    },
    {
     "name": "stdout",
     "output_type": "stream",
     "text": [
      "No AUC/MRR computable for this sero: K21130\n"
     ]
    },
    {
     "name": "stderr",
     "output_type": "stream",
     "text": [
      "\r",
      "\u001b[32mProgress:  66%|██████████████████████████▉              |  ETA: 0:48:14\u001b[39m"
     ]
    },
    {
     "name": "stdout",
     "output_type": "stream",
     "text": [
      "No AUC/MRR computable for this sero: K64131\n"
     ]
    },
    {
     "name": "stderr",
     "output_type": "stream",
     "text": [
      "\r",
      "\u001b[32mProgress:  66%|███████████████████████████              |  ETA: 0:47:32\u001b[39m"
     ]
    },
    {
     "name": "stdout",
     "output_type": "stream",
     "text": [
      "No AUC/MRR computable for this sero: K57132\n"
     ]
    },
    {
     "name": "stderr",
     "output_type": "stream",
     "text": [
      "\u001b[32mProgress:  68%|███████████████████████████▋             |  ETA: 0:45:27\u001b[39m"
     ]
    },
    {
     "name": "stdout",
     "output_type": "stream",
     "text": [
      "No AUC/MRR computable for this sero: K16135\n"
     ]
    },
    {
     "name": "stderr",
     "output_type": "stream",
     "text": [
      "\r",
      "\u001b[32mProgress:  68%|███████████████████████████▉             |  ETA: 0:44:45\u001b[39m"
     ]
    },
    {
     "name": "stdout",
     "output_type": "stream",
     "text": [
      "No AUC/MRR computable for this sero: K51136\n"
     ]
    },
    {
     "name": "stderr",
     "output_type": "stream",
     "text": [
      "\u001b[32mProgress:  69%|████████████████████████████▎            |  ETA: 0:43:21\u001b[39m"
     ]
    },
    {
     "name": "stdout",
     "output_type": "stream",
     "text": [
      "No AUC/MRR computable for this sero: K3138\n"
     ]
    },
    {
     "name": "stderr",
     "output_type": "stream",
     "text": [
      "\u001b[32mProgress:  70%|████████████████████████████▊            |  ETA: 0:41:57\u001b[39m"
     ]
    },
    {
     "name": "stdout",
     "output_type": "stream",
     "text": [
      "No AUC/MRR computable for this sero: K16140\n"
     ]
    },
    {
     "name": "stderr",
     "output_type": "stream",
     "text": [
      "\u001b[32mProgress:  72%|█████████████████████████████▍           |  ETA: 0:39:53\u001b[39m"
     ]
    },
    {
     "name": "stdout",
     "output_type": "stream",
     "text": [
      "No AUC/MRR computable for this sero: K25143\n"
     ]
    },
    {
     "name": "stderr",
     "output_type": "stream",
     "text": [
      "\r",
      "\u001b[32mProgress:  72%|█████████████████████████████▌           |  ETA: 0:39:11\u001b[39m"
     ]
    },
    {
     "name": "stdout",
     "output_type": "stream",
     "text": [
      "No AUC/MRR computable for this sero: unknown (KL105)144\n"
     ]
    },
    {
     "name": "stderr",
     "output_type": "stream",
     "text": [
      "\u001b[32mProgress:  74%|██████████████████████████████▍          |  ETA: 0:36:24\u001b[39m"
     ]
    },
    {
     "name": "stdout",
     "output_type": "stream",
     "text": [
      "No AUC/MRR computable for this sero: unknown (KL122)148\n"
     ]
    },
    {
     "name": "stderr",
     "output_type": "stream",
     "text": [
      "\u001b[32mProgress:  76%|███████████████████████████████▏         |  ETA: 0:33:37\u001b[39m"
     ]
    },
    {
     "name": "stdout",
     "output_type": "stream",
     "text": [
      "No AUC/MRR computable for this sero: unknown (KL151)152\n"
     ]
    },
    {
     "name": "stderr",
     "output_type": "stream",
     "text": [
      "\r",
      "\u001b[32mProgress:  76%|███████████████████████████████▍         |  ETA: 0:32:55\u001b[39m"
     ]
    },
    {
     "name": "stdout",
     "output_type": "stream",
     "text": [
      "No AUC/MRR computable for this sero: K16153\n"
     ]
    },
    {
     "name": "stderr",
     "output_type": "stream",
     "text": [
      "\r",
      "\u001b[32mProgress:  77%|███████████████████████████████▋         |  ETA: 0:32:14\u001b[39m"
     ]
    },
    {
     "name": "stdout",
     "output_type": "stream",
     "text": [
      "No AUC/MRR computable for this sero: K64154\n"
     ]
    },
    {
     "name": "stderr",
     "output_type": "stream",
     "text": [
      "\u001b[32mProgress:  78%|████████████████████████████████▏        |  ETA: 0:30:09\u001b[39m"
     ]
    },
    {
     "name": "stdout",
     "output_type": "stream",
     "text": [
      "No AUC/MRR computable for this sero: K15157\n"
     ]
    },
    {
     "name": "stderr",
     "output_type": "stream",
     "text": [
      "\u001b[32mProgress:  80%|████████████████████████████████▋        |  ETA: 0:28:45\u001b[39m"
     ]
    },
    {
     "name": "stdout",
     "output_type": "stream",
     "text": [
      "No AUC/MRR computable for this sero: unknown (KL105)159\n"
     ]
    },
    {
     "name": "stderr",
     "output_type": "stream",
     "text": [
      "\u001b[32mProgress:  80%|█████████████████████████████████        |  ETA: 0:27:22\u001b[39m"
     ]
    },
    {
     "name": "stdout",
     "output_type": "stream",
     "text": [
      "No AUC/MRR computable for this sero: K1161\n"
     ]
    },
    {
     "name": "stderr",
     "output_type": "stream",
     "text": [
      "\u001b[32mProgress:  82%|█████████████████████████████████▉       |  ETA: 0:24:35\u001b[39m"
     ]
    },
    {
     "name": "stdout",
     "output_type": "stream",
     "text": [
      "No AUC/MRR computable for this sero: K17165\n"
     ]
    },
    {
     "name": "stderr",
     "output_type": "stream",
     "text": [
      "\u001b[32mProgress:  84%|██████████████████████████████████▎      |  ETA: 0:23:11\u001b[39m"
     ]
    },
    {
     "name": "stdout",
     "output_type": "stream",
     "text": [
      "No AUC/MRR computable for this sero: unknown (KL140)167\n"
     ]
    },
    {
     "name": "stderr",
     "output_type": "stream",
     "text": [
      "\u001b[32mProgress:  88%|████████████████████████████████████▎    |  ETA: 0:16:12\u001b[39m"
     ]
    },
    {
     "name": "stdout",
     "output_type": "stream",
     "text": [
      "No AUC/MRR computable for this sero: unknown (KL112)177\n"
     ]
    },
    {
     "name": "stderr",
     "output_type": "stream",
     "text": [
      "\u001b[32mProgress:  90%|█████████████████████████████████████▏   |  ETA: 0:13:24\u001b[39m"
     ]
    },
    {
     "name": "stdout",
     "output_type": "stream",
     "text": [
      "No AUC/MRR computable for this sero: K22181\n"
     ]
    },
    {
     "name": "stderr",
     "output_type": "stream",
     "text": [
      "\u001b[32mProgress:  94%|██████████████████████████████████████▌  |  ETA: 0:08:29\u001b[39m"
     ]
    },
    {
     "name": "stdout",
     "output_type": "stream",
     "text": [
      "No AUC/MRR computable for this sero: unknown (KL107)188\n"
     ]
    },
    {
     "name": "stderr",
     "output_type": "stream",
     "text": [
      "\r",
      "\u001b[32mProgress:  94%|██████████████████████████████████████▊  |  ETA: 0:07:47\u001b[39m"
     ]
    },
    {
     "name": "stdout",
     "output_type": "stream",
     "text": [
      "No AUC/MRR computable for this sero: unknown (KL126)189\n"
     ]
    },
    {
     "name": "stderr",
     "output_type": "stream",
     "text": [
      "\u001b[32mProgress:  96%|███████████████████████████████████████▏ |  ETA: 0:06:22\u001b[39m"
     ]
    },
    {
     "name": "stdout",
     "output_type": "stream",
     "text": [
      "No AUC/MRR computable for this sero: unknown (KL140)191\n"
     ]
    },
    {
     "name": "stderr",
     "output_type": "stream",
     "text": [
      "\u001b[32mProgress:  97%|███████████████████████████████████████▊ |  ETA: 0:04:14\u001b[39m"
     ]
    },
    {
     "name": "stdout",
     "output_type": "stream",
     "text": [
      "No AUC/MRR computable for this sero: K46194\n"
     ]
    },
    {
     "name": "stderr",
     "output_type": "stream",
     "text": [
      "\r",
      "\u001b[32mProgress:  98%|████████████████████████████████████████ |  ETA: 0:03:32\u001b[39m"
     ]
    },
    {
     "name": "stdout",
     "output_type": "stream",
     "text": [
      "No AUC/MRR computable for this sero: unknown (KL103)195\n"
     ]
    },
    {
     "name": "stderr",
     "output_type": "stream",
     "text": [
      "\r",
      "\u001b[32mProgress:  98%|████████████████████████████████████████▏|  ETA: 0:02:50\u001b[39m"
     ]
    },
    {
     "name": "stdout",
     "output_type": "stream",
     "text": [
      "No AUC/MRR computable for this sero: unknown (KL139)196\n"
     ]
    },
    {
     "name": "stderr",
     "output_type": "stream",
     "text": [
      "\u001b[32mProgress:  99%|████████████████████████████████████████▋|  ETA: 0:01:25\u001b[39m"
     ]
    },
    {
     "name": "stdout",
     "output_type": "stream",
     "text": [
      "No AUC/MRR computable for this sero: K1198\n"
     ]
    },
    {
     "name": "stderr",
     "output_type": "stream",
     "text": [
      "\r",
      "\u001b[32mProgress: 100%|████████████████████████████████████████▊|  ETA: 0:00:42\u001b[39m"
     ]
    },
    {
     "name": "stdout",
     "output_type": "stream",
     "text": [
      "No AUC/MRR computable for this sero: unknown (KL102)199\n"
     ]
    },
    {
     "name": "stderr",
     "output_type": "stream",
     "text": [
      "\r",
      "\u001b[32mProgress: 100%|█████████████████████████████████████████| Time: 2:21:18\u001b[39m\n"
     ]
    }
   ],
   "source": [
    "rf = RandomForestClassifier(n_estimators=500, class_weight=\"balanced\")\n",
    "pca = PCA(n_components=200)\n",
    "pipe = Pipeline([(\"pca\", pca), (\"rf\", rf)])\n",
    "auc_scores = []\n",
    "sero_groups = []\n",
    "ranked_q = []\n",
    "p = Progress(200)\n",
    "\n",
    "for item in unique(groups)\n",
    "    # define training and test data\n",
    "    x_train = features_b[groups .!= item, :]\n",
    "    y_train = labels[groups .!= item]\n",
    "    x_test = features_b[groups .== item, :]\n",
    "    y_test = labels[groups .== item]\n",
    "    \n",
    "    # train the model\n",
    "    model = ScikitLearn.fit!(pipe, x_train, y_train)\n",
    "    \n",
    "    # make predictions and keep the scores\n",
    "    scores_pos = ScikitLearn.predict_proba(model, x_test)[:,2]\n",
    "    try\n",
    "        this_auc = roc_auc_score(y_test, scores_pos)\n",
    "        push!(auc_scores, roc_auc_score(y_test, scores_pos))\n",
    "        this_sero = seros.sero[item]\n",
    "        push!(sero_groups, this_sero)\n",
    "        #println(this_sero, roc_auc_score(y_test, scores_pos))\n",
    "        sorted_query = y_test[sortperm(scores_pos, rev=true)] # sort labels to compute MRR later\n",
    "        push!(ranked_q, sorted_query)\n",
    "    catch\n",
    "        this_sero = seros.sero[item]\n",
    "        println(\"No AUC/MRR computable for this sero: \", this_sero, item)\n",
    "    end\n",
    "    \n",
    "    # pbar update\n",
    "    next!(p)\n",
    "end"
   ]
  },
  {
   "cell_type": "code",
   "execution_count": 22,
   "id": "0cce3ddf",
   "metadata": {},
   "outputs": [
    {
     "name": "stdout",
     "output_type": "stream",
     "text": [
      "AUC: 0.7836930933075474\n",
      "MRR: 0.6800549031408542\n"
     ]
    }
   ],
   "source": [
    "# print scores\n",
    "println(\"AUC: \", mean(auc_scores))\n",
    "println(\"MRR: \", mean_reciprocal_rank(ranked_q))"
   ]
  },
  {
   "cell_type": "code",
   "execution_count": 29,
   "id": "4c06b030",
   "metadata": {},
   "outputs": [
    {
     "data": {
      "text/plain": [
       "\"/Users/dimi/GoogleDrive/PhD/4_PHAGEHOST_LEARNING/43_RESULTS/models/v2.2/hdc_bind_rf_logocv_results.csv\""
      ]
     },
     "execution_count": 29,
     "metadata": {},
     "output_type": "execute_result"
    }
   ],
   "source": [
    "# save scores for plotting\n",
    "logo_results = DataFrame(sero=sero_groups, auc_scores=auc_scores, ranked_queries=ranked_q)\n",
    "CSV.write(results_dir*\"/v2.2/hdc_bind_rf_logocv_results.csv\", logo_results)"
   ]
  },
  {
   "cell_type": "markdown",
   "id": "625ec60c",
   "metadata": {},
   "source": [
    "##### Concatenation"
   ]
  },
  {
   "cell_type": "code",
   "execution_count": 31,
   "id": "cde09ca5",
   "metadata": {},
   "outputs": [
    {
     "name": "stderr",
     "output_type": "stream",
     "text": [
      "\u001b[32mProgress: 100%|█████████████████████████████████████████| Time: 3:00:37\u001b[39m\n"
     ]
    }
   ],
   "source": [
    "rf = RandomForestClassifier(n_estimators=500, class_weight=\"balanced\")\n",
    "pca = PCA(n_components=200)\n",
    "pipe = Pipeline([(\"pca\", pca), (\"rf\", rf)])\n",
    "auc_scores = []\n",
    "sero_groups = []\n",
    "ranked_q = []\n",
    "p = Progress(200)\n",
    "\n",
    "for item in unique(groups)\n",
    "    # define training and test data\n",
    "    x_train = features_c[groups .!= item, :]\n",
    "    y_train = labels[groups .!= item]\n",
    "    x_test = features_c[groups .== item, :]\n",
    "    y_test = labels[groups .== item]\n",
    "    \n",
    "    # train the model\n",
    "    model = ScikitLearn.fit!(pipe, x_train, y_train)\n",
    "    \n",
    "    # make predictions and keep the scores\n",
    "    scores_pos = ScikitLearn.predict_proba(model, x_test)[:,2]\n",
    "    try\n",
    "        this_auc = roc_auc_score(y_test, scores_pos)\n",
    "        push!(auc_scores, roc_auc_score(y_test, scores_pos))\n",
    "        this_sero = seros.sero[item]\n",
    "        push!(sero_groups, this_sero)\n",
    "        #println(this_sero, roc_auc_score(y_test, scores_pos))\n",
    "        sorted_query = y_test[sortperm(scores_pos, rev=true)] # sort labels to compute MRR later\n",
    "        push!(ranked_q, sorted_query)\n",
    "    catch\n",
    "        this_sero = seros.sero[item]\n",
    "        #println(\"No AUC/MRR computable for this sero: \", this_sero, item)\n",
    "    end\n",
    "    \n",
    "    # pbar update\n",
    "    next!(p)\n",
    "end"
   ]
  },
  {
   "cell_type": "code",
   "execution_count": 32,
   "id": "1fb3ec2e",
   "metadata": {},
   "outputs": [
    {
     "name": "stdout",
     "output_type": "stream",
     "text": [
      "AUC: 0.7961159606194905\n",
      "MRR: 0.672293943525024\n"
     ]
    }
   ],
   "source": [
    "# print scores\n",
    "println(\"AUC: \", mean(auc_scores))\n",
    "println(\"MRR: \", mean_reciprocal_rank(ranked_q))"
   ]
  },
  {
   "cell_type": "code",
   "execution_count": 33,
   "id": "ab2d0411",
   "metadata": {},
   "outputs": [
    {
     "data": {
      "text/plain": [
       "\"/Users/dimi/GoogleDrive/PhD/4_PHAGEHOST_LEARNING/43_RESULTS/models/v2.2/hdc_concat_rf_logocv_results.csv\""
      ]
     },
     "execution_count": 33,
     "metadata": {},
     "output_type": "execute_result"
    }
   ],
   "source": [
    "# save scores for plotting\n",
    "logo_results = DataFrame(sero=sero_groups, auc_scores=auc_scores, ranked_queries=ranked_q)\n",
    "CSV.write(results_dir*\"/v2.2/hdc_concat_rf_logocv_results.csv\", logo_results)"
   ]
  },
  {
   "cell_type": "markdown",
   "id": "45824cf2",
   "metadata": {},
   "source": [
    "## 7 - PCA + XGBoost in LOGOCV setting<a name=\"xgb\"></a>\n",
    "\n",
    "in progress"
   ]
  },
  {
   "cell_type": "code",
   "execution_count": null,
   "id": "aaee0428",
   "metadata": {},
   "outputs": [],
   "source": [
    "# define model and CV\n",
    "xgb = xgboost(x_train_r, 500, label=y_train, scale_pos_weight=1/imbalance)\n",
    "pca = PCA()\n",
    "pipe = Pipeline([(\"pca\", pca), (\"xgb\", xgb)])"
   ]
  },
  {
   "cell_type": "code",
   "execution_count": null,
   "id": "31680e4a",
   "metadata": {},
   "outputs": [],
   "source": [
    "imbalance = length(signatures_pos)/length(signatures_neg);"
   ]
  },
  {
   "cell_type": "code",
   "execution_count": null,
   "id": "ee199089",
   "metadata": {},
   "outputs": [],
   "source": [
    "# perform the cross-validation and keep the scores\n",
    "similarities = zeros(Float64, length(loci_embeddings), length(rbp_embeddings))\n",
    "scores_flat = zeros(Float64, length(signatures))\n",
    "\n",
    "for (train_indices, test_indices) in CrossValidation.StratifiedKFold(labels, n_folds=10, \n",
    "        shuffle=true, random_state=42)\n",
    "    # define training and test data\n",
    "    x_train = signatures_matrix[train_indices, :]\n",
    "    y_train = labels[train_indices]\n",
    "    x_test = signatures_matrix[test_indices, :]\n",
    "    y_test = labels[test_indices]\n",
    "    \n",
    "    # train the model\n",
    "    pca = PCA(n_components=300)\n",
    "    x_train_r = pca.fit_transform(x_train)\n",
    "    model = xgboost(x_train_r, 500, label=y_train, scale_pos_weight=1/imbalance)\n",
    "    \n",
    "    # make predictions and keep the scores\n",
    "    x_test_r = pca.transform(x_test)\n",
    "    scores_pos = XGBoost.predict(model, x_test_r)\n",
    "    \n",
    "    for (i, test_i) in enumerate(test_indices)\n",
    "        pos_i, pos_j = positions[test_i][1], positions[test_i][2]\n",
    "        similarities[pos_i, pos_j] = scores_pos[i]\n",
    "        scores_flat[test_i] = scores_pos[i]\n",
    "    end\n",
    "end"
   ]
  },
  {
   "cell_type": "code",
   "execution_count": null,
   "id": "3bb0275d",
   "metadata": {},
   "outputs": [],
   "source": [
    "auc_from_scores(scores_flat, labels)"
   ]
  },
  {
   "cell_type": "markdown",
   "id": "205933e6",
   "metadata": {},
   "source": [
    "## X - Tests"
   ]
  },
  {
   "cell_type": "code",
   "execution_count": 69,
   "id": "10452d24",
   "metadata": {},
   "outputs": [
    {
     "name": "stdout",
     "output_type": "stream",
     "text": [
      "\u001b[37m\u001b[1mTest Summary: | \u001b[22m\u001b[39m\u001b[32m\u001b[1mPass  \u001b[22m\u001b[39m\u001b[36m\u001b[1mTotal\u001b[22m\u001b[39m\n",
      "tests for MRR | \u001b[32m   3  \u001b[39m\u001b[36m    3\u001b[39m\n"
     ]
    }
   ],
   "source": [
    "@testset \"tests for MRR\" begin\n",
    "    @test mean_reciprocal_rank([[0, 0, 0], [0, 1, 0], [1, 0, 0]]) == 0.5\n",
    "    @test mean_reciprocal_rank([[1, 0, 0], [1, 1, 0], [1, 0, 0]]) == 1\n",
    "    A = [0 0 0; 0 1 0; 1 0 0] # Matrix\n",
    "    @test mean_reciprocal_rank(A) == 0.5\n",
    "end;"
   ]
  },
  {
   "cell_type": "code",
   "execution_count": 51,
   "id": "77d726c1",
   "metadata": {},
   "outputs": [
    {
     "name": "stdout",
     "output_type": "stream",
     "text": [
      "\u001b[37m\u001b[1mTest Summary:                          | \u001b[22m\u001b[39m\u001b[32m\u001b[1mPass  \u001b[22m\u001b[39m\u001b[36m\u001b[1mTotal\u001b[22m\u001b[39m\n",
      "tests for constructing relevant matrix | \u001b[32m   3  \u001b[39m\u001b[36m    3\u001b[39m\n"
     ]
    }
   ],
   "source": [
    "@testset \"tests for constructing relevant matrix\" begin\n",
    "    preds = [0 0 1; 1 1 0; 0 0 0]\n",
    "    labels = [0 0 1; 1 1 0; 0 0 0]\n",
    "    @test construct_relevant_matrix(preds, labels) == labels # all TPs\n",
    "    preds = [0 0 0; 1 0 0; 0 0 0]\n",
    "    labels = [0 0 1; 1 1 0; 0 0 0]\n",
    "    @test construct_relevant_matrix(preds, labels) == [0 0 0; 1 0 0; 0 0 0] # missed TPs\n",
    "    preds = [0 1 0; 1 1 0; 1 0 0]\n",
    "    labels = [0 0 1; 1 1 0; 0 0 0]\n",
    "    @test construct_relevant_matrix(preds, labels) == [0 0 0; 1 1 0; 0 0 0] # FPs\n",
    "end;"
   ]
  },
  {
   "cell_type": "code",
   "execution_count": 122,
   "id": "ecf63855",
   "metadata": {},
   "outputs": [
    {
     "name": "stdout",
     "output_type": "stream",
     "text": [
      "\u001b[37m\u001b[1mTest Summary:                  | \u001b[22m\u001b[39m\u001b[32m\u001b[1mPass  \u001b[22m\u001b[39m\u001b[36m\u001b[1mTotal\u001b[22m\u001b[39m\n",
      "tests for sorting label matrix | \u001b[32m   2  \u001b[39m\u001b[36m    2\u001b[39m\n"
     ]
    }
   ],
   "source": [
    "@testset \"tests for sorting label matrix\" begin \n",
    "    rel = [0 0 1; 1 1 0; 0 0 0]\n",
    "    scores = [0.5 0.3 1; 1 0.3 0.7; 0.2 0.3 0.3]\n",
    "    @test sort_label_matrix(scores, rel) == [1 0 0; 1 0 1; 0 0 0]\n",
    "    \n",
    "    rel = [0 0 1; 1 1 0; 0 0 0]\n",
    "    scores = [1 0.3 1; 1 0.3 0.7; 0.2 0.3 0.3] # equal score for 0 and 1\n",
    "    @test sort_label_matrix(scores, rel) == [0 1 0; 1 0 1; 0 0 0] # equals will appear in ascending order\n",
    "end;"
   ]
  },
  {
   "cell_type": "code",
   "execution_count": 124,
   "id": "522f6870",
   "metadata": {},
   "outputs": [
    {
     "name": "stdout",
     "output_type": "stream",
     "text": [
      "\u001b[37m\u001b[1mTest Summary:  | \u001b[22m\u001b[39m\u001b[32m\u001b[1mPass  \u001b[22m\u001b[39m\u001b[36m\u001b[1mTotal\u001b[22m\u001b[39m\n",
      "tests pipeline | \u001b[32m   3  \u001b[39m\u001b[36m    3\u001b[39m\n"
     ]
    }
   ],
   "source": [
    "@testset \"tests pipeline\" begin\n",
    "    preds = [0 0 1; 0 1 0; 0 0 0]\n",
    "    labels = [0 0 1; 1 1 0; 0 0 0]\n",
    "    scores = [0 0.2 0.5; 0.3 0.2 0.1; 0.2 0.4 0.3]\n",
    "    relm = construct_relevant_matrix(preds, labels)\n",
    "    sortm = sort_label_matrix(scores, relm)\n",
    "    @test construct_relevant_matrix(preds, labels) == [0 0 1; 0 1 0; 0 0 0]\n",
    "    @test sort_relevant_matrix(relm, scores) == [1 0 0; 0 1 0; 0 0 0] \n",
    "    @test mean_reciprocal_rank(sortm) == 0.5\n",
    "end;"
   ]
  },
  {
   "cell_type": "code",
   "execution_count": 28,
   "id": "01358f70",
   "metadata": {},
   "outputs": [
    {
     "name": "stdout",
     "output_type": "stream",
     "text": [
      "\u001b[37m\u001b[1mTest Summary:         | \u001b[22m\u001b[39m\u001b[32m\u001b[1mPass  \u001b[22m\u001b[39m\u001b[36m\u001b[1mTotal\u001b[22m\u001b[39m\n",
      "tests mrr from scores | \u001b[32m   1  \u001b[39m\u001b[36m    1\u001b[39m\n"
     ]
    }
   ],
   "source": [
    "@testset \"tests mrr from scores\" begin\n",
    "    labels = [0 0 1; 1 1 0; 0 0 0]\n",
    "    scores = [0 0.2 0.5; 0.3 0.5 0.6; 0.2 0.4 0.3]\n",
    "    @test mrr_from_scores(scores, labels, 0.4) == 0.5\n",
    "end;"
   ]
  },
  {
   "cell_type": "markdown",
   "id": "143556f7",
   "metadata": {},
   "source": [
    "## X - Legacy code"
   ]
  },
  {
   "cell_type": "raw",
   "id": "cee06006",
   "metadata": {},
   "source": [
    "\"\"\"\n",
    "Here, we perform a 10-fold CV over the loci, just like we do to evaluate the\n",
    "binary classifiers in Python.\n",
    "\"\"\"\n",
    "loci_known = [x for x in range(1, length=length(LociBase)) \n",
    "                if (any(isequal.(interaction_matrix[x,:], 0))) \n",
    "                    || (any(isequal.(interaction_matrix[x,:], 1)))]\n",
    "\n",
    "# shuffle loci\n",
    "loci_shuffle = shuffle(loci_known)\n",
    "\n",
    "# divide into 10 groups\n",
    "group_size = div(length(loci_shuffle), 10) + 1\n",
    "get_groups(x, n) = [x[i:min(i+n-1,length(x))] for i in 1:n:length(x)]\n",
    "loci_groups = get_groups(loci_shuffle, group_size)\n",
    "\n",
    "# loop over groups\n",
    "loci_nr = []; rbp_nr = []; scores = []; scores_pos = []; labels = []\n",
    "for group in loci_groups\n",
    "    # compute signatures for training and testing parts (group = test)\n",
    "    signatures_train_pos = []\n",
    "    signatures_train_neg = []\n",
    "    signatures_test = []\n",
    "    for (i, loci_embedding) in enumerate(loci_embeddings)\n",
    "        for (j, rbp_embedding) in enumerate(rbp_embeddings)\n",
    "            # training pos interaction\n",
    "            if isequal(interaction_matrix[i,j], 1) && i ∉ group\n",
    "                push!(signatures_train_pos, HyperdimensionalComputing.bind([loci_embedding, rbp_embedding]))\n",
    "            # training neg interaction\n",
    "            elseif isequal(interaction_matrix[i,j], 0) && i ∉ group\n",
    "                push!(signatures_train_neg, HyperdimensionalComputing.bind([loci_embedding, rbp_embedding]))\n",
    "            # test interaction\n",
    "            elseif isequal(interaction_matrix[i,j], 1) && i in group\n",
    "                push!(signatures_test, HyperdimensionalComputing.bind([loci_embedding, rbp_embedding]))\n",
    "                push!(loci_nr, i-1) # -1 to cope with indexing python\n",
    "                push!(rbp_nr, j-1)\n",
    "                push!(labels, interaction_matrix[i,j])\n",
    "            elseif isequal(interaction_matrix[i,j], 0) && i in group\n",
    "                push!(signatures_test, HyperdimensionalComputing.bind([loci_embedding, rbp_embedding]))\n",
    "                push!(loci_nr, i-1)\n",
    "                push!(rbp_nr, j-1)\n",
    "                push!(labels, interaction_matrix[i,j])\n",
    "            end\n",
    "        end\n",
    "    end\n",
    "\n",
    "    # convert signatures\n",
    "    signatures_train_pos = convert(Array{BipolarHDV}, signatures_train_pos)\n",
    "    signatures_train_neg = convert(Array{BipolarHDV}, signatures_train_neg)\n",
    "    signatures_test = convert(Array{BipolarHDV}, signatures_test)\n",
    "    println(\"train size:\", length(signatures_train_pos)+length(signatures_train_neg))\n",
    "    println(\"test size:\", length(signatures_test))\n",
    "    \n",
    "    # aggregate training signatures\n",
    "    signatures_pos_agg = HyperdimensionalComputing.aggregate(signatures_train_pos)\n",
    "    signatures_neg_agg = HyperdimensionalComputing.aggregate(signatures_train_neg)\n",
    "\n",
    "    # compute distance/similarity to test signatures\n",
    "    for test in signatures_test\n",
    "        score_pos_agg = cos_sim(signatures_pos_agg, test)\n",
    "        score_neg_agg = cos_sim(signatures_neg_agg, test)\n",
    "        push!(scores, score_pos_agg/score_neg_agg) # > 1 then pos, < 1 then neg\n",
    "        push!(scores_pos, score_pos_agg)\n",
    "    end\n",
    "end\n",
    "\n",
    "# results pos vs. neg\n",
    "results = DataFrame(locus=loci_nr, rbps=rbp_nr, scores=scores, label=labels)\n",
    "CSV.write(results_dir*\"/results_HDC_grouped10CV_\"*data_suffix*\".csv\", results)\n",
    "\n",
    "# results pos only\n",
    "results = DataFrame(locus=loci_nr, rbps=rbp_nr, scores=scores_pos, label=labels)\n",
    "CSV.write(results_dir*\"/results_HDCpos_grouped10CV_\"*data_suffix*\".csv\", results)\n",
    "\n",
    "# examine scores\n",
    "histogram(scores, xlabel=\"score\", ylabel=\"count\")\n",
    "sum(scores .< 1)/length(scores)"
   ]
  },
  {
   "cell_type": "raw",
   "id": "226146c2",
   "metadata": {},
   "source": [
    "function construct_relevant_matrix(preds_matrix, label_matrix)\n",
    "    \"\"\"\n",
    "    This function constructs a matrix of relevant predictions\n",
    "    (i.e., true positives) from the prediction matrix and label matrix.\n",
    "    \"\"\"\n",
    "    @assert size(preds_matrix) == size(label_matrix)\n",
    "    relevant_matrix = zeros(Int64, size(preds_matrix)[1], size(preds_matrix)[2])\n",
    "    for i in 1:size(preds_matrix)[1]\n",
    "        for j in 1:size(preds_matrix)[2]\n",
    "            if (preds_matrix[i,j] == label_matrix[i,j]) & (label_matrix[i,j] == 1)\n",
    "                relevant_matrix[i,j] = 1\n",
    "            end\n",
    "        end\n",
    "    end\n",
    "    return relevant_matrix\n",
    "end"
   ]
  },
  {
   "cell_type": "raw",
   "id": "085a9cd7",
   "metadata": {},
   "source": [
    "function mrr_from_scores_OLD(score_matrix, label_matrix)\n",
    "    \"\"\"\n",
    "    OLD version of the function is a wrapper for the previous functions that computes\n",
    "    the MRR starting from a matrix of (prediction) scores, a threshold above\n",
    "    which to consider an interaction positive and a label matrix.\n",
    "    \"\"\"\n",
    "    # construct the prediction matrix\n",
    "    preds_matrix = convert(Matrix{Int64}, score_matrix .> threshold)\n",
    "\n",
    "    # construct the relevant matrix\n",
    "    replace!(label_matrix, missing => 0)\n",
    "    rel_matrix = construct_relevant_matrix(preds_matrix, label_matrix)\n",
    "\n",
    "    # sort the matrix per row and compute\n",
    "    sorted_matrix = sort_relevant_matrix(rel_matrix, score_matrix)\n",
    "    \n",
    "    return mean_reciprocal_rank(sorted_matrix)\n",
    "end"
   ]
  }
 ],
 "metadata": {
  "kernelspec": {
   "display_name": "Julia 1.6.3",
   "language": "julia",
   "name": "julia-1.6"
  },
  "language_info": {
   "file_extension": ".jl",
   "mimetype": "application/julia",
   "name": "julia",
   "version": "1.6.3"
  }
 },
 "nbformat": 4,
 "nbformat_minor": 5
}
