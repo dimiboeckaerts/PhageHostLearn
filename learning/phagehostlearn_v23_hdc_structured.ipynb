{
 "cells": [
  {
   "cell_type": "markdown",
   "id": "f577d7df",
   "metadata": {},
   "source": [
    "# PhageHostLearn - v2.3 (Klebsiella)\n",
    "\n",
    "An AI-based Phage-Host interaction predictor framework with K-loci and receptor-binding proteins at its core. This particular PhageHostLearn is for *Klebsiella pneumoniae* related phages. This notebook follows after having ran the PhageHostLearn_processing steps implemented in the accompanying Jupyter notebook.\n",
    "\n",
    "**Architecture of this framework**: \n",
    "- Multi-instance RBP embedding: phages consist of one or more RBPs that are embedded together\n",
    "- Multi-instance K-loci embedding: K-locus consists of multiple proteins that are embedded together\n",
    "- Hyperdimensional vector embeddings for both that are bound to signatures\n",
    "- Signatures that are aggregated to create profiles of the positive class\n",
    "- Unbinding with new loci HDVs on the positive profile to get a proxy for the closest multiRBP HDV\n",
    "- Cosine similarity to compute and rank the closest known multiRBP embeddings\n",
    "\n",
    "**Overview of the notebook**:\n",
    "\n",
    "1. [Defining the necessary functions](#functions)\n",
    "2. [Transform the loci sequences into embeddings](#lociembed) using hyperdimensional vectors\n",
    "3. [Transform the RBP sequences into embeddings](#rbpembed) using hyperdimensional vectors\n",
    "4. [Compute joint features: bind or concat](#joint)\n",
    "5. [Aggregation and cosine similarity](#hdc)"
   ]
  },
  {
   "cell_type": "markdown",
   "id": "a4cc1380",
   "metadata": {},
   "source": [
    "## 0 - Libraries and directories"
   ]
  },
  {
   "cell_type": "code",
   "execution_count": 1,
   "id": "5e3e26c3",
   "metadata": {},
   "outputs": [],
   "source": [
    "using CSV\n",
    "using Test\n",
    "using JSON\n",
    "using Plots\n",
    "using FASTX\n",
    "using Colors\n",
    "using Random\n",
    "using StatsBase\n",
    "using Statistics\n",
    "using DataFrames\n",
    "using ScikitLearn\n",
    "using BioAlignments\n",
    "using ProgressMeter\n",
    "using LinearAlgebra\n",
    "using ProgressMeter\n",
    "using BioAlignments\n",
    "using DelimitedFiles\n",
    "using MultivariateStats\n",
    "\n",
    "@sk_import decomposition: PCA\n",
    "@sk_import ensemble: RandomForestClassifier\n",
    "@sk_import metrics: roc_auc_score\n",
    "\n",
    "push!(LOAD_PATH, \"/Users/dimi/Documents/GitHub/HyperdimensionalComputing.jl/src/\")\n",
    "using HyperdimensionalComputing\n",
    "\n",
    "general_dir = \"/Users/dimi/GoogleDrive/PhD/4_PHAGEHOST_LEARNING/42_DATA/Valencia_data\" # general directory\n",
    "results_dir = \"/Users/dimi/GoogleDrive/PhD/4_PHAGEHOST_LEARNING/43_RESULTS/models\"\n",
    "data_suffix = \"Valencia\"; # choose a suffix for the created data files"
   ]
  },
  {
   "cell_type": "markdown",
   "id": "a9cff52b",
   "metadata": {},
   "source": [
    "## 1 - Functions<a name=\"functions\"></a>"
   ]
  },
  {
   "cell_type": "code",
   "execution_count": 2,
   "id": "015ad564",
   "metadata": {},
   "outputs": [
    {
     "data": {
      "text/plain": [
       "file_to_array (generic function with 1 method)"
      ]
     },
     "execution_count": 2,
     "metadata": {},
     "output_type": "execute_result"
    }
   ],
   "source": [
    "function file_to_array(file)\n",
    "    \"\"\"\n",
    "    Function that reads a FASTA file and puts its sequences in an array.\n",
    "    \"\"\"\n",
    "    sequences = []\n",
    "    reader = FASTA.Reader(open(file, \"r\"))\n",
    "    for record in reader\n",
    "        seq = FASTA.sequence(record)\n",
    "        push!(sequences, seq)\n",
    "    end\n",
    "    return sequences\n",
    "end"
   ]
  },
  {
   "cell_type": "code",
   "execution_count": 3,
   "id": "fc871105",
   "metadata": {
    "scrolled": true
   },
   "outputs": [
    {
     "data": {
      "text/plain": [
       "mean_reciprocal_rank (generic function with 1 method)"
      ]
     },
     "execution_count": 3,
     "metadata": {},
     "output_type": "execute_result"
    }
   ],
   "source": [
    "function mean_reciprocal_rank(queries)\n",
    "    \"\"\"\n",
    "    This function computes the mean reciprocal rank for a given array or\n",
    "    matrix of queries. It deals with relevant vs. non-relevant queries that are\n",
    "    binary. If queries is a matrix, then it will compute the reciprocal ranks over\n",
    "    all rows individually (for each 'query') and then average those.\n",
    "    E.g.:\n",
    "    queries = [[0, 0, 0], [0, 1, 0], [1, 0, 0]]\n",
    "    mean_reciprocal_rank(queries) -> 0.5\n",
    "    \"\"\"\n",
    "    if isa(queries, Matrix)\n",
    "        queries_list = [queries[i,:] for i in 1:size(queries)[1]]\n",
    "        reciprocal_ranks = [sum(query) > 0 ? 1/argmax(query) : 0 for query in queries_list]\n",
    "    else\n",
    "        reciprocal_ranks = [sum(query) > 0 ? 1/argmax(query) : 0 for query in queries]\n",
    "    end\n",
    "    return mean(reciprocal_ranks)\n",
    "end"
   ]
  },
  {
   "cell_type": "code",
   "execution_count": 4,
   "id": "4f3be05d",
   "metadata": {},
   "outputs": [
    {
     "data": {
      "text/plain": [
       "sort_label_matrix (generic function with 1 method)"
      ]
     },
     "execution_count": 4,
     "metadata": {},
     "output_type": "execute_result"
    }
   ],
   "source": [
    "function sort_label_matrix(score_matrix, label_matrix)\n",
    "    \"\"\"\n",
    "    This function sorts the label matrix based on the score matrix.\n",
    "    It does so per row (corresponding to bacteria in our setting).\n",
    "    \n",
    "    WARNING: The sortperm function will rank equal elements by ascending index order. \n",
    "    This potentially can cause an underestimation of performance (MRR), as it can be that \n",
    "    an irrelevant 0 appears earlier and then is place before a relevant 1.\n",
    "    \"\"\"\n",
    "    @assert size(label_matrix) == size(score_matrix)\n",
    "    sorted_matrix = zeros(Int64, size(label_matrix)[1], size(label_matrix)[2])\n",
    "    for i in 1:size(label_matrix)[1] # loop over rows\n",
    "        label_row = label_matrix[i,:]\n",
    "        score_row = score_matrix[i,:]\n",
    "        sorted_row = label_row[sortperm(score_row, rev=true)]\n",
    "        sorted_matrix[i,:] = sorted_row\n",
    "    end\n",
    "    return sorted_matrix\n",
    "end"
   ]
  },
  {
   "cell_type": "code",
   "execution_count": 5,
   "id": "596df09d",
   "metadata": {},
   "outputs": [
    {
     "data": {
      "text/plain": [
       "mrr_from_scores (generic function with 1 method)"
      ]
     },
     "execution_count": 5,
     "metadata": {},
     "output_type": "execute_result"
    }
   ],
   "source": [
    "function mrr_from_scores(score_matrix, label_matrix)\n",
    "    \"\"\"\n",
    "    This function is a wrapper for the previous functions that computes\n",
    "    the MRR starting from a matrix of (prediction) scores, a threshold above\n",
    "    which to consider an interaction positive and a label matrix.\n",
    "    \"\"\"\n",
    "    # sort the matrix per row and compute\n",
    "    replace!(label_matrix, missing => 0)\n",
    "    sorted_matrix = sort_label_matrix(score_matrix, label_matrix)\n",
    "    \n",
    "    return mean_reciprocal_rank(sorted_matrix)\n",
    "end"
   ]
  },
  {
   "cell_type": "code",
   "execution_count": 6,
   "id": "916c4a1c",
   "metadata": {},
   "outputs": [
    {
     "data": {
      "text/plain": [
       "auc_from_scores (generic function with 1 method)"
      ]
     },
     "execution_count": 6,
     "metadata": {},
     "output_type": "execute_result"
    }
   ],
   "source": [
    "function auc_from_scores(scores_flat, labels_flat)\n",
    "    \"\"\"\n",
    "    This function computes the AUC from raw scores returned by ScikitLearn classifiers.\n",
    "    For the AUC, we need the flat versions of scores and labels that don't contain missing \n",
    "    values (if not, this will skew the results).\n",
    "    \n",
    "    Dependencies: MLJ\n",
    "    \"\"\"\n",
    "    c = [\"neg\", \"pos\"]\n",
    "    labels_cat = categorical(c[labels_flat .+ 1])\n",
    "    scores_uni = [UnivariateFinite(categorical([\"neg\", \"pos\"]), [1.0 - p, p]) for p in scores_flat]\n",
    "    AUC = auc(scores_uni, labels_cat)\n",
    "    return AUC\n",
    "end"
   ]
  },
  {
   "cell_type": "code",
   "execution_count": 7,
   "id": "7123b0c9",
   "metadata": {},
   "outputs": [
    {
     "data": {
      "text/plain": [
       "compute_performance (generic function with 1 method)"
      ]
     },
     "execution_count": 7,
     "metadata": {},
     "output_type": "execute_result"
    }
   ],
   "source": [
    "function compute_performance(score_matrix, label_matrix, scores_flat, labels_flat)\n",
    "    \"\"\"\n",
    "    Wrapper function that computes the two relevant results we want to compare for \n",
    "    our models: the ROC AUC and the MRR.    \n",
    "    \"\"\"\n",
    "    MRR = mrr_from_scores(score_matrix, label_matrix) # compute MRR\n",
    "    AUC = auc_from_scores(scores_flat, labels_flat) # compute AUC\n",
    "    return MRR, AUC\n",
    "end"
   ]
  },
  {
   "cell_type": "markdown",
   "id": "f1db0834",
   "metadata": {},
   "source": [
    "## 2 - Computing loci embeddings<a name=\"lociembed\"></a>"
   ]
  },
  {
   "cell_type": "markdown",
   "id": "8b4dcb22",
   "metadata": {},
   "source": [
    "In this section, we define hyperdimensional vectors for the amino-acid alphabet and use these hyperdimensional vectors to construct *hyperdimensional embeddings* for our loci proteins. For the loci proteins, this is a multi-instance setting: multiple proteins will be embedded into hyperdimensional space and then those vectors are aggregated to form one final vector for each locus."
   ]
  },
  {
   "cell_type": "code",
   "execution_count": 8,
   "id": "69da2bd6",
   "metadata": {},
   "outputs": [],
   "source": [
    "# load data\n",
    "LociBase = JSON.parsefile(general_dir*\"/Locibase\"*data_suffix*\".json\")\n",
    "seros = DataFrame(CSV.File(general_dir*\"/serotypes\"*data_suffix*\".csv\"));"
   ]
  },
  {
   "cell_type": "code",
   "execution_count": 9,
   "id": "bb78964a",
   "metadata": {},
   "outputs": [],
   "source": [
    "# define protein alphabet\n",
    "alphabet = \"GAVLIFPSTYCMKRHWDENQX\"\n",
    "basis = Dict(c=>BipolarHDV() for c in alphabet);"
   ]
  },
  {
   "cell_type": "code",
   "execution_count": 10,
   "id": "356e2c2c",
   "metadata": {},
   "outputs": [],
   "source": [
    "# compute loci embeddings w/ proteins (multi-instance)\n",
    "loci_embeddings = Array{BipolarHDV}(undef, length(LociBase))\n",
    "for (i, (name, proteins)) in enumerate(LociBase)\n",
    "    # bind within one sequence, then aggregate the different sequences\n",
    "    protein_hdvs = [sequence_embedding(string(sequence), basis, 6) for sequence in proteins]\n",
    "    loci_hdv = HyperdimensionalComputing.aggregate(protein_hdvs)\n",
    "    loci_embeddings[i] = loci_hdv\n",
    "end"
   ]
  },
  {
   "cell_type": "markdown",
   "id": "a573ebc0",
   "metadata": {},
   "source": [
    "## 3 - Computing RBP embeddings<a name=\"rbpembed\"></a>\n",
    "\n",
    "We combine the vectors for each phage's RBP(s), also a multi-instance setting"
   ]
  },
  {
   "cell_type": "code",
   "execution_count": 11,
   "id": "0b646f90",
   "metadata": {},
   "outputs": [],
   "source": [
    "# load data\n",
    "RBPbase = DataFrame(CSV.File(general_dir*\"/RBPbase\"*data_suffix*\".csv\"));"
   ]
  },
  {
   "cell_type": "code",
   "execution_count": null,
   "id": "8dcb88d4",
   "metadata": {},
   "outputs": [],
   "source": [
    "# compute single-rbp embeddings\n",
    "single_rbp_embeddings = [sequence_embedding(string(sequence), basis, 6) for sequence in RBPbase.protein_sequence]\n",
    "\n",
    "# put the signatures in a matrix for sklearn\n",
    "single_rbp_matrix = zeros(Int64, length(single_rbp_embeddings), 10000)\n",
    "for (i, embedding) in enumerate(single_rbp_embeddings)\n",
    "    single_rbp_matrix[i,:] = embedding\n",
    "end\n",
    "single_rbp_embeddings = hcat(DataFrame(name=RBPbase.phage_ID), DataFrame(single_rbp_matrix, :auto));"
   ]
  },
  {
   "cell_type": "code",
   "execution_count": 12,
   "id": "982319c8",
   "metadata": {},
   "outputs": [],
   "source": [
    "# compute multi-rbp embeddings\n",
    "rbp_embeddings = Array{BipolarHDV}(undef, length(unique(RBPbase.phage_ID)))\n",
    "for (i, phageid) in enumerate(unique(RBPbase.phage_ID))\n",
    "    subset = filter(row -> row.phage_ID == phageid, RBPbase)\n",
    "    protein_hdvs = [sequence_embedding(string(sequence), basis, 6) for sequence in subset.protein_sequence]\n",
    "    multirbp_hdv = HyperdimensionalComputing.aggregate(protein_hdvs)\n",
    "    rbp_embeddings[i] = multirbp_hdv\n",
    "end"
   ]
  },
  {
   "cell_type": "markdown",
   "id": "3e46957e",
   "metadata": {},
   "source": [
    "## 4 - Compute joint signatures by binding<a name=\"joint\"></a>"
   ]
  },
  {
   "cell_type": "code",
   "execution_count": 14,
   "id": "f71dbd10",
   "metadata": {},
   "outputs": [],
   "source": [
    "IM = DataFrame(CSV.File(general_dir*\"/phage_host_interactions\"*data_suffix*\".csv\"))\n",
    "rename!(IM,:Column1 => :Host)\n",
    "interaction_matrix = Matrix(IM[1:end, 2:end])\n",
    "#loci_names = IM.accession\n",
    "#serotypes = DataFrame(CSV.File(general_dir*\"/serotypes\"*data_suffix*\".csv\"))\n",
    "#rbp_names = names(IM)[2:end];"
   ]
  },
  {
   "cell_type": "code",
   "execution_count": 15,
   "id": "4cb21946",
   "metadata": {},
   "outputs": [],
   "source": [
    "# compute sigatures for loci x RBP embeddings\n",
    "features_bind = []\n",
    "labels = []\n",
    "loci_groups = []\n",
    "rbp_groups = []\n",
    "for (i, accession) in enumerate(collect(keys(LociBase)))\n",
    "    for (j, phage_id) in enumerate(unique(RBPbase.phage_ID))\n",
    "        subset = filter(row -> row.Host == accession, IM)\n",
    "        interaction = subset[!, phage_id][1]\n",
    "        if isequal(interaction, 1) || isequal(interaction, 0)\n",
    "            signature = HyperdimensionalComputing.bind([loci_embeddings[i], rbp_embeddings[j]])\n",
    "            push!(features_bind, signature)\n",
    "            push!(labels, trunc(Int, interaction))\n",
    "            push!(loci_groups, i)\n",
    "            push!(rbp_groups, j)\n",
    "        end\n",
    "    end\n",
    "end"
   ]
  },
  {
   "cell_type": "code",
   "execution_count": 16,
   "id": "01c70737",
   "metadata": {},
   "outputs": [],
   "source": [
    "# put the signatures in a matrix for sklearn\n",
    "features_b = zeros(Int64, length(features_bind), 10000)\n",
    "for i in range(1, length=length(features_bind))\n",
    "    features_b[i,:] = features_bind[i]\n",
    "end"
   ]
  },
  {
   "cell_type": "markdown",
   "id": "19b7f5e5",
   "metadata": {},
   "source": [
    "## 5 - K-fold cross-validation"
   ]
  },
  {
   "cell_type": "code",
   "execution_count": 27,
   "id": "d46cff69",
   "metadata": {},
   "outputs": [],
   "source": [
    "# perform K-fold cross-validation and keep the scores\n",
    "scores_pos = []\n",
    "kfold_labels = []\n",
    "for (train_indices, test_indices) in CrossValidation.StratifiedKFold(labels, n_folds=5, shuffle=true, random_state=42)\n",
    "    # define training and test data\n",
    "    x_train = features_bind[train_indices]\n",
    "    y_train = labels[train_indices]\n",
    "    loci_test = loci_groups[test_indices]\n",
    "    rbps_test = rbp_groups[test_indices]\n",
    "    y_test = labels[test_indices]\n",
    "    \n",
    "    # train pos aggregate\n",
    "    positives = convert(Array{BipolarHDV}, x_train[y_train .== 1])\n",
    "    pos_aggregate = HyperdimensionalComputing.aggregate(positives)\n",
    "    \n",
    "    # compute similarities\n",
    "    for (i, loci_index) in enumerate(loci_test)\n",
    "        test_locus = loci_embeddings[loci_index]\n",
    "        test_rbp = rbp_embeddings[rbps_test[i]]\n",
    "        unbind = HyperdimensionalComputing.bind([test_locus, pos_aggregate])\n",
    "        push!(scores_pos, (cos_sim(test_rbp, unbind)+1)/2)\n",
    "        push!(kfold_labels, y_test[i])\n",
    "    end\n",
    "end"
   ]
  },
  {
   "cell_type": "code",
   "execution_count": 28,
   "id": "6f5e50ac",
   "metadata": {},
   "outputs": [
    {
     "data": {
      "text/plain": [
       "0.7281339530651976"
      ]
     },
     "execution_count": 28,
     "metadata": {},
     "output_type": "execute_result"
    }
   ],
   "source": [
    "roc_auc_score(kfold_labels, scores_pos)"
   ]
  },
  {
   "cell_type": "code",
   "execution_count": 29,
   "id": "6e183c11",
   "metadata": {},
   "outputs": [
    {
     "data": {
      "text/plain": [
       "\"/Users/dimi/GoogleDrive/PhD/4_PHAGEHOST_LEARNING/43_RESULTS/models/v2.2/hdc_structured_scores_locibind.csv\""
      ]
     },
     "execution_count": 29,
     "metadata": {},
     "output_type": "execute_result"
    }
   ],
   "source": [
    "# save scores for plotting\n",
    "results = DataFrame(labels=kfold_labels, scores=scores_pos)\n",
    "#CSV.write(results_dir*\"/v2.2/hdc_structured_scores_locibind.csv\", results)"
   ]
  },
  {
   "cell_type": "markdown",
   "id": "a51ebfd3",
   "metadata": {},
   "source": [
    "## 7 - Randomized labels"
   ]
  },
  {
   "cell_type": "code",
   "execution_count": 18,
   "id": "f9cc8030",
   "metadata": {},
   "outputs": [
    {
     "name": "stdout",
     "output_type": "stream",
     "text": [
      "0.41475385638592066\n"
     ]
    }
   ],
   "source": [
    "# perform K-fold cross-validation and keep the scores\n",
    "scores_pos = []\n",
    "kfold_labels = []\n",
    "for (train_indices, test_indices) in CrossValidation.StratifiedKFold(labels, n_folds=5, shuffle=true, random_state=42)\n",
    "    # define training and test data\n",
    "    x_train = features_bind[train_indices]\n",
    "    y_train = labels[train_indices]\n",
    "    loci_test = loci_groups[test_indices]\n",
    "    rbps_test = rbp_groups[test_indices]\n",
    "    y_test = labels[test_indices]\n",
    "    y_shuffled = shuffle(y_train)\n",
    "    \n",
    "    # train pos aggregate\n",
    "    positives = convert(Array{BipolarHDV}, x_train[y_shuffled .== 1])\n",
    "    pos_aggregate = HyperdimensionalComputing.aggregate(positives)\n",
    "    \n",
    "    # compute similarities\n",
    "    for (i, loci_index) in enumerate(loci_test)\n",
    "        test_locus = loci_embeddings[loci_index]\n",
    "        test_rbp = rbp_embeddings[rbps_test[i]]\n",
    "        unbind = HyperdimensionalComputing.bind([test_locus, pos_aggregate])\n",
    "        push!(scores_pos, (cos_sim(test_rbp, unbind)+1)/2)\n",
    "        push!(kfold_labels, y_test[i])\n",
    "    end\n",
    "end\n",
    "println(roc_auc_score(kfold_labels, scores_pos))\n",
    "# save scores for plotting\n",
    "results = DataFrame(labels=kfold_labels, scores=scores_pos)\n",
    "#CSV.write(results_dir*\"/v2.2/hdc_structured_scores_random.csv\", results);"
   ]
  },
  {
   "cell_type": "markdown",
   "id": "f8422010",
   "metadata": {},
   "source": [
    "## 7 - LOGOCV"
   ]
  },
  {
   "cell_type": "code",
   "execution_count": 17,
   "id": "311c7407",
   "metadata": {},
   "outputs": [
    {
     "name": "stderr",
     "output_type": "stream",
     "text": [
      "\u001b[32mProgress: 100%|█████████████████████████████████████████| Time: 0:00:06\u001b[39m\n"
     ]
    }
   ],
   "source": [
    "auc_scores = []\n",
    "noauc_scores = []\n",
    "sero_groups = []\n",
    "ranked_q = []\n",
    "p = Progress(200)\n",
    "\n",
    "for item in unique(loci_groups)\n",
    "    # define training and test data\n",
    "    x_train = features_bind[loci_groups .!= item]\n",
    "    y_train = labels[loci_groups .!= item]\n",
    "    x_test = features_bind[loci_groups .== item]\n",
    "    y_test = labels[loci_groups .== item]\n",
    "    rbps_test = rbp_groups[loci_groups .== item]\n",
    "    \n",
    "    # train aggregates\n",
    "    positives = convert(Array{BipolarHDV}, x_train[y_train .== 1])\n",
    "    pos_aggregate = HyperdimensionalComputing.aggregate(positives)\n",
    "    \n",
    "    # compute similarities\n",
    "    test_locus = loci_embeddings[item]\n",
    "    unbind = HyperdimensionalComputing.bind([test_locus, pos_aggregate])\n",
    "    scores_pos = [(cos_sim(rbp_embeddings[rbp_index], unbind)+1)/2 for rbp_index in rbps_test]\n",
    "    try\n",
    "        this_auc = roc_auc_score(y_test, scores_pos)\n",
    "        push!(auc_scores, this_auc)\n",
    "        sorted_query = y_test[sortperm(scores_pos, rev=true)] # sort labels to compute MRR later\n",
    "        push!(ranked_q, sorted_query)\n",
    "        push!(sero_groups, seros.sero[item])\n",
    "    catch\n",
    "        push!(noauc_scores, scores_pos)\n",
    "    end\n",
    "    \n",
    "    # pbar update\n",
    "    next!(p)\n",
    "end"
   ]
  },
  {
   "cell_type": "code",
   "execution_count": 18,
   "id": "2f14c672",
   "metadata": {},
   "outputs": [
    {
     "name": "stdout",
     "output_type": "stream",
     "text": [
      "AUC: 0.7111553720718236\n",
      "MRR: 0.4303201173543429\n"
     ]
    },
    {
     "data": {
      "text/plain": [
       "\"/Users/dimi/GoogleDrive/PhD/4_PHAGEHOST_LEARNING/43_RESULTS/models/v2.3/hdc_structured_logocv_results_locibind.csv\""
      ]
     },
     "execution_count": 18,
     "metadata": {},
     "output_type": "execute_result"
    }
   ],
   "source": [
    "# print scores\n",
    "println(\"AUC: \", mean(auc_scores))\n",
    "println(\"MRR: \", mean_reciprocal_rank(ranked_q))\n",
    "\n",
    "# save scores for plotting\n",
    "logo_results = DataFrame(sero=sero_groups, auc_scores=auc_scores, ranked_queries=ranked_q)\n",
    "CSV.write(results_dir*\"/v2.3/hdc_structured_logocv_results.csv\", logo_results)"
   ]
  },
  {
   "cell_type": "code",
   "execution_count": 19,
   "id": "ea906963",
   "metadata": {},
   "outputs": [
    {
     "data": {
      "image/svg+xml": [
       "<?xml version=\"1.0\" encoding=\"utf-8\"?>\n",
       "<svg xmlns=\"http://www.w3.org/2000/svg\" xmlns:xlink=\"http://www.w3.org/1999/xlink\" width=\"600\" height=\"400\" viewBox=\"0 0 2400 1600\">\n",
       "<defs>\n",
       "  <clipPath id=\"clip940\">\n",
       "    <rect x=\"0\" y=\"0\" width=\"2400\" height=\"1600\"/>\n",
       "  </clipPath>\n",
       "</defs>\n",
       "<path clip-path=\"url(#clip940)\" d=\"\n",
       "M0 1600 L2400 1600 L2400 0 L0 0  Z\n",
       "  \" fill=\"#ffffff\" fill-rule=\"evenodd\" fill-opacity=\"1\"/>\n",
       "<defs>\n",
       "  <clipPath id=\"clip941\">\n",
       "    <rect x=\"480\" y=\"0\" width=\"1681\" height=\"1600\"/>\n",
       "  </clipPath>\n",
       "</defs>\n",
       "<path clip-path=\"url(#clip940)\" d=\"\n",
       "M172.015 1486.45 L2352.76 1486.45 L2352.76 47.2441 L172.015 47.2441  Z\n",
       "  \" fill=\"#ffffff\" fill-rule=\"evenodd\" fill-opacity=\"1\"/>\n",
       "<defs>\n",
       "  <clipPath id=\"clip942\">\n",
       "    <rect x=\"172\" y=\"47\" width=\"2182\" height=\"1440\"/>\n",
       "  </clipPath>\n",
       "</defs>\n",
       "<polyline clip-path=\"url(#clip942)\" style=\"stroke:#000000; stroke-linecap:round; stroke-linejoin:round; stroke-width:2; stroke-opacity:0.1; fill:none\" points=\"\n",
       "  523.013,1486.45 523.013,47.2441 \n",
       "  \"/>\n",
       "<polyline clip-path=\"url(#clip942)\" style=\"stroke:#000000; stroke-linecap:round; stroke-linejoin:round; stroke-width:2; stroke-opacity:0.1; fill:none\" points=\"\n",
       "  985.121,1486.45 985.121,47.2441 \n",
       "  \"/>\n",
       "<polyline clip-path=\"url(#clip942)\" style=\"stroke:#000000; stroke-linecap:round; stroke-linejoin:round; stroke-width:2; stroke-opacity:0.1; fill:none\" points=\"\n",
       "  1447.23,1486.45 1447.23,47.2441 \n",
       "  \"/>\n",
       "<polyline clip-path=\"url(#clip942)\" style=\"stroke:#000000; stroke-linecap:round; stroke-linejoin:round; stroke-width:2; stroke-opacity:0.1; fill:none\" points=\"\n",
       "  1909.34,1486.45 1909.34,47.2441 \n",
       "  \"/>\n",
       "<polyline clip-path=\"url(#clip940)\" style=\"stroke:#000000; stroke-linecap:round; stroke-linejoin:round; stroke-width:4; stroke-opacity:1; fill:none\" points=\"\n",
       "  172.015,1486.45 2352.76,1486.45 \n",
       "  \"/>\n",
       "<polyline clip-path=\"url(#clip940)\" style=\"stroke:#000000; stroke-linecap:round; stroke-linejoin:round; stroke-width:4; stroke-opacity:1; fill:none\" points=\"\n",
       "  523.013,1486.45 523.013,1467.55 \n",
       "  \"/>\n",
       "<polyline clip-path=\"url(#clip940)\" style=\"stroke:#000000; stroke-linecap:round; stroke-linejoin:round; stroke-width:4; stroke-opacity:1; fill:none\" points=\"\n",
       "  985.121,1486.45 985.121,1467.55 \n",
       "  \"/>\n",
       "<polyline clip-path=\"url(#clip940)\" style=\"stroke:#000000; stroke-linecap:round; stroke-linejoin:round; stroke-width:4; stroke-opacity:1; fill:none\" points=\"\n",
       "  1447.23,1486.45 1447.23,1467.55 \n",
       "  \"/>\n",
       "<polyline clip-path=\"url(#clip940)\" style=\"stroke:#000000; stroke-linecap:round; stroke-linejoin:round; stroke-width:4; stroke-opacity:1; fill:none\" points=\"\n",
       "  1909.34,1486.45 1909.34,1467.55 \n",
       "  \"/>\n",
       "<path clip-path=\"url(#clip940)\" d=\"M485.317 1517.37 Q481.706 1517.37 479.877 1520.93 Q478.071 1524.47 478.071 1531.6 Q478.071 1538.71 479.877 1542.27 Q481.706 1545.82 485.317 1545.82 Q488.951 1545.82 490.756 1542.27 Q492.585 1538.71 492.585 1531.6 Q492.585 1524.47 490.756 1520.93 Q488.951 1517.37 485.317 1517.37 M485.317 1513.66 Q491.127 1513.66 494.182 1518.27 Q497.261 1522.85 497.261 1531.6 Q497.261 1540.33 494.182 1544.94 Q491.127 1549.52 485.317 1549.52 Q479.507 1549.52 476.428 1544.94 Q473.372 1540.33 473.372 1531.6 Q473.372 1522.85 476.428 1518.27 Q479.507 1513.66 485.317 1513.66 Z\" fill=\"#000000\" fill-rule=\"evenodd\" fill-opacity=\"1\" /><path clip-path=\"url(#clip940)\" d=\"M505.479 1542.97 L510.363 1542.97 L510.363 1548.85 L505.479 1548.85 L505.479 1542.97 Z\" fill=\"#000000\" fill-rule=\"evenodd\" fill-opacity=\"1\" /><path clip-path=\"url(#clip940)\" d=\"M520.594 1514.29 L538.951 1514.29 L538.951 1518.22 L524.877 1518.22 L524.877 1526.7 Q525.895 1526.35 526.914 1526.19 Q527.932 1526 528.951 1526 Q534.738 1526 538.117 1529.17 Q541.497 1532.34 541.497 1537.76 Q541.497 1543.34 538.025 1546.44 Q534.553 1549.52 528.233 1549.52 Q526.057 1549.52 523.789 1549.15 Q521.543 1548.78 519.136 1548.04 L519.136 1543.34 Q521.219 1544.47 523.441 1545.03 Q525.664 1545.58 528.141 1545.58 Q532.145 1545.58 534.483 1543.48 Q536.821 1541.37 536.821 1537.76 Q536.821 1534.15 534.483 1532.04 Q532.145 1529.94 528.141 1529.94 Q526.266 1529.94 524.391 1530.35 Q522.539 1530.77 520.594 1531.65 L520.594 1514.29 Z\" fill=\"#000000\" fill-rule=\"evenodd\" fill-opacity=\"1\" /><path clip-path=\"url(#clip940)\" d=\"M560.71 1517.37 Q557.099 1517.37 555.27 1520.93 Q553.464 1524.47 553.464 1531.6 Q553.464 1538.71 555.27 1542.27 Q557.099 1545.82 560.71 1545.82 Q564.344 1545.82 566.15 1542.27 Q567.978 1538.71 567.978 1531.6 Q567.978 1524.47 566.15 1520.93 Q564.344 1517.37 560.71 1517.37 M560.71 1513.66 Q566.52 1513.66 569.575 1518.27 Q572.654 1522.85 572.654 1531.6 Q572.654 1540.33 569.575 1544.94 Q566.52 1549.52 560.71 1549.52 Q554.9 1549.52 551.821 1544.94 Q548.765 1540.33 548.765 1531.6 Q548.765 1522.85 551.821 1518.27 Q554.9 1513.66 560.71 1513.66 Z\" fill=\"#000000\" fill-rule=\"evenodd\" fill-opacity=\"1\" /><path clip-path=\"url(#clip940)\" d=\"M948.223 1517.37 Q944.612 1517.37 942.783 1520.93 Q940.978 1524.47 940.978 1531.6 Q940.978 1538.71 942.783 1542.27 Q944.612 1545.82 948.223 1545.82 Q951.857 1545.82 953.663 1542.27 Q955.491 1538.71 955.491 1531.6 Q955.491 1524.47 953.663 1520.93 Q951.857 1517.37 948.223 1517.37 M948.223 1513.66 Q954.033 1513.66 957.089 1518.27 Q960.167 1522.85 960.167 1531.6 Q960.167 1540.33 957.089 1544.94 Q954.033 1549.52 948.223 1549.52 Q942.413 1549.52 939.334 1544.94 Q936.278 1540.33 936.278 1531.6 Q936.278 1522.85 939.334 1518.27 Q942.413 1513.66 948.223 1513.66 Z\" fill=\"#000000\" fill-rule=\"evenodd\" fill-opacity=\"1\" /><path clip-path=\"url(#clip940)\" d=\"M968.385 1542.97 L973.269 1542.97 L973.269 1548.85 L968.385 1548.85 L968.385 1542.97 Z\" fill=\"#000000\" fill-rule=\"evenodd\" fill-opacity=\"1\" /><path clip-path=\"url(#clip940)\" d=\"M983.5 1514.29 L1001.86 1514.29 L1001.86 1518.22 L987.783 1518.22 L987.783 1526.7 Q988.801 1526.35 989.82 1526.19 Q990.838 1526 991.857 1526 Q997.644 1526 1001.02 1529.17 Q1004.4 1532.34 1004.4 1537.76 Q1004.4 1543.34 1000.93 1546.44 Q997.459 1549.52 991.139 1549.52 Q988.963 1549.52 986.695 1549.15 Q984.45 1548.78 982.042 1548.04 L982.042 1543.34 Q984.125 1544.47 986.348 1545.03 Q988.57 1545.58 991.047 1545.58 Q995.051 1545.58 997.389 1543.48 Q999.727 1541.37 999.727 1537.76 Q999.727 1534.15 997.389 1532.04 Q995.051 1529.94 991.047 1529.94 Q989.172 1529.94 987.297 1530.35 Q985.445 1530.77 983.5 1531.65 L983.5 1514.29 Z\" fill=\"#000000\" fill-rule=\"evenodd\" fill-opacity=\"1\" /><path clip-path=\"url(#clip940)\" d=\"M1017.64 1544.91 L1033.96 1544.91 L1033.96 1548.85 L1012.02 1548.85 L1012.02 1544.91 Q1014.68 1542.16 1019.26 1537.53 Q1023.87 1532.88 1025.05 1531.53 Q1027.3 1529.01 1028.18 1527.27 Q1029.08 1525.51 1029.08 1523.82 Q1029.08 1521.07 1027.13 1519.33 Q1025.21 1517.6 1022.11 1517.6 Q1019.91 1517.6 1017.46 1518.36 Q1015.03 1519.13 1012.25 1520.68 L1012.25 1515.95 Q1015.07 1514.82 1017.53 1514.24 Q1019.98 1513.66 1022.02 1513.66 Q1027.39 1513.66 1030.58 1516.35 Q1033.78 1519.03 1033.78 1523.52 Q1033.78 1525.65 1032.97 1527.57 Q1032.18 1529.47 1030.07 1532.07 Q1029.5 1532.74 1026.39 1535.95 Q1023.29 1539.15 1017.64 1544.91 Z\" fill=\"#000000\" fill-rule=\"evenodd\" fill-opacity=\"1\" /><path clip-path=\"url(#clip940)\" d=\"M1409.29 1517.37 Q1405.68 1517.37 1403.85 1520.93 Q1402.04 1524.47 1402.04 1531.6 Q1402.04 1538.71 1403.85 1542.27 Q1405.68 1545.82 1409.29 1545.82 Q1412.92 1545.82 1414.73 1542.27 Q1416.56 1538.71 1416.56 1531.6 Q1416.56 1524.47 1414.73 1520.93 Q1412.92 1517.37 1409.29 1517.37 M1409.29 1513.66 Q1415.1 1513.66 1418.15 1518.27 Q1421.23 1522.85 1421.23 1531.6 Q1421.23 1540.33 1418.15 1544.94 Q1415.1 1549.52 1409.29 1549.52 Q1403.48 1549.52 1400.4 1544.94 Q1397.34 1540.33 1397.34 1531.6 Q1397.34 1522.85 1400.4 1518.27 Q1403.48 1513.66 1409.29 1513.66 Z\" fill=\"#000000\" fill-rule=\"evenodd\" fill-opacity=\"1\" /><path clip-path=\"url(#clip940)\" d=\"M1429.45 1542.97 L1434.33 1542.97 L1434.33 1548.85 L1429.45 1548.85 L1429.45 1542.97 Z\" fill=\"#000000\" fill-rule=\"evenodd\" fill-opacity=\"1\" /><path clip-path=\"url(#clip940)\" d=\"M1444.57 1514.29 L1462.92 1514.29 L1462.92 1518.22 L1448.85 1518.22 L1448.85 1526.7 Q1449.87 1526.35 1450.89 1526.19 Q1451.9 1526 1452.92 1526 Q1458.71 1526 1462.09 1529.17 Q1465.47 1532.34 1465.47 1537.76 Q1465.47 1543.34 1462 1546.44 Q1458.52 1549.52 1452.21 1549.52 Q1450.03 1549.52 1447.76 1549.15 Q1445.52 1548.78 1443.11 1548.04 L1443.11 1543.34 Q1445.19 1544.47 1447.41 1545.03 Q1449.64 1545.58 1452.11 1545.58 Q1456.12 1545.58 1458.46 1543.48 Q1460.79 1541.37 1460.79 1537.76 Q1460.79 1534.15 1458.46 1532.04 Q1456.12 1529.94 1452.11 1529.94 Q1450.24 1529.94 1448.36 1530.35 Q1446.51 1530.77 1444.57 1531.65 L1444.57 1514.29 Z\" fill=\"#000000\" fill-rule=\"evenodd\" fill-opacity=\"1\" /><path clip-path=\"url(#clip940)\" d=\"M1487.53 1518.36 L1475.72 1536.81 L1487.53 1536.81 L1487.53 1518.36 M1486.3 1514.29 L1492.18 1514.29 L1492.18 1536.81 L1497.11 1536.81 L1497.11 1540.7 L1492.18 1540.7 L1492.18 1548.85 L1487.53 1548.85 L1487.53 1540.7 L1471.93 1540.7 L1471.93 1536.19 L1486.3 1514.29 Z\" fill=\"#000000\" fill-rule=\"evenodd\" fill-opacity=\"1\" /><path clip-path=\"url(#clip940)\" d=\"M1871.56 1517.37 Q1867.95 1517.37 1866.12 1520.93 Q1864.31 1524.47 1864.31 1531.6 Q1864.31 1538.71 1866.12 1542.27 Q1867.95 1545.82 1871.56 1545.82 Q1875.19 1545.82 1877 1542.27 Q1878.83 1538.71 1878.83 1531.6 Q1878.83 1524.47 1877 1520.93 Q1875.19 1517.37 1871.56 1517.37 M1871.56 1513.66 Q1877.37 1513.66 1880.42 1518.27 Q1883.5 1522.85 1883.5 1531.6 Q1883.5 1540.33 1880.42 1544.94 Q1877.37 1549.52 1871.56 1549.52 Q1865.75 1549.52 1862.67 1544.94 Q1859.61 1540.33 1859.61 1531.6 Q1859.61 1522.85 1862.67 1518.27 Q1865.75 1513.66 1871.56 1513.66 Z\" fill=\"#000000\" fill-rule=\"evenodd\" fill-opacity=\"1\" /><path clip-path=\"url(#clip940)\" d=\"M1891.72 1542.97 L1896.6 1542.97 L1896.6 1548.85 L1891.72 1548.85 L1891.72 1542.97 Z\" fill=\"#000000\" fill-rule=\"evenodd\" fill-opacity=\"1\" /><path clip-path=\"url(#clip940)\" d=\"M1906.84 1514.29 L1925.19 1514.29 L1925.19 1518.22 L1911.12 1518.22 L1911.12 1526.7 Q1912.14 1526.35 1913.16 1526.19 Q1914.17 1526 1915.19 1526 Q1920.98 1526 1924.36 1529.17 Q1927.74 1532.34 1927.74 1537.76 Q1927.74 1543.34 1924.27 1546.44 Q1920.79 1549.52 1914.47 1549.52 Q1912.3 1549.52 1910.03 1549.15 Q1907.79 1548.78 1905.38 1548.04 L1905.38 1543.34 Q1907.46 1544.47 1909.68 1545.03 Q1911.91 1545.58 1914.38 1545.58 Q1918.39 1545.58 1920.72 1543.48 Q1923.06 1541.37 1923.06 1537.76 Q1923.06 1534.15 1920.72 1532.04 Q1918.39 1529.94 1914.38 1529.94 Q1912.51 1529.94 1910.63 1530.35 Q1908.78 1530.77 1906.84 1531.65 L1906.84 1514.29 Z\" fill=\"#000000\" fill-rule=\"evenodd\" fill-opacity=\"1\" /><path clip-path=\"url(#clip940)\" d=\"M1947.53 1529.7 Q1944.38 1529.7 1942.53 1531.86 Q1940.7 1534.01 1940.7 1537.76 Q1940.7 1541.49 1942.53 1543.66 Q1944.38 1545.82 1947.53 1545.82 Q1950.68 1545.82 1952.51 1543.66 Q1954.36 1541.49 1954.36 1537.76 Q1954.36 1534.01 1952.51 1531.86 Q1950.68 1529.7 1947.53 1529.7 M1956.81 1515.05 L1956.81 1519.31 Q1955.05 1518.48 1953.25 1518.04 Q1951.47 1517.6 1949.71 1517.6 Q1945.08 1517.6 1942.62 1520.72 Q1940.19 1523.85 1939.85 1530.17 Q1941.21 1528.15 1943.27 1527.09 Q1945.33 1526 1947.81 1526 Q1953.02 1526 1956.03 1529.17 Q1959.06 1532.32 1959.06 1537.76 Q1959.06 1543.08 1955.91 1546.3 Q1952.76 1549.52 1947.53 1549.52 Q1941.53 1549.52 1938.36 1544.94 Q1935.19 1540.33 1935.19 1531.6 Q1935.19 1523.41 1939.08 1518.55 Q1942.97 1513.66 1949.52 1513.66 Q1951.28 1513.66 1953.06 1514.01 Q1954.87 1514.36 1956.81 1515.05 Z\" fill=\"#000000\" fill-rule=\"evenodd\" fill-opacity=\"1\" /><polyline clip-path=\"url(#clip942)\" style=\"stroke:#000000; stroke-linecap:round; stroke-linejoin:round; stroke-width:2; stroke-opacity:0.1; fill:none\" points=\"\n",
       "  172.015,1445.72 2352.76,1445.72 \n",
       "  \"/>\n",
       "<polyline clip-path=\"url(#clip942)\" style=\"stroke:#000000; stroke-linecap:round; stroke-linejoin:round; stroke-width:2; stroke-opacity:0.1; fill:none\" points=\"\n",
       "  172.015,1145.33 2352.76,1145.33 \n",
       "  \"/>\n",
       "<polyline clip-path=\"url(#clip942)\" style=\"stroke:#000000; stroke-linecap:round; stroke-linejoin:round; stroke-width:2; stroke-opacity:0.1; fill:none\" points=\"\n",
       "  172.015,844.946 2352.76,844.946 \n",
       "  \"/>\n",
       "<polyline clip-path=\"url(#clip942)\" style=\"stroke:#000000; stroke-linecap:round; stroke-linejoin:round; stroke-width:2; stroke-opacity:0.1; fill:none\" points=\"\n",
       "  172.015,544.561 2352.76,544.561 \n",
       "  \"/>\n",
       "<polyline clip-path=\"url(#clip942)\" style=\"stroke:#000000; stroke-linecap:round; stroke-linejoin:round; stroke-width:2; stroke-opacity:0.1; fill:none\" points=\"\n",
       "  172.015,244.176 2352.76,244.176 \n",
       "  \"/>\n",
       "<polyline clip-path=\"url(#clip940)\" style=\"stroke:#000000; stroke-linecap:round; stroke-linejoin:round; stroke-width:4; stroke-opacity:1; fill:none\" points=\"\n",
       "  172.015,1486.45 172.015,47.2441 \n",
       "  \"/>\n",
       "<polyline clip-path=\"url(#clip940)\" style=\"stroke:#000000; stroke-linecap:round; stroke-linejoin:round; stroke-width:4; stroke-opacity:1; fill:none\" points=\"\n",
       "  172.015,1445.72 190.912,1445.72 \n",
       "  \"/>\n",
       "<polyline clip-path=\"url(#clip940)\" style=\"stroke:#000000; stroke-linecap:round; stroke-linejoin:round; stroke-width:4; stroke-opacity:1; fill:none\" points=\"\n",
       "  172.015,1145.33 190.912,1145.33 \n",
       "  \"/>\n",
       "<polyline clip-path=\"url(#clip940)\" style=\"stroke:#000000; stroke-linecap:round; stroke-linejoin:round; stroke-width:4; stroke-opacity:1; fill:none\" points=\"\n",
       "  172.015,844.946 190.912,844.946 \n",
       "  \"/>\n",
       "<polyline clip-path=\"url(#clip940)\" style=\"stroke:#000000; stroke-linecap:round; stroke-linejoin:round; stroke-width:4; stroke-opacity:1; fill:none\" points=\"\n",
       "  172.015,544.561 190.912,544.561 \n",
       "  \"/>\n",
       "<polyline clip-path=\"url(#clip940)\" style=\"stroke:#000000; stroke-linecap:round; stroke-linejoin:round; stroke-width:4; stroke-opacity:1; fill:none\" points=\"\n",
       "  172.015,244.176 190.912,244.176 \n",
       "  \"/>\n",
       "<path clip-path=\"url(#clip940)\" d=\"M124.07 1431.51 Q120.459 1431.51 118.631 1435.08 Q116.825 1438.62 116.825 1445.75 Q116.825 1452.86 118.631 1456.42 Q120.459 1459.96 124.07 1459.96 Q127.705 1459.96 129.51 1456.42 Q131.339 1452.86 131.339 1445.75 Q131.339 1438.62 129.51 1435.08 Q127.705 1431.51 124.07 1431.51 M124.07 1427.81 Q129.881 1427.81 132.936 1432.42 Q136.015 1437 136.015 1445.75 Q136.015 1454.48 132.936 1459.08 Q129.881 1463.67 124.07 1463.67 Q118.26 1463.67 115.182 1459.08 Q112.126 1454.48 112.126 1445.75 Q112.126 1437 115.182 1432.42 Q118.26 1427.81 124.07 1427.81 Z\" fill=\"#000000\" fill-rule=\"evenodd\" fill-opacity=\"1\" /><path clip-path=\"url(#clip940)\" d=\"M54.5569 1158.68 L62.1958 1158.68 L62.1958 1132.31 L53.8856 1133.98 L53.8856 1129.72 L62.1495 1128.05 L66.8254 1128.05 L66.8254 1158.68 L74.4642 1158.68 L74.4642 1162.61 L54.5569 1162.61 L54.5569 1158.68 Z\" fill=\"#000000\" fill-rule=\"evenodd\" fill-opacity=\"1\" /><path clip-path=\"url(#clip940)\" d=\"M93.9086 1131.13 Q90.2975 1131.13 88.4688 1134.69 Q86.6632 1138.24 86.6632 1145.37 Q86.6632 1152.47 88.4688 1156.04 Q90.2975 1159.58 93.9086 1159.58 Q97.5428 1159.58 99.3483 1156.04 Q101.177 1152.47 101.177 1145.37 Q101.177 1138.24 99.3483 1134.69 Q97.5428 1131.13 93.9086 1131.13 M93.9086 1127.43 Q99.7187 1127.43 102.774 1132.03 Q105.853 1136.62 105.853 1145.37 Q105.853 1154.09 102.774 1158.7 Q99.7187 1163.28 93.9086 1163.28 Q88.0984 1163.28 85.0197 1158.7 Q81.9642 1154.09 81.9642 1145.37 Q81.9642 1136.62 85.0197 1132.03 Q88.0984 1127.43 93.9086 1127.43 Z\" fill=\"#000000\" fill-rule=\"evenodd\" fill-opacity=\"1\" /><path clip-path=\"url(#clip940)\" d=\"M124.07 1131.13 Q120.459 1131.13 118.631 1134.69 Q116.825 1138.24 116.825 1145.37 Q116.825 1152.47 118.631 1156.04 Q120.459 1159.58 124.07 1159.58 Q127.705 1159.58 129.51 1156.04 Q131.339 1152.47 131.339 1145.37 Q131.339 1138.24 129.51 1134.69 Q127.705 1131.13 124.07 1131.13 M124.07 1127.43 Q129.881 1127.43 132.936 1132.03 Q136.015 1136.62 136.015 1145.37 Q136.015 1154.09 132.936 1158.7 Q129.881 1163.28 124.07 1163.28 Q118.26 1163.28 115.182 1158.7 Q112.126 1154.09 112.126 1145.37 Q112.126 1136.62 115.182 1132.03 Q118.26 1127.43 124.07 1127.43 Z\" fill=\"#000000\" fill-rule=\"evenodd\" fill-opacity=\"1\" /><path clip-path=\"url(#clip940)\" d=\"M57.7745 858.291 L74.0939 858.291 L74.0939 862.226 L52.1495 862.226 L52.1495 858.291 Q54.8115 855.536 59.3949 850.907 Q64.0013 846.254 65.1819 844.911 Q67.4272 842.388 68.3068 840.652 Q69.2096 838.893 69.2096 837.203 Q69.2096 834.448 67.2652 832.712 Q65.3439 830.976 62.2421 830.976 Q60.043 830.976 57.5893 831.74 Q55.1588 832.504 52.381 834.055 L52.381 829.333 Q55.2051 828.198 57.6588 827.62 Q60.1124 827.041 62.1495 827.041 Q67.5198 827.041 70.7142 829.726 Q73.9087 832.411 73.9087 836.902 Q73.9087 839.032 73.0985 840.953 Q72.3115 842.851 70.205 845.444 Q69.6263 846.115 66.5245 849.333 Q63.4226 852.527 57.7745 858.291 Z\" fill=\"#000000\" fill-rule=\"evenodd\" fill-opacity=\"1\" /><path clip-path=\"url(#clip940)\" d=\"M93.9086 830.745 Q90.2975 830.745 88.4688 834.31 Q86.6632 837.851 86.6632 844.981 Q86.6632 852.087 88.4688 855.652 Q90.2975 859.194 93.9086 859.194 Q97.5428 859.194 99.3483 855.652 Q101.177 852.087 101.177 844.981 Q101.177 837.851 99.3483 834.31 Q97.5428 830.745 93.9086 830.745 M93.9086 827.041 Q99.7187 827.041 102.774 831.647 Q105.853 836.231 105.853 844.981 Q105.853 853.708 102.774 858.314 Q99.7187 862.897 93.9086 862.897 Q88.0984 862.897 85.0197 858.314 Q81.9642 853.708 81.9642 844.981 Q81.9642 836.231 85.0197 831.647 Q88.0984 827.041 93.9086 827.041 Z\" fill=\"#000000\" fill-rule=\"evenodd\" fill-opacity=\"1\" /><path clip-path=\"url(#clip940)\" d=\"M124.07 830.745 Q120.459 830.745 118.631 834.31 Q116.825 837.851 116.825 844.981 Q116.825 852.087 118.631 855.652 Q120.459 859.194 124.07 859.194 Q127.705 859.194 129.51 855.652 Q131.339 852.087 131.339 844.981 Q131.339 837.851 129.51 834.31 Q127.705 830.745 124.07 830.745 M124.07 827.041 Q129.881 827.041 132.936 831.647 Q136.015 836.231 136.015 844.981 Q136.015 853.708 132.936 858.314 Q129.881 862.897 124.07 862.897 Q118.26 862.897 115.182 858.314 Q112.126 853.708 112.126 844.981 Q112.126 836.231 115.182 831.647 Q118.26 827.041 124.07 827.041 Z\" fill=\"#000000\" fill-rule=\"evenodd\" fill-opacity=\"1\" /><path clip-path=\"url(#clip940)\" d=\"M67.9133 543.207 Q71.2698 543.925 73.1448 546.193 Q75.0429 548.462 75.0429 551.795 Q75.0429 556.911 71.5244 559.712 Q68.0059 562.513 61.5245 562.513 Q59.3486 562.513 57.0338 562.073 Q54.7421 561.656 52.2884 560.8 L52.2884 556.286 Q54.2328 557.42 56.5477 557.999 Q58.8625 558.577 61.3856 558.577 Q65.7837 558.577 68.0754 556.841 Q70.3902 555.105 70.3902 551.795 Q70.3902 548.739 68.2374 547.026 Q66.1078 545.29 62.2884 545.29 L58.2606 545.29 L58.2606 541.448 L62.4735 541.448 Q65.9226 541.448 67.7513 540.082 Q69.58 538.693 69.58 536.101 Q69.58 533.439 67.6819 532.027 Q65.8069 530.591 62.2884 530.591 Q60.3671 530.591 58.168 531.008 Q55.969 531.425 53.3301 532.304 L53.3301 528.138 Q55.9921 527.397 58.3069 527.027 Q60.6449 526.656 62.705 526.656 Q68.0291 526.656 71.1309 529.087 Q74.2327 531.494 74.2327 535.615 Q74.2327 538.485 72.5892 540.476 Q70.9457 542.443 67.9133 543.207 Z\" fill=\"#000000\" fill-rule=\"evenodd\" fill-opacity=\"1\" /><path clip-path=\"url(#clip940)\" d=\"M93.9086 530.36 Q90.2975 530.36 88.4688 533.925 Q86.6632 537.466 86.6632 544.596 Q86.6632 551.702 88.4688 555.267 Q90.2975 558.809 93.9086 558.809 Q97.5428 558.809 99.3483 555.267 Q101.177 551.702 101.177 544.596 Q101.177 537.466 99.3483 533.925 Q97.5428 530.36 93.9086 530.36 M93.9086 526.656 Q99.7187 526.656 102.774 531.263 Q105.853 535.846 105.853 544.596 Q105.853 553.323 102.774 557.929 Q99.7187 562.513 93.9086 562.513 Q88.0984 562.513 85.0197 557.929 Q81.9642 553.323 81.9642 544.596 Q81.9642 535.846 85.0197 531.263 Q88.0984 526.656 93.9086 526.656 Z\" fill=\"#000000\" fill-rule=\"evenodd\" fill-opacity=\"1\" /><path clip-path=\"url(#clip940)\" d=\"M124.07 530.36 Q120.459 530.36 118.631 533.925 Q116.825 537.466 116.825 544.596 Q116.825 551.702 118.631 555.267 Q120.459 558.809 124.07 558.809 Q127.705 558.809 129.51 555.267 Q131.339 551.702 131.339 544.596 Q131.339 537.466 129.51 533.925 Q127.705 530.36 124.07 530.36 M124.07 526.656 Q129.881 526.656 132.936 531.263 Q136.015 535.846 136.015 544.596 Q136.015 553.323 132.936 557.929 Q129.881 562.513 124.07 562.513 Q118.26 562.513 115.182 557.929 Q112.126 553.323 112.126 544.596 Q112.126 535.846 115.182 531.263 Q118.26 526.656 124.07 526.656 Z\" fill=\"#000000\" fill-rule=\"evenodd\" fill-opacity=\"1\" /><path clip-path=\"url(#clip940)\" d=\"M66.5939 230.97 L54.7884 249.419 L66.5939 249.419 L66.5939 230.97 M65.367 226.896 L71.2466 226.896 L71.2466 249.419 L76.1772 249.419 L76.1772 253.308 L71.2466 253.308 L71.2466 261.456 L66.5939 261.456 L66.5939 253.308 L50.9921 253.308 L50.9921 248.794 L65.367 226.896 Z\" fill=\"#000000\" fill-rule=\"evenodd\" fill-opacity=\"1\" /><path clip-path=\"url(#clip940)\" d=\"M93.9086 229.975 Q90.2975 229.975 88.4688 233.54 Q86.6632 237.082 86.6632 244.211 Q86.6632 251.318 88.4688 254.882 Q90.2975 258.424 93.9086 258.424 Q97.5428 258.424 99.3483 254.882 Q101.177 251.318 101.177 244.211 Q101.177 237.082 99.3483 233.54 Q97.5428 229.975 93.9086 229.975 M93.9086 226.271 Q99.7187 226.271 102.774 230.878 Q105.853 235.461 105.853 244.211 Q105.853 252.938 102.774 257.544 Q99.7187 262.128 93.9086 262.128 Q88.0984 262.128 85.0197 257.544 Q81.9642 252.938 81.9642 244.211 Q81.9642 235.461 85.0197 230.878 Q88.0984 226.271 93.9086 226.271 Z\" fill=\"#000000\" fill-rule=\"evenodd\" fill-opacity=\"1\" /><path clip-path=\"url(#clip940)\" d=\"M124.07 229.975 Q120.459 229.975 118.631 233.54 Q116.825 237.082 116.825 244.211 Q116.825 251.318 118.631 254.882 Q120.459 258.424 124.07 258.424 Q127.705 258.424 129.51 254.882 Q131.339 251.318 131.339 244.211 Q131.339 237.082 129.51 233.54 Q127.705 229.975 124.07 229.975 M124.07 226.271 Q129.881 226.271 132.936 230.878 Q136.015 235.461 136.015 244.211 Q136.015 252.938 132.936 257.544 Q129.881 262.128 124.07 262.128 Q118.26 262.128 115.182 257.544 Q112.126 252.938 112.126 244.211 Q112.126 235.461 115.182 230.878 Q118.26 226.271 124.07 226.271 Z\" fill=\"#000000\" fill-rule=\"evenodd\" fill-opacity=\"1\" /><path clip-path=\"url(#clip942)\" d=\"\n",
       "M291.959 1439.71 L291.959 1445.72 L338.17 1445.72 L338.17 1439.71 L291.959 1439.71 L291.959 1439.71  Z\n",
       "  \" fill=\"#009af9\" fill-rule=\"evenodd\" fill-opacity=\"1\"/>\n",
       "<polyline clip-path=\"url(#clip942)\" style=\"stroke:#000000; stroke-linecap:round; stroke-linejoin:round; stroke-width:4; stroke-opacity:1; fill:none\" points=\"\n",
       "  291.959,1439.71 291.959,1445.72 338.17,1445.72 338.17,1439.71 291.959,1439.71 \n",
       "  \"/>\n",
       "<path clip-path=\"url(#clip942)\" d=\"\n",
       "M338.17 1427.69 L338.17 1445.72 L384.381 1445.72 L384.381 1427.69 L338.17 1427.69 L338.17 1427.69  Z\n",
       "  \" fill=\"#009af9\" fill-rule=\"evenodd\" fill-opacity=\"1\"/>\n",
       "<polyline clip-path=\"url(#clip942)\" style=\"stroke:#000000; stroke-linecap:round; stroke-linejoin:round; stroke-width:4; stroke-opacity:1; fill:none\" points=\"\n",
       "  338.17,1427.69 338.17,1445.72 384.381,1445.72 384.381,1427.69 338.17,1427.69 \n",
       "  \"/>\n",
       "<path clip-path=\"url(#clip942)\" d=\"\n",
       "M384.381 1403.66 L384.381 1445.72 L430.592 1445.72 L430.592 1403.66 L384.381 1403.66 L384.381 1403.66  Z\n",
       "  \" fill=\"#009af9\" fill-rule=\"evenodd\" fill-opacity=\"1\"/>\n",
       "<polyline clip-path=\"url(#clip942)\" style=\"stroke:#000000; stroke-linecap:round; stroke-linejoin:round; stroke-width:4; stroke-opacity:1; fill:none\" points=\"\n",
       "  384.381,1403.66 384.381,1445.72 430.592,1445.72 430.592,1403.66 384.381,1403.66 \n",
       "  \"/>\n",
       "<path clip-path=\"url(#clip942)\" d=\"\n",
       "M430.592 1280.5 L430.592 1445.72 L476.802 1445.72 L476.802 1280.5 L430.592 1280.5 L430.592 1280.5  Z\n",
       "  \" fill=\"#009af9\" fill-rule=\"evenodd\" fill-opacity=\"1\"/>\n",
       "<polyline clip-path=\"url(#clip942)\" style=\"stroke:#000000; stroke-linecap:round; stroke-linejoin:round; stroke-width:4; stroke-opacity:1; fill:none\" points=\"\n",
       "  430.592,1280.5 430.592,1445.72 476.802,1445.72 476.802,1280.5 430.592,1280.5 \n",
       "  \"/>\n",
       "<path clip-path=\"url(#clip942)\" d=\"\n",
       "M476.802 1103.28 L476.802 1445.72 L523.013 1445.72 L523.013 1103.28 L476.802 1103.28 L476.802 1103.28  Z\n",
       "  \" fill=\"#009af9\" fill-rule=\"evenodd\" fill-opacity=\"1\"/>\n",
       "<polyline clip-path=\"url(#clip942)\" style=\"stroke:#000000; stroke-linecap:round; stroke-linejoin:round; stroke-width:4; stroke-opacity:1; fill:none\" points=\"\n",
       "  476.802,1103.28 476.802,1445.72 523.013,1445.72 523.013,1103.28 476.802,1103.28 \n",
       "  \"/>\n",
       "<path clip-path=\"url(#clip942)\" d=\"\n",
       "M523.013 634.677 L523.013 1445.72 L569.224 1445.72 L569.224 634.677 L523.013 634.677 L523.013 634.677  Z\n",
       "  \" fill=\"#009af9\" fill-rule=\"evenodd\" fill-opacity=\"1\"/>\n",
       "<polyline clip-path=\"url(#clip942)\" style=\"stroke:#000000; stroke-linecap:round; stroke-linejoin:round; stroke-width:4; stroke-opacity:1; fill:none\" points=\"\n",
       "  523.013,634.677 523.013,1445.72 569.224,1445.72 569.224,634.677 523.013,634.677 \n",
       "  \"/>\n",
       "<path clip-path=\"url(#clip942)\" d=\"\n",
       "M569.224 87.9763 L569.224 1445.72 L615.435 1445.72 L615.435 87.9763 L569.224 87.9763 L569.224 87.9763  Z\n",
       "  \" fill=\"#009af9\" fill-rule=\"evenodd\" fill-opacity=\"1\"/>\n",
       "<polyline clip-path=\"url(#clip942)\" style=\"stroke:#000000; stroke-linecap:round; stroke-linejoin:round; stroke-width:4; stroke-opacity:1; fill:none\" points=\"\n",
       "  569.224,87.9763 569.224,1445.72 615.435,1445.72 615.435,87.9763 569.224,87.9763 \n",
       "  \"/>\n",
       "<path clip-path=\"url(#clip942)\" d=\"\n",
       "M615.435 262.199 L615.435 1445.72 L661.646 1445.72 L661.646 262.199 L615.435 262.199 L615.435 262.199  Z\n",
       "  \" fill=\"#009af9\" fill-rule=\"evenodd\" fill-opacity=\"1\"/>\n",
       "<polyline clip-path=\"url(#clip942)\" style=\"stroke:#000000; stroke-linecap:round; stroke-linejoin:round; stroke-width:4; stroke-opacity:1; fill:none\" points=\"\n",
       "  615.435,262.199 615.435,1445.72 661.646,1445.72 661.646,262.199 615.435,262.199 \n",
       "  \"/>\n",
       "<path clip-path=\"url(#clip942)\" d=\"\n",
       "M661.646 367.334 L661.646 1445.72 L707.856 1445.72 L707.856 367.334 L661.646 367.334 L661.646 367.334  Z\n",
       "  \" fill=\"#009af9\" fill-rule=\"evenodd\" fill-opacity=\"1\"/>\n",
       "<polyline clip-path=\"url(#clip942)\" style=\"stroke:#000000; stroke-linecap:round; stroke-linejoin:round; stroke-width:4; stroke-opacity:1; fill:none\" points=\"\n",
       "  661.646,367.334 661.646,1445.72 707.856,1445.72 707.856,367.334 661.646,367.334 \n",
       "  \"/>\n",
       "<path clip-path=\"url(#clip942)\" d=\"\n",
       "M707.856 445.434 L707.856 1445.72 L754.067 1445.72 L754.067 445.434 L707.856 445.434 L707.856 445.434  Z\n",
       "  \" fill=\"#009af9\" fill-rule=\"evenodd\" fill-opacity=\"1\"/>\n",
       "<polyline clip-path=\"url(#clip942)\" style=\"stroke:#000000; stroke-linecap:round; stroke-linejoin:round; stroke-width:4; stroke-opacity:1; fill:none\" points=\"\n",
       "  707.856,445.434 707.856,1445.72 754.067,1445.72 754.067,445.434 707.856,445.434 \n",
       "  \"/>\n",
       "<path clip-path=\"url(#clip942)\" d=\"\n",
       "M754.067 463.457 L754.067 1445.72 L800.278 1445.72 L800.278 463.457 L754.067 463.457 L754.067 463.457  Z\n",
       "  \" fill=\"#009af9\" fill-rule=\"evenodd\" fill-opacity=\"1\"/>\n",
       "<polyline clip-path=\"url(#clip942)\" style=\"stroke:#000000; stroke-linecap:round; stroke-linejoin:round; stroke-width:4; stroke-opacity:1; fill:none\" points=\"\n",
       "  754.067,463.457 754.067,1445.72 800.278,1445.72 800.278,463.457 754.067,463.457 \n",
       "  \"/>\n",
       "<path clip-path=\"url(#clip942)\" d=\"\n",
       "M800.278 787.873 L800.278 1445.72 L846.489 1445.72 L846.489 787.873 L800.278 787.873 L800.278 787.873  Z\n",
       "  \" fill=\"#009af9\" fill-rule=\"evenodd\" fill-opacity=\"1\"/>\n",
       "<polyline clip-path=\"url(#clip942)\" style=\"stroke:#000000; stroke-linecap:round; stroke-linejoin:round; stroke-width:4; stroke-opacity:1; fill:none\" points=\"\n",
       "  800.278,787.873 800.278,1445.72 846.489,1445.72 846.489,787.873 800.278,787.873 \n",
       "  \"/>\n",
       "<path clip-path=\"url(#clip942)\" d=\"\n",
       "M846.489 523.534 L846.489 1445.72 L892.699 1445.72 L892.699 523.534 L846.489 523.534 L846.489 523.534  Z\n",
       "  \" fill=\"#009af9\" fill-rule=\"evenodd\" fill-opacity=\"1\"/>\n",
       "<polyline clip-path=\"url(#clip942)\" style=\"stroke:#000000; stroke-linecap:round; stroke-linejoin:round; stroke-width:4; stroke-opacity:1; fill:none\" points=\"\n",
       "  846.489,523.534 846.489,1445.72 892.699,1445.72 892.699,523.534 846.489,523.534 \n",
       "  \"/>\n",
       "<path clip-path=\"url(#clip942)\" d=\"\n",
       "M892.699 893.008 L892.699 1445.72 L938.91 1445.72 L938.91 893.008 L892.699 893.008 L892.699 893.008  Z\n",
       "  \" fill=\"#009af9\" fill-rule=\"evenodd\" fill-opacity=\"1\"/>\n",
       "<polyline clip-path=\"url(#clip942)\" style=\"stroke:#000000; stroke-linecap:round; stroke-linejoin:round; stroke-width:4; stroke-opacity:1; fill:none\" points=\"\n",
       "  892.699,893.008 892.699,1445.72 938.91,1445.72 938.91,893.008 892.699,893.008 \n",
       "  \"/>\n",
       "<path clip-path=\"url(#clip942)\" d=\"\n",
       "M938.91 1010.16 L938.91 1445.72 L985.121 1445.72 L985.121 1010.16 L938.91 1010.16 L938.91 1010.16  Z\n",
       "  \" fill=\"#009af9\" fill-rule=\"evenodd\" fill-opacity=\"1\"/>\n",
       "<polyline clip-path=\"url(#clip942)\" style=\"stroke:#000000; stroke-linecap:round; stroke-linejoin:round; stroke-width:4; stroke-opacity:1; fill:none\" points=\"\n",
       "  938.91,1010.16 938.91,1445.72 985.121,1445.72 985.121,1010.16 938.91,1010.16 \n",
       "  \"/>\n",
       "<path clip-path=\"url(#clip942)\" d=\"\n",
       "M985.121 1220.43 L985.121 1445.72 L1031.33 1445.72 L1031.33 1220.43 L985.121 1220.43 L985.121 1220.43  Z\n",
       "  \" fill=\"#009af9\" fill-rule=\"evenodd\" fill-opacity=\"1\"/>\n",
       "<polyline clip-path=\"url(#clip942)\" style=\"stroke:#000000; stroke-linecap:round; stroke-linejoin:round; stroke-width:4; stroke-opacity:1; fill:none\" points=\"\n",
       "  985.121,1220.43 985.121,1445.72 1031.33,1445.72 1031.33,1220.43 985.121,1220.43 \n",
       "  \"/>\n",
       "<path clip-path=\"url(#clip942)\" d=\"\n",
       "M1031.33 1286.51 L1031.33 1445.72 L1077.54 1445.72 L1077.54 1286.51 L1031.33 1286.51 L1031.33 1286.51  Z\n",
       "  \" fill=\"#009af9\" fill-rule=\"evenodd\" fill-opacity=\"1\"/>\n",
       "<polyline clip-path=\"url(#clip942)\" style=\"stroke:#000000; stroke-linecap:round; stroke-linejoin:round; stroke-width:4; stroke-opacity:1; fill:none\" points=\"\n",
       "  1031.33,1286.51 1031.33,1445.72 1077.54,1445.72 1077.54,1286.51 1031.33,1286.51 \n",
       "  \"/>\n",
       "<path clip-path=\"url(#clip942)\" d=\"\n",
       "M1077.54 1346.59 L1077.54 1445.72 L1123.75 1445.72 L1123.75 1346.59 L1077.54 1346.59 L1077.54 1346.59  Z\n",
       "  \" fill=\"#009af9\" fill-rule=\"evenodd\" fill-opacity=\"1\"/>\n",
       "<polyline clip-path=\"url(#clip942)\" style=\"stroke:#000000; stroke-linecap:round; stroke-linejoin:round; stroke-width:4; stroke-opacity:1; fill:none\" points=\"\n",
       "  1077.54,1346.59 1077.54,1445.72 1123.75,1445.72 1123.75,1346.59 1077.54,1346.59 \n",
       "  \"/>\n",
       "<path clip-path=\"url(#clip942)\" d=\"\n",
       "M1123.75 1391.65 L1123.75 1445.72 L1169.96 1445.72 L1169.96 1391.65 L1123.75 1391.65 L1123.75 1391.65  Z\n",
       "  \" fill=\"#009af9\" fill-rule=\"evenodd\" fill-opacity=\"1\"/>\n",
       "<polyline clip-path=\"url(#clip942)\" style=\"stroke:#000000; stroke-linecap:round; stroke-linejoin:round; stroke-width:4; stroke-opacity:1; fill:none\" points=\"\n",
       "  1123.75,1391.65 1123.75,1445.72 1169.96,1445.72 1169.96,1391.65 1123.75,1391.65 \n",
       "  \"/>\n",
       "<path clip-path=\"url(#clip942)\" d=\"\n",
       "M1169.96 1418.68 L1169.96 1445.72 L1216.17 1445.72 L1216.17 1418.68 L1169.96 1418.68 L1169.96 1418.68  Z\n",
       "  \" fill=\"#009af9\" fill-rule=\"evenodd\" fill-opacity=\"1\"/>\n",
       "<polyline clip-path=\"url(#clip942)\" style=\"stroke:#000000; stroke-linecap:round; stroke-linejoin:round; stroke-width:4; stroke-opacity:1; fill:none\" points=\"\n",
       "  1169.96,1418.68 1169.96,1445.72 1216.17,1445.72 1216.17,1418.68 1169.96,1418.68 \n",
       "  \"/>\n",
       "<path clip-path=\"url(#clip942)\" d=\"\n",
       "M1216.17 1403.66 L1216.17 1445.72 L1262.39 1445.72 L1262.39 1403.66 L1216.17 1403.66 L1216.17 1403.66  Z\n",
       "  \" fill=\"#009af9\" fill-rule=\"evenodd\" fill-opacity=\"1\"/>\n",
       "<polyline clip-path=\"url(#clip942)\" style=\"stroke:#000000; stroke-linecap:round; stroke-linejoin:round; stroke-width:4; stroke-opacity:1; fill:none\" points=\"\n",
       "  1216.17,1403.66 1216.17,1445.72 1262.39,1445.72 1262.39,1403.66 1216.17,1403.66 \n",
       "  \"/>\n",
       "<path clip-path=\"url(#clip942)\" d=\"\n",
       "M1262.39 1427.69 L1262.39 1445.72 L1308.6 1445.72 L1308.6 1427.69 L1262.39 1427.69 L1262.39 1427.69  Z\n",
       "  \" fill=\"#009af9\" fill-rule=\"evenodd\" fill-opacity=\"1\"/>\n",
       "<polyline clip-path=\"url(#clip942)\" style=\"stroke:#000000; stroke-linecap:round; stroke-linejoin:round; stroke-width:4; stroke-opacity:1; fill:none\" points=\"\n",
       "  1262.39,1427.69 1262.39,1445.72 1308.6,1445.72 1308.6,1427.69 1262.39,1427.69 \n",
       "  \"/>\n",
       "<path clip-path=\"url(#clip942)\" d=\"\n",
       "M1308.6 1427.69 L1308.6 1445.72 L1354.81 1445.72 L1354.81 1427.69 L1308.6 1427.69 L1308.6 1427.69  Z\n",
       "  \" fill=\"#009af9\" fill-rule=\"evenodd\" fill-opacity=\"1\"/>\n",
       "<polyline clip-path=\"url(#clip942)\" style=\"stroke:#000000; stroke-linecap:round; stroke-linejoin:round; stroke-width:4; stroke-opacity:1; fill:none\" points=\"\n",
       "  1308.6,1427.69 1308.6,1445.72 1354.81,1445.72 1354.81,1427.69 1308.6,1427.69 \n",
       "  \"/>\n",
       "<path clip-path=\"url(#clip942)\" d=\"\n",
       "M1354.81 1421.68 L1354.81 1445.72 L1401.02 1445.72 L1401.02 1421.68 L1354.81 1421.68 L1354.81 1421.68  Z\n",
       "  \" fill=\"#009af9\" fill-rule=\"evenodd\" fill-opacity=\"1\"/>\n",
       "<polyline clip-path=\"url(#clip942)\" style=\"stroke:#000000; stroke-linecap:round; stroke-linejoin:round; stroke-width:4; stroke-opacity:1; fill:none\" points=\"\n",
       "  1354.81,1421.68 1354.81,1445.72 1401.02,1445.72 1401.02,1421.68 1354.81,1421.68 \n",
       "  \"/>\n",
       "<path clip-path=\"url(#clip942)\" d=\"\n",
       "M1401.02 1421.68 L1401.02 1445.72 L1447.23 1445.72 L1447.23 1421.68 L1401.02 1421.68 L1401.02 1421.68  Z\n",
       "  \" fill=\"#009af9\" fill-rule=\"evenodd\" fill-opacity=\"1\"/>\n",
       "<polyline clip-path=\"url(#clip942)\" style=\"stroke:#000000; stroke-linecap:round; stroke-linejoin:round; stroke-width:4; stroke-opacity:1; fill:none\" points=\"\n",
       "  1401.02,1421.68 1401.02,1445.72 1447.23,1445.72 1447.23,1421.68 1401.02,1421.68 \n",
       "  \"/>\n",
       "<path clip-path=\"url(#clip942)\" d=\"\n",
       "M1447.23 1415.68 L1447.23 1445.72 L1493.44 1445.72 L1493.44 1415.68 L1447.23 1415.68 L1447.23 1415.68  Z\n",
       "  \" fill=\"#009af9\" fill-rule=\"evenodd\" fill-opacity=\"1\"/>\n",
       "<polyline clip-path=\"url(#clip942)\" style=\"stroke:#000000; stroke-linecap:round; stroke-linejoin:round; stroke-width:4; stroke-opacity:1; fill:none\" points=\"\n",
       "  1447.23,1415.68 1447.23,1445.72 1493.44,1445.72 1493.44,1415.68 1447.23,1415.68 \n",
       "  \"/>\n",
       "<path clip-path=\"url(#clip942)\" d=\"\n",
       "M1493.44 1400.66 L1493.44 1445.72 L1539.65 1445.72 L1539.65 1400.66 L1493.44 1400.66 L1493.44 1400.66  Z\n",
       "  \" fill=\"#009af9\" fill-rule=\"evenodd\" fill-opacity=\"1\"/>\n",
       "<polyline clip-path=\"url(#clip942)\" style=\"stroke:#000000; stroke-linecap:round; stroke-linejoin:round; stroke-width:4; stroke-opacity:1; fill:none\" points=\"\n",
       "  1493.44,1400.66 1493.44,1445.72 1539.65,1445.72 1539.65,1400.66 1493.44,1400.66 \n",
       "  \"/>\n",
       "<path clip-path=\"url(#clip942)\" d=\"\n",
       "M1539.65 1415.68 L1539.65 1445.72 L1585.86 1445.72 L1585.86 1415.68 L1539.65 1415.68 L1539.65 1415.68  Z\n",
       "  \" fill=\"#009af9\" fill-rule=\"evenodd\" fill-opacity=\"1\"/>\n",
       "<polyline clip-path=\"url(#clip942)\" style=\"stroke:#000000; stroke-linecap:round; stroke-linejoin:round; stroke-width:4; stroke-opacity:1; fill:none\" points=\"\n",
       "  1539.65,1415.68 1539.65,1445.72 1585.86,1445.72 1585.86,1415.68 1539.65,1415.68 \n",
       "  \"/>\n",
       "<path clip-path=\"url(#clip942)\" d=\"\n",
       "M1585.86 1442.71 L1585.86 1445.72 L1632.07 1445.72 L1632.07 1442.71 L1585.86 1442.71 L1585.86 1442.71  Z\n",
       "  \" fill=\"#009af9\" fill-rule=\"evenodd\" fill-opacity=\"1\"/>\n",
       "<polyline clip-path=\"url(#clip942)\" style=\"stroke:#000000; stroke-linecap:round; stroke-linejoin:round; stroke-width:4; stroke-opacity:1; fill:none\" points=\"\n",
       "  1585.86,1442.71 1585.86,1445.72 1632.07,1445.72 1632.07,1442.71 1585.86,1442.71 \n",
       "  \"/>\n",
       "<path clip-path=\"url(#clip942)\" d=\"\n",
       "M1632.07 1436.7 L1632.07 1445.72 L1678.28 1445.72 L1678.28 1436.7 L1632.07 1436.7 L1632.07 1436.7  Z\n",
       "  \" fill=\"#009af9\" fill-rule=\"evenodd\" fill-opacity=\"1\"/>\n",
       "<polyline clip-path=\"url(#clip942)\" style=\"stroke:#000000; stroke-linecap:round; stroke-linejoin:round; stroke-width:4; stroke-opacity:1; fill:none\" points=\"\n",
       "  1632.07,1436.7 1632.07,1445.72 1678.28,1445.72 1678.28,1436.7 1632.07,1436.7 \n",
       "  \"/>\n",
       "<path clip-path=\"url(#clip942)\" d=\"\n",
       "M1678.28 1442.71 L1678.28 1445.72 L1724.49 1445.72 L1724.49 1442.71 L1678.28 1442.71 L1678.28 1442.71  Z\n",
       "  \" fill=\"#009af9\" fill-rule=\"evenodd\" fill-opacity=\"1\"/>\n",
       "<polyline clip-path=\"url(#clip942)\" style=\"stroke:#000000; stroke-linecap:round; stroke-linejoin:round; stroke-width:4; stroke-opacity:1; fill:none\" points=\"\n",
       "  1678.28,1442.71 1678.28,1445.72 1724.49,1445.72 1724.49,1442.71 1678.28,1442.71 \n",
       "  \"/>\n",
       "<path clip-path=\"url(#clip942)\" d=\"\n",
       "M1724.49 1442.71 L1724.49 1445.72 L1770.7 1445.72 L1770.7 1442.71 L1724.49 1442.71 L1724.49 1442.71  Z\n",
       "  \" fill=\"#009af9\" fill-rule=\"evenodd\" fill-opacity=\"1\"/>\n",
       "<polyline clip-path=\"url(#clip942)\" style=\"stroke:#000000; stroke-linecap:round; stroke-linejoin:round; stroke-width:4; stroke-opacity:1; fill:none\" points=\"\n",
       "  1724.49,1442.71 1724.49,1445.72 1770.7,1445.72 1770.7,1442.71 1724.49,1442.71 \n",
       "  \"/>\n",
       "<path clip-path=\"url(#clip942)\" d=\"\n",
       "M1770.7 1445.72 L1770.7 1445.72 L1816.91 1445.72 L1816.91 1445.72 L1770.7 1445.72 L1770.7 1445.72  Z\n",
       "  \" fill=\"#009af9\" fill-rule=\"evenodd\" fill-opacity=\"1\"/>\n",
       "<polyline clip-path=\"url(#clip942)\" style=\"stroke:#000000; stroke-linecap:round; stroke-linejoin:round; stroke-width:4; stroke-opacity:1; fill:none\" points=\"\n",
       "  1770.7,1445.72 1770.7,1445.72 1816.91,1445.72 1770.7,1445.72 \n",
       "  \"/>\n",
       "<path clip-path=\"url(#clip942)\" d=\"\n",
       "M1816.91 1442.71 L1816.91 1445.72 L1863.13 1445.72 L1863.13 1442.71 L1816.91 1442.71 L1816.91 1442.71  Z\n",
       "  \" fill=\"#009af9\" fill-rule=\"evenodd\" fill-opacity=\"1\"/>\n",
       "<polyline clip-path=\"url(#clip942)\" style=\"stroke:#000000; stroke-linecap:round; stroke-linejoin:round; stroke-width:4; stroke-opacity:1; fill:none\" points=\"\n",
       "  1816.91,1442.71 1816.91,1445.72 1863.13,1445.72 1863.13,1442.71 1816.91,1442.71 \n",
       "  \"/>\n",
       "<path clip-path=\"url(#clip942)\" d=\"\n",
       "M1863.13 1445.72 L1863.13 1445.72 L1909.34 1445.72 L1909.34 1445.72 L1863.13 1445.72 L1863.13 1445.72  Z\n",
       "  \" fill=\"#009af9\" fill-rule=\"evenodd\" fill-opacity=\"1\"/>\n",
       "<polyline clip-path=\"url(#clip942)\" style=\"stroke:#000000; stroke-linecap:round; stroke-linejoin:round; stroke-width:4; stroke-opacity:1; fill:none\" points=\"\n",
       "  1863.13,1445.72 1863.13,1445.72 1909.34,1445.72 1863.13,1445.72 \n",
       "  \"/>\n",
       "<path clip-path=\"url(#clip942)\" d=\"\n",
       "M1909.34 1436.7 L1909.34 1445.72 L1955.55 1445.72 L1955.55 1436.7 L1909.34 1436.7 L1909.34 1436.7  Z\n",
       "  \" fill=\"#009af9\" fill-rule=\"evenodd\" fill-opacity=\"1\"/>\n",
       "<polyline clip-path=\"url(#clip942)\" style=\"stroke:#000000; stroke-linecap:round; stroke-linejoin:round; stroke-width:4; stroke-opacity:1; fill:none\" points=\"\n",
       "  1909.34,1436.7 1909.34,1445.72 1955.55,1445.72 1955.55,1436.7 1909.34,1436.7 \n",
       "  \"/>\n",
       "<path clip-path=\"url(#clip942)\" d=\"\n",
       "M1955.55 1445.72 L1955.55 1445.72 L2001.76 1445.72 L2001.76 1445.72 L1955.55 1445.72 L1955.55 1445.72  Z\n",
       "  \" fill=\"#009af9\" fill-rule=\"evenodd\" fill-opacity=\"1\"/>\n",
       "<polyline clip-path=\"url(#clip942)\" style=\"stroke:#000000; stroke-linecap:round; stroke-linejoin:round; stroke-width:4; stroke-opacity:1; fill:none\" points=\"\n",
       "  1955.55,1445.72 1955.55,1445.72 2001.76,1445.72 1955.55,1445.72 \n",
       "  \"/>\n",
       "<path clip-path=\"url(#clip942)\" d=\"\n",
       "M2001.76 1445.72 L2001.76 1445.72 L2047.97 1445.72 L2047.97 1445.72 L2001.76 1445.72 L2001.76 1445.72  Z\n",
       "  \" fill=\"#009af9\" fill-rule=\"evenodd\" fill-opacity=\"1\"/>\n",
       "<polyline clip-path=\"url(#clip942)\" style=\"stroke:#000000; stroke-linecap:round; stroke-linejoin:round; stroke-width:4; stroke-opacity:1; fill:none\" points=\"\n",
       "  2001.76,1445.72 2001.76,1445.72 2047.97,1445.72 2001.76,1445.72 \n",
       "  \"/>\n",
       "<path clip-path=\"url(#clip942)\" d=\"\n",
       "M2047.97 1445.72 L2047.97 1445.72 L2094.18 1445.72 L2094.18 1445.72 L2047.97 1445.72 L2047.97 1445.72  Z\n",
       "  \" fill=\"#009af9\" fill-rule=\"evenodd\" fill-opacity=\"1\"/>\n",
       "<polyline clip-path=\"url(#clip942)\" style=\"stroke:#000000; stroke-linecap:round; stroke-linejoin:round; stroke-width:4; stroke-opacity:1; fill:none\" points=\"\n",
       "  2047.97,1445.72 2047.97,1445.72 2094.18,1445.72 2047.97,1445.72 \n",
       "  \"/>\n",
       "<path clip-path=\"url(#clip942)\" d=\"\n",
       "M2094.18 1442.71 L2094.18 1445.72 L2140.39 1445.72 L2140.39 1442.71 L2094.18 1442.71 L2094.18 1442.71  Z\n",
       "  \" fill=\"#009af9\" fill-rule=\"evenodd\" fill-opacity=\"1\"/>\n",
       "<polyline clip-path=\"url(#clip942)\" style=\"stroke:#000000; stroke-linecap:round; stroke-linejoin:round; stroke-width:4; stroke-opacity:1; fill:none\" points=\"\n",
       "  2094.18,1442.71 2094.18,1445.72 2140.39,1445.72 2140.39,1442.71 2094.18,1442.71 \n",
       "  \"/>\n",
       "<path clip-path=\"url(#clip942)\" d=\"\n",
       "M2140.39 1445.72 L2140.39 1445.72 L2186.6 1445.72 L2186.6 1445.72 L2140.39 1445.72 L2140.39 1445.72  Z\n",
       "  \" fill=\"#009af9\" fill-rule=\"evenodd\" fill-opacity=\"1\"/>\n",
       "<polyline clip-path=\"url(#clip942)\" style=\"stroke:#000000; stroke-linecap:round; stroke-linejoin:round; stroke-width:4; stroke-opacity:1; fill:none\" points=\"\n",
       "  2140.39,1445.72 2140.39,1445.72 2186.6,1445.72 2140.39,1445.72 \n",
       "  \"/>\n",
       "<path clip-path=\"url(#clip942)\" d=\"\n",
       "M2186.6 1442.71 L2186.6 1445.72 L2232.81 1445.72 L2232.81 1442.71 L2186.6 1442.71 L2186.6 1442.71  Z\n",
       "  \" fill=\"#009af9\" fill-rule=\"evenodd\" fill-opacity=\"1\"/>\n",
       "<polyline clip-path=\"url(#clip942)\" style=\"stroke:#000000; stroke-linecap:round; stroke-linejoin:round; stroke-width:4; stroke-opacity:1; fill:none\" points=\"\n",
       "  2186.6,1442.71 2186.6,1445.72 2232.81,1445.72 2232.81,1442.71 2186.6,1442.71 \n",
       "  \"/>\n",
       "<circle clip-path=\"url(#clip942)\" style=\"fill:#009af9; stroke:none; fill-opacity:0\" cx=\"315.065\" cy=\"1439.71\" r=\"2\"/>\n",
       "<circle clip-path=\"url(#clip942)\" style=\"fill:#009af9; stroke:none; fill-opacity:0\" cx=\"361.276\" cy=\"1427.69\" r=\"2\"/>\n",
       "<circle clip-path=\"url(#clip942)\" style=\"fill:#009af9; stroke:none; fill-opacity:0\" cx=\"407.486\" cy=\"1403.66\" r=\"2\"/>\n",
       "<circle clip-path=\"url(#clip942)\" style=\"fill:#009af9; stroke:none; fill-opacity:0\" cx=\"453.697\" cy=\"1280.5\" r=\"2\"/>\n",
       "<circle clip-path=\"url(#clip942)\" style=\"fill:#009af9; stroke:none; fill-opacity:0\" cx=\"499.908\" cy=\"1103.28\" r=\"2\"/>\n",
       "<circle clip-path=\"url(#clip942)\" style=\"fill:#009af9; stroke:none; fill-opacity:0\" cx=\"546.119\" cy=\"634.677\" r=\"2\"/>\n",
       "<circle clip-path=\"url(#clip942)\" style=\"fill:#009af9; stroke:none; fill-opacity:0\" cx=\"592.329\" cy=\"87.9763\" r=\"2\"/>\n",
       "<circle clip-path=\"url(#clip942)\" style=\"fill:#009af9; stroke:none; fill-opacity:0\" cx=\"638.54\" cy=\"262.199\" r=\"2\"/>\n",
       "<circle clip-path=\"url(#clip942)\" style=\"fill:#009af9; stroke:none; fill-opacity:0\" cx=\"684.751\" cy=\"367.334\" r=\"2\"/>\n",
       "<circle clip-path=\"url(#clip942)\" style=\"fill:#009af9; stroke:none; fill-opacity:0\" cx=\"730.962\" cy=\"445.434\" r=\"2\"/>\n",
       "<circle clip-path=\"url(#clip942)\" style=\"fill:#009af9; stroke:none; fill-opacity:0\" cx=\"777.172\" cy=\"463.457\" r=\"2\"/>\n",
       "<circle clip-path=\"url(#clip942)\" style=\"fill:#009af9; stroke:none; fill-opacity:0\" cx=\"823.383\" cy=\"787.873\" r=\"2\"/>\n",
       "<circle clip-path=\"url(#clip942)\" style=\"fill:#009af9; stroke:none; fill-opacity:0\" cx=\"869.594\" cy=\"523.534\" r=\"2\"/>\n",
       "<circle clip-path=\"url(#clip942)\" style=\"fill:#009af9; stroke:none; fill-opacity:0\" cx=\"915.805\" cy=\"893.008\" r=\"2\"/>\n",
       "<circle clip-path=\"url(#clip942)\" style=\"fill:#009af9; stroke:none; fill-opacity:0\" cx=\"962.015\" cy=\"1010.16\" r=\"2\"/>\n",
       "<circle clip-path=\"url(#clip942)\" style=\"fill:#009af9; stroke:none; fill-opacity:0\" cx=\"1008.23\" cy=\"1220.43\" r=\"2\"/>\n",
       "<circle clip-path=\"url(#clip942)\" style=\"fill:#009af9; stroke:none; fill-opacity:0\" cx=\"1054.44\" cy=\"1286.51\" r=\"2\"/>\n",
       "<circle clip-path=\"url(#clip942)\" style=\"fill:#009af9; stroke:none; fill-opacity:0\" cx=\"1100.65\" cy=\"1346.59\" r=\"2\"/>\n",
       "<circle clip-path=\"url(#clip942)\" style=\"fill:#009af9; stroke:none; fill-opacity:0\" cx=\"1146.86\" cy=\"1391.65\" r=\"2\"/>\n",
       "<circle clip-path=\"url(#clip942)\" style=\"fill:#009af9; stroke:none; fill-opacity:0\" cx=\"1193.07\" cy=\"1418.68\" r=\"2\"/>\n",
       "<circle clip-path=\"url(#clip942)\" style=\"fill:#009af9; stroke:none; fill-opacity:0\" cx=\"1239.28\" cy=\"1403.66\" r=\"2\"/>\n",
       "<circle clip-path=\"url(#clip942)\" style=\"fill:#009af9; stroke:none; fill-opacity:0\" cx=\"1285.49\" cy=\"1427.69\" r=\"2\"/>\n",
       "<circle clip-path=\"url(#clip942)\" style=\"fill:#009af9; stroke:none; fill-opacity:0\" cx=\"1331.7\" cy=\"1427.69\" r=\"2\"/>\n",
       "<circle clip-path=\"url(#clip942)\" style=\"fill:#009af9; stroke:none; fill-opacity:0\" cx=\"1377.91\" cy=\"1421.68\" r=\"2\"/>\n",
       "<circle clip-path=\"url(#clip942)\" style=\"fill:#009af9; stroke:none; fill-opacity:0\" cx=\"1424.12\" cy=\"1421.68\" r=\"2\"/>\n",
       "<circle clip-path=\"url(#clip942)\" style=\"fill:#009af9; stroke:none; fill-opacity:0\" cx=\"1470.33\" cy=\"1415.68\" r=\"2\"/>\n",
       "<circle clip-path=\"url(#clip942)\" style=\"fill:#009af9; stroke:none; fill-opacity:0\" cx=\"1516.54\" cy=\"1400.66\" r=\"2\"/>\n",
       "<circle clip-path=\"url(#clip942)\" style=\"fill:#009af9; stroke:none; fill-opacity:0\" cx=\"1562.76\" cy=\"1415.68\" r=\"2\"/>\n",
       "<circle clip-path=\"url(#clip942)\" style=\"fill:#009af9; stroke:none; fill-opacity:0\" cx=\"1608.97\" cy=\"1442.71\" r=\"2\"/>\n",
       "<circle clip-path=\"url(#clip942)\" style=\"fill:#009af9; stroke:none; fill-opacity:0\" cx=\"1655.18\" cy=\"1436.7\" r=\"2\"/>\n",
       "<circle clip-path=\"url(#clip942)\" style=\"fill:#009af9; stroke:none; fill-opacity:0\" cx=\"1701.39\" cy=\"1442.71\" r=\"2\"/>\n",
       "<circle clip-path=\"url(#clip942)\" style=\"fill:#009af9; stroke:none; fill-opacity:0\" cx=\"1747.6\" cy=\"1442.71\" r=\"2\"/>\n",
       "<circle clip-path=\"url(#clip942)\" style=\"fill:#009af9; stroke:none; fill-opacity:0\" cx=\"1793.81\" cy=\"1445.72\" r=\"2\"/>\n",
       "<circle clip-path=\"url(#clip942)\" style=\"fill:#009af9; stroke:none; fill-opacity:0\" cx=\"1840.02\" cy=\"1442.71\" r=\"2\"/>\n",
       "<circle clip-path=\"url(#clip942)\" style=\"fill:#009af9; stroke:none; fill-opacity:0\" cx=\"1886.23\" cy=\"1445.72\" r=\"2\"/>\n",
       "<circle clip-path=\"url(#clip942)\" style=\"fill:#009af9; stroke:none; fill-opacity:0\" cx=\"1932.44\" cy=\"1436.7\" r=\"2\"/>\n",
       "<circle clip-path=\"url(#clip942)\" style=\"fill:#009af9; stroke:none; fill-opacity:0\" cx=\"1978.65\" cy=\"1445.72\" r=\"2\"/>\n",
       "<circle clip-path=\"url(#clip942)\" style=\"fill:#009af9; stroke:none; fill-opacity:0\" cx=\"2024.86\" cy=\"1445.72\" r=\"2\"/>\n",
       "<circle clip-path=\"url(#clip942)\" style=\"fill:#009af9; stroke:none; fill-opacity:0\" cx=\"2071.07\" cy=\"1445.72\" r=\"2\"/>\n",
       "<circle clip-path=\"url(#clip942)\" style=\"fill:#009af9; stroke:none; fill-opacity:0\" cx=\"2117.28\" cy=\"1442.71\" r=\"2\"/>\n",
       "<circle clip-path=\"url(#clip942)\" style=\"fill:#009af9; stroke:none; fill-opacity:0\" cx=\"2163.5\" cy=\"1445.72\" r=\"2\"/>\n",
       "<circle clip-path=\"url(#clip942)\" style=\"fill:#009af9; stroke:none; fill-opacity:0\" cx=\"2209.71\" cy=\"1442.71\" r=\"2\"/>\n",
       "<path clip-path=\"url(#clip940)\" d=\"\n",
       "M1985.33 198.898 L2280.06 198.898 L2280.06 95.2176 L1985.33 95.2176  Z\n",
       "  \" fill=\"#ffffff\" fill-rule=\"evenodd\" fill-opacity=\"1\"/>\n",
       "<polyline clip-path=\"url(#clip940)\" style=\"stroke:#000000; stroke-linecap:round; stroke-linejoin:round; stroke-width:4; stroke-opacity:1; fill:none\" points=\"\n",
       "  1985.33,198.898 2280.06,198.898 2280.06,95.2176 1985.33,95.2176 1985.33,198.898 \n",
       "  \"/>\n",
       "<path clip-path=\"url(#clip940)\" d=\"\n",
       "M2009.56 167.794 L2154.94 167.794 L2154.94 126.322 L2009.56 126.322 L2009.56 167.794  Z\n",
       "  \" fill=\"#009af9\" fill-rule=\"evenodd\" fill-opacity=\"1\"/>\n",
       "<polyline clip-path=\"url(#clip940)\" style=\"stroke:#000000; stroke-linecap:round; stroke-linejoin:round; stroke-width:4; stroke-opacity:1; fill:none\" points=\"\n",
       "  2009.56,167.794 2154.94,167.794 2154.94,126.322 2009.56,126.322 2009.56,167.794 \n",
       "  \"/>\n",
       "<path clip-path=\"url(#clip940)\" d=\"M2193.02 166.745 Q2191.21 171.375 2189.5 172.787 Q2187.78 174.199 2184.91 174.199 L2181.51 174.199 L2181.51 170.634 L2184.01 170.634 Q2185.77 170.634 2186.74 169.8 Q2187.71 168.967 2188.9 165.865 L2189.66 163.921 L2179.17 138.412 L2183.69 138.412 L2191.79 158.689 L2199.89 138.412 L2204.4 138.412 L2193.02 166.745 Z\" fill=\"#000000\" fill-rule=\"evenodd\" fill-opacity=\"1\" /><path clip-path=\"url(#clip940)\" d=\"M2211.7 160.402 L2219.34 160.402 L2219.34 134.037 L2211.03 135.703 L2211.03 131.444 L2219.29 129.778 L2223.96 129.778 L2223.96 160.402 L2231.6 160.402 L2231.6 164.338 L2211.7 164.338 L2211.7 160.402 Z\" fill=\"#000000\" fill-rule=\"evenodd\" fill-opacity=\"1\" /></svg>\n"
      ]
     },
     "execution_count": 19,
     "metadata": {},
     "output_type": "execute_result"
    }
   ],
   "source": [
    "scores_flat = vcat(noauc_scores...)\n",
    "histogram(scores_flat) # quasi all scores are very low"
   ]
  },
  {
   "cell_type": "markdown",
   "id": "5b632fab",
   "metadata": {},
   "source": [
    "Here, not all scores are low, actually most are around 0.5-0.51, which is indeed what we would expect after scaling! Normally scores would be around 0 in [-1, 1], but now we shifted and scaled to [0, 1], so 'random' scores will be expected around 0.5"
   ]
  },
  {
   "cell_type": "markdown",
   "id": "6aaf328c",
   "metadata": {},
   "source": [
    "## 8 - Single-RBP LOGOCV"
   ]
  },
  {
   "cell_type": "code",
   "execution_count": null,
   "id": "bd0f12b9",
   "metadata": {},
   "outputs": [],
   "source": [
    "auc_scores = []\n",
    "noauc_scores = []\n",
    "sero_groups = []\n",
    "ranked_q = []\n",
    "p = Progress(200)\n",
    "\n",
    "for item in unique(loci_groups)\n",
    "    # define training and test data\n",
    "    x_train = features_bind[loci_groups .!= item]\n",
    "    y_train = labels[loci_groups .!= item]\n",
    "    x_test = features_bind[loci_groups .== item]\n",
    "    y_test = labels[loci_groups .== item]\n",
    "    phage_test = rbp_groups[loci_groups .== item]\n",
    "    \n",
    "    # train aggregates\n",
    "    positives = convert(Array{BipolarHDV}, x_train[y_train .== 1])\n",
    "    pos_aggregate = HyperdimensionalComputing.aggregate(positives)\n",
    "    \n",
    "    # loop over phage RBPs in test set\n",
    "    scores_pos = []\n",
    "    this_loci_embedding = loci_embeddings[item]\n",
    "    unbind = HyperdimensionalComputing.bind([this_loci_embedding, pos_aggregate])\n",
    "    for phage_index in phage_test\n",
    "        # get the correct rbp embeddings\n",
    "        phageid = unique(RBPbase.phage_ID)[phage_index]\n",
    "        single_rbp_subset = filter(:name => n -> n == phageid, single_rbp_embeddings)\n",
    "        \n",
    "        # make predictions for each single RBP\n",
    "        rbp_scores = []\n",
    "        for rbpi in 1:size(single_rbp_subset)[1] # loop over each single rbp embedding\n",
    "            this_rbp_embedding = BipolarHDV(Vector(single_rbp_subset[rbpi, 2:end]))\n",
    "            push!(rbp_scores, (cos_sim(this_rbp_embedding, unbind)+1)/2)\n",
    "        end\n",
    "        \n",
    "        # add max score to the list for AUC computing\n",
    "        push!(scores_pos, maximum(rbp_scores))\n",
    "    end\n",
    "    println(scores_pos)\n",
    "\n",
    "    # compute AUC\n",
    "    try\n",
    "        this_auc = roc_auc_score(y_test, scores_pos)\n",
    "        push!(auc_scores, this_auc)\n",
    "        sorted_query = y_test[sortperm(scores_pos, rev=true)] # sort labels to compute MRR later\n",
    "        push!(ranked_q, sorted_query)\n",
    "        push!(sero_groups, seros.sero[item])\n",
    "    catch\n",
    "        push!(noauc_scores, scores_pos)\n",
    "    end\n",
    "    \n",
    "    # pbar update\n",
    "    next!(p)\n",
    "end"
   ]
  },
  {
   "cell_type": "code",
   "execution_count": null,
   "id": "1636f477",
   "metadata": {},
   "outputs": [],
   "source": [
    "# print scores\n",
    "println(\"AUC: \", mean(auc_scores))\n",
    "println(\"MRR: \", mean_reciprocal_rank(ranked_q))\n",
    "\n",
    "# save scores for plotting\n",
    "logo_results = DataFrame(sero=sero_groups, auc_scores=auc_scores, ranked_queries=ranked_q)\n",
    "CSV.write(results_dir*\"/v2.3/hdc_structured_singlerbp_logocv_results.csv\", logo_results)"
   ]
  },
  {
   "cell_type": "code",
   "execution_count": null,
   "id": "80cdb9f1",
   "metadata": {},
   "outputs": [],
   "source": [
    "scores_flat = vcat(noauc_scores...)\n",
    "histogram(scores_flat) # quasi all scores are very low"
   ]
  },
  {
   "cell_type": "markdown",
   "id": "205933e6",
   "metadata": {},
   "source": [
    "## X - Tests"
   ]
  },
  {
   "cell_type": "code",
   "execution_count": 69,
   "id": "10452d24",
   "metadata": {},
   "outputs": [
    {
     "name": "stdout",
     "output_type": "stream",
     "text": [
      "\u001b[37m\u001b[1mTest Summary: | \u001b[22m\u001b[39m\u001b[32m\u001b[1mPass  \u001b[22m\u001b[39m\u001b[36m\u001b[1mTotal\u001b[22m\u001b[39m\n",
      "tests for MRR | \u001b[32m   3  \u001b[39m\u001b[36m    3\u001b[39m\n"
     ]
    }
   ],
   "source": [
    "@testset \"tests for MRR\" begin\n",
    "    @test mean_reciprocal_rank([[0, 0, 0], [0, 1, 0], [1, 0, 0]]) == 0.5\n",
    "    @test mean_reciprocal_rank([[1, 0, 0], [1, 1, 0], [1, 0, 0]]) == 1\n",
    "    A = [0 0 0; 0 1 0; 1 0 0] # Matrix\n",
    "    @test mean_reciprocal_rank(A) == 0.5\n",
    "end;"
   ]
  },
  {
   "cell_type": "code",
   "execution_count": 51,
   "id": "77d726c1",
   "metadata": {},
   "outputs": [
    {
     "name": "stdout",
     "output_type": "stream",
     "text": [
      "\u001b[37m\u001b[1mTest Summary:                          | \u001b[22m\u001b[39m\u001b[32m\u001b[1mPass  \u001b[22m\u001b[39m\u001b[36m\u001b[1mTotal\u001b[22m\u001b[39m\n",
      "tests for constructing relevant matrix | \u001b[32m   3  \u001b[39m\u001b[36m    3\u001b[39m\n"
     ]
    }
   ],
   "source": [
    "@testset \"tests for constructing relevant matrix\" begin\n",
    "    preds = [0 0 1; 1 1 0; 0 0 0]\n",
    "    labels = [0 0 1; 1 1 0; 0 0 0]\n",
    "    @test construct_relevant_matrix(preds, labels) == labels # all TPs\n",
    "    preds = [0 0 0; 1 0 0; 0 0 0]\n",
    "    labels = [0 0 1; 1 1 0; 0 0 0]\n",
    "    @test construct_relevant_matrix(preds, labels) == [0 0 0; 1 0 0; 0 0 0] # missed TPs\n",
    "    preds = [0 1 0; 1 1 0; 1 0 0]\n",
    "    labels = [0 0 1; 1 1 0; 0 0 0]\n",
    "    @test construct_relevant_matrix(preds, labels) == [0 0 0; 1 1 0; 0 0 0] # FPs\n",
    "end;"
   ]
  },
  {
   "cell_type": "code",
   "execution_count": 122,
   "id": "ecf63855",
   "metadata": {},
   "outputs": [
    {
     "name": "stdout",
     "output_type": "stream",
     "text": [
      "\u001b[37m\u001b[1mTest Summary:                  | \u001b[22m\u001b[39m\u001b[32m\u001b[1mPass  \u001b[22m\u001b[39m\u001b[36m\u001b[1mTotal\u001b[22m\u001b[39m\n",
      "tests for sorting label matrix | \u001b[32m   2  \u001b[39m\u001b[36m    2\u001b[39m\n"
     ]
    }
   ],
   "source": [
    "@testset \"tests for sorting label matrix\" begin \n",
    "    rel = [0 0 1; 1 1 0; 0 0 0]\n",
    "    scores = [0.5 0.3 1; 1 0.3 0.7; 0.2 0.3 0.3]\n",
    "    @test sort_label_matrix(scores, rel) == [1 0 0; 1 0 1; 0 0 0]\n",
    "    \n",
    "    rel = [0 0 1; 1 1 0; 0 0 0]\n",
    "    scores = [1 0.3 1; 1 0.3 0.7; 0.2 0.3 0.3] # equal score for 0 and 1\n",
    "    @test sort_label_matrix(scores, rel) == [0 1 0; 1 0 1; 0 0 0] # equals will appear in ascending order\n",
    "end;"
   ]
  },
  {
   "cell_type": "code",
   "execution_count": 124,
   "id": "522f6870",
   "metadata": {},
   "outputs": [
    {
     "name": "stdout",
     "output_type": "stream",
     "text": [
      "\u001b[37m\u001b[1mTest Summary:  | \u001b[22m\u001b[39m\u001b[32m\u001b[1mPass  \u001b[22m\u001b[39m\u001b[36m\u001b[1mTotal\u001b[22m\u001b[39m\n",
      "tests pipeline | \u001b[32m   3  \u001b[39m\u001b[36m    3\u001b[39m\n"
     ]
    }
   ],
   "source": [
    "@testset \"tests pipeline\" begin\n",
    "    preds = [0 0 1; 0 1 0; 0 0 0]\n",
    "    labels = [0 0 1; 1 1 0; 0 0 0]\n",
    "    scores = [0 0.2 0.5; 0.3 0.2 0.1; 0.2 0.4 0.3]\n",
    "    relm = construct_relevant_matrix(preds, labels)\n",
    "    sortm = sort_label_matrix(scores, relm)\n",
    "    @test construct_relevant_matrix(preds, labels) == [0 0 1; 0 1 0; 0 0 0]\n",
    "    @test sort_relevant_matrix(relm, scores) == [1 0 0; 0 1 0; 0 0 0] \n",
    "    @test mean_reciprocal_rank(sortm) == 0.5\n",
    "end;"
   ]
  },
  {
   "cell_type": "code",
   "execution_count": 28,
   "id": "01358f70",
   "metadata": {},
   "outputs": [
    {
     "name": "stdout",
     "output_type": "stream",
     "text": [
      "\u001b[37m\u001b[1mTest Summary:         | \u001b[22m\u001b[39m\u001b[32m\u001b[1mPass  \u001b[22m\u001b[39m\u001b[36m\u001b[1mTotal\u001b[22m\u001b[39m\n",
      "tests mrr from scores | \u001b[32m   1  \u001b[39m\u001b[36m    1\u001b[39m\n"
     ]
    }
   ],
   "source": [
    "@testset \"tests mrr from scores\" begin\n",
    "    labels = [0 0 1; 1 1 0; 0 0 0]\n",
    "    scores = [0 0.2 0.5; 0.3 0.5 0.6; 0.2 0.4 0.3]\n",
    "    @test mrr_from_scores(scores, labels, 0.4) == 0.5\n",
    "end;"
   ]
  },
  {
   "cell_type": "markdown",
   "id": "143556f7",
   "metadata": {},
   "source": [
    "## X - Legacy code"
   ]
  },
  {
   "cell_type": "raw",
   "id": "cee06006",
   "metadata": {},
   "source": [
    "\"\"\"\n",
    "Here, we perform a 10-fold CV over the loci, just like we do to evaluate the\n",
    "binary classifiers in Python.\n",
    "\"\"\"\n",
    "loci_known = [x for x in range(1, length=length(LociBase)) \n",
    "                if (any(isequal.(interaction_matrix[x,:], 0))) \n",
    "                    || (any(isequal.(interaction_matrix[x,:], 1)))]\n",
    "\n",
    "# shuffle loci\n",
    "loci_shuffle = shuffle(loci_known)\n",
    "\n",
    "# divide into 10 groups\n",
    "group_size = div(length(loci_shuffle), 10) + 1\n",
    "get_groups(x, n) = [x[i:min(i+n-1,length(x))] for i in 1:n:length(x)]\n",
    "loci_groups = get_groups(loci_shuffle, group_size)\n",
    "\n",
    "# loop over groups\n",
    "loci_nr = []; rbp_nr = []; scores = []; scores_pos = []; labels = []\n",
    "for group in loci_groups\n",
    "    # compute signatures for training and testing parts (group = test)\n",
    "    signatures_train_pos = []\n",
    "    signatures_train_neg = []\n",
    "    signatures_test = []\n",
    "    for (i, loci_embedding) in enumerate(loci_embeddings)\n",
    "        for (j, rbp_embedding) in enumerate(rbp_embeddings)\n",
    "            # training pos interaction\n",
    "            if isequal(interaction_matrix[i,j], 1) && i ∉ group\n",
    "                push!(signatures_train_pos, HyperdimensionalComputing.bind([loci_embedding, rbp_embedding]))\n",
    "            # training neg interaction\n",
    "            elseif isequal(interaction_matrix[i,j], 0) && i ∉ group\n",
    "                push!(signatures_train_neg, HyperdimensionalComputing.bind([loci_embedding, rbp_embedding]))\n",
    "            # test interaction\n",
    "            elseif isequal(interaction_matrix[i,j], 1) && i in group\n",
    "                push!(signatures_test, HyperdimensionalComputing.bind([loci_embedding, rbp_embedding]))\n",
    "                push!(loci_nr, i-1) # -1 to cope with indexing python\n",
    "                push!(rbp_nr, j-1)\n",
    "                push!(labels, interaction_matrix[i,j])\n",
    "            elseif isequal(interaction_matrix[i,j], 0) && i in group\n",
    "                push!(signatures_test, HyperdimensionalComputing.bind([loci_embedding, rbp_embedding]))\n",
    "                push!(loci_nr, i-1)\n",
    "                push!(rbp_nr, j-1)\n",
    "                push!(labels, interaction_matrix[i,j])\n",
    "            end\n",
    "        end\n",
    "    end\n",
    "\n",
    "    # convert signatures\n",
    "    signatures_train_pos = convert(Array{BipolarHDV}, signatures_train_pos)\n",
    "    signatures_train_neg = convert(Array{BipolarHDV}, signatures_train_neg)\n",
    "    signatures_test = convert(Array{BipolarHDV}, signatures_test)\n",
    "    println(\"train size:\", length(signatures_train_pos)+length(signatures_train_neg))\n",
    "    println(\"test size:\", length(signatures_test))\n",
    "    \n",
    "    # aggregate training signatures\n",
    "    signatures_pos_agg = HyperdimensionalComputing.aggregate(signatures_train_pos)\n",
    "    signatures_neg_agg = HyperdimensionalComputing.aggregate(signatures_train_neg)\n",
    "\n",
    "    # compute distance/similarity to test signatures\n",
    "    for test in signatures_test\n",
    "        score_pos_agg = cos_sim(signatures_pos_agg, test)\n",
    "        score_neg_agg = cos_sim(signatures_neg_agg, test)\n",
    "        push!(scores, score_pos_agg/score_neg_agg) # > 1 then pos, < 1 then neg\n",
    "        push!(scores_pos, score_pos_agg)\n",
    "    end\n",
    "end\n",
    "\n",
    "# results pos vs. neg\n",
    "results = DataFrame(locus=loci_nr, rbps=rbp_nr, scores=scores, label=labels)\n",
    "CSV.write(results_dir*\"/results_HDC_grouped10CV_\"*data_suffix*\".csv\", results)\n",
    "\n",
    "# results pos only\n",
    "results = DataFrame(locus=loci_nr, rbps=rbp_nr, scores=scores_pos, label=labels)\n",
    "CSV.write(results_dir*\"/results_HDCpos_grouped10CV_\"*data_suffix*\".csv\", results)\n",
    "\n",
    "# examine scores\n",
    "histogram(scores, xlabel=\"score\", ylabel=\"count\")\n",
    "sum(scores .< 1)/length(scores)"
   ]
  },
  {
   "cell_type": "raw",
   "id": "226146c2",
   "metadata": {},
   "source": [
    "function construct_relevant_matrix(preds_matrix, label_matrix)\n",
    "    \"\"\"\n",
    "    This function constructs a matrix of relevant predictions\n",
    "    (i.e., true positives) from the prediction matrix and label matrix.\n",
    "    \"\"\"\n",
    "    @assert size(preds_matrix) == size(label_matrix)\n",
    "    relevant_matrix = zeros(Int64, size(preds_matrix)[1], size(preds_matrix)[2])\n",
    "    for i in 1:size(preds_matrix)[1]\n",
    "        for j in 1:size(preds_matrix)[2]\n",
    "            if (preds_matrix[i,j] == label_matrix[i,j]) & (label_matrix[i,j] == 1)\n",
    "                relevant_matrix[i,j] = 1\n",
    "            end\n",
    "        end\n",
    "    end\n",
    "    return relevant_matrix\n",
    "end"
   ]
  },
  {
   "cell_type": "raw",
   "id": "085a9cd7",
   "metadata": {},
   "source": [
    "function mrr_from_scores_OLD(score_matrix, label_matrix)\n",
    "    \"\"\"\n",
    "    OLD version of the function is a wrapper for the previous functions that computes\n",
    "    the MRR starting from a matrix of (prediction) scores, a threshold above\n",
    "    which to consider an interaction positive and a label matrix.\n",
    "    \"\"\"\n",
    "    # construct the prediction matrix\n",
    "    preds_matrix = convert(Matrix{Int64}, score_matrix .> threshold)\n",
    "\n",
    "    # construct the relevant matrix\n",
    "    replace!(label_matrix, missing => 0)\n",
    "    rel_matrix = construct_relevant_matrix(preds_matrix, label_matrix)\n",
    "\n",
    "    # sort the matrix per row and compute\n",
    "    sorted_matrix = sort_relevant_matrix(rel_matrix, score_matrix)\n",
    "    \n",
    "    return mean_reciprocal_rank(sorted_matrix)\n",
    "end"
   ]
  }
 ],
 "metadata": {
  "kernelspec": {
   "display_name": "Julia 1.6.3",
   "language": "julia",
   "name": "julia-1.6"
  },
  "language_info": {
   "file_extension": ".jl",
   "mimetype": "application/julia",
   "name": "julia",
   "version": "1.6.3"
  }
 },
 "nbformat": 4,
 "nbformat_minor": 5
}
