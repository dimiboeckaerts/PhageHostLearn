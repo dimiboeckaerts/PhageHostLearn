{
 "cells": [
  {
   "cell_type": "markdown",
   "id": "f577d7df",
   "metadata": {},
   "source": [
    "# PhageHostLearn - v3.1 (Klebsiella)\n",
    "\n",
    "An AI-based Phage-Host interaction prediction framework with K-loci and receptor-binding proteins at its core. This particular PhageHostLearn is for *Klebsiella pneumoniae* related phages. This notebook follows after having ran the PhageHostLearn_processing steps implemented in the accompanying Jupyter notebook.\n",
    "\n",
    "**Architecture of this framework**: \n",
    "- Multi-RBP setting: phages consisting of one or more RBPs (multi-instance)\n",
    "- K-loci proteins (multi-instance) \n",
    "- Either language embeddings for amino acids that constitute the building blocks for HDC\n",
    "- OR random initialization of amino acid tokens\n",
    "- Convolutional vector embeddings for both sets of proteins that are bound\n",
    "- train an RF model on the embeddings and do binary classification\n",
    "\n",
    "**Overview of the notebook**:\n",
    "\n",
    "1. [Defining the necessary functions](#functions)\n",
    "2. [Transform the loci sequences into embeddings](#lociembed) using hyperdimensional vectors\n",
    "3. [Transform the RBP sequences into embeddings](#rbpembed) using hyperdimensional vectors\n",
    "4. [Compute joint features by binding](#joint)\n",
    "5. [RF](#machinelearning)"
   ]
  },
  {
   "cell_type": "markdown",
   "id": "a4cc1380",
   "metadata": {},
   "source": [
    "## 0 - Libraries and directories"
   ]
  },
  {
   "cell_type": "code",
   "execution_count": 1,
   "id": "5e3e26c3",
   "metadata": {},
   "outputs": [],
   "source": [
    "using CSV\n",
    "using MLJ\n",
    "using Test\n",
    "using JSON\n",
    "using Plots\n",
    "using FASTX\n",
    "using MLBase\n",
    "using Colors\n",
    "using Random\n",
    "using XGBoost\n",
    "using StatsBase\n",
    "using StatsPlots\n",
    "using Statistics\n",
    "using DataFrames\n",
    "using ScikitLearn\n",
    "using EvalMetrics\n",
    "using BioAlignments\n",
    "using ProgressMeter\n",
    "using LinearAlgebra\n",
    "using ProgressMeter\n",
    "using BioAlignments\n",
    "using DelimitedFiles\n",
    "using MultivariateStats\n",
    "using ScikitLearn.Pipelines: Pipeline\n",
    "using ScikitLearn.CrossValidation: train_test_split\n",
    "using ScikitLearn.GridSearch: GridSearchCV\n",
    "using ScikitLearn.Skcore: make_scorer\n",
    "\n",
    "@sk_import decomposition: PCA\n",
    "@sk_import ensemble: RandomForestClassifier\n",
    "@sk_import metrics: roc_auc_score\n",
    "\n",
    "push!(LOAD_PATH, \"/Users/dimi/Documents/GitHub/HyperdimensionalComputing.jl/src/\")\n",
    "using HyperdimensionalComputing\n",
    "\n",
    "general_dir = \"/Users/dimi/GoogleDrive/PhD/4_PHAGEHOST_LEARNING/42_DATA/Valencia_data\" # general directory\n",
    "results_dir = \"/Users/dimi/GoogleDrive/PhD/4_PHAGEHOST_LEARNING/43_RESULTS/models\"\n",
    "data_suffix = \"Valencia\"; # choose a suffix for the created data files"
   ]
  },
  {
   "cell_type": "markdown",
   "id": "a9cff52b",
   "metadata": {},
   "source": [
    "## 1 - Functions<a name=\"functions\"></a>"
   ]
  },
  {
   "cell_type": "markdown",
   "id": "21baaf27",
   "metadata": {},
   "source": [
    "#### Hyperdimensional computing"
   ]
  },
  {
   "cell_type": "code",
   "execution_count": 2,
   "id": "b8ef97a9",
   "metadata": {},
   "outputs": [
    {
     "data": {
      "text/plain": [
       "hd_vectorization (generic function with 1 method)"
      ]
     },
     "execution_count": 2,
     "metadata": {},
     "output_type": "execute_result"
    }
   ],
   "source": [
    "function hd_vectorization(sequence, tokens; layers=3, k=(6, 6, 6))\n",
    "    \"\"\"\n",
    "    Convolutional sequence vectorization with hyperdimensional vectors.\n",
    "    \n",
    "    Inputs:\n",
    "    - sequence: the sequence to embed\n",
    "    - tokens: the starting tokens to begin from, a dictionary {token->hyperdimensional_vector}\n",
    "    - layers: how many convolutional layers to embed with\n",
    "    - k: the sliding window for each of the convolution, should correspond to # layers\n",
    "    \n",
    "    Output: \n",
    "    a vector that represents the 'embedded' sequence\n",
    "    \n",
    "    To do: add padding and strides? add check: min length sequence.\n",
    "    \"\"\"\n",
    "    # preprocess the tokens (layer 0)\n",
    "    sequence_hdvs = [tokens[item] for item in sequence]\n",
    "    \n",
    "    # do convolutions\n",
    "    for layer in 1:layers\n",
    "        layer_hdvs = []\n",
    "        layer_k = k[layer]\n",
    "        for i in 1:length(sequence_hdvs)-layer_k+1\n",
    "            # select sliding window\n",
    "            window = sequence_hdvs[i:i+layer_k-1]\n",
    "            # shift the hdvs\n",
    "            shifted_hdvs = [circshift(window[j], layer_k-j) for (j, item) in enumerate(window)]\n",
    "            # bind the hdvs\n",
    "            push!(layer_hdvs, HyperdimensionalComputing.bind(shifted_hdvs))\n",
    "        end\n",
    "        # update sequence hdvs\n",
    "        sequence_hdvs = layer_hdvs\n",
    "    end\n",
    "    return HyperdimensionalComputing.aggregate(convert(Vector{BipolarHDV}, sequence_hdvs))\n",
    "end"
   ]
  },
  {
   "cell_type": "code",
   "execution_count": 3,
   "id": "33a64d98",
   "metadata": {},
   "outputs": [
    {
     "data": {
      "text/plain": [
       "convolved_embedding (generic function with 2 methods)"
      ]
     },
     "execution_count": 3,
     "metadata": {},
     "output_type": "execute_result"
    }
   ],
   "source": [
    "function convolved_embedding(sequence, tokens, k=3)\n",
    "    \"\"\"\n",
    "    Simple 2-layer convolved embedding in hyperdimensional space\n",
    "    \"\"\"\n",
    "    # layer 1\n",
    "    kmer_hdvs = []\n",
    "    for i in 1:length(sequence)-k+1\n",
    "        kmer = sequence[i:i+k-1]\n",
    "        aa_hdvs = [circshift(tokens[aa], k-l) for (l, aa) in enumerate(kmer)]\n",
    "        push!(kmer_hdvs, HyperdimensionalComputing.bind(aa_hdvs))\n",
    "    end\n",
    "    \n",
    "    # layer 2\n",
    "    conv_kmer_hdvs = []\n",
    "    for i in 1:length(kmer_hdvs)-k+1\n",
    "        convolved_kmers = kmer_hdvs[i:i+k-1]\n",
    "        conv_hdvs = [circshift(convolved_kmers[l], k-l) for (l, km) in enumerate(convolved_kmers)]\n",
    "        push!(conv_kmer_hdvs, HyperdimensionalComputing.bind(conv_hdvs))\n",
    "    end\n",
    "    \n",
    "    return HyperdimensionalComputing.aggregate(convert(Vector{BipolarHDV}, conv_kmer_hdvs))\n",
    "end"
   ]
  },
  {
   "cell_type": "markdown",
   "id": "60246368",
   "metadata": {},
   "source": [
    "##### Other"
   ]
  },
  {
   "cell_type": "code",
   "execution_count": 4,
   "id": "015ad564",
   "metadata": {},
   "outputs": [
    {
     "data": {
      "text/plain": [
       "file_to_array (generic function with 1 method)"
      ]
     },
     "execution_count": 4,
     "metadata": {},
     "output_type": "execute_result"
    }
   ],
   "source": [
    "function file_to_array(file)\n",
    "    \"\"\"\n",
    "    Function that reads a FASTA file and puts its sequences in an array.\n",
    "    \"\"\"\n",
    "    sequences = []\n",
    "    reader = FASTA.Reader(open(file, \"r\"))\n",
    "    for record in reader\n",
    "        seq = FASTA.sequence(record)\n",
    "        push!(sequences, seq)\n",
    "    end\n",
    "    return sequences\n",
    "end"
   ]
  },
  {
   "cell_type": "code",
   "execution_count": 5,
   "id": "fc871105",
   "metadata": {
    "scrolled": true
   },
   "outputs": [
    {
     "data": {
      "text/plain": [
       "mean_reciprocal_rank (generic function with 1 method)"
      ]
     },
     "execution_count": 5,
     "metadata": {},
     "output_type": "execute_result"
    }
   ],
   "source": [
    "function mean_reciprocal_rank(queries)\n",
    "    \"\"\"\n",
    "    This function computes the mean reciprocal rank for a given array or\n",
    "    matrix of queries. It deals with relevant vs. non-relevant queries that are\n",
    "    binary. If queries is a matrix, then it will compute the reciprocal ranks over\n",
    "    all rows individually (for each 'query') and then average those.\n",
    "    E.g.:\n",
    "    queries = [[0, 0, 0], [0, 1, 0], [1, 0, 0]]\n",
    "    mean_reciprocal_rank(queries) -> 0.5\n",
    "    \"\"\"\n",
    "    if isa(queries, Matrix)\n",
    "        queries_list = [queries[i,:] for i in 1:size(queries)[1]]\n",
    "        reciprocal_ranks = [sum(query) > 0 ? 1/argmax(query) : 0 for query in queries_list]\n",
    "    else\n",
    "        reciprocal_ranks = [sum(query) > 0 ? 1/argmax(query) : 0 for query in queries]\n",
    "    end\n",
    "    return mean(reciprocal_ranks)\n",
    "end"
   ]
  },
  {
   "cell_type": "code",
   "execution_count": 6,
   "id": "2641f52c",
   "metadata": {},
   "outputs": [
    {
     "data": {
      "text/plain": [
       "recallatk (generic function with 1 method)"
      ]
     },
     "execution_count": 6,
     "metadata": {},
     "output_type": "execute_result"
    }
   ],
   "source": [
    "function recallatk(queries, k)\n",
    "    \"\"\"\n",
    "    recall at top K for binary problems. Relevant items should be labeled as 1.\n",
    "    \n",
    "    Input: \n",
    "    - queries: list of lists of queries that are sorted (i.e. true labels sorted by prediction score)\n",
    "    - k: the top you want to look at\n",
    "    \"\"\"\n",
    "    recalls_k = []\n",
    "    for query in queries\n",
    "        if k > length(query)\n",
    "            k = length(query)\n",
    "        end   \n",
    "        push!(recalls_k, sum(query[1:k] .== 1) / sum(query .== 1))\n",
    "    end\n",
    "    return mean(recalls_k)\n",
    "end"
   ]
  },
  {
   "cell_type": "code",
   "execution_count": 7,
   "id": "5dd8f81a",
   "metadata": {},
   "outputs": [
    {
     "data": {
      "text/plain": [
       "hitratio (generic function with 1 method)"
      ]
     },
     "execution_count": 7,
     "metadata": {},
     "output_type": "execute_result"
    }
   ],
   "source": [
    "function hitratio(queries, k)\n",
    "    \"\"\"\n",
    "    hit ratio for in the first k elements (sorted queries)\n",
    "    \"\"\"\n",
    "    hitratios = []\n",
    "    for query in queries\n",
    "        if k > length(query)\n",
    "            k = length(query)\n",
    "        end\n",
    "        \n",
    "        if sum(query[1:k]) > 0\n",
    "            push!(hitratios, 1)\n",
    "        end\n",
    "    end\n",
    "    return sum(hitratios) / length(queries)\n",
    "end"
   ]
  },
  {
   "cell_type": "markdown",
   "id": "b809ba8f",
   "metadata": {},
   "source": [
    "## 1b - Create AA tokens from language embeddings or randomly\n",
    "\n",
    "Het tegenargument bij starten vanuit de volledige RBPs is dat enkel de globale similariteiten behouden blijven bij matrix vermenigvuldiging, en er gaat wat info verloren door bipolair maken erna. Als we starten vanop het AA niveau, dan hebben we alleen maar lokale informatie (globaal = lokaal). En we transformeren opnieuw naar bipolair dus verliezen wel wat informatie maar er blijft nog steeds meer informatie ingebakken vergeleken met random!"
   ]
  },
  {
   "cell_type": "raw",
   "id": "29b5be3f",
   "metadata": {
    "scrolled": true
   },
   "source": [
    "# Alphabet via language embeddings\n",
    "aa_embeddings = DataFrame(CSV.File(general_dir*\"/amino_acid_embeddings2.csv\"));\n",
    "amino_acids = aa_embeddings.protein_ID\n",
    "aa_emb = Matrix(aa_embeddings[:, 2:end]);\n",
    "\n",
    "# create hdv matrix where # of rows correspond to language embedding dimension\n",
    "hdv_matrix = zeros(Int64, size(aa_emb)[2], 10000)\n",
    "for i in 1:size(aa_emb)[2]\n",
    "    hdv_matrix[i,:] = BipolarHDV()\n",
    "end\n",
    "\n",
    "# do RBP matrix multiplication and turn into bipolar array\n",
    "aahdc = Matrix(aa_emb) * hdv_matrix .|> sign\n",
    "aahdc = convert(Matrix{Int64}, aahdc);\n",
    "basis = Dict(only(aa)=>BipolarHDV(aahdc[i,:]) for (i, aa) in enumerate(amino_acids));"
   ]
  },
  {
   "cell_type": "code",
   "execution_count": 8,
   "id": "7a434ee7",
   "metadata": {},
   "outputs": [],
   "source": [
    "# OR alphabet randomly\n",
    "alphabet = \"GAVLIFPSTYCMKRHWDENQX\"\n",
    "tokens = Dict(c=>BipolarHDV() for c in alphabet);"
   ]
  },
  {
   "cell_type": "markdown",
   "id": "f1db0834",
   "metadata": {},
   "source": [
    "## 2 - Computing loci embeddings<a name=\"lociembed\"></a>"
   ]
  },
  {
   "cell_type": "markdown",
   "id": "8b4dcb22",
   "metadata": {},
   "source": [
    "In this section, we define hyperdimensional vectors for the amino-acid alphabet and use these hyperdimensional vectors to construct *hyperdimensional embeddings* for our loci proteins. For the loci proteins, this is a multi-instance setting: multiple proteins will be embedded into hyperdimensional space and then those vectors are aggregated to form one final vector for each locus."
   ]
  },
  {
   "cell_type": "code",
   "execution_count": 9,
   "id": "69da2bd6",
   "metadata": {},
   "outputs": [],
   "source": [
    "# load data\n",
    "LociBase = JSON.parsefile(general_dir*\"/Locibase\"*data_suffix*\".json\")\n",
    "seros = DataFrame(CSV.File(general_dir*\"/serotypes\"*data_suffix*\".csv\"));"
   ]
  },
  {
   "cell_type": "code",
   "execution_count": 10,
   "id": "356e2c2c",
   "metadata": {},
   "outputs": [],
   "source": [
    "# compute loci embeddings w/ proteins (multi-instance)\n",
    "loci_embeddings = Array{BipolarHDV}(undef, length(LociBase))\n",
    "for (i, (name, proteins)) in enumerate(LociBase)\n",
    "    # bind within one sequence, then aggregate the different sequences\n",
    "    protein_hdvs = [hd_vectorization(string(sequence), tokens, layers=2, k=(6,6)) for sequence in proteins]\n",
    "    loci_hdv = HyperdimensionalComputing.aggregate(protein_hdvs)\n",
    "    loci_embeddings[i] = loci_hdv\n",
    "end"
   ]
  },
  {
   "cell_type": "markdown",
   "id": "a573ebc0",
   "metadata": {},
   "source": [
    "## 3 - Computing RBP embeddings<a name=\"rbpembed\"></a>\n",
    "\n",
    "We combine the vectors for each phage's RBP(s), also a multi-instance setting"
   ]
  },
  {
   "cell_type": "code",
   "execution_count": 11,
   "id": "0b646f90",
   "metadata": {},
   "outputs": [],
   "source": [
    "# load data\n",
    "RBPbase = DataFrame(CSV.File(general_dir*\"/RBPbase\"*data_suffix*\".csv\"));"
   ]
  },
  {
   "cell_type": "code",
   "execution_count": 12,
   "id": "f939d6fd",
   "metadata": {},
   "outputs": [],
   "source": [
    "# compute single-rbp embeddings\n",
    "single_rbp_embeddings = [hd_vectorization(string(sequence), tokens, layers=2, k=(6,6)) for sequence in RBPbase.protein_sequence]\n",
    "\n",
    "# put the signatures in a matrix for sklearn\n",
    "single_rbp_matrix = zeros(Int64, length(single_rbp_embeddings), 10000)\n",
    "for (i, embedding) in enumerate(single_rbp_embeddings)\n",
    "    single_rbp_matrix[i,:] = embedding\n",
    "end\n",
    "single_rbp_embeddings = hcat(DataFrame(name=RBPbase.phage_ID), DataFrame(single_rbp_matrix, :auto));"
   ]
  },
  {
   "cell_type": "code",
   "execution_count": 13,
   "id": "982319c8",
   "metadata": {},
   "outputs": [],
   "source": [
    "# compute multi-rbp embeddings\n",
    "rbp_embeddings = Array{BipolarHDV}(undef, length(unique(RBPbase.phage_ID)))\n",
    "for (i, phageid) in enumerate(unique(RBPbase.phage_ID))\n",
    "    subset = filter(row -> row.phage_ID == phageid, RBPbase)\n",
    "    protein_hdvs = [hd_vectorization(string(sequence), tokens, layers=2, k=(6,6)) for sequence in subset.protein_sequence]\n",
    "    multirbp_hdv = HyperdimensionalComputing.aggregate(protein_hdvs)\n",
    "    rbp_embeddings[i] = multirbp_hdv\n",
    "end"
   ]
  },
  {
   "cell_type": "markdown",
   "id": "3e46957e",
   "metadata": {},
   "source": [
    "## 4 - Compute joint feature representations and make dataframe for training<a name=\"joint\"></a>"
   ]
  },
  {
   "cell_type": "code",
   "execution_count": 14,
   "id": "f71dbd10",
   "metadata": {},
   "outputs": [],
   "source": [
    "IM = DataFrame(CSV.File(general_dir*\"/phage_host_interactions\"*data_suffix*\".csv\"))\n",
    "rename!(IM,:Column1 => :Host)\n",
    "interaction_matrix = Matrix(IM[1:end, 2:end])\n",
    "#loci_names = IM.accession\n",
    "#serotypes = DataFrame(CSV.File(general_dir*\"/serotypes\"*data_suffix*\".csv\"))\n",
    "#rbp_names = names(IM)[2:end];"
   ]
  },
  {
   "cell_type": "code",
   "execution_count": 15,
   "id": "4cb21946",
   "metadata": {},
   "outputs": [],
   "source": [
    "# compute sigatures for loci x RBP embeddings by BINDING\n",
    "features_bind = []\n",
    "labels = []\n",
    "groups_loci = []\n",
    "groups_phage = []\n",
    "for (i, accession) in enumerate(collect(keys(LociBase)))\n",
    "    for (j, phage_id) in enumerate(unique(RBPbase.phage_ID))\n",
    "        subset = filter(row -> row.Host == accession, IM)\n",
    "        interaction = subset[!, phage_id][1]\n",
    "        if isequal(interaction, 1) || isequal(interaction, 0)\n",
    "            signature = HyperdimensionalComputing.bind([loci_embeddings[i], rbp_embeddings[j]])\n",
    "            push!(features_bind, signature)\n",
    "            push!(labels, trunc(Int, interaction))\n",
    "            push!(groups_loci, i)\n",
    "            push!(groups_phage, j)\n",
    "        end\n",
    "    end\n",
    "end"
   ]
  },
  {
   "cell_type": "code",
   "execution_count": 16,
   "id": "01c70737",
   "metadata": {},
   "outputs": [],
   "source": [
    "# put the signatures in a matrix for sklearn\n",
    "features_b = zeros(Int64, length(features_bind), 10000)\n",
    "for i in range(1, length=length(features_bind))\n",
    "    features_b[i,:] = features_bind[i]\n",
    "end"
   ]
  },
  {
   "cell_type": "raw",
   "id": "acefc003",
   "metadata": {},
   "source": [
    "using DelimitedFiles\n",
    "full_mat = hcat(groups_loci, features_b)\n",
    "writedlm(general_dir * \"/hdc_convolved_features.txt\", full_mat)"
   ]
  },
  {
   "cell_type": "markdown",
   "id": "14d4aa51",
   "metadata": {},
   "source": [
    "## 5 - RF K-fold evaluation<a name=\"machinelearning\"></a>"
   ]
  },
  {
   "cell_type": "code",
   "execution_count": 150,
   "id": "bb2e38b1",
   "metadata": {},
   "outputs": [],
   "source": [
    "# shuffle and set test set aside\n",
    "X_train, X_test, y_train, y_test = train_test_split(features_b, labels, test_size=0.2, stratify=labels);"
   ]
  },
  {
   "cell_type": "code",
   "execution_count": 151,
   "id": "d44377ee",
   "metadata": {},
   "outputs": [],
   "source": [
    "# define model and CV\n",
    "rf = RandomForestClassifier(class_weight=\"balanced\", n_jobs=6)\n",
    "params = Dict(\"n_estimators\"=>[500, 750, 1000, 1250], \"max_depth\"=>[3, 5, 7, 9])\n",
    "cv = CrossValidation.StratifiedKFold(y_train, n_folds=5, shuffle=true, random_state=42);"
   ]
  },
  {
   "cell_type": "code",
   "execution_count": 152,
   "id": "ee6e4c03",
   "metadata": {},
   "outputs": [
    {
     "name": "stdout",
     "output_type": "stream",
     "text": [
      "Fitting 5 folds for each of 16 candidates, totalling 80 fits\n",
      "[CV] n_estimators=500, max_depth=3\n",
      "[CV] n_estimators=500, max_depth=3, score=0.77392  -  2.3s\n",
      "[CV] n_estimators=500, max_depth=3\n",
      "[CV] n_estimators=500, max_depth=3, score=0.73212  -  2.1s\n",
      "[CV] n_estimators=500, max_depth=3\n",
      "[CV] n_estimators=500, max_depth=3, score=0.69459  -  2.2s\n",
      "[CV] n_estimators=500, max_depth=3\n",
      "[CV] n_estimators=500, max_depth=3, score=0.70903  -  2.0s\n",
      "[CV] n_estimators=500, max_depth=3\n",
      "[CV] n_estimators=500, max_depth=3, score=0.77712  -  2.0s\n",
      "[CV] n_estimators=750, max_depth=3\n",
      "[CV] n_estimators=750, max_depth=3, score=0.78248  -  2.7s\n",
      "[CV] n_estimators=750, max_depth=3\n",
      "[CV] n_estimators=750, max_depth=3, score=0.72225  -  2.7s\n",
      "[CV] n_estimators=750, max_depth=3\n",
      "[CV] n_estimators=750, max_depth=3, score=0.70479  -  2.8s\n",
      "[CV] n_estimators=750, max_depth=3\n",
      "[CV] n_estimators=750, max_depth=3, score=0.71945  -  2.7s\n",
      "[CV] n_estimators=750, max_depth=3\n",
      "[CV] n_estimators=750, max_depth=3, score=0.75661  -  2.7s\n",
      "[CV] n_estimators=1000, max_depth=3\n",
      "[CV] n_estimators=1000, max_depth=3, score=0.78314  -  3.6s\n",
      "[CV] n_estimators=1000, max_depth=3\n",
      "[CV] n_estimators=1000, max_depth=3, score=0.72060  -  3.5s\n",
      "[CV] n_estimators=1000, max_depth=3\n",
      "[CV] n_estimators=1000, max_depth=3, score=0.69393  -  3.5s\n",
      "[CV] n_estimators=1000, max_depth=3\n",
      "[CV] n_estimators=1000, max_depth=3, score=0.71846  -  3.6s\n",
      "[CV] n_estimators=1000, max_depth=3\n",
      "[CV] n_estimators=1000, max_depth=3, score=0.77646  -  3.5s\n",
      "[CV] n_estimators=1250, max_depth=3\n",
      "[CV] n_estimators=1250, max_depth=3, score=0.78281  -  4.3s\n",
      "[CV] n_estimators=1250, max_depth=3\n",
      "[CV] n_estimators=1250, max_depth=3, score=0.72126  -  4.4s\n",
      "[CV] n_estimators=1250, max_depth=3\n",
      "[CV] n_estimators=1250, max_depth=3, score=0.68307  -  4.3s\n",
      "[CV] n_estimators=1250, max_depth=3\n",
      "[CV] n_estimators=1250, max_depth=3, score=0.70903  -  4.3s\n",
      "[CV] n_estimators=1250, max_depth=3\n",
      "[CV] n_estimators=1250, max_depth=3, score=0.76571  -  4.4s\n",
      "[CV] n_estimators=500, max_depth=5\n",
      "[CV] n_estimators=500, max_depth=5, score=0.73735  -  2.8s\n",
      "[CV] n_estimators=500, max_depth=5\n",
      "[CV] n_estimators=500, max_depth=5, score=0.73800  -  2.9s\n",
      "[CV] n_estimators=500, max_depth=5\n",
      "[CV] n_estimators=500, max_depth=5, score=0.67875  -  3.0s\n",
      "[CV] n_estimators=500, max_depth=5\n",
      "[CV] n_estimators=500, max_depth=5, score=0.72161  -  2.9s\n",
      "[CV] n_estimators=500, max_depth=5\n",
      "[CV] n_estimators=500, max_depth=5, score=0.66108  -  3.0s\n",
      "[CV] n_estimators=750, max_depth=5\n",
      "[CV] n_estimators=750, max_depth=5, score=0.72517  -  4.4s\n",
      "[CV] n_estimators=750, max_depth=5\n",
      "[CV] n_estimators=750, max_depth=5, score=0.76038  -  4.2s\n",
      "[CV] n_estimators=750, max_depth=5\n",
      "[CV] n_estimators=750, max_depth=5, score=0.67941  -  4.3s\n",
      "[CV] n_estimators=750, max_depth=5\n",
      "[CV] n_estimators=750, max_depth=5, score=0.72292  -  4.6s\n",
      "[CV] n_estimators=750, max_depth=5\n",
      "[CV] n_estimators=750, max_depth=5, score=0.65067  -  4.3s\n",
      "[CV] n_estimators=1000, max_depth=5\n",
      "[CV] n_estimators=1000, max_depth=5, score=0.71497  -  5.8s\n",
      "[CV] n_estimators=1000, max_depth=5\n",
      "[CV] n_estimators=1000, max_depth=5, score=0.70805  -  6.4s\n",
      "[CV] n_estimators=1000, max_depth=5\n",
      "[CV] n_estimators=1000, max_depth=5, score=0.67941  -  5.8s\n",
      "[CV] n_estimators=1000, max_depth=5\n",
      "[CV] n_estimators=1000, max_depth=5, score=0.73236  -  5.8s\n",
      "[CV] n_estimators=1000, max_depth=5\n",
      "[CV] n_estimators=1000, max_depth=5, score=0.66141  -  6.1s\n",
      "[CV] n_estimators=1250, max_depth=5\n",
      "[CV] n_estimators=1250, max_depth=5, score=0.71595  -  7.2s\n",
      "[CV] n_estimators=1250, max_depth=5\n",
      "[CV] n_estimators=1250, max_depth=5, score=0.70805  -  7.2s\n",
      "[CV] n_estimators=1250, max_depth=5\n",
      "[CV] n_estimators=1250, max_depth=5, score=0.66822  -  7.3s\n",
      "[CV] n_estimators=1250, max_depth=5\n",
      "[CV] n_estimators=1250, max_depth=5, score=0.72194  -  7.2s\n",
      "[CV] n_estimators=1250, max_depth=5\n",
      "[CV] n_estimators=1250, max_depth=5, score=0.68192  -  7.3s\n",
      "[CV] n_estimators=500, max_depth=7\n",
      "[CV] n_estimators=500, max_depth=7, score=0.72022  -  3.9s\n",
      "[CV] n_estimators=500, max_depth=7\n",
      "[CV] n_estimators=500, max_depth=7, score=0.64945  -  3.7s\n",
      "[CV] n_estimators=500, max_depth=7\n",
      "[CV] n_estimators=500, max_depth=7, score=0.66097  -  3.8s\n",
      "[CV] n_estimators=500, max_depth=7\n",
      "[CV] n_estimators=500, max_depth=7, score=0.72621  -  3.9s\n",
      "[CV] n_estimators=500, max_depth=7\n",
      "[CV] n_estimators=500, max_depth=7, score=0.63246  -  3.8s\n",
      "[CV] n_estimators=750, max_depth=7\n",
      "[CV] n_estimators=750, max_depth=7, score=0.72022  -  5.6s\n",
      "[CV] n_estimators=750, max_depth=7\n",
      "[CV] n_estimators=750, max_depth=7, score=0.65965  -  5.6s\n",
      "[CV] n_estimators=750, max_depth=7\n",
      "[CV] n_estimators=750, max_depth=7, score=0.67117  -  5.5s\n",
      "[CV] n_estimators=750, max_depth=7\n",
      "[CV] n_estimators=750, max_depth=7, score=0.70538  -  5.5s\n",
      "[CV] n_estimators=750, max_depth=7\n",
      "[CV] n_estimators=750, max_depth=7, score=0.62204  -  5.6s\n",
      "[CV] n_estimators=1000, max_depth=7\n",
      "[CV] n_estimators=1000, max_depth=7, score=0.71002  -  7.2s\n",
      "[CV] n_estimators=1000, max_depth=7\n",
      "[CV] n_estimators=1000, max_depth=7, score=0.65965  -  7.2s\n",
      "[CV] n_estimators=1000, max_depth=7\n",
      "[CV] n_estimators=1000, max_depth=7, score=0.66097  -  7.3s\n",
      "[CV] n_estimators=1000, max_depth=7\n",
      "[CV] n_estimators=1000, max_depth=7, score=0.69496  -  7.2s\n",
      "[CV] n_estimators=1000, max_depth=7\n",
      "[CV] n_estimators=1000, max_depth=7, score=0.62204  -  7.3s\n",
      "[CV] n_estimators=1250, max_depth=7\n",
      "[CV] n_estimators=1250, max_depth=7, score=0.72022  -  9.1s\n",
      "[CV] n_estimators=1250, max_depth=7\n",
      "[CV] n_estimators=1250, max_depth=7, score=0.65965  -  9.1s\n",
      "[CV] n_estimators=1250, max_depth=7\n",
      "[CV] n_estimators=1250, max_depth=7, score=0.66097  -  9.0s\n",
      "[CV] n_estimators=1250, max_depth=7\n",
      "[CV] n_estimators=1250, max_depth=7, score=0.70538  -  9.2s\n",
      "[CV] n_estimators=1250, max_depth=7\n",
      "[CV] n_estimators=1250, max_depth=7, score=0.62204  -  9.1s\n",
      "[CV] n_estimators=500, max_depth=9\n",
      "[CV] n_estimators=500, max_depth=9, score=0.68994  -  4.2s\n",
      "[CV] n_estimators=500, max_depth=9\n",
      "[CV] n_estimators=500, max_depth=9, score=0.63925  -  4.4s\n",
      "[CV] n_estimators=500, max_depth=9\n",
      "[CV] n_estimators=500, max_depth=9, score=0.64056  -  4.2s\n",
      "[CV] n_estimators=500, max_depth=9\n",
      "[CV] n_estimators=500, max_depth=9, score=0.65329  -  4.2s\n",
      "[CV] n_estimators=500, max_depth=9\n",
      "[CV] n_estimators=500, max_depth=9, score=0.61163  -  4.6s\n",
      "[CV] n_estimators=750, max_depth=9\n",
      "[CV] n_estimators=750, max_depth=9, score=0.68994  -  6.8s\n",
      "[CV] n_estimators=750, max_depth=9\n",
      "[CV] n_estimators=750, max_depth=9, score=0.63925  -  6.3s\n",
      "[CV] n_estimators=750, max_depth=9\n",
      "[CV] n_estimators=750, max_depth=9, score=0.64056  -  6.3s\n",
      "[CV] n_estimators=750, max_depth=9\n",
      "[CV] n_estimators=750, max_depth=9, score=0.65329  -  7.6s\n",
      "[CV] n_estimators=750, max_depth=9\n",
      "[CV] n_estimators=750, max_depth=9, score=0.61163  -  6.7s\n",
      "[CV] n_estimators=1000, max_depth=9\n",
      "[CV] n_estimators=1000, max_depth=9, score=0.68994  -  8.8s\n",
      "[CV] n_estimators=1000, max_depth=9\n",
      "[CV] n_estimators=1000, max_depth=9, score=0.63925  -  8.6s\n",
      "[CV] n_estimators=1000, max_depth=9\n",
      "[CV] n_estimators=1000, max_depth=9, score=0.64056  -  8.2s\n",
      "[CV] n_estimators=1000, max_depth=9\n",
      "[CV] n_estimators=1000, max_depth=9, score=0.65329  -  8.4s\n",
      "[CV] n_estimators=1000, max_depth=9\n",
      "[CV] n_estimators=1000, max_depth=9, score=0.61163  -  8.3s\n",
      "[CV] n_estimators=1250, max_depth=9\n",
      "[CV] n_estimators=1250, max_depth=9, score=0.68994  -  10.3s\n",
      "[CV] n_estimators=1250, max_depth=9\n",
      "[CV] n_estimators=1250, max_depth=9, score=0.63925  -  10.5s\n",
      "[CV] n_estimators=1250, max_depth=9\n",
      "[CV] n_estimators=1250, max_depth=9, score=0.64056  -  10.3s\n",
      "[CV] n_estimators=1250, max_depth=9\n",
      "[CV] n_estimators=1250, max_depth=9, score=0.65329  -  10.2s\n",
      "[CV] n_estimators=1250, max_depth=9\n",
      "[CV] n_estimators=1250, max_depth=9, score=0.61163  -  10.4s\n",
      "Dict{Symbol, Any}(:n_estimators => 1000, :max_depth => 3)\n"
     ]
    }
   ],
   "source": [
    "# do hyperparameter tuning\n",
    "rocauc = make_scorer(roc_auc_score)\n",
    "rf_tuned = GridSearchCV(rf, params, cv=cv, scoring=rocauc, verbose=3)\n",
    "ScikitLearn.fit!(rf_tuned, X_train, y_train)\n",
    "println(rf_tuned.best_params_)"
   ]
  },
  {
   "cell_type": "code",
   "execution_count": null,
   "id": "6ef55ba9",
   "metadata": {},
   "outputs": [],
   "source": [
    "# LANGUAGE HDC: test set evaluation\n",
    "rf = RandomForestClassifier(n_estimators=1000, max_depth=5, class_weight=\"balanced\", n_jobs=6)\n",
    "model = ScikitLearn.fit!(rf, X_train, y_train)\n",
    "scores_pos = ScikitLearn.predict_proba(model, X_test)[:,2]\n",
    "roc_auc_score(y_test, scores_pos)"
   ]
  },
  {
   "cell_type": "code",
   "execution_count": 125,
   "id": "41f62a35",
   "metadata": {},
   "outputs": [
    {
     "data": {
      "text/plain": [
       "\"/Users/dimi/GoogleDrive/PhD/4_PHAGEHOST_LEARNING/43_RESULTS/models/v3.1/hdc_convolved_6-6-3.csv\""
      ]
     },
     "execution_count": 125,
     "metadata": {},
     "output_type": "execute_result"
    }
   ],
   "source": [
    "# save scores for plotting\n",
    "results = DataFrame(labels=y_test, scores=scores_pos)\n",
    "CSV.write(results_dir*\"/v3.1/hdc_convolved_6-6-6.csv\", results)"
   ]
  },
  {
   "cell_type": "code",
   "execution_count": 20,
   "id": "57ff3f2a",
   "metadata": {},
   "outputs": [
    {
     "name": "stdout",
     "output_type": "stream",
     "text": [
      "0.5316325387869025\n"
     ]
    },
    {
     "data": {
      "text/plain": [
       "\"/Users/dimi/GoogleDrive/PhD/4_PHAGEHOST_LEARNING/43_RESULTS/models/v2.2/hdc_bind_rf_scores_random.csv\""
      ]
     },
     "execution_count": 20,
     "metadata": {},
     "output_type": "execute_result"
    }
   ],
   "source": [
    "# randomized labels\n",
    "rf = RandomForestClassifier(n_estimators=100, class_weight=\"balanced\")\n",
    "pca = PCA(n_components=200)\n",
    "pipe = Pipeline([(\"pca\", pca), (\"rf\", rf)])\n",
    "y_shuffled = shuffle(y_train)\n",
    "model = ScikitLearn.fit!(pipe, X_train, y_shuffled)\n",
    "scores_pos = ScikitLearn.predict_proba(model, X_test)[:,2]\n",
    "println(roc_auc_score(y_test, scores_pos))\n",
    "results = DataFrame(labels=y_test, scores=scores_pos)\n",
    "CSV.write(results_dir*\"/v2.2/hdc_bind_rf_scores_random.csv\", results)"
   ]
  },
  {
   "cell_type": "markdown",
   "id": "d3d6c75e",
   "metadata": {},
   "source": [
    "## 6 - RF in LOGOCV setting"
   ]
  },
  {
   "cell_type": "code",
   "execution_count": 167,
   "id": "7a8803b7",
   "metadata": {},
   "outputs": [
    {
     "name": "stderr",
     "output_type": "stream",
     "text": [
      "\u001b[32mProgress: 100%|█████████████████████████████████████████| Time: 0:31:38\u001b[39m\n"
     ]
    }
   ],
   "source": [
    "rf = RandomForestClassifier(n_estimators=1000, max_depth=5, class_weight=\"balanced\", n_jobs=6)\n",
    "noauc_scores = []\n",
    "rocauc_scores = []\n",
    "prauc_scores = []\n",
    "sero_groups = []\n",
    "ranked_q = []\n",
    "p = Progress(200)\n",
    "\n",
    "for item in unique(groups_loci)\n",
    "    # define training and test data\n",
    "    x_train = features_b[groups_loci .!= item, :]\n",
    "    y_train = labels[groups_loci .!= item]\n",
    "    x_test = features_b[groups_loci .== item, :]\n",
    "    y_test = labels[groups_loci .== item]\n",
    "    \n",
    "    # train the model\n",
    "    model = ScikitLearn.fit!(rf, x_train, y_train)\n",
    "    \n",
    "    # make predictions and keep the scores\n",
    "    scores_pos = ScikitLearn.predict_proba(model, x_test)[:,2]\n",
    "    try\n",
    "        roc_auc = roc_auc_score(y_test, scores_pos)\n",
    "        pr_auc = au_prcurve(convert(Vector{Int64}, y_test), convert(Vector{Float64}, scores_pos))\n",
    "        push!(rocauc_scores, roc_auc)\n",
    "        push!(prauc_scores, pr_auc)\n",
    "        this_sero = seros.sero[item]\n",
    "        push!(sero_groups, this_sero)\n",
    "        sorted_query = y_test[sortperm(scores_pos, rev=true)] # sort labels to compute MRR later\n",
    "        push!(ranked_q, sorted_query)\n",
    "    catch\n",
    "        push!(noauc_scores, scores_pos)\n",
    "    end\n",
    "    \n",
    "    # pbar update\n",
    "    next!(p)\n",
    "end"
   ]
  },
  {
   "cell_type": "code",
   "execution_count": 169,
   "id": "0cce3ddf",
   "metadata": {},
   "outputs": [
    {
     "name": "stdout",
     "output_type": "stream",
     "text": [
      "ROC AUC: 0.8241722679933762\n",
      "PR AUC: 0.5595060705114836\n",
      "MRR: 0.6587782066956916\n",
      "Top 10 Recall: 0.7218972628421451\n"
     ]
    }
   ],
   "source": [
    "# print scores\n",
    "println(\"ROC AUC: \", mean(rocauc_scores))\n",
    "println(\"PR AUC: \", mean(prauc_scores))\n",
    "println(\"MRR: \", mean_reciprocal_rank(ranked_q))\n",
    "println(\"Top 10 Recall: \", recallatk(ranked_q, 10))\n",
    "\n",
    "# save scores for plotting\n",
    "logo_results = DataFrame(sero=sero_groups, rocauc_scores=rocauc_scores, prauc_scores=prauc_scores, \n",
    "                            ranked_queries=ranked_q)\n",
    "CSV.write(results_dir*\"/v3.1/hdc_convolved_6-6_logocv.csv\", logo_results);"
   ]
  },
  {
   "cell_type": "code",
   "execution_count": 170,
   "id": "1a2495fd",
   "metadata": {},
   "outputs": [],
   "source": [
    "logo_results = DataFrame(CSV.File(results_dir*\"/v3.1/hdc_convolved_6-6_logocv.csv\"))\n",
    "ranked_queries = [eval(Meta.parse(logo_results.ranked_queries[i])) for i in 1:length(logo_results.ranked_queries)]\n",
    "ks = LinRange(1, 50, 50)\n",
    "recalls = [recallatk(ranked_queries, trunc(Int, k)) for k in ks]\n",
    "hits = [hitratio(ranked_queries, trunc(Int, k)) for k in ks]\n",
    "plot(ks, recalls, lw=2.5, label=\"Recall\", c=\"#508AA8\", legend=:topleft, dpi=400)\n",
    "plot!(ks, hits, lw=2.5, label=\"Hit ratio\", c=\"#BA2D0B\")\n",
    "ylims!((0.1, 1))\n",
    "savefig(results_dir*\"/v3.1/hdc_convolved_6-6_logocv_recall_hitratio.png\")"
   ]
  },
  {
   "cell_type": "code",
   "execution_count": 84,
   "id": "7d90eba1",
   "metadata": {},
   "outputs": [
    {
     "data": {
      "image/svg+xml": [
       "<?xml version=\"1.0\" encoding=\"utf-8\"?>\n",
       "<svg xmlns=\"http://www.w3.org/2000/svg\" xmlns:xlink=\"http://www.w3.org/1999/xlink\" width=\"600\" height=\"400\" viewBox=\"0 0 2400 1600\">\n",
       "<defs>\n",
       "  <clipPath id=\"clip110\">\n",
       "    <rect x=\"0\" y=\"0\" width=\"2400\" height=\"1600\"/>\n",
       "  </clipPath>\n",
       "</defs>\n",
       "<path clip-path=\"url(#clip110)\" d=\"\n",
       "M0 1600 L2400 1600 L2400 0 L0 0  Z\n",
       "  \" fill=\"#ffffff\" fill-rule=\"evenodd\" fill-opacity=\"1\"/>\n",
       "<defs>\n",
       "  <clipPath id=\"clip111\">\n",
       "    <rect x=\"480\" y=\"0\" width=\"1681\" height=\"1600\"/>\n",
       "  </clipPath>\n",
       "</defs>\n",
       "<path clip-path=\"url(#clip110)\" d=\"\n",
       "M170.857 1486.45 L2352.76 1486.45 L2352.76 47.2441 L170.857 47.2441  Z\n",
       "  \" fill=\"#ffffff\" fill-rule=\"evenodd\" fill-opacity=\"1\"/>\n",
       "<defs>\n",
       "  <clipPath id=\"clip112\">\n",
       "    <rect x=\"170\" y=\"47\" width=\"2183\" height=\"1440\"/>\n",
       "  </clipPath>\n",
       "</defs>\n",
       "<polyline clip-path=\"url(#clip112)\" style=\"stroke:#000000; stroke-linecap:round; stroke-linejoin:round; stroke-width:2; stroke-opacity:0.1; fill:none\" points=\"\n",
       "  576.437,1486.45 576.437,47.2441 \n",
       "  \"/>\n",
       "<polyline clip-path=\"url(#clip112)\" style=\"stroke:#000000; stroke-linecap:round; stroke-linejoin:round; stroke-width:2; stroke-opacity:0.1; fill:none\" points=\"\n",
       "  1147.58,1486.45 1147.58,47.2441 \n",
       "  \"/>\n",
       "<polyline clip-path=\"url(#clip112)\" style=\"stroke:#000000; stroke-linecap:round; stroke-linejoin:round; stroke-width:2; stroke-opacity:0.1; fill:none\" points=\"\n",
       "  1718.72,1486.45 1718.72,47.2441 \n",
       "  \"/>\n",
       "<polyline clip-path=\"url(#clip112)\" style=\"stroke:#000000; stroke-linecap:round; stroke-linejoin:round; stroke-width:2; stroke-opacity:0.1; fill:none\" points=\"\n",
       "  2289.86,1486.45 2289.86,47.2441 \n",
       "  \"/>\n",
       "<polyline clip-path=\"url(#clip110)\" style=\"stroke:#000000; stroke-linecap:round; stroke-linejoin:round; stroke-width:4; stroke-opacity:1; fill:none\" points=\"\n",
       "  170.857,1486.45 2352.76,1486.45 \n",
       "  \"/>\n",
       "<polyline clip-path=\"url(#clip110)\" style=\"stroke:#000000; stroke-linecap:round; stroke-linejoin:round; stroke-width:4; stroke-opacity:1; fill:none\" points=\"\n",
       "  576.437,1486.45 576.437,1467.55 \n",
       "  \"/>\n",
       "<polyline clip-path=\"url(#clip110)\" style=\"stroke:#000000; stroke-linecap:round; stroke-linejoin:round; stroke-width:4; stroke-opacity:1; fill:none\" points=\"\n",
       "  1147.58,1486.45 1147.58,1467.55 \n",
       "  \"/>\n",
       "<polyline clip-path=\"url(#clip110)\" style=\"stroke:#000000; stroke-linecap:round; stroke-linejoin:round; stroke-width:4; stroke-opacity:1; fill:none\" points=\"\n",
       "  1718.72,1486.45 1718.72,1467.55 \n",
       "  \"/>\n",
       "<polyline clip-path=\"url(#clip110)\" style=\"stroke:#000000; stroke-linecap:round; stroke-linejoin:round; stroke-width:4; stroke-opacity:1; fill:none\" points=\"\n",
       "  2289.86,1486.45 2289.86,1467.55 \n",
       "  \"/>\n",
       "<path clip-path=\"url(#clip110)\" d=\"M554.62 1517.37 Q551.008 1517.37 549.18 1520.93 Q547.374 1524.47 547.374 1531.6 Q547.374 1538.71 549.18 1542.27 Q551.008 1545.82 554.62 1545.82 Q558.254 1545.82 560.059 1542.27 Q561.888 1538.71 561.888 1531.6 Q561.888 1524.47 560.059 1520.93 Q558.254 1517.37 554.62 1517.37 M554.62 1513.66 Q560.43 1513.66 563.485 1518.27 Q566.564 1522.85 566.564 1531.6 Q566.564 1540.33 563.485 1544.94 Q560.43 1549.52 554.62 1549.52 Q548.809 1549.52 545.731 1544.94 Q542.675 1540.33 542.675 1531.6 Q542.675 1522.85 545.731 1518.27 Q548.809 1513.66 554.62 1513.66 Z\" fill=\"#000000\" fill-rule=\"evenodd\" fill-opacity=\"1\" /><path clip-path=\"url(#clip110)\" d=\"M574.781 1542.97 L579.666 1542.97 L579.666 1548.85 L574.781 1548.85 L574.781 1542.97 Z\" fill=\"#000000\" fill-rule=\"evenodd\" fill-opacity=\"1\" /><path clip-path=\"url(#clip110)\" d=\"M593.879 1544.91 L610.198 1544.91 L610.198 1548.85 L588.254 1548.85 L588.254 1544.91 Q590.916 1542.16 595.499 1537.53 Q600.105 1532.88 601.286 1531.53 Q603.531 1529.01 604.411 1527.27 Q605.314 1525.51 605.314 1523.82 Q605.314 1521.07 603.369 1519.33 Q601.448 1517.6 598.346 1517.6 Q596.147 1517.6 593.693 1518.36 Q591.263 1519.13 588.485 1520.68 L588.485 1515.95 Q591.309 1514.82 593.763 1514.24 Q596.217 1513.66 598.254 1513.66 Q603.624 1513.66 606.818 1516.35 Q610.013 1519.03 610.013 1523.52 Q610.013 1525.65 609.203 1527.57 Q608.416 1529.47 606.309 1532.07 Q605.73 1532.74 602.629 1535.95 Q599.527 1539.15 593.879 1544.91 Z\" fill=\"#000000\" fill-rule=\"evenodd\" fill-opacity=\"1\" /><path clip-path=\"url(#clip110)\" d=\"M1124.72 1517.37 Q1121.11 1517.37 1119.28 1520.93 Q1117.47 1524.47 1117.47 1531.6 Q1117.47 1538.71 1119.28 1542.27 Q1121.11 1545.82 1124.72 1545.82 Q1128.35 1545.82 1130.16 1542.27 Q1131.99 1538.71 1131.99 1531.6 Q1131.99 1524.47 1130.16 1520.93 Q1128.35 1517.37 1124.72 1517.37 M1124.72 1513.66 Q1130.53 1513.66 1133.59 1518.27 Q1136.66 1522.85 1136.66 1531.6 Q1136.66 1540.33 1133.59 1544.94 Q1130.53 1549.52 1124.72 1549.52 Q1118.91 1549.52 1115.83 1544.94 Q1112.78 1540.33 1112.78 1531.6 Q1112.78 1522.85 1115.83 1518.27 Q1118.91 1513.66 1124.72 1513.66 Z\" fill=\"#000000\" fill-rule=\"evenodd\" fill-opacity=\"1\" /><path clip-path=\"url(#clip110)\" d=\"M1144.88 1542.97 L1149.77 1542.97 L1149.77 1548.85 L1144.88 1548.85 L1144.88 1542.97 Z\" fill=\"#000000\" fill-rule=\"evenodd\" fill-opacity=\"1\" /><path clip-path=\"url(#clip110)\" d=\"M1172.8 1518.36 L1160.99 1536.81 L1172.8 1536.81 L1172.8 1518.36 M1171.57 1514.29 L1177.45 1514.29 L1177.45 1536.81 L1182.38 1536.81 L1182.38 1540.7 L1177.45 1540.7 L1177.45 1548.85 L1172.8 1548.85 L1172.8 1540.7 L1157.2 1540.7 L1157.2 1536.19 L1171.57 1514.29 Z\" fill=\"#000000\" fill-rule=\"evenodd\" fill-opacity=\"1\" /><path clip-path=\"url(#clip110)\" d=\"M1696.02 1517.37 Q1692.41 1517.37 1690.58 1520.93 Q1688.78 1524.47 1688.78 1531.6 Q1688.78 1538.71 1690.58 1542.27 Q1692.41 1545.82 1696.02 1545.82 Q1699.66 1545.82 1701.46 1542.27 Q1703.29 1538.71 1703.29 1531.6 Q1703.29 1524.47 1701.46 1520.93 Q1699.66 1517.37 1696.02 1517.37 M1696.02 1513.66 Q1701.83 1513.66 1704.89 1518.27 Q1707.97 1522.85 1707.97 1531.6 Q1707.97 1540.33 1704.89 1544.94 Q1701.83 1549.52 1696.02 1549.52 Q1690.21 1549.52 1687.13 1544.94 Q1684.08 1540.33 1684.08 1531.6 Q1684.08 1522.85 1687.13 1518.27 Q1690.21 1513.66 1696.02 1513.66 Z\" fill=\"#000000\" fill-rule=\"evenodd\" fill-opacity=\"1\" /><path clip-path=\"url(#clip110)\" d=\"M1716.19 1542.97 L1721.07 1542.97 L1721.07 1548.85 L1716.19 1548.85 L1716.19 1542.97 Z\" fill=\"#000000\" fill-rule=\"evenodd\" fill-opacity=\"1\" /><path clip-path=\"url(#clip110)\" d=\"M1741.83 1529.7 Q1738.69 1529.7 1736.83 1531.86 Q1735 1534.01 1735 1537.76 Q1735 1541.49 1736.83 1543.66 Q1738.69 1545.82 1741.83 1545.82 Q1744.98 1545.82 1746.81 1543.66 Q1748.66 1541.49 1748.66 1537.76 Q1748.66 1534.01 1746.81 1531.86 Q1744.98 1529.7 1741.83 1529.7 M1751.12 1515.05 L1751.12 1519.31 Q1749.36 1518.48 1747.55 1518.04 Q1745.77 1517.6 1744.01 1517.6 Q1739.38 1517.6 1736.93 1520.72 Q1734.5 1523.85 1734.15 1530.17 Q1735.51 1528.15 1737.57 1527.09 Q1739.63 1526 1742.11 1526 Q1747.32 1526 1750.33 1529.17 Q1753.36 1532.32 1753.36 1537.76 Q1753.36 1543.08 1750.21 1546.3 Q1747.06 1549.52 1741.83 1549.52 Q1735.84 1549.52 1732.67 1544.94 Q1729.5 1540.33 1729.5 1531.6 Q1729.5 1523.41 1733.38 1518.55 Q1737.27 1513.66 1743.82 1513.66 Q1745.58 1513.66 1747.37 1514.01 Q1749.17 1514.36 1751.12 1515.05 Z\" fill=\"#000000\" fill-rule=\"evenodd\" fill-opacity=\"1\" /><path clip-path=\"url(#clip110)\" d=\"M2267.29 1517.37 Q2263.68 1517.37 2261.85 1520.93 Q2260.05 1524.47 2260.05 1531.6 Q2260.05 1538.71 2261.85 1542.27 Q2263.68 1545.82 2267.29 1545.82 Q2270.93 1545.82 2272.73 1542.27 Q2274.56 1538.71 2274.56 1531.6 Q2274.56 1524.47 2272.73 1520.93 Q2270.93 1517.37 2267.29 1517.37 M2267.29 1513.66 Q2273.1 1513.66 2276.16 1518.27 Q2279.24 1522.85 2279.24 1531.6 Q2279.24 1540.33 2276.16 1544.94 Q2273.1 1549.52 2267.29 1549.52 Q2261.48 1549.52 2258.4 1544.94 Q2255.35 1540.33 2255.35 1531.6 Q2255.35 1522.85 2258.4 1518.27 Q2261.48 1513.66 2267.29 1513.66 Z\" fill=\"#000000\" fill-rule=\"evenodd\" fill-opacity=\"1\" /><path clip-path=\"url(#clip110)\" d=\"M2287.45 1542.97 L2292.34 1542.97 L2292.34 1548.85 L2287.45 1548.85 L2287.45 1542.97 Z\" fill=\"#000000\" fill-rule=\"evenodd\" fill-opacity=\"1\" /><path clip-path=\"url(#clip110)\" d=\"M2312.52 1532.44 Q2309.19 1532.44 2307.27 1534.22 Q2305.37 1536 2305.37 1539.13 Q2305.37 1542.25 2307.27 1544.03 Q2309.19 1545.82 2312.52 1545.82 Q2315.86 1545.82 2317.78 1544.03 Q2319.7 1542.23 2319.7 1539.13 Q2319.7 1536 2317.78 1534.22 Q2315.88 1532.44 2312.52 1532.44 M2307.85 1530.45 Q2304.84 1529.7 2303.15 1527.64 Q2301.48 1525.58 2301.48 1522.62 Q2301.48 1518.48 2304.42 1516.07 Q2307.38 1513.66 2312.52 1513.66 Q2317.69 1513.66 2320.63 1516.07 Q2323.57 1518.48 2323.57 1522.62 Q2323.57 1525.58 2321.88 1527.64 Q2320.21 1529.7 2317.22 1530.45 Q2320.6 1531.23 2322.48 1533.52 Q2324.38 1535.82 2324.38 1539.13 Q2324.38 1544.15 2321.3 1546.83 Q2318.24 1549.52 2312.52 1549.52 Q2306.81 1549.52 2303.73 1546.83 Q2300.67 1544.15 2300.67 1539.13 Q2300.67 1535.82 2302.57 1533.52 Q2304.47 1531.23 2307.85 1530.45 M2306.13 1523.06 Q2306.13 1525.75 2307.8 1527.25 Q2309.49 1528.76 2312.52 1528.76 Q2315.53 1528.76 2317.22 1527.25 Q2318.94 1525.75 2318.94 1523.06 Q2318.94 1520.38 2317.22 1518.87 Q2315.53 1517.37 2312.52 1517.37 Q2309.49 1517.37 2307.8 1518.87 Q2306.13 1520.38 2306.13 1523.06 Z\" fill=\"#000000\" fill-rule=\"evenodd\" fill-opacity=\"1\" /><polyline clip-path=\"url(#clip112)\" style=\"stroke:#000000; stroke-linecap:round; stroke-linejoin:round; stroke-width:2; stroke-opacity:0.1; fill:none\" points=\"\n",
       "  170.857,1445.72 2352.76,1445.72 \n",
       "  \"/>\n",
       "<polyline clip-path=\"url(#clip112)\" style=\"stroke:#000000; stroke-linecap:round; stroke-linejoin:round; stroke-width:2; stroke-opacity:0.1; fill:none\" points=\"\n",
       "  170.857,1184.61 2352.76,1184.61 \n",
       "  \"/>\n",
       "<polyline clip-path=\"url(#clip112)\" style=\"stroke:#000000; stroke-linecap:round; stroke-linejoin:round; stroke-width:2; stroke-opacity:0.1; fill:none\" points=\"\n",
       "  170.857,923.508 2352.76,923.508 \n",
       "  \"/>\n",
       "<polyline clip-path=\"url(#clip112)\" style=\"stroke:#000000; stroke-linecap:round; stroke-linejoin:round; stroke-width:2; stroke-opacity:0.1; fill:none\" points=\"\n",
       "  170.857,662.404 2352.76,662.404 \n",
       "  \"/>\n",
       "<polyline clip-path=\"url(#clip112)\" style=\"stroke:#000000; stroke-linecap:round; stroke-linejoin:round; stroke-width:2; stroke-opacity:0.1; fill:none\" points=\"\n",
       "  170.857,401.301 2352.76,401.301 \n",
       "  \"/>\n",
       "<polyline clip-path=\"url(#clip112)\" style=\"stroke:#000000; stroke-linecap:round; stroke-linejoin:round; stroke-width:2; stroke-opacity:0.1; fill:none\" points=\"\n",
       "  170.857,140.197 2352.76,140.197 \n",
       "  \"/>\n",
       "<polyline clip-path=\"url(#clip110)\" style=\"stroke:#000000; stroke-linecap:round; stroke-linejoin:round; stroke-width:4; stroke-opacity:1; fill:none\" points=\"\n",
       "  170.857,1486.45 170.857,47.2441 \n",
       "  \"/>\n",
       "<polyline clip-path=\"url(#clip110)\" style=\"stroke:#000000; stroke-linecap:round; stroke-linejoin:round; stroke-width:4; stroke-opacity:1; fill:none\" points=\"\n",
       "  170.857,1445.72 189.755,1445.72 \n",
       "  \"/>\n",
       "<polyline clip-path=\"url(#clip110)\" style=\"stroke:#000000; stroke-linecap:round; stroke-linejoin:round; stroke-width:4; stroke-opacity:1; fill:none\" points=\"\n",
       "  170.857,1184.61 189.755,1184.61 \n",
       "  \"/>\n",
       "<polyline clip-path=\"url(#clip110)\" style=\"stroke:#000000; stroke-linecap:round; stroke-linejoin:round; stroke-width:4; stroke-opacity:1; fill:none\" points=\"\n",
       "  170.857,923.508 189.755,923.508 \n",
       "  \"/>\n",
       "<polyline clip-path=\"url(#clip110)\" style=\"stroke:#000000; stroke-linecap:round; stroke-linejoin:round; stroke-width:4; stroke-opacity:1; fill:none\" points=\"\n",
       "  170.857,662.404 189.755,662.404 \n",
       "  \"/>\n",
       "<polyline clip-path=\"url(#clip110)\" style=\"stroke:#000000; stroke-linecap:round; stroke-linejoin:round; stroke-width:4; stroke-opacity:1; fill:none\" points=\"\n",
       "  170.857,401.301 189.755,401.301 \n",
       "  \"/>\n",
       "<polyline clip-path=\"url(#clip110)\" style=\"stroke:#000000; stroke-linecap:round; stroke-linejoin:round; stroke-width:4; stroke-opacity:1; fill:none\" points=\"\n",
       "  170.857,140.197 189.755,140.197 \n",
       "  \"/>\n",
       "<path clip-path=\"url(#clip110)\" d=\"M122.913 1431.51 Q119.302 1431.51 117.473 1435.08 Q115.668 1438.62 115.668 1445.75 Q115.668 1452.86 117.473 1456.42 Q119.302 1459.96 122.913 1459.96 Q126.547 1459.96 128.353 1456.42 Q130.182 1452.86 130.182 1445.75 Q130.182 1438.62 128.353 1435.08 Q126.547 1431.51 122.913 1431.51 M122.913 1427.81 Q128.723 1427.81 131.779 1432.42 Q134.857 1437 134.857 1445.75 Q134.857 1454.48 131.779 1459.08 Q128.723 1463.67 122.913 1463.67 Q117.103 1463.67 114.024 1459.08 Q110.969 1454.48 110.969 1445.75 Q110.969 1437 114.024 1432.42 Q117.103 1427.81 122.913 1427.81 Z\" fill=\"#000000\" fill-rule=\"evenodd\" fill-opacity=\"1\" /><path clip-path=\"url(#clip110)\" d=\"M82.7975 1167.33 L101.154 1167.33 L101.154 1171.27 L87.0799 1171.27 L87.0799 1179.74 Q88.0984 1179.39 89.1169 1179.23 Q90.1354 1179.04 91.1539 1179.04 Q96.941 1179.04 100.321 1182.22 Q103.7 1185.39 103.7 1190.8 Q103.7 1196.38 100.228 1199.48 Q96.7558 1202.56 90.4364 1202.56 Q88.2604 1202.56 85.9919 1202.19 Q83.7466 1201.82 81.3392 1201.08 L81.3392 1196.38 Q83.4225 1197.52 85.6447 1198.07 Q87.8669 1198.63 90.3438 1198.63 Q94.3484 1198.63 96.6863 1196.52 Q99.0243 1194.42 99.0243 1190.8 Q99.0243 1187.19 96.6863 1185.09 Q94.3484 1182.98 90.3438 1182.98 Q88.4688 1182.98 86.5938 1183.4 Q84.7419 1183.81 82.7975 1184.69 L82.7975 1167.33 Z\" fill=\"#000000\" fill-rule=\"evenodd\" fill-opacity=\"1\" /><path clip-path=\"url(#clip110)\" d=\"M122.913 1170.41 Q119.302 1170.41 117.473 1173.98 Q115.668 1177.52 115.668 1184.65 Q115.668 1191.75 117.473 1195.32 Q119.302 1198.86 122.913 1198.86 Q126.547 1198.86 128.353 1195.32 Q130.182 1191.75 130.182 1184.65 Q130.182 1177.52 128.353 1173.98 Q126.547 1170.41 122.913 1170.41 M122.913 1166.71 Q128.723 1166.71 131.779 1171.31 Q134.857 1175.9 134.857 1184.65 Q134.857 1193.37 131.779 1197.98 Q128.723 1202.56 122.913 1202.56 Q117.103 1202.56 114.024 1197.98 Q110.969 1193.37 110.969 1184.65 Q110.969 1175.9 114.024 1171.31 Q117.103 1166.71 122.913 1166.71 Z\" fill=\"#000000\" fill-rule=\"evenodd\" fill-opacity=\"1\" /><path clip-path=\"url(#clip110)\" d=\"M53.3995 936.853 L61.0384 936.853 L61.0384 910.487 L52.7282 912.154 L52.7282 907.895 L60.9921 906.228 L65.668 906.228 L65.668 936.853 L73.3068 936.853 L73.3068 940.788 L53.3995 940.788 L53.3995 936.853 Z\" fill=\"#000000\" fill-rule=\"evenodd\" fill-opacity=\"1\" /><path clip-path=\"url(#clip110)\" d=\"M92.7512 909.307 Q89.1401 909.307 87.3114 912.872 Q85.5058 916.413 85.5058 923.543 Q85.5058 930.649 87.3114 934.214 Q89.1401 937.756 92.7512 937.756 Q96.3854 937.756 98.1909 934.214 Q100.02 930.649 100.02 923.543 Q100.02 916.413 98.1909 912.872 Q96.3854 909.307 92.7512 909.307 M92.7512 905.603 Q98.5613 905.603 101.617 910.21 Q104.696 914.793 104.696 923.543 Q104.696 932.27 101.617 936.876 Q98.5613 941.46 92.7512 941.46 Q86.941 941.46 83.8623 936.876 Q80.8068 932.27 80.8068 923.543 Q80.8068 914.793 83.8623 910.21 Q86.941 905.603 92.7512 905.603 Z\" fill=\"#000000\" fill-rule=\"evenodd\" fill-opacity=\"1\" /><path clip-path=\"url(#clip110)\" d=\"M122.913 909.307 Q119.302 909.307 117.473 912.872 Q115.668 916.413 115.668 923.543 Q115.668 930.649 117.473 934.214 Q119.302 937.756 122.913 937.756 Q126.547 937.756 128.353 934.214 Q130.182 930.649 130.182 923.543 Q130.182 916.413 128.353 912.872 Q126.547 909.307 122.913 909.307 M122.913 905.603 Q128.723 905.603 131.779 910.21 Q134.857 914.793 134.857 923.543 Q134.857 932.27 131.779 936.876 Q128.723 941.46 122.913 941.46 Q117.103 941.46 114.024 936.876 Q110.969 932.27 110.969 923.543 Q110.969 914.793 114.024 910.21 Q117.103 905.603 122.913 905.603 Z\" fill=\"#000000\" fill-rule=\"evenodd\" fill-opacity=\"1\" /><path clip-path=\"url(#clip110)\" d=\"M53.3995 675.749 L61.0384 675.749 L61.0384 649.384 L52.7282 651.05 L52.7282 646.791 L60.9921 645.124 L65.668 645.124 L65.668 675.749 L73.3068 675.749 L73.3068 679.684 L53.3995 679.684 L53.3995 675.749 Z\" fill=\"#000000\" fill-rule=\"evenodd\" fill-opacity=\"1\" /><path clip-path=\"url(#clip110)\" d=\"M82.7975 645.124 L101.154 645.124 L101.154 649.06 L87.0799 649.06 L87.0799 657.532 Q88.0984 657.185 89.1169 657.023 Q90.1354 656.837 91.1539 656.837 Q96.941 656.837 100.321 660.009 Q103.7 663.18 103.7 668.597 Q103.7 674.175 100.228 677.277 Q96.7558 680.356 90.4364 680.356 Q88.2604 680.356 85.9919 679.985 Q83.7466 679.615 81.3392 678.874 L81.3392 674.175 Q83.4225 675.31 85.6447 675.865 Q87.8669 676.421 90.3438 676.421 Q94.3484 676.421 96.6863 674.314 Q99.0243 672.208 99.0243 668.597 Q99.0243 664.985 96.6863 662.879 Q94.3484 660.773 90.3438 660.773 Q88.4688 660.773 86.5938 661.189 Q84.7419 661.606 82.7975 662.486 L82.7975 645.124 Z\" fill=\"#000000\" fill-rule=\"evenodd\" fill-opacity=\"1\" /><path clip-path=\"url(#clip110)\" d=\"M122.913 648.203 Q119.302 648.203 117.473 651.768 Q115.668 655.31 115.668 662.439 Q115.668 669.546 117.473 673.11 Q119.302 676.652 122.913 676.652 Q126.547 676.652 128.353 673.11 Q130.182 669.546 130.182 662.439 Q130.182 655.31 128.353 651.768 Q126.547 648.203 122.913 648.203 M122.913 644.499 Q128.723 644.499 131.779 649.106 Q134.857 653.689 134.857 662.439 Q134.857 671.166 131.779 675.772 Q128.723 680.356 122.913 680.356 Q117.103 680.356 114.024 675.772 Q110.969 671.166 110.969 662.439 Q110.969 653.689 114.024 649.106 Q117.103 644.499 122.913 644.499 Z\" fill=\"#000000\" fill-rule=\"evenodd\" fill-opacity=\"1\" /><path clip-path=\"url(#clip110)\" d=\"M56.6171 414.646 L72.9365 414.646 L72.9365 418.581 L50.9921 418.581 L50.9921 414.646 Q53.6541 411.891 58.2375 407.261 Q62.8439 402.609 64.0245 401.266 Q66.2698 398.743 67.1494 397.007 Q68.0522 395.248 68.0522 393.558 Q68.0522 390.803 66.1078 389.067 Q64.1865 387.331 61.0847 387.331 Q58.8856 387.331 56.4319 388.095 Q54.0014 388.859 51.2236 390.41 L51.2236 385.687 Q54.0477 384.553 56.5014 383.974 Q58.955 383.396 60.9921 383.396 Q66.3624 383.396 69.5568 386.081 Q72.7513 388.766 72.7513 393.257 Q72.7513 395.386 71.9411 397.308 Q71.1541 399.206 69.0476 401.798 Q68.4689 402.47 65.367 405.687 Q62.2652 408.882 56.6171 414.646 Z\" fill=\"#000000\" fill-rule=\"evenodd\" fill-opacity=\"1\" /><path clip-path=\"url(#clip110)\" d=\"M92.7512 387.099 Q89.1401 387.099 87.3114 390.664 Q85.5058 394.206 85.5058 401.335 Q85.5058 408.442 87.3114 412.007 Q89.1401 415.548 92.7512 415.548 Q96.3854 415.548 98.1909 412.007 Q100.02 408.442 100.02 401.335 Q100.02 394.206 98.1909 390.664 Q96.3854 387.099 92.7512 387.099 M92.7512 383.396 Q98.5613 383.396 101.617 388.002 Q104.696 392.586 104.696 401.335 Q104.696 410.062 101.617 414.669 Q98.5613 419.252 92.7512 419.252 Q86.941 419.252 83.8623 414.669 Q80.8068 410.062 80.8068 401.335 Q80.8068 392.586 83.8623 388.002 Q86.941 383.396 92.7512 383.396 Z\" fill=\"#000000\" fill-rule=\"evenodd\" fill-opacity=\"1\" /><path clip-path=\"url(#clip110)\" d=\"M122.913 387.099 Q119.302 387.099 117.473 390.664 Q115.668 394.206 115.668 401.335 Q115.668 408.442 117.473 412.007 Q119.302 415.548 122.913 415.548 Q126.547 415.548 128.353 412.007 Q130.182 408.442 130.182 401.335 Q130.182 394.206 128.353 390.664 Q126.547 387.099 122.913 387.099 M122.913 383.396 Q128.723 383.396 131.779 388.002 Q134.857 392.586 134.857 401.335 Q134.857 410.062 131.779 414.669 Q128.723 419.252 122.913 419.252 Q117.103 419.252 114.024 414.669 Q110.969 410.062 110.969 401.335 Q110.969 392.586 114.024 388.002 Q117.103 383.396 122.913 383.396 Z\" fill=\"#000000\" fill-rule=\"evenodd\" fill-opacity=\"1\" /><path clip-path=\"url(#clip110)\" d=\"M56.6171 153.542 L72.9365 153.542 L72.9365 157.477 L50.9921 157.477 L50.9921 153.542 Q53.6541 150.787 58.2375 146.158 Q62.8439 141.505 64.0245 140.162 Q66.2698 137.639 67.1494 135.903 Q68.0522 134.144 68.0522 132.454 Q68.0522 129.699 66.1078 127.963 Q64.1865 126.227 61.0847 126.227 Q58.8856 126.227 56.4319 126.991 Q54.0014 127.755 51.2236 129.306 L51.2236 124.584 Q54.0477 123.449 56.5014 122.871 Q58.955 122.292 60.9921 122.292 Q66.3624 122.292 69.5568 124.977 Q72.7513 127.662 72.7513 132.153 Q72.7513 134.283 71.9411 136.204 Q71.1541 138.102 69.0476 140.695 Q68.4689 141.366 65.367 144.584 Q62.2652 147.778 56.6171 153.542 Z\" fill=\"#000000\" fill-rule=\"evenodd\" fill-opacity=\"1\" /><path clip-path=\"url(#clip110)\" d=\"M82.7975 122.917 L101.154 122.917 L101.154 126.852 L87.0799 126.852 L87.0799 135.324 Q88.0984 134.977 89.1169 134.815 Q90.1354 134.63 91.1539 134.63 Q96.941 134.63 100.321 137.801 Q103.7 140.972 103.7 146.389 Q103.7 151.968 100.228 155.07 Q96.7558 158.148 90.4364 158.148 Q88.2604 158.148 85.9919 157.778 Q83.7466 157.408 81.3392 156.667 L81.3392 151.968 Q83.4225 153.102 85.6447 153.658 Q87.8669 154.213 90.3438 154.213 Q94.3484 154.213 96.6863 152.107 Q99.0243 150 99.0243 146.389 Q99.0243 142.778 96.6863 140.672 Q94.3484 138.565 90.3438 138.565 Q88.4688 138.565 86.5938 138.982 Q84.7419 139.398 82.7975 140.278 L82.7975 122.917 Z\" fill=\"#000000\" fill-rule=\"evenodd\" fill-opacity=\"1\" /><path clip-path=\"url(#clip110)\" d=\"M122.913 125.996 Q119.302 125.996 117.473 129.561 Q115.668 133.102 115.668 140.232 Q115.668 147.338 117.473 150.903 Q119.302 154.445 122.913 154.445 Q126.547 154.445 128.353 150.903 Q130.182 147.338 130.182 140.232 Q130.182 133.102 128.353 129.561 Q126.547 125.996 122.913 125.996 M122.913 122.292 Q128.723 122.292 131.779 126.898 Q134.857 131.482 134.857 140.232 Q134.857 148.959 131.779 153.565 Q128.723 158.148 122.913 158.148 Q117.103 158.148 114.024 153.565 Q110.969 148.959 110.969 140.232 Q110.969 131.482 114.024 126.898 Q117.103 122.292 122.913 122.292 Z\" fill=\"#000000\" fill-rule=\"evenodd\" fill-opacity=\"1\" /><path clip-path=\"url(#clip112)\" d=\"\n",
       "M290.866 1440.49 L290.866 1445.72 L319.423 1445.72 L319.423 1440.49 L290.866 1440.49 L290.866 1440.49  Z\n",
       "  \" fill=\"#009af9\" fill-rule=\"evenodd\" fill-opacity=\"1\"/>\n",
       "<polyline clip-path=\"url(#clip112)\" style=\"stroke:#000000; stroke-linecap:round; stroke-linejoin:round; stroke-width:4; stroke-opacity:1; fill:none\" points=\"\n",
       "  290.866,1440.49 290.866,1445.72 319.423,1445.72 319.423,1440.49 290.866,1440.49 \n",
       "  \"/>\n",
       "<path clip-path=\"url(#clip112)\" d=\"\n",
       "M319.423 1372.61 L319.423 1445.72 L347.98 1445.72 L347.98 1372.61 L319.423 1372.61 L319.423 1372.61  Z\n",
       "  \" fill=\"#009af9\" fill-rule=\"evenodd\" fill-opacity=\"1\"/>\n",
       "<polyline clip-path=\"url(#clip112)\" style=\"stroke:#000000; stroke-linecap:round; stroke-linejoin:round; stroke-width:4; stroke-opacity:1; fill:none\" points=\"\n",
       "  319.423,1372.61 319.423,1445.72 347.98,1445.72 347.98,1372.61 319.423,1372.61 \n",
       "  \"/>\n",
       "<path clip-path=\"url(#clip112)\" d=\"\n",
       "M347.98 1137.61 L347.98 1445.72 L376.537 1445.72 L376.537 1137.61 L347.98 1137.61 L347.98 1137.61  Z\n",
       "  \" fill=\"#009af9\" fill-rule=\"evenodd\" fill-opacity=\"1\"/>\n",
       "<polyline clip-path=\"url(#clip112)\" style=\"stroke:#000000; stroke-linecap:round; stroke-linejoin:round; stroke-width:4; stroke-opacity:1; fill:none\" points=\"\n",
       "  347.98,1137.61 347.98,1445.72 376.537,1445.72 376.537,1137.61 347.98,1137.61 \n",
       "  \"/>\n",
       "<path clip-path=\"url(#clip112)\" d=\"\n",
       "M376.537 1127.17 L376.537 1445.72 L405.094 1445.72 L405.094 1127.17 L376.537 1127.17 L376.537 1127.17  Z\n",
       "  \" fill=\"#009af9\" fill-rule=\"evenodd\" fill-opacity=\"1\"/>\n",
       "<polyline clip-path=\"url(#clip112)\" style=\"stroke:#000000; stroke-linecap:round; stroke-linejoin:round; stroke-width:4; stroke-opacity:1; fill:none\" points=\"\n",
       "  376.537,1127.17 376.537,1445.72 405.094,1445.72 405.094,1127.17 376.537,1127.17 \n",
       "  \"/>\n",
       "<path clip-path=\"url(#clip112)\" d=\"\n",
       "M405.094 1007.06 L405.094 1445.72 L433.651 1445.72 L433.651 1007.06 L405.094 1007.06 L405.094 1007.06  Z\n",
       "  \" fill=\"#009af9\" fill-rule=\"evenodd\" fill-opacity=\"1\"/>\n",
       "<polyline clip-path=\"url(#clip112)\" style=\"stroke:#000000; stroke-linecap:round; stroke-linejoin:round; stroke-width:4; stroke-opacity:1; fill:none\" points=\"\n",
       "  405.094,1007.06 405.094,1445.72 433.651,1445.72 433.651,1007.06 405.094,1007.06 \n",
       "  \"/>\n",
       "<path clip-path=\"url(#clip112)\" d=\"\n",
       "M433.651 1048.84 L433.651 1445.72 L462.208 1445.72 L462.208 1048.84 L433.651 1048.84 L433.651 1048.84  Z\n",
       "  \" fill=\"#009af9\" fill-rule=\"evenodd\" fill-opacity=\"1\"/>\n",
       "<polyline clip-path=\"url(#clip112)\" style=\"stroke:#000000; stroke-linecap:round; stroke-linejoin:round; stroke-width:4; stroke-opacity:1; fill:none\" points=\"\n",
       "  433.651,1048.84 433.651,1445.72 462.208,1445.72 462.208,1048.84 433.651,1048.84 \n",
       "  \"/>\n",
       "<path clip-path=\"url(#clip112)\" d=\"\n",
       "M462.208 965.285 L462.208 1445.72 L490.765 1445.72 L490.765 965.285 L462.208 965.285 L462.208 965.285  Z\n",
       "  \" fill=\"#009af9\" fill-rule=\"evenodd\" fill-opacity=\"1\"/>\n",
       "<polyline clip-path=\"url(#clip112)\" style=\"stroke:#000000; stroke-linecap:round; stroke-linejoin:round; stroke-width:4; stroke-opacity:1; fill:none\" points=\"\n",
       "  462.208,965.285 462.208,1445.72 490.765,1445.72 490.765,965.285 462.208,965.285 \n",
       "  \"/>\n",
       "<path clip-path=\"url(#clip112)\" d=\"\n",
       "M490.765 1189.83 L490.765 1445.72 L519.322 1445.72 L519.322 1189.83 L490.765 1189.83 L490.765 1189.83  Z\n",
       "  \" fill=\"#009af9\" fill-rule=\"evenodd\" fill-opacity=\"1\"/>\n",
       "<polyline clip-path=\"url(#clip112)\" style=\"stroke:#000000; stroke-linecap:round; stroke-linejoin:round; stroke-width:4; stroke-opacity:1; fill:none\" points=\"\n",
       "  490.765,1189.83 490.765,1445.72 519.322,1445.72 519.322,1189.83 490.765,1189.83 \n",
       "  \"/>\n",
       "<path clip-path=\"url(#clip112)\" d=\"\n",
       "M519.322 1226.39 L519.322 1445.72 L547.879 1445.72 L547.879 1226.39 L519.322 1226.39 L519.322 1226.39  Z\n",
       "  \" fill=\"#009af9\" fill-rule=\"evenodd\" fill-opacity=\"1\"/>\n",
       "<polyline clip-path=\"url(#clip112)\" style=\"stroke:#000000; stroke-linecap:round; stroke-linejoin:round; stroke-width:4; stroke-opacity:1; fill:none\" points=\"\n",
       "  519.322,1226.39 519.322,1445.72 547.879,1445.72 547.879,1226.39 519.322,1226.39 \n",
       "  \"/>\n",
       "<path clip-path=\"url(#clip112)\" d=\"\n",
       "M547.879 1153.28 L547.879 1445.72 L576.437 1445.72 L576.437 1153.28 L547.879 1153.28 L547.879 1153.28  Z\n",
       "  \" fill=\"#009af9\" fill-rule=\"evenodd\" fill-opacity=\"1\"/>\n",
       "<polyline clip-path=\"url(#clip112)\" style=\"stroke:#000000; stroke-linecap:round; stroke-linejoin:round; stroke-width:4; stroke-opacity:1; fill:none\" points=\"\n",
       "  547.879,1153.28 547.879,1445.72 576.437,1445.72 576.437,1153.28 547.879,1153.28 \n",
       "  \"/>\n",
       "<path clip-path=\"url(#clip112)\" d=\"\n",
       "M576.437 1007.06 L576.437 1445.72 L604.994 1445.72 L604.994 1007.06 L576.437 1007.06 L576.437 1007.06  Z\n",
       "  \" fill=\"#009af9\" fill-rule=\"evenodd\" fill-opacity=\"1\"/>\n",
       "<polyline clip-path=\"url(#clip112)\" style=\"stroke:#000000; stroke-linecap:round; stroke-linejoin:round; stroke-width:4; stroke-opacity:1; fill:none\" points=\"\n",
       "  576.437,1007.06 576.437,1445.72 604.994,1445.72 604.994,1007.06 576.437,1007.06 \n",
       "  \"/>\n",
       "<path clip-path=\"url(#clip112)\" d=\"\n",
       "M604.994 829.511 L604.994 1445.72 L633.551 1445.72 L633.551 829.511 L604.994 829.511 L604.994 829.511  Z\n",
       "  \" fill=\"#009af9\" fill-rule=\"evenodd\" fill-opacity=\"1\"/>\n",
       "<polyline clip-path=\"url(#clip112)\" style=\"stroke:#000000; stroke-linecap:round; stroke-linejoin:round; stroke-width:4; stroke-opacity:1; fill:none\" points=\"\n",
       "  604.994,829.511 604.994,1445.72 633.551,1445.72 633.551,829.511 604.994,829.511 \n",
       "  \"/>\n",
       "<path clip-path=\"url(#clip112)\" d=\"\n",
       "M633.551 610.184 L633.551 1445.72 L662.108 1445.72 L662.108 610.184 L633.551 610.184 L633.551 610.184  Z\n",
       "  \" fill=\"#009af9\" fill-rule=\"evenodd\" fill-opacity=\"1\"/>\n",
       "<polyline clip-path=\"url(#clip112)\" style=\"stroke:#000000; stroke-linecap:round; stroke-linejoin:round; stroke-width:4; stroke-opacity:1; fill:none\" points=\"\n",
       "  633.551,610.184 633.551,1445.72 662.108,1445.72 662.108,610.184 633.551,610.184 \n",
       "  \"/>\n",
       "<path clip-path=\"url(#clip112)\" d=\"\n",
       "M662.108 443.077 L662.108 1445.72 L690.665 1445.72 L690.665 443.077 L662.108 443.077 L662.108 443.077  Z\n",
       "  \" fill=\"#009af9\" fill-rule=\"evenodd\" fill-opacity=\"1\"/>\n",
       "<polyline clip-path=\"url(#clip112)\" style=\"stroke:#000000; stroke-linecap:round; stroke-linejoin:round; stroke-width:4; stroke-opacity:1; fill:none\" points=\"\n",
       "  662.108,443.077 662.108,1445.72 690.665,1445.72 690.665,443.077 662.108,443.077 \n",
       "  \"/>\n",
       "<path clip-path=\"url(#clip112)\" d=\"\n",
       "M690.665 291.637 L690.665 1445.72 L719.222 1445.72 L719.222 291.637 L690.665 291.637 L690.665 291.637  Z\n",
       "  \" fill=\"#009af9\" fill-rule=\"evenodd\" fill-opacity=\"1\"/>\n",
       "<polyline clip-path=\"url(#clip112)\" style=\"stroke:#000000; stroke-linecap:round; stroke-linejoin:round; stroke-width:4; stroke-opacity:1; fill:none\" points=\"\n",
       "  690.665,291.637 690.665,1445.72 719.222,1445.72 719.222,291.637 690.665,291.637 \n",
       "  \"/>\n",
       "<path clip-path=\"url(#clip112)\" d=\"\n",
       "M719.222 396.079 L719.222 1445.72 L747.779 1445.72 L747.779 396.079 L719.222 396.079 L719.222 396.079  Z\n",
       "  \" fill=\"#009af9\" fill-rule=\"evenodd\" fill-opacity=\"1\"/>\n",
       "<polyline clip-path=\"url(#clip112)\" style=\"stroke:#000000; stroke-linecap:round; stroke-linejoin:round; stroke-width:4; stroke-opacity:1; fill:none\" points=\"\n",
       "  719.222,396.079 719.222,1445.72 747.779,1445.72 747.779,396.079 719.222,396.079 \n",
       "  \"/>\n",
       "<path clip-path=\"url(#clip112)\" d=\"\n",
       "M747.779 87.9763 L747.779 1445.72 L776.336 1445.72 L776.336 87.9763 L747.779 87.9763 L747.779 87.9763  Z\n",
       "  \" fill=\"#009af9\" fill-rule=\"evenodd\" fill-opacity=\"1\"/>\n",
       "<polyline clip-path=\"url(#clip112)\" style=\"stroke:#000000; stroke-linecap:round; stroke-linejoin:round; stroke-width:4; stroke-opacity:1; fill:none\" points=\"\n",
       "  747.779,87.9763 747.779,1445.72 776.336,1445.72 776.336,87.9763 747.779,87.9763 \n",
       "  \"/>\n",
       "<path clip-path=\"url(#clip112)\" d=\"\n",
       "M776.336 296.859 L776.336 1445.72 L804.893 1445.72 L804.893 296.859 L776.336 296.859 L776.336 296.859  Z\n",
       "  \" fill=\"#009af9\" fill-rule=\"evenodd\" fill-opacity=\"1\"/>\n",
       "<polyline clip-path=\"url(#clip112)\" style=\"stroke:#000000; stroke-linecap:round; stroke-linejoin:round; stroke-width:4; stroke-opacity:1; fill:none\" points=\"\n",
       "  776.336,296.859 776.336,1445.72 804.893,1445.72 804.893,296.859 776.336,296.859 \n",
       "  \"/>\n",
       "<path clip-path=\"url(#clip112)\" d=\"\n",
       "M804.893 380.412 L804.893 1445.72 L833.45 1445.72 L833.45 380.412 L804.893 380.412 L804.893 380.412  Z\n",
       "  \" fill=\"#009af9\" fill-rule=\"evenodd\" fill-opacity=\"1\"/>\n",
       "<polyline clip-path=\"url(#clip112)\" style=\"stroke:#000000; stroke-linecap:round; stroke-linejoin:round; stroke-width:4; stroke-opacity:1; fill:none\" points=\"\n",
       "  804.893,380.412 804.893,1445.72 833.45,1445.72 833.45,380.412 804.893,380.412 \n",
       "  \"/>\n",
       "<path clip-path=\"url(#clip112)\" d=\"\n",
       "M833.45 349.08 L833.45 1445.72 L862.007 1445.72 L862.007 349.08 L833.45 349.08 L833.45 349.08  Z\n",
       "  \" fill=\"#009af9\" fill-rule=\"evenodd\" fill-opacity=\"1\"/>\n",
       "<polyline clip-path=\"url(#clip112)\" style=\"stroke:#000000; stroke-linecap:round; stroke-linejoin:round; stroke-width:4; stroke-opacity:1; fill:none\" points=\"\n",
       "  833.45,349.08 833.45,1445.72 862.007,1445.72 862.007,349.08 833.45,349.08 \n",
       "  \"/>\n",
       "<path clip-path=\"url(#clip112)\" d=\"\n",
       "M862.007 349.08 L862.007 1445.72 L890.565 1445.72 L890.565 349.08 L862.007 349.08 L862.007 349.08  Z\n",
       "  \" fill=\"#009af9\" fill-rule=\"evenodd\" fill-opacity=\"1\"/>\n",
       "<polyline clip-path=\"url(#clip112)\" style=\"stroke:#000000; stroke-linecap:round; stroke-linejoin:round; stroke-width:4; stroke-opacity:1; fill:none\" points=\"\n",
       "  862.007,349.08 862.007,1445.72 890.565,1445.72 890.565,349.08 862.007,349.08 \n",
       "  \"/>\n",
       "<path clip-path=\"url(#clip112)\" d=\"\n",
       "M890.565 542.297 L890.565 1445.72 L919.122 1445.72 L919.122 542.297 L890.565 542.297 L890.565 542.297  Z\n",
       "  \" fill=\"#009af9\" fill-rule=\"evenodd\" fill-opacity=\"1\"/>\n",
       "<polyline clip-path=\"url(#clip112)\" style=\"stroke:#000000; stroke-linecap:round; stroke-linejoin:round; stroke-width:4; stroke-opacity:1; fill:none\" points=\"\n",
       "  890.565,542.297 890.565,1445.72 919.122,1445.72 919.122,542.297 890.565,542.297 \n",
       "  \"/>\n",
       "<path clip-path=\"url(#clip112)\" d=\"\n",
       "M919.122 777.29 L919.122 1445.72 L947.679 1445.72 L947.679 777.29 L919.122 777.29 L919.122 777.29  Z\n",
       "  \" fill=\"#009af9\" fill-rule=\"evenodd\" fill-opacity=\"1\"/>\n",
       "<polyline clip-path=\"url(#clip112)\" style=\"stroke:#000000; stroke-linecap:round; stroke-linejoin:round; stroke-width:4; stroke-opacity:1; fill:none\" points=\"\n",
       "  919.122,777.29 919.122,1445.72 947.679,1445.72 947.679,777.29 919.122,777.29 \n",
       "  \"/>\n",
       "<path clip-path=\"url(#clip112)\" d=\"\n",
       "M947.679 965.285 L947.679 1445.72 L976.236 1445.72 L976.236 965.285 L947.679 965.285 L947.679 965.285  Z\n",
       "  \" fill=\"#009af9\" fill-rule=\"evenodd\" fill-opacity=\"1\"/>\n",
       "<polyline clip-path=\"url(#clip112)\" style=\"stroke:#000000; stroke-linecap:round; stroke-linejoin:round; stroke-width:4; stroke-opacity:1; fill:none\" points=\"\n",
       "  947.679,965.285 947.679,1445.72 976.236,1445.72 976.236,965.285 947.679,965.285 \n",
       "  \"/>\n",
       "<path clip-path=\"url(#clip112)\" d=\"\n",
       "M976.236 1142.84 L976.236 1445.72 L1004.79 1445.72 L1004.79 1142.84 L976.236 1142.84 L976.236 1142.84  Z\n",
       "  \" fill=\"#009af9\" fill-rule=\"evenodd\" fill-opacity=\"1\"/>\n",
       "<polyline clip-path=\"url(#clip112)\" style=\"stroke:#000000; stroke-linecap:round; stroke-linejoin:round; stroke-width:4; stroke-opacity:1; fill:none\" points=\"\n",
       "  976.236,1142.84 976.236,1445.72 1004.79,1445.72 1004.79,1142.84 976.236,1142.84 \n",
       "  \"/>\n",
       "<path clip-path=\"url(#clip112)\" d=\"\n",
       "M1004.79 1205.5 L1004.79 1445.72 L1033.35 1445.72 L1033.35 1205.5 L1004.79 1205.5 L1004.79 1205.5  Z\n",
       "  \" fill=\"#009af9\" fill-rule=\"evenodd\" fill-opacity=\"1\"/>\n",
       "<polyline clip-path=\"url(#clip112)\" style=\"stroke:#000000; stroke-linecap:round; stroke-linejoin:round; stroke-width:4; stroke-opacity:1; fill:none\" points=\"\n",
       "  1004.79,1205.5 1004.79,1445.72 1033.35,1445.72 1033.35,1205.5 1004.79,1205.5 \n",
       "  \"/>\n",
       "<path clip-path=\"url(#clip112)\" d=\"\n",
       "M1033.35 1158.5 L1033.35 1445.72 L1061.91 1445.72 L1061.91 1158.5 L1033.35 1158.5 L1033.35 1158.5  Z\n",
       "  \" fill=\"#009af9\" fill-rule=\"evenodd\" fill-opacity=\"1\"/>\n",
       "<polyline clip-path=\"url(#clip112)\" style=\"stroke:#000000; stroke-linecap:round; stroke-linejoin:round; stroke-width:4; stroke-opacity:1; fill:none\" points=\"\n",
       "  1033.35,1158.5 1033.35,1445.72 1061.91,1445.72 1061.91,1158.5 1033.35,1158.5 \n",
       "  \"/>\n",
       "<path clip-path=\"url(#clip112)\" d=\"\n",
       "M1061.91 1262.94 L1061.91 1445.72 L1090.46 1445.72 L1090.46 1262.94 L1061.91 1262.94 L1061.91 1262.94  Z\n",
       "  \" fill=\"#009af9\" fill-rule=\"evenodd\" fill-opacity=\"1\"/>\n",
       "<polyline clip-path=\"url(#clip112)\" style=\"stroke:#000000; stroke-linecap:round; stroke-linejoin:round; stroke-width:4; stroke-opacity:1; fill:none\" points=\"\n",
       "  1061.91,1262.94 1061.91,1445.72 1090.46,1445.72 1090.46,1262.94 1061.91,1262.94 \n",
       "  \"/>\n",
       "<path clip-path=\"url(#clip112)\" d=\"\n",
       "M1090.46 1289.05 L1090.46 1445.72 L1119.02 1445.72 L1119.02 1289.05 L1090.46 1289.05 L1090.46 1289.05  Z\n",
       "  \" fill=\"#009af9\" fill-rule=\"evenodd\" fill-opacity=\"1\"/>\n",
       "<polyline clip-path=\"url(#clip112)\" style=\"stroke:#000000; stroke-linecap:round; stroke-linejoin:round; stroke-width:4; stroke-opacity:1; fill:none\" points=\"\n",
       "  1090.46,1289.05 1090.46,1445.72 1119.02,1445.72 1119.02,1289.05 1090.46,1289.05 \n",
       "  \"/>\n",
       "<path clip-path=\"url(#clip112)\" d=\"\n",
       "M1119.02 1346.5 L1119.02 1445.72 L1147.58 1445.72 L1147.58 1346.5 L1119.02 1346.5 L1119.02 1346.5  Z\n",
       "  \" fill=\"#009af9\" fill-rule=\"evenodd\" fill-opacity=\"1\"/>\n",
       "<polyline clip-path=\"url(#clip112)\" style=\"stroke:#000000; stroke-linecap:round; stroke-linejoin:round; stroke-width:4; stroke-opacity:1; fill:none\" points=\"\n",
       "  1119.02,1346.5 1119.02,1445.72 1147.58,1445.72 1147.58,1346.5 1119.02,1346.5 \n",
       "  \"/>\n",
       "<path clip-path=\"url(#clip112)\" d=\"\n",
       "M1147.58 1372.61 L1147.58 1445.72 L1176.14 1445.72 L1176.14 1372.61 L1147.58 1372.61 L1147.58 1372.61  Z\n",
       "  \" fill=\"#009af9\" fill-rule=\"evenodd\" fill-opacity=\"1\"/>\n",
       "<polyline clip-path=\"url(#clip112)\" style=\"stroke:#000000; stroke-linecap:round; stroke-linejoin:round; stroke-width:4; stroke-opacity:1; fill:none\" points=\"\n",
       "  1147.58,1372.61 1147.58,1445.72 1176.14,1445.72 1176.14,1372.61 1147.58,1372.61 \n",
       "  \"/>\n",
       "<path clip-path=\"url(#clip112)\" d=\"\n",
       "M1176.14 1398.72 L1176.14 1445.72 L1204.69 1445.72 L1204.69 1398.72 L1176.14 1398.72 L1176.14 1398.72  Z\n",
       "  \" fill=\"#009af9\" fill-rule=\"evenodd\" fill-opacity=\"1\"/>\n",
       "<polyline clip-path=\"url(#clip112)\" style=\"stroke:#000000; stroke-linecap:round; stroke-linejoin:round; stroke-width:4; stroke-opacity:1; fill:none\" points=\"\n",
       "  1176.14,1398.72 1176.14,1445.72 1204.69,1445.72 1204.69,1398.72 1176.14,1398.72 \n",
       "  \"/>\n",
       "<path clip-path=\"url(#clip112)\" d=\"\n",
       "M1204.69 1367.38 L1204.69 1445.72 L1233.25 1445.72 L1233.25 1367.38 L1204.69 1367.38 L1204.69 1367.38  Z\n",
       "  \" fill=\"#009af9\" fill-rule=\"evenodd\" fill-opacity=\"1\"/>\n",
       "<polyline clip-path=\"url(#clip112)\" style=\"stroke:#000000; stroke-linecap:round; stroke-linejoin:round; stroke-width:4; stroke-opacity:1; fill:none\" points=\"\n",
       "  1204.69,1367.38 1204.69,1445.72 1233.25,1445.72 1233.25,1367.38 1204.69,1367.38 \n",
       "  \"/>\n",
       "<path clip-path=\"url(#clip112)\" d=\"\n",
       "M1233.25 1346.5 L1233.25 1445.72 L1261.81 1445.72 L1261.81 1346.5 L1233.25 1346.5 L1233.25 1346.5  Z\n",
       "  \" fill=\"#009af9\" fill-rule=\"evenodd\" fill-opacity=\"1\"/>\n",
       "<polyline clip-path=\"url(#clip112)\" style=\"stroke:#000000; stroke-linecap:round; stroke-linejoin:round; stroke-width:4; stroke-opacity:1; fill:none\" points=\"\n",
       "  1233.25,1346.5 1233.25,1445.72 1261.81,1445.72 1261.81,1346.5 1233.25,1346.5 \n",
       "  \"/>\n",
       "<path clip-path=\"url(#clip112)\" d=\"\n",
       "M1261.81 1388.27 L1261.81 1445.72 L1290.36 1445.72 L1290.36 1388.27 L1261.81 1388.27 L1261.81 1388.27  Z\n",
       "  \" fill=\"#009af9\" fill-rule=\"evenodd\" fill-opacity=\"1\"/>\n",
       "<polyline clip-path=\"url(#clip112)\" style=\"stroke:#000000; stroke-linecap:round; stroke-linejoin:round; stroke-width:4; stroke-opacity:1; fill:none\" points=\"\n",
       "  1261.81,1388.27 1261.81,1445.72 1290.36,1445.72 1290.36,1388.27 1261.81,1388.27 \n",
       "  \"/>\n",
       "<path clip-path=\"url(#clip112)\" d=\"\n",
       "M1290.36 1372.61 L1290.36 1445.72 L1318.92 1445.72 L1318.92 1372.61 L1290.36 1372.61 L1290.36 1372.61  Z\n",
       "  \" fill=\"#009af9\" fill-rule=\"evenodd\" fill-opacity=\"1\"/>\n",
       "<polyline clip-path=\"url(#clip112)\" style=\"stroke:#000000; stroke-linecap:round; stroke-linejoin:round; stroke-width:4; stroke-opacity:1; fill:none\" points=\"\n",
       "  1290.36,1372.61 1290.36,1445.72 1318.92,1445.72 1318.92,1372.61 1290.36,1372.61 \n",
       "  \"/>\n",
       "<path clip-path=\"url(#clip112)\" d=\"\n",
       "M1318.92 1388.27 L1318.92 1445.72 L1347.48 1445.72 L1347.48 1388.27 L1318.92 1388.27 L1318.92 1388.27  Z\n",
       "  \" fill=\"#009af9\" fill-rule=\"evenodd\" fill-opacity=\"1\"/>\n",
       "<polyline clip-path=\"url(#clip112)\" style=\"stroke:#000000; stroke-linecap:round; stroke-linejoin:round; stroke-width:4; stroke-opacity:1; fill:none\" points=\"\n",
       "  1318.92,1388.27 1318.92,1445.72 1347.48,1445.72 1347.48,1388.27 1318.92,1388.27 \n",
       "  \"/>\n",
       "<path clip-path=\"url(#clip112)\" d=\"\n",
       "M1347.48 1393.49 L1347.48 1445.72 L1376.04 1445.72 L1376.04 1393.49 L1347.48 1393.49 L1347.48 1393.49  Z\n",
       "  \" fill=\"#009af9\" fill-rule=\"evenodd\" fill-opacity=\"1\"/>\n",
       "<polyline clip-path=\"url(#clip112)\" style=\"stroke:#000000; stroke-linecap:round; stroke-linejoin:round; stroke-width:4; stroke-opacity:1; fill:none\" points=\"\n",
       "  1347.48,1393.49 1347.48,1445.72 1376.04,1445.72 1376.04,1393.49 1347.48,1393.49 \n",
       "  \"/>\n",
       "<path clip-path=\"url(#clip112)\" d=\"\n",
       "M1376.04 1419.61 L1376.04 1445.72 L1404.59 1445.72 L1404.59 1419.61 L1376.04 1419.61 L1376.04 1419.61  Z\n",
       "  \" fill=\"#009af9\" fill-rule=\"evenodd\" fill-opacity=\"1\"/>\n",
       "<polyline clip-path=\"url(#clip112)\" style=\"stroke:#000000; stroke-linecap:round; stroke-linejoin:round; stroke-width:4; stroke-opacity:1; fill:none\" points=\"\n",
       "  1376.04,1419.61 1376.04,1445.72 1404.59,1445.72 1404.59,1419.61 1376.04,1419.61 \n",
       "  \"/>\n",
       "<path clip-path=\"url(#clip112)\" d=\"\n",
       "M1404.59 1419.61 L1404.59 1445.72 L1433.15 1445.72 L1433.15 1419.61 L1404.59 1419.61 L1404.59 1419.61  Z\n",
       "  \" fill=\"#009af9\" fill-rule=\"evenodd\" fill-opacity=\"1\"/>\n",
       "<polyline clip-path=\"url(#clip112)\" style=\"stroke:#000000; stroke-linecap:round; stroke-linejoin:round; stroke-width:4; stroke-opacity:1; fill:none\" points=\"\n",
       "  1404.59,1419.61 1404.59,1445.72 1433.15,1445.72 1433.15,1419.61 1404.59,1419.61 \n",
       "  \"/>\n",
       "<path clip-path=\"url(#clip112)\" d=\"\n",
       "M1433.15 1398.72 L1433.15 1445.72 L1461.71 1445.72 L1461.71 1398.72 L1433.15 1398.72 L1433.15 1398.72  Z\n",
       "  \" fill=\"#009af9\" fill-rule=\"evenodd\" fill-opacity=\"1\"/>\n",
       "<polyline clip-path=\"url(#clip112)\" style=\"stroke:#000000; stroke-linecap:round; stroke-linejoin:round; stroke-width:4; stroke-opacity:1; fill:none\" points=\"\n",
       "  1433.15,1398.72 1433.15,1445.72 1461.71,1445.72 1461.71,1398.72 1433.15,1398.72 \n",
       "  \"/>\n",
       "<path clip-path=\"url(#clip112)\" d=\"\n",
       "M1461.71 1409.16 L1461.71 1445.72 L1490.26 1445.72 L1490.26 1409.16 L1461.71 1409.16 L1461.71 1409.16  Z\n",
       "  \" fill=\"#009af9\" fill-rule=\"evenodd\" fill-opacity=\"1\"/>\n",
       "<polyline clip-path=\"url(#clip112)\" style=\"stroke:#000000; stroke-linecap:round; stroke-linejoin:round; stroke-width:4; stroke-opacity:1; fill:none\" points=\"\n",
       "  1461.71,1409.16 1461.71,1445.72 1490.26,1445.72 1490.26,1409.16 1461.71,1409.16 \n",
       "  \"/>\n",
       "<path clip-path=\"url(#clip112)\" d=\"\n",
       "M1490.26 1435.27 L1490.26 1445.72 L1518.82 1445.72 L1518.82 1435.27 L1490.26 1435.27 L1490.26 1435.27  Z\n",
       "  \" fill=\"#009af9\" fill-rule=\"evenodd\" fill-opacity=\"1\"/>\n",
       "<polyline clip-path=\"url(#clip112)\" style=\"stroke:#000000; stroke-linecap:round; stroke-linejoin:round; stroke-width:4; stroke-opacity:1; fill:none\" points=\"\n",
       "  1490.26,1435.27 1490.26,1445.72 1518.82,1445.72 1518.82,1435.27 1490.26,1435.27 \n",
       "  \"/>\n",
       "<path clip-path=\"url(#clip112)\" d=\"\n",
       "M1518.82 1419.61 L1518.82 1445.72 L1547.38 1445.72 L1547.38 1419.61 L1518.82 1419.61 L1518.82 1419.61  Z\n",
       "  \" fill=\"#009af9\" fill-rule=\"evenodd\" fill-opacity=\"1\"/>\n",
       "<polyline clip-path=\"url(#clip112)\" style=\"stroke:#000000; stroke-linecap:round; stroke-linejoin:round; stroke-width:4; stroke-opacity:1; fill:none\" points=\"\n",
       "  1518.82,1419.61 1518.82,1445.72 1547.38,1445.72 1547.38,1419.61 1518.82,1419.61 \n",
       "  \"/>\n",
       "<path clip-path=\"url(#clip112)\" d=\"\n",
       "M1547.38 1419.61 L1547.38 1445.72 L1575.93 1445.72 L1575.93 1419.61 L1547.38 1419.61 L1547.38 1419.61  Z\n",
       "  \" fill=\"#009af9\" fill-rule=\"evenodd\" fill-opacity=\"1\"/>\n",
       "<polyline clip-path=\"url(#clip112)\" style=\"stroke:#000000; stroke-linecap:round; stroke-linejoin:round; stroke-width:4; stroke-opacity:1; fill:none\" points=\"\n",
       "  1547.38,1419.61 1547.38,1445.72 1575.93,1445.72 1575.93,1419.61 1547.38,1419.61 \n",
       "  \"/>\n",
       "<path clip-path=\"url(#clip112)\" d=\"\n",
       "M1575.93 1398.72 L1575.93 1445.72 L1604.49 1445.72 L1604.49 1398.72 L1575.93 1398.72 L1575.93 1398.72  Z\n",
       "  \" fill=\"#009af9\" fill-rule=\"evenodd\" fill-opacity=\"1\"/>\n",
       "<polyline clip-path=\"url(#clip112)\" style=\"stroke:#000000; stroke-linecap:round; stroke-linejoin:round; stroke-width:4; stroke-opacity:1; fill:none\" points=\"\n",
       "  1575.93,1398.72 1575.93,1445.72 1604.49,1445.72 1604.49,1398.72 1575.93,1398.72 \n",
       "  \"/>\n",
       "<path clip-path=\"url(#clip112)\" d=\"\n",
       "M1604.49 1398.72 L1604.49 1445.72 L1633.05 1445.72 L1633.05 1398.72 L1604.49 1398.72 L1604.49 1398.72  Z\n",
       "  \" fill=\"#009af9\" fill-rule=\"evenodd\" fill-opacity=\"1\"/>\n",
       "<polyline clip-path=\"url(#clip112)\" style=\"stroke:#000000; stroke-linecap:round; stroke-linejoin:round; stroke-width:4; stroke-opacity:1; fill:none\" points=\"\n",
       "  1604.49,1398.72 1604.49,1445.72 1633.05,1445.72 1633.05,1398.72 1604.49,1398.72 \n",
       "  \"/>\n",
       "<path clip-path=\"url(#clip112)\" d=\"\n",
       "M1633.05 1398.72 L1633.05 1445.72 L1661.61 1445.72 L1661.61 1398.72 L1633.05 1398.72 L1633.05 1398.72  Z\n",
       "  \" fill=\"#009af9\" fill-rule=\"evenodd\" fill-opacity=\"1\"/>\n",
       "<polyline clip-path=\"url(#clip112)\" style=\"stroke:#000000; stroke-linecap:round; stroke-linejoin:round; stroke-width:4; stroke-opacity:1; fill:none\" points=\"\n",
       "  1633.05,1398.72 1633.05,1445.72 1661.61,1445.72 1661.61,1398.72 1633.05,1398.72 \n",
       "  \"/>\n",
       "<path clip-path=\"url(#clip112)\" d=\"\n",
       "M1661.61 1430.05 L1661.61 1445.72 L1690.16 1445.72 L1690.16 1430.05 L1661.61 1430.05 L1661.61 1430.05  Z\n",
       "  \" fill=\"#009af9\" fill-rule=\"evenodd\" fill-opacity=\"1\"/>\n",
       "<polyline clip-path=\"url(#clip112)\" style=\"stroke:#000000; stroke-linecap:round; stroke-linejoin:round; stroke-width:4; stroke-opacity:1; fill:none\" points=\"\n",
       "  1661.61,1430.05 1661.61,1445.72 1690.16,1445.72 1690.16,1430.05 1661.61,1430.05 \n",
       "  \"/>\n",
       "<path clip-path=\"url(#clip112)\" d=\"\n",
       "M1690.16 1398.72 L1690.16 1445.72 L1718.72 1445.72 L1718.72 1398.72 L1690.16 1398.72 L1690.16 1398.72  Z\n",
       "  \" fill=\"#009af9\" fill-rule=\"evenodd\" fill-opacity=\"1\"/>\n",
       "<polyline clip-path=\"url(#clip112)\" style=\"stroke:#000000; stroke-linecap:round; stroke-linejoin:round; stroke-width:4; stroke-opacity:1; fill:none\" points=\"\n",
       "  1690.16,1398.72 1690.16,1445.72 1718.72,1445.72 1718.72,1398.72 1690.16,1398.72 \n",
       "  \"/>\n",
       "<path clip-path=\"url(#clip112)\" d=\"\n",
       "M1718.72 1435.27 L1718.72 1445.72 L1747.28 1445.72 L1747.28 1435.27 L1718.72 1435.27 L1718.72 1435.27  Z\n",
       "  \" fill=\"#009af9\" fill-rule=\"evenodd\" fill-opacity=\"1\"/>\n",
       "<polyline clip-path=\"url(#clip112)\" style=\"stroke:#000000; stroke-linecap:round; stroke-linejoin:round; stroke-width:4; stroke-opacity:1; fill:none\" points=\"\n",
       "  1718.72,1435.27 1718.72,1445.72 1747.28,1445.72 1747.28,1435.27 1718.72,1435.27 \n",
       "  \"/>\n",
       "<path clip-path=\"url(#clip112)\" d=\"\n",
       "M1747.28 1435.27 L1747.28 1445.72 L1775.83 1445.72 L1775.83 1435.27 L1747.28 1435.27 L1747.28 1435.27  Z\n",
       "  \" fill=\"#009af9\" fill-rule=\"evenodd\" fill-opacity=\"1\"/>\n",
       "<polyline clip-path=\"url(#clip112)\" style=\"stroke:#000000; stroke-linecap:round; stroke-linejoin:round; stroke-width:4; stroke-opacity:1; fill:none\" points=\"\n",
       "  1747.28,1435.27 1747.28,1445.72 1775.83,1445.72 1775.83,1435.27 1747.28,1435.27 \n",
       "  \"/>\n",
       "<path clip-path=\"url(#clip112)\" d=\"\n",
       "M1775.83 1430.05 L1775.83 1445.72 L1804.39 1445.72 L1804.39 1430.05 L1775.83 1430.05 L1775.83 1430.05  Z\n",
       "  \" fill=\"#009af9\" fill-rule=\"evenodd\" fill-opacity=\"1\"/>\n",
       "<polyline clip-path=\"url(#clip112)\" style=\"stroke:#000000; stroke-linecap:round; stroke-linejoin:round; stroke-width:4; stroke-opacity:1; fill:none\" points=\"\n",
       "  1775.83,1430.05 1775.83,1445.72 1804.39,1445.72 1804.39,1430.05 1775.83,1430.05 \n",
       "  \"/>\n",
       "<path clip-path=\"url(#clip112)\" d=\"\n",
       "M1804.39 1430.05 L1804.39 1445.72 L1832.95 1445.72 L1832.95 1430.05 L1804.39 1430.05 L1804.39 1430.05  Z\n",
       "  \" fill=\"#009af9\" fill-rule=\"evenodd\" fill-opacity=\"1\"/>\n",
       "<polyline clip-path=\"url(#clip112)\" style=\"stroke:#000000; stroke-linecap:round; stroke-linejoin:round; stroke-width:4; stroke-opacity:1; fill:none\" points=\"\n",
       "  1804.39,1430.05 1804.39,1445.72 1832.95,1445.72 1832.95,1430.05 1804.39,1430.05 \n",
       "  \"/>\n",
       "<path clip-path=\"url(#clip112)\" d=\"\n",
       "M1832.95 1430.05 L1832.95 1445.72 L1861.51 1445.72 L1861.51 1430.05 L1832.95 1430.05 L1832.95 1430.05  Z\n",
       "  \" fill=\"#009af9\" fill-rule=\"evenodd\" fill-opacity=\"1\"/>\n",
       "<polyline clip-path=\"url(#clip112)\" style=\"stroke:#000000; stroke-linecap:round; stroke-linejoin:round; stroke-width:4; stroke-opacity:1; fill:none\" points=\"\n",
       "  1832.95,1430.05 1832.95,1445.72 1861.51,1445.72 1861.51,1430.05 1832.95,1430.05 \n",
       "  \"/>\n",
       "<path clip-path=\"url(#clip112)\" d=\"\n",
       "M1861.51 1430.05 L1861.51 1445.72 L1890.06 1445.72 L1890.06 1430.05 L1861.51 1430.05 L1861.51 1430.05  Z\n",
       "  \" fill=\"#009af9\" fill-rule=\"evenodd\" fill-opacity=\"1\"/>\n",
       "<polyline clip-path=\"url(#clip112)\" style=\"stroke:#000000; stroke-linecap:round; stroke-linejoin:round; stroke-width:4; stroke-opacity:1; fill:none\" points=\"\n",
       "  1861.51,1430.05 1861.51,1445.72 1890.06,1445.72 1890.06,1430.05 1861.51,1430.05 \n",
       "  \"/>\n",
       "<path clip-path=\"url(#clip112)\" d=\"\n",
       "M1890.06 1445.72 L1890.06 1445.72 L1918.62 1445.72 L1918.62 1445.72 L1890.06 1445.72 L1890.06 1445.72  Z\n",
       "  \" fill=\"#009af9\" fill-rule=\"evenodd\" fill-opacity=\"1\"/>\n",
       "<polyline clip-path=\"url(#clip112)\" style=\"stroke:#000000; stroke-linecap:round; stroke-linejoin:round; stroke-width:4; stroke-opacity:1; fill:none\" points=\"\n",
       "  1890.06,1445.72 1890.06,1445.72 1918.62,1445.72 1890.06,1445.72 \n",
       "  \"/>\n",
       "<path clip-path=\"url(#clip112)\" d=\"\n",
       "M1918.62 1430.05 L1918.62 1445.72 L1947.18 1445.72 L1947.18 1430.05 L1918.62 1430.05 L1918.62 1430.05  Z\n",
       "  \" fill=\"#009af9\" fill-rule=\"evenodd\" fill-opacity=\"1\"/>\n",
       "<polyline clip-path=\"url(#clip112)\" style=\"stroke:#000000; stroke-linecap:round; stroke-linejoin:round; stroke-width:4; stroke-opacity:1; fill:none\" points=\"\n",
       "  1918.62,1430.05 1918.62,1445.72 1947.18,1445.72 1947.18,1430.05 1918.62,1430.05 \n",
       "  \"/>\n",
       "<path clip-path=\"url(#clip112)\" d=\"\n",
       "M1947.18 1440.49 L1947.18 1445.72 L1975.73 1445.72 L1975.73 1440.49 L1947.18 1440.49 L1947.18 1440.49  Z\n",
       "  \" fill=\"#009af9\" fill-rule=\"evenodd\" fill-opacity=\"1\"/>\n",
       "<polyline clip-path=\"url(#clip112)\" style=\"stroke:#000000; stroke-linecap:round; stroke-linejoin:round; stroke-width:4; stroke-opacity:1; fill:none\" points=\"\n",
       "  1947.18,1440.49 1947.18,1445.72 1975.73,1445.72 1975.73,1440.49 1947.18,1440.49 \n",
       "  \"/>\n",
       "<path clip-path=\"url(#clip112)\" d=\"\n",
       "M1975.73 1445.72 L1975.73 1445.72 L2004.29 1445.72 L2004.29 1445.72 L1975.73 1445.72 L1975.73 1445.72  Z\n",
       "  \" fill=\"#009af9\" fill-rule=\"evenodd\" fill-opacity=\"1\"/>\n",
       "<polyline clip-path=\"url(#clip112)\" style=\"stroke:#000000; stroke-linecap:round; stroke-linejoin:round; stroke-width:4; stroke-opacity:1; fill:none\" points=\"\n",
       "  1975.73,1445.72 1975.73,1445.72 2004.29,1445.72 1975.73,1445.72 \n",
       "  \"/>\n",
       "<path clip-path=\"url(#clip112)\" d=\"\n",
       "M2004.29 1440.49 L2004.29 1445.72 L2032.85 1445.72 L2032.85 1440.49 L2004.29 1440.49 L2004.29 1440.49  Z\n",
       "  \" fill=\"#009af9\" fill-rule=\"evenodd\" fill-opacity=\"1\"/>\n",
       "<polyline clip-path=\"url(#clip112)\" style=\"stroke:#000000; stroke-linecap:round; stroke-linejoin:round; stroke-width:4; stroke-opacity:1; fill:none\" points=\"\n",
       "  2004.29,1440.49 2004.29,1445.72 2032.85,1445.72 2032.85,1440.49 2004.29,1440.49 \n",
       "  \"/>\n",
       "<path clip-path=\"url(#clip112)\" d=\"\n",
       "M2032.85 1440.49 L2032.85 1445.72 L2061.41 1445.72 L2061.41 1440.49 L2032.85 1440.49 L2032.85 1440.49  Z\n",
       "  \" fill=\"#009af9\" fill-rule=\"evenodd\" fill-opacity=\"1\"/>\n",
       "<polyline clip-path=\"url(#clip112)\" style=\"stroke:#000000; stroke-linecap:round; stroke-linejoin:round; stroke-width:4; stroke-opacity:1; fill:none\" points=\"\n",
       "  2032.85,1440.49 2032.85,1445.72 2061.41,1445.72 2061.41,1440.49 2032.85,1440.49 \n",
       "  \"/>\n",
       "<path clip-path=\"url(#clip112)\" d=\"\n",
       "M2061.41 1435.27 L2061.41 1445.72 L2089.96 1445.72 L2089.96 1435.27 L2061.41 1435.27 L2061.41 1435.27  Z\n",
       "  \" fill=\"#009af9\" fill-rule=\"evenodd\" fill-opacity=\"1\"/>\n",
       "<polyline clip-path=\"url(#clip112)\" style=\"stroke:#000000; stroke-linecap:round; stroke-linejoin:round; stroke-width:4; stroke-opacity:1; fill:none\" points=\"\n",
       "  2061.41,1435.27 2061.41,1445.72 2089.96,1445.72 2089.96,1435.27 2061.41,1435.27 \n",
       "  \"/>\n",
       "<path clip-path=\"url(#clip112)\" d=\"\n",
       "M2089.96 1445.72 L2089.96 1445.72 L2118.52 1445.72 L2118.52 1445.72 L2089.96 1445.72 L2089.96 1445.72  Z\n",
       "  \" fill=\"#009af9\" fill-rule=\"evenodd\" fill-opacity=\"1\"/>\n",
       "<polyline clip-path=\"url(#clip112)\" style=\"stroke:#000000; stroke-linecap:round; stroke-linejoin:round; stroke-width:4; stroke-opacity:1; fill:none\" points=\"\n",
       "  2089.96,1445.72 2089.96,1445.72 2118.52,1445.72 2089.96,1445.72 \n",
       "  \"/>\n",
       "<path clip-path=\"url(#clip112)\" d=\"\n",
       "M2118.52 1435.27 L2118.52 1445.72 L2147.08 1445.72 L2147.08 1435.27 L2118.52 1435.27 L2118.52 1435.27  Z\n",
       "  \" fill=\"#009af9\" fill-rule=\"evenodd\" fill-opacity=\"1\"/>\n",
       "<polyline clip-path=\"url(#clip112)\" style=\"stroke:#000000; stroke-linecap:round; stroke-linejoin:round; stroke-width:4; stroke-opacity:1; fill:none\" points=\"\n",
       "  2118.52,1435.27 2118.52,1445.72 2147.08,1445.72 2147.08,1435.27 2118.52,1435.27 \n",
       "  \"/>\n",
       "<path clip-path=\"url(#clip112)\" d=\"\n",
       "M2147.08 1445.72 L2147.08 1445.72 L2175.63 1445.72 L2175.63 1445.72 L2147.08 1445.72 L2147.08 1445.72  Z\n",
       "  \" fill=\"#009af9\" fill-rule=\"evenodd\" fill-opacity=\"1\"/>\n",
       "<polyline clip-path=\"url(#clip112)\" style=\"stroke:#000000; stroke-linecap:round; stroke-linejoin:round; stroke-width:4; stroke-opacity:1; fill:none\" points=\"\n",
       "  2147.08,1445.72 2147.08,1445.72 2175.63,1445.72 2147.08,1445.72 \n",
       "  \"/>\n",
       "<path clip-path=\"url(#clip112)\" d=\"\n",
       "M2175.63 1440.49 L2175.63 1445.72 L2204.19 1445.72 L2204.19 1440.49 L2175.63 1440.49 L2175.63 1440.49  Z\n",
       "  \" fill=\"#009af9\" fill-rule=\"evenodd\" fill-opacity=\"1\"/>\n",
       "<polyline clip-path=\"url(#clip112)\" style=\"stroke:#000000; stroke-linecap:round; stroke-linejoin:round; stroke-width:4; stroke-opacity:1; fill:none\" points=\"\n",
       "  2175.63,1440.49 2175.63,1445.72 2204.19,1445.72 2204.19,1440.49 2175.63,1440.49 \n",
       "  \"/>\n",
       "<path clip-path=\"url(#clip112)\" d=\"\n",
       "M2204.19 1440.49 L2204.19 1445.72 L2232.75 1445.72 L2232.75 1440.49 L2204.19 1440.49 L2204.19 1440.49  Z\n",
       "  \" fill=\"#009af9\" fill-rule=\"evenodd\" fill-opacity=\"1\"/>\n",
       "<polyline clip-path=\"url(#clip112)\" style=\"stroke:#000000; stroke-linecap:round; stroke-linejoin:round; stroke-width:4; stroke-opacity:1; fill:none\" points=\"\n",
       "  2204.19,1440.49 2204.19,1445.72 2232.75,1445.72 2232.75,1440.49 2204.19,1440.49 \n",
       "  \"/>\n",
       "<circle clip-path=\"url(#clip112)\" style=\"fill:#009af9; stroke:none; fill-opacity:0\" cx=\"305.144\" cy=\"1440.49\" r=\"2\"/>\n",
       "<circle clip-path=\"url(#clip112)\" style=\"fill:#009af9; stroke:none; fill-opacity:0\" cx=\"333.701\" cy=\"1372.61\" r=\"2\"/>\n",
       "<circle clip-path=\"url(#clip112)\" style=\"fill:#009af9; stroke:none; fill-opacity:0\" cx=\"362.258\" cy=\"1137.61\" r=\"2\"/>\n",
       "<circle clip-path=\"url(#clip112)\" style=\"fill:#009af9; stroke:none; fill-opacity:0\" cx=\"390.816\" cy=\"1127.17\" r=\"2\"/>\n",
       "<circle clip-path=\"url(#clip112)\" style=\"fill:#009af9; stroke:none; fill-opacity:0\" cx=\"419.373\" cy=\"1007.06\" r=\"2\"/>\n",
       "<circle clip-path=\"url(#clip112)\" style=\"fill:#009af9; stroke:none; fill-opacity:0\" cx=\"447.93\" cy=\"1048.84\" r=\"2\"/>\n",
       "<circle clip-path=\"url(#clip112)\" style=\"fill:#009af9; stroke:none; fill-opacity:0\" cx=\"476.487\" cy=\"965.285\" r=\"2\"/>\n",
       "<circle clip-path=\"url(#clip112)\" style=\"fill:#009af9; stroke:none; fill-opacity:0\" cx=\"505.044\" cy=\"1189.83\" r=\"2\"/>\n",
       "<circle clip-path=\"url(#clip112)\" style=\"fill:#009af9; stroke:none; fill-opacity:0\" cx=\"533.601\" cy=\"1226.39\" r=\"2\"/>\n",
       "<circle clip-path=\"url(#clip112)\" style=\"fill:#009af9; stroke:none; fill-opacity:0\" cx=\"562.158\" cy=\"1153.28\" r=\"2\"/>\n",
       "<circle clip-path=\"url(#clip112)\" style=\"fill:#009af9; stroke:none; fill-opacity:0\" cx=\"590.715\" cy=\"1007.06\" r=\"2\"/>\n",
       "<circle clip-path=\"url(#clip112)\" style=\"fill:#009af9; stroke:none; fill-opacity:0\" cx=\"619.272\" cy=\"829.511\" r=\"2\"/>\n",
       "<circle clip-path=\"url(#clip112)\" style=\"fill:#009af9; stroke:none; fill-opacity:0\" cx=\"647.829\" cy=\"610.184\" r=\"2\"/>\n",
       "<circle clip-path=\"url(#clip112)\" style=\"fill:#009af9; stroke:none; fill-opacity:0\" cx=\"676.386\" cy=\"443.077\" r=\"2\"/>\n",
       "<circle clip-path=\"url(#clip112)\" style=\"fill:#009af9; stroke:none; fill-opacity:0\" cx=\"704.943\" cy=\"291.637\" r=\"2\"/>\n",
       "<circle clip-path=\"url(#clip112)\" style=\"fill:#009af9; stroke:none; fill-opacity:0\" cx=\"733.501\" cy=\"396.079\" r=\"2\"/>\n",
       "<circle clip-path=\"url(#clip112)\" style=\"fill:#009af9; stroke:none; fill-opacity:0\" cx=\"762.058\" cy=\"87.9763\" r=\"2\"/>\n",
       "<circle clip-path=\"url(#clip112)\" style=\"fill:#009af9; stroke:none; fill-opacity:0\" cx=\"790.615\" cy=\"296.859\" r=\"2\"/>\n",
       "<circle clip-path=\"url(#clip112)\" style=\"fill:#009af9; stroke:none; fill-opacity:0\" cx=\"819.172\" cy=\"380.412\" r=\"2\"/>\n",
       "<circle clip-path=\"url(#clip112)\" style=\"fill:#009af9; stroke:none; fill-opacity:0\" cx=\"847.729\" cy=\"349.08\" r=\"2\"/>\n",
       "<circle clip-path=\"url(#clip112)\" style=\"fill:#009af9; stroke:none; fill-opacity:0\" cx=\"876.286\" cy=\"349.08\" r=\"2\"/>\n",
       "<circle clip-path=\"url(#clip112)\" style=\"fill:#009af9; stroke:none; fill-opacity:0\" cx=\"904.843\" cy=\"542.297\" r=\"2\"/>\n",
       "<circle clip-path=\"url(#clip112)\" style=\"fill:#009af9; stroke:none; fill-opacity:0\" cx=\"933.4\" cy=\"777.29\" r=\"2\"/>\n",
       "<circle clip-path=\"url(#clip112)\" style=\"fill:#009af9; stroke:none; fill-opacity:0\" cx=\"961.957\" cy=\"965.285\" r=\"2\"/>\n",
       "<circle clip-path=\"url(#clip112)\" style=\"fill:#009af9; stroke:none; fill-opacity:0\" cx=\"990.514\" cy=\"1142.84\" r=\"2\"/>\n",
       "<circle clip-path=\"url(#clip112)\" style=\"fill:#009af9; stroke:none; fill-opacity:0\" cx=\"1019.07\" cy=\"1205.5\" r=\"2\"/>\n",
       "<circle clip-path=\"url(#clip112)\" style=\"fill:#009af9; stroke:none; fill-opacity:0\" cx=\"1047.63\" cy=\"1158.5\" r=\"2\"/>\n",
       "<circle clip-path=\"url(#clip112)\" style=\"fill:#009af9; stroke:none; fill-opacity:0\" cx=\"1076.19\" cy=\"1262.94\" r=\"2\"/>\n",
       "<circle clip-path=\"url(#clip112)\" style=\"fill:#009af9; stroke:none; fill-opacity:0\" cx=\"1104.74\" cy=\"1289.05\" r=\"2\"/>\n",
       "<circle clip-path=\"url(#clip112)\" style=\"fill:#009af9; stroke:none; fill-opacity:0\" cx=\"1133.3\" cy=\"1346.5\" r=\"2\"/>\n",
       "<circle clip-path=\"url(#clip112)\" style=\"fill:#009af9; stroke:none; fill-opacity:0\" cx=\"1161.86\" cy=\"1372.61\" r=\"2\"/>\n",
       "<circle clip-path=\"url(#clip112)\" style=\"fill:#009af9; stroke:none; fill-opacity:0\" cx=\"1190.41\" cy=\"1398.72\" r=\"2\"/>\n",
       "<circle clip-path=\"url(#clip112)\" style=\"fill:#009af9; stroke:none; fill-opacity:0\" cx=\"1218.97\" cy=\"1367.38\" r=\"2\"/>\n",
       "<circle clip-path=\"url(#clip112)\" style=\"fill:#009af9; stroke:none; fill-opacity:0\" cx=\"1247.53\" cy=\"1346.5\" r=\"2\"/>\n",
       "<circle clip-path=\"url(#clip112)\" style=\"fill:#009af9; stroke:none; fill-opacity:0\" cx=\"1276.09\" cy=\"1388.27\" r=\"2\"/>\n",
       "<circle clip-path=\"url(#clip112)\" style=\"fill:#009af9; stroke:none; fill-opacity:0\" cx=\"1304.64\" cy=\"1372.61\" r=\"2\"/>\n",
       "<circle clip-path=\"url(#clip112)\" style=\"fill:#009af9; stroke:none; fill-opacity:0\" cx=\"1333.2\" cy=\"1388.27\" r=\"2\"/>\n",
       "<circle clip-path=\"url(#clip112)\" style=\"fill:#009af9; stroke:none; fill-opacity:0\" cx=\"1361.76\" cy=\"1393.49\" r=\"2\"/>\n",
       "<circle clip-path=\"url(#clip112)\" style=\"fill:#009af9; stroke:none; fill-opacity:0\" cx=\"1390.31\" cy=\"1419.61\" r=\"2\"/>\n",
       "<circle clip-path=\"url(#clip112)\" style=\"fill:#009af9; stroke:none; fill-opacity:0\" cx=\"1418.87\" cy=\"1419.61\" r=\"2\"/>\n",
       "<circle clip-path=\"url(#clip112)\" style=\"fill:#009af9; stroke:none; fill-opacity:0\" cx=\"1447.43\" cy=\"1398.72\" r=\"2\"/>\n",
       "<circle clip-path=\"url(#clip112)\" style=\"fill:#009af9; stroke:none; fill-opacity:0\" cx=\"1475.98\" cy=\"1409.16\" r=\"2\"/>\n",
       "<circle clip-path=\"url(#clip112)\" style=\"fill:#009af9; stroke:none; fill-opacity:0\" cx=\"1504.54\" cy=\"1435.27\" r=\"2\"/>\n",
       "<circle clip-path=\"url(#clip112)\" style=\"fill:#009af9; stroke:none; fill-opacity:0\" cx=\"1533.1\" cy=\"1419.61\" r=\"2\"/>\n",
       "<circle clip-path=\"url(#clip112)\" style=\"fill:#009af9; stroke:none; fill-opacity:0\" cx=\"1561.66\" cy=\"1419.61\" r=\"2\"/>\n",
       "<circle clip-path=\"url(#clip112)\" style=\"fill:#009af9; stroke:none; fill-opacity:0\" cx=\"1590.21\" cy=\"1398.72\" r=\"2\"/>\n",
       "<circle clip-path=\"url(#clip112)\" style=\"fill:#009af9; stroke:none; fill-opacity:0\" cx=\"1618.77\" cy=\"1398.72\" r=\"2\"/>\n",
       "<circle clip-path=\"url(#clip112)\" style=\"fill:#009af9; stroke:none; fill-opacity:0\" cx=\"1647.33\" cy=\"1398.72\" r=\"2\"/>\n",
       "<circle clip-path=\"url(#clip112)\" style=\"fill:#009af9; stroke:none; fill-opacity:0\" cx=\"1675.88\" cy=\"1430.05\" r=\"2\"/>\n",
       "<circle clip-path=\"url(#clip112)\" style=\"fill:#009af9; stroke:none; fill-opacity:0\" cx=\"1704.44\" cy=\"1398.72\" r=\"2\"/>\n",
       "<circle clip-path=\"url(#clip112)\" style=\"fill:#009af9; stroke:none; fill-opacity:0\" cx=\"1733\" cy=\"1435.27\" r=\"2\"/>\n",
       "<circle clip-path=\"url(#clip112)\" style=\"fill:#009af9; stroke:none; fill-opacity:0\" cx=\"1761.56\" cy=\"1435.27\" r=\"2\"/>\n",
       "<circle clip-path=\"url(#clip112)\" style=\"fill:#009af9; stroke:none; fill-opacity:0\" cx=\"1790.11\" cy=\"1430.05\" r=\"2\"/>\n",
       "<circle clip-path=\"url(#clip112)\" style=\"fill:#009af9; stroke:none; fill-opacity:0\" cx=\"1818.67\" cy=\"1430.05\" r=\"2\"/>\n",
       "<circle clip-path=\"url(#clip112)\" style=\"fill:#009af9; stroke:none; fill-opacity:0\" cx=\"1847.23\" cy=\"1430.05\" r=\"2\"/>\n",
       "<circle clip-path=\"url(#clip112)\" style=\"fill:#009af9; stroke:none; fill-opacity:0\" cx=\"1875.78\" cy=\"1430.05\" r=\"2\"/>\n",
       "<circle clip-path=\"url(#clip112)\" style=\"fill:#009af9; stroke:none; fill-opacity:0\" cx=\"1904.34\" cy=\"1445.72\" r=\"2\"/>\n",
       "<circle clip-path=\"url(#clip112)\" style=\"fill:#009af9; stroke:none; fill-opacity:0\" cx=\"1932.9\" cy=\"1430.05\" r=\"2\"/>\n",
       "<circle clip-path=\"url(#clip112)\" style=\"fill:#009af9; stroke:none; fill-opacity:0\" cx=\"1961.46\" cy=\"1440.49\" r=\"2\"/>\n",
       "<circle clip-path=\"url(#clip112)\" style=\"fill:#009af9; stroke:none; fill-opacity:0\" cx=\"1990.01\" cy=\"1445.72\" r=\"2\"/>\n",
       "<circle clip-path=\"url(#clip112)\" style=\"fill:#009af9; stroke:none; fill-opacity:0\" cx=\"2018.57\" cy=\"1440.49\" r=\"2\"/>\n",
       "<circle clip-path=\"url(#clip112)\" style=\"fill:#009af9; stroke:none; fill-opacity:0\" cx=\"2047.13\" cy=\"1440.49\" r=\"2\"/>\n",
       "<circle clip-path=\"url(#clip112)\" style=\"fill:#009af9; stroke:none; fill-opacity:0\" cx=\"2075.68\" cy=\"1435.27\" r=\"2\"/>\n",
       "<circle clip-path=\"url(#clip112)\" style=\"fill:#009af9; stroke:none; fill-opacity:0\" cx=\"2104.24\" cy=\"1445.72\" r=\"2\"/>\n",
       "<circle clip-path=\"url(#clip112)\" style=\"fill:#009af9; stroke:none; fill-opacity:0\" cx=\"2132.8\" cy=\"1435.27\" r=\"2\"/>\n",
       "<circle clip-path=\"url(#clip112)\" style=\"fill:#009af9; stroke:none; fill-opacity:0\" cx=\"2161.35\" cy=\"1445.72\" r=\"2\"/>\n",
       "<circle clip-path=\"url(#clip112)\" style=\"fill:#009af9; stroke:none; fill-opacity:0\" cx=\"2189.91\" cy=\"1440.49\" r=\"2\"/>\n",
       "<circle clip-path=\"url(#clip112)\" style=\"fill:#009af9; stroke:none; fill-opacity:0\" cx=\"2218.47\" cy=\"1440.49\" r=\"2\"/>\n",
       "<path clip-path=\"url(#clip110)\" d=\"\n",
       "M1985.16 198.898 L2280.03 198.898 L2280.03 95.2176 L1985.16 95.2176  Z\n",
       "  \" fill=\"#ffffff\" fill-rule=\"evenodd\" fill-opacity=\"1\"/>\n",
       "<polyline clip-path=\"url(#clip110)\" style=\"stroke:#000000; stroke-linecap:round; stroke-linejoin:round; stroke-width:4; stroke-opacity:1; fill:none\" points=\"\n",
       "  1985.16,198.898 2280.03,198.898 2280.03,95.2176 1985.16,95.2176 1985.16,198.898 \n",
       "  \"/>\n",
       "<path clip-path=\"url(#clip110)\" d=\"\n",
       "M2009.41 167.794 L2154.87 167.794 L2154.87 126.322 L2009.41 126.322 L2009.41 167.794  Z\n",
       "  \" fill=\"#009af9\" fill-rule=\"evenodd\" fill-opacity=\"1\"/>\n",
       "<polyline clip-path=\"url(#clip110)\" style=\"stroke:#000000; stroke-linecap:round; stroke-linejoin:round; stroke-width:4; stroke-opacity:1; fill:none\" points=\"\n",
       "  2009.41,167.794 2154.87,167.794 2154.87,126.322 2009.41,126.322 2009.41,167.794 \n",
       "  \"/>\n",
       "<path clip-path=\"url(#clip110)\" d=\"M2192.95 166.745 Q2191.15 171.375 2189.43 172.787 Q2187.72 174.199 2184.85 174.199 L2181.45 174.199 L2181.45 170.634 L2183.95 170.634 Q2185.71 170.634 2186.68 169.8 Q2187.65 168.967 2188.83 165.865 L2189.6 163.921 L2179.11 138.412 L2183.62 138.412 L2191.72 158.689 L2199.83 138.412 L2204.34 138.412 L2192.95 166.745 Z\" fill=\"#000000\" fill-rule=\"evenodd\" fill-opacity=\"1\" /><path clip-path=\"url(#clip110)\" d=\"M2211.63 160.402 L2219.27 160.402 L2219.27 134.037 L2210.96 135.703 L2210.96 131.444 L2219.22 129.778 L2223.9 129.778 L2223.9 160.402 L2231.54 160.402 L2231.54 164.338 L2211.63 164.338 L2211.63 160.402 Z\" fill=\"#000000\" fill-rule=\"evenodd\" fill-opacity=\"1\" /></svg>\n"
      ]
     },
     "execution_count": 84,
     "metadata": {},
     "output_type": "execute_result"
    }
   ],
   "source": [
    "scores_flat = vcat(noauc_scores...)\n",
    "histogram(scores_flat) # quasi all scores are very low"
   ]
  },
  {
   "cell_type": "markdown",
   "id": "b04c5cef",
   "metadata": {},
   "source": [
    "## 7 - RF single-RBP LOGOCV"
   ]
  },
  {
   "cell_type": "code",
   "execution_count": 86,
   "id": "2fe83176",
   "metadata": {},
   "outputs": [
    {
     "name": "stderr",
     "output_type": "stream",
     "text": [
      "\u001b[32mProgress: 100%|█████████████████████████████████████████| Time: 0:43:08\u001b[39m\n"
     ]
    }
   ],
   "source": [
    "rf = RandomForestClassifier(n_estimators=1000, max_depth=5, class_weight=\"balanced\", n_jobs=6)\n",
    "noauc_scores = []\n",
    "rocauc_scores = []\n",
    "prauc_scores = []\n",
    "sero_groups = []\n",
    "ranked_q = []\n",
    "p = Progress(200)\n",
    "\n",
    "for item in unique(groups_loci)\n",
    "    # define training and test data\n",
    "    x_train = features_b[groups_loci .!= item, :]\n",
    "    y_train = labels[groups_loci .!= item]\n",
    "    x_test = features_b[groups_loci .== item, :]\n",
    "    y_test = labels[groups_loci .== item]\n",
    "    phage_test = groups_phage[groups_loci .== item]\n",
    "    \n",
    "    # train the model\n",
    "    model = ScikitLearn.fit!(rf, x_train, y_train)\n",
    "    \n",
    "    # loop over phage RBPs in test set\n",
    "    scores_pos = []\n",
    "    this_loci_embedding = loci_embeddings[item]\n",
    "    for phage_index in phage_test\n",
    "        # get the correct rbp embeddings\n",
    "        phageid = unique(RBPbase.phage_ID)[phage_index]\n",
    "        single_rbp_subset = filter(:name => n -> n == phageid, single_rbp_embeddings)\n",
    "        \n",
    "        # make predictions for each single RBP\n",
    "        rbp_scores = []\n",
    "        for rbpi in 1:size(single_rbp_subset)[1] # loop over each single rbp embedding\n",
    "            this_rbp_embedding = BipolarHDV(Vector(single_rbp_subset[rbpi, 2:end]))\n",
    "            test_signature = HyperdimensionalComputing.bind([this_loci_embedding, this_rbp_embedding])\n",
    "            test_matrix = zeros(Int64, 1, 10000)\n",
    "            test_matrix[1,:] = test_signature\n",
    "            this_score = ScikitLearn.predict_proba(model, test_matrix)[:,2]\n",
    "            push!(rbp_scores, this_score[1])\n",
    "        end\n",
    "        \n",
    "        # add max score to the list for AUC computing\n",
    "        push!(scores_pos, maximum(rbp_scores))\n",
    "    end\n",
    "    \n",
    "    # compute ROC & PR AUC\n",
    "    try\n",
    "        roc_auc = roc_auc_score(y_test, scores_pos)\n",
    "        pr_auc = au_prcurve(convert(Vector{Int64}, y_test), convert(Vector{Float64}, scores_pos))\n",
    "        push!(rocauc_scores, roc_auc)\n",
    "        push!(prauc_scores, pr_auc)\n",
    "        this_sero = seros.sero[item]\n",
    "        push!(sero_groups, this_sero)\n",
    "        sorted_query = y_test[sortperm(scores_pos, rev=true)] # sort labels to compute MRR later\n",
    "        push!(ranked_q, sorted_query)\n",
    "    catch\n",
    "        push!(noauc_scores, scores_pos)\n",
    "    end\n",
    "    \n",
    "    # pbar update\n",
    "    next!(p)\n",
    "end"
   ]
  },
  {
   "cell_type": "code",
   "execution_count": 87,
   "id": "e54ec314",
   "metadata": {},
   "outputs": [
    {
     "name": "stdout",
     "output_type": "stream",
     "text": [
      "ROC AUC: 0.8147233611663354\n",
      "PR AUC: 0.386437367691892\n",
      "MRR: 0.5193027014920348\n",
      "Top 10 Recall: 0.7106674165729283\n"
     ]
    }
   ],
   "source": [
    "# print scores\n",
    "println(\"ROC AUC: \", mean(rocauc_scores))\n",
    "println(\"PR AUC: \", mean(prauc_scores))\n",
    "println(\"MRR: \", mean_reciprocal_rank(ranked_q))\n",
    "println(\"Top 10 Recall: \", recallatk(ranked_q, 10))\n",
    "\n",
    "# save scores for plotting\n",
    "logo_results = DataFrame(sero=sero_groups, rocauc_scores=rocauc_scores, prauc_scores=prauc_scores, \n",
    "                            ranked_queries=ranked_q)\n",
    "CSV.write(results_dir*\"/v3.0/hdc_language_aa_singlerbp_logocv_results.csv\", logo_results);"
   ]
  },
  {
   "cell_type": "code",
   "execution_count": 90,
   "id": "0dfb0f42",
   "metadata": {},
   "outputs": [],
   "source": [
    "logo_results = DataFrame(CSV.File(results_dir*\"/v3.0/hdc_language_aa_singlerbp_logocv_results.csv\"))\n",
    "ranked_queries = [eval(Meta.parse(logo_results.ranked_queries[i])) for i in 1:length(logo_results.ranked_queries)]\n",
    "ks = LinRange(1, 46, 46)\n",
    "recalls = [recallatk(ranked_queries, trunc(Int, k)) for k in ks]\n",
    "hits = [hitratio(ranked_queries, trunc(Int, k)) for k in ks]\n",
    "plot(ks, recalls, lw=2.5, label=\"Recall\", c=\"#508AA8\", legend=:topleft, dpi=400)\n",
    "plot!(ks, hits, lw=2.5, label=\"Hit ratio\", c=\"#BA2D0B\")\n",
    "ylims!((0.1, 1))\n",
    "savefig(results_dir*\"/v3.0/hdc_language_aa_singlerbp_logocv_recall_hitratio.png\")"
   ]
  },
  {
   "cell_type": "code",
   "execution_count": 89,
   "id": "126f1eea",
   "metadata": {},
   "outputs": [
    {
     "data": {
      "image/svg+xml": [
       "<?xml version=\"1.0\" encoding=\"utf-8\"?>\n",
       "<svg xmlns=\"http://www.w3.org/2000/svg\" xmlns:xlink=\"http://www.w3.org/1999/xlink\" width=\"600\" height=\"400\" viewBox=\"0 0 2400 1600\">\n",
       "<defs>\n",
       "  <clipPath id=\"clip170\">\n",
       "    <rect x=\"0\" y=\"0\" width=\"2400\" height=\"1600\"/>\n",
       "  </clipPath>\n",
       "</defs>\n",
       "<path clip-path=\"url(#clip170)\" d=\"\n",
       "M0 1600 L2400 1600 L2400 0 L0 0  Z\n",
       "  \" fill=\"#ffffff\" fill-rule=\"evenodd\" fill-opacity=\"1\"/>\n",
       "<defs>\n",
       "  <clipPath id=\"clip171\">\n",
       "    <rect x=\"480\" y=\"0\" width=\"1681\" height=\"1600\"/>\n",
       "  </clipPath>\n",
       "</defs>\n",
       "<path clip-path=\"url(#clip170)\" d=\"\n",
       "M170.857 1486.45 L2352.76 1486.45 L2352.76 47.2441 L170.857 47.2441  Z\n",
       "  \" fill=\"#ffffff\" fill-rule=\"evenodd\" fill-opacity=\"1\"/>\n",
       "<defs>\n",
       "  <clipPath id=\"clip172\">\n",
       "    <rect x=\"170\" y=\"47\" width=\"2183\" height=\"1440\"/>\n",
       "  </clipPath>\n",
       "</defs>\n",
       "<polyline clip-path=\"url(#clip172)\" style=\"stroke:#000000; stroke-linecap:round; stroke-linejoin:round; stroke-width:2; stroke-opacity:0.1; fill:none\" points=\"\n",
       "  274.125,1486.45 274.125,47.2441 \n",
       "  \"/>\n",
       "<polyline clip-path=\"url(#clip172)\" style=\"stroke:#000000; stroke-linecap:round; stroke-linejoin:round; stroke-width:2; stroke-opacity:0.1; fill:none\" points=\"\n",
       "  608.933,1486.45 608.933,47.2441 \n",
       "  \"/>\n",
       "<polyline clip-path=\"url(#clip172)\" style=\"stroke:#000000; stroke-linecap:round; stroke-linejoin:round; stroke-width:2; stroke-opacity:0.1; fill:none\" points=\"\n",
       "  943.74,1486.45 943.74,47.2441 \n",
       "  \"/>\n",
       "<polyline clip-path=\"url(#clip172)\" style=\"stroke:#000000; stroke-linecap:round; stroke-linejoin:round; stroke-width:2; stroke-opacity:0.1; fill:none\" points=\"\n",
       "  1278.55,1486.45 1278.55,47.2441 \n",
       "  \"/>\n",
       "<polyline clip-path=\"url(#clip172)\" style=\"stroke:#000000; stroke-linecap:round; stroke-linejoin:round; stroke-width:2; stroke-opacity:0.1; fill:none\" points=\"\n",
       "  1613.35,1486.45 1613.35,47.2441 \n",
       "  \"/>\n",
       "<polyline clip-path=\"url(#clip172)\" style=\"stroke:#000000; stroke-linecap:round; stroke-linejoin:round; stroke-width:2; stroke-opacity:0.1; fill:none\" points=\"\n",
       "  1948.16,1486.45 1948.16,47.2441 \n",
       "  \"/>\n",
       "<polyline clip-path=\"url(#clip172)\" style=\"stroke:#000000; stroke-linecap:round; stroke-linejoin:round; stroke-width:2; stroke-opacity:0.1; fill:none\" points=\"\n",
       "  2282.97,1486.45 2282.97,47.2441 \n",
       "  \"/>\n",
       "<polyline clip-path=\"url(#clip170)\" style=\"stroke:#000000; stroke-linecap:round; stroke-linejoin:round; stroke-width:4; stroke-opacity:1; fill:none\" points=\"\n",
       "  170.857,1486.45 2352.76,1486.45 \n",
       "  \"/>\n",
       "<polyline clip-path=\"url(#clip170)\" style=\"stroke:#000000; stroke-linecap:round; stroke-linejoin:round; stroke-width:4; stroke-opacity:1; fill:none\" points=\"\n",
       "  274.125,1486.45 274.125,1467.55 \n",
       "  \"/>\n",
       "<polyline clip-path=\"url(#clip170)\" style=\"stroke:#000000; stroke-linecap:round; stroke-linejoin:round; stroke-width:4; stroke-opacity:1; fill:none\" points=\"\n",
       "  608.933,1486.45 608.933,1467.55 \n",
       "  \"/>\n",
       "<polyline clip-path=\"url(#clip170)\" style=\"stroke:#000000; stroke-linecap:round; stroke-linejoin:round; stroke-width:4; stroke-opacity:1; fill:none\" points=\"\n",
       "  943.74,1486.45 943.74,1467.55 \n",
       "  \"/>\n",
       "<polyline clip-path=\"url(#clip170)\" style=\"stroke:#000000; stroke-linecap:round; stroke-linejoin:round; stroke-width:4; stroke-opacity:1; fill:none\" points=\"\n",
       "  1278.55,1486.45 1278.55,1467.55 \n",
       "  \"/>\n",
       "<polyline clip-path=\"url(#clip170)\" style=\"stroke:#000000; stroke-linecap:round; stroke-linejoin:round; stroke-width:4; stroke-opacity:1; fill:none\" points=\"\n",
       "  1613.35,1486.45 1613.35,1467.55 \n",
       "  \"/>\n",
       "<polyline clip-path=\"url(#clip170)\" style=\"stroke:#000000; stroke-linecap:round; stroke-linejoin:round; stroke-width:4; stroke-opacity:1; fill:none\" points=\"\n",
       "  1948.16,1486.45 1948.16,1467.55 \n",
       "  \"/>\n",
       "<polyline clip-path=\"url(#clip170)\" style=\"stroke:#000000; stroke-linecap:round; stroke-linejoin:round; stroke-width:4; stroke-opacity:1; fill:none\" points=\"\n",
       "  2282.97,1486.45 2282.97,1467.55 \n",
       "  \"/>\n",
       "<path clip-path=\"url(#clip170)\" d=\"M252.308 1517.37 Q248.697 1517.37 246.869 1520.93 Q245.063 1524.47 245.063 1531.6 Q245.063 1538.71 246.869 1542.27 Q248.697 1545.82 252.308 1545.82 Q255.943 1545.82 257.748 1542.27 Q259.577 1538.71 259.577 1531.6 Q259.577 1524.47 257.748 1520.93 Q255.943 1517.37 252.308 1517.37 M252.308 1513.66 Q258.118 1513.66 261.174 1518.27 Q264.253 1522.85 264.253 1531.6 Q264.253 1540.33 261.174 1544.94 Q258.118 1549.52 252.308 1549.52 Q246.498 1549.52 243.42 1544.94 Q240.364 1540.33 240.364 1531.6 Q240.364 1522.85 243.42 1518.27 Q246.498 1513.66 252.308 1513.66 Z\" fill=\"#000000\" fill-rule=\"evenodd\" fill-opacity=\"1\" /><path clip-path=\"url(#clip170)\" d=\"M272.47 1542.97 L277.355 1542.97 L277.355 1548.85 L272.47 1548.85 L272.47 1542.97 Z\" fill=\"#000000\" fill-rule=\"evenodd\" fill-opacity=\"1\" /><path clip-path=\"url(#clip170)\" d=\"M291.567 1544.91 L307.887 1544.91 L307.887 1548.85 L285.942 1548.85 L285.942 1544.91 Q288.604 1542.16 293.188 1537.53 Q297.794 1532.88 298.975 1531.53 Q301.22 1529.01 302.1 1527.27 Q303.003 1525.51 303.003 1523.82 Q303.003 1521.07 301.058 1519.33 Q299.137 1517.6 296.035 1517.6 Q293.836 1517.6 291.382 1518.36 Q288.952 1519.13 286.174 1520.68 L286.174 1515.95 Q288.998 1514.82 291.452 1514.24 Q293.905 1513.66 295.942 1513.66 Q301.313 1513.66 304.507 1516.35 Q307.702 1519.03 307.702 1523.52 Q307.702 1525.65 306.891 1527.57 Q306.104 1529.47 303.998 1532.07 Q303.419 1532.74 300.317 1535.95 Q297.216 1539.15 291.567 1544.91 Z\" fill=\"#000000\" fill-rule=\"evenodd\" fill-opacity=\"1\" /><path clip-path=\"url(#clip170)\" d=\"M586.641 1517.37 Q583.03 1517.37 581.201 1520.93 Q579.396 1524.47 579.396 1531.6 Q579.396 1538.71 581.201 1542.27 Q583.03 1545.82 586.641 1545.82 Q590.275 1545.82 592.081 1542.27 Q593.91 1538.71 593.91 1531.6 Q593.91 1524.47 592.081 1520.93 Q590.275 1517.37 586.641 1517.37 M586.641 1513.66 Q592.451 1513.66 595.507 1518.27 Q598.585 1522.85 598.585 1531.6 Q598.585 1540.33 595.507 1544.94 Q592.451 1549.52 586.641 1549.52 Q580.831 1549.52 577.752 1544.94 Q574.697 1540.33 574.697 1531.6 Q574.697 1522.85 577.752 1518.27 Q580.831 1513.66 586.641 1513.66 Z\" fill=\"#000000\" fill-rule=\"evenodd\" fill-opacity=\"1\" /><path clip-path=\"url(#clip170)\" d=\"M606.803 1542.97 L611.687 1542.97 L611.687 1548.85 L606.803 1548.85 L606.803 1542.97 Z\" fill=\"#000000\" fill-rule=\"evenodd\" fill-opacity=\"1\" /><path clip-path=\"url(#clip170)\" d=\"M636.039 1530.21 Q639.395 1530.93 641.27 1533.2 Q643.169 1535.47 643.169 1538.8 Q643.169 1543.92 639.65 1546.72 Q636.132 1549.52 629.65 1549.52 Q627.474 1549.52 625.159 1549.08 Q622.868 1548.66 620.414 1547.81 L620.414 1543.29 Q622.358 1544.43 624.673 1545.01 Q626.988 1545.58 629.511 1545.58 Q633.909 1545.58 636.201 1543.85 Q638.516 1542.11 638.516 1538.8 Q638.516 1535.75 636.363 1534.03 Q634.233 1532.3 630.414 1532.3 L626.386 1532.3 L626.386 1528.45 L630.599 1528.45 Q634.048 1528.45 635.877 1527.09 Q637.706 1525.7 637.706 1523.11 Q637.706 1520.45 635.807 1519.03 Q633.932 1517.6 630.414 1517.6 Q628.493 1517.6 626.294 1518.01 Q624.095 1518.43 621.456 1519.31 L621.456 1515.14 Q624.118 1514.4 626.432 1514.03 Q628.77 1513.66 630.831 1513.66 Q636.155 1513.66 639.256 1516.09 Q642.358 1518.5 642.358 1522.62 Q642.358 1525.49 640.715 1527.48 Q639.071 1529.45 636.039 1530.21 Z\" fill=\"#000000\" fill-rule=\"evenodd\" fill-opacity=\"1\" /><path clip-path=\"url(#clip170)\" d=\"M920.881 1517.37 Q917.27 1517.37 915.441 1520.93 Q913.636 1524.47 913.636 1531.6 Q913.636 1538.71 915.441 1542.27 Q917.27 1545.82 920.881 1545.82 Q924.515 1545.82 926.321 1542.27 Q928.15 1538.71 928.15 1531.6 Q928.15 1524.47 926.321 1520.93 Q924.515 1517.37 920.881 1517.37 M920.881 1513.66 Q926.691 1513.66 929.747 1518.27 Q932.826 1522.85 932.826 1531.6 Q932.826 1540.33 929.747 1544.94 Q926.691 1549.52 920.881 1549.52 Q915.071 1549.52 911.992 1544.94 Q908.937 1540.33 908.937 1531.6 Q908.937 1522.85 911.992 1518.27 Q915.071 1513.66 920.881 1513.66 Z\" fill=\"#000000\" fill-rule=\"evenodd\" fill-opacity=\"1\" /><path clip-path=\"url(#clip170)\" d=\"M941.043 1542.97 L945.927 1542.97 L945.927 1548.85 L941.043 1548.85 L941.043 1542.97 Z\" fill=\"#000000\" fill-rule=\"evenodd\" fill-opacity=\"1\" /><path clip-path=\"url(#clip170)\" d=\"M968.96 1518.36 L957.154 1536.81 L968.96 1536.81 L968.96 1518.36 M967.733 1514.29 L973.612 1514.29 L973.612 1536.81 L978.543 1536.81 L978.543 1540.7 L973.612 1540.7 L973.612 1548.85 L968.96 1548.85 L968.96 1540.7 L953.358 1540.7 L953.358 1536.19 L967.733 1514.29 Z\" fill=\"#000000\" fill-rule=\"evenodd\" fill-opacity=\"1\" /><path clip-path=\"url(#clip170)\" d=\"M1256.43 1517.37 Q1252.82 1517.37 1250.99 1520.93 Q1249.18 1524.47 1249.18 1531.6 Q1249.18 1538.71 1250.99 1542.27 Q1252.82 1545.82 1256.43 1545.82 Q1260.06 1545.82 1261.87 1542.27 Q1263.7 1538.71 1263.7 1531.6 Q1263.7 1524.47 1261.87 1520.93 Q1260.06 1517.37 1256.43 1517.37 M1256.43 1513.66 Q1262.24 1513.66 1265.29 1518.27 Q1268.37 1522.85 1268.37 1531.6 Q1268.37 1540.33 1265.29 1544.94 Q1262.24 1549.52 1256.43 1549.52 Q1250.62 1549.52 1247.54 1544.94 Q1244.48 1540.33 1244.48 1531.6 Q1244.48 1522.85 1247.54 1518.27 Q1250.62 1513.66 1256.43 1513.66 Z\" fill=\"#000000\" fill-rule=\"evenodd\" fill-opacity=\"1\" /><path clip-path=\"url(#clip170)\" d=\"M1276.59 1542.97 L1281.48 1542.97 L1281.48 1548.85 L1276.59 1548.85 L1276.59 1542.97 Z\" fill=\"#000000\" fill-rule=\"evenodd\" fill-opacity=\"1\" /><path clip-path=\"url(#clip170)\" d=\"M1291.71 1514.29 L1310.06 1514.29 L1310.06 1518.22 L1295.99 1518.22 L1295.99 1526.7 Q1297.01 1526.35 1298.03 1526.19 Q1299.04 1526 1300.06 1526 Q1305.85 1526 1309.23 1529.17 Q1312.61 1532.34 1312.61 1537.76 Q1312.61 1543.34 1309.14 1546.44 Q1305.66 1549.52 1299.35 1549.52 Q1297.17 1549.52 1294.9 1549.15 Q1292.66 1548.78 1290.25 1548.04 L1290.25 1543.34 Q1292.33 1544.47 1294.55 1545.03 Q1296.78 1545.58 1299.25 1545.58 Q1303.26 1545.58 1305.6 1543.48 Q1307.93 1541.37 1307.93 1537.76 Q1307.93 1534.15 1305.6 1532.04 Q1303.26 1529.94 1299.25 1529.94 Q1297.38 1529.94 1295.5 1530.35 Q1293.65 1530.77 1291.71 1531.65 L1291.71 1514.29 Z\" fill=\"#000000\" fill-rule=\"evenodd\" fill-opacity=\"1\" /><path clip-path=\"url(#clip170)\" d=\"M1590.66 1517.37 Q1587.05 1517.37 1585.22 1520.93 Q1583.41 1524.47 1583.41 1531.6 Q1583.41 1538.71 1585.22 1542.27 Q1587.05 1545.82 1590.66 1545.82 Q1594.29 1545.82 1596.1 1542.27 Q1597.93 1538.71 1597.93 1531.6 Q1597.93 1524.47 1596.1 1520.93 Q1594.29 1517.37 1590.66 1517.37 M1590.66 1513.66 Q1596.47 1513.66 1599.52 1518.27 Q1602.6 1522.85 1602.6 1531.6 Q1602.6 1540.33 1599.52 1544.94 Q1596.47 1549.52 1590.66 1549.52 Q1584.85 1549.52 1581.77 1544.94 Q1578.71 1540.33 1578.71 1531.6 Q1578.71 1522.85 1581.77 1518.27 Q1584.85 1513.66 1590.66 1513.66 Z\" fill=\"#000000\" fill-rule=\"evenodd\" fill-opacity=\"1\" /><path clip-path=\"url(#clip170)\" d=\"M1610.82 1542.97 L1615.7 1542.97 L1615.7 1548.85 L1610.82 1548.85 L1610.82 1542.97 Z\" fill=\"#000000\" fill-rule=\"evenodd\" fill-opacity=\"1\" /><path clip-path=\"url(#clip170)\" d=\"M1636.47 1529.7 Q1633.32 1529.7 1631.47 1531.86 Q1629.64 1534.01 1629.64 1537.76 Q1629.64 1541.49 1631.47 1543.66 Q1633.32 1545.82 1636.47 1545.82 Q1639.62 1545.82 1641.44 1543.66 Q1643.3 1541.49 1643.3 1537.76 Q1643.3 1534.01 1641.44 1531.86 Q1639.62 1529.7 1636.47 1529.7 M1645.75 1515.05 L1645.75 1519.31 Q1643.99 1518.48 1642.19 1518.04 Q1640.4 1517.6 1638.64 1517.6 Q1634.01 1517.6 1631.56 1520.72 Q1629.13 1523.85 1628.78 1530.17 Q1630.15 1528.15 1632.21 1527.09 Q1634.27 1526 1636.75 1526 Q1641.95 1526 1644.96 1529.17 Q1648 1532.32 1648 1537.76 Q1648 1543.08 1644.85 1546.3 Q1641.7 1549.52 1636.47 1549.52 Q1630.47 1549.52 1627.3 1544.94 Q1624.13 1540.33 1624.13 1531.6 Q1624.13 1523.41 1628.02 1518.55 Q1631.91 1513.66 1638.46 1513.66 Q1640.22 1513.66 1642 1514.01 Q1643.81 1514.36 1645.75 1515.05 Z\" fill=\"#000000\" fill-rule=\"evenodd\" fill-opacity=\"1\" /><path clip-path=\"url(#clip170)\" d=\"M1926 1517.37 Q1922.39 1517.37 1920.56 1520.93 Q1918.75 1524.47 1918.75 1531.6 Q1918.75 1538.71 1920.56 1542.27 Q1922.39 1545.82 1926 1545.82 Q1929.63 1545.82 1931.44 1542.27 Q1933.27 1538.71 1933.27 1531.6 Q1933.27 1524.47 1931.44 1520.93 Q1929.63 1517.37 1926 1517.37 M1926 1513.66 Q1931.81 1513.66 1934.86 1518.27 Q1937.94 1522.85 1937.94 1531.6 Q1937.94 1540.33 1934.86 1544.94 Q1931.81 1549.52 1926 1549.52 Q1920.19 1549.52 1917.11 1544.94 Q1914.05 1540.33 1914.05 1531.6 Q1914.05 1522.85 1917.11 1518.27 Q1920.19 1513.66 1926 1513.66 Z\" fill=\"#000000\" fill-rule=\"evenodd\" fill-opacity=\"1\" /><path clip-path=\"url(#clip170)\" d=\"M1946.16 1542.97 L1951.04 1542.97 L1951.04 1548.85 L1946.16 1548.85 L1946.16 1542.97 Z\" fill=\"#000000\" fill-rule=\"evenodd\" fill-opacity=\"1\" /><path clip-path=\"url(#clip170)\" d=\"M1960.05 1514.29 L1982.27 1514.29 L1982.27 1516.28 L1969.72 1548.85 L1964.84 1548.85 L1976.65 1518.22 L1960.05 1518.22 L1960.05 1514.29 Z\" fill=\"#000000\" fill-rule=\"evenodd\" fill-opacity=\"1\" /><path clip-path=\"url(#clip170)\" d=\"M2260.4 1517.37 Q2256.79 1517.37 2254.96 1520.93 Q2253.15 1524.47 2253.15 1531.6 Q2253.15 1538.71 2254.96 1542.27 Q2256.79 1545.82 2260.4 1545.82 Q2264.03 1545.82 2265.84 1542.27 Q2267.67 1538.71 2267.67 1531.6 Q2267.67 1524.47 2265.84 1520.93 Q2264.03 1517.37 2260.4 1517.37 M2260.4 1513.66 Q2266.21 1513.66 2269.27 1518.27 Q2272.34 1522.85 2272.34 1531.6 Q2272.34 1540.33 2269.27 1544.94 Q2266.21 1549.52 2260.4 1549.52 Q2254.59 1549.52 2251.51 1544.94 Q2248.45 1540.33 2248.45 1531.6 Q2248.45 1522.85 2251.51 1518.27 Q2254.59 1513.66 2260.4 1513.66 Z\" fill=\"#000000\" fill-rule=\"evenodd\" fill-opacity=\"1\" /><path clip-path=\"url(#clip170)\" d=\"M2280.56 1542.97 L2285.45 1542.97 L2285.45 1548.85 L2280.56 1548.85 L2280.56 1542.97 Z\" fill=\"#000000\" fill-rule=\"evenodd\" fill-opacity=\"1\" /><path clip-path=\"url(#clip170)\" d=\"M2305.63 1532.44 Q2302.3 1532.44 2300.38 1534.22 Q2298.48 1536 2298.48 1539.13 Q2298.48 1542.25 2300.38 1544.03 Q2302.3 1545.82 2305.63 1545.82 Q2308.96 1545.82 2310.89 1544.03 Q2312.81 1542.23 2312.81 1539.13 Q2312.81 1536 2310.89 1534.22 Q2308.99 1532.44 2305.63 1532.44 M2300.95 1530.45 Q2297.95 1529.7 2296.26 1527.64 Q2294.59 1525.58 2294.59 1522.62 Q2294.59 1518.48 2297.53 1516.07 Q2300.49 1513.66 2305.63 1513.66 Q2310.79 1513.66 2313.73 1516.07 Q2316.67 1518.48 2316.67 1522.62 Q2316.67 1525.58 2314.98 1527.64 Q2313.32 1529.7 2310.33 1530.45 Q2313.71 1531.23 2315.58 1533.52 Q2317.48 1535.82 2317.48 1539.13 Q2317.48 1544.15 2314.4 1546.83 Q2311.35 1549.52 2305.63 1549.52 Q2299.91 1549.52 2296.83 1546.83 Q2293.78 1544.15 2293.78 1539.13 Q2293.78 1535.82 2295.68 1533.52 Q2297.58 1531.23 2300.95 1530.45 M2299.24 1523.06 Q2299.24 1525.75 2300.91 1527.25 Q2302.6 1528.76 2305.63 1528.76 Q2308.64 1528.76 2310.33 1527.25 Q2312.04 1525.75 2312.04 1523.06 Q2312.04 1520.38 2310.33 1518.87 Q2308.64 1517.37 2305.63 1517.37 Q2302.6 1517.37 2300.91 1518.87 Q2299.24 1520.38 2299.24 1523.06 Z\" fill=\"#000000\" fill-rule=\"evenodd\" fill-opacity=\"1\" /><polyline clip-path=\"url(#clip172)\" style=\"stroke:#000000; stroke-linecap:round; stroke-linejoin:round; stroke-width:2; stroke-opacity:0.1; fill:none\" points=\"\n",
       "  170.857,1445.72 2352.76,1445.72 \n",
       "  \"/>\n",
       "<polyline clip-path=\"url(#clip172)\" style=\"stroke:#000000; stroke-linecap:round; stroke-linejoin:round; stroke-width:2; stroke-opacity:0.1; fill:none\" points=\"\n",
       "  170.857,1184.61 2352.76,1184.61 \n",
       "  \"/>\n",
       "<polyline clip-path=\"url(#clip172)\" style=\"stroke:#000000; stroke-linecap:round; stroke-linejoin:round; stroke-width:2; stroke-opacity:0.1; fill:none\" points=\"\n",
       "  170.857,923.508 2352.76,923.508 \n",
       "  \"/>\n",
       "<polyline clip-path=\"url(#clip172)\" style=\"stroke:#000000; stroke-linecap:round; stroke-linejoin:round; stroke-width:2; stroke-opacity:0.1; fill:none\" points=\"\n",
       "  170.857,662.404 2352.76,662.404 \n",
       "  \"/>\n",
       "<polyline clip-path=\"url(#clip172)\" style=\"stroke:#000000; stroke-linecap:round; stroke-linejoin:round; stroke-width:2; stroke-opacity:0.1; fill:none\" points=\"\n",
       "  170.857,401.301 2352.76,401.301 \n",
       "  \"/>\n",
       "<polyline clip-path=\"url(#clip172)\" style=\"stroke:#000000; stroke-linecap:round; stroke-linejoin:round; stroke-width:2; stroke-opacity:0.1; fill:none\" points=\"\n",
       "  170.857,140.197 2352.76,140.197 \n",
       "  \"/>\n",
       "<polyline clip-path=\"url(#clip170)\" style=\"stroke:#000000; stroke-linecap:round; stroke-linejoin:round; stroke-width:4; stroke-opacity:1; fill:none\" points=\"\n",
       "  170.857,1486.45 170.857,47.2441 \n",
       "  \"/>\n",
       "<polyline clip-path=\"url(#clip170)\" style=\"stroke:#000000; stroke-linecap:round; stroke-linejoin:round; stroke-width:4; stroke-opacity:1; fill:none\" points=\"\n",
       "  170.857,1445.72 189.755,1445.72 \n",
       "  \"/>\n",
       "<polyline clip-path=\"url(#clip170)\" style=\"stroke:#000000; stroke-linecap:round; stroke-linejoin:round; stroke-width:4; stroke-opacity:1; fill:none\" points=\"\n",
       "  170.857,1184.61 189.755,1184.61 \n",
       "  \"/>\n",
       "<polyline clip-path=\"url(#clip170)\" style=\"stroke:#000000; stroke-linecap:round; stroke-linejoin:round; stroke-width:4; stroke-opacity:1; fill:none\" points=\"\n",
       "  170.857,923.508 189.755,923.508 \n",
       "  \"/>\n",
       "<polyline clip-path=\"url(#clip170)\" style=\"stroke:#000000; stroke-linecap:round; stroke-linejoin:round; stroke-width:4; stroke-opacity:1; fill:none\" points=\"\n",
       "  170.857,662.404 189.755,662.404 \n",
       "  \"/>\n",
       "<polyline clip-path=\"url(#clip170)\" style=\"stroke:#000000; stroke-linecap:round; stroke-linejoin:round; stroke-width:4; stroke-opacity:1; fill:none\" points=\"\n",
       "  170.857,401.301 189.755,401.301 \n",
       "  \"/>\n",
       "<polyline clip-path=\"url(#clip170)\" style=\"stroke:#000000; stroke-linecap:round; stroke-linejoin:round; stroke-width:4; stroke-opacity:1; fill:none\" points=\"\n",
       "  170.857,140.197 189.755,140.197 \n",
       "  \"/>\n",
       "<path clip-path=\"url(#clip170)\" d=\"M122.913 1431.51 Q119.302 1431.51 117.473 1435.08 Q115.668 1438.62 115.668 1445.75 Q115.668 1452.86 117.473 1456.42 Q119.302 1459.96 122.913 1459.96 Q126.547 1459.96 128.353 1456.42 Q130.182 1452.86 130.182 1445.75 Q130.182 1438.62 128.353 1435.08 Q126.547 1431.51 122.913 1431.51 M122.913 1427.81 Q128.723 1427.81 131.779 1432.42 Q134.857 1437 134.857 1445.75 Q134.857 1454.48 131.779 1459.08 Q128.723 1463.67 122.913 1463.67 Q117.103 1463.67 114.024 1459.08 Q110.969 1454.48 110.969 1445.75 Q110.969 1437 114.024 1432.42 Q117.103 1427.81 122.913 1427.81 Z\" fill=\"#000000\" fill-rule=\"evenodd\" fill-opacity=\"1\" /><path clip-path=\"url(#clip170)\" d=\"M82.7975 1167.33 L101.154 1167.33 L101.154 1171.27 L87.0799 1171.27 L87.0799 1179.74 Q88.0984 1179.39 89.1169 1179.23 Q90.1354 1179.04 91.1539 1179.04 Q96.941 1179.04 100.321 1182.22 Q103.7 1185.39 103.7 1190.8 Q103.7 1196.38 100.228 1199.48 Q96.7558 1202.56 90.4364 1202.56 Q88.2604 1202.56 85.9919 1202.19 Q83.7466 1201.82 81.3392 1201.08 L81.3392 1196.38 Q83.4225 1197.52 85.6447 1198.07 Q87.8669 1198.63 90.3438 1198.63 Q94.3484 1198.63 96.6863 1196.52 Q99.0243 1194.42 99.0243 1190.8 Q99.0243 1187.19 96.6863 1185.09 Q94.3484 1182.98 90.3438 1182.98 Q88.4688 1182.98 86.5938 1183.4 Q84.7419 1183.81 82.7975 1184.69 L82.7975 1167.33 Z\" fill=\"#000000\" fill-rule=\"evenodd\" fill-opacity=\"1\" /><path clip-path=\"url(#clip170)\" d=\"M122.913 1170.41 Q119.302 1170.41 117.473 1173.98 Q115.668 1177.52 115.668 1184.65 Q115.668 1191.75 117.473 1195.32 Q119.302 1198.86 122.913 1198.86 Q126.547 1198.86 128.353 1195.32 Q130.182 1191.75 130.182 1184.65 Q130.182 1177.52 128.353 1173.98 Q126.547 1170.41 122.913 1170.41 M122.913 1166.71 Q128.723 1166.71 131.779 1171.31 Q134.857 1175.9 134.857 1184.65 Q134.857 1193.37 131.779 1197.98 Q128.723 1202.56 122.913 1202.56 Q117.103 1202.56 114.024 1197.98 Q110.969 1193.37 110.969 1184.65 Q110.969 1175.9 114.024 1171.31 Q117.103 1166.71 122.913 1166.71 Z\" fill=\"#000000\" fill-rule=\"evenodd\" fill-opacity=\"1\" /><path clip-path=\"url(#clip170)\" d=\"M53.3995 936.853 L61.0384 936.853 L61.0384 910.487 L52.7282 912.154 L52.7282 907.895 L60.9921 906.228 L65.668 906.228 L65.668 936.853 L73.3068 936.853 L73.3068 940.788 L53.3995 940.788 L53.3995 936.853 Z\" fill=\"#000000\" fill-rule=\"evenodd\" fill-opacity=\"1\" /><path clip-path=\"url(#clip170)\" d=\"M92.7512 909.307 Q89.1401 909.307 87.3114 912.872 Q85.5058 916.413 85.5058 923.543 Q85.5058 930.649 87.3114 934.214 Q89.1401 937.756 92.7512 937.756 Q96.3854 937.756 98.1909 934.214 Q100.02 930.649 100.02 923.543 Q100.02 916.413 98.1909 912.872 Q96.3854 909.307 92.7512 909.307 M92.7512 905.603 Q98.5613 905.603 101.617 910.21 Q104.696 914.793 104.696 923.543 Q104.696 932.27 101.617 936.876 Q98.5613 941.46 92.7512 941.46 Q86.941 941.46 83.8623 936.876 Q80.8068 932.27 80.8068 923.543 Q80.8068 914.793 83.8623 910.21 Q86.941 905.603 92.7512 905.603 Z\" fill=\"#000000\" fill-rule=\"evenodd\" fill-opacity=\"1\" /><path clip-path=\"url(#clip170)\" d=\"M122.913 909.307 Q119.302 909.307 117.473 912.872 Q115.668 916.413 115.668 923.543 Q115.668 930.649 117.473 934.214 Q119.302 937.756 122.913 937.756 Q126.547 937.756 128.353 934.214 Q130.182 930.649 130.182 923.543 Q130.182 916.413 128.353 912.872 Q126.547 909.307 122.913 909.307 M122.913 905.603 Q128.723 905.603 131.779 910.21 Q134.857 914.793 134.857 923.543 Q134.857 932.27 131.779 936.876 Q128.723 941.46 122.913 941.46 Q117.103 941.46 114.024 936.876 Q110.969 932.27 110.969 923.543 Q110.969 914.793 114.024 910.21 Q117.103 905.603 122.913 905.603 Z\" fill=\"#000000\" fill-rule=\"evenodd\" fill-opacity=\"1\" /><path clip-path=\"url(#clip170)\" d=\"M53.3995 675.749 L61.0384 675.749 L61.0384 649.384 L52.7282 651.05 L52.7282 646.791 L60.9921 645.124 L65.668 645.124 L65.668 675.749 L73.3068 675.749 L73.3068 679.684 L53.3995 679.684 L53.3995 675.749 Z\" fill=\"#000000\" fill-rule=\"evenodd\" fill-opacity=\"1\" /><path clip-path=\"url(#clip170)\" d=\"M82.7975 645.124 L101.154 645.124 L101.154 649.06 L87.0799 649.06 L87.0799 657.532 Q88.0984 657.185 89.1169 657.023 Q90.1354 656.837 91.1539 656.837 Q96.941 656.837 100.321 660.009 Q103.7 663.18 103.7 668.597 Q103.7 674.175 100.228 677.277 Q96.7558 680.356 90.4364 680.356 Q88.2604 680.356 85.9919 679.985 Q83.7466 679.615 81.3392 678.874 L81.3392 674.175 Q83.4225 675.31 85.6447 675.865 Q87.8669 676.421 90.3438 676.421 Q94.3484 676.421 96.6863 674.314 Q99.0243 672.208 99.0243 668.597 Q99.0243 664.985 96.6863 662.879 Q94.3484 660.773 90.3438 660.773 Q88.4688 660.773 86.5938 661.189 Q84.7419 661.606 82.7975 662.486 L82.7975 645.124 Z\" fill=\"#000000\" fill-rule=\"evenodd\" fill-opacity=\"1\" /><path clip-path=\"url(#clip170)\" d=\"M122.913 648.203 Q119.302 648.203 117.473 651.768 Q115.668 655.31 115.668 662.439 Q115.668 669.546 117.473 673.11 Q119.302 676.652 122.913 676.652 Q126.547 676.652 128.353 673.11 Q130.182 669.546 130.182 662.439 Q130.182 655.31 128.353 651.768 Q126.547 648.203 122.913 648.203 M122.913 644.499 Q128.723 644.499 131.779 649.106 Q134.857 653.689 134.857 662.439 Q134.857 671.166 131.779 675.772 Q128.723 680.356 122.913 680.356 Q117.103 680.356 114.024 675.772 Q110.969 671.166 110.969 662.439 Q110.969 653.689 114.024 649.106 Q117.103 644.499 122.913 644.499 Z\" fill=\"#000000\" fill-rule=\"evenodd\" fill-opacity=\"1\" /><path clip-path=\"url(#clip170)\" d=\"M56.6171 414.646 L72.9365 414.646 L72.9365 418.581 L50.9921 418.581 L50.9921 414.646 Q53.6541 411.891 58.2375 407.261 Q62.8439 402.609 64.0245 401.266 Q66.2698 398.743 67.1494 397.007 Q68.0522 395.248 68.0522 393.558 Q68.0522 390.803 66.1078 389.067 Q64.1865 387.331 61.0847 387.331 Q58.8856 387.331 56.4319 388.095 Q54.0014 388.859 51.2236 390.41 L51.2236 385.687 Q54.0477 384.553 56.5014 383.974 Q58.955 383.396 60.9921 383.396 Q66.3624 383.396 69.5568 386.081 Q72.7513 388.766 72.7513 393.257 Q72.7513 395.386 71.9411 397.308 Q71.1541 399.206 69.0476 401.798 Q68.4689 402.47 65.367 405.687 Q62.2652 408.882 56.6171 414.646 Z\" fill=\"#000000\" fill-rule=\"evenodd\" fill-opacity=\"1\" /><path clip-path=\"url(#clip170)\" d=\"M92.7512 387.099 Q89.1401 387.099 87.3114 390.664 Q85.5058 394.206 85.5058 401.335 Q85.5058 408.442 87.3114 412.007 Q89.1401 415.548 92.7512 415.548 Q96.3854 415.548 98.1909 412.007 Q100.02 408.442 100.02 401.335 Q100.02 394.206 98.1909 390.664 Q96.3854 387.099 92.7512 387.099 M92.7512 383.396 Q98.5613 383.396 101.617 388.002 Q104.696 392.586 104.696 401.335 Q104.696 410.062 101.617 414.669 Q98.5613 419.252 92.7512 419.252 Q86.941 419.252 83.8623 414.669 Q80.8068 410.062 80.8068 401.335 Q80.8068 392.586 83.8623 388.002 Q86.941 383.396 92.7512 383.396 Z\" fill=\"#000000\" fill-rule=\"evenodd\" fill-opacity=\"1\" /><path clip-path=\"url(#clip170)\" d=\"M122.913 387.099 Q119.302 387.099 117.473 390.664 Q115.668 394.206 115.668 401.335 Q115.668 408.442 117.473 412.007 Q119.302 415.548 122.913 415.548 Q126.547 415.548 128.353 412.007 Q130.182 408.442 130.182 401.335 Q130.182 394.206 128.353 390.664 Q126.547 387.099 122.913 387.099 M122.913 383.396 Q128.723 383.396 131.779 388.002 Q134.857 392.586 134.857 401.335 Q134.857 410.062 131.779 414.669 Q128.723 419.252 122.913 419.252 Q117.103 419.252 114.024 414.669 Q110.969 410.062 110.969 401.335 Q110.969 392.586 114.024 388.002 Q117.103 383.396 122.913 383.396 Z\" fill=\"#000000\" fill-rule=\"evenodd\" fill-opacity=\"1\" /><path clip-path=\"url(#clip170)\" d=\"M56.6171 153.542 L72.9365 153.542 L72.9365 157.477 L50.9921 157.477 L50.9921 153.542 Q53.6541 150.787 58.2375 146.158 Q62.8439 141.505 64.0245 140.162 Q66.2698 137.639 67.1494 135.903 Q68.0522 134.144 68.0522 132.454 Q68.0522 129.699 66.1078 127.963 Q64.1865 126.227 61.0847 126.227 Q58.8856 126.227 56.4319 126.991 Q54.0014 127.755 51.2236 129.306 L51.2236 124.584 Q54.0477 123.449 56.5014 122.871 Q58.955 122.292 60.9921 122.292 Q66.3624 122.292 69.5568 124.977 Q72.7513 127.662 72.7513 132.153 Q72.7513 134.283 71.9411 136.204 Q71.1541 138.102 69.0476 140.695 Q68.4689 141.366 65.367 144.584 Q62.2652 147.778 56.6171 153.542 Z\" fill=\"#000000\" fill-rule=\"evenodd\" fill-opacity=\"1\" /><path clip-path=\"url(#clip170)\" d=\"M82.7975 122.917 L101.154 122.917 L101.154 126.852 L87.0799 126.852 L87.0799 135.324 Q88.0984 134.977 89.1169 134.815 Q90.1354 134.63 91.1539 134.63 Q96.941 134.63 100.321 137.801 Q103.7 140.972 103.7 146.389 Q103.7 151.968 100.228 155.07 Q96.7558 158.148 90.4364 158.148 Q88.2604 158.148 85.9919 157.778 Q83.7466 157.408 81.3392 156.667 L81.3392 151.968 Q83.4225 153.102 85.6447 153.658 Q87.8669 154.213 90.3438 154.213 Q94.3484 154.213 96.6863 152.107 Q99.0243 150 99.0243 146.389 Q99.0243 142.778 96.6863 140.672 Q94.3484 138.565 90.3438 138.565 Q88.4688 138.565 86.5938 138.982 Q84.7419 139.398 82.7975 140.278 L82.7975 122.917 Z\" fill=\"#000000\" fill-rule=\"evenodd\" fill-opacity=\"1\" /><path clip-path=\"url(#clip170)\" d=\"M122.913 125.996 Q119.302 125.996 117.473 129.561 Q115.668 133.102 115.668 140.232 Q115.668 147.338 117.473 150.903 Q119.302 154.445 122.913 154.445 Q126.547 154.445 128.353 150.903 Q130.182 147.338 130.182 140.232 Q130.182 133.102 128.353 129.561 Q126.547 125.996 122.913 125.996 M122.913 122.292 Q128.723 122.292 131.779 126.898 Q134.857 131.482 134.857 140.232 Q134.857 148.959 131.779 153.565 Q128.723 158.148 122.913 158.148 Q117.103 158.148 114.024 153.565 Q110.969 148.959 110.969 140.232 Q110.969 131.482 114.024 126.898 Q117.103 122.292 122.913 122.292 Z\" fill=\"#000000\" fill-rule=\"evenodd\" fill-opacity=\"1\" /><path clip-path=\"url(#clip172)\" d=\"\n",
       "M290.866 1440.49 L290.866 1445.72 L307.606 1445.72 L307.606 1440.49 L290.866 1440.49 L290.866 1440.49  Z\n",
       "  \" fill=\"#009af9\" fill-rule=\"evenodd\" fill-opacity=\"1\"/>\n",
       "<polyline clip-path=\"url(#clip172)\" style=\"stroke:#000000; stroke-linecap:round; stroke-linejoin:round; stroke-width:4; stroke-opacity:1; fill:none\" points=\"\n",
       "  290.866,1440.49 290.866,1445.72 307.606,1445.72 307.606,1440.49 290.866,1440.49 \n",
       "  \"/>\n",
       "<path clip-path=\"url(#clip172)\" d=\"\n",
       "M307.606 1445.72 L307.606 1445.72 L324.346 1445.72 L324.346 1445.72 L307.606 1445.72 L307.606 1445.72  Z\n",
       "  \" fill=\"#009af9\" fill-rule=\"evenodd\" fill-opacity=\"1\"/>\n",
       "<polyline clip-path=\"url(#clip172)\" style=\"stroke:#000000; stroke-linecap:round; stroke-linejoin:round; stroke-width:4; stroke-opacity:1; fill:none\" points=\"\n",
       "  307.606,1445.72 307.606,1445.72 324.346,1445.72 307.606,1445.72 \n",
       "  \"/>\n",
       "<path clip-path=\"url(#clip172)\" d=\"\n",
       "M324.346 1440.49 L324.346 1445.72 L341.087 1445.72 L341.087 1440.49 L324.346 1440.49 L324.346 1440.49  Z\n",
       "  \" fill=\"#009af9\" fill-rule=\"evenodd\" fill-opacity=\"1\"/>\n",
       "<polyline clip-path=\"url(#clip172)\" style=\"stroke:#000000; stroke-linecap:round; stroke-linejoin:round; stroke-width:4; stroke-opacity:1; fill:none\" points=\"\n",
       "  324.346,1440.49 324.346,1445.72 341.087,1445.72 341.087,1440.49 324.346,1440.49 \n",
       "  \"/>\n",
       "<path clip-path=\"url(#clip172)\" d=\"\n",
       "M341.087 1440.49 L341.087 1445.72 L357.827 1445.72 L357.827 1440.49 L341.087 1440.49 L341.087 1440.49  Z\n",
       "  \" fill=\"#009af9\" fill-rule=\"evenodd\" fill-opacity=\"1\"/>\n",
       "<polyline clip-path=\"url(#clip172)\" style=\"stroke:#000000; stroke-linecap:round; stroke-linejoin:round; stroke-width:4; stroke-opacity:1; fill:none\" points=\"\n",
       "  341.087,1440.49 341.087,1445.72 357.827,1445.72 357.827,1440.49 341.087,1440.49 \n",
       "  \"/>\n",
       "<path clip-path=\"url(#clip172)\" d=\"\n",
       "M357.827 1424.83 L357.827 1445.72 L374.568 1445.72 L374.568 1424.83 L357.827 1424.83 L357.827 1424.83  Z\n",
       "  \" fill=\"#009af9\" fill-rule=\"evenodd\" fill-opacity=\"1\"/>\n",
       "<polyline clip-path=\"url(#clip172)\" style=\"stroke:#000000; stroke-linecap:round; stroke-linejoin:round; stroke-width:4; stroke-opacity:1; fill:none\" points=\"\n",
       "  357.827,1424.83 357.827,1445.72 374.568,1445.72 374.568,1424.83 357.827,1424.83 \n",
       "  \"/>\n",
       "<path clip-path=\"url(#clip172)\" d=\"\n",
       "M374.568 1409.16 L374.568 1445.72 L391.308 1445.72 L391.308 1409.16 L374.568 1409.16 L374.568 1409.16  Z\n",
       "  \" fill=\"#009af9\" fill-rule=\"evenodd\" fill-opacity=\"1\"/>\n",
       "<polyline clip-path=\"url(#clip172)\" style=\"stroke:#000000; stroke-linecap:round; stroke-linejoin:round; stroke-width:4; stroke-opacity:1; fill:none\" points=\"\n",
       "  374.568,1409.16 374.568,1445.72 391.308,1445.72 391.308,1409.16 374.568,1409.16 \n",
       "  \"/>\n",
       "<path clip-path=\"url(#clip172)\" d=\"\n",
       "M391.308 1398.72 L391.308 1445.72 L408.048 1445.72 L408.048 1398.72 L391.308 1398.72 L391.308 1398.72  Z\n",
       "  \" fill=\"#009af9\" fill-rule=\"evenodd\" fill-opacity=\"1\"/>\n",
       "<polyline clip-path=\"url(#clip172)\" style=\"stroke:#000000; stroke-linecap:round; stroke-linejoin:round; stroke-width:4; stroke-opacity:1; fill:none\" points=\"\n",
       "  391.308,1398.72 391.308,1445.72 408.048,1445.72 408.048,1398.72 391.308,1398.72 \n",
       "  \"/>\n",
       "<path clip-path=\"url(#clip172)\" d=\"\n",
       "M408.048 1372.61 L408.048 1445.72 L424.789 1445.72 L424.789 1372.61 L408.048 1372.61 L408.048 1372.61  Z\n",
       "  \" fill=\"#009af9\" fill-rule=\"evenodd\" fill-opacity=\"1\"/>\n",
       "<polyline clip-path=\"url(#clip172)\" style=\"stroke:#000000; stroke-linecap:round; stroke-linejoin:round; stroke-width:4; stroke-opacity:1; fill:none\" points=\"\n",
       "  408.048,1372.61 408.048,1445.72 424.789,1445.72 424.789,1372.61 408.048,1372.61 \n",
       "  \"/>\n",
       "<path clip-path=\"url(#clip172)\" d=\"\n",
       "M424.789 1383.05 L424.789 1445.72 L441.529 1445.72 L441.529 1383.05 L424.789 1383.05 L424.789 1383.05  Z\n",
       "  \" fill=\"#009af9\" fill-rule=\"evenodd\" fill-opacity=\"1\"/>\n",
       "<polyline clip-path=\"url(#clip172)\" style=\"stroke:#000000; stroke-linecap:round; stroke-linejoin:round; stroke-width:4; stroke-opacity:1; fill:none\" points=\"\n",
       "  424.789,1383.05 424.789,1445.72 441.529,1445.72 441.529,1383.05 424.789,1383.05 \n",
       "  \"/>\n",
       "<path clip-path=\"url(#clip172)\" d=\"\n",
       "M441.529 1362.16 L441.529 1445.72 L458.269 1445.72 L458.269 1362.16 L441.529 1362.16 L441.529 1362.16  Z\n",
       "  \" fill=\"#009af9\" fill-rule=\"evenodd\" fill-opacity=\"1\"/>\n",
       "<polyline clip-path=\"url(#clip172)\" style=\"stroke:#000000; stroke-linecap:round; stroke-linejoin:round; stroke-width:4; stroke-opacity:1; fill:none\" points=\"\n",
       "  441.529,1362.16 441.529,1445.72 458.269,1445.72 458.269,1362.16 441.529,1362.16 \n",
       "  \"/>\n",
       "<path clip-path=\"url(#clip172)\" d=\"\n",
       "M458.269 1247.28 L458.269 1445.72 L475.01 1445.72 L475.01 1247.28 L458.269 1247.28 L458.269 1247.28  Z\n",
       "  \" fill=\"#009af9\" fill-rule=\"evenodd\" fill-opacity=\"1\"/>\n",
       "<polyline clip-path=\"url(#clip172)\" style=\"stroke:#000000; stroke-linecap:round; stroke-linejoin:round; stroke-width:4; stroke-opacity:1; fill:none\" points=\"\n",
       "  458.269,1247.28 458.269,1445.72 475.01,1445.72 475.01,1247.28 458.269,1247.28 \n",
       "  \"/>\n",
       "<path clip-path=\"url(#clip172)\" d=\"\n",
       "M475.01 1231.61 L475.01 1445.72 L491.75 1445.72 L491.75 1231.61 L475.01 1231.61 L475.01 1231.61  Z\n",
       "  \" fill=\"#009af9\" fill-rule=\"evenodd\" fill-opacity=\"1\"/>\n",
       "<polyline clip-path=\"url(#clip172)\" style=\"stroke:#000000; stroke-linecap:round; stroke-linejoin:round; stroke-width:4; stroke-opacity:1; fill:none\" points=\"\n",
       "  475.01,1231.61 475.01,1445.72 491.75,1445.72 491.75,1231.61 475.01,1231.61 \n",
       "  \"/>\n",
       "<path clip-path=\"url(#clip172)\" d=\"\n",
       "M491.75 1148.06 L491.75 1445.72 L508.49 1445.72 L508.49 1148.06 L491.75 1148.06 L491.75 1148.06  Z\n",
       "  \" fill=\"#009af9\" fill-rule=\"evenodd\" fill-opacity=\"1\"/>\n",
       "<polyline clip-path=\"url(#clip172)\" style=\"stroke:#000000; stroke-linecap:round; stroke-linejoin:round; stroke-width:4; stroke-opacity:1; fill:none\" points=\"\n",
       "  491.75,1148.06 491.75,1445.72 508.49,1445.72 508.49,1148.06 491.75,1148.06 \n",
       "  \"/>\n",
       "<path clip-path=\"url(#clip172)\" d=\"\n",
       "M508.49 1101.06 L508.49 1445.72 L525.231 1445.72 L525.231 1101.06 L508.49 1101.06 L508.49 1101.06  Z\n",
       "  \" fill=\"#009af9\" fill-rule=\"evenodd\" fill-opacity=\"1\"/>\n",
       "<polyline clip-path=\"url(#clip172)\" style=\"stroke:#000000; stroke-linecap:round; stroke-linejoin:round; stroke-width:4; stroke-opacity:1; fill:none\" points=\"\n",
       "  508.49,1101.06 508.49,1445.72 525.231,1445.72 525.231,1101.06 508.49,1101.06 \n",
       "  \"/>\n",
       "<path clip-path=\"url(#clip172)\" d=\"\n",
       "M525.231 954.841 L525.231 1445.72 L541.971 1445.72 L541.971 954.841 L525.231 954.841 L525.231 954.841  Z\n",
       "  \" fill=\"#009af9\" fill-rule=\"evenodd\" fill-opacity=\"1\"/>\n",
       "<polyline clip-path=\"url(#clip172)\" style=\"stroke:#000000; stroke-linecap:round; stroke-linejoin:round; stroke-width:4; stroke-opacity:1; fill:none\" points=\"\n",
       "  525.231,954.841 525.231,1445.72 541.971,1445.72 541.971,954.841 525.231,954.841 \n",
       "  \"/>\n",
       "<path clip-path=\"url(#clip172)\" d=\"\n",
       "M541.971 1001.84 L541.971 1445.72 L558.711 1445.72 L558.711 1001.84 L541.971 1001.84 L541.971 1001.84  Z\n",
       "  \" fill=\"#009af9\" fill-rule=\"evenodd\" fill-opacity=\"1\"/>\n",
       "<polyline clip-path=\"url(#clip172)\" style=\"stroke:#000000; stroke-linecap:round; stroke-linejoin:round; stroke-width:4; stroke-opacity:1; fill:none\" points=\"\n",
       "  541.971,1001.84 541.971,1445.72 558.711,1445.72 558.711,1001.84 541.971,1001.84 \n",
       "  \"/>\n",
       "<path clip-path=\"url(#clip172)\" d=\"\n",
       "M558.711 824.289 L558.711 1445.72 L575.452 1445.72 L575.452 824.289 L558.711 824.289 L558.711 824.289  Z\n",
       "  \" fill=\"#009af9\" fill-rule=\"evenodd\" fill-opacity=\"1\"/>\n",
       "<polyline clip-path=\"url(#clip172)\" style=\"stroke:#000000; stroke-linecap:round; stroke-linejoin:round; stroke-width:4; stroke-opacity:1; fill:none\" points=\"\n",
       "  558.711,824.289 558.711,1445.72 575.452,1445.72 575.452,824.289 558.711,824.289 \n",
       "  \"/>\n",
       "<path clip-path=\"url(#clip172)\" d=\"\n",
       "M575.452 636.294 L575.452 1445.72 L592.192 1445.72 L592.192 636.294 L575.452 636.294 L575.452 636.294  Z\n",
       "  \" fill=\"#009af9\" fill-rule=\"evenodd\" fill-opacity=\"1\"/>\n",
       "<polyline clip-path=\"url(#clip172)\" style=\"stroke:#000000; stroke-linecap:round; stroke-linejoin:round; stroke-width:4; stroke-opacity:1; fill:none\" points=\"\n",
       "  575.452,636.294 575.452,1445.72 592.192,1445.72 592.192,636.294 575.452,636.294 \n",
       "  \"/>\n",
       "<path clip-path=\"url(#clip172)\" d=\"\n",
       "M592.192 651.96 L592.192 1445.72 L608.933 1445.72 L608.933 651.96 L592.192 651.96 L592.192 651.96  Z\n",
       "  \" fill=\"#009af9\" fill-rule=\"evenodd\" fill-opacity=\"1\"/>\n",
       "<polyline clip-path=\"url(#clip172)\" style=\"stroke:#000000; stroke-linecap:round; stroke-linejoin:round; stroke-width:4; stroke-opacity:1; fill:none\" points=\"\n",
       "  592.192,651.96 592.192,1445.72 608.933,1445.72 608.933,651.96 592.192,651.96 \n",
       "  \"/>\n",
       "<path clip-path=\"url(#clip172)\" d=\"\n",
       "M608.933 369.968 L608.933 1445.72 L625.673 1445.72 L625.673 369.968 L608.933 369.968 L608.933 369.968  Z\n",
       "  \" fill=\"#009af9\" fill-rule=\"evenodd\" fill-opacity=\"1\"/>\n",
       "<polyline clip-path=\"url(#clip172)\" style=\"stroke:#000000; stroke-linecap:round; stroke-linejoin:round; stroke-width:4; stroke-opacity:1; fill:none\" points=\"\n",
       "  608.933,369.968 608.933,1445.72 625.673,1445.72 625.673,369.968 608.933,369.968 \n",
       "  \"/>\n",
       "<path clip-path=\"url(#clip172)\" d=\"\n",
       "M625.673 390.857 L625.673 1445.72 L642.413 1445.72 L642.413 390.857 L625.673 390.857 L625.673 390.857  Z\n",
       "  \" fill=\"#009af9\" fill-rule=\"evenodd\" fill-opacity=\"1\"/>\n",
       "<polyline clip-path=\"url(#clip172)\" style=\"stroke:#000000; stroke-linecap:round; stroke-linejoin:round; stroke-width:4; stroke-opacity:1; fill:none\" points=\"\n",
       "  625.673,390.857 625.673,1445.72 642.413,1445.72 642.413,390.857 625.673,390.857 \n",
       "  \"/>\n",
       "<path clip-path=\"url(#clip172)\" d=\"\n",
       "M642.413 385.635 L642.413 1445.72 L659.154 1445.72 L659.154 385.635 L642.413 385.635 L642.413 385.635  Z\n",
       "  \" fill=\"#009af9\" fill-rule=\"evenodd\" fill-opacity=\"1\"/>\n",
       "<polyline clip-path=\"url(#clip172)\" style=\"stroke:#000000; stroke-linecap:round; stroke-linejoin:round; stroke-width:4; stroke-opacity:1; fill:none\" points=\"\n",
       "  642.413,385.635 642.413,1445.72 659.154,1445.72 659.154,385.635 642.413,385.635 \n",
       "  \"/>\n",
       "<path clip-path=\"url(#clip172)\" d=\"\n",
       "M659.154 87.9763 L659.154 1445.72 L675.894 1445.72 L675.894 87.9763 L659.154 87.9763 L659.154 87.9763  Z\n",
       "  \" fill=\"#009af9\" fill-rule=\"evenodd\" fill-opacity=\"1\"/>\n",
       "<polyline clip-path=\"url(#clip172)\" style=\"stroke:#000000; stroke-linecap:round; stroke-linejoin:round; stroke-width:4; stroke-opacity:1; fill:none\" points=\"\n",
       "  659.154,87.9763 659.154,1445.72 675.894,1445.72 675.894,87.9763 659.154,87.9763 \n",
       "  \"/>\n",
       "<path clip-path=\"url(#clip172)\" d=\"\n",
       "M675.894 197.64 L675.894 1445.72 L692.634 1445.72 L692.634 197.64 L675.894 197.64 L675.894 197.64  Z\n",
       "  \" fill=\"#009af9\" fill-rule=\"evenodd\" fill-opacity=\"1\"/>\n",
       "<polyline clip-path=\"url(#clip172)\" style=\"stroke:#000000; stroke-linecap:round; stroke-linejoin:round; stroke-width:4; stroke-opacity:1; fill:none\" points=\"\n",
       "  675.894,197.64 675.894,1445.72 692.634,1445.72 692.634,197.64 675.894,197.64 \n",
       "  \"/>\n",
       "<path clip-path=\"url(#clip172)\" d=\"\n",
       "M692.634 129.753 L692.634 1445.72 L709.375 1445.72 L709.375 129.753 L692.634 129.753 L692.634 129.753  Z\n",
       "  \" fill=\"#009af9\" fill-rule=\"evenodd\" fill-opacity=\"1\"/>\n",
       "<polyline clip-path=\"url(#clip172)\" style=\"stroke:#000000; stroke-linecap:round; stroke-linejoin:round; stroke-width:4; stroke-opacity:1; fill:none\" points=\"\n",
       "  692.634,129.753 692.634,1445.72 709.375,1445.72 709.375,129.753 692.634,129.753 \n",
       "  \"/>\n",
       "<path clip-path=\"url(#clip172)\" d=\"\n",
       "M709.375 239.416 L709.375 1445.72 L726.115 1445.72 L726.115 239.416 L709.375 239.416 L709.375 239.416  Z\n",
       "  \" fill=\"#009af9\" fill-rule=\"evenodd\" fill-opacity=\"1\"/>\n",
       "<polyline clip-path=\"url(#clip172)\" style=\"stroke:#000000; stroke-linecap:round; stroke-linejoin:round; stroke-width:4; stroke-opacity:1; fill:none\" points=\"\n",
       "  709.375,239.416 709.375,1445.72 726.115,1445.72 726.115,239.416 709.375,239.416 \n",
       "  \"/>\n",
       "<path clip-path=\"url(#clip172)\" d=\"\n",
       "M726.115 495.298 L726.115 1445.72 L742.855 1445.72 L742.855 495.298 L726.115 495.298 L726.115 495.298  Z\n",
       "  \" fill=\"#009af9\" fill-rule=\"evenodd\" fill-opacity=\"1\"/>\n",
       "<polyline clip-path=\"url(#clip172)\" style=\"stroke:#000000; stroke-linecap:round; stroke-linejoin:round; stroke-width:4; stroke-opacity:1; fill:none\" points=\"\n",
       "  726.115,495.298 726.115,1445.72 742.855,1445.72 742.855,495.298 726.115,495.298 \n",
       "  \"/>\n",
       "<path clip-path=\"url(#clip172)\" d=\"\n",
       "M742.855 547.519 L742.855 1445.72 L759.596 1445.72 L759.596 547.519 L742.855 547.519 L742.855 547.519  Z\n",
       "  \" fill=\"#009af9\" fill-rule=\"evenodd\" fill-opacity=\"1\"/>\n",
       "<polyline clip-path=\"url(#clip172)\" style=\"stroke:#000000; stroke-linecap:round; stroke-linejoin:round; stroke-width:4; stroke-opacity:1; fill:none\" points=\"\n",
       "  742.855,547.519 742.855,1445.72 759.596,1445.72 759.596,547.519 742.855,547.519 \n",
       "  \"/>\n",
       "<path clip-path=\"url(#clip172)\" d=\"\n",
       "M759.596 698.959 L759.596 1445.72 L776.336 1445.72 L776.336 698.959 L759.596 698.959 L759.596 698.959  Z\n",
       "  \" fill=\"#009af9\" fill-rule=\"evenodd\" fill-opacity=\"1\"/>\n",
       "<polyline clip-path=\"url(#clip172)\" style=\"stroke:#000000; stroke-linecap:round; stroke-linejoin:round; stroke-width:4; stroke-opacity:1; fill:none\" points=\"\n",
       "  759.596,698.959 759.596,1445.72 776.336,1445.72 776.336,698.959 759.596,698.959 \n",
       "  \"/>\n",
       "<path clip-path=\"url(#clip172)\" d=\"\n",
       "M776.336 1001.84 L776.336 1445.72 L793.077 1445.72 L793.077 1001.84 L776.336 1001.84 L776.336 1001.84  Z\n",
       "  \" fill=\"#009af9\" fill-rule=\"evenodd\" fill-opacity=\"1\"/>\n",
       "<polyline clip-path=\"url(#clip172)\" style=\"stroke:#000000; stroke-linecap:round; stroke-linejoin:round; stroke-width:4; stroke-opacity:1; fill:none\" points=\"\n",
       "  776.336,1001.84 776.336,1445.72 793.077,1445.72 793.077,1001.84 776.336,1001.84 \n",
       "  \"/>\n",
       "<path clip-path=\"url(#clip172)\" d=\"\n",
       "M793.077 1127.17 L793.077 1445.72 L809.817 1445.72 L809.817 1127.17 L793.077 1127.17 L793.077 1127.17  Z\n",
       "  \" fill=\"#009af9\" fill-rule=\"evenodd\" fill-opacity=\"1\"/>\n",
       "<polyline clip-path=\"url(#clip172)\" style=\"stroke:#000000; stroke-linecap:round; stroke-linejoin:round; stroke-width:4; stroke-opacity:1; fill:none\" points=\"\n",
       "  793.077,1127.17 793.077,1445.72 809.817,1445.72 809.817,1127.17 793.077,1127.17 \n",
       "  \"/>\n",
       "<path clip-path=\"url(#clip172)\" d=\"\n",
       "M809.817 1163.72 L809.817 1445.72 L826.557 1445.72 L826.557 1163.72 L809.817 1163.72 L809.817 1163.72  Z\n",
       "  \" fill=\"#009af9\" fill-rule=\"evenodd\" fill-opacity=\"1\"/>\n",
       "<polyline clip-path=\"url(#clip172)\" style=\"stroke:#000000; stroke-linecap:round; stroke-linejoin:round; stroke-width:4; stroke-opacity:1; fill:none\" points=\"\n",
       "  809.817,1163.72 809.817,1445.72 826.557,1445.72 826.557,1163.72 809.817,1163.72 \n",
       "  \"/>\n",
       "<path clip-path=\"url(#clip172)\" d=\"\n",
       "M826.557 1278.61 L826.557 1445.72 L843.298 1445.72 L843.298 1278.61 L826.557 1278.61 L826.557 1278.61  Z\n",
       "  \" fill=\"#009af9\" fill-rule=\"evenodd\" fill-opacity=\"1\"/>\n",
       "<polyline clip-path=\"url(#clip172)\" style=\"stroke:#000000; stroke-linecap:round; stroke-linejoin:round; stroke-width:4; stroke-opacity:1; fill:none\" points=\"\n",
       "  826.557,1278.61 826.557,1445.72 843.298,1445.72 843.298,1278.61 826.557,1278.61 \n",
       "  \"/>\n",
       "<path clip-path=\"url(#clip172)\" d=\"\n",
       "M843.298 1304.72 L843.298 1445.72 L860.038 1445.72 L860.038 1304.72 L843.298 1304.72 L843.298 1304.72  Z\n",
       "  \" fill=\"#009af9\" fill-rule=\"evenodd\" fill-opacity=\"1\"/>\n",
       "<polyline clip-path=\"url(#clip172)\" style=\"stroke:#000000; stroke-linecap:round; stroke-linejoin:round; stroke-width:4; stroke-opacity:1; fill:none\" points=\"\n",
       "  843.298,1304.72 843.298,1445.72 860.038,1445.72 860.038,1304.72 843.298,1304.72 \n",
       "  \"/>\n",
       "<path clip-path=\"url(#clip172)\" d=\"\n",
       "M860.038 1341.27 L860.038 1445.72 L876.778 1445.72 L876.778 1341.27 L860.038 1341.27 L860.038 1341.27  Z\n",
       "  \" fill=\"#009af9\" fill-rule=\"evenodd\" fill-opacity=\"1\"/>\n",
       "<polyline clip-path=\"url(#clip172)\" style=\"stroke:#000000; stroke-linecap:round; stroke-linejoin:round; stroke-width:4; stroke-opacity:1; fill:none\" points=\"\n",
       "  860.038,1341.27 860.038,1445.72 876.778,1445.72 876.778,1341.27 860.038,1341.27 \n",
       "  \"/>\n",
       "<path clip-path=\"url(#clip172)\" d=\"\n",
       "M876.778 1294.28 L876.778 1445.72 L893.519 1445.72 L893.519 1294.28 L876.778 1294.28 L876.778 1294.28  Z\n",
       "  \" fill=\"#009af9\" fill-rule=\"evenodd\" fill-opacity=\"1\"/>\n",
       "<polyline clip-path=\"url(#clip172)\" style=\"stroke:#000000; stroke-linecap:round; stroke-linejoin:round; stroke-width:4; stroke-opacity:1; fill:none\" points=\"\n",
       "  876.778,1294.28 876.778,1445.72 893.519,1445.72 893.519,1294.28 876.778,1294.28 \n",
       "  \"/>\n",
       "<path clip-path=\"url(#clip172)\" d=\"\n",
       "M893.519 1320.39 L893.519 1445.72 L910.259 1445.72 L910.259 1320.39 L893.519 1320.39 L893.519 1320.39  Z\n",
       "  \" fill=\"#009af9\" fill-rule=\"evenodd\" fill-opacity=\"1\"/>\n",
       "<polyline clip-path=\"url(#clip172)\" style=\"stroke:#000000; stroke-linecap:round; stroke-linejoin:round; stroke-width:4; stroke-opacity:1; fill:none\" points=\"\n",
       "  893.519,1320.39 893.519,1445.72 910.259,1445.72 910.259,1320.39 893.519,1320.39 \n",
       "  \"/>\n",
       "<path clip-path=\"url(#clip172)\" d=\"\n",
       "M910.259 1336.05 L910.259 1445.72 L926.999 1445.72 L926.999 1336.05 L910.259 1336.05 L910.259 1336.05  Z\n",
       "  \" fill=\"#009af9\" fill-rule=\"evenodd\" fill-opacity=\"1\"/>\n",
       "<polyline clip-path=\"url(#clip172)\" style=\"stroke:#000000; stroke-linecap:round; stroke-linejoin:round; stroke-width:4; stroke-opacity:1; fill:none\" points=\"\n",
       "  910.259,1336.05 910.259,1445.72 926.999,1445.72 926.999,1336.05 910.259,1336.05 \n",
       "  \"/>\n",
       "<path clip-path=\"url(#clip172)\" d=\"\n",
       "M926.999 1356.94 L926.999 1445.72 L943.74 1445.72 L943.74 1356.94 L926.999 1356.94 L926.999 1356.94  Z\n",
       "  \" fill=\"#009af9\" fill-rule=\"evenodd\" fill-opacity=\"1\"/>\n",
       "<polyline clip-path=\"url(#clip172)\" style=\"stroke:#000000; stroke-linecap:round; stroke-linejoin:round; stroke-width:4; stroke-opacity:1; fill:none\" points=\"\n",
       "  926.999,1356.94 926.999,1445.72 943.74,1445.72 943.74,1356.94 926.999,1356.94 \n",
       "  \"/>\n",
       "<path clip-path=\"url(#clip172)\" d=\"\n",
       "M943.74 1393.49 L943.74 1445.72 L960.48 1445.72 L960.48 1393.49 L943.74 1393.49 L943.74 1393.49  Z\n",
       "  \" fill=\"#009af9\" fill-rule=\"evenodd\" fill-opacity=\"1\"/>\n",
       "<polyline clip-path=\"url(#clip172)\" style=\"stroke:#000000; stroke-linecap:round; stroke-linejoin:round; stroke-width:4; stroke-opacity:1; fill:none\" points=\"\n",
       "  943.74,1393.49 943.74,1445.72 960.48,1445.72 960.48,1393.49 943.74,1393.49 \n",
       "  \"/>\n",
       "<path clip-path=\"url(#clip172)\" d=\"\n",
       "M960.48 1414.38 L960.48 1445.72 L977.221 1445.72 L977.221 1414.38 L960.48 1414.38 L960.48 1414.38  Z\n",
       "  \" fill=\"#009af9\" fill-rule=\"evenodd\" fill-opacity=\"1\"/>\n",
       "<polyline clip-path=\"url(#clip172)\" style=\"stroke:#000000; stroke-linecap:round; stroke-linejoin:round; stroke-width:4; stroke-opacity:1; fill:none\" points=\"\n",
       "  960.48,1414.38 960.48,1445.72 977.221,1445.72 977.221,1414.38 960.48,1414.38 \n",
       "  \"/>\n",
       "<path clip-path=\"url(#clip172)\" d=\"\n",
       "M977.221 1409.16 L977.221 1445.72 L993.961 1445.72 L993.961 1409.16 L977.221 1409.16 L977.221 1409.16  Z\n",
       "  \" fill=\"#009af9\" fill-rule=\"evenodd\" fill-opacity=\"1\"/>\n",
       "<polyline clip-path=\"url(#clip172)\" style=\"stroke:#000000; stroke-linecap:round; stroke-linejoin:round; stroke-width:4; stroke-opacity:1; fill:none\" points=\"\n",
       "  977.221,1409.16 977.221,1445.72 993.961,1445.72 993.961,1409.16 977.221,1409.16 \n",
       "  \"/>\n",
       "<path clip-path=\"url(#clip172)\" d=\"\n",
       "M993.961 1383.05 L993.961 1445.72 L1010.7 1445.72 L1010.7 1383.05 L993.961 1383.05 L993.961 1383.05  Z\n",
       "  \" fill=\"#009af9\" fill-rule=\"evenodd\" fill-opacity=\"1\"/>\n",
       "<polyline clip-path=\"url(#clip172)\" style=\"stroke:#000000; stroke-linecap:round; stroke-linejoin:round; stroke-width:4; stroke-opacity:1; fill:none\" points=\"\n",
       "  993.961,1383.05 993.961,1445.72 1010.7,1445.72 1010.7,1383.05 993.961,1383.05 \n",
       "  \"/>\n",
       "<path clip-path=\"url(#clip172)\" d=\"\n",
       "M1010.7 1398.72 L1010.7 1445.72 L1027.44 1445.72 L1027.44 1398.72 L1010.7 1398.72 L1010.7 1398.72  Z\n",
       "  \" fill=\"#009af9\" fill-rule=\"evenodd\" fill-opacity=\"1\"/>\n",
       "<polyline clip-path=\"url(#clip172)\" style=\"stroke:#000000; stroke-linecap:round; stroke-linejoin:round; stroke-width:4; stroke-opacity:1; fill:none\" points=\"\n",
       "  1010.7,1398.72 1010.7,1445.72 1027.44,1445.72 1027.44,1398.72 1010.7,1398.72 \n",
       "  \"/>\n",
       "<path clip-path=\"url(#clip172)\" d=\"\n",
       "M1027.44 1398.72 L1027.44 1445.72 L1044.18 1445.72 L1044.18 1398.72 L1027.44 1398.72 L1027.44 1398.72  Z\n",
       "  \" fill=\"#009af9\" fill-rule=\"evenodd\" fill-opacity=\"1\"/>\n",
       "<polyline clip-path=\"url(#clip172)\" style=\"stroke:#000000; stroke-linecap:round; stroke-linejoin:round; stroke-width:4; stroke-opacity:1; fill:none\" points=\"\n",
       "  1027.44,1398.72 1027.44,1445.72 1044.18,1445.72 1044.18,1398.72 1027.44,1398.72 \n",
       "  \"/>\n",
       "<path clip-path=\"url(#clip172)\" d=\"\n",
       "M1044.18 1419.61 L1044.18 1445.72 L1060.92 1445.72 L1060.92 1419.61 L1044.18 1419.61 L1044.18 1419.61  Z\n",
       "  \" fill=\"#009af9\" fill-rule=\"evenodd\" fill-opacity=\"1\"/>\n",
       "<polyline clip-path=\"url(#clip172)\" style=\"stroke:#000000; stroke-linecap:round; stroke-linejoin:round; stroke-width:4; stroke-opacity:1; fill:none\" points=\"\n",
       "  1044.18,1419.61 1044.18,1445.72 1060.92,1445.72 1060.92,1419.61 1044.18,1419.61 \n",
       "  \"/>\n",
       "<path clip-path=\"url(#clip172)\" d=\"\n",
       "M1060.92 1409.16 L1060.92 1445.72 L1077.66 1445.72 L1077.66 1409.16 L1060.92 1409.16 L1060.92 1409.16  Z\n",
       "  \" fill=\"#009af9\" fill-rule=\"evenodd\" fill-opacity=\"1\"/>\n",
       "<polyline clip-path=\"url(#clip172)\" style=\"stroke:#000000; stroke-linecap:round; stroke-linejoin:round; stroke-width:4; stroke-opacity:1; fill:none\" points=\"\n",
       "  1060.92,1409.16 1060.92,1445.72 1077.66,1445.72 1077.66,1409.16 1060.92,1409.16 \n",
       "  \"/>\n",
       "<path clip-path=\"url(#clip172)\" d=\"\n",
       "M1077.66 1424.83 L1077.66 1445.72 L1094.4 1445.72 L1094.4 1424.83 L1077.66 1424.83 L1077.66 1424.83  Z\n",
       "  \" fill=\"#009af9\" fill-rule=\"evenodd\" fill-opacity=\"1\"/>\n",
       "<polyline clip-path=\"url(#clip172)\" style=\"stroke:#000000; stroke-linecap:round; stroke-linejoin:round; stroke-width:4; stroke-opacity:1; fill:none\" points=\"\n",
       "  1077.66,1424.83 1077.66,1445.72 1094.4,1445.72 1094.4,1424.83 1077.66,1424.83 \n",
       "  \"/>\n",
       "<path clip-path=\"url(#clip172)\" d=\"\n",
       "M1094.4 1403.94 L1094.4 1445.72 L1111.14 1445.72 L1111.14 1403.94 L1094.4 1403.94 L1094.4 1403.94  Z\n",
       "  \" fill=\"#009af9\" fill-rule=\"evenodd\" fill-opacity=\"1\"/>\n",
       "<polyline clip-path=\"url(#clip172)\" style=\"stroke:#000000; stroke-linecap:round; stroke-linejoin:round; stroke-width:4; stroke-opacity:1; fill:none\" points=\"\n",
       "  1094.4,1403.94 1094.4,1445.72 1111.14,1445.72 1111.14,1403.94 1094.4,1403.94 \n",
       "  \"/>\n",
       "<path clip-path=\"url(#clip172)\" d=\"\n",
       "M1111.14 1430.05 L1111.14 1445.72 L1127.88 1445.72 L1127.88 1430.05 L1111.14 1430.05 L1111.14 1430.05  Z\n",
       "  \" fill=\"#009af9\" fill-rule=\"evenodd\" fill-opacity=\"1\"/>\n",
       "<polyline clip-path=\"url(#clip172)\" style=\"stroke:#000000; stroke-linecap:round; stroke-linejoin:round; stroke-width:4; stroke-opacity:1; fill:none\" points=\"\n",
       "  1111.14,1430.05 1111.14,1445.72 1127.88,1445.72 1127.88,1430.05 1111.14,1430.05 \n",
       "  \"/>\n",
       "<path clip-path=\"url(#clip172)\" d=\"\n",
       "M1127.88 1424.83 L1127.88 1445.72 L1144.62 1445.72 L1144.62 1424.83 L1127.88 1424.83 L1127.88 1424.83  Z\n",
       "  \" fill=\"#009af9\" fill-rule=\"evenodd\" fill-opacity=\"1\"/>\n",
       "<polyline clip-path=\"url(#clip172)\" style=\"stroke:#000000; stroke-linecap:round; stroke-linejoin:round; stroke-width:4; stroke-opacity:1; fill:none\" points=\"\n",
       "  1127.88,1424.83 1127.88,1445.72 1144.62,1445.72 1144.62,1424.83 1127.88,1424.83 \n",
       "  \"/>\n",
       "<path clip-path=\"url(#clip172)\" d=\"\n",
       "M1144.62 1414.38 L1144.62 1445.72 L1161.36 1445.72 L1161.36 1414.38 L1144.62 1414.38 L1144.62 1414.38  Z\n",
       "  \" fill=\"#009af9\" fill-rule=\"evenodd\" fill-opacity=\"1\"/>\n",
       "<polyline clip-path=\"url(#clip172)\" style=\"stroke:#000000; stroke-linecap:round; stroke-linejoin:round; stroke-width:4; stroke-opacity:1; fill:none\" points=\"\n",
       "  1144.62,1414.38 1144.62,1445.72 1161.36,1445.72 1161.36,1414.38 1144.62,1414.38 \n",
       "  \"/>\n",
       "<path clip-path=\"url(#clip172)\" d=\"\n",
       "M1161.36 1414.38 L1161.36 1445.72 L1178.1 1445.72 L1178.1 1414.38 L1161.36 1414.38 L1161.36 1414.38  Z\n",
       "  \" fill=\"#009af9\" fill-rule=\"evenodd\" fill-opacity=\"1\"/>\n",
       "<polyline clip-path=\"url(#clip172)\" style=\"stroke:#000000; stroke-linecap:round; stroke-linejoin:round; stroke-width:4; stroke-opacity:1; fill:none\" points=\"\n",
       "  1161.36,1414.38 1161.36,1445.72 1178.1,1445.72 1178.1,1414.38 1161.36,1414.38 \n",
       "  \"/>\n",
       "<path clip-path=\"url(#clip172)\" d=\"\n",
       "M1178.1 1435.27 L1178.1 1445.72 L1194.85 1445.72 L1194.85 1435.27 L1178.1 1435.27 L1178.1 1435.27  Z\n",
       "  \" fill=\"#009af9\" fill-rule=\"evenodd\" fill-opacity=\"1\"/>\n",
       "<polyline clip-path=\"url(#clip172)\" style=\"stroke:#000000; stroke-linecap:round; stroke-linejoin:round; stroke-width:4; stroke-opacity:1; fill:none\" points=\"\n",
       "  1178.1,1435.27 1178.1,1445.72 1194.85,1445.72 1194.85,1435.27 1178.1,1435.27 \n",
       "  \"/>\n",
       "<path clip-path=\"url(#clip172)\" d=\"\n",
       "M1194.85 1409.16 L1194.85 1445.72 L1211.59 1445.72 L1211.59 1409.16 L1194.85 1409.16 L1194.85 1409.16  Z\n",
       "  \" fill=\"#009af9\" fill-rule=\"evenodd\" fill-opacity=\"1\"/>\n",
       "<polyline clip-path=\"url(#clip172)\" style=\"stroke:#000000; stroke-linecap:round; stroke-linejoin:round; stroke-width:4; stroke-opacity:1; fill:none\" points=\"\n",
       "  1194.85,1409.16 1194.85,1445.72 1211.59,1445.72 1211.59,1409.16 1194.85,1409.16 \n",
       "  \"/>\n",
       "<path clip-path=\"url(#clip172)\" d=\"\n",
       "M1211.59 1440.49 L1211.59 1445.72 L1228.33 1445.72 L1228.33 1440.49 L1211.59 1440.49 L1211.59 1440.49  Z\n",
       "  \" fill=\"#009af9\" fill-rule=\"evenodd\" fill-opacity=\"1\"/>\n",
       "<polyline clip-path=\"url(#clip172)\" style=\"stroke:#000000; stroke-linecap:round; stroke-linejoin:round; stroke-width:4; stroke-opacity:1; fill:none\" points=\"\n",
       "  1211.59,1440.49 1211.59,1445.72 1228.33,1445.72 1228.33,1440.49 1211.59,1440.49 \n",
       "  \"/>\n",
       "<path clip-path=\"url(#clip172)\" d=\"\n",
       "M1228.33 1435.27 L1228.33 1445.72 L1245.07 1445.72 L1245.07 1435.27 L1228.33 1435.27 L1228.33 1435.27  Z\n",
       "  \" fill=\"#009af9\" fill-rule=\"evenodd\" fill-opacity=\"1\"/>\n",
       "<polyline clip-path=\"url(#clip172)\" style=\"stroke:#000000; stroke-linecap:round; stroke-linejoin:round; stroke-width:4; stroke-opacity:1; fill:none\" points=\"\n",
       "  1228.33,1435.27 1228.33,1445.72 1245.07,1445.72 1245.07,1435.27 1228.33,1435.27 \n",
       "  \"/>\n",
       "<path clip-path=\"url(#clip172)\" d=\"\n",
       "M1245.07 1424.83 L1245.07 1445.72 L1261.81 1445.72 L1261.81 1424.83 L1245.07 1424.83 L1245.07 1424.83  Z\n",
       "  \" fill=\"#009af9\" fill-rule=\"evenodd\" fill-opacity=\"1\"/>\n",
       "<polyline clip-path=\"url(#clip172)\" style=\"stroke:#000000; stroke-linecap:round; stroke-linejoin:round; stroke-width:4; stroke-opacity:1; fill:none\" points=\"\n",
       "  1245.07,1424.83 1245.07,1445.72 1261.81,1445.72 1261.81,1424.83 1245.07,1424.83 \n",
       "  \"/>\n",
       "<path clip-path=\"url(#clip172)\" d=\"\n",
       "M1261.81 1440.49 L1261.81 1445.72 L1278.55 1445.72 L1278.55 1440.49 L1261.81 1440.49 L1261.81 1440.49  Z\n",
       "  \" fill=\"#009af9\" fill-rule=\"evenodd\" fill-opacity=\"1\"/>\n",
       "<polyline clip-path=\"url(#clip172)\" style=\"stroke:#000000; stroke-linecap:round; stroke-linejoin:round; stroke-width:4; stroke-opacity:1; fill:none\" points=\"\n",
       "  1261.81,1440.49 1261.81,1445.72 1278.55,1445.72 1278.55,1440.49 1261.81,1440.49 \n",
       "  \"/>\n",
       "<path clip-path=\"url(#clip172)\" d=\"\n",
       "M1278.55 1440.49 L1278.55 1445.72 L1295.29 1445.72 L1295.29 1440.49 L1278.55 1440.49 L1278.55 1440.49  Z\n",
       "  \" fill=\"#009af9\" fill-rule=\"evenodd\" fill-opacity=\"1\"/>\n",
       "<polyline clip-path=\"url(#clip172)\" style=\"stroke:#000000; stroke-linecap:round; stroke-linejoin:round; stroke-width:4; stroke-opacity:1; fill:none\" points=\"\n",
       "  1278.55,1440.49 1278.55,1445.72 1295.29,1445.72 1295.29,1440.49 1278.55,1440.49 \n",
       "  \"/>\n",
       "<path clip-path=\"url(#clip172)\" d=\"\n",
       "M1295.29 1445.72 L1295.29 1445.72 L1312.03 1445.72 L1312.03 1445.72 L1295.29 1445.72 L1295.29 1445.72  Z\n",
       "  \" fill=\"#009af9\" fill-rule=\"evenodd\" fill-opacity=\"1\"/>\n",
       "<polyline clip-path=\"url(#clip172)\" style=\"stroke:#000000; stroke-linecap:round; stroke-linejoin:round; stroke-width:4; stroke-opacity:1; fill:none\" points=\"\n",
       "  1295.29,1445.72 1295.29,1445.72 1312.03,1445.72 1295.29,1445.72 \n",
       "  \"/>\n",
       "<path clip-path=\"url(#clip172)\" d=\"\n",
       "M1312.03 1440.49 L1312.03 1445.72 L1328.77 1445.72 L1328.77 1440.49 L1312.03 1440.49 L1312.03 1440.49  Z\n",
       "  \" fill=\"#009af9\" fill-rule=\"evenodd\" fill-opacity=\"1\"/>\n",
       "<polyline clip-path=\"url(#clip172)\" style=\"stroke:#000000; stroke-linecap:round; stroke-linejoin:round; stroke-width:4; stroke-opacity:1; fill:none\" points=\"\n",
       "  1312.03,1440.49 1312.03,1445.72 1328.77,1445.72 1328.77,1440.49 1312.03,1440.49 \n",
       "  \"/>\n",
       "<path clip-path=\"url(#clip172)\" d=\"\n",
       "M1328.77 1440.49 L1328.77 1445.72 L1345.51 1445.72 L1345.51 1440.49 L1328.77 1440.49 L1328.77 1440.49  Z\n",
       "  \" fill=\"#009af9\" fill-rule=\"evenodd\" fill-opacity=\"1\"/>\n",
       "<polyline clip-path=\"url(#clip172)\" style=\"stroke:#000000; stroke-linecap:round; stroke-linejoin:round; stroke-width:4; stroke-opacity:1; fill:none\" points=\"\n",
       "  1328.77,1440.49 1328.77,1445.72 1345.51,1445.72 1345.51,1440.49 1328.77,1440.49 \n",
       "  \"/>\n",
       "<path clip-path=\"url(#clip172)\" d=\"\n",
       "M1345.51 1445.72 L1345.51 1445.72 L1362.25 1445.72 L1362.25 1445.72 L1345.51 1445.72 L1345.51 1445.72  Z\n",
       "  \" fill=\"#009af9\" fill-rule=\"evenodd\" fill-opacity=\"1\"/>\n",
       "<polyline clip-path=\"url(#clip172)\" style=\"stroke:#000000; stroke-linecap:round; stroke-linejoin:round; stroke-width:4; stroke-opacity:1; fill:none\" points=\"\n",
       "  1345.51,1445.72 1345.51,1445.72 1362.25,1445.72 1345.51,1445.72 \n",
       "  \"/>\n",
       "<path clip-path=\"url(#clip172)\" d=\"\n",
       "M1362.25 1445.72 L1362.25 1445.72 L1378.99 1445.72 L1378.99 1445.72 L1362.25 1445.72 L1362.25 1445.72  Z\n",
       "  \" fill=\"#009af9\" fill-rule=\"evenodd\" fill-opacity=\"1\"/>\n",
       "<polyline clip-path=\"url(#clip172)\" style=\"stroke:#000000; stroke-linecap:round; stroke-linejoin:round; stroke-width:4; stroke-opacity:1; fill:none\" points=\"\n",
       "  1362.25,1445.72 1362.25,1445.72 1378.99,1445.72 1362.25,1445.72 \n",
       "  \"/>\n",
       "<path clip-path=\"url(#clip172)\" d=\"\n",
       "M1378.99 1445.72 L1378.99 1445.72 L1395.73 1445.72 L1395.73 1445.72 L1378.99 1445.72 L1378.99 1445.72  Z\n",
       "  \" fill=\"#009af9\" fill-rule=\"evenodd\" fill-opacity=\"1\"/>\n",
       "<polyline clip-path=\"url(#clip172)\" style=\"stroke:#000000; stroke-linecap:round; stroke-linejoin:round; stroke-width:4; stroke-opacity:1; fill:none\" points=\"\n",
       "  1378.99,1445.72 1378.99,1445.72 1395.73,1445.72 1378.99,1445.72 \n",
       "  \"/>\n",
       "<path clip-path=\"url(#clip172)\" d=\"\n",
       "M1395.73 1445.72 L1395.73 1445.72 L1412.47 1445.72 L1412.47 1445.72 L1395.73 1445.72 L1395.73 1445.72  Z\n",
       "  \" fill=\"#009af9\" fill-rule=\"evenodd\" fill-opacity=\"1\"/>\n",
       "<polyline clip-path=\"url(#clip172)\" style=\"stroke:#000000; stroke-linecap:round; stroke-linejoin:round; stroke-width:4; stroke-opacity:1; fill:none\" points=\"\n",
       "  1395.73,1445.72 1395.73,1445.72 1412.47,1445.72 1395.73,1445.72 \n",
       "  \"/>\n",
       "<path clip-path=\"url(#clip172)\" d=\"\n",
       "M1412.47 1445.72 L1412.47 1445.72 L1429.21 1445.72 L1429.21 1445.72 L1412.47 1445.72 L1412.47 1445.72  Z\n",
       "  \" fill=\"#009af9\" fill-rule=\"evenodd\" fill-opacity=\"1\"/>\n",
       "<polyline clip-path=\"url(#clip172)\" style=\"stroke:#000000; stroke-linecap:round; stroke-linejoin:round; stroke-width:4; stroke-opacity:1; fill:none\" points=\"\n",
       "  1412.47,1445.72 1412.47,1445.72 1429.21,1445.72 1412.47,1445.72 \n",
       "  \"/>\n",
       "<path clip-path=\"url(#clip172)\" d=\"\n",
       "M1429.21 1440.49 L1429.21 1445.72 L1445.95 1445.72 L1445.95 1440.49 L1429.21 1440.49 L1429.21 1440.49  Z\n",
       "  \" fill=\"#009af9\" fill-rule=\"evenodd\" fill-opacity=\"1\"/>\n",
       "<polyline clip-path=\"url(#clip172)\" style=\"stroke:#000000; stroke-linecap:round; stroke-linejoin:round; stroke-width:4; stroke-opacity:1; fill:none\" points=\"\n",
       "  1429.21,1440.49 1429.21,1445.72 1445.95,1445.72 1445.95,1440.49 1429.21,1440.49 \n",
       "  \"/>\n",
       "<path clip-path=\"url(#clip172)\" d=\"\n",
       "M1445.95 1445.72 L1445.95 1445.72 L1462.69 1445.72 L1462.69 1445.72 L1445.95 1445.72 L1445.95 1445.72  Z\n",
       "  \" fill=\"#009af9\" fill-rule=\"evenodd\" fill-opacity=\"1\"/>\n",
       "<polyline clip-path=\"url(#clip172)\" style=\"stroke:#000000; stroke-linecap:round; stroke-linejoin:round; stroke-width:4; stroke-opacity:1; fill:none\" points=\"\n",
       "  1445.95,1445.72 1445.95,1445.72 1462.69,1445.72 1445.95,1445.72 \n",
       "  \"/>\n",
       "<path clip-path=\"url(#clip172)\" d=\"\n",
       "M1462.69 1445.72 L1462.69 1445.72 L1479.43 1445.72 L1479.43 1445.72 L1462.69 1445.72 L1462.69 1445.72  Z\n",
       "  \" fill=\"#009af9\" fill-rule=\"evenodd\" fill-opacity=\"1\"/>\n",
       "<polyline clip-path=\"url(#clip172)\" style=\"stroke:#000000; stroke-linecap:round; stroke-linejoin:round; stroke-width:4; stroke-opacity:1; fill:none\" points=\"\n",
       "  1462.69,1445.72 1462.69,1445.72 1479.43,1445.72 1462.69,1445.72 \n",
       "  \"/>\n",
       "<path clip-path=\"url(#clip172)\" d=\"\n",
       "M1479.43 1440.49 L1479.43 1445.72 L1496.17 1445.72 L1496.17 1440.49 L1479.43 1440.49 L1479.43 1440.49  Z\n",
       "  \" fill=\"#009af9\" fill-rule=\"evenodd\" fill-opacity=\"1\"/>\n",
       "<polyline clip-path=\"url(#clip172)\" style=\"stroke:#000000; stroke-linecap:round; stroke-linejoin:round; stroke-width:4; stroke-opacity:1; fill:none\" points=\"\n",
       "  1479.43,1440.49 1479.43,1445.72 1496.17,1445.72 1496.17,1440.49 1479.43,1440.49 \n",
       "  \"/>\n",
       "<path clip-path=\"url(#clip172)\" d=\"\n",
       "M1496.17 1445.72 L1496.17 1445.72 L1512.91 1445.72 L1512.91 1445.72 L1496.17 1445.72 L1496.17 1445.72  Z\n",
       "  \" fill=\"#009af9\" fill-rule=\"evenodd\" fill-opacity=\"1\"/>\n",
       "<polyline clip-path=\"url(#clip172)\" style=\"stroke:#000000; stroke-linecap:round; stroke-linejoin:round; stroke-width:4; stroke-opacity:1; fill:none\" points=\"\n",
       "  1496.17,1445.72 1496.17,1445.72 1512.91,1445.72 1496.17,1445.72 \n",
       "  \"/>\n",
       "<path clip-path=\"url(#clip172)\" d=\"\n",
       "M1512.91 1445.72 L1512.91 1445.72 L1529.65 1445.72 L1529.65 1445.72 L1512.91 1445.72 L1512.91 1445.72  Z\n",
       "  \" fill=\"#009af9\" fill-rule=\"evenodd\" fill-opacity=\"1\"/>\n",
       "<polyline clip-path=\"url(#clip172)\" style=\"stroke:#000000; stroke-linecap:round; stroke-linejoin:round; stroke-width:4; stroke-opacity:1; fill:none\" points=\"\n",
       "  1512.91,1445.72 1512.91,1445.72 1529.65,1445.72 1512.91,1445.72 \n",
       "  \"/>\n",
       "<path clip-path=\"url(#clip172)\" d=\"\n",
       "M1529.65 1445.72 L1529.65 1445.72 L1546.39 1445.72 L1546.39 1445.72 L1529.65 1445.72 L1529.65 1445.72  Z\n",
       "  \" fill=\"#009af9\" fill-rule=\"evenodd\" fill-opacity=\"1\"/>\n",
       "<polyline clip-path=\"url(#clip172)\" style=\"stroke:#000000; stroke-linecap:round; stroke-linejoin:round; stroke-width:4; stroke-opacity:1; fill:none\" points=\"\n",
       "  1529.65,1445.72 1529.65,1445.72 1546.39,1445.72 1529.65,1445.72 \n",
       "  \"/>\n",
       "<path clip-path=\"url(#clip172)\" d=\"\n",
       "M1546.39 1445.72 L1546.39 1445.72 L1563.13 1445.72 L1563.13 1445.72 L1546.39 1445.72 L1546.39 1445.72  Z\n",
       "  \" fill=\"#009af9\" fill-rule=\"evenodd\" fill-opacity=\"1\"/>\n",
       "<polyline clip-path=\"url(#clip172)\" style=\"stroke:#000000; stroke-linecap:round; stroke-linejoin:round; stroke-width:4; stroke-opacity:1; fill:none\" points=\"\n",
       "  1546.39,1445.72 1546.39,1445.72 1563.13,1445.72 1546.39,1445.72 \n",
       "  \"/>\n",
       "<path clip-path=\"url(#clip172)\" d=\"\n",
       "M1563.13 1445.72 L1563.13 1445.72 L1579.87 1445.72 L1579.87 1445.72 L1563.13 1445.72 L1563.13 1445.72  Z\n",
       "  \" fill=\"#009af9\" fill-rule=\"evenodd\" fill-opacity=\"1\"/>\n",
       "<polyline clip-path=\"url(#clip172)\" style=\"stroke:#000000; stroke-linecap:round; stroke-linejoin:round; stroke-width:4; stroke-opacity:1; fill:none\" points=\"\n",
       "  1563.13,1445.72 1563.13,1445.72 1579.87,1445.72 1563.13,1445.72 \n",
       "  \"/>\n",
       "<path clip-path=\"url(#clip172)\" d=\"\n",
       "M1579.87 1445.72 L1579.87 1445.72 L1596.61 1445.72 L1596.61 1445.72 L1579.87 1445.72 L1579.87 1445.72  Z\n",
       "  \" fill=\"#009af9\" fill-rule=\"evenodd\" fill-opacity=\"1\"/>\n",
       "<polyline clip-path=\"url(#clip172)\" style=\"stroke:#000000; stroke-linecap:round; stroke-linejoin:round; stroke-width:4; stroke-opacity:1; fill:none\" points=\"\n",
       "  1579.87,1445.72 1579.87,1445.72 1596.61,1445.72 1579.87,1445.72 \n",
       "  \"/>\n",
       "<path clip-path=\"url(#clip172)\" d=\"\n",
       "M1596.61 1445.72 L1596.61 1445.72 L1613.35 1445.72 L1613.35 1445.72 L1596.61 1445.72 L1596.61 1445.72  Z\n",
       "  \" fill=\"#009af9\" fill-rule=\"evenodd\" fill-opacity=\"1\"/>\n",
       "<polyline clip-path=\"url(#clip172)\" style=\"stroke:#000000; stroke-linecap:round; stroke-linejoin:round; stroke-width:4; stroke-opacity:1; fill:none\" points=\"\n",
       "  1596.61,1445.72 1596.61,1445.72 1613.35,1445.72 1596.61,1445.72 \n",
       "  \"/>\n",
       "<path clip-path=\"url(#clip172)\" d=\"\n",
       "M1613.35 1445.72 L1613.35 1445.72 L1630.09 1445.72 L1630.09 1445.72 L1613.35 1445.72 L1613.35 1445.72  Z\n",
       "  \" fill=\"#009af9\" fill-rule=\"evenodd\" fill-opacity=\"1\"/>\n",
       "<polyline clip-path=\"url(#clip172)\" style=\"stroke:#000000; stroke-linecap:round; stroke-linejoin:round; stroke-width:4; stroke-opacity:1; fill:none\" points=\"\n",
       "  1613.35,1445.72 1613.35,1445.72 1630.09,1445.72 1613.35,1445.72 \n",
       "  \"/>\n",
       "<path clip-path=\"url(#clip172)\" d=\"\n",
       "M1630.09 1445.72 L1630.09 1445.72 L1646.83 1445.72 L1646.83 1445.72 L1630.09 1445.72 L1630.09 1445.72  Z\n",
       "  \" fill=\"#009af9\" fill-rule=\"evenodd\" fill-opacity=\"1\"/>\n",
       "<polyline clip-path=\"url(#clip172)\" style=\"stroke:#000000; stroke-linecap:round; stroke-linejoin:round; stroke-width:4; stroke-opacity:1; fill:none\" points=\"\n",
       "  1630.09,1445.72 1630.09,1445.72 1646.83,1445.72 1630.09,1445.72 \n",
       "  \"/>\n",
       "<path clip-path=\"url(#clip172)\" d=\"\n",
       "M1646.83 1430.05 L1646.83 1445.72 L1663.58 1445.72 L1663.58 1430.05 L1646.83 1430.05 L1646.83 1430.05  Z\n",
       "  \" fill=\"#009af9\" fill-rule=\"evenodd\" fill-opacity=\"1\"/>\n",
       "<polyline clip-path=\"url(#clip172)\" style=\"stroke:#000000; stroke-linecap:round; stroke-linejoin:round; stroke-width:4; stroke-opacity:1; fill:none\" points=\"\n",
       "  1646.83,1430.05 1646.83,1445.72 1663.58,1445.72 1663.58,1430.05 1646.83,1430.05 \n",
       "  \"/>\n",
       "<path clip-path=\"url(#clip172)\" d=\"\n",
       "M1663.58 1445.72 L1663.58 1445.72 L1680.32 1445.72 L1680.32 1445.72 L1663.58 1445.72 L1663.58 1445.72  Z\n",
       "  \" fill=\"#009af9\" fill-rule=\"evenodd\" fill-opacity=\"1\"/>\n",
       "<polyline clip-path=\"url(#clip172)\" style=\"stroke:#000000; stroke-linecap:round; stroke-linejoin:round; stroke-width:4; stroke-opacity:1; fill:none\" points=\"\n",
       "  1663.58,1445.72 1663.58,1445.72 1680.32,1445.72 1663.58,1445.72 \n",
       "  \"/>\n",
       "<path clip-path=\"url(#clip172)\" d=\"\n",
       "M1680.32 1445.72 L1680.32 1445.72 L1697.06 1445.72 L1697.06 1445.72 L1680.32 1445.72 L1680.32 1445.72  Z\n",
       "  \" fill=\"#009af9\" fill-rule=\"evenodd\" fill-opacity=\"1\"/>\n",
       "<polyline clip-path=\"url(#clip172)\" style=\"stroke:#000000; stroke-linecap:round; stroke-linejoin:round; stroke-width:4; stroke-opacity:1; fill:none\" points=\"\n",
       "  1680.32,1445.72 1680.32,1445.72 1697.06,1445.72 1680.32,1445.72 \n",
       "  \"/>\n",
       "<path clip-path=\"url(#clip172)\" d=\"\n",
       "M1697.06 1445.72 L1697.06 1445.72 L1713.8 1445.72 L1713.8 1445.72 L1697.06 1445.72 L1697.06 1445.72  Z\n",
       "  \" fill=\"#009af9\" fill-rule=\"evenodd\" fill-opacity=\"1\"/>\n",
       "<polyline clip-path=\"url(#clip172)\" style=\"stroke:#000000; stroke-linecap:round; stroke-linejoin:round; stroke-width:4; stroke-opacity:1; fill:none\" points=\"\n",
       "  1697.06,1445.72 1697.06,1445.72 1713.8,1445.72 1697.06,1445.72 \n",
       "  \"/>\n",
       "<path clip-path=\"url(#clip172)\" d=\"\n",
       "M1713.8 1440.49 L1713.8 1445.72 L1730.54 1445.72 L1730.54 1440.49 L1713.8 1440.49 L1713.8 1440.49  Z\n",
       "  \" fill=\"#009af9\" fill-rule=\"evenodd\" fill-opacity=\"1\"/>\n",
       "<polyline clip-path=\"url(#clip172)\" style=\"stroke:#000000; stroke-linecap:round; stroke-linejoin:round; stroke-width:4; stroke-opacity:1; fill:none\" points=\"\n",
       "  1713.8,1440.49 1713.8,1445.72 1730.54,1445.72 1730.54,1440.49 1713.8,1440.49 \n",
       "  \"/>\n",
       "<path clip-path=\"url(#clip172)\" d=\"\n",
       "M1730.54 1445.72 L1730.54 1445.72 L1747.28 1445.72 L1747.28 1445.72 L1730.54 1445.72 L1730.54 1445.72  Z\n",
       "  \" fill=\"#009af9\" fill-rule=\"evenodd\" fill-opacity=\"1\"/>\n",
       "<polyline clip-path=\"url(#clip172)\" style=\"stroke:#000000; stroke-linecap:round; stroke-linejoin:round; stroke-width:4; stroke-opacity:1; fill:none\" points=\"\n",
       "  1730.54,1445.72 1730.54,1445.72 1747.28,1445.72 1730.54,1445.72 \n",
       "  \"/>\n",
       "<path clip-path=\"url(#clip172)\" d=\"\n",
       "M1747.28 1445.72 L1747.28 1445.72 L1764.02 1445.72 L1764.02 1445.72 L1747.28 1445.72 L1747.28 1445.72  Z\n",
       "  \" fill=\"#009af9\" fill-rule=\"evenodd\" fill-opacity=\"1\"/>\n",
       "<polyline clip-path=\"url(#clip172)\" style=\"stroke:#000000; stroke-linecap:round; stroke-linejoin:round; stroke-width:4; stroke-opacity:1; fill:none\" points=\"\n",
       "  1747.28,1445.72 1747.28,1445.72 1764.02,1445.72 1747.28,1445.72 \n",
       "  \"/>\n",
       "<path clip-path=\"url(#clip172)\" d=\"\n",
       "M1764.02 1445.72 L1764.02 1445.72 L1780.76 1445.72 L1780.76 1445.72 L1764.02 1445.72 L1764.02 1445.72  Z\n",
       "  \" fill=\"#009af9\" fill-rule=\"evenodd\" fill-opacity=\"1\"/>\n",
       "<polyline clip-path=\"url(#clip172)\" style=\"stroke:#000000; stroke-linecap:round; stroke-linejoin:round; stroke-width:4; stroke-opacity:1; fill:none\" points=\"\n",
       "  1764.02,1445.72 1764.02,1445.72 1780.76,1445.72 1764.02,1445.72 \n",
       "  \"/>\n",
       "<path clip-path=\"url(#clip172)\" d=\"\n",
       "M1780.76 1445.72 L1780.76 1445.72 L1797.5 1445.72 L1797.5 1445.72 L1780.76 1445.72 L1780.76 1445.72  Z\n",
       "  \" fill=\"#009af9\" fill-rule=\"evenodd\" fill-opacity=\"1\"/>\n",
       "<polyline clip-path=\"url(#clip172)\" style=\"stroke:#000000; stroke-linecap:round; stroke-linejoin:round; stroke-width:4; stroke-opacity:1; fill:none\" points=\"\n",
       "  1780.76,1445.72 1780.76,1445.72 1797.5,1445.72 1780.76,1445.72 \n",
       "  \"/>\n",
       "<path clip-path=\"url(#clip172)\" d=\"\n",
       "M1797.5 1445.72 L1797.5 1445.72 L1814.24 1445.72 L1814.24 1445.72 L1797.5 1445.72 L1797.5 1445.72  Z\n",
       "  \" fill=\"#009af9\" fill-rule=\"evenodd\" fill-opacity=\"1\"/>\n",
       "<polyline clip-path=\"url(#clip172)\" style=\"stroke:#000000; stroke-linecap:round; stroke-linejoin:round; stroke-width:4; stroke-opacity:1; fill:none\" points=\"\n",
       "  1797.5,1445.72 1797.5,1445.72 1814.24,1445.72 1797.5,1445.72 \n",
       "  \"/>\n",
       "<path clip-path=\"url(#clip172)\" d=\"\n",
       "M1814.24 1440.49 L1814.24 1445.72 L1830.98 1445.72 L1830.98 1440.49 L1814.24 1440.49 L1814.24 1440.49  Z\n",
       "  \" fill=\"#009af9\" fill-rule=\"evenodd\" fill-opacity=\"1\"/>\n",
       "<polyline clip-path=\"url(#clip172)\" style=\"stroke:#000000; stroke-linecap:round; stroke-linejoin:round; stroke-width:4; stroke-opacity:1; fill:none\" points=\"\n",
       "  1814.24,1440.49 1814.24,1445.72 1830.98,1445.72 1830.98,1440.49 1814.24,1440.49 \n",
       "  \"/>\n",
       "<path clip-path=\"url(#clip172)\" d=\"\n",
       "M1830.98 1445.72 L1830.98 1445.72 L1847.72 1445.72 L1847.72 1445.72 L1830.98 1445.72 L1830.98 1445.72  Z\n",
       "  \" fill=\"#009af9\" fill-rule=\"evenodd\" fill-opacity=\"1\"/>\n",
       "<polyline clip-path=\"url(#clip172)\" style=\"stroke:#000000; stroke-linecap:round; stroke-linejoin:round; stroke-width:4; stroke-opacity:1; fill:none\" points=\"\n",
       "  1830.98,1445.72 1830.98,1445.72 1847.72,1445.72 1830.98,1445.72 \n",
       "  \"/>\n",
       "<path clip-path=\"url(#clip172)\" d=\"\n",
       "M1847.72 1440.49 L1847.72 1445.72 L1864.46 1445.72 L1864.46 1440.49 L1847.72 1440.49 L1847.72 1440.49  Z\n",
       "  \" fill=\"#009af9\" fill-rule=\"evenodd\" fill-opacity=\"1\"/>\n",
       "<polyline clip-path=\"url(#clip172)\" style=\"stroke:#000000; stroke-linecap:round; stroke-linejoin:round; stroke-width:4; stroke-opacity:1; fill:none\" points=\"\n",
       "  1847.72,1440.49 1847.72,1445.72 1864.46,1445.72 1864.46,1440.49 1847.72,1440.49 \n",
       "  \"/>\n",
       "<path clip-path=\"url(#clip172)\" d=\"\n",
       "M1864.46 1445.72 L1864.46 1445.72 L1881.2 1445.72 L1881.2 1445.72 L1864.46 1445.72 L1864.46 1445.72  Z\n",
       "  \" fill=\"#009af9\" fill-rule=\"evenodd\" fill-opacity=\"1\"/>\n",
       "<polyline clip-path=\"url(#clip172)\" style=\"stroke:#000000; stroke-linecap:round; stroke-linejoin:round; stroke-width:4; stroke-opacity:1; fill:none\" points=\"\n",
       "  1864.46,1445.72 1864.46,1445.72 1881.2,1445.72 1864.46,1445.72 \n",
       "  \"/>\n",
       "<path clip-path=\"url(#clip172)\" d=\"\n",
       "M1881.2 1445.72 L1881.2 1445.72 L1897.94 1445.72 L1897.94 1445.72 L1881.2 1445.72 L1881.2 1445.72  Z\n",
       "  \" fill=\"#009af9\" fill-rule=\"evenodd\" fill-opacity=\"1\"/>\n",
       "<polyline clip-path=\"url(#clip172)\" style=\"stroke:#000000; stroke-linecap:round; stroke-linejoin:round; stroke-width:4; stroke-opacity:1; fill:none\" points=\"\n",
       "  1881.2,1445.72 1881.2,1445.72 1897.94,1445.72 1881.2,1445.72 \n",
       "  \"/>\n",
       "<path clip-path=\"url(#clip172)\" d=\"\n",
       "M1897.94 1445.72 L1897.94 1445.72 L1914.68 1445.72 L1914.68 1445.72 L1897.94 1445.72 L1897.94 1445.72  Z\n",
       "  \" fill=\"#009af9\" fill-rule=\"evenodd\" fill-opacity=\"1\"/>\n",
       "<polyline clip-path=\"url(#clip172)\" style=\"stroke:#000000; stroke-linecap:round; stroke-linejoin:round; stroke-width:4; stroke-opacity:1; fill:none\" points=\"\n",
       "  1897.94,1445.72 1897.94,1445.72 1914.68,1445.72 1897.94,1445.72 \n",
       "  \"/>\n",
       "<path clip-path=\"url(#clip172)\" d=\"\n",
       "M1914.68 1445.72 L1914.68 1445.72 L1931.42 1445.72 L1931.42 1445.72 L1914.68 1445.72 L1914.68 1445.72  Z\n",
       "  \" fill=\"#009af9\" fill-rule=\"evenodd\" fill-opacity=\"1\"/>\n",
       "<polyline clip-path=\"url(#clip172)\" style=\"stroke:#000000; stroke-linecap:round; stroke-linejoin:round; stroke-width:4; stroke-opacity:1; fill:none\" points=\"\n",
       "  1914.68,1445.72 1914.68,1445.72 1931.42,1445.72 1914.68,1445.72 \n",
       "  \"/>\n",
       "<path clip-path=\"url(#clip172)\" d=\"\n",
       "M1931.42 1445.72 L1931.42 1445.72 L1948.16 1445.72 L1948.16 1445.72 L1931.42 1445.72 L1931.42 1445.72  Z\n",
       "  \" fill=\"#009af9\" fill-rule=\"evenodd\" fill-opacity=\"1\"/>\n",
       "<polyline clip-path=\"url(#clip172)\" style=\"stroke:#000000; stroke-linecap:round; stroke-linejoin:round; stroke-width:4; stroke-opacity:1; fill:none\" points=\"\n",
       "  1931.42,1445.72 1931.42,1445.72 1948.16,1445.72 1931.42,1445.72 \n",
       "  \"/>\n",
       "<path clip-path=\"url(#clip172)\" d=\"\n",
       "M1948.16 1445.72 L1948.16 1445.72 L1964.9 1445.72 L1964.9 1445.72 L1948.16 1445.72 L1948.16 1445.72  Z\n",
       "  \" fill=\"#009af9\" fill-rule=\"evenodd\" fill-opacity=\"1\"/>\n",
       "<polyline clip-path=\"url(#clip172)\" style=\"stroke:#000000; stroke-linecap:round; stroke-linejoin:round; stroke-width:4; stroke-opacity:1; fill:none\" points=\"\n",
       "  1948.16,1445.72 1948.16,1445.72 1964.9,1445.72 1948.16,1445.72 \n",
       "  \"/>\n",
       "<path clip-path=\"url(#clip172)\" d=\"\n",
       "M1964.9 1445.72 L1964.9 1445.72 L1981.64 1445.72 L1981.64 1445.72 L1964.9 1445.72 L1964.9 1445.72  Z\n",
       "  \" fill=\"#009af9\" fill-rule=\"evenodd\" fill-opacity=\"1\"/>\n",
       "<polyline clip-path=\"url(#clip172)\" style=\"stroke:#000000; stroke-linecap:round; stroke-linejoin:round; stroke-width:4; stroke-opacity:1; fill:none\" points=\"\n",
       "  1964.9,1445.72 1964.9,1445.72 1981.64,1445.72 1964.9,1445.72 \n",
       "  \"/>\n",
       "<path clip-path=\"url(#clip172)\" d=\"\n",
       "M1981.64 1445.72 L1981.64 1445.72 L1998.38 1445.72 L1998.38 1445.72 L1981.64 1445.72 L1981.64 1445.72  Z\n",
       "  \" fill=\"#009af9\" fill-rule=\"evenodd\" fill-opacity=\"1\"/>\n",
       "<polyline clip-path=\"url(#clip172)\" style=\"stroke:#000000; stroke-linecap:round; stroke-linejoin:round; stroke-width:4; stroke-opacity:1; fill:none\" points=\"\n",
       "  1981.64,1445.72 1981.64,1445.72 1998.38,1445.72 1981.64,1445.72 \n",
       "  \"/>\n",
       "<path clip-path=\"url(#clip172)\" d=\"\n",
       "M1998.38 1445.72 L1998.38 1445.72 L2015.12 1445.72 L2015.12 1445.72 L1998.38 1445.72 L1998.38 1445.72  Z\n",
       "  \" fill=\"#009af9\" fill-rule=\"evenodd\" fill-opacity=\"1\"/>\n",
       "<polyline clip-path=\"url(#clip172)\" style=\"stroke:#000000; stroke-linecap:round; stroke-linejoin:round; stroke-width:4; stroke-opacity:1; fill:none\" points=\"\n",
       "  1998.38,1445.72 1998.38,1445.72 2015.12,1445.72 1998.38,1445.72 \n",
       "  \"/>\n",
       "<path clip-path=\"url(#clip172)\" d=\"\n",
       "M2015.12 1440.49 L2015.12 1445.72 L2031.86 1445.72 L2031.86 1440.49 L2015.12 1440.49 L2015.12 1440.49  Z\n",
       "  \" fill=\"#009af9\" fill-rule=\"evenodd\" fill-opacity=\"1\"/>\n",
       "<polyline clip-path=\"url(#clip172)\" style=\"stroke:#000000; stroke-linecap:round; stroke-linejoin:round; stroke-width:4; stroke-opacity:1; fill:none\" points=\"\n",
       "  2015.12,1440.49 2015.12,1445.72 2031.86,1445.72 2031.86,1440.49 2015.12,1440.49 \n",
       "  \"/>\n",
       "<path clip-path=\"url(#clip172)\" d=\"\n",
       "M2031.86 1445.72 L2031.86 1445.72 L2048.6 1445.72 L2048.6 1445.72 L2031.86 1445.72 L2031.86 1445.72  Z\n",
       "  \" fill=\"#009af9\" fill-rule=\"evenodd\" fill-opacity=\"1\"/>\n",
       "<polyline clip-path=\"url(#clip172)\" style=\"stroke:#000000; stroke-linecap:round; stroke-linejoin:round; stroke-width:4; stroke-opacity:1; fill:none\" points=\"\n",
       "  2031.86,1445.72 2031.86,1445.72 2048.6,1445.72 2031.86,1445.72 \n",
       "  \"/>\n",
       "<path clip-path=\"url(#clip172)\" d=\"\n",
       "M2048.6 1445.72 L2048.6 1445.72 L2065.34 1445.72 L2065.34 1445.72 L2048.6 1445.72 L2048.6 1445.72  Z\n",
       "  \" fill=\"#009af9\" fill-rule=\"evenodd\" fill-opacity=\"1\"/>\n",
       "<polyline clip-path=\"url(#clip172)\" style=\"stroke:#000000; stroke-linecap:round; stroke-linejoin:round; stroke-width:4; stroke-opacity:1; fill:none\" points=\"\n",
       "  2048.6,1445.72 2048.6,1445.72 2065.34,1445.72 2048.6,1445.72 \n",
       "  \"/>\n",
       "<path clip-path=\"url(#clip172)\" d=\"\n",
       "M2065.34 1445.72 L2065.34 1445.72 L2082.08 1445.72 L2082.08 1445.72 L2065.34 1445.72 L2065.34 1445.72  Z\n",
       "  \" fill=\"#009af9\" fill-rule=\"evenodd\" fill-opacity=\"1\"/>\n",
       "<polyline clip-path=\"url(#clip172)\" style=\"stroke:#000000; stroke-linecap:round; stroke-linejoin:round; stroke-width:4; stroke-opacity:1; fill:none\" points=\"\n",
       "  2065.34,1445.72 2065.34,1445.72 2082.08,1445.72 2065.34,1445.72 \n",
       "  \"/>\n",
       "<path clip-path=\"url(#clip172)\" d=\"\n",
       "M2082.08 1445.72 L2082.08 1445.72 L2098.82 1445.72 L2098.82 1445.72 L2082.08 1445.72 L2082.08 1445.72  Z\n",
       "  \" fill=\"#009af9\" fill-rule=\"evenodd\" fill-opacity=\"1\"/>\n",
       "<polyline clip-path=\"url(#clip172)\" style=\"stroke:#000000; stroke-linecap:round; stroke-linejoin:round; stroke-width:4; stroke-opacity:1; fill:none\" points=\"\n",
       "  2082.08,1445.72 2082.08,1445.72 2098.82,1445.72 2082.08,1445.72 \n",
       "  \"/>\n",
       "<path clip-path=\"url(#clip172)\" d=\"\n",
       "M2098.82 1445.72 L2098.82 1445.72 L2115.57 1445.72 L2115.57 1445.72 L2098.82 1445.72 L2098.82 1445.72  Z\n",
       "  \" fill=\"#009af9\" fill-rule=\"evenodd\" fill-opacity=\"1\"/>\n",
       "<polyline clip-path=\"url(#clip172)\" style=\"stroke:#000000; stroke-linecap:round; stroke-linejoin:round; stroke-width:4; stroke-opacity:1; fill:none\" points=\"\n",
       "  2098.82,1445.72 2098.82,1445.72 2115.57,1445.72 2098.82,1445.72 \n",
       "  \"/>\n",
       "<path clip-path=\"url(#clip172)\" d=\"\n",
       "M2115.57 1445.72 L2115.57 1445.72 L2132.31 1445.72 L2132.31 1445.72 L2115.57 1445.72 L2115.57 1445.72  Z\n",
       "  \" fill=\"#009af9\" fill-rule=\"evenodd\" fill-opacity=\"1\"/>\n",
       "<polyline clip-path=\"url(#clip172)\" style=\"stroke:#000000; stroke-linecap:round; stroke-linejoin:round; stroke-width:4; stroke-opacity:1; fill:none\" points=\"\n",
       "  2115.57,1445.72 2115.57,1445.72 2132.31,1445.72 2115.57,1445.72 \n",
       "  \"/>\n",
       "<path clip-path=\"url(#clip172)\" d=\"\n",
       "M2132.31 1445.72 L2132.31 1445.72 L2149.05 1445.72 L2149.05 1445.72 L2132.31 1445.72 L2132.31 1445.72  Z\n",
       "  \" fill=\"#009af9\" fill-rule=\"evenodd\" fill-opacity=\"1\"/>\n",
       "<polyline clip-path=\"url(#clip172)\" style=\"stroke:#000000; stroke-linecap:round; stroke-linejoin:round; stroke-width:4; stroke-opacity:1; fill:none\" points=\"\n",
       "  2132.31,1445.72 2132.31,1445.72 2149.05,1445.72 2132.31,1445.72 \n",
       "  \"/>\n",
       "<path clip-path=\"url(#clip172)\" d=\"\n",
       "M2149.05 1445.72 L2149.05 1445.72 L2165.79 1445.72 L2165.79 1445.72 L2149.05 1445.72 L2149.05 1445.72  Z\n",
       "  \" fill=\"#009af9\" fill-rule=\"evenodd\" fill-opacity=\"1\"/>\n",
       "<polyline clip-path=\"url(#clip172)\" style=\"stroke:#000000; stroke-linecap:round; stroke-linejoin:round; stroke-width:4; stroke-opacity:1; fill:none\" points=\"\n",
       "  2149.05,1445.72 2149.05,1445.72 2165.79,1445.72 2149.05,1445.72 \n",
       "  \"/>\n",
       "<path clip-path=\"url(#clip172)\" d=\"\n",
       "M2165.79 1445.72 L2165.79 1445.72 L2182.53 1445.72 L2182.53 1445.72 L2165.79 1445.72 L2165.79 1445.72  Z\n",
       "  \" fill=\"#009af9\" fill-rule=\"evenodd\" fill-opacity=\"1\"/>\n",
       "<polyline clip-path=\"url(#clip172)\" style=\"stroke:#000000; stroke-linecap:round; stroke-linejoin:round; stroke-width:4; stroke-opacity:1; fill:none\" points=\"\n",
       "  2165.79,1445.72 2165.79,1445.72 2182.53,1445.72 2165.79,1445.72 \n",
       "  \"/>\n",
       "<path clip-path=\"url(#clip172)\" d=\"\n",
       "M2182.53 1445.72 L2182.53 1445.72 L2199.27 1445.72 L2199.27 1445.72 L2182.53 1445.72 L2182.53 1445.72  Z\n",
       "  \" fill=\"#009af9\" fill-rule=\"evenodd\" fill-opacity=\"1\"/>\n",
       "<polyline clip-path=\"url(#clip172)\" style=\"stroke:#000000; stroke-linecap:round; stroke-linejoin:round; stroke-width:4; stroke-opacity:1; fill:none\" points=\"\n",
       "  2182.53,1445.72 2182.53,1445.72 2199.27,1445.72 2182.53,1445.72 \n",
       "  \"/>\n",
       "<path clip-path=\"url(#clip172)\" d=\"\n",
       "M2199.27 1445.72 L2199.27 1445.72 L2216.01 1445.72 L2216.01 1445.72 L2199.27 1445.72 L2199.27 1445.72  Z\n",
       "  \" fill=\"#009af9\" fill-rule=\"evenodd\" fill-opacity=\"1\"/>\n",
       "<polyline clip-path=\"url(#clip172)\" style=\"stroke:#000000; stroke-linecap:round; stroke-linejoin:round; stroke-width:4; stroke-opacity:1; fill:none\" points=\"\n",
       "  2199.27,1445.72 2199.27,1445.72 2216.01,1445.72 2199.27,1445.72 \n",
       "  \"/>\n",
       "<path clip-path=\"url(#clip172)\" d=\"\n",
       "M2216.01 1440.49 L2216.01 1445.72 L2232.75 1445.72 L2232.75 1440.49 L2216.01 1440.49 L2216.01 1440.49  Z\n",
       "  \" fill=\"#009af9\" fill-rule=\"evenodd\" fill-opacity=\"1\"/>\n",
       "<polyline clip-path=\"url(#clip172)\" style=\"stroke:#000000; stroke-linecap:round; stroke-linejoin:round; stroke-width:4; stroke-opacity:1; fill:none\" points=\"\n",
       "  2216.01,1440.49 2216.01,1445.72 2232.75,1445.72 2232.75,1440.49 2216.01,1440.49 \n",
       "  \"/>\n",
       "<circle clip-path=\"url(#clip172)\" style=\"fill:#009af9; stroke:none; fill-opacity:0\" cx=\"299.236\" cy=\"1440.49\" r=\"2\"/>\n",
       "<circle clip-path=\"url(#clip172)\" style=\"fill:#009af9; stroke:none; fill-opacity:0\" cx=\"315.976\" cy=\"1445.72\" r=\"2\"/>\n",
       "<circle clip-path=\"url(#clip172)\" style=\"fill:#009af9; stroke:none; fill-opacity:0\" cx=\"332.717\" cy=\"1440.49\" r=\"2\"/>\n",
       "<circle clip-path=\"url(#clip172)\" style=\"fill:#009af9; stroke:none; fill-opacity:0\" cx=\"349.457\" cy=\"1440.49\" r=\"2\"/>\n",
       "<circle clip-path=\"url(#clip172)\" style=\"fill:#009af9; stroke:none; fill-opacity:0\" cx=\"366.197\" cy=\"1424.83\" r=\"2\"/>\n",
       "<circle clip-path=\"url(#clip172)\" style=\"fill:#009af9; stroke:none; fill-opacity:0\" cx=\"382.938\" cy=\"1409.16\" r=\"2\"/>\n",
       "<circle clip-path=\"url(#clip172)\" style=\"fill:#009af9; stroke:none; fill-opacity:0\" cx=\"399.678\" cy=\"1398.72\" r=\"2\"/>\n",
       "<circle clip-path=\"url(#clip172)\" style=\"fill:#009af9; stroke:none; fill-opacity:0\" cx=\"416.418\" cy=\"1372.61\" r=\"2\"/>\n",
       "<circle clip-path=\"url(#clip172)\" style=\"fill:#009af9; stroke:none; fill-opacity:0\" cx=\"433.159\" cy=\"1383.05\" r=\"2\"/>\n",
       "<circle clip-path=\"url(#clip172)\" style=\"fill:#009af9; stroke:none; fill-opacity:0\" cx=\"449.899\" cy=\"1362.16\" r=\"2\"/>\n",
       "<circle clip-path=\"url(#clip172)\" style=\"fill:#009af9; stroke:none; fill-opacity:0\" cx=\"466.64\" cy=\"1247.28\" r=\"2\"/>\n",
       "<circle clip-path=\"url(#clip172)\" style=\"fill:#009af9; stroke:none; fill-opacity:0\" cx=\"483.38\" cy=\"1231.61\" r=\"2\"/>\n",
       "<circle clip-path=\"url(#clip172)\" style=\"fill:#009af9; stroke:none; fill-opacity:0\" cx=\"500.12\" cy=\"1148.06\" r=\"2\"/>\n",
       "<circle clip-path=\"url(#clip172)\" style=\"fill:#009af9; stroke:none; fill-opacity:0\" cx=\"516.861\" cy=\"1101.06\" r=\"2\"/>\n",
       "<circle clip-path=\"url(#clip172)\" style=\"fill:#009af9; stroke:none; fill-opacity:0\" cx=\"533.601\" cy=\"954.841\" r=\"2\"/>\n",
       "<circle clip-path=\"url(#clip172)\" style=\"fill:#009af9; stroke:none; fill-opacity:0\" cx=\"550.341\" cy=\"1001.84\" r=\"2\"/>\n",
       "<circle clip-path=\"url(#clip172)\" style=\"fill:#009af9; stroke:none; fill-opacity:0\" cx=\"567.082\" cy=\"824.289\" r=\"2\"/>\n",
       "<circle clip-path=\"url(#clip172)\" style=\"fill:#009af9; stroke:none; fill-opacity:0\" cx=\"583.822\" cy=\"636.294\" r=\"2\"/>\n",
       "<circle clip-path=\"url(#clip172)\" style=\"fill:#009af9; stroke:none; fill-opacity:0\" cx=\"600.562\" cy=\"651.96\" r=\"2\"/>\n",
       "<circle clip-path=\"url(#clip172)\" style=\"fill:#009af9; stroke:none; fill-opacity:0\" cx=\"617.303\" cy=\"369.968\" r=\"2\"/>\n",
       "<circle clip-path=\"url(#clip172)\" style=\"fill:#009af9; stroke:none; fill-opacity:0\" cx=\"634.043\" cy=\"390.857\" r=\"2\"/>\n",
       "<circle clip-path=\"url(#clip172)\" style=\"fill:#009af9; stroke:none; fill-opacity:0\" cx=\"650.783\" cy=\"385.635\" r=\"2\"/>\n",
       "<circle clip-path=\"url(#clip172)\" style=\"fill:#009af9; stroke:none; fill-opacity:0\" cx=\"667.524\" cy=\"87.9763\" r=\"2\"/>\n",
       "<circle clip-path=\"url(#clip172)\" style=\"fill:#009af9; stroke:none; fill-opacity:0\" cx=\"684.264\" cy=\"197.64\" r=\"2\"/>\n",
       "<circle clip-path=\"url(#clip172)\" style=\"fill:#009af9; stroke:none; fill-opacity:0\" cx=\"701.005\" cy=\"129.753\" r=\"2\"/>\n",
       "<circle clip-path=\"url(#clip172)\" style=\"fill:#009af9; stroke:none; fill-opacity:0\" cx=\"717.745\" cy=\"239.416\" r=\"2\"/>\n",
       "<circle clip-path=\"url(#clip172)\" style=\"fill:#009af9; stroke:none; fill-opacity:0\" cx=\"734.485\" cy=\"495.298\" r=\"2\"/>\n",
       "<circle clip-path=\"url(#clip172)\" style=\"fill:#009af9; stroke:none; fill-opacity:0\" cx=\"751.226\" cy=\"547.519\" r=\"2\"/>\n",
       "<circle clip-path=\"url(#clip172)\" style=\"fill:#009af9; stroke:none; fill-opacity:0\" cx=\"767.966\" cy=\"698.959\" r=\"2\"/>\n",
       "<circle clip-path=\"url(#clip172)\" style=\"fill:#009af9; stroke:none; fill-opacity:0\" cx=\"784.706\" cy=\"1001.84\" r=\"2\"/>\n",
       "<circle clip-path=\"url(#clip172)\" style=\"fill:#009af9; stroke:none; fill-opacity:0\" cx=\"801.447\" cy=\"1127.17\" r=\"2\"/>\n",
       "<circle clip-path=\"url(#clip172)\" style=\"fill:#009af9; stroke:none; fill-opacity:0\" cx=\"818.187\" cy=\"1163.72\" r=\"2\"/>\n",
       "<circle clip-path=\"url(#clip172)\" style=\"fill:#009af9; stroke:none; fill-opacity:0\" cx=\"834.927\" cy=\"1278.61\" r=\"2\"/>\n",
       "<circle clip-path=\"url(#clip172)\" style=\"fill:#009af9; stroke:none; fill-opacity:0\" cx=\"851.668\" cy=\"1304.72\" r=\"2\"/>\n",
       "<circle clip-path=\"url(#clip172)\" style=\"fill:#009af9; stroke:none; fill-opacity:0\" cx=\"868.408\" cy=\"1341.27\" r=\"2\"/>\n",
       "<circle clip-path=\"url(#clip172)\" style=\"fill:#009af9; stroke:none; fill-opacity:0\" cx=\"885.149\" cy=\"1294.28\" r=\"2\"/>\n",
       "<circle clip-path=\"url(#clip172)\" style=\"fill:#009af9; stroke:none; fill-opacity:0\" cx=\"901.889\" cy=\"1320.39\" r=\"2\"/>\n",
       "<circle clip-path=\"url(#clip172)\" style=\"fill:#009af9; stroke:none; fill-opacity:0\" cx=\"918.629\" cy=\"1336.05\" r=\"2\"/>\n",
       "<circle clip-path=\"url(#clip172)\" style=\"fill:#009af9; stroke:none; fill-opacity:0\" cx=\"935.37\" cy=\"1356.94\" r=\"2\"/>\n",
       "<circle clip-path=\"url(#clip172)\" style=\"fill:#009af9; stroke:none; fill-opacity:0\" cx=\"952.11\" cy=\"1393.49\" r=\"2\"/>\n",
       "<circle clip-path=\"url(#clip172)\" style=\"fill:#009af9; stroke:none; fill-opacity:0\" cx=\"968.85\" cy=\"1414.38\" r=\"2\"/>\n",
       "<circle clip-path=\"url(#clip172)\" style=\"fill:#009af9; stroke:none; fill-opacity:0\" cx=\"985.591\" cy=\"1409.16\" r=\"2\"/>\n",
       "<circle clip-path=\"url(#clip172)\" style=\"fill:#009af9; stroke:none; fill-opacity:0\" cx=\"1002.33\" cy=\"1383.05\" r=\"2\"/>\n",
       "<circle clip-path=\"url(#clip172)\" style=\"fill:#009af9; stroke:none; fill-opacity:0\" cx=\"1019.07\" cy=\"1398.72\" r=\"2\"/>\n",
       "<circle clip-path=\"url(#clip172)\" style=\"fill:#009af9; stroke:none; fill-opacity:0\" cx=\"1035.81\" cy=\"1398.72\" r=\"2\"/>\n",
       "<circle clip-path=\"url(#clip172)\" style=\"fill:#009af9; stroke:none; fill-opacity:0\" cx=\"1052.55\" cy=\"1419.61\" r=\"2\"/>\n",
       "<circle clip-path=\"url(#clip172)\" style=\"fill:#009af9; stroke:none; fill-opacity:0\" cx=\"1069.29\" cy=\"1409.16\" r=\"2\"/>\n",
       "<circle clip-path=\"url(#clip172)\" style=\"fill:#009af9; stroke:none; fill-opacity:0\" cx=\"1086.03\" cy=\"1424.83\" r=\"2\"/>\n",
       "<circle clip-path=\"url(#clip172)\" style=\"fill:#009af9; stroke:none; fill-opacity:0\" cx=\"1102.77\" cy=\"1403.94\" r=\"2\"/>\n",
       "<circle clip-path=\"url(#clip172)\" style=\"fill:#009af9; stroke:none; fill-opacity:0\" cx=\"1119.51\" cy=\"1430.05\" r=\"2\"/>\n",
       "<circle clip-path=\"url(#clip172)\" style=\"fill:#009af9; stroke:none; fill-opacity:0\" cx=\"1136.25\" cy=\"1424.83\" r=\"2\"/>\n",
       "<circle clip-path=\"url(#clip172)\" style=\"fill:#009af9; stroke:none; fill-opacity:0\" cx=\"1152.99\" cy=\"1414.38\" r=\"2\"/>\n",
       "<circle clip-path=\"url(#clip172)\" style=\"fill:#009af9; stroke:none; fill-opacity:0\" cx=\"1169.73\" cy=\"1414.38\" r=\"2\"/>\n",
       "<circle clip-path=\"url(#clip172)\" style=\"fill:#009af9; stroke:none; fill-opacity:0\" cx=\"1186.48\" cy=\"1435.27\" r=\"2\"/>\n",
       "<circle clip-path=\"url(#clip172)\" style=\"fill:#009af9; stroke:none; fill-opacity:0\" cx=\"1203.22\" cy=\"1409.16\" r=\"2\"/>\n",
       "<circle clip-path=\"url(#clip172)\" style=\"fill:#009af9; stroke:none; fill-opacity:0\" cx=\"1219.96\" cy=\"1440.49\" r=\"2\"/>\n",
       "<circle clip-path=\"url(#clip172)\" style=\"fill:#009af9; stroke:none; fill-opacity:0\" cx=\"1236.7\" cy=\"1435.27\" r=\"2\"/>\n",
       "<circle clip-path=\"url(#clip172)\" style=\"fill:#009af9; stroke:none; fill-opacity:0\" cx=\"1253.44\" cy=\"1424.83\" r=\"2\"/>\n",
       "<circle clip-path=\"url(#clip172)\" style=\"fill:#009af9; stroke:none; fill-opacity:0\" cx=\"1270.18\" cy=\"1440.49\" r=\"2\"/>\n",
       "<circle clip-path=\"url(#clip172)\" style=\"fill:#009af9; stroke:none; fill-opacity:0\" cx=\"1286.92\" cy=\"1440.49\" r=\"2\"/>\n",
       "<circle clip-path=\"url(#clip172)\" style=\"fill:#009af9; stroke:none; fill-opacity:0\" cx=\"1303.66\" cy=\"1445.72\" r=\"2\"/>\n",
       "<circle clip-path=\"url(#clip172)\" style=\"fill:#009af9; stroke:none; fill-opacity:0\" cx=\"1320.4\" cy=\"1440.49\" r=\"2\"/>\n",
       "<circle clip-path=\"url(#clip172)\" style=\"fill:#009af9; stroke:none; fill-opacity:0\" cx=\"1337.14\" cy=\"1440.49\" r=\"2\"/>\n",
       "<circle clip-path=\"url(#clip172)\" style=\"fill:#009af9; stroke:none; fill-opacity:0\" cx=\"1353.88\" cy=\"1445.72\" r=\"2\"/>\n",
       "<circle clip-path=\"url(#clip172)\" style=\"fill:#009af9; stroke:none; fill-opacity:0\" cx=\"1370.62\" cy=\"1445.72\" r=\"2\"/>\n",
       "<circle clip-path=\"url(#clip172)\" style=\"fill:#009af9; stroke:none; fill-opacity:0\" cx=\"1387.36\" cy=\"1445.72\" r=\"2\"/>\n",
       "<circle clip-path=\"url(#clip172)\" style=\"fill:#009af9; stroke:none; fill-opacity:0\" cx=\"1404.1\" cy=\"1445.72\" r=\"2\"/>\n",
       "<circle clip-path=\"url(#clip172)\" style=\"fill:#009af9; stroke:none; fill-opacity:0\" cx=\"1420.84\" cy=\"1445.72\" r=\"2\"/>\n",
       "<circle clip-path=\"url(#clip172)\" style=\"fill:#009af9; stroke:none; fill-opacity:0\" cx=\"1437.58\" cy=\"1440.49\" r=\"2\"/>\n",
       "<circle clip-path=\"url(#clip172)\" style=\"fill:#009af9; stroke:none; fill-opacity:0\" cx=\"1454.32\" cy=\"1445.72\" r=\"2\"/>\n",
       "<circle clip-path=\"url(#clip172)\" style=\"fill:#009af9; stroke:none; fill-opacity:0\" cx=\"1471.06\" cy=\"1445.72\" r=\"2\"/>\n",
       "<circle clip-path=\"url(#clip172)\" style=\"fill:#009af9; stroke:none; fill-opacity:0\" cx=\"1487.8\" cy=\"1440.49\" r=\"2\"/>\n",
       "<circle clip-path=\"url(#clip172)\" style=\"fill:#009af9; stroke:none; fill-opacity:0\" cx=\"1504.54\" cy=\"1445.72\" r=\"2\"/>\n",
       "<circle clip-path=\"url(#clip172)\" style=\"fill:#009af9; stroke:none; fill-opacity:0\" cx=\"1521.28\" cy=\"1445.72\" r=\"2\"/>\n",
       "<circle clip-path=\"url(#clip172)\" style=\"fill:#009af9; stroke:none; fill-opacity:0\" cx=\"1538.02\" cy=\"1445.72\" r=\"2\"/>\n",
       "<circle clip-path=\"url(#clip172)\" style=\"fill:#009af9; stroke:none; fill-opacity:0\" cx=\"1554.76\" cy=\"1445.72\" r=\"2\"/>\n",
       "<circle clip-path=\"url(#clip172)\" style=\"fill:#009af9; stroke:none; fill-opacity:0\" cx=\"1571.5\" cy=\"1445.72\" r=\"2\"/>\n",
       "<circle clip-path=\"url(#clip172)\" style=\"fill:#009af9; stroke:none; fill-opacity:0\" cx=\"1588.24\" cy=\"1445.72\" r=\"2\"/>\n",
       "<circle clip-path=\"url(#clip172)\" style=\"fill:#009af9; stroke:none; fill-opacity:0\" cx=\"1604.98\" cy=\"1445.72\" r=\"2\"/>\n",
       "<circle clip-path=\"url(#clip172)\" style=\"fill:#009af9; stroke:none; fill-opacity:0\" cx=\"1621.72\" cy=\"1445.72\" r=\"2\"/>\n",
       "<circle clip-path=\"url(#clip172)\" style=\"fill:#009af9; stroke:none; fill-opacity:0\" cx=\"1638.46\" cy=\"1445.72\" r=\"2\"/>\n",
       "<circle clip-path=\"url(#clip172)\" style=\"fill:#009af9; stroke:none; fill-opacity:0\" cx=\"1655.21\" cy=\"1430.05\" r=\"2\"/>\n",
       "<circle clip-path=\"url(#clip172)\" style=\"fill:#009af9; stroke:none; fill-opacity:0\" cx=\"1671.95\" cy=\"1445.72\" r=\"2\"/>\n",
       "<circle clip-path=\"url(#clip172)\" style=\"fill:#009af9; stroke:none; fill-opacity:0\" cx=\"1688.69\" cy=\"1445.72\" r=\"2\"/>\n",
       "<circle clip-path=\"url(#clip172)\" style=\"fill:#009af9; stroke:none; fill-opacity:0\" cx=\"1705.43\" cy=\"1445.72\" r=\"2\"/>\n",
       "<circle clip-path=\"url(#clip172)\" style=\"fill:#009af9; stroke:none; fill-opacity:0\" cx=\"1722.17\" cy=\"1440.49\" r=\"2\"/>\n",
       "<circle clip-path=\"url(#clip172)\" style=\"fill:#009af9; stroke:none; fill-opacity:0\" cx=\"1738.91\" cy=\"1445.72\" r=\"2\"/>\n",
       "<circle clip-path=\"url(#clip172)\" style=\"fill:#009af9; stroke:none; fill-opacity:0\" cx=\"1755.65\" cy=\"1445.72\" r=\"2\"/>\n",
       "<circle clip-path=\"url(#clip172)\" style=\"fill:#009af9; stroke:none; fill-opacity:0\" cx=\"1772.39\" cy=\"1445.72\" r=\"2\"/>\n",
       "<circle clip-path=\"url(#clip172)\" style=\"fill:#009af9; stroke:none; fill-opacity:0\" cx=\"1789.13\" cy=\"1445.72\" r=\"2\"/>\n",
       "<circle clip-path=\"url(#clip172)\" style=\"fill:#009af9; stroke:none; fill-opacity:0\" cx=\"1805.87\" cy=\"1445.72\" r=\"2\"/>\n",
       "<circle clip-path=\"url(#clip172)\" style=\"fill:#009af9; stroke:none; fill-opacity:0\" cx=\"1822.61\" cy=\"1440.49\" r=\"2\"/>\n",
       "<circle clip-path=\"url(#clip172)\" style=\"fill:#009af9; stroke:none; fill-opacity:0\" cx=\"1839.35\" cy=\"1445.72\" r=\"2\"/>\n",
       "<circle clip-path=\"url(#clip172)\" style=\"fill:#009af9; stroke:none; fill-opacity:0\" cx=\"1856.09\" cy=\"1440.49\" r=\"2\"/>\n",
       "<circle clip-path=\"url(#clip172)\" style=\"fill:#009af9; stroke:none; fill-opacity:0\" cx=\"1872.83\" cy=\"1445.72\" r=\"2\"/>\n",
       "<circle clip-path=\"url(#clip172)\" style=\"fill:#009af9; stroke:none; fill-opacity:0\" cx=\"1889.57\" cy=\"1445.72\" r=\"2\"/>\n",
       "<circle clip-path=\"url(#clip172)\" style=\"fill:#009af9; stroke:none; fill-opacity:0\" cx=\"1906.31\" cy=\"1445.72\" r=\"2\"/>\n",
       "<circle clip-path=\"url(#clip172)\" style=\"fill:#009af9; stroke:none; fill-opacity:0\" cx=\"1923.05\" cy=\"1445.72\" r=\"2\"/>\n",
       "<circle clip-path=\"url(#clip172)\" style=\"fill:#009af9; stroke:none; fill-opacity:0\" cx=\"1939.79\" cy=\"1445.72\" r=\"2\"/>\n",
       "<circle clip-path=\"url(#clip172)\" style=\"fill:#009af9; stroke:none; fill-opacity:0\" cx=\"1956.53\" cy=\"1445.72\" r=\"2\"/>\n",
       "<circle clip-path=\"url(#clip172)\" style=\"fill:#009af9; stroke:none; fill-opacity:0\" cx=\"1973.27\" cy=\"1445.72\" r=\"2\"/>\n",
       "<circle clip-path=\"url(#clip172)\" style=\"fill:#009af9; stroke:none; fill-opacity:0\" cx=\"1990.01\" cy=\"1445.72\" r=\"2\"/>\n",
       "<circle clip-path=\"url(#clip172)\" style=\"fill:#009af9; stroke:none; fill-opacity:0\" cx=\"2006.75\" cy=\"1445.72\" r=\"2\"/>\n",
       "<circle clip-path=\"url(#clip172)\" style=\"fill:#009af9; stroke:none; fill-opacity:0\" cx=\"2023.49\" cy=\"1440.49\" r=\"2\"/>\n",
       "<circle clip-path=\"url(#clip172)\" style=\"fill:#009af9; stroke:none; fill-opacity:0\" cx=\"2040.23\" cy=\"1445.72\" r=\"2\"/>\n",
       "<circle clip-path=\"url(#clip172)\" style=\"fill:#009af9; stroke:none; fill-opacity:0\" cx=\"2056.97\" cy=\"1445.72\" r=\"2\"/>\n",
       "<circle clip-path=\"url(#clip172)\" style=\"fill:#009af9; stroke:none; fill-opacity:0\" cx=\"2073.71\" cy=\"1445.72\" r=\"2\"/>\n",
       "<circle clip-path=\"url(#clip172)\" style=\"fill:#009af9; stroke:none; fill-opacity:0\" cx=\"2090.45\" cy=\"1445.72\" r=\"2\"/>\n",
       "<circle clip-path=\"url(#clip172)\" style=\"fill:#009af9; stroke:none; fill-opacity:0\" cx=\"2107.19\" cy=\"1445.72\" r=\"2\"/>\n",
       "<circle clip-path=\"url(#clip172)\" style=\"fill:#009af9; stroke:none; fill-opacity:0\" cx=\"2123.94\" cy=\"1445.72\" r=\"2\"/>\n",
       "<circle clip-path=\"url(#clip172)\" style=\"fill:#009af9; stroke:none; fill-opacity:0\" cx=\"2140.68\" cy=\"1445.72\" r=\"2\"/>\n",
       "<circle clip-path=\"url(#clip172)\" style=\"fill:#009af9; stroke:none; fill-opacity:0\" cx=\"2157.42\" cy=\"1445.72\" r=\"2\"/>\n",
       "<circle clip-path=\"url(#clip172)\" style=\"fill:#009af9; stroke:none; fill-opacity:0\" cx=\"2174.16\" cy=\"1445.72\" r=\"2\"/>\n",
       "<circle clip-path=\"url(#clip172)\" style=\"fill:#009af9; stroke:none; fill-opacity:0\" cx=\"2190.9\" cy=\"1445.72\" r=\"2\"/>\n",
       "<circle clip-path=\"url(#clip172)\" style=\"fill:#009af9; stroke:none; fill-opacity:0\" cx=\"2207.64\" cy=\"1445.72\" r=\"2\"/>\n",
       "<circle clip-path=\"url(#clip172)\" style=\"fill:#009af9; stroke:none; fill-opacity:0\" cx=\"2224.38\" cy=\"1440.49\" r=\"2\"/>\n",
       "<path clip-path=\"url(#clip170)\" d=\"\n",
       "M1985.16 198.898 L2280.03 198.898 L2280.03 95.2176 L1985.16 95.2176  Z\n",
       "  \" fill=\"#ffffff\" fill-rule=\"evenodd\" fill-opacity=\"1\"/>\n",
       "<polyline clip-path=\"url(#clip170)\" style=\"stroke:#000000; stroke-linecap:round; stroke-linejoin:round; stroke-width:4; stroke-opacity:1; fill:none\" points=\"\n",
       "  1985.16,198.898 2280.03,198.898 2280.03,95.2176 1985.16,95.2176 1985.16,198.898 \n",
       "  \"/>\n",
       "<path clip-path=\"url(#clip170)\" d=\"\n",
       "M2009.41 167.794 L2154.87 167.794 L2154.87 126.322 L2009.41 126.322 L2009.41 167.794  Z\n",
       "  \" fill=\"#009af9\" fill-rule=\"evenodd\" fill-opacity=\"1\"/>\n",
       "<polyline clip-path=\"url(#clip170)\" style=\"stroke:#000000; stroke-linecap:round; stroke-linejoin:round; stroke-width:4; stroke-opacity:1; fill:none\" points=\"\n",
       "  2009.41,167.794 2154.87,167.794 2154.87,126.322 2009.41,126.322 2009.41,167.794 \n",
       "  \"/>\n",
       "<path clip-path=\"url(#clip170)\" d=\"M2192.95 166.745 Q2191.15 171.375 2189.43 172.787 Q2187.72 174.199 2184.85 174.199 L2181.45 174.199 L2181.45 170.634 L2183.95 170.634 Q2185.71 170.634 2186.68 169.8 Q2187.65 168.967 2188.83 165.865 L2189.6 163.921 L2179.11 138.412 L2183.62 138.412 L2191.72 158.689 L2199.83 138.412 L2204.34 138.412 L2192.95 166.745 Z\" fill=\"#000000\" fill-rule=\"evenodd\" fill-opacity=\"1\" /><path clip-path=\"url(#clip170)\" d=\"M2211.63 160.402 L2219.27 160.402 L2219.27 134.037 L2210.96 135.703 L2210.96 131.444 L2219.22 129.778 L2223.9 129.778 L2223.9 160.402 L2231.54 160.402 L2231.54 164.338 L2211.63 164.338 L2211.63 160.402 Z\" fill=\"#000000\" fill-rule=\"evenodd\" fill-opacity=\"1\" /></svg>\n"
      ]
     },
     "execution_count": 89,
     "metadata": {},
     "output_type": "execute_result"
    }
   ],
   "source": [
    "scores_flat = vcat(noauc_scores...)\n",
    "histogram(scores_flat) # quasi all scores are very low"
   ]
  },
  {
   "cell_type": "markdown",
   "id": "f180790e",
   "metadata": {},
   "source": [
    "## 8 - Active learning simulation\n",
    "\n",
    "1. set some groups_loci aside at random, \n",
    "2. then do loocv as usual.\n",
    "3. compute and save the performance\n",
    "4. select a new group_withold to add, and add that to groups_loocv\n",
    "5. then redo the loocv as before. Repeat until no more groups in withold left.\n",
    "6. once looped all the way, plot the performance per iteration."
   ]
  },
  {
   "cell_type": "code",
   "execution_count": 186,
   "id": "a5f3e684",
   "metadata": {},
   "outputs": [],
   "source": [
    "# 1. select random subset of bacteria to initially withhold for active learning\n",
    "loocv = rand(length(unique(groups_loci))) .< 0.75\n",
    "withold = .! loocv\n",
    "groups_loocv = unique(groups_loci)[loocv]\n",
    "initial_groups_withold = unique(groups_loci)[withold];"
   ]
  },
  {
   "cell_type": "code",
   "execution_count": 187,
   "id": "a9128862",
   "metadata": {},
   "outputs": [
    {
     "name": "stdout",
     "output_type": "stream",
     "text": [
      "loocv: 151\n"
     ]
    },
    {
     "name": "stderr",
     "output_type": "stream",
     "text": [
      "\u001b[32mProgress: 100%|█████████████████████████████████████████| Time: 0:16:45\u001b[39m\n"
     ]
    },
    {
     "name": "stdout",
     "output_type": "stream",
     "text": [
      "queries: 94\n",
      "noauc: 57\n",
      "Finished another round of AL! To go: 48\n",
      "loocv: 152\n"
     ]
    },
    {
     "name": "stderr",
     "output_type": "stream",
     "text": [
      "\u001b[32mProgress: 100%|█████████████████████████████████████████| Time: 0:17:30\u001b[39m\n"
     ]
    },
    {
     "name": "stdout",
     "output_type": "stream",
     "text": [
      "queries: 94\n",
      "noauc: 57\n",
      "Finished another round of AL! To go: 47\n",
      "loocv: 153\n"
     ]
    },
    {
     "name": "stderr",
     "output_type": "stream",
     "text": [
      "\u001b[32mProgress: 100%|█████████████████████████████████████████| Time: 0:17:55\u001b[39m\n"
     ]
    },
    {
     "name": "stdout",
     "output_type": "stream",
     "text": [
      "queries: 94\n",
      "noauc: 57\n",
      "Finished another round of AL! To go: 46\n",
      "loocv: 154\n"
     ]
    },
    {
     "name": "stderr",
     "output_type": "stream",
     "text": [
      "\u001b[32mProgress: 100%|█████████████████████████████████████████| Time: 0:18:27\u001b[39m\n"
     ]
    },
    {
     "name": "stdout",
     "output_type": "stream",
     "text": [
      "queries: 94\n",
      "noauc: 57\n",
      "Finished another round of AL! To go: 45\n",
      "loocv: 155\n"
     ]
    },
    {
     "name": "stderr",
     "output_type": "stream",
     "text": [
      "\u001b[32mProgress: 100%|█████████████████████████████████████████| Time: 0:18:44\u001b[39m\n"
     ]
    },
    {
     "name": "stdout",
     "output_type": "stream",
     "text": [
      "queries: 94\n",
      "noauc: 57\n",
      "Finished another round of AL! To go: 44\n",
      "loocv: 156\n"
     ]
    },
    {
     "name": "stderr",
     "output_type": "stream",
     "text": [
      "\u001b[32mProgress: 100%|█████████████████████████████████████████| Time: 0:18:26\u001b[39m\n"
     ]
    },
    {
     "name": "stdout",
     "output_type": "stream",
     "text": [
      "queries: 94\n",
      "noauc: 57\n",
      "Finished another round of AL! To go: 43\n",
      "loocv: 157\n"
     ]
    },
    {
     "name": "stderr",
     "output_type": "stream",
     "text": [
      "\u001b[32mProgress: 100%|█████████████████████████████████████████| Time: 0:18:55\u001b[39m\n"
     ]
    },
    {
     "name": "stdout",
     "output_type": "stream",
     "text": [
      "queries: 94\n",
      "noauc: 57\n",
      "Finished another round of AL! To go: 42\n",
      "loocv: 158\n"
     ]
    },
    {
     "name": "stderr",
     "output_type": "stream",
     "text": [
      "\u001b[32mProgress: 100%|█████████████████████████████████████████| Time: 0:19:03\u001b[39m\n"
     ]
    },
    {
     "name": "stdout",
     "output_type": "stream",
     "text": [
      "queries: 94\n",
      "noauc: 57\n",
      "Finished another round of AL! To go: 41\n",
      "loocv: 159\n"
     ]
    },
    {
     "name": "stderr",
     "output_type": "stream",
     "text": [
      "\u001b[32mProgress: 100%|█████████████████████████████████████████| Time: 0:19:18\u001b[39m\n"
     ]
    },
    {
     "name": "stdout",
     "output_type": "stream",
     "text": [
      "queries: 94\n",
      "noauc: 57\n",
      "Finished another round of AL! To go: 40\n",
      "loocv: 160\n"
     ]
    },
    {
     "name": "stderr",
     "output_type": "stream",
     "text": [
      "\u001b[32mProgress: 100%|█████████████████████████████████████████| Time: 0:19:43\u001b[39m\n"
     ]
    },
    {
     "name": "stdout",
     "output_type": "stream",
     "text": [
      "queries: 94\n",
      "noauc: 57\n",
      "Finished another round of AL! To go: 39\n",
      "loocv: 161\n"
     ]
    },
    {
     "name": "stderr",
     "output_type": "stream",
     "text": [
      "\u001b[32mProgress: 100%|█████████████████████████████████████████| Time: 0:20:05\u001b[39m\n"
     ]
    },
    {
     "name": "stdout",
     "output_type": "stream",
     "text": [
      "queries: 94\n",
      "noauc: 57\n",
      "Finished another round of AL! To go: 38\n",
      "loocv: 162\n"
     ]
    },
    {
     "name": "stderr",
     "output_type": "stream",
     "text": [
      "\u001b[32mProgress: 100%|█████████████████████████████████████████| Time: 0:20:41\u001b[39m\n"
     ]
    },
    {
     "name": "stdout",
     "output_type": "stream",
     "text": [
      "queries: 94\n",
      "noauc: 57\n",
      "Finished another round of AL! To go: 37\n",
      "loocv: 163\n"
     ]
    },
    {
     "name": "stderr",
     "output_type": "stream",
     "text": [
      "\u001b[32mProgress: 100%|█████████████████████████████████████████| Time: 0:20:37\u001b[39m\n"
     ]
    },
    {
     "name": "stdout",
     "output_type": "stream",
     "text": [
      "queries: 94\n",
      "noauc: 57\n",
      "Finished another round of AL! To go: 36\n",
      "loocv: 164\n"
     ]
    },
    {
     "name": "stderr",
     "output_type": "stream",
     "text": [
      "\u001b[32mProgress: 100%|█████████████████████████████████████████| Time: 0:20:14\u001b[39m\n"
     ]
    },
    {
     "name": "stdout",
     "output_type": "stream",
     "text": [
      "queries: 94\n",
      "noauc: 57\n",
      "Finished another round of AL! To go: 35\n",
      "loocv: 165\n"
     ]
    },
    {
     "name": "stderr",
     "output_type": "stream",
     "text": [
      "\u001b[32mProgress: 100%|█████████████████████████████████████████| Time: 0:20:47\u001b[39m\n"
     ]
    },
    {
     "name": "stdout",
     "output_type": "stream",
     "text": [
      "queries: 94\n",
      "noauc: 57\n",
      "Finished another round of AL! To go: 34\n",
      "loocv: 166\n"
     ]
    },
    {
     "name": "stderr",
     "output_type": "stream",
     "text": [
      "\u001b[32mProgress: 100%|█████████████████████████████████████████| Time: 0:21:24\u001b[39m\n"
     ]
    },
    {
     "name": "stdout",
     "output_type": "stream",
     "text": [
      "queries: 94\n",
      "noauc: 57\n",
      "Finished another round of AL! To go: 33\n",
      "loocv: 167\n"
     ]
    },
    {
     "name": "stderr",
     "output_type": "stream",
     "text": [
      "\u001b[32mProgress: 100%|█████████████████████████████████████████| Time: 0:21:45\u001b[39m\n"
     ]
    },
    {
     "name": "stdout",
     "output_type": "stream",
     "text": [
      "queries: 94\n",
      "noauc: 57\n",
      "Finished another round of AL! To go: 32\n",
      "loocv: 168\n"
     ]
    },
    {
     "name": "stderr",
     "output_type": "stream",
     "text": [
      "\u001b[32mProgress: 100%|█████████████████████████████████████████| Time: 0:21:59\u001b[39m\n"
     ]
    },
    {
     "name": "stdout",
     "output_type": "stream",
     "text": [
      "queries: 94\n",
      "noauc: 57\n",
      "Finished another round of AL! To go: 31\n",
      "loocv: 169\n"
     ]
    },
    {
     "name": "stderr",
     "output_type": "stream",
     "text": [
      "\u001b[32mProgress: 100%|█████████████████████████████████████████| Time: 0:22:11\u001b[39m\n"
     ]
    },
    {
     "name": "stdout",
     "output_type": "stream",
     "text": [
      "queries: 94\n",
      "noauc: 57\n",
      "Finished another round of AL! To go: 30\n",
      "loocv: 170\n"
     ]
    },
    {
     "name": "stderr",
     "output_type": "stream",
     "text": [
      "\u001b[32mProgress: 100%|█████████████████████████████████████████| Time: 0:22:30\u001b[39m\n"
     ]
    },
    {
     "name": "stdout",
     "output_type": "stream",
     "text": [
      "queries: 94\n",
      "noauc: 57\n",
      "Finished another round of AL! To go: 29\n",
      "loocv: 171\n"
     ]
    },
    {
     "name": "stderr",
     "output_type": "stream",
     "text": [
      "\u001b[32mProgress: 100%|█████████████████████████████████████████| Time: 0:22:48\u001b[39m\n"
     ]
    },
    {
     "name": "stdout",
     "output_type": "stream",
     "text": [
      "queries: 94\n",
      "noauc: 57\n",
      "Finished another round of AL! To go: 28\n",
      "loocv: 172\n"
     ]
    },
    {
     "name": "stderr",
     "output_type": "stream",
     "text": [
      "\u001b[32mProgress: 100%|█████████████████████████████████████████| Time: 0:23:04\u001b[39m\n"
     ]
    },
    {
     "name": "stdout",
     "output_type": "stream",
     "text": [
      "queries: 94\n",
      "noauc: 57\n",
      "Finished another round of AL! To go: 27\n",
      "loocv: 173\n"
     ]
    },
    {
     "name": "stderr",
     "output_type": "stream",
     "text": [
      "\u001b[32mProgress: 100%|█████████████████████████████████████████| Time: 0:23:17\u001b[39m\n"
     ]
    },
    {
     "name": "stdout",
     "output_type": "stream",
     "text": [
      "queries: 94\n",
      "noauc: 57\n",
      "Finished another round of AL! To go: 26\n",
      "loocv: 174\n"
     ]
    },
    {
     "name": "stderr",
     "output_type": "stream",
     "text": [
      "\u001b[32mProgress: 100%|█████████████████████████████████████████| Time: 0:23:41\u001b[39m\n"
     ]
    },
    {
     "name": "stdout",
     "output_type": "stream",
     "text": [
      "queries: 94\n",
      "noauc: 57\n",
      "Finished another round of AL! To go: 25\n",
      "loocv: 175\n"
     ]
    },
    {
     "name": "stderr",
     "output_type": "stream",
     "text": [
      "\u001b[32mProgress: 100%|█████████████████████████████████████████| Time: 0:23:43\u001b[39m\n"
     ]
    },
    {
     "name": "stdout",
     "output_type": "stream",
     "text": [
      "queries: 94\n",
      "noauc: 57\n",
      "Finished another round of AL! To go: 24\n",
      "loocv: 176\n"
     ]
    },
    {
     "name": "stderr",
     "output_type": "stream",
     "text": [
      "\u001b[32mProgress: 100%|█████████████████████████████████████████| Time: 0:24:02\u001b[39m\n"
     ]
    },
    {
     "name": "stdout",
     "output_type": "stream",
     "text": [
      "queries: 94\n",
      "noauc: 57\n",
      "Finished another round of AL! To go: 23\n",
      "loocv: 177\n"
     ]
    },
    {
     "name": "stderr",
     "output_type": "stream",
     "text": [
      "\u001b[32mProgress: 100%|█████████████████████████████████████████| Time: 0:24:15\u001b[39m\n"
     ]
    },
    {
     "name": "stdout",
     "output_type": "stream",
     "text": [
      "queries: 94\n",
      "noauc: 57\n",
      "Finished another round of AL! To go: 22\n",
      "loocv: 178\n"
     ]
    },
    {
     "name": "stderr",
     "output_type": "stream",
     "text": [
      "\u001b[32mProgress: 100%|█████████████████████████████████████████| Time: 0:24:37\u001b[39m\n"
     ]
    },
    {
     "name": "stdout",
     "output_type": "stream",
     "text": [
      "queries: 94\n",
      "noauc: 57\n",
      "Finished another round of AL! To go: 21\n",
      "loocv: 179\n"
     ]
    },
    {
     "name": "stderr",
     "output_type": "stream",
     "text": [
      "\u001b[32mProgress: 100%|█████████████████████████████████████████| Time: 0:24:48\u001b[39m\n"
     ]
    },
    {
     "name": "stdout",
     "output_type": "stream",
     "text": [
      "queries: 94\n",
      "noauc: 57\n",
      "Finished another round of AL! To go: 20\n",
      "loocv: 180\n"
     ]
    },
    {
     "name": "stderr",
     "output_type": "stream",
     "text": [
      "\u001b[32mProgress: 100%|█████████████████████████████████████████| Time: 0:24:55\u001b[39m\n"
     ]
    },
    {
     "name": "stdout",
     "output_type": "stream",
     "text": [
      "queries: 94\n",
      "noauc: 57\n",
      "Finished another round of AL! To go: 19\n",
      "loocv: 181\n"
     ]
    },
    {
     "name": "stderr",
     "output_type": "stream",
     "text": [
      "\u001b[32mProgress: 100%|█████████████████████████████████████████| Time: 0:25:09\u001b[39m\n"
     ]
    },
    {
     "name": "stdout",
     "output_type": "stream",
     "text": [
      "queries: 94\n",
      "noauc: 57\n",
      "Finished another round of AL! To go: 18\n",
      "loocv: 182\n"
     ]
    },
    {
     "name": "stderr",
     "output_type": "stream",
     "text": [
      "\u001b[32mProgress: 100%|█████████████████████████████████████████| Time: 0:25:26\u001b[39m\n"
     ]
    },
    {
     "name": "stdout",
     "output_type": "stream",
     "text": [
      "queries: 94\n",
      "noauc: 57\n",
      "Finished another round of AL! To go: 17\n",
      "loocv: 183\n"
     ]
    },
    {
     "name": "stderr",
     "output_type": "stream",
     "text": [
      "\u001b[32mProgress: 100%|█████████████████████████████████████████| Time: 0:25:40\u001b[39m\n"
     ]
    },
    {
     "name": "stdout",
     "output_type": "stream",
     "text": [
      "queries: 94\n",
      "noauc: 57\n",
      "Finished another round of AL! To go: 16\n",
      "loocv: 184\n"
     ]
    },
    {
     "name": "stderr",
     "output_type": "stream",
     "text": [
      "\u001b[32mProgress: 100%|█████████████████████████████████████████| Time: 0:26:09\u001b[39m\n"
     ]
    },
    {
     "name": "stdout",
     "output_type": "stream",
     "text": [
      "queries: 94\n",
      "noauc: 57\n",
      "Finished another round of AL! To go: 15\n",
      "loocv: 185\n"
     ]
    },
    {
     "name": "stderr",
     "output_type": "stream",
     "text": [
      "\u001b[32mProgress: 100%|█████████████████████████████████████████| Time: 0:26:25\u001b[39m\n"
     ]
    },
    {
     "name": "stdout",
     "output_type": "stream",
     "text": [
      "queries: 94\n",
      "noauc: 57\n",
      "Finished another round of AL! To go: 14\n",
      "loocv: 186\n"
     ]
    },
    {
     "name": "stderr",
     "output_type": "stream",
     "text": [
      "\u001b[32mProgress: 100%|█████████████████████████████████████████| Time: 0:26:32\u001b[39m\n"
     ]
    },
    {
     "name": "stdout",
     "output_type": "stream",
     "text": [
      "queries: 94\n",
      "noauc: 57\n",
      "Finished another round of AL! To go: 13\n",
      "loocv: 187\n"
     ]
    },
    {
     "name": "stderr",
     "output_type": "stream",
     "text": [
      "\u001b[32mProgress: 100%|█████████████████████████████████████████| Time: 0:27:00\u001b[39m\n"
     ]
    },
    {
     "name": "stdout",
     "output_type": "stream",
     "text": [
      "queries: 94\n",
      "noauc: 57\n",
      "Finished another round of AL! To go: 12\n",
      "loocv: 188\n"
     ]
    },
    {
     "name": "stderr",
     "output_type": "stream",
     "text": [
      "\u001b[32mProgress: 100%|█████████████████████████████████████████| Time: 0:26:41\u001b[39m\n"
     ]
    },
    {
     "name": "stdout",
     "output_type": "stream",
     "text": [
      "queries: 94\n",
      "noauc: 57\n",
      "Finished another round of AL! To go: 11\n",
      "loocv: 189\n"
     ]
    },
    {
     "name": "stderr",
     "output_type": "stream",
     "text": [
      "\u001b[32mProgress: 100%|█████████████████████████████████████████| Time: 0:27:05\u001b[39m\n"
     ]
    },
    {
     "name": "stdout",
     "output_type": "stream",
     "text": [
      "queries: 94\n",
      "noauc: 57\n",
      "Finished another round of AL! To go: 10\n",
      "loocv: 190\n"
     ]
    },
    {
     "name": "stderr",
     "output_type": "stream",
     "text": [
      "\u001b[32mProgress: 100%|█████████████████████████████████████████| Time: 0:27:18\u001b[39m\n"
     ]
    },
    {
     "name": "stdout",
     "output_type": "stream",
     "text": [
      "queries: 94\n",
      "noauc: 57\n",
      "Finished another round of AL! To go: 9\n",
      "loocv: 191\n"
     ]
    },
    {
     "name": "stderr",
     "output_type": "stream",
     "text": [
      "\u001b[32mProgress: 100%|█████████████████████████████████████████| Time: 0:27:56\u001b[39m\n"
     ]
    },
    {
     "name": "stdout",
     "output_type": "stream",
     "text": [
      "queries: 94\n",
      "noauc: 57\n",
      "Finished another round of AL! To go: 8\n",
      "loocv: 192\n"
     ]
    },
    {
     "name": "stderr",
     "output_type": "stream",
     "text": [
      "\u001b[32mProgress: 100%|█████████████████████████████████████████| Time: 0:27:46\u001b[39m\n"
     ]
    },
    {
     "name": "stdout",
     "output_type": "stream",
     "text": [
      "queries: 94\n",
      "noauc: 57\n",
      "Finished another round of AL! To go: 7\n",
      "loocv: 193\n"
     ]
    },
    {
     "name": "stderr",
     "output_type": "stream",
     "text": [
      "\u001b[32mProgress: 100%|█████████████████████████████████████████| Time: 0:28:24\u001b[39m\n"
     ]
    },
    {
     "name": "stdout",
     "output_type": "stream",
     "text": [
      "queries: 94\n",
      "noauc: 57\n",
      "Finished another round of AL! To go: 6\n",
      "loocv: 194\n"
     ]
    },
    {
     "name": "stderr",
     "output_type": "stream",
     "text": [
      "\u001b[32mProgress: 100%|█████████████████████████████████████████| Time: 0:28:52\u001b[39m\n"
     ]
    },
    {
     "name": "stdout",
     "output_type": "stream",
     "text": [
      "queries: 94\n",
      "noauc: 57\n",
      "Finished another round of AL! To go: 5\n",
      "loocv: 195\n"
     ]
    },
    {
     "name": "stderr",
     "output_type": "stream",
     "text": [
      "\u001b[32mProgress: 100%|█████████████████████████████████████████| Time: 0:29:02\u001b[39m\n"
     ]
    },
    {
     "name": "stdout",
     "output_type": "stream",
     "text": [
      "queries: 94\n",
      "noauc: 57\n",
      "Finished another round of AL! To go: 4\n",
      "loocv: 196\n"
     ]
    },
    {
     "name": "stderr",
     "output_type": "stream",
     "text": [
      "\u001b[32mProgress: 100%|█████████████████████████████████████████| Time: 0:29:38\u001b[39m\n"
     ]
    },
    {
     "name": "stdout",
     "output_type": "stream",
     "text": [
      "queries: 94\n",
      "noauc: 57\n",
      "Finished another round of AL! To go: 3\n",
      "loocv: 197\n"
     ]
    },
    {
     "name": "stderr",
     "output_type": "stream",
     "text": [
      "\u001b[32mProgress: 100%|█████████████████████████████████████████| Time: 0:29:34\u001b[39m\n"
     ]
    },
    {
     "name": "stdout",
     "output_type": "stream",
     "text": [
      "queries: 94\n",
      "noauc: 57\n",
      "Finished another round of AL! To go: 2\n",
      "loocv: 198\n"
     ]
    },
    {
     "name": "stderr",
     "output_type": "stream",
     "text": [
      "\u001b[32mProgress: 100%|█████████████████████████████████████████| Time: 0:30:08\u001b[39m\n"
     ]
    },
    {
     "name": "stdout",
     "output_type": "stream",
     "text": [
      "queries: 94\n",
      "noauc: 57\n",
      "Finished another round of AL! To go: 1\n",
      "loocv: 199\n"
     ]
    },
    {
     "name": "stderr",
     "output_type": "stream",
     "text": [
      "\u001b[32mProgress: 100%|█████████████████████████████████████████| Time: 0:30:38\u001b[39m\n"
     ]
    },
    {
     "name": "stdout",
     "output_type": "stream",
     "text": [
      "queries: 94\n",
      "noauc: 57\n",
      "Finished another round of AL! To go: 0\n"
     ]
    }
   ],
   "source": [
    "# initialize stuff\n",
    "rf = RandomForestClassifier(n_estimators=1000, max_depth=5, class_weight=\"balanced\", n_jobs=6)\n",
    "recall_al = []\n",
    "hitratio_al = []\n",
    "groups_withold = deepcopy(initial_groups_withold)\n",
    "\n",
    "# simulate active learning\n",
    "while length(groups_withold) > 0\n",
    "    # 2. do LOOCV\n",
    "    ranked_q = []\n",
    "    noauc = 0\n",
    "    p = Progress(length(groups_loocv))\n",
    "    println(\"loocv: \", length(groups_loocv))\n",
    "    for item in groups_loocv\n",
    "        selection = [i for (i, loci) in enumerate(groups_loci) if (loci in groups_loocv && loci != item)]\n",
    "        x_train = features_b[selection, :]\n",
    "        y_train = labels[selection]\n",
    "        x_test = features_b[groups_loci .== item, :]\n",
    "        y_test = labels[groups_loci .== item]\n",
    "        \n",
    "        model = ScikitLearn.fit!(rf, x_train, y_train)\n",
    "        scores_pos = ScikitLearn.predict_proba(model, x_test)[:,2]\n",
    "        if item ∉ initial_groups_withold # compute performance only for initial set!\n",
    "            try\n",
    "                roc_auc = roc_auc_score(y_test, scores_pos)\n",
    "                sorted_query = y_test[sortperm(scores_pos, rev=true)] # sort labels to compute MRR later\n",
    "                push!(ranked_q, sorted_query)\n",
    "            catch\n",
    "                noauc += 1\n",
    "            end\n",
    "        end\n",
    "        next!(p)\n",
    "    end\n",
    "    \n",
    "    # 3. compute and save performance\n",
    "    println(\"queries: \", length(ranked_q))\n",
    "    println(\"noauc: \", noauc)\n",
    "    push!(recall_al, recallatk(ranked_q, 10))\n",
    "    push!(hitratio_al, hitratio(ranked_q, 10))\n",
    "    \n",
    "    # 4. select new bacteria to add\n",
    "    new_locus = StatsBase.sample(groups_withold)\n",
    "    push!(groups_loocv, new_locus)\n",
    "    deleteat!(groups_withold, findall(x->x==new_locus, groups_withold))\n",
    "    \n",
    "    println(\"Finished another round of AL! To go: \", length(groups_withold))\n",
    "end "
   ]
  },
  {
   "cell_type": "code",
   "execution_count": 189,
   "id": "1575fc2a",
   "metadata": {},
   "outputs": [
    {
     "data": {
      "image/svg+xml": [
       "<?xml version=\"1.0\" encoding=\"utf-8\"?>\n",
       "<svg xmlns=\"http://www.w3.org/2000/svg\" xmlns:xlink=\"http://www.w3.org/1999/xlink\" width=\"600\" height=\"400\" viewBox=\"0 0 2400 1600\">\n",
       "<defs>\n",
       "  <clipPath id=\"clip260\">\n",
       "    <rect x=\"0\" y=\"0\" width=\"2400\" height=\"1600\"/>\n",
       "  </clipPath>\n",
       "</defs>\n",
       "<path clip-path=\"url(#clip260)\" d=\"\n",
       "M0 1600 L2400 1600 L2400 0 L0 0  Z\n",
       "  \" fill=\"#ffffff\" fill-rule=\"evenodd\" fill-opacity=\"1\"/>\n",
       "<defs>\n",
       "  <clipPath id=\"clip261\">\n",
       "    <rect x=\"480\" y=\"0\" width=\"1681\" height=\"1600\"/>\n",
       "  </clipPath>\n",
       "</defs>\n",
       "<path clip-path=\"url(#clip260)\" d=\"\n",
       "M156.598 1486.45 L2352.76 1486.45 L2352.76 47.2441 L156.598 47.2441  Z\n",
       "  \" fill=\"#ffffff\" fill-rule=\"evenodd\" fill-opacity=\"1\"/>\n",
       "<defs>\n",
       "  <clipPath id=\"clip262\">\n",
       "    <rect x=\"156\" y=\"47\" width=\"2197\" height=\"1440\"/>\n",
       "  </clipPath>\n",
       "</defs>\n",
       "<polyline clip-path=\"url(#clip262)\" style=\"stroke:#000000; stroke-linecap:round; stroke-linejoin:round; stroke-width:2; stroke-opacity:0.1; fill:none\" points=\"\n",
       "  175.59,1486.45 175.59,47.2441 \n",
       "  \"/>\n",
       "<polyline clip-path=\"url(#clip262)\" style=\"stroke:#000000; stroke-linecap:round; stroke-linejoin:round; stroke-width:2; stroke-opacity:0.1; fill:none\" points=\"\n",
       "  607.225,1486.45 607.225,47.2441 \n",
       "  \"/>\n",
       "<polyline clip-path=\"url(#clip262)\" style=\"stroke:#000000; stroke-linecap:round; stroke-linejoin:round; stroke-width:2; stroke-opacity:0.1; fill:none\" points=\"\n",
       "  1038.86,1486.45 1038.86,47.2441 \n",
       "  \"/>\n",
       "<polyline clip-path=\"url(#clip262)\" style=\"stroke:#000000; stroke-linecap:round; stroke-linejoin:round; stroke-width:2; stroke-opacity:0.1; fill:none\" points=\"\n",
       "  1470.49,1486.45 1470.49,47.2441 \n",
       "  \"/>\n",
       "<polyline clip-path=\"url(#clip262)\" style=\"stroke:#000000; stroke-linecap:round; stroke-linejoin:round; stroke-width:2; stroke-opacity:0.1; fill:none\" points=\"\n",
       "  1902.13,1486.45 1902.13,47.2441 \n",
       "  \"/>\n",
       "<polyline clip-path=\"url(#clip262)\" style=\"stroke:#000000; stroke-linecap:round; stroke-linejoin:round; stroke-width:2; stroke-opacity:0.1; fill:none\" points=\"\n",
       "  2333.76,1486.45 2333.76,47.2441 \n",
       "  \"/>\n",
       "<polyline clip-path=\"url(#clip260)\" style=\"stroke:#000000; stroke-linecap:round; stroke-linejoin:round; stroke-width:4; stroke-opacity:1; fill:none\" points=\"\n",
       "  156.598,1486.45 2352.76,1486.45 \n",
       "  \"/>\n",
       "<polyline clip-path=\"url(#clip260)\" style=\"stroke:#000000; stroke-linecap:round; stroke-linejoin:round; stroke-width:4; stroke-opacity:1; fill:none\" points=\"\n",
       "  175.59,1486.45 175.59,1467.55 \n",
       "  \"/>\n",
       "<polyline clip-path=\"url(#clip260)\" style=\"stroke:#000000; stroke-linecap:round; stroke-linejoin:round; stroke-width:4; stroke-opacity:1; fill:none\" points=\"\n",
       "  607.225,1486.45 607.225,1467.55 \n",
       "  \"/>\n",
       "<polyline clip-path=\"url(#clip260)\" style=\"stroke:#000000; stroke-linecap:round; stroke-linejoin:round; stroke-width:4; stroke-opacity:1; fill:none\" points=\"\n",
       "  1038.86,1486.45 1038.86,1467.55 \n",
       "  \"/>\n",
       "<polyline clip-path=\"url(#clip260)\" style=\"stroke:#000000; stroke-linecap:round; stroke-linejoin:round; stroke-width:4; stroke-opacity:1; fill:none\" points=\"\n",
       "  1470.49,1486.45 1470.49,1467.55 \n",
       "  \"/>\n",
       "<polyline clip-path=\"url(#clip260)\" style=\"stroke:#000000; stroke-linecap:round; stroke-linejoin:round; stroke-width:4; stroke-opacity:1; fill:none\" points=\"\n",
       "  1902.13,1486.45 1902.13,1467.55 \n",
       "  \"/>\n",
       "<polyline clip-path=\"url(#clip260)\" style=\"stroke:#000000; stroke-linecap:round; stroke-linejoin:round; stroke-width:4; stroke-opacity:1; fill:none\" points=\"\n",
       "  2333.76,1486.45 2333.76,1467.55 \n",
       "  \"/>\n",
       "<path clip-path=\"url(#clip260)\" d=\"M175.59 1517.37 Q171.979 1517.37 170.15 1520.93 Q168.345 1524.47 168.345 1531.6 Q168.345 1538.71 170.15 1542.27 Q171.979 1545.82 175.59 1545.82 Q179.224 1545.82 181.03 1542.27 Q182.859 1538.71 182.859 1531.6 Q182.859 1524.47 181.03 1520.93 Q179.224 1517.37 175.59 1517.37 M175.59 1513.66 Q181.4 1513.66 184.456 1518.27 Q187.535 1522.85 187.535 1531.6 Q187.535 1540.33 184.456 1544.94 Q181.4 1549.52 175.59 1549.52 Q169.78 1549.52 166.701 1544.94 Q163.646 1540.33 163.646 1531.6 Q163.646 1522.85 166.701 1518.27 Q169.78 1513.66 175.59 1513.66 Z\" fill=\"#000000\" fill-rule=\"evenodd\" fill-opacity=\"1\" /><path clip-path=\"url(#clip260)\" d=\"M581.913 1544.91 L589.551 1544.91 L589.551 1518.55 L581.241 1520.21 L581.241 1515.95 L589.505 1514.29 L594.181 1514.29 L594.181 1544.91 L601.82 1544.91 L601.82 1548.85 L581.913 1548.85 L581.913 1544.91 Z\" fill=\"#000000\" fill-rule=\"evenodd\" fill-opacity=\"1\" /><path clip-path=\"url(#clip260)\" d=\"M621.264 1517.37 Q617.653 1517.37 615.824 1520.93 Q614.019 1524.47 614.019 1531.6 Q614.019 1538.71 615.824 1542.27 Q617.653 1545.82 621.264 1545.82 Q624.898 1545.82 626.704 1542.27 Q628.533 1538.71 628.533 1531.6 Q628.533 1524.47 626.704 1520.93 Q624.898 1517.37 621.264 1517.37 M621.264 1513.66 Q627.074 1513.66 630.13 1518.27 Q633.209 1522.85 633.209 1531.6 Q633.209 1540.33 630.13 1544.94 Q627.074 1549.52 621.264 1549.52 Q615.454 1549.52 612.375 1544.94 Q609.32 1540.33 609.32 1531.6 Q609.32 1522.85 612.375 1518.27 Q615.454 1513.66 621.264 1513.66 Z\" fill=\"#000000\" fill-rule=\"evenodd\" fill-opacity=\"1\" /><path clip-path=\"url(#clip260)\" d=\"M1017.63 1544.91 L1033.95 1544.91 L1033.95 1548.85 L1012.01 1548.85 L1012.01 1544.91 Q1014.67 1542.16 1019.25 1537.53 Q1023.86 1532.88 1025.04 1531.53 Q1027.29 1529.01 1028.17 1527.27 Q1029.07 1525.51 1029.07 1523.82 Q1029.07 1521.07 1027.12 1519.33 Q1025.2 1517.6 1022.1 1517.6 Q1019.9 1517.6 1017.45 1518.36 Q1015.02 1519.13 1012.24 1520.68 L1012.24 1515.95 Q1015.06 1514.82 1017.52 1514.24 Q1019.97 1513.66 1022.01 1513.66 Q1027.38 1513.66 1030.57 1516.35 Q1033.77 1519.03 1033.77 1523.52 Q1033.77 1525.65 1032.96 1527.57 Q1032.17 1529.47 1030.06 1532.07 Q1029.48 1532.74 1026.38 1535.95 Q1023.28 1539.15 1017.63 1544.91 Z\" fill=\"#000000\" fill-rule=\"evenodd\" fill-opacity=\"1\" /><path clip-path=\"url(#clip260)\" d=\"M1053.77 1517.37 Q1050.16 1517.37 1048.33 1520.93 Q1046.52 1524.47 1046.52 1531.6 Q1046.52 1538.71 1048.33 1542.27 Q1050.16 1545.82 1053.77 1545.82 Q1057.4 1545.82 1059.21 1542.27 Q1061.04 1538.71 1061.04 1531.6 Q1061.04 1524.47 1059.21 1520.93 Q1057.4 1517.37 1053.77 1517.37 M1053.77 1513.66 Q1059.58 1513.66 1062.63 1518.27 Q1065.71 1522.85 1065.71 1531.6 Q1065.71 1540.33 1062.63 1544.94 Q1059.58 1549.52 1053.77 1549.52 Q1047.96 1549.52 1044.88 1544.94 Q1041.82 1540.33 1041.82 1531.6 Q1041.82 1522.85 1044.88 1518.27 Q1047.96 1513.66 1053.77 1513.66 Z\" fill=\"#000000\" fill-rule=\"evenodd\" fill-opacity=\"1\" /><path clip-path=\"url(#clip260)\" d=\"M1459.34 1530.21 Q1462.69 1530.93 1464.57 1533.2 Q1466.47 1535.47 1466.47 1538.8 Q1466.47 1543.92 1462.95 1546.72 Q1459.43 1549.52 1452.95 1549.52 Q1450.77 1549.52 1448.46 1549.08 Q1446.17 1548.66 1443.71 1547.81 L1443.71 1543.29 Q1445.66 1544.43 1447.97 1545.01 Q1450.29 1545.58 1452.81 1545.58 Q1457.21 1545.58 1459.5 1543.85 Q1461.81 1542.11 1461.81 1538.8 Q1461.81 1535.75 1459.66 1534.03 Q1457.53 1532.3 1453.71 1532.3 L1449.68 1532.3 L1449.68 1528.45 L1453.9 1528.45 Q1457.35 1528.45 1459.18 1527.09 Q1461 1525.7 1461 1523.11 Q1461 1520.45 1459.11 1519.03 Q1457.23 1517.6 1453.71 1517.6 Q1451.79 1517.6 1449.59 1518.01 Q1447.39 1518.43 1444.75 1519.31 L1444.75 1515.14 Q1447.42 1514.4 1449.73 1514.03 Q1452.07 1513.66 1454.13 1513.66 Q1459.45 1513.66 1462.55 1516.09 Q1465.66 1518.5 1465.66 1522.62 Q1465.66 1525.49 1464.01 1527.48 Q1462.37 1529.45 1459.34 1530.21 Z\" fill=\"#000000\" fill-rule=\"evenodd\" fill-opacity=\"1\" /><path clip-path=\"url(#clip260)\" d=\"M1485.33 1517.37 Q1481.72 1517.37 1479.89 1520.93 Q1478.09 1524.47 1478.09 1531.6 Q1478.09 1538.71 1479.89 1542.27 Q1481.72 1545.82 1485.33 1545.82 Q1488.97 1545.82 1490.77 1542.27 Q1492.6 1538.71 1492.6 1531.6 Q1492.6 1524.47 1490.77 1520.93 Q1488.97 1517.37 1485.33 1517.37 M1485.33 1513.66 Q1491.14 1513.66 1494.2 1518.27 Q1497.28 1522.85 1497.28 1531.6 Q1497.28 1540.33 1494.2 1544.94 Q1491.14 1549.52 1485.33 1549.52 Q1479.52 1549.52 1476.44 1544.94 Q1473.39 1540.33 1473.39 1531.6 Q1473.39 1522.85 1476.44 1518.27 Q1479.52 1513.66 1485.33 1513.66 Z\" fill=\"#000000\" fill-rule=\"evenodd\" fill-opacity=\"1\" /><path clip-path=\"url(#clip260)\" d=\"M1890.3 1518.36 L1878.5 1536.81 L1890.3 1536.81 L1890.3 1518.36 M1889.07 1514.29 L1894.95 1514.29 L1894.95 1536.81 L1899.88 1536.81 L1899.88 1540.7 L1894.95 1540.7 L1894.95 1548.85 L1890.3 1548.85 L1890.3 1540.7 L1874.7 1540.7 L1874.7 1536.19 L1889.07 1514.29 Z\" fill=\"#000000\" fill-rule=\"evenodd\" fill-opacity=\"1\" /><path clip-path=\"url(#clip260)\" d=\"M1917.62 1517.37 Q1914 1517.37 1912.18 1520.93 Q1910.37 1524.47 1910.37 1531.6 Q1910.37 1538.71 1912.18 1542.27 Q1914 1545.82 1917.62 1545.82 Q1921.25 1545.82 1923.06 1542.27 Q1924.88 1538.71 1924.88 1531.6 Q1924.88 1524.47 1923.06 1520.93 Q1921.25 1517.37 1917.62 1517.37 M1917.62 1513.66 Q1923.43 1513.66 1926.48 1518.27 Q1929.56 1522.85 1929.56 1531.6 Q1929.56 1540.33 1926.48 1544.94 Q1923.43 1549.52 1917.62 1549.52 Q1911.81 1549.52 1908.73 1544.94 Q1905.67 1540.33 1905.67 1531.6 Q1905.67 1522.85 1908.73 1518.27 Q1911.81 1513.66 1917.62 1513.66 Z\" fill=\"#000000\" fill-rule=\"evenodd\" fill-opacity=\"1\" /><path clip-path=\"url(#clip260)\" d=\"M2308.46 1514.29 L2326.82 1514.29 L2326.82 1518.22 L2312.75 1518.22 L2312.75 1526.7 Q2313.76 1526.35 2314.78 1526.19 Q2315.8 1526 2316.82 1526 Q2322.61 1526 2325.99 1529.17 Q2329.37 1532.34 2329.37 1537.76 Q2329.37 1543.34 2325.89 1546.44 Q2322.42 1549.52 2316.1 1549.52 Q2313.93 1549.52 2311.66 1549.15 Q2309.41 1548.78 2307 1548.04 L2307 1543.34 Q2309.09 1544.47 2311.31 1545.03 Q2313.53 1545.58 2316.01 1545.58 Q2320.01 1545.58 2322.35 1543.48 Q2324.69 1541.37 2324.69 1537.76 Q2324.69 1534.15 2322.35 1532.04 Q2320.01 1529.94 2316.01 1529.94 Q2314.13 1529.94 2312.26 1530.35 Q2310.41 1530.77 2308.46 1531.65 L2308.46 1514.29 Z\" fill=\"#000000\" fill-rule=\"evenodd\" fill-opacity=\"1\" /><path clip-path=\"url(#clip260)\" d=\"M2348.58 1517.37 Q2344.97 1517.37 2343.14 1520.93 Q2341.33 1524.47 2341.33 1531.6 Q2341.33 1538.71 2343.14 1542.27 Q2344.97 1545.82 2348.58 1545.82 Q2352.21 1545.82 2354.02 1542.27 Q2355.85 1538.71 2355.85 1531.6 Q2355.85 1524.47 2354.02 1520.93 Q2352.21 1517.37 2348.58 1517.37 M2348.58 1513.66 Q2354.39 1513.66 2357.44 1518.27 Q2360.52 1522.85 2360.52 1531.6 Q2360.52 1540.33 2357.44 1544.94 Q2354.39 1549.52 2348.58 1549.52 Q2342.77 1549.52 2339.69 1544.94 Q2336.63 1540.33 2336.63 1531.6 Q2336.63 1522.85 2339.69 1518.27 Q2342.77 1513.66 2348.58 1513.66 Z\" fill=\"#000000\" fill-rule=\"evenodd\" fill-opacity=\"1\" /><polyline clip-path=\"url(#clip262)\" style=\"stroke:#000000; stroke-linecap:round; stroke-linejoin:round; stroke-width:2; stroke-opacity:0.1; fill:none\" points=\"\n",
       "  156.598,1326.54 2352.76,1326.54 \n",
       "  \"/>\n",
       "<polyline clip-path=\"url(#clip262)\" style=\"stroke:#000000; stroke-linecap:round; stroke-linejoin:round; stroke-width:2; stroke-opacity:0.1; fill:none\" points=\"\n",
       "  156.598,1006.71 2352.76,1006.71 \n",
       "  \"/>\n",
       "<polyline clip-path=\"url(#clip262)\" style=\"stroke:#000000; stroke-linecap:round; stroke-linejoin:round; stroke-width:2; stroke-opacity:0.1; fill:none\" points=\"\n",
       "  156.598,686.89 2352.76,686.89 \n",
       "  \"/>\n",
       "<polyline clip-path=\"url(#clip262)\" style=\"stroke:#000000; stroke-linecap:round; stroke-linejoin:round; stroke-width:2; stroke-opacity:0.1; fill:none\" points=\"\n",
       "  156.598,367.067 2352.76,367.067 \n",
       "  \"/>\n",
       "<polyline clip-path=\"url(#clip262)\" style=\"stroke:#000000; stroke-linecap:round; stroke-linejoin:round; stroke-width:2; stroke-opacity:0.1; fill:none\" points=\"\n",
       "  156.598,47.2441 2352.76,47.2441 \n",
       "  \"/>\n",
       "<polyline clip-path=\"url(#clip260)\" style=\"stroke:#000000; stroke-linecap:round; stroke-linejoin:round; stroke-width:4; stroke-opacity:1; fill:none\" points=\"\n",
       "  156.598,1486.45 156.598,47.2441 \n",
       "  \"/>\n",
       "<polyline clip-path=\"url(#clip260)\" style=\"stroke:#000000; stroke-linecap:round; stroke-linejoin:round; stroke-width:4; stroke-opacity:1; fill:none\" points=\"\n",
       "  156.598,1326.54 175.496,1326.54 \n",
       "  \"/>\n",
       "<polyline clip-path=\"url(#clip260)\" style=\"stroke:#000000; stroke-linecap:round; stroke-linejoin:round; stroke-width:4; stroke-opacity:1; fill:none\" points=\"\n",
       "  156.598,1006.71 175.496,1006.71 \n",
       "  \"/>\n",
       "<polyline clip-path=\"url(#clip260)\" style=\"stroke:#000000; stroke-linecap:round; stroke-linejoin:round; stroke-width:4; stroke-opacity:1; fill:none\" points=\"\n",
       "  156.598,686.89 175.496,686.89 \n",
       "  \"/>\n",
       "<polyline clip-path=\"url(#clip260)\" style=\"stroke:#000000; stroke-linecap:round; stroke-linejoin:round; stroke-width:4; stroke-opacity:1; fill:none\" points=\"\n",
       "  156.598,367.067 175.496,367.067 \n",
       "  \"/>\n",
       "<polyline clip-path=\"url(#clip260)\" style=\"stroke:#000000; stroke-linecap:round; stroke-linejoin:round; stroke-width:4; stroke-opacity:1; fill:none\" points=\"\n",
       "  156.598,47.2441 175.496,47.2441 \n",
       "  \"/>\n",
       "<path clip-path=\"url(#clip260)\" d=\"M65.0198 1312.34 Q61.4087 1312.34 59.58 1315.9 Q57.7745 1319.44 57.7745 1326.57 Q57.7745 1333.68 59.58 1337.24 Q61.4087 1340.78 65.0198 1340.78 Q68.6541 1340.78 70.4596 1337.24 Q72.2883 1333.68 72.2883 1326.57 Q72.2883 1319.44 70.4596 1315.9 Q68.6541 1312.34 65.0198 1312.34 M65.0198 1308.63 Q70.83 1308.63 73.8855 1313.24 Q76.9642 1317.82 76.9642 1326.57 Q76.9642 1335.3 73.8855 1339.9 Q70.83 1344.49 65.0198 1344.49 Q59.2097 1344.49 56.131 1339.9 Q53.0754 1335.3 53.0754 1326.57 Q53.0754 1317.82 56.131 1313.24 Q59.2097 1308.63 65.0198 1308.63 Z\" fill=\"#000000\" fill-rule=\"evenodd\" fill-opacity=\"1\" /><path clip-path=\"url(#clip260)\" d=\"M85.1818 1337.94 L90.066 1337.94 L90.066 1343.82 L85.1818 1343.82 L85.1818 1337.94 Z\" fill=\"#000000\" fill-rule=\"evenodd\" fill-opacity=\"1\" /><path clip-path=\"url(#clip260)\" d=\"M104.279 1339.88 L120.598 1339.88 L120.598 1343.82 L98.6539 1343.82 L98.6539 1339.88 Q101.316 1337.13 105.899 1332.5 Q110.506 1327.84 111.686 1326.5 Q113.932 1323.98 114.811 1322.24 Q115.714 1320.48 115.714 1318.79 Q115.714 1316.04 113.77 1314.3 Q111.848 1312.57 108.746 1312.57 Q106.547 1312.57 104.094 1313.33 Q101.663 1314.09 98.8854 1315.65 L98.8854 1310.92 Q101.709 1309.79 104.163 1309.21 Q106.617 1308.63 108.654 1308.63 Q114.024 1308.63 117.219 1311.32 Q120.413 1314 120.413 1318.49 Q120.413 1320.62 119.603 1322.54 Q118.816 1324.44 116.709 1327.03 Q116.131 1327.71 113.029 1330.92 Q109.927 1334.12 104.279 1339.88 Z\" fill=\"#000000\" fill-rule=\"evenodd\" fill-opacity=\"1\" /><path clip-path=\"url(#clip260)\" d=\"M62.9365 992.512 Q59.3254 992.512 57.4967 996.077 Q55.6912 999.618 55.6912 1006.75 Q55.6912 1013.85 57.4967 1017.42 Q59.3254 1020.96 62.9365 1020.96 Q66.5707 1020.96 68.3763 1017.42 Q70.205 1013.85 70.205 1006.75 Q70.205 999.618 68.3763 996.077 Q66.5707 992.512 62.9365 992.512 M62.9365 988.808 Q68.7467 988.808 71.8022 993.415 Q74.8809 997.998 74.8809 1006.75 Q74.8809 1015.47 71.8022 1020.08 Q68.7467 1024.66 62.9365 1024.66 Q57.1264 1024.66 54.0477 1020.08 Q50.9921 1015.47 50.9921 1006.75 Q50.9921 997.998 54.0477 993.415 Q57.1264 988.808 62.9365 988.808 Z\" fill=\"#000000\" fill-rule=\"evenodd\" fill-opacity=\"1\" /><path clip-path=\"url(#clip260)\" d=\"M83.0984 1018.11 L87.9827 1018.11 L87.9827 1023.99 L83.0984 1023.99 L83.0984 1018.11 Z\" fill=\"#000000\" fill-rule=\"evenodd\" fill-opacity=\"1\" /><path clip-path=\"url(#clip260)\" d=\"M111.015 993.507 L99.2095 1011.96 L111.015 1011.96 L111.015 993.507 M109.788 989.433 L115.668 989.433 L115.668 1011.96 L120.598 1011.96 L120.598 1015.85 L115.668 1015.85 L115.668 1023.99 L111.015 1023.99 L111.015 1015.85 L95.4132 1015.85 L95.4132 1011.33 L109.788 989.433 Z\" fill=\"#000000\" fill-rule=\"evenodd\" fill-opacity=\"1\" /><path clip-path=\"url(#clip260)\" d=\"M63.2606 672.689 Q59.6495 672.689 57.8208 676.254 Q56.0152 679.795 56.0152 686.925 Q56.0152 694.031 57.8208 697.596 Q59.6495 701.138 63.2606 701.138 Q66.8948 701.138 68.7004 697.596 Q70.5291 694.031 70.5291 686.925 Q70.5291 679.795 68.7004 676.254 Q66.8948 672.689 63.2606 672.689 M63.2606 668.985 Q69.0707 668.985 72.1263 673.592 Q75.205 678.175 75.205 686.925 Q75.205 695.652 72.1263 700.258 Q69.0707 704.842 63.2606 704.842 Q57.4504 704.842 54.3717 700.258 Q51.3162 695.652 51.3162 686.925 Q51.3162 678.175 54.3717 673.592 Q57.4504 668.985 63.2606 668.985 Z\" fill=\"#000000\" fill-rule=\"evenodd\" fill-opacity=\"1\" /><path clip-path=\"url(#clip260)\" d=\"M83.4225 698.291 L88.3067 698.291 L88.3067 704.17 L83.4225 704.17 L83.4225 698.291 Z\" fill=\"#000000\" fill-rule=\"evenodd\" fill-opacity=\"1\" /><path clip-path=\"url(#clip260)\" d=\"M109.071 685.027 Q105.922 685.027 104.071 687.18 Q102.242 689.332 102.242 693.082 Q102.242 696.809 104.071 698.985 Q105.922 701.138 109.071 701.138 Q112.219 701.138 114.047 698.985 Q115.899 696.809 115.899 693.082 Q115.899 689.332 114.047 687.18 Q112.219 685.027 109.071 685.027 M118.353 670.374 L118.353 674.633 Q116.594 673.8 114.788 673.36 Q113.006 672.92 111.246 672.92 Q106.617 672.92 104.163 676.045 Q101.733 679.17 101.385 685.49 Q102.751 683.476 104.811 682.411 Q106.871 681.323 109.348 681.323 Q114.557 681.323 117.566 684.494 Q120.598 687.643 120.598 693.082 Q120.598 698.406 117.45 701.624 Q114.302 704.842 109.071 704.842 Q103.075 704.842 99.9039 700.258 Q96.7326 695.652 96.7326 686.925 Q96.7326 678.731 100.621 673.869 Q104.51 668.985 111.061 668.985 Q112.82 668.985 114.603 669.332 Q116.408 669.68 118.353 670.374 Z\" fill=\"#000000\" fill-rule=\"evenodd\" fill-opacity=\"1\" /><path clip-path=\"url(#clip260)\" d=\"M63.5152 352.866 Q59.9041 352.866 58.0754 356.431 Q56.2699 359.972 56.2699 367.102 Q56.2699 374.208 58.0754 377.773 Q59.9041 381.315 63.5152 381.315 Q67.1494 381.315 68.955 377.773 Q70.7837 374.208 70.7837 367.102 Q70.7837 359.972 68.955 356.431 Q67.1494 352.866 63.5152 352.866 M63.5152 349.162 Q69.3254 349.162 72.3809 353.769 Q75.4596 358.352 75.4596 367.102 Q75.4596 375.829 72.3809 380.435 Q69.3254 385.018 63.5152 385.018 Q57.7051 385.018 54.6264 380.435 Q51.5708 375.829 51.5708 367.102 Q51.5708 358.352 54.6264 353.769 Q57.7051 349.162 63.5152 349.162 Z\" fill=\"#000000\" fill-rule=\"evenodd\" fill-opacity=\"1\" /><path clip-path=\"url(#clip260)\" d=\"M83.6771 378.468 L88.5614 378.468 L88.5614 384.347 L83.6771 384.347 L83.6771 378.468 Z\" fill=\"#000000\" fill-rule=\"evenodd\" fill-opacity=\"1\" /><path clip-path=\"url(#clip260)\" d=\"M108.746 367.935 Q105.413 367.935 103.492 369.718 Q101.594 371.5 101.594 374.625 Q101.594 377.75 103.492 379.532 Q105.413 381.315 108.746 381.315 Q112.08 381.315 114.001 379.532 Q115.922 377.727 115.922 374.625 Q115.922 371.5 114.001 369.718 Q112.103 367.935 108.746 367.935 M104.071 365.944 Q101.061 365.204 99.3715 363.144 Q97.7048 361.083 97.7048 358.12 Q97.7048 353.977 100.645 351.57 Q103.608 349.162 108.746 349.162 Q113.908 349.162 116.848 351.57 Q119.788 353.977 119.788 358.12 Q119.788 361.083 118.098 363.144 Q116.432 365.204 113.445 365.944 Q116.825 366.732 118.7 369.023 Q120.598 371.315 120.598 374.625 Q120.598 379.648 117.52 382.333 Q114.464 385.018 108.746 385.018 Q103.029 385.018 99.9502 382.333 Q96.8947 379.648 96.8947 374.625 Q96.8947 371.315 98.7928 369.023 Q100.691 366.732 104.071 365.944 M102.358 358.56 Q102.358 361.245 104.024 362.75 Q105.714 364.255 108.746 364.255 Q111.756 364.255 113.445 362.75 Q115.158 361.245 115.158 358.56 Q115.158 355.875 113.445 354.37 Q111.756 352.866 108.746 352.866 Q105.714 352.866 104.024 354.37 Q102.358 355.875 102.358 358.56 Z\" fill=\"#000000\" fill-rule=\"evenodd\" fill-opacity=\"1\" /><path clip-path=\"url(#clip260)\" d=\"M54.2328 60.5889 L61.8717 60.5889 L61.8717 34.2233 L53.5616 35.89 L53.5616 31.6308 L61.8254 29.9641 L66.5013 29.9641 L66.5013 60.5889 L74.1402 60.5889 L74.1402 64.5241 L54.2328 64.5241 L54.2328 60.5889 Z\" fill=\"#000000\" fill-rule=\"evenodd\" fill-opacity=\"1\" /><path clip-path=\"url(#clip260)\" d=\"M83.5845 58.6445 L88.4688 58.6445 L88.4688 64.5241 L83.5845 64.5241 L83.5845 58.6445 Z\" fill=\"#000000\" fill-rule=\"evenodd\" fill-opacity=\"1\" /><path clip-path=\"url(#clip260)\" d=\"M108.654 33.0428 Q105.043 33.0428 103.214 36.6076 Q101.409 40.1492 101.409 47.2788 Q101.409 54.3853 103.214 57.9501 Q105.043 61.4917 108.654 61.4917 Q112.288 61.4917 114.094 57.9501 Q115.922 54.3853 115.922 47.2788 Q115.922 40.1492 114.094 36.6076 Q112.288 33.0428 108.654 33.0428 M108.654 29.3391 Q114.464 29.3391 117.52 33.9456 Q120.598 38.5289 120.598 47.2788 Q120.598 56.0056 117.52 60.6121 Q114.464 65.1954 108.654 65.1954 Q102.844 65.1954 99.765 60.6121 Q96.7095 56.0056 96.7095 47.2788 Q96.7095 38.5289 99.765 33.9456 Q102.844 29.3391 108.654 29.3391 Z\" fill=\"#000000\" fill-rule=\"evenodd\" fill-opacity=\"1\" /><polyline clip-path=\"url(#clip262)\" style=\"stroke:#508aa8; stroke-linecap:round; stroke-linejoin:round; stroke-width:10; stroke-opacity:1; fill:none\" points=\"\n",
       "  218.754,478.157 261.917,458.31 305.081,460.2 348.244,455.947 391.408,458.31 434.571,463.981 477.734,467.761 520.898,477.212 564.061,454.53 607.225,488.553 \n",
       "  650.388,457.365 693.552,480.048 736.715,496.114 779.879,471.542 823.042,448.859 866.206,472.487 909.369,457.365 952.533,471.542 995.696,465.871 1038.86,461.145 \n",
       "  1082.02,455.475 1125.19,449.332 1168.35,465.871 1211.51,463.036 1254.68,475.322 1297.84,446.024 1341,453.112 1384.17,444.606 1427.33,453.112 1470.49,470.124 \n",
       "  1513.66,455.947 1556.82,450.277 1599.98,447.441 1643.15,457.838 1686.31,438.936 1729.48,450.682 1772.64,447.441 1815.8,427.594 1858.97,450.277 1902.13,471.542 \n",
       "  1945.29,444.201 1988.46,443.189 2031.62,447.441 2074.78,467.289 2117.95,444.606 2161.11,451.694 2204.27,450.277 2247.44,460.673 2290.6,433.265 \n",
       "  \"/>\n",
       "<polyline clip-path=\"url(#clip262)\" style=\"stroke:#ba2d0b; stroke-linecap:round; stroke-linejoin:round; stroke-width:10; stroke-opacity:1; fill:none\" points=\"\n",
       "  218.754,302.422 261.917,302.422 305.081,302.422 348.244,302.422 391.408,319.434 434.571,319.434 477.734,319.434 520.898,336.446 564.061,302.422 607.225,336.446 \n",
       "  650.388,319.434 693.552,336.446 736.715,353.458 779.879,336.446 823.042,319.434 866.206,336.446 909.369,302.422 952.533,319.434 995.696,319.434 1038.86,302.422 \n",
       "  1082.02,319.434 1125.19,302.422 1168.35,319.434 1211.51,336.446 1254.68,336.446 1297.84,319.434 1341,302.422 1384.17,302.422 1427.33,302.422 1470.49,319.434 \n",
       "  1513.66,302.422 1556.82,319.434 1599.98,302.422 1643.15,302.422 1686.31,302.422 1729.48,302.422 1772.64,302.422 1815.8,302.422 1858.97,302.422 1902.13,319.434 \n",
       "  1945.29,302.422 1988.46,302.422 2031.62,302.422 2074.78,319.434 2117.95,302.422 2161.11,302.422 2204.27,302.422 2247.44,302.422 2290.6,302.422 \n",
       "  \"/>\n",
       "<path clip-path=\"url(#clip260)\" d=\"\n",
       "M229.803 250.738 L658.357 250.738 L658.357 95.2176 L229.803 95.2176  Z\n",
       "  \" fill=\"#ffffff\" fill-rule=\"evenodd\" fill-opacity=\"1\"/>\n",
       "<polyline clip-path=\"url(#clip260)\" style=\"stroke:#000000; stroke-linecap:round; stroke-linejoin:round; stroke-width:4; stroke-opacity:1; fill:none\" points=\"\n",
       "  229.803,250.738 658.357,250.738 658.357,95.2176 229.803,95.2176 229.803,250.738 \n",
       "  \"/>\n",
       "<polyline clip-path=\"url(#clip260)\" style=\"stroke:#508aa8; stroke-linecap:round; stroke-linejoin:round; stroke-width:4; stroke-opacity:1; fill:none\" points=\"\n",
       "  254.205,147.058 400.616,147.058 \n",
       "  \"/>\n",
       "<path clip-path=\"url(#clip260)\" d=\"M441.406 148.134 Q442.911 148.643 444.323 150.31 Q445.758 151.977 447.193 154.893 L451.939 164.338 L446.916 164.338 L442.494 155.472 Q440.781 152 439.161 150.865 Q437.564 149.731 434.786 149.731 L429.693 149.731 L429.693 164.338 L425.018 164.338 L425.018 129.778 L435.573 129.778 Q441.499 129.778 444.416 132.254 Q447.332 134.731 447.332 139.731 Q447.332 142.995 445.804 145.148 Q444.3 147.301 441.406 148.134 M429.693 133.62 L429.693 145.889 L435.573 145.889 Q438.953 145.889 440.666 144.338 Q442.402 142.764 442.402 139.731 Q442.402 136.699 440.666 135.171 Q438.953 133.62 435.573 133.62 L429.693 133.62 Z\" fill=\"#000000\" fill-rule=\"evenodd\" fill-opacity=\"1\" /><path clip-path=\"url(#clip260)\" d=\"M477.818 150.31 L477.818 152.393 L458.235 152.393 Q458.513 156.791 460.874 159.106 Q463.258 161.398 467.494 161.398 Q469.948 161.398 472.239 160.796 Q474.554 160.194 476.823 158.99 L476.823 163.018 Q474.531 163.99 472.124 164.5 Q469.716 165.009 467.24 165.009 Q461.036 165.009 457.402 161.398 Q453.79 157.787 453.79 151.629 Q453.79 145.264 457.216 141.537 Q460.665 137.787 466.499 137.787 Q471.73 137.787 474.763 141.166 Q477.818 144.523 477.818 150.31 M473.559 149.06 Q473.513 145.565 471.591 143.481 Q469.693 141.398 466.545 141.398 Q462.98 141.398 460.827 143.412 Q458.698 145.426 458.374 149.083 L473.559 149.06 Z\" fill=\"#000000\" fill-rule=\"evenodd\" fill-opacity=\"1\" /><path clip-path=\"url(#clip260)\" d=\"M503.466 139.407 L503.466 143.389 Q501.661 142.393 499.832 141.907 Q498.026 141.398 496.175 141.398 Q492.031 141.398 489.739 144.037 Q487.448 146.652 487.448 151.398 Q487.448 156.143 489.739 158.782 Q492.031 161.398 496.175 161.398 Q498.026 161.398 499.832 160.912 Q501.661 160.402 503.466 159.407 L503.466 163.342 Q501.684 164.176 499.762 164.592 Q497.864 165.009 495.712 165.009 Q489.855 165.009 486.406 161.328 Q482.957 157.648 482.957 151.398 Q482.957 145.055 486.429 141.421 Q489.925 137.787 495.989 137.787 Q497.957 137.787 499.832 138.203 Q501.707 138.597 503.466 139.407 Z\" fill=\"#000000\" fill-rule=\"evenodd\" fill-opacity=\"1\" /><path clip-path=\"url(#clip260)\" d=\"M522.656 151.305 Q517.494 151.305 515.503 152.486 Q513.512 153.666 513.512 156.514 Q513.512 158.782 514.994 160.125 Q516.498 161.444 519.068 161.444 Q522.61 161.444 524.739 158.944 Q526.892 156.421 526.892 152.254 L526.892 151.305 L522.656 151.305 M531.151 149.546 L531.151 164.338 L526.892 164.338 L526.892 160.402 Q525.434 162.763 523.258 163.898 Q521.082 165.009 517.934 165.009 Q513.952 165.009 511.591 162.787 Q509.253 160.541 509.253 156.791 Q509.253 152.416 512.17 150.194 Q515.11 147.972 520.92 147.972 L526.892 147.972 L526.892 147.555 Q526.892 144.615 524.948 143.018 Q523.026 141.398 519.531 141.398 Q517.309 141.398 515.202 141.93 Q513.096 142.463 511.151 143.527 L511.151 139.592 Q513.489 138.69 515.688 138.25 Q517.887 137.787 519.971 137.787 Q525.596 137.787 528.373 140.703 Q531.151 143.62 531.151 149.546 Z\" fill=\"#000000\" fill-rule=\"evenodd\" fill-opacity=\"1\" /><path clip-path=\"url(#clip260)\" d=\"M539.924 128.319 L544.184 128.319 L544.184 164.338 L539.924 164.338 L539.924 128.319 Z\" fill=\"#000000\" fill-rule=\"evenodd\" fill-opacity=\"1\" /><path clip-path=\"url(#clip260)\" d=\"M553.096 128.319 L557.355 128.319 L557.355 164.338 L553.096 164.338 L553.096 128.319 Z\" fill=\"#000000\" fill-rule=\"evenodd\" fill-opacity=\"1\" /><polyline clip-path=\"url(#clip260)\" style=\"stroke:#ba2d0b; stroke-linecap:round; stroke-linejoin:round; stroke-width:4; stroke-opacity:1; fill:none\" points=\"\n",
       "  254.205,198.898 400.616,198.898 \n",
       "  \"/>\n",
       "<path clip-path=\"url(#clip260)\" d=\"M425.018 181.618 L429.693 181.618 L429.693 195.784 L446.684 195.784 L446.684 181.618 L451.36 181.618 L451.36 216.178 L446.684 216.178 L446.684 199.719 L429.693 199.719 L429.693 216.178 L425.018 216.178 L425.018 181.618 Z\" fill=\"#000000\" fill-rule=\"evenodd\" fill-opacity=\"1\" /><path clip-path=\"url(#clip260)\" d=\"M460.48 190.252 L464.74 190.252 L464.74 216.178 L460.48 216.178 L460.48 190.252 M460.48 180.159 L464.74 180.159 L464.74 185.553 L460.48 185.553 L460.48 180.159 Z\" fill=\"#000000\" fill-rule=\"evenodd\" fill-opacity=\"1\" /><path clip-path=\"url(#clip260)\" d=\"M477.864 182.891 L477.864 190.252 L486.638 190.252 L486.638 193.562 L477.864 193.562 L477.864 207.636 Q477.864 210.807 478.721 211.71 Q479.601 212.613 482.263 212.613 L486.638 212.613 L486.638 216.178 L482.263 216.178 Q477.332 216.178 475.457 214.349 Q473.582 212.497 473.582 207.636 L473.582 193.562 L470.457 193.562 L470.457 190.252 L473.582 190.252 L473.582 182.891 L477.864 182.891 Z\" fill=\"#000000\" fill-rule=\"evenodd\" fill-opacity=\"1\" /><path clip-path=\"url(#clip260)\" d=\"M522.332 194.233 Q521.614 193.817 520.758 193.631 Q519.924 193.423 518.906 193.423 Q515.295 193.423 513.35 195.784 Q511.429 198.122 511.429 202.52 L511.429 216.178 L507.147 216.178 L507.147 190.252 L511.429 190.252 L511.429 194.28 Q512.772 191.918 514.924 190.784 Q517.077 189.627 520.156 189.627 Q520.596 189.627 521.128 189.696 Q521.661 189.743 522.309 189.858 L522.332 194.233 Z\" fill=\"#000000\" fill-rule=\"evenodd\" fill-opacity=\"1\" /><path clip-path=\"url(#clip260)\" d=\"M538.582 203.145 Q533.42 203.145 531.429 204.326 Q529.438 205.506 529.438 208.354 Q529.438 210.622 530.92 211.965 Q532.424 213.284 534.994 213.284 Q538.535 213.284 540.665 210.784 Q542.818 208.261 542.818 204.094 L542.818 203.145 L538.582 203.145 M547.077 201.386 L547.077 216.178 L542.818 216.178 L542.818 212.242 Q541.359 214.603 539.184 215.738 Q537.008 216.849 533.86 216.849 Q529.878 216.849 527.517 214.627 Q525.179 212.381 525.179 208.631 Q525.179 204.256 528.096 202.034 Q531.035 199.812 536.846 199.812 L542.818 199.812 L542.818 199.395 Q542.818 196.455 540.873 194.858 Q538.952 193.238 535.457 193.238 Q533.235 193.238 531.128 193.77 Q529.022 194.303 527.077 195.367 L527.077 191.432 Q529.415 190.53 531.614 190.09 Q533.813 189.627 535.897 189.627 Q541.522 189.627 544.299 192.543 Q547.077 195.46 547.077 201.386 Z\" fill=\"#000000\" fill-rule=\"evenodd\" fill-opacity=\"1\" /><path clip-path=\"url(#clip260)\" d=\"M560.063 182.891 L560.063 190.252 L568.836 190.252 L568.836 193.562 L560.063 193.562 L560.063 207.636 Q560.063 210.807 560.92 211.71 Q561.799 212.613 564.461 212.613 L568.836 212.613 L568.836 216.178 L564.461 216.178 Q559.531 216.178 557.656 214.349 Q555.781 212.497 555.781 207.636 L555.781 193.562 L552.656 193.562 L552.656 190.252 L555.781 190.252 L555.781 182.891 L560.063 182.891 Z\" fill=\"#000000\" fill-rule=\"evenodd\" fill-opacity=\"1\" /><path clip-path=\"url(#clip260)\" d=\"M574.438 190.252 L578.697 190.252 L578.697 216.178 L574.438 216.178 L574.438 190.252 M574.438 180.159 L578.697 180.159 L578.697 185.553 L574.438 185.553 L574.438 180.159 Z\" fill=\"#000000\" fill-rule=\"evenodd\" fill-opacity=\"1\" /><path clip-path=\"url(#clip260)\" d=\"M597.655 193.238 Q594.23 193.238 592.239 195.923 Q590.248 198.585 590.248 203.238 Q590.248 207.891 592.216 210.576 Q594.206 213.238 597.655 213.238 Q601.058 213.238 603.049 210.553 Q605.04 207.867 605.04 203.238 Q605.04 198.631 603.049 195.946 Q601.058 193.238 597.655 193.238 M597.655 189.627 Q603.211 189.627 606.382 193.238 Q609.554 196.849 609.554 203.238 Q609.554 209.604 606.382 213.238 Q603.211 216.849 597.655 216.849 Q592.077 216.849 588.906 213.238 Q585.757 209.604 585.757 203.238 Q585.757 196.849 588.906 193.238 Q592.077 189.627 597.655 189.627 Z\" fill=\"#000000\" fill-rule=\"evenodd\" fill-opacity=\"1\" /></svg>\n"
      ]
     },
     "execution_count": 189,
     "metadata": {},
     "output_type": "execute_result"
    }
   ],
   "source": [
    "# plot results\n",
    "ks = LinRange(1, length(recall_al), length(recall_al))\n",
    "plot(ks, recall_al, lw=2.5, label=\"Recall\", c=\"#508AA8\", legend=:topleft, dpi=400)\n",
    "plot!(ks, hitratio_al, lw=2.5, label=\"Hit ratio\", c=\"#BA2D0B\")\n",
    "ylims!((0.1, 1))\n",
    "#savefig(results_dir*\"/v3.1/hdc_convolved_6-6_active_learning.png\")"
   ]
  },
  {
   "cell_type": "markdown",
   "id": "205933e6",
   "metadata": {},
   "source": [
    "## X - Tests"
   ]
  },
  {
   "cell_type": "code",
   "execution_count": 69,
   "id": "10452d24",
   "metadata": {},
   "outputs": [
    {
     "name": "stdout",
     "output_type": "stream",
     "text": [
      "\u001b[37m\u001b[1mTest Summary: | \u001b[22m\u001b[39m\u001b[32m\u001b[1mPass  \u001b[22m\u001b[39m\u001b[36m\u001b[1mTotal\u001b[22m\u001b[39m\n",
      "tests for MRR | \u001b[32m   3  \u001b[39m\u001b[36m    3\u001b[39m\n"
     ]
    }
   ],
   "source": [
    "@testset \"tests for MRR\" begin\n",
    "    @test mean_reciprocal_rank([[0, 0, 0], [0, 1, 0], [1, 0, 0]]) == 0.5\n",
    "    @test mean_reciprocal_rank([[1, 0, 0], [1, 1, 0], [1, 0, 0]]) == 1\n",
    "    A = [0 0 0; 0 1 0; 1 0 0] # Matrix\n",
    "    @test mean_reciprocal_rank(A) == 0.5\n",
    "end;"
   ]
  },
  {
   "cell_type": "code",
   "execution_count": 19,
   "id": "e31efab6",
   "metadata": {},
   "outputs": [
    {
     "name": "stdout",
     "output_type": "stream",
     "text": [
      "\u001b[37m\u001b[1mTest Summary:     | \u001b[22m\u001b[39m\u001b[32m\u001b[1mPass  \u001b[22m\u001b[39m\u001b[36m\u001b[1mTotal\u001b[22m\u001b[39m\n",
      "test for Recall@K | \u001b[32m   2  \u001b[39m\u001b[36m    2\u001b[39m\n"
     ]
    }
   ],
   "source": [
    "@testset \"test for Recall@K\" begin\n",
    "    @test recallatk([[1, 0, 0, 1, 0]], 3) == 0.5\n",
    "    @test recallatk([[1, 0, 0, 1, 0], [1, 1, 0, 0, 0]], 3) == 0.75\n",
    "end;"
   ]
  },
  {
   "cell_type": "code",
   "execution_count": 51,
   "id": "77d726c1",
   "metadata": {},
   "outputs": [
    {
     "name": "stdout",
     "output_type": "stream",
     "text": [
      "\u001b[37m\u001b[1mTest Summary:                          | \u001b[22m\u001b[39m\u001b[32m\u001b[1mPass  \u001b[22m\u001b[39m\u001b[36m\u001b[1mTotal\u001b[22m\u001b[39m\n",
      "tests for constructing relevant matrix | \u001b[32m   3  \u001b[39m\u001b[36m    3\u001b[39m\n"
     ]
    }
   ],
   "source": [
    "@testset \"tests for constructing relevant matrix\" begin\n",
    "    preds = [0 0 1; 1 1 0; 0 0 0]\n",
    "    labels = [0 0 1; 1 1 0; 0 0 0]\n",
    "    @test construct_relevant_matrix(preds, labels) == labels # all TPs\n",
    "    preds = [0 0 0; 1 0 0; 0 0 0]\n",
    "    labels = [0 0 1; 1 1 0; 0 0 0]\n",
    "    @test construct_relevant_matrix(preds, labels) == [0 0 0; 1 0 0; 0 0 0] # missed TPs\n",
    "    preds = [0 1 0; 1 1 0; 1 0 0]\n",
    "    labels = [0 0 1; 1 1 0; 0 0 0]\n",
    "    @test construct_relevant_matrix(preds, labels) == [0 0 0; 1 1 0; 0 0 0] # FPs\n",
    "end;"
   ]
  }
 ],
 "metadata": {
  "kernelspec": {
   "display_name": "Julia 1.6.3",
   "language": "julia",
   "name": "julia-1.6"
  },
  "language_info": {
   "file_extension": ".jl",
   "mimetype": "application/julia",
   "name": "julia",
   "version": "1.6.3"
  }
 },
 "nbformat": 4,
 "nbformat_minor": 5
}
