{
 "cells": [
  {
   "cell_type": "markdown",
   "id": "chronic-establishment",
   "metadata": {},
   "source": [
    "# PhageHostLearn - v3.2 (Klebsiella)\n",
    "\n",
    "An AI-based Phage-Host interaction predictor framework with K-loci and receptor-binding proteins at its core. This particular PhageHostLearn is for *Klebsiella pneumoniae* related phages. This notebook follows after having ran the PhageHostLearn_processing steps implemented in the accompanying Jupyter notebook.\n",
    "\n",
    "**Architecture of this framework**: \n",
    "- Multi-RBP setting: phages consisting of one or more RBPs (multi-instance)\n",
    "- K-loci proteins (multi-instance) \n",
    "- Embeddings for both based on language models and HDC\n",
    "- Combined XGBoost model (for language embeddings) and RF (for HDC embeddings) to make predictions\n",
    "- Active learning to assess benefits of increasing the training set"
   ]
  },
  {
   "cell_type": "markdown",
   "id": "catholic-brush",
   "metadata": {},
   "source": [
    "## 0 - Libraries and directories"
   ]
  },
  {
   "cell_type": "code",
   "execution_count": 56,
   "id": "drawn-centre",
   "metadata": {},
   "outputs": [],
   "source": [
    "import ast\n",
    "import math\n",
    "import subprocess\n",
    "import numpy as np\n",
    "import pandas as pd\n",
    "import learning_utils as lu\n",
    "import matplotlib.pyplot as plt\n",
    "from matplotlib import cm\n",
    "from tqdm.notebook import tqdm\n",
    "from xgboost import XGBClassifier\n",
    "from sklearn.ensemble import RandomForestClassifier\n",
    "from sklearn.model_selection import GridSearchCV, LeaveOneGroupOut, GroupShuffleSplit, GroupKFold\n",
    "from sklearn.metrics import roc_auc_score, auc, precision_recall_curve\n",
    "%matplotlib inline"
   ]
  },
  {
   "cell_type": "code",
   "execution_count": 26,
   "id": "together-constitution",
   "metadata": {},
   "outputs": [],
   "source": [
    "# set project directory (to locate Kaptive), data directory and results directory\n",
    "project_dir = '/Users/dimi/Documents/GitHub_Local/PhageHostLearning'\n",
    "valencia_dir = '/Users/dimi/GoogleDrive/PhD/4_PHAGEHOST_LEARNING/42_DATA/Valencia_data' # general directory\n",
    "data_suffix = 'Valencia' # choose a suffix for the created data files\n",
    "results_dir = '/Users/dimi/GoogleDrive/PhD/4_PHAGEHOST_LEARNING/43_RESULTS/models'\n",
    "cdpath = '/Users/dimi/cd-hit-v4.8.1-2019-0228'"
   ]
  },
  {
   "cell_type": "markdown",
   "id": "statistical-offer",
   "metadata": {},
   "source": [
    "## 1 - Processing language & HDC embeddings into structured dataframe for training"
   ]
  },
  {
   "cell_type": "code",
   "execution_count": 27,
   "id": "d8fc2ec5",
   "metadata": {},
   "outputs": [],
   "source": [
    "# construct multi-RBP representations\n",
    "RBP_embeddings = pd.read_csv(valencia_dir+'/RBP_esm_embeddings.csv')\n",
    "\n",
    "multi_embeddings = []\n",
    "names = []\n",
    "for phage_id in list(set(RBP_embeddings['phage_ID'])):\n",
    "    rbp_embeddings = RBP_embeddings.iloc[:,2:][RBP_embeddings['phage_ID'] == phage_id]\n",
    "    multi_embedding = np.mean(np.asarray(rbp_embeddings), axis=0)\n",
    "    names.append(phage_id)\n",
    "    multi_embeddings.append(multi_embedding)\n",
    "multiRBP_embeddings = pd.concat([pd.DataFrame({'phage_ID': names}), pd.DataFrame(multi_embeddings)], axis=1)"
   ]
  },
  {
   "cell_type": "code",
   "execution_count": 28,
   "id": "49768728",
   "metadata": {},
   "outputs": [],
   "source": [
    "# load hdc matrix to reorder\n",
    "import ast\n",
    "hdcf = pd.read_csv(valencia_dir+'/hdc_convolved_features.txt', sep=\"\\t\", header=None)\n",
    "pairs = [ast.literal_eval(i) for i in hdcf.iloc[:,0]]"
   ]
  },
  {
   "cell_type": "code",
   "execution_count": 29,
   "id": "3de2f74f",
   "metadata": {},
   "outputs": [
    {
     "name": "stdout",
     "output_type": "stream",
     "text": [
      "Dimensions match? True\n",
      "Dimensions match? True\n"
     ]
    }
   ],
   "source": [
    "# construct dataframe for training\n",
    "loci_embeddings = pd.read_csv(valencia_dir+'/loci_esm_embeddings.csv')\n",
    "interactions = pd.read_csv(valencia_dir+'/phage_host_interactionsValencia.csv', index_col=0)\n",
    "features_lan = []\n",
    "features_hdc = []\n",
    "labels = []\n",
    "groups_loci = []\n",
    "groups_phage = []\n",
    "\n",
    "for i, accession in enumerate(loci_embeddings['accession']):\n",
    "    for j, phage_id in enumerate(multiRBP_embeddings['phage_ID']):\n",
    "        interaction = interactions.loc[accession][phage_id]\n",
    "        if math.isnan(interaction) == False: # if the interaction is known\n",
    "            # language embeddings\n",
    "            features_lan.append(pd.concat([loci_embeddings.iloc[i, 1:], multiRBP_embeddings.iloc[j, 1:]]))\n",
    "            \n",
    "            # hdc embeddings reorder\n",
    "            pair = (accession, phage_id)\n",
    "            this_index = pairs.index(pair)\n",
    "            features_hdc.append(hdcf.iloc[this_index, 1:])\n",
    "            \n",
    "            # append labels and groups\n",
    "            labels.append(int(interaction))\n",
    "            groups_loci.append(i)\n",
    "            groups_phage.append(j)\n",
    "            \n",
    "features_lan = np.asarray(features_lan)\n",
    "features_hdc = np.asarray(features_hdc)\n",
    "print(\"Dimensions match?\", features_lan.shape[1] == (loci_embeddings.shape[1]+multiRBP_embeddings.shape[1]-2))\n",
    "print(\"Dimensions match?\", features_lan.shape[0] == features_hdc.shape[0])"
   ]
  },
  {
   "cell_type": "markdown",
   "id": "a4c0143c",
   "metadata": {},
   "source": [
    "## 2 - LOGOCV with the ensemble <a name=\"models\"></a>"
   ]
  },
  {
   "cell_type": "code",
   "execution_count": 30,
   "id": "9815d3c9",
   "metadata": {},
   "outputs": [],
   "source": [
    "def mean_reciprocal_rank(queries):\n",
    "    \"\"\"\n",
    "    This function computes the mean reciprocal rank for a given array or\n",
    "    matrix of queries. It deals with relevant vs. non-relevant queries that are\n",
    "    binary. If queries is a matrix, then it will compute the reciprocal ranks over\n",
    "    all rows individually (for each 'query') and then average those.\n",
    "    E.g.:\n",
    "    queries = [[0, 0, 0], [0, 1, 0], [1, 0, 0]]\n",
    "    mean_reciprocal_rank(queries) -> 0.5\n",
    "    \"\"\"\n",
    "    queries = (np.asarray(r).nonzero()[0] for r in queries)\n",
    "    return np.mean([1. / (r[0] + 1) if r.size else 0. for r in queries])"
   ]
  },
  {
   "cell_type": "code",
   "execution_count": 31,
   "id": "aacff3ac",
   "metadata": {},
   "outputs": [],
   "source": [
    "def recallatk(queries, k):\n",
    "    \"\"\"\n",
    "    recall at top K for binary problems. Relevant items should be labeled as 1.\n",
    "    \n",
    "    Input: \n",
    "    - queries: list of lists of queries that are sorted (i.e. true labels sorted by prediction score)\n",
    "    - k: the top you want to look at\n",
    "    \"\"\"\n",
    "    recalls_k = [query[:k].count(1) / query.count(1) for query in queries]\n",
    "    return np.mean(recalls_k)"
   ]
  },
  {
   "cell_type": "code",
   "execution_count": 32,
   "id": "a55eeeba",
   "metadata": {},
   "outputs": [],
   "source": [
    "def marecallatk(queries, kmax):\n",
    "    \"\"\"\n",
    "    mean average recall @ K; computes the average recall@K for values up to kmax and then\n",
    "    takes the mean over all queries. Relevant items should be labeled as 1.\n",
    "    \"\"\"\n",
    "    average_recalls = []\n",
    "    for query in queries:\n",
    "        recalls = [query[:k+1].count(1) / query.count(1) for k in range(kmax)]\n",
    "        average_recalls.append(np.mean(recalls))\n",
    "    return np.mean(average_recalls)"
   ]
  },
  {
   "cell_type": "code",
   "execution_count": 33,
   "id": "c2ea9c5e",
   "metadata": {},
   "outputs": [],
   "source": [
    "def hitratio(queries, k):\n",
    "    \"\"\"\n",
    "    hit ratio for in the first k elements (sorted queries)\n",
    "    \"\"\"\n",
    "    return sum([1 for query in queries if sum(query[:k]) > 0]) / len(queries)"
   ]
  },
  {
   "cell_type": "code",
   "execution_count": 34,
   "id": "52927a17",
   "metadata": {},
   "outputs": [],
   "source": [
    "def uninorm(x, y):\n",
    "    result = (x*y) / (x*y + (1-x)*(1-y))\n",
    "    return result"
   ]
  },
  {
   "cell_type": "code",
   "execution_count": 12,
   "id": "3c39dc78",
   "metadata": {
    "scrolled": true
   },
   "outputs": [
    {
     "data": {
      "application/vnd.jupyter.widget-view+json": {
       "model_id": "c7c11d3a30984e0d850fc7c1728bf7eb",
       "version_major": 2,
       "version_minor": 0
      },
      "text/plain": [
       "  0%|          | 0/200 [00:00<?, ?it/s]"
      ]
     },
     "metadata": {},
     "output_type": "display_data"
    }
   ],
   "source": [
    "# do the LOGOCV\n",
    "logo = LeaveOneGroupOut()\n",
    "cpus = 6\n",
    "scores_lan = []\n",
    "scores_hdc = []\n",
    "label_list = []\n",
    "labels = np.asarray(labels)\n",
    "pbar = tqdm(total=200)\n",
    "for train_index, test_index in logo.split(features_lan, labels, groups_loci):\n",
    "    # get the training and test data\n",
    "    Xlan_train, Xlan_test = features_lan[train_index], features_lan[test_index]\n",
    "    Xhdc_train, Xhdc_test = features_hdc[train_index], features_hdc[test_index]\n",
    "    y_train, y_test = labels[train_index], labels[test_index]\n",
    "    imbalance = sum([1 for i in y_train if i ==1]) / sum([1 for i in y_train if i ==0])\n",
    "\n",
    "    ## LANGUAGE EMBEDDINGS: XGBoost model\n",
    "    xgb = XGBClassifier(scale_pos_weight=1/imbalance, learning_rate=0.2, n_estimators=250, max_depth=7,\n",
    "                        n_jobs=cpus, eval_metric='logloss', use_label_encoder=False)\n",
    "    xgb.fit(Xlan_train, y_train)\n",
    "    score_xgb = xgb.predict_proba(Xlan_test)[:,1]\n",
    "    scores_lan.append(score_xgb)\n",
    "    \n",
    "    ## HDC EMBEDDINGS: RF model\n",
    "    rf = RandomForestClassifier(n_estimators=1000, max_depth=5, class_weight='balanced', n_jobs=cpus)\n",
    "    rf.fit(Xhdc_train, y_train)\n",
    "    score_rf = rf.predict_proba(Xhdc_test)[:,1]\n",
    "    scores_hdc.append(score_rf)\n",
    "    \n",
    "    # save labels for later\n",
    "    label_list.append(y_test)\n",
    "    \n",
    "    # pbar update\n",
    "    pbar.update(1)\n",
    "pbar.close()"
   ]
  },
  {
   "cell_type": "code",
   "execution_count": 13,
   "id": "bd71a31c",
   "metadata": {},
   "outputs": [],
   "source": [
    "# save results\n",
    "logo_results = pd.DataFrame({'labels': label_list, 'scores_language': scores_lan, \n",
    "                             'scores_hdc': scores_hdc})\n",
    "logo_results.to_csv(results_dir+'/v3.2/ensemble_logocv_results.csv', index=False)\n",
    "\n",
    "# compute performance\n",
    "rocaucs = []\n",
    "praucs = []\n",
    "rqueries_lan = []\n",
    "rqueries_hdc = []\n",
    "rqueries_ens = []\n",
    "for i in range(200):\n",
    "    score_lan = scores_lan[i]\n",
    "    score_hdc = scores_hdc[i]\n",
    "    score_ens = [uninorm(score_lan[j], score_hdc[j]) for j in range(len(score_lan))]\n",
    "    y_test = label_list[i]\n",
    "    try:\n",
    "            roc_auc = roc_auc_score(y_test, score_ens)\n",
    "            rocaucs.append(roc_auc)\n",
    "            precision, recall, thresholds = precision_recall_curve(y_test, score_ens)\n",
    "            praucs.append(round(auc(recall, precision), 3))\n",
    "            ranked_lan = [x for _, x in sorted(zip(score_lan, y_test), reverse=True)]\n",
    "            ranked_hdc = [x for _, x in sorted(zip(score_hdc, y_test), reverse=True)]\n",
    "            ranked_ens = [x for _, x in sorted(zip(score_ens, y_test), reverse=True)]\n",
    "            rqueries_lan.append(ranked_lan)\n",
    "            rqueries_hdc.append(ranked_hdc)\n",
    "            rqueries_ens.append(ranked_ens)\n",
    "    except:\n",
    "        pass"
   ]
  },
  {
   "cell_type": "code",
   "execution_count": 16,
   "id": "201961fa",
   "metadata": {},
   "outputs": [
    {
     "name": "stdout",
     "output_type": "stream",
     "text": [
      "ROC AUC:  0.8202753502742417\n",
      "PR AUC:  0.5578188976377952\n",
      "Mean average recall @ K:  0.8040699912510937\n"
     ]
    }
   ],
   "source": [
    "# results, part 1\n",
    "print('ROC AUC: ', np.mean(rocaucs))\n",
    "print('PR AUC: ', np.mean(praucs))\n",
    "print('Mean average recall @ K: ', marecallatk(rqueries_ens, 50))"
   ]
  },
  {
   "cell_type": "code",
   "execution_count": 23,
   "id": "7269a237",
   "metadata": {},
   "outputs": [
    {
     "data": {
      "image/png": "[encoded data removed]",
      "text/plain": [
       "<Figure size 720x504 with 1 Axes>"
      ]
     },
     "metadata": {
      "needs_background": "light"
     },
     "output_type": "display_data"
    }
   ],
   "source": [
    "# results, hit ratios @ K\n",
    "ks = np.linspace(1, 50, 50)\n",
    "hits_lan = [hitratio(rqueries_lan, int(k)) for k in ks]\n",
    "hits_hdc = [hitratio(rqueries_hdc, int(k)) for k in ks]\n",
    "hits_ens = [hitratio(rqueries_ens, int(k)) for k in ks]\n",
    "fig, ax = plt.subplots(figsize=(10,7))\n",
    "ax.plot(ks, hits_lan, c='#E15554', linewidth=2.5, ls=':', label='Language-based model')\n",
    "ax.plot(ks, hits_hdc, c='#E15554', linewidth=2.5, ls='-.', label='HDC-based model')\n",
    "ax.plot(ks, hits_ens, c='#124559', linewidth=2.5, label='Combined model')\n",
    "ax.set_xlabel('K')\n",
    "ax.set_ylabel('Hit ratio @ K')\n",
    "ax.set_ylim(0.1, 1)\n",
    "ax.legend()\n",
    "ax.grid(True)\n",
    "#fig.savefig(results_dir+'/v3.2/logocv_hitratio.png', dpi=400)\n",
    "fig.savefig(results_dir+'/v3.2/logocv_hitratio_svg.svg', format='svg', dpi=400)"
   ]
  },
  {
   "cell_type": "code",
   "execution_count": 24,
   "id": "de246548",
   "metadata": {},
   "outputs": [
    {
     "data": {
      "image/png": "[encoded data removed]",
      "text/plain": [
       "<Figure size 720x504 with 1 Axes>"
      ]
     },
     "metadata": {
      "needs_background": "light"
     },
     "output_type": "display_data"
    }
   ],
   "source": [
    "# results, recalls @ K\n",
    "ks = np.linspace(1, 50, 50)\n",
    "recalls_lan = [recallatk(rqueries_lan, int(k)) for k in ks]\n",
    "recalls_hdc = [recallatk(rqueries_hdc, int(k)) for k in ks]\n",
    "recalls_ens = [recallatk(rqueries_ens, int(k)) for k in ks]\n",
    "fig, ax = plt.subplots(figsize=(10,7))\n",
    "ax.plot(ks, recalls_lan, c='#E15554', linewidth=2.5, ls=':', label='Language-based model')\n",
    "ax.plot(ks, recalls_hdc, c='#E15554', linewidth=2.5, ls='-.', label='HDC-based model')\n",
    "ax.plot(ks, recalls_ens, c='#124559', linewidth=2.5, label='Combined model')\n",
    "ax.set_xlabel('K')\n",
    "ax.set_ylabel('Recall @ K')\n",
    "ax.set_ylim(0.1, 1)\n",
    "ax.legend()\n",
    "ax.grid(True)\n",
    "#fig.savefig(results_dir+'/v3.2/logocv_recall.png', dpi=400)\n",
    "fig.savefig(results_dir+'/v3.2/logocv_recall_svg.svg', format='svg', dpi=400)"
   ]
  },
  {
   "cell_type": "markdown",
   "id": "81d00131",
   "metadata": {},
   "source": [
    "#### Single-RBP LOOCV"
   ]
  },
  {
   "cell_type": "code",
   "execution_count": 37,
   "id": "afc3e45e",
   "metadata": {},
   "outputs": [
    {
     "data": {
      "application/vnd.jupyter.widget-view+json": {
       "model_id": "ed995021943e4287957389dd7e90a3e8",
       "version_major": 2,
       "version_minor": 0
      },
      "text/plain": [
       "  0%|          | 0/200 [00:00<?, ?it/s]"
      ]
     },
     "metadata": {},
     "output_type": "display_data"
    }
   ],
   "source": [
    "logo = LeaveOneGroupOut()\n",
    "cpus = 6\n",
    "rocauc_scores = []\n",
    "prauc_scores = []\n",
    "noauc_scores = []\n",
    "ranked_queries = []\n",
    "labels = np.asarray(labels)\n",
    "sero_groups = []\n",
    "pbar = tqdm(total=200)\n",
    "for train_index, test_index in logo.split(features, labels, groups_loci):\n",
    "    # get the training and test data\n",
    "    X_train, X_test = features[train_index], features[test_index]\n",
    "    y_train, y_test = labels[train_index], labels[test_index]\n",
    "    phage_test = np.asarray(groups_phage)[test_index]\n",
    "    imbalance = sum([1 for i in y_train if i ==1]) / sum([1 for i in y_train if i ==0])\n",
    "\n",
    "    # fit a XGBoost model\n",
    "    xgb = XGBClassifier(scale_pos_weight=1/imbalance, learning_rate=0.2, n_estimators=250, max_depth=7,\n",
    "                        n_jobs=cpus, eval_metric='logloss', use_label_encoder=False)\n",
    "    xgb.fit(X_train, y_train)\n",
    "    \n",
    "    # loop over phage's RBPs\n",
    "    score_xgb = []\n",
    "    loci_embedding = X_test[0, :1280] # always the same within a test group\n",
    "    for phage_index in phage_test:\n",
    "        # get the correct embeddings\n",
    "        phage_id = list(multiRBP_embeddings['phage_ID'])[phage_index]\n",
    "        rbp_embeddings = RBP_embeddings.iloc[:,2:][RBP_embeddings['phage_ID'] == phage_id]\n",
    "        \n",
    "        # make predictions for each single RBP\n",
    "        rbp_scores = []\n",
    "        for rbpi in range(rbp_embeddings.shape[0]):\n",
    "            test_embedding = pd.concat([pd.DataFrame(loci_embedding), rbp_embeddings.iloc[rbpi,:]])\n",
    "            this_xgb_score = xgb.predict_proba(np.asarray(test_embedding).reshape((1,-1)))[:,1]\n",
    "            rbp_scores.append(this_xgb_score[0])\n",
    "                              \n",
    "        # add max score to the list for AUC computing\n",
    "        score_xgb.append(max(rbp_scores))\n",
    "    \n",
    "    # compute ROC & PR AUC\n",
    "    try:\n",
    "        roc_auc = roc_auc_score(y_test, score_xgb)\n",
    "        rocauc_scores.append(roc_auc)\n",
    "        precision, recall, thresholds = precision_recall_curve(y_test, score_xgb)\n",
    "        pr_auc = round(auc(recall, precision), 3)\n",
    "        prauc_scores.append(pr_auc)\n",
    "        this_sero = seros['sero'][groups_loci[test_index[0]]]\n",
    "        sero_groups.append(this_sero) # get serotype linked to this test group\n",
    "\n",
    "        # sort labels to compute MRR later\n",
    "        ranked_query = [x for _, x in sorted(zip(score_xgb, y_test), reverse=True)]\n",
    "        ranked_queries.append(ranked_query) \n",
    "    except:\n",
    "        noauc_scores.append(score_xgb)\n",
    "\n",
    "    # pbar update\n",
    "    pbar.update(1)\n",
    "pbar.close()"
   ]
  },
  {
   "cell_type": "code",
   "execution_count": 38,
   "id": "4280be54",
   "metadata": {},
   "outputs": [
    {
     "name": "stdout",
     "output_type": "stream",
     "text": [
      "ROC AUC:  0.7785468959224573\n",
      "PR AUC:  0.3663464566929134\n",
      "MRR:  0.47427649711853287\n",
      "top 10 recall:  0.6006061742282215\n"
     ]
    }
   ],
   "source": [
    "# print results\n",
    "print('ROC AUC: ', np.mean(rocauc_scores))\n",
    "print('PR AUC: ', np.mean(prauc_scores))\n",
    "print('MRR: ', mean_reciprocal_rank(ranked_queries))\n",
    "print('top 10 recall: ', recallatk(ranked_queries, 10))\n",
    "logo_results = pd.DataFrame({'sero': sero_groups, 'rocauc_scores': rocauc_scores, 'prauc_scores': prauc_scores, \n",
    "                             'ranked_queries': ranked_queries})\n",
    "logo_results.to_csv(results_dir+'/v2.3/language_xgb_singlerbp_logocv_results.csv', index=False)"
   ]
  },
  {
   "cell_type": "raw",
   "id": "7278e573",
   "metadata": {
    "scrolled": false
   },
   "source": [
    "logo_results = pd.read_csv(results_dir+'/v2.3/language_xgb_singlerbp_logocv_results.csv', converters={'ranked_queries': pd.eval})\n",
    "ks = np.linspace(1, 50, 50)\n",
    "recalls = [recallatk(logo_results['ranked_queries'], int(k)) for k in ks]\n",
    "hits = [hitratio(logo_results['ranked_queries'], int(k)) for k in ks]\n",
    "fig, ax = plt.subplots(figsize=(10,7))\n",
    "ax.plot(ks, recalls, c='#508AA8', linewidth=2.5, label='Recall')\n",
    "ax.plot(ks, hits, c='#BA2D0B', linewidth=2.5, label='Hit ratio')\n",
    "ax.set_xlabel('k')\n",
    "ax.set_ylabel('Recall / HR')\n",
    "ax.legend()\n",
    "fig.savefig(results_dir+'/v2.3/language_xgb_singlerbp_logocv_recall_hitratio.png', dpi=400)"
   ]
  },
  {
   "cell_type": "markdown",
   "id": "56f64284",
   "metadata": {},
   "source": [
    "## 3 - Active learning\n",
    "\n",
    "1. Randomly select 10% of bacteria for testing\n",
    "2. Use the other 90% to progressively train HDC model (iteratively increasing training size)\n",
    "3. Compute the top 1, 3, 5 hit ratio on the  held-out test set\n",
    "4. Repeat the process 100 times"
   ]
  },
  {
   "cell_type": "code",
   "execution_count": 131,
   "id": "2fdb0e59",
   "metadata": {},
   "outputs": [
    {
     "data": {
      "application/vnd.jupyter.widget-view+json": {
       "model_id": "a5ea5916d4084af1aec109524be452c8",
       "version_major": 2,
       "version_minor": 0
      },
      "text/plain": [
       "  0%|          | 0/100 [00:00<?, ?it/s]"
      ]
     },
     "metadata": {},
     "output_type": "display_data"
    }
   ],
   "source": [
    "# 1. Randomly select 10% of groups for testing\n",
    "repeats = 100\n",
    "rf = RandomForestClassifier(n_estimators=1000, max_depth=5, class_weight='balanced', n_jobs=cpus)\n",
    "labels = np.asarray(labels)\n",
    "pbar = tqdm(total=repeats)\n",
    "hits_1d = {}\n",
    "hits_3d = {}\n",
    "hits_5d = {}\n",
    "cpus = 6\n",
    "\n",
    "for rep in range(repeats):\n",
    "    # 1. Randomly select 10% of groups for testing\n",
    "    hits_1d[rep] = []; hits_3d[rep] = []; hits_5d[rep] = []\n",
    "    gss = GroupShuffleSplit(n_splits=1, train_size=.9)\n",
    "    for (train_index, test_index) in gss.split(features_hdc, labels, groups_loci):\n",
    "        X_train, X_test = features_hdc[train_index], features_hdc[test_index]\n",
    "        y_train, y_test = labels[train_index], labels[test_index]\n",
    "        groups_train = np.asarray(groups_loci)[train_index]\n",
    "        groups_test = np.asarray(groups_loci)[test_index]\n",
    "\n",
    "        # 2. Progressively train on the 90% (thus we select the TEST set below)\n",
    "        group_kfold = GroupKFold(n_splits=9)\n",
    "        progressive_index = []\n",
    "        for (train_k, test_k) in group_kfold.split(X_train, y_train, groups_train):\n",
    "            progressive_index.append(test_k)\n",
    "            progressive_indices = np.concatenate((progressive_index))\n",
    "            X_train_progressive = X_train[progressive_indices]\n",
    "            y_train_progressive = y_train[progressive_indices]\n",
    "\n",
    "            # HDC RF model\n",
    "            rf.fit(X_train_progressive, y_train_progressive)\n",
    "\n",
    "            # 3. Compute the top 1, 3, 5 hit ratio on the held-out test set\n",
    "            scores = rf.predict_proba(X_test)[:,1]\n",
    "            rqueries = []\n",
    "            # account for multiple bacteria in test set by looping over each one\n",
    "            for testgroup in set(groups_test):\n",
    "                group_scores = scores[groups_test == testgroup]\n",
    "                group_y = y_test[groups_test == testgroup]\n",
    "                # only add query if there's actually a positive to find\n",
    "                if sum(group_y) > 0:\n",
    "                    ranked_query = [x for _, x in sorted(zip(group_scores, group_y), reverse=True)]\n",
    "                    rqueries.append(ranked_query)\n",
    "            hits_1d[rep].append(hitratio(rqueries, 1))\n",
    "            hits_3d[rep].append(hitratio(rqueries, 3))\n",
    "            hits_5d[rep].append(hitratio(rqueries, 5))\n",
    "\n",
    "    # pbar update\n",
    "    pbar.update(1)\n",
    "\n",
    "pbar.close()"
   ]
  },
  {
   "cell_type": "code",
   "execution_count": 133,
   "id": "a0b31f0a",
   "metadata": {},
   "outputs": [],
   "source": [
    "hitratio_1 = []; hitratio_3 = []; hitratio_5 = []\n",
    "for i in range(9):\n",
    "    hrs_1 = [hits_1d[key][i] for key in hits_1d.keys()]\n",
    "    hrs_3 = [hits_3d[key][i] for key in hits_3d.keys()]\n",
    "    hrs_5 = [hits_5d[key][i] for key in hits_5d.keys()]\n",
    "    hitratio_1.append(np.mean(hrs_1))\n",
    "    hitratio_3.append(np.mean(hrs_3))\n",
    "    hitratio_5.append(np.mean(hrs_5))"
   ]
  },
  {
   "cell_type": "code",
   "execution_count": 136,
   "id": "7bed3a28",
   "metadata": {},
   "outputs": [
    {
     "data": {
      "image/png": "[encoded data removed]",
      "text/plain": [
       "<Figure size 720x504 with 1 Axes>"
      ]
     },
     "metadata": {
      "needs_background": "light"
     },
     "output_type": "display_data"
    }
   ],
   "source": [
    "fig, ax = plt.subplots(figsize=(10,7))\n",
    "percentage = [10, 20, 30, 40, 50, 60, 70, 80, 90]\n",
    "ax.plot(percentage, hitratio_1, c='#E15554', linewidth=2.5, label='Top 1 hit ratio')\n",
    "ax.plot(percentage, hitratio_3, c='#124559', linewidth=2.5, label='Top 3 hit ratio')\n",
    "ax.plot(percentage, hitratio_5, c='#81B29A', linewidth=2.5, label='Top 5 hit ratio')\n",
    "ax.set_xlabel('Data percentage')\n",
    "ax.set_ylabel('Hit ratio')\n",
    "ax.set_ylim(0.1, 1)\n",
    "ax.legend()\n",
    "ax.grid(True)\n",
    "fig.savefig(results_dir+'/v3.2/hdc_convolved_activelearning_groupshuffle.png', dpi=400)\n",
    "fig.savefig(results_dir+'/v3.2/hdc_convolved_activelearning_groupshuffle_svg.svg', format='svg', dpi=400)"
   ]
  }
 ],
 "metadata": {
  "kernelspec": {
   "display_name": "Python 3 (ipykernel)",
   "language": "python",
   "name": "python3"
  },
  "language_info": {
   "codemirror_mode": {
    "name": "ipython",
    "version": 3
   },
   "file_extension": ".py",
   "mimetype": "text/x-python",
   "name": "python",
   "nbconvert_exporter": "python",
   "pygments_lexer": "ipython3",
   "version": "3.9.7"
  }
 },
 "nbformat": 4,
 "nbformat_minor": 5
}
