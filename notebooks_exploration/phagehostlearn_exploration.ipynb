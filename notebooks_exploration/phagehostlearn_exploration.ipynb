{
 "cells": [
  {
   "cell_type": "markdown",
   "metadata": {},
   "source": [
    "# PhageHostLearn - data exploration"
   ]
  },
  {
   "cell_type": "markdown",
   "metadata": {},
   "source": [
    "The goal of this notebook is to explore both the RBP sequence data and K-loci sequence data in depth in the light of their specificity towards a serotype (CLT, cfr Beamud et al, 2022). \n",
    "\n",
    "\n",
    "- **K-loci clustering and exploration**: where do they differ, how much variation is there?, how much variation between clusters? which differences lead to differences in K-type? link paper beamud?! linked RBPs for each cluster: do an MSA to see their similarity within a cluster: which protein differ? LociBase.json → pick out the relevant proteins and do pairwise alignments. How similar are equal serotypes and how different are different serotypes? similarities between old and new dataset?\n",
    "\n",
    "- **RBP clustering and exploration**: do the RBPs pointing to one serotype cluster together? I.e. are the RBPs within a serotype more similar then the RBPs between serotypes? This is what you should indeed expect right?! Zijn er specifieke clusters die dicht bij elkaar liggen → leert het model daartussen extrapoleren → specifieke evaluatie daarvoor. Identical RBPs that map to different loci?! Are those loci the same serotype?! construct circos graphs visualizing the N- or C-terminal combinations in the different species. Visually, this answers the question of how modules are related within and accross the species (which building blocks are shared. RBPs between old and new data → do we have identicals across data?\n",
    "\n",
    "If both mostly cluster by sero, we would expect that to be a predictive signal."
   ]
  },
  {
   "cell_type": "markdown",
   "metadata": {},
   "source": [
    "## Libraries & file paths"
   ]
  },
  {
   "cell_type": "code",
   "execution_count": 2,
   "metadata": {},
   "outputs": [],
   "source": [
    "import math\n",
    "#import umap\n",
    "import subprocess\n",
    "import numpy as np\n",
    "import pandas as pd\n",
    "import seaborn as sns\n",
    "import networkx as nx\n",
    "import explore_utils as exu\n",
    "import matplotlib.pyplot as plt\n",
    "from Bio import SeqIO\n",
    "from Bio.Seq import Seq\n",
    "#from chord import Chord\n",
    "from tqdm.notebook import tqdm\n",
    "from plots2 import CircosPlot\n",
    "%matplotlib inline"
   ]
  },
  {
   "cell_type": "code",
   "execution_count": 3,
   "metadata": {},
   "outputs": [],
   "source": [
    "valencia_dir = '/Users/dimi/GoogleDrive/PhD/4_PHAGEHOST_LEARNING/42_DATA/Valencia_data' # general directory\n",
    "data_suffix = 'Valencia' # choose a suffix for the created data files\n",
    "cdpath = '/Users/dimi/cd-hit-v4.8.1-2019-0228'\n",
    "psicdpath = '/Users/dimi/cd-hit-v4.8.1-2019-0228/psi-cd-hit'\n",
    "clustalpath = '/Users/dimi/GoogleDrive/PhD/3_PHAGEBASE/32_DATA/RBP_detection/clustalo'"
   ]
  },
  {
   "cell_type": "markdown",
   "metadata": {},
   "source": [
    "## K-loci exploration"
   ]
  },
  {
   "cell_type": "code",
   "execution_count": 31,
   "metadata": {},
   "outputs": [],
   "source": [
    "# do CD-HIT-EST clustering\n",
    "file = valencia_dir+'/kaptive_results_all_loci.fasta'\n",
    "output = valencia_dir+'/loci_exploration/loci_clusters'+data_suffix+'80%'\n",
    "out, err = exu.cdhit_est_python(cdpath, file, output, c=0.80, n=5)"
   ]
  },
  {
   "cell_type": "raw",
   "metadata": {},
   "source": [
    "# DOES NOT WORK: do PSI-CD-HIT clustering at lower thresholds\n",
    "file = valencia_dir+'/kaptive_results_all_loci.fasta'\n",
    "output = valencia_dir+'/loci_exploration/loci_clusters'+data_suffix+'50%'\n",
    "out, err = exu.psi_cdhit_python(psicdpath, file, output, c=0.50)"
   ]
  },
  {
   "cell_type": "raw",
   "metadata": {},
   "source": [
    "out"
   ]
  },
  {
   "cell_type": "code",
   "execution_count": 38,
   "metadata": {},
   "outputs": [],
   "source": [
    "# load results and process\n",
    "output = valencia_dir+'/loci_exploration/loci_clusters'+data_suffix+'80%'\n",
    "clusters = open(output+'.clstr')\n",
    "cluster_iter = 0\n",
    "cluster_dict = {} # cluster number: [accessions]\n",
    "percentages = []\n",
    "for line in clusters.readlines():\n",
    "    # new cluster\n",
    "    if line[0] == '>':\n",
    "        name = line[1:-1]\n",
    "        cluster_dict[name] = []\n",
    "        cluster_iter += 1   \n",
    "    # in a cluster\n",
    "    else:\n",
    "        acc = line.split('>')[1].split('...')[0] # get accession\n",
    "        cluster_dict[name].append(acc)\n",
    "        try:\n",
    "            percentage = line.split('at +/')[1].split('%')[0] # get percentage identity in cluster\n",
    "            percentages.append(percentage)\n",
    "        except:\n",
    "            pass"
   ]
  },
  {
   "cell_type": "code",
   "execution_count": 40,
   "metadata": {
    "scrolled": false
   },
   "outputs": [
    {
     "data": {
      "text/plain": [
       "{'Cluster 0': ['K50'],\n",
       " 'Cluster 1': ['K4'],\n",
       " 'Cluster 2': ['K65'],\n",
       " 'Cluster 3': ['K5'],\n",
       " 'Cluster 4': ['K14', 'K14', 'K14', 'K14', 'K14'],\n",
       " 'Cluster 5': ['K64', 'K64', 'K64'],\n",
       " 'Cluster 6': ['K7', 'K7'],\n",
       " 'Cluster 7': ['K80'],\n",
       " 'Cluster 8': ['K64'],\n",
       " 'Cluster 9': ['K41'],\n",
       " 'Cluster 10': ['unknown (KL128)', 'unknown (KL128)'],\n",
       " 'Cluster 11': ['K6'],\n",
       " 'Cluster 12': ['K33'],\n",
       " 'Cluster 13': ['unknown (KL108)'],\n",
       " 'Cluster 14': ['K58'],\n",
       " 'Cluster 15': ['K39'],\n",
       " 'Cluster 16': ['K12', 'K12'],\n",
       " 'Cluster 17': ['K66'],\n",
       " 'Cluster 18': ['unknown (KL105)', 'unknown (KL105)', 'unknown (KL105)'],\n",
       " 'Cluster 19': ['K16', 'K16', 'K16', 'K16', 'K16'],\n",
       " 'Cluster 20': ['K3', 'K3', 'K3'],\n",
       " 'Cluster 21': ['unknown (KL158)'],\n",
       " 'Cluster 22': ['K60'],\n",
       " 'Cluster 23': ['K35'],\n",
       " 'Cluster 24': ['K31', 'K31', 'K31'],\n",
       " 'Cluster 25': ['K35', 'K35'],\n",
       " 'Cluster 26': ['K42'],\n",
       " 'Cluster 27': ['K13', 'K13', 'K13', 'K13', 'K13', 'K13', 'K13', 'K13'],\n",
       " 'Cluster 28': ['K10', 'K10'],\n",
       " 'Cluster 29': ['K62'],\n",
       " 'Cluster 30': ['unknown (KL153)'],\n",
       " 'Cluster 31': ['unknown (KL110)'],\n",
       " 'Cluster 32': ['unknown (KL146)'],\n",
       " 'Cluster 33': ['K30'],\n",
       " 'Cluster 34': ['K30'],\n",
       " 'Cluster 35': ['K21', 'K21'],\n",
       " 'Cluster 36': ['K26'],\n",
       " 'Cluster 37': ['unknown (KL103)', 'unknown (KL107)', 'unknown (KL103)'],\n",
       " 'Cluster 38': ['K43'],\n",
       " 'Cluster 39': ['K46', 'K46', 'K46', 'K46'],\n",
       " 'Cluster 40': ['K74', 'K74'],\n",
       " 'Cluster 41': ['unknown (KL127)'],\n",
       " 'Cluster 42': ['unknown (KL122)'],\n",
       " 'Cluster 43': ['K68'],\n",
       " 'Cluster 44': ['K39', 'K39', 'K39', 'K39'],\n",
       " 'Cluster 45': ['unknown (KL140)'],\n",
       " 'Cluster 46': ['unknown (KL140)', 'unknown (KL140)', 'unknown (KL140)'],\n",
       " 'Cluster 47': ['unknown (KL151)', 'unknown (KL151)', 'unknown (KL151)'],\n",
       " 'Cluster 48': ['K39'],\n",
       " 'Cluster 49': ['K63'],\n",
       " 'Cluster 50': ['K36', 'K36', 'K36', 'K36', 'K36', 'K36', 'K36'],\n",
       " 'Cluster 51': ['K63'],\n",
       " 'Cluster 52': ['unknown (KL157)'],\n",
       " 'Cluster 53': ['K18'],\n",
       " 'Cluster 54': ['K56'],\n",
       " 'Cluster 55': ['K1', 'K1', 'K1', 'K1'],\n",
       " 'Cluster 56': ['K19', 'K19'],\n",
       " 'Cluster 57': ['K24', 'K24', 'K24', 'K24'],\n",
       " 'Cluster 58': ['K32'],\n",
       " 'Cluster 59': ['K1'],\n",
       " 'Cluster 60': ['unknown (KL139)', 'unknown (KL139)'],\n",
       " 'Cluster 61': ['unknown (KL107)', 'K19'],\n",
       " 'Cluster 62': ['K61'],\n",
       " 'Cluster 63': ['K9'],\n",
       " 'Cluster 64': ['K54'],\n",
       " 'Cluster 65': ['K81'],\n",
       " 'Cluster 66': ['K62', 'K62', 'K62'],\n",
       " 'Cluster 67': ['K44'],\n",
       " 'Cluster 68': ['K38', 'K38', 'K38'],\n",
       " 'Cluster 69': ['unknown (KL107)', 'unknown (KL136)'],\n",
       " 'Cluster 70': ['unknown (KL112)', 'unknown (KL112)', 'unknown (KL112)'],\n",
       " 'Cluster 71': ['K17'],\n",
       " 'Cluster 72': ['K17', 'K17', 'K17', 'K17', 'K17'],\n",
       " 'Cluster 73': ['K2', 'K2', 'K2'],\n",
       " 'Cluster 74': ['K2'],\n",
       " 'Cluster 75': ['unknown (KL105)'],\n",
       " 'Cluster 76': ['K55'],\n",
       " 'Cluster 77': ['K57', 'K57'],\n",
       " 'Cluster 78': ['K49'],\n",
       " 'Cluster 79': ['unknown (KL151)'],\n",
       " 'Cluster 80': ['K47'],\n",
       " 'Cluster 81': ['K20', 'K20', 'K20', 'K20'],\n",
       " 'Cluster 82': ['K59'],\n",
       " 'Cluster 83': ['unknown (KL149)'],\n",
       " 'Cluster 84': ['K29'],\n",
       " 'Cluster 85': ['K51', 'K51', 'K51', 'K51'],\n",
       " 'Cluster 86': ['unknown (KL125)', 'unknown (KL125)', 'unknown (KL125)'],\n",
       " 'Cluster 87': ['unknown (KL126)'],\n",
       " 'Cluster 88': ['K22', 'K37', 'K37', 'K22'],\n",
       " 'Cluster 89': ['K27', 'K27', 'K27', 'K27', 'K27'],\n",
       " 'Cluster 90': ['K82'],\n",
       " 'Cluster 91': ['K15', 'K15', 'K15'],\n",
       " 'Cluster 92': ['unknown (KL111)'],\n",
       " 'Cluster 93': ['K11'],\n",
       " 'Cluster 94': ['unknown (KL134)'],\n",
       " 'Cluster 95': ['K34'],\n",
       " 'Cluster 96': ['K8'],\n",
       " 'Cluster 97': ['unknown (KL102)',\n",
       "  'unknown (KL102)',\n",
       "  'unknown (KL102)',\n",
       "  'unknown (KL102)',\n",
       "  'unknown (KL102)'],\n",
       " 'Cluster 98': ['unknown (KL117)'],\n",
       " 'Cluster 99': ['unknown (KL107)'],\n",
       " 'Cluster 100': ['K25', 'K25', 'K25', 'K25', 'K25'],\n",
       " 'Cluster 101': ['unknown (KL114)'],\n",
       " 'Cluster 102': ['K61'],\n",
       " 'Cluster 103': ['K5']}"
      ]
     },
     "execution_count": 40,
     "metadata": {},
     "output_type": "execute_result"
    }
   ],
   "source": [
    "# process clusters to assess diversity\n",
    "#cluster_dict = {key: cluster_dict[key] for key in cluster_dict.keys() if len(cluster_dict[key]) > 1}\n",
    "cluster_seros = {}\n",
    "percentages = [float(i) for i in percentages]\n",
    "\n",
    "file = valencia_dir+'/kaptive_results_all_loci.fasta'\n",
    "names = [record.id for record in SeqIO.parse(file, 'fasta')]\n",
    "seros = pd.read_csv(valencia_dir+'/serotypesValencia.csv')\n",
    "seros = list(seros['sero'])\n",
    "\n",
    "for key in cluster_dict.keys():\n",
    "    cluster_seros[key] = [seros[names.index(value)] for value in cluster_dict[key]]\n",
    "cluster_seros"
   ]
  },
  {
   "cell_type": "code",
   "execution_count": 41,
   "metadata": {},
   "outputs": [],
   "source": [
    "# select key if not all items in list are identical -> go to cluster_dict and check the genome names \n",
    "# -> write those to files per cluster to process in mauve\n",
    "mixed_clusters = {key: cluster_dict[key] for key in cluster_seros.keys() if len(list(set(cluster_seros[key]))) > 1}\n",
    "all_loci_file = valencia_dir+'/kaptive_results_all_loci.fasta'\n",
    "\n",
    "for key in mixed_clusters.keys():\n",
    "    fasta_file = open(valencia_dir+'/loci_exploration/loci_'+key+'.fasta', 'w')\n",
    "    sequences = [str(record.seq) for record in SeqIO.parse(all_loci_file, 'fasta') if record.id in mixed_clusters[key]]\n",
    "    for i, sequence in enumerate(sequences):\n",
    "        fasta_file.write('>'+mixed_clusters[key][i]+'\\n'+sequence+'\\n')\n",
    "    fasta_file.close()"
   ]
  },
  {
   "cell_type": "code",
   "execution_count": 24,
   "metadata": {},
   "outputs": [
    {
     "data": {
      "text/plain": [
       "{'Cluster 37': ['HGV2_430', '806', 'KP_HGUA02_099'],\n",
       " 'Cluster 61': ['Kpcas091', '242KP-HG'],\n",
       " 'Cluster 69': ['HGV2_429', 'KP_HGUA03_108'],\n",
       " 'Cluster 88': ['ERS715468', 'ERS799798', '255KP-HG', '1210']}"
      ]
     },
     "execution_count": 24,
     "metadata": {},
     "output_type": "execute_result"
    }
   ],
   "source": [
    "mixed_clusters"
   ]
  },
  {
   "cell_type": "code",
   "execution_count": null,
   "metadata": {},
   "outputs": [],
   "source": [
    "# go to LociBase.json and check their proteins for pairwise alignments\n",
    "# ..."
   ]
  },
  {
   "cell_type": "code",
   "execution_count": null,
   "metadata": {},
   "outputs": [],
   "source": [
    "# plot identity percentages\n",
    "fig, ax = plt.subplots(figsize=(10,8))\n",
    "ax.hist(percentages, bins=50)\n",
    "ax.set_xlabel('identity percentage')\n",
    "ax.set_ylabel('occurrence')"
   ]
  },
  {
   "cell_type": "markdown",
   "metadata": {},
   "source": [
    "### Literature\n",
    "\n",
    "From Wyres (2016), we notice that different K-loci predominantly differ in their wzc gene (same K-loci always around 99-95% id, different K-loci around 80-75% id); although this solely does not sketch the complete picture.\n",
    "\n",
    "### Results clustering at 90%\n",
    "\n",
    "Clustering the 196 K-loci at 90% yields 115 different clusters. By itself, this indicates that there is a somewhat good diversity among the collected strains. This is also seen in the Kaptive serotype/CLT predictions: we see many different K-types occurring (how many?). \n",
    "\n",
    "Of the clusters at 90% with more than one member, we see serotypes clustering together perfectly, as we would expect. Definitively if you look at the very high identity percentage within the clusters, it would be surprising to see different K-types in the same cluster. This doesn't answer the question however if all serotypes are present in those clusters, most likely not and so there are even bigger differences that still make it to the same K-type (but how much of a difference?).\n",
    "\n",
    "For specificity predictions, we would now be interested in how much the different clusters are different from one another, and where? (so we basically ask: how do K-types differ from one another?)\n",
    "\n",
    "**Similarities between old and new dataset?** We see that both cluster together just as you would expect by K-type, we also even see some exactly identical loci at the DNA level: (ERS659578, ERS659577), (1446, CU276, CU293), (KP_HGE01_029, HGV2C_11), (Kpcas042, HAV1_14, 102KP-HG), (HGV2C_08, NTUH), (159KP-HG, 268KP-HG), (HCV1_33, KP_HGUA02_092), (48KP-HG, 34KP-HG), (CU443, HGV2_418, CU448, CU451). Follow-ups: do these have identical infection patterns? If not, are they different at protein level?\n",
    "\n",
    "**How much variation is there?** So far, we see both equal K-types being very similar as well as more than 10% different, and different K-types all more than 10% different.\n",
    "\n",
    "**which differences lead to differences in K-type?** So far, we're seeing that only differences below 90% similarity potentially lead to differences in K-type! At least were seeing that small differences don't lead to differences in K-type, which is good in terms of our feature engineering approach. If not, maybe subtle diffs in one or a few proteins could be important, and we would have to tailor our features to that.\n",
    "\n",
    "**How similar are equal serotypes and how different are different serotypes?** What we are seeing do far is that equal serotypes are +90% identical, often +95%, and different K-loci are less then 90% identical. From the percentages histogram, we can see that all equal K-loci cluster (we only had equal ones) are more than 90% identical, and actually most of them are +99% identical!\n",
    "\n",
    "**how much variation between clusters?** Depends on what threshold you cluster of course!\n",
    "\n",
    "### Results clustering at 80%\n",
    "\n",
    "Let's redo the clustering but now at 80% to see if the K-types in unique clusters now get added to the clusters that were already establshed at 90%.\n",
    "\n",
    "At first sight, at 80% we do see a few more loci clustering together, but not a lot more either. Let's process the results and see how it relates to K-type. We see that of the 104 clusters, now 4 of them contain two different K-types:\n",
    "\n",
    "'Cluster 37': ['HGV2_430', '806', 'KP_HGUA02_099'], 'Cluster 61': ['unknown (KL107)', 'K19'] = ['Kpcas091', '242KP-HG'], 'Cluster 69': ['unknown (KL107)', 'unknown (KL136)'] = ['HGV2_429', 'KP_HGUA03_108'], 'Cluster 88': ['K22', 'K37', 'K37', 'K22'] = ['ERS715468', 'ERS799798', '255KP-HG', '1210']\n",
    "\n",
    "**where do they differ, how much variation is there?** Cluster 88 was expected from literature, Wyres also pointing this out that K22 and K37 differ only due to point mutation causing an early stop codon. Mauve also points this out: both K37 K-type sequences are a little shorter. Both K22 sequences contain a extra piece at the end of the locus. Mauve points out that the different K-types in Cluster 37 might be an artifact. More specifically, '806' loci is not complete, and thus points to KL107 but this might be false as it is an incomplete locus. Cluster 61 seems to be quite diverse, both entries miss a significant portion, more specifically 242KP-HG possesses a ~8000bp 5' part and a terminal part at 24000 bp that are not present in Kpcas091, while Kpcas091 possesses a small extra piece around 14000-15000 bp. For Cluster 69, we see the same observation as Cluster 61, but in a more extreme way, two large pieces of DNA are not shares between both entries. Might indicate incomplete locus. Strange though that CD-hit than clusters these together at 80%, while Mauve indicates the difference is actually much larger. Probably aligns / computes identity to the shortest sequence?\n",
    "\n",
    "**which differences lead to differences in K-type? Which proteins differ there?** As it seems from Mauve, corresponding proteins differ only a little, but the big differences are actually added/missing pieces of DNA, so extra proteins that lead to another K-type specificity.\n",
    "\n",
    "Overall, these results confirm our hypothesis that loci's cluster by K-type (accross the two datasets) and show that different K-types mostly differ significantly (not subtly), so we would assume that a global feature representation taking into account all of the proteins would be a good representation.\n",
    "\n",
    "### Results in the context of papers Wyres, Beamud, Lam, Wick\n",
    "\n",
    "What literature describes is that mostly the start and the end of loci regions is conserved, and the core region is the capsule-sugar-specific region that differs. Our results indicate that these differences must be larger than 10% identity, as they would otherwise cluster together (except for K22-K37 as described earlier).\n",
    "\n",
    "As Lam et al (2021) say: \"Comparison of the K loci of the 77 original capsule serotype reference strains showed that all but two could be distinguished by a unique combination of genes in the centre of the locus\". This is further confirmed by our results. -> no subtle differences lead to different K-type."
   ]
  },
  {
   "cell_type": "markdown",
   "metadata": {},
   "source": [
    "### Linked RBPs to cluster 88\n",
    "\n",
    "**linked RBPs for each cluster: do an MSA to see their similarity within a cluster.** One final thing that would be interesting to check out is how the RBPs linked to cluster 88 are similar or different. To do so, we need to check out the phages that are linked to these bacterial entries and select their RBPs for pairwise alignment."
   ]
  },
  {
   "cell_type": "code",
   "execution_count": 45,
   "metadata": {},
   "outputs": [],
   "source": [
    "# look at linked RBPs in cluster 88 to see how they differ\n",
    "RBPbase = pd.read_csv(valencia_dir+'/RBPbase'+data_suffix+'.csv')\n",
    "interactions = pd.read_csv(valencia_dir+'/phage_host_interactionsValencia.csv', index_col=0)\n",
    "\n",
    "# get all the linked phages\n",
    "phage_names = []\n",
    "for item in mixed_clusters['Cluster 88']:\n",
    "    phage_names = phage_names + list(interactions.loc[item][interactions.loc[item]== 1].index)\n",
    "    \n",
    "# get all their RBPs and write to fasta\n",
    "temp_fasta = open(valencia_dir+'/loci_exploration/RBP_sequences_cluster88.fasta', 'w')\n",
    "for i, phage_id in enumerate(RBPbase['phage_ID']):\n",
    "    if phage_id in phage_names:\n",
    "        temp_fasta.write('>'+RBPbase['protein_ID'][i]+'\\n'+RBPbase['protein_sequence'][i]+'\\n')\n",
    "temp_fasta.close()"
   ]
  },
  {
   "cell_type": "code",
   "execution_count": null,
   "metadata": {},
   "outputs": [],
   "source": [
    "# cluster the linked RBPs\n",
    "input_fasta = valencia_dir+'/loci_exploration/RBP_sequences_cluster88.fasta'\n",
    "output = valencia_dir+'/loci_exploration/RBP_clusters_loci_Cluster88'\n",
    "out, err = exu.cdhit_python(cdpath, input_fasta, output, c=0.50, n=3)"
   ]
  },
  {
   "cell_type": "code",
   "execution_count": 3,
   "metadata": {},
   "outputs": [],
   "source": [
    "# clustal omega\n",
    "input_fasta = valencia_dir+'/loci_exploration/RBP_sequences_cluster88.fasta'\n",
    "output_file = valencia_dir+'/loci_exploration/RBPs_cluster88_alignment.fa'\n",
    "out, err = exu.clustalo_python(clustalpath, input_fasta, output_file, out_format='fa')"
   ]
  },
  {
   "cell_type": "markdown",
   "metadata": {},
   "source": [
    "### Results linked RBPs\n",
    "\n",
    "From what we can see in cluster 88: ['K22', 'K37', 'K37', 'K22'] = ['ERS715468', 'ERS799798', '255KP-HG', '1210'], we have two samples from the old dataset and two of the new dataset.\n",
    "Although we don't have the genomes for the corresponding phages in the old part of the dataset, looking at the interaction matrix we see exactly the same pattern as in the new dataset. All of these phages have 2 distinct RBPs and target two different K-types. Most logically, each of the RBPs targets one of the K-types, but honestly we cannot be sure about that. Perhaps one of both is broad enough to infect both K-types and the second RBP is non-functional...\n",
    "\n",
    "If the first hypothesis is correct, we see that diverse RBPs (< 50% identical, otherwise all in the same cluster), target similar but different K-types -> see likes dissolve likes concept in 2D\n",
    "\n",
    "There is one other phage in the clustering: M5b, this one ALSO targets both '255KP-HG' and '1210' although it has NO RBP in the 2nd cluster! Either:\n",
    "\n",
    "1) only RBP cluster 1 is responsible for infecting both K-types (m5b has an RBP in it)\n",
    "\n",
    "2) RBP cluster 1 infects one of both, cluster 2 the other and m5b uses yet another RBP for the second K-type\n",
    "\n",
    "In both cases, this does not seem to indicate that subtle diffs are important. One of our hypothesis is that if similar RBPs bind to different/diverse loci, than subtle differences are important. But here we might have exactly the same RBP responsible for binding to two similar loci, which is a different thing.\n",
    "\n",
    "The MSA doesn't shed much extra light, indeed clusters 1 and 2 both have very similar RBPs in them, but it is still a mistery as to whether one of the other RBP clusters is involved in the specificity towards one of the K-types."
   ]
  },
  {
   "cell_type": "markdown",
   "metadata": {},
   "source": [
    "### Similar loci relate to similar RBPs?\n",
    "\n",
    "We look at this unrelated to K-type, just looking at similar loci at the DNA level, and how they are linked to RBPs that might or might not also be similar."
   ]
  },
  {
   "cell_type": "code",
   "execution_count": 19,
   "metadata": {},
   "outputs": [],
   "source": [
    "# load cluster results and process\n",
    "output = valencia_dir+'/loci_exploration/loci_clusters'+data_suffix+'90%'\n",
    "clusters = open(output+'.clstr')\n",
    "cluster_iter = 0\n",
    "cluster_dict = {} # cluster number: [accessions]\n",
    "percentages = []\n",
    "for line in clusters.readlines():\n",
    "    # new cluster\n",
    "    if line[0] == '>':\n",
    "        name = line[1:-1]\n",
    "        cluster_dict[name] = []\n",
    "        cluster_iter += 1   \n",
    "    # in a cluster\n",
    "    else:\n",
    "        acc = line.split('>')[1].split('...')[0] # get accession\n",
    "        cluster_dict[name].append(acc)\n",
    "        try:\n",
    "            percentage = line.split('at +/')[1].split('%')[0] # get percentage identity in cluster\n",
    "            percentages.append(percentage)\n",
    "        except:\n",
    "            pass"
   ]
  },
  {
   "cell_type": "code",
   "execution_count": 20,
   "metadata": {},
   "outputs": [],
   "source": [
    "# filter for clusters with more than 5 loci in them\n",
    "cluster_dict = {key: cluster_dict[key] for key in cluster_dict.keys() if len(cluster_dict[key]) >= 5}"
   ]
  },
  {
   "cell_type": "code",
   "execution_count": 22,
   "metadata": {},
   "outputs": [],
   "source": [
    "# look at linked RBPs to see how they differ\n",
    "RBPbase = pd.read_csv(valencia_dir+'/RBPbase'+data_suffix+'.csv')\n",
    "interactions = pd.read_csv(valencia_dir+'/phage_host_interactionsValencia.csv', index_col=0)\n",
    "\n",
    "# get all the linked phages\n",
    "for cluster in cluster_dict.keys():\n",
    "    # get all the linked phages\n",
    "    phage_names = [list(interactions.loc[item][interactions.loc[item] == 1].index) for item in cluster_dict[cluster]]\n",
    "    phage_names = sum(phage_names, []) # merge list of lists\n",
    "    \n",
    "    # get all their RBPs and write to fasta\n",
    "    temp_fasta = open(valencia_dir+'/loci_exploration/RBP_sequences_'+cluster.replace(' ', '')+'.fasta', 'w')\n",
    "    for i, phage_id in enumerate(RBPbase['phage_ID']):\n",
    "        if phage_id in phage_names:\n",
    "            temp_fasta.write('>'+RBPbase['protein_ID'][i]+'\\n'+RBPbase['protein_sequence'][i]+'\\n')\n",
    "    temp_fasta.close()"
   ]
  },
  {
   "cell_type": "code",
   "execution_count": 23,
   "metadata": {},
   "outputs": [],
   "source": [
    "# cluster the linked RBPs\n",
    "for cluster in cluster_dict.keys():\n",
    "    input_fasta = valencia_dir+'/loci_exploration/RBP_sequences_'+cluster.replace(' ', '')+'.fasta'\n",
    "    output = valencia_dir+'/loci_exploration/RBP_clusters_loci_'+cluster.replace(' ', '')\n",
    "    out, err = exu.cdhit_python(cdpath, input_fasta, output, c=0.50, n=3)"
   ]
  },
  {
   "cell_type": "markdown",
   "metadata": {},
   "source": [
    "### Results linked RBPs to similar loci clusters at 90%\n",
    "\n",
    "After clustering the RBPs linked to each 90% loci cluster at 50%, we see several things:\n",
    "- Cluster 21: the RBPs don't cluster together at all. Although this concerns only 3 distinct phages, none of their predicted RBPs cluster together, indicating that dissimilar RBPs can target similar loci! Given that the RBPs are well predicted.\n",
    "- Cluster 30, 54: hard to say. We do see very similar RBPs clustering together, but can't say if they are effectively targeting the loci in that cluster. One possible scenario is that each small cluster of very similar RBPs targets one of the similar loci in the cluster. But even then the observation stands that overall, dissimilar RBPs can target similar loci.\n",
    "- Cluster 76: two phages of the old dataset, 5 RBPs, all in different clusters. This is hard to interpret as well because for all of the loci present in this cluster that are from the new dataset, we don't have any positive linked phages. We only have these two phages of the old dataset, linked to 1 of the 5 loci in this cluster. This thus only concludes that two different phages can have diverse RBPs and still target the same locus.\n",
    "- Cluster 104: similar RBPs, similar loci to some extent.\n",
    "- Cluster 107: again, dissimilar RBPs target similar loci -> this actually can also indicate that the phage doesn't target the loci at all, that we have diverse RBPs targeting something other than the locus!\n",
    "\n",
    "\n",
    "This would be a lot easier to study specifically for the monoRBP phages, i.e. looking at phages that only have one RBP, clustering their linked loci and then repeating the analysis to see if each loci cluster contains similar RBPs."
   ]
  },
  {
   "cell_type": "markdown",
   "metadata": {},
   "source": [
    "### Other general exploration"
   ]
  },
  {
   "cell_type": "code",
   "execution_count": null,
   "metadata": {},
   "outputs": [],
   "source": [
    "# serotype occurrences histogram\n",
    "import seaborn as sns\n",
    "seros = pd.read_csv(valencia_dir+'/serotypes'+data_suffix+'.csv')\n",
    "seros_dict = {key: list(seros['sero']).count(key) for key in unique_seros}\n",
    "fig, ax = plt.subplots(figsize=(10, 14))\n",
    "ax = sns.countplot(y=\"sero\", data=seros, order = seros['sero'].value_counts().index)\n",
    "fig.savefig('/Users/Dimi/Desktop/serotype_occurrences.png', dpi=400)"
   ]
  },
  {
   "cell_type": "code",
   "execution_count": null,
   "metadata": {},
   "outputs": [],
   "source": [
    "# number of proteins per locus\n",
    "protein_number = [len(Locibase[key]) for key in Locibase.keys()]\n",
    "fig, ax = plt.subplots(figsize=(10,8))\n",
    "ax.hist(protein_number)\n",
    "ax.set_xlabel('Number of proteins')\n",
    "ax.set_ylabel('Number of occurrences')\n",
    "fig.savefig('/Users/Dimi/Desktop/number_of_proteins_per_loci.png', dpi=400)"
   ]
  },
  {
   "cell_type": "markdown",
   "metadata": {},
   "source": [
    "## RBP clustering exploration"
   ]
  },
  {
   "cell_type": "code",
   "execution_count": 4,
   "metadata": {},
   "outputs": [],
   "source": [
    "# load appropriate files\n",
    "RBPbase = pd.read_csv(valencia_dir+'/RBPbase'+data_suffix+'.csv')\n",
    "interactions = pd.read_csv(valencia_dir+'/phage_host_interactionsValencia.csv', index_col=0)\n",
    "\n",
    "file = valencia_dir+'/kaptive_results_all_loci.fasta'\n",
    "names = [record.id for record in SeqIO.parse(file, 'fasta')]\n",
    "seros = pd.read_csv(valencia_dir+'/serotypesValencia.csv')\n",
    "seros = list(seros['sero'])\n",
    "\n",
    "# add seros column to RBPbase\n",
    "RBP_seros = {'linked_seros': []}\n",
    "for i, phage_id in enumerate(RBPbase['phage_ID']):\n",
    "    linked_hosts = list(interactions[phage_id][interactions[phage_id]==1].index)\n",
    "    linked_seros = []\n",
    "    for host in linked_hosts:\n",
    "        try:\n",
    "            linked_seros.append(seros[names.index(host)])\n",
    "        except:\n",
    "            pass\n",
    "    RBP_seros['linked_seros'].append(list(set(linked_seros)))\n",
    "RBPbase_withseros = pd.concat([RBPbase, pd.DataFrame(RBP_seros)], axis=1)"
   ]
  },
  {
   "cell_type": "code",
   "execution_count": 46,
   "metadata": {},
   "outputs": [],
   "source": [
    "# write RBPs to fasta file\n",
    "input_file = valencia_dir+'/rbp_exploration/RBPbase'+data_suffix+'.fasta'\n",
    "temp_fasta = open(input_file, 'w')\n",
    "for i, protein_sequence in enumerate(RBPbase_withseros['protein_sequence']):\n",
    "    name = RBPbase_withseros['protein_ID'][i]\n",
    "    linked_seros = ''.join(RBPbase_withseros['linked_seros'][i])\n",
    "    temp_fasta.write('>'+name+'-'+linked_seros+'\\n'+protein_sequence+'\\n')\n",
    "temp_fasta.close()\n",
    "    \n",
    "# do cd-hit clustering\n",
    "# n=5 for c=0.7-1.0; n=3 for c=0.5-0.6\n",
    "output_file = valencia_dir+'/rbp_exploration/RBPbase_clusters_50%'\n",
    "out, err = exu.cdhit_python(cdpath, input_file, output_file, c=0.50, n=3)"
   ]
  },
  {
   "cell_type": "markdown",
   "metadata": {},
   "source": [
    "### Results RBP clustering at 50%\n",
    "\n",
    "At 50%, we see 118 clusters formed by the 266 RBPs. At 50%, we still see 74 RBPs that don't cluster together with anything else, which indicates a lot of diversity in our RBPs (although not all of them may be true positives of course!).\n",
    "\n",
    "Looking at the clusters, we both see diverse clusters (e.g. clustering ar around 50-55%) as well as highly identical clusters (+90%). The difficulty in interpreting these clusters is that phages may have multiple RBPs and targeting multiple K-types, thus we don't know which RBP leads to which K-type. One thing we do already see is that some highly similar RBPs target different clusters (e.g. cluster 40), indicating that subtle differences are important for diverse specificity OR that these highly similar RBPs actually target something that is K-type independent. -> although we would only expect this in a minority of the cases for phages that are broad (if it is K-type independent, we expect this phage to infect broadly). and we don't see that in the sero labeling we have added, so are first hypothesis seems more likely to be true.\n",
    "\n",
    "We also see the clusters with A1x phages targeting K22 and K37 that we have encountered in the loci clustering. Here we also see two clusters that seem highly identical and targeting two or multiple K-types.\n",
    "\n",
    "Clusters 63, 69: these seems to be clusters that are K-type independent.\n",
    "\n",
    "**do the RBPs pointing to one K-type cluster together? I.e. are the RBPs within a K-type more similar then the RBPs between K-types?** Overall, we see that both subtle diffs and larger (20-30%) diffs can lead to differences in K-type. So, no overall RBPs don't *solely* cluster together on K-type (they do but even across different ones)\n",
    "\n",
    "**Identical RBPs that map to different loci?! Are those loci the same serotype?!** We also only see two identical RBPs, in cluster 113: K18PH07C1_gp91 and K45PH128C2_gp137 targeting different K-types! This might be a false correlation, i.e. there might be other RBPs involved in those phages that lead to difference K-type specificity.\n",
    "\n",
    "**RBPs between old and new data → do we have identicals across data?** We don't see any identicals across our two datasets."
   ]
  },
  {
   "cell_type": "markdown",
   "metadata": {},
   "source": [
    "### ClustalOmega MSAs to see subtle differences"
   ]
  },
  {
   "cell_type": "code",
   "execution_count": 120,
   "metadata": {},
   "outputs": [],
   "source": [
    "# process clusters into dictionaries\n",
    "clusters = open(valencia_dir+'/rbp_exploration/RBPbase_clusters_50%.clstr')\n",
    "cluster_dict = {} # cluster number: [accessions]\n",
    "percentages_dict = {} # cluster number: [percentages]\n",
    "for line in clusters.readlines():\n",
    "    # new cluster\n",
    "    if line[0] == '>':\n",
    "        name = line[1:-1]\n",
    "        cluster_dict[name] = []\n",
    "        percentages_dict[name] = []\n",
    "    # in a cluster\n",
    "    else:\n",
    "        protein_name = line.split('>')[1].split('-')[0] # get name\n",
    "        cluster_dict[name].append(protein_name)\n",
    "        try:\n",
    "            percentage = line.split('at ')[1].split('%')[0] # get percentage identity in cluster\n",
    "            percentages_dict[name].append(float(percentage))\n",
    "        except:\n",
    "            pass"
   ]
  },
  {
   "cell_type": "code",
   "execution_count": 140,
   "metadata": {},
   "outputs": [],
   "source": [
    "# write fasta files for MSAs\n",
    "fasta_names = []\n",
    "for cluster in cluster_dict.keys():\n",
    "    if len(cluster_dict[cluster]) >= 10:\n",
    "        fasta_name = valencia_dir+'/rbp_exploration/RBPs_'+cluster.replace(' ', '')+'.fasta'\n",
    "        fasta_names.append(fasta_name)\n",
    "        temp_fasta = open(fasta_name, 'w')\n",
    "        for pid in cluster_dict[cluster]:\n",
    "            sequence = list(RBPbase['protein_sequence'][RBPbase['protein_ID'] == pid])[0]\n",
    "            temp_fasta.write('>'+pid+'\\n'+sequence+'\\n')\n",
    "        temp_fasta.close()\n",
    "        \n",
    "# clustal omega\n",
    "for name in fasta_names:\n",
    "    output_file = name.split('.fasta')[0]+'_alignment.fa'\n",
    "    out, err = exu.clustalo_python(clustalpath, name, output_file, out_format='fa')"
   ]
  },
  {
   "cell_type": "code",
   "execution_count": 142,
   "metadata": {},
   "outputs": [
    {
     "data": {
      "text/plain": [
       "215    K16PH164C3\n",
       "216    K16PH164C3\n",
       "Name: phage_ID, dtype: object"
      ]
     },
     "execution_count": 142,
     "metadata": {},
     "output_type": "execute_result"
    }
   ],
   "source": [
    "RBPbase['phage_ID'][RBPbase['phage_ID'] == 'K16PH164C3']"
   ]
  },
  {
   "cell_type": "markdown",
   "metadata": {},
   "source": [
    "**how do diffs lead to different specificity?**\n",
    "\n",
    "Cluster 1 clustered at 51-61% identity and looking at the alignments in Jalview, we see that the N-termini are very conserved, while the C-termini (last ~300 AAs are much less conserved). A classical example in the phage world I would say.\n",
    "\n",
    "Cluster 30 clustered at 60-98% although this may give a wrong perception as the longest sequence was the representative here. Actually looking at the alignment unveils that most sequences are quite conserved overall, again the C-terminus being a little less conserved but here you might already say that subtle differences are probably important to take up into the feature representation.\n",
    "\n",
    "Cluster 40 clustered at 64-98%, mostly 90+% identical. Here, subtle diffs really make up the bulk of what makes every sequence in the cluster unique! Together with the linked seros, which are quite diverse, this really indicates that subtle differences can lead to a difference in specificity (given that we have correctly identified these sequences as RBPs of course!!). This supports the hypothesis that a feature representation tailored to these subtle differences might be important in trying to predict host specificity.\n",
    "\n",
    "Cluster 42 mainly clustered at around 84% and this is also what you see in the alignment. A small number of unique columns of AAs in the alignment show a lot less conservation, and you naturally wonder where these AAs specifically would be located in the 3D structure..."
   ]
  },
  {
   "cell_type": "markdown",
   "metadata": {},
   "source": [
    "**how many multiRBP systems target multiple serotypes?** From what Beamud (2022) saw, phages tend to have more depolymerases than they target different K-types, indicating either unused depos or missing K-types in the dataset, OR multiple depo's needed for one and the same K-type?\n",
    "\n",
    "To see this, we look at the number of RBPs a phage has and the number of unique sero's it targets and plot them together."
   ]
  },
  {
   "cell_type": "code",
   "execution_count": 103,
   "metadata": {},
   "outputs": [],
   "source": [
    "RBP_sero_counts = []\n",
    "for phage in list(set(RBPbase_withseros['phage_ID'])):\n",
    "    RBP_count = list(RBPbase_withseros['phage_ID']).count(phage)\n",
    "    unique_seros = list(set(sum(RBPbase_withseros['linked_seros'][RBPbase_withseros['phage_ID'] == phage], [])))\n",
    "    sero_count = len(unique_seros)\n",
    "    RBP_sero_counts.append((RBP_count, sero_count))\n",
    "occurrence = [RBP_sero_counts.count(x) for x in RBP_sero_counts]"
   ]
  },
  {
   "cell_type": "code",
   "execution_count": 106,
   "metadata": {
    "scrolled": false
   },
   "outputs": [
    {
     "data": {
      "text/plain": [
       "Text(0, 0.5, 'number of unique K-types')"
      ]
     },
     "execution_count": 106,
     "metadata": {},
     "output_type": "execute_result"
    },
    {
     "data": {
      "image/png": "[encoded data removed]",
      "text/plain": [
       "<Figure size 720x576 with 1 Axes>"
      ]
     },
     "metadata": {
      "needs_background": "light"
     },
     "output_type": "display_data"
    }
   ],
   "source": [
    "fig, ax = plt.subplots(figsize=(10,8))\n",
    "ax = sns.scatterplot(x=[i for (i,j) in RBP_sero_counts], y=[j for (i,j) in RBP_sero_counts], size=occurrence)\n",
    "ax.set_yticks(list(range(0,20,2)))\n",
    "ax.set_xlabel('number of RBPs')\n",
    "ax.set_ylabel('number of unique K-types')"
   ]
  },
  {
   "cell_type": "markdown",
   "metadata": {},
   "source": [
    "As we can see, a large chunck sits below the bissectrice, supporting Beamud's finding that there are more RBPs than unique serotypes that are infected. However, we also see exceptions to this in both directions: phages with multiple RBPs targeting (very) few K-types and phages with few RBPs targeting many K-types. The zero on the y-axis indicates that no K-type was found due to unavailable bacterial genome, so these are points that should not be interpreted.\n",
    "\n",
    "Outliers can be a problem. Its not directly the K-type that we predict, but we do incorporate the loci proteins in our features, so…"
   ]
  },
  {
   "cell_type": "markdown",
   "metadata": {},
   "source": [
    "## RBP puzzle: elucidating RBP-K links with bioinformatics\n",
    "\n",
    "In this section, we look at the links between RBPs and K-types, starting from the RBPs that have a 1:1 relationship with a K-type, i.e. phages with only 1 RBP targeting 1 K-type. Then, we cluster those sequences to generalize to phages with 2 RBPs infecting 2 K-types, and so on."
   ]
  },
  {
   "cell_type": "code",
   "execution_count": 5,
   "metadata": {},
   "outputs": [],
   "source": [
    "def single_pwalign_julia(project_dir, sequence1, sequence2, align_type):\n",
    "    \"\"\"\n",
    "    Returns the % identity score between two sequences.\n",
    "    \n",
    "    Remark: first run the alias command once in therminal to enable julia from command line!\n",
    "    \"\"\"\n",
    "    #alias_command = 'sudo ln -fs julia=\"/Applications/Julia-1.6.app/Contents/Resources/julia/bin/julia\" /usr/local/bin/julia'\n",
    "    cd_command = 'cd ' + project_dir\n",
    "    pw_command = 'julia single_pwalign.jl ' + sequence1 + ' ' + sequence2 + ' ' + align_type\n",
    "    command = cd_command + '; ' + pw_command\n",
    "\n",
    "    ssprocess = subprocess.Popen(command, shell=True, stdout=subprocess.PIPE, stderr=subprocess.STDOUT)\n",
    "    ssout, sserr = ssprocess.communicate()\n",
    "    \n",
    "    return float(ssout)"
   ]
  },
  {
   "cell_type": "code",
   "execution_count": null,
   "metadata": {},
   "outputs": [],
   "source": [
    "project_dir = '/Users/dimi/Documents/GitHub/PhageHostLearning/learning'\n",
    "results_dir = '/Users/dimi/GoogleDrive/PhD/4_PHAGEHOST_LEARNING/43_RESULTS/RBP_exploration'"
   ]
  },
  {
   "cell_type": "markdown",
   "metadata": {},
   "source": [
    "### Starting from 1:1 phages"
   ]
  },
  {
   "cell_type": "code",
   "execution_count": 11,
   "metadata": {},
   "outputs": [],
   "source": [
    "# get 1:1 RBPs\n",
    "index11 = []\n",
    "for i, phage in enumerate(RBPbase_withseros['phage_ID']):\n",
    "    linked_ser = RBPbase_withseros['linked_seros'][i]\n",
    "    if (list(RBPbase_withseros['phage_ID']).count(phage) == 1) and (len(linked_ser) == 1): # one RBP and one sero\n",
    "        index11.append(i)\n",
    "RBPs11 = RBPbase_withseros.iloc[index11]"
   ]
  },
  {
   "cell_type": "code",
   "execution_count": 24,
   "metadata": {},
   "outputs": [],
   "source": [
    "# get 2:1 RBPs\n",
    "index21 = []\n",
    "for i, phage in enumerate(RBPbase_withseros['phage_ID']):\n",
    "    linked_ser = RBPbase_withseros['linked_seros'][i]\n",
    "    if (list(RBPbase_withseros['phage_ID']).count(phage) == 2) and (len(linked_ser) == 1): # one RBP and one sero\n",
    "        index21.append(i)\n",
    "RBPs21 = RBPbase_withseros.iloc[index21]"
   ]
  },
  {
   "cell_type": "code",
   "execution_count": 62,
   "metadata": {},
   "outputs": [
    {
     "data": {
      "application/vnd.jupyter.widget-view+json": {
       "model_id": "915251476e6f4fb1b90f20ca8478fdab",
       "version_major": 2,
       "version_minor": 0
      },
      "text/plain": [
       "  0%|          | 0/80 [00:00<?, ?it/s]"
      ]
     },
     "metadata": {},
     "output_type": "display_data"
    }
   ],
   "source": [
    "verified21 = []\n",
    "scores = []\n",
    "bar = tqdm(total = len(RBPs11['protein_sequence'])*len(RBPs21['protein_sequence']))\n",
    "for i, protein11 in enumerate(RBPs11['protein_sequence']):\n",
    "    for j, protein21 in enumerate(RBPs21['protein_sequence']):\n",
    "        score = single_pwalign_julia(project_dir, protein11, protein21, 'protein')\n",
    "        scores.append(score)\n",
    "        if (score > 0.9) and (list(RBPs11['linked_seros'])[i][0] == list(RBPs21['linked_seros'])[j][0]):\n",
    "            verified21.append(j)\n",
    "        elif (score > 0.9) and (list(RBPs11['linked_seros'])[i][0] != list(RBPs21['linked_seros'])[j][0]):\n",
    "            print(RBPs11['linked_seros'][i], RBPs21['linked_seros'][j])\n",
    "        bar.update(1)\n",
    "bar.close()\n",
    "RBPs21verified = RBPs21.iloc[verified21]"
   ]
  },
  {
   "cell_type": "code",
   "execution_count": 61,
   "metadata": {},
   "outputs": [
    {
     "data": {
      "image/png": "[encoded data removed]",
      "text/plain": [
       "<Figure size 720x576 with 1 Axes>"
      ]
     },
     "metadata": {
      "needs_background": "light"
     },
     "output_type": "display_data"
    }
   ],
   "source": [
    "fig, ax = plt.subplots(figsize=(10,8))\n",
    "ax.hist(scores, bins=30)\n",
    "ax.set_xlabel('% identity')\n",
    "ax.set_ylabel('# of occurrences')\n",
    "fig.savefig(results_dir+'/RBPs11_RBPs21_identity_percentage.png', dpi=400)"
   ]
  },
  {
   "cell_type": "markdown",
   "metadata": {},
   "source": [
    "In the 2:1 phages, we don't find any RBPs that are similar enough to the ones we found in the 1:1 phages. Therefore, we cannot make any conclusions about which of the 2 RBPs targets the 1 sero in the 2:1 phages..."
   ]
  },
  {
   "cell_type": "code",
   "execution_count": 25,
   "metadata": {},
   "outputs": [],
   "source": [
    "# get 2:2 RBPs\n",
    "index22 = []\n",
    "for i, phage in enumerate(RBPbase_withseros['phage_ID']):\n",
    "    linked_ser = RBPbase_withseros['linked_seros'][i]\n",
    "    if (list(RBPbase_withseros['phage_ID']).count(phage) == 2) and (len(linked_ser) == 2): # one RBP and one sero\n",
    "        index22.append(i)\n",
    "RBPs22 = RBPbase_withseros.iloc[index22]"
   ]
  },
  {
   "cell_type": "code",
   "execution_count": 68,
   "metadata": {},
   "outputs": [
    {
     "data": {
      "application/vnd.jupyter.widget-view+json": {
       "model_id": "f049318b77834d778fe35ffecfae6352",
       "version_major": 2,
       "version_minor": 0
      },
      "text/plain": [
       "  0%|          | 0/44 [00:00<?, ?it/s]"
      ]
     },
     "metadata": {},
     "output_type": "display_data"
    }
   ],
   "source": [
    "verified22 = []\n",
    "scores = []\n",
    "bar = tqdm(total = len(RBPs11['protein_sequence'])*len(RBPs22['protein_sequence']))\n",
    "for i, protein11 in enumerate(RBPs11['protein_sequence']):\n",
    "    for j, protein22 in enumerate(RBPs22['protein_sequence']):\n",
    "        score = single_pwalign_julia(project_dir, protein11, protein22, 'protein')\n",
    "        scores.append(score)\n",
    "        if (score > 0.9) and (list(RBPs11['linked_seros'])[i][0] in list(RBPs22['linked_seros'])[j]):\n",
    "            verified22.append(j)\n",
    "        elif (score > 0.9) and (list(RBPs11['linked_seros'])[i][0] not in list(RBPs22['linked_seros'])[j]):\n",
    "            print(RBPs11['linked_seros'][i], RBPs22['linked_seros'][j])\n",
    "        bar.update(1)\n",
    "bar.close()\n",
    "RBPs22verified = RBPs22.iloc[verified22]"
   ]
  },
  {
   "cell_type": "code",
   "execution_count": 70,
   "metadata": {},
   "outputs": [
    {
     "data": {
      "image/png": "[encoded data removed]",
      "text/plain": [
       "<Figure size 720x576 with 1 Axes>"
      ]
     },
     "metadata": {
      "needs_background": "light"
     },
     "output_type": "display_data"
    }
   ],
   "source": [
    "fig, ax = plt.subplots(figsize=(10,8))\n",
    "ax.hist(scores, bins=30)\n",
    "ax.set_xlabel('% identity')\n",
    "ax.set_ylabel('# of occurrences')\n",
    "fig.savefig(results_dir+'/RBPs11_RBPs22_identity_percentage.png', dpi=400)"
   ]
  },
  {
   "cell_type": "markdown",
   "metadata": {},
   "source": [
    "Again, no luck finding similar RBPs that we could elucidate the actual K-type of... Let's do three more things: (1) check the 3:1 phages, (2) check the 3:2 phages (same scenario as the 2:2 phages but now we won't able to say something about the other linked K-type as we have 2 RBPs left...) and (3) pwalign all 2:2 RBPs: if we find two that are similar, and they share a K-type, it's probably that one; definitely if the other two RBPs are not similar. Then we can immediately also say something about those other specificities."
   ]
  },
  {
   "cell_type": "code",
   "execution_count": 8,
   "metadata": {},
   "outputs": [],
   "source": [
    "# get 3:1 RBPs\n",
    "index31 = []\n",
    "for i, phage in enumerate(RBPbase_withseros['phage_ID']):\n",
    "    linked_ser = RBPbase_withseros['linked_seros'][i]\n",
    "    if (list(RBPbase_withseros['phage_ID']).count(phage) == 3) and (len(linked_ser) == 1): # 3 RBPs and one sero\n",
    "        index31.append(i)\n",
    "RBPs31 = RBPbase_withseros.iloc[index31]"
   ]
  },
  {
   "cell_type": "code",
   "execution_count": 12,
   "metadata": {},
   "outputs": [
    {
     "data": {
      "application/vnd.jupyter.widget-view+json": {
       "model_id": "df7b3af4a4a84430979efc8e8b415cd1",
       "version_major": 2,
       "version_minor": 0
      },
      "text/plain": [
       "  0%|          | 0/96 [00:00<?, ?it/s]"
      ]
     },
     "metadata": {},
     "output_type": "display_data"
    }
   ],
   "source": [
    "verified31 = []\n",
    "scores = []\n",
    "bar = tqdm(total = len(RBPs11['protein_sequence'])*len(RBPs31['protein_sequence']))\n",
    "for i, protein11 in enumerate(RBPs11['protein_sequence']):\n",
    "    for j, protein31 in enumerate(RBPs31['protein_sequence']):\n",
    "        score = single_pwalign_julia(project_dir, protein11, protein31, 'protein')\n",
    "        scores.append(score)\n",
    "        if (score > 0.9) and (list(RBPs11['linked_seros'])[i][0] == list(RBPs31['linked_seros'])[j][0]):\n",
    "            verified31.append(j)\n",
    "        elif (score > 0.9) and (list(RBPs11['linked_seros'])[i][0] != list(RBPs31['linked_seros'])[j][0]):\n",
    "            print(RBPs11['linked_seros'][i], RBPs31['linked_seros'][j])\n",
    "        bar.update(1)\n",
    "bar.close()\n",
    "RBPs31verified = RBPs31.iloc[verified31]"
   ]
  },
  {
   "cell_type": "code",
   "execution_count": 14,
   "metadata": {},
   "outputs": [
    {
     "data": {
      "image/png": "[encoded data removed]",
      "text/plain": [
       "<Figure size 720x576 with 1 Axes>"
      ]
     },
     "metadata": {
      "needs_background": "light"
     },
     "output_type": "display_data"
    }
   ],
   "source": [
    "fig, ax = plt.subplots(figsize=(10,8))\n",
    "ax.hist(scores, bins=30)\n",
    "ax.set_xlabel('% identity')\n",
    "ax.set_ylabel('# of occurrences')\n",
    "fig.savefig(results_dir+'/RBPs11_RBPs31_identity_percentage.png', dpi=400)"
   ]
  },
  {
   "cell_type": "code",
   "execution_count": 17,
   "metadata": {},
   "outputs": [],
   "source": [
    "# get 3:2 RBPs\n",
    "index32 = []\n",
    "for i, phage in enumerate(RBPbase_withseros['phage_ID']):\n",
    "    linked_ser = RBPbase_withseros['linked_seros'][i]\n",
    "    if (list(RBPbase_withseros['phage_ID']).count(phage) == 3) and (len(linked_ser) == 2): # 3 RBPs and two seros\n",
    "        index32.append(i)\n",
    "RBPs32 = RBPbase_withseros.iloc[index32]"
   ]
  },
  {
   "cell_type": "code",
   "execution_count": 19,
   "metadata": {},
   "outputs": [
    {
     "data": {
      "application/vnd.jupyter.widget-view+json": {
       "model_id": "a12c52439f2743e5bdc28cb7671e4cf6",
       "version_major": 2,
       "version_minor": 0
      },
      "text/plain": [
       "  0%|          | 0/48 [00:00<?, ?it/s]"
      ]
     },
     "metadata": {},
     "output_type": "display_data"
    }
   ],
   "source": [
    "verified32 = []\n",
    "scores = []\n",
    "bar = tqdm(total = len(RBPs11['protein_sequence'])*len(RBPs32['protein_sequence']))\n",
    "for i, protein11 in enumerate(RBPs11['protein_sequence']):\n",
    "    for j, protein32 in enumerate(RBPs32['protein_sequence']):\n",
    "        score = single_pwalign_julia(project_dir, protein11, protein32, 'protein')\n",
    "        scores.append(score)\n",
    "        if (score > 0.9) and (list(RBPs11['linked_seros'])[i][0] == list(RBPs32['linked_seros'])[j][0]):\n",
    "            verified31.append(j)\n",
    "        elif (score > 0.9) and (list(RBPs11['linked_seros'])[i][0] != list(RBPs32['linked_seros'])[j][0]):\n",
    "            print(RBPs11['linked_seros'][i], RBPs32['linked_seros'][j])\n",
    "        bar.update(1)\n",
    "bar.close()\n",
    "RBPs32verified = RBPs32.iloc[verified32]"
   ]
  },
  {
   "cell_type": "code",
   "execution_count": 22,
   "metadata": {},
   "outputs": [
    {
     "data": {
      "image/png": "[encoded data removed]",
      "text/plain": [
       "<Figure size 720x576 with 1 Axes>"
      ]
     },
     "metadata": {
      "needs_background": "light"
     },
     "output_type": "display_data"
    }
   ],
   "source": [
    "fig, ax = plt.subplots(figsize=(10,8))\n",
    "ax.hist(scores, bins=30)\n",
    "ax.set_xlabel('% identity')\n",
    "ax.set_ylabel('# of occurrences')\n",
    "fig.savefig(results_dir+'/RBPs11_RBPs32_identity_percentage.png', dpi=400)"
   ]
  },
  {
   "cell_type": "markdown",
   "metadata": {},
   "source": [
    "### Starting from 2:1 phages\n",
    "\n",
    "Now we'll compare the 2:1 RBPs with the 2:2, 3:1 and 3:2 RBPs. If there are similar RBPs and the K-type of 1 is among the K-types of 2 then we have a match if (both) other RBPs DON'T match (else it could be those, so can't be sure)."
   ]
  },
  {
   "cell_type": "code",
   "execution_count": 27,
   "metadata": {},
   "outputs": [
    {
     "data": {
      "application/vnd.jupyter.widget-view+json": {
       "model_id": "64d0932ac85c422b8653079909b013d0",
       "version_major": 2,
       "version_minor": 0
      },
      "text/plain": [
       "  0%|          | 0/880 [00:00<?, ?it/s]"
      ]
     },
     "metadata": {},
     "output_type": "display_data"
    },
    {
     "name": "stdout",
     "output_type": "stream",
     "text": [
      "['K14'] ['K17', 'K62']\n",
      "['K25'] ['K22', 'K37']\n",
      "['K25'] ['K22', 'K37']\n",
      "['K25'] ['K22', 'K37']\n",
      "['K25'] ['K22', 'K37']\n",
      "['K25'] ['K22', 'K37']\n",
      "['K25'] ['K22', 'K37']\n",
      "['K25'] ['K22', 'K37']\n",
      "['K20'] ['K22', 'K37']\n",
      "['K20'] ['K22', 'K37']\n",
      "['K20'] ['K22', 'K37']\n",
      "['K20'] ['K22', 'K37']\n",
      "['K20'] ['K22', 'K37']\n",
      "['K20'] ['K22', 'K37']\n",
      "['K20'] ['K22', 'K37']\n",
      "['K8'] ['K17', 'K62']\n",
      "['K8'] ['K3', 'K13']\n",
      "['K3'] ['K17', 'K62']\n",
      "Found probable match: K2PH164C2 K2alfa62 ['K3']\n",
      "['K66'] ['K22', 'K37']\n",
      "['K66'] ['K22', 'K37']\n",
      "['K66'] ['K22', 'K37']\n",
      "['K66'] ['K22', 'K37']\n",
      "['K66'] ['K22', 'K37']\n",
      "['K66'] ['K22', 'K37']\n",
      "['K66'] ['K22', 'K37']\n",
      "Found probable match: K2PH164C1 K2alfa62 ['K3']\n"
     ]
    }
   ],
   "source": [
    "# 2:1 to 2:2\n",
    "verified22 = []\n",
    "scores = []\n",
    "bar = tqdm(total = len(RBPs21['protein_sequence'])*len(RBPs22['protein_sequence']))\n",
    "for i, protein21 in enumerate(RBPs21['protein_sequence']):\n",
    "    for j, protein22 in enumerate(RBPs22['protein_sequence']):\n",
    "        # align and get score\n",
    "        score = single_pwalign_julia(project_dir, protein21, protein22, 'protein')\n",
    "        scores.append(score)\n",
    "        \n",
    "        # get linked seros\n",
    "        seros21 = list(RBPs21['linked_seros'])[i]\n",
    "        seros22 = list(RBPs22['linked_seros'])[j]\n",
    "        phagei = list(RBPs21['phage_ID'])[i]\n",
    "        phagej = list(RBPs22['phage_ID'])[j]\n",
    "        match_sero = list(set(seros21).intersection(seros22))\n",
    "        \n",
    "        if (score > 0.9) and (seros21[0] in seros22):\n",
    "            print('Found probable match:', phagei, phagej, match_sero)\n",
    "            verified22.append(j)\n",
    "        elif (score > 0.9) and (seros21[0] not in seros22):\n",
    "            print(seros21, seros22)\n",
    "        bar.update(1)\n",
    "bar.close()\n",
    "RBPs22verified = RBPs22.iloc[verified22]"
   ]
  },
  {
   "cell_type": "markdown",
   "metadata": {},
   "source": [
    "We're seeing matches (identity > 0.9) between the 2:1 phages and the 2:2 phages that don't have a K-type in common. First guess is that this is then the other RBP that we are matching of the 2:1 phage of which only one K-type is known. But then this raises the question of why none of the K-type of the 2:2 phage is picked up, if these RBPs match! Then the other hypothesis is that we're seeing matches to similar K-types, and conclude that subtle diffs are important!\n",
    "\n",
    "We also found one probable match that target the same K-type: K2PH164C1 K2alfa62 -> 'K3'. Let's check them out:"
   ]
  },
  {
   "cell_type": "code",
   "execution_count": 31,
   "metadata": {},
   "outputs": [
    {
     "name": "stdout",
     "output_type": "stream",
     "text": [
      "K2PH164C1_gp30 K2alfa62_gp51 0.9777034559643255\n",
      "K2PH164C1_gp30 K2alfa62_gp53 0.21534195933456562\n",
      "K2PH164C1_gp32 K2alfa62_gp51 0.22793404461687683\n",
      "K2PH164C1_gp32 K2alfa62_gp53 0.8800623052959502\n"
     ]
    }
   ],
   "source": [
    "RBPs21sub = RBPs21[RBPs21['phage_ID'] == 'K2PH164C1']\n",
    "RBPs22sub = RBPs22[RBPs22['phage_ID'] == 'K2alfa62']\n",
    "\n",
    "for i, p1 in enumerate(RBPs21sub['protein_sequence']):\n",
    "    for j, p2 in enumerate(RBPs22sub['protein_sequence']):\n",
    "        print(list(RBPs21sub['protein_ID'])[i], list(RBPs22sub['protein_ID'])[j], \n",
    "              single_pwalign_julia(project_dir, p1, p2, 'protein'))"
   ]
  },
  {
   "cell_type": "markdown",
   "metadata": {},
   "source": [
    "So, we see that essentially both RBPs match quite well with one another: K2PH164C1_gp30 and K2alfa62_gp51 are 97.7% identical, while K2PH164C1_gp32 and K2alfa62_gp53 are 88% identical. Two scenario's are likely:\n",
    "1. K2PH164C1_gp30 and K2alfa62_gp51 target the shared K-type K3, while K2PH164C1_gp32 has evolved to lose infectivity against K13.\n",
    "2. We can't tell for sure which infects which, as we should first assess whether K2PH164C1 also infects K13 (don't know if that was tested).\n",
    "\n",
    "However, looking at the data, both are in the same Valencia set, so K2PH164C1 was tested against the K13 strain and came out negative!"
   ]
  },
  {
   "cell_type": "code",
   "execution_count": 34,
   "metadata": {},
   "outputs": [
    {
     "data": {
      "application/vnd.jupyter.widget-view+json": {
       "model_id": "9d5f20ee6c4f4664ac506d468e151502",
       "version_major": 2,
       "version_minor": 0
      },
      "text/plain": [
       "  0%|          | 0/1920 [00:00<?, ?it/s]"
      ]
     },
     "metadata": {},
     "output_type": "display_data"
    },
    {
     "name": "stdout",
     "output_type": "stream",
     "text": [
      "['K25'] ['K1']\n",
      "['K25'] ['K15']\n",
      "['K25'] ['unknown (KL126)']\n",
      "['K25'] ['K51']\n",
      "['K20'] ['K1']\n",
      "['K20'] ['K15']\n",
      "['K20'] ['unknown (KL126)']\n",
      "['K20'] ['K51']\n",
      "['K66'] ['K1']\n",
      "['K66'] ['K15']\n",
      "['K66'] ['unknown (KL126)']\n",
      "['K66'] ['K51']\n",
      "['K16'] ['K61']\n",
      "['K16'] ['K58']\n",
      "['K16'] ['K30']\n",
      "['K16'] ['K56']\n",
      "['K16'] ['K43']\n"
     ]
    }
   ],
   "source": [
    "# 2:1 to 3:1\n",
    "verified31 = []\n",
    "scores = []\n",
    "bar = tqdm(total = len(RBPs21['protein_sequence'])*len(RBPs31['protein_sequence']))\n",
    "for i, protein21 in enumerate(RBPs21['protein_sequence']):\n",
    "    for j, protein31 in enumerate(RBPs31['protein_sequence']):\n",
    "        # align and get score\n",
    "        score = single_pwalign_julia(project_dir, protein21, protein31, 'protein')\n",
    "        scores.append(score)\n",
    "        \n",
    "        # get linked seros\n",
    "        seros21 = list(RBPs21['linked_seros'])[i]\n",
    "        seros31 = list(RBPs31['linked_seros'])[j]\n",
    "        phagei = list(RBPs21['phage_ID'])[i]\n",
    "        phagej = list(RBPs31['phage_ID'])[j]\n",
    "        match_sero = list(set(seros21).intersection(seros31))\n",
    "        \n",
    "        if (score > 0.9) and (seros21[0] == seros31[0]):\n",
    "            print('Found probable match:', phagei, phagej, match_sero)\n",
    "            verified31.append(j)\n",
    "        elif (score > 0.9) and (seros21[0] != seros31[0]):\n",
    "            print(seros21, seros31)\n",
    "        bar.update(1)\n",
    "bar.close()\n",
    "RBPs31verified = RBPs31.iloc[verified31]"
   ]
  },
  {
   "cell_type": "code",
   "execution_count": 36,
   "metadata": {},
   "outputs": [
    {
     "data": {
      "image/png": "[encoded data removed]",
      "text/plain": [
       "<Figure size 720x576 with 1 Axes>"
      ]
     },
     "metadata": {
      "needs_background": "light"
     },
     "output_type": "display_data"
    }
   ],
   "source": [
    "fig, ax = plt.subplots(figsize=(10,8))\n",
    "ax.hist(scores, bins=30)\n",
    "ax.set_xlabel('% identity')\n",
    "ax.set_ylabel('# of occurrences')\n",
    "fig.savefig(results_dir+'/RBPs21_RBPs31_identity_percentage.png', dpi=400)"
   ]
  },
  {
   "cell_type": "code",
   "execution_count": 41,
   "metadata": {},
   "outputs": [
    {
     "data": {
      "application/vnd.jupyter.widget-view+json": {
       "model_id": "c6063bd44b4141699c655d9ea8849eb5",
       "version_major": 2,
       "version_minor": 0
      },
      "text/plain": [
       "  0%|          | 0/960 [00:00<?, ?it/s]"
      ]
     },
     "metadata": {},
     "output_type": "display_data"
    },
    {
     "name": "stdout",
     "output_type": "stream",
     "text": [
      "['K25'] ['K22', 'K37']\n",
      "['K25'] ['unknown (KL126)', 'K61']\n",
      "['K25'] ['K13', 'K2']\n",
      "['K20'] ['K22', 'K37']\n",
      "['K20'] ['unknown (KL126)', 'K61']\n",
      "['K20'] ['K13', 'K2']\n",
      "['K66'] ['K22', 'K37']\n",
      "['K66'] ['unknown (KL126)', 'K61']\n",
      "['K66'] ['K13', 'K2']\n",
      "['K16'] ['K61', 'unknown (KL134)']\n",
      "['K16'] ['K1', 'K2']\n",
      "['K16'] ['K57', 'K11']\n",
      "['K3'] ['K33', 'K55']\n"
     ]
    }
   ],
   "source": [
    "# 2:1 to 3:2\n",
    "verified32 = []\n",
    "scores = []\n",
    "bar = tqdm(total = len(RBPs21['protein_sequence'])*len(RBPs32['protein_sequence']))\n",
    "for i, protein21 in enumerate(RBPs21['protein_sequence']):\n",
    "    for j, protein32 in enumerate(RBPs32['protein_sequence']):\n",
    "        # align and get score\n",
    "        score = single_pwalign_julia(project_dir, protein21, protein32, 'protein')\n",
    "        scores.append(score)\n",
    "        \n",
    "        # get linked seros\n",
    "        seros21 = list(RBPs21['linked_seros'])[i]\n",
    "        seros32 = list(RBPs32['linked_seros'])[j]\n",
    "        phagei = list(RBPs21['phage_ID'])[i]\n",
    "        phagej = list(RBPs32['phage_ID'])[j]\n",
    "        match_sero = list(set(seros21).intersection(seros32))\n",
    "        \n",
    "        if (score > 0.9) and (seros21[0] in seros32):\n",
    "            print('Found probable match:', phagei, phagej, match_sero)\n",
    "            verified32.append(j)\n",
    "        elif (score > 0.9) and (seros21[0] not in seros32):\n",
    "            print(seros21, seros32)\n",
    "        bar.update(1)\n",
    "bar.close()\n",
    "RBPs32verified = RBPs32.iloc[verified32]"
   ]
  },
  {
   "cell_type": "markdown",
   "metadata": {},
   "source": [
    "### Starting from 2:2 phages and aligning to themselves"
   ]
  },
  {
   "cell_type": "code",
   "execution_count": 75,
   "metadata": {
    "scrolled": false
   },
   "outputs": [
    {
     "data": {
      "application/vnd.jupyter.widget-view+json": {
       "model_id": "a9936170c37c4c55860c1b9a57f190c9",
       "version_major": 2,
       "version_minor": 0
      },
      "text/plain": [
       "  0%|          | 0/484 [00:00<?, ?it/s]"
      ]
     },
     "metadata": {},
     "output_type": "display_data"
    },
    {
     "name": "stdout",
     "output_type": "stream",
     "text": [
      "Found evidence for subtle diffs: K17alfa61 ['K17', 'K62'] K2alfa62 ['K13', 'K3']\n",
      "Found evidence for subtle diffs: K2alfa62 ['K13', 'K3'] K17alfa61 ['K17', 'K62']\n",
      "Found probable match: A1l A1n ['K22', 'K37']\n",
      "Found probable match: A1l A1r ['K22', 'K37']\n",
      "Found probable match: A1l A1k ['K22', 'K37']\n",
      "Found probable match: A1l A1p ['K22', 'K37']\n",
      "Found probable match: A1l A1o ['K22', 'K37']\n",
      "Found probable match: A1l A1m ['K22', 'K37']\n",
      "Found probable match: A1l A1n ['K22', 'K37']\n",
      "Found probable match: A1l A1r ['K22', 'K37']\n",
      "Found probable match: A1l A1k ['K22', 'K37']\n",
      "Found probable match: A1l A1p ['K22', 'K37']\n",
      "Found probable match: A1l A1o ['K22', 'K37']\n",
      "Found probable match: A1l A1m ['K22', 'K37']\n",
      "Found probable match: A1n A1l ['K22', 'K37']\n",
      "Found probable match: A1n A1r ['K22', 'K37']\n",
      "Found probable match: A1n A1k ['K22', 'K37']\n",
      "Found probable match: A1n A1p ['K22', 'K37']\n",
      "Found probable match: A1n A1o ['K22', 'K37']\n",
      "Found probable match: A1n A1m ['K22', 'K37']\n",
      "Found probable match: A1n A1l ['K22', 'K37']\n",
      "Found probable match: A1n A1r ['K22', 'K37']\n",
      "Found probable match: A1n A1k ['K22', 'K37']\n",
      "Found probable match: A1n A1p ['K22', 'K37']\n",
      "Found probable match: A1n A1o ['K22', 'K37']\n",
      "Found probable match: A1n A1m ['K22', 'K37']\n",
      "Found probable match: A1r A1l ['K22', 'K37']\n",
      "Found probable match: A1r A1n ['K22', 'K37']\n",
      "Found probable match: A1r A1k ['K22', 'K37']\n",
      "Found probable match: A1r A1p ['K22', 'K37']\n",
      "Found probable match: A1r A1o ['K22', 'K37']\n",
      "Found probable match: A1r A1m ['K22', 'K37']\n",
      "Found probable match: A1r A1l ['K22', 'K37']\n",
      "Found probable match: A1r A1n ['K22', 'K37']\n",
      "Found probable match: A1r A1k ['K22', 'K37']\n",
      "Found probable match: A1r A1p ['K22', 'K37']\n",
      "Found probable match: A1r A1o ['K22', 'K37']\n",
      "Found probable match: A1r A1m ['K22', 'K37']\n",
      "Found probable match: A1k A1l ['K22', 'K37']\n",
      "Found probable match: A1k A1n ['K22', 'K37']\n",
      "Found probable match: A1k A1r ['K22', 'K37']\n",
      "Found probable match: A1k A1p ['K22', 'K37']\n",
      "Found probable match: A1k A1o ['K22', 'K37']\n",
      "Found probable match: A1k A1m ['K22', 'K37']\n",
      "Found probable match: A1k A1l ['K22', 'K37']\n",
      "Found probable match: A1k A1n ['K22', 'K37']\n",
      "Found probable match: A1k A1r ['K22', 'K37']\n",
      "Found probable match: A1k A1p ['K22', 'K37']\n",
      "Found probable match: A1k A1o ['K22', 'K37']\n",
      "Found probable match: A1k A1m ['K22', 'K37']\n",
      "Found probable match: A1p A1l ['K22', 'K37']\n",
      "Found probable match: A1p A1n ['K22', 'K37']\n",
      "Found probable match: A1p A1r ['K22', 'K37']\n",
      "Found probable match: A1p A1k ['K22', 'K37']\n",
      "Found probable match: A1p A1o ['K22', 'K37']\n",
      "Found probable match: A1p A1m ['K22', 'K37']\n",
      "Found probable match: A1p A1l ['K22', 'K37']\n",
      "Found probable match: A1p A1n ['K22', 'K37']\n",
      "Found probable match: A1p A1r ['K22', 'K37']\n",
      "Found probable match: A1p A1k ['K22', 'K37']\n",
      "Found probable match: A1p A1o ['K22', 'K37']\n",
      "Found probable match: A1p A1m ['K22', 'K37']\n",
      "Found probable match: A1o A1l ['K22', 'K37']\n",
      "Found probable match: A1o A1n ['K22', 'K37']\n",
      "Found probable match: A1o A1r ['K22', 'K37']\n",
      "Found probable match: A1o A1k ['K22', 'K37']\n",
      "Found probable match: A1o A1p ['K22', 'K37']\n",
      "Found probable match: A1o A1m ['K22', 'K37']\n",
      "Found probable match: A1o A1l ['K22', 'K37']\n",
      "Found probable match: A1o A1n ['K22', 'K37']\n",
      "Found probable match: A1o A1r ['K22', 'K37']\n",
      "Found probable match: A1o A1k ['K22', 'K37']\n",
      "Found probable match: A1o A1p ['K22', 'K37']\n",
      "Found probable match: A1o A1m ['K22', 'K37']\n",
      "Found probable match: A1m A1l ['K22', 'K37']\n",
      "Found probable match: A1m A1n ['K22', 'K37']\n",
      "Found probable match: A1m A1r ['K22', 'K37']\n",
      "Found probable match: A1m A1k ['K22', 'K37']\n",
      "Found probable match: A1m A1p ['K22', 'K37']\n",
      "Found probable match: A1m A1o ['K22', 'K37']\n",
      "Found probable match: A1m A1l ['K22', 'K37']\n",
      "Found probable match: A1m A1n ['K22', 'K37']\n",
      "Found probable match: A1m A1r ['K22', 'K37']\n",
      "Found probable match: A1m A1k ['K22', 'K37']\n",
      "Found probable match: A1m A1p ['K22', 'K37']\n",
      "Found probable match: A1m A1o ['K22', 'K37']\n"
     ]
    }
   ],
   "source": [
    "# pw align 2:2 RBPs\n",
    "verified22 = []\n",
    "scores = []\n",
    "bar = tqdm(total = len(RBPs22['protein_sequence'])*len(RBPs22['protein_sequence']))\n",
    "\n",
    "for i, protein11 in enumerate(RBPs22['protein_sequence']):\n",
    "    for j, protein22 in enumerate(RBPs22['protein_sequence']):\n",
    "        # align and get score\n",
    "        score = single_pwalign_julia(project_dir, protein11, protein22, 'protein')\n",
    "        scores.append(score)\n",
    "        \n",
    "        # get linked seros\n",
    "        seros11 = list(RBPs22['linked_seros'])[i]\n",
    "        seros22 = list(RBPs22['linked_seros'])[j]\n",
    "        phagei = list(RBPs22['phage_ID'])[i]\n",
    "        phagej = list(RBPs22['phage_ID'])[j]\n",
    "        match_sero = list(set(seros11).intersection(seros22))\n",
    "        \n",
    "        # check match\n",
    "        if (score > 0.9) and (len(match_sero) > 0) and (i != j):\n",
    "            print('Found probable match:', phagei, phagej, match_sero)\n",
    "            verified22.append(i)\n",
    "            verified22.append(j)\n",
    "        elif (score > 0.9) and (len(match_sero) == 0):\n",
    "            print('Found evidence for subtle diffs:', phagei, seros11, phagej, seros22)\n",
    "        bar.update(1)\n",
    "bar.close()\n",
    "RBPs22verified = RBPs22.iloc[verified22]"
   ]
  },
  {
   "cell_type": "markdown",
   "metadata": {},
   "source": [
    "### Starting from 3:3 phages to identify subtle diffs\n",
    "\n",
    "Further evidence for subtle diffs: we could extend this to 3:3 etc, if RBPs are very similar but all of the linked K-types are disjoint, then that is evidence for the fact that subte diffs matter. However, it could of course be that these RBPs target another same K-type that is not in the dataset. BUT, if we have 3 RBPs and 3 K-types, then chances of this are quite low we could say, because then we assume that each of the RBPs target 1 K-type, and thus the error will only be in cases where we (1) have a false positive RBP AND (2) the K-type is not in the dataset."
   ]
  },
  {
   "cell_type": "code",
   "execution_count": 6,
   "metadata": {},
   "outputs": [],
   "source": [
    "# get 3:3 RBPs\n",
    "index33 = []\n",
    "for i, phage in enumerate(RBPbase_withseros['phage_ID']):\n",
    "    linked_ser = RBPbase_withseros['linked_seros'][i]\n",
    "    if (list(RBPbase_withseros['phage_ID']).count(phage) == 3) and (len(linked_ser) == 3): # one RBP and one sero\n",
    "        index33.append(i)\n",
    "RBPs33 = RBPbase_withseros.iloc[index33]"
   ]
  },
  {
   "cell_type": "code",
   "execution_count": 7,
   "metadata": {},
   "outputs": [
    {
     "data": {
      "text/html": [
       "<div>\n",
       "<style scoped>\n",
       "    .dataframe tbody tr th:only-of-type {\n",
       "        vertical-align: middle;\n",
       "    }\n",
       "\n",
       "    .dataframe tbody tr th {\n",
       "        vertical-align: top;\n",
       "    }\n",
       "\n",
       "    .dataframe thead th {\n",
       "        text-align: right;\n",
       "    }\n",
       "</style>\n",
       "<table border=\"1\" class=\"dataframe\">\n",
       "  <thead>\n",
       "    <tr style=\"text-align: right;\">\n",
       "      <th></th>\n",
       "      <th>phage_ID</th>\n",
       "      <th>protein_ID</th>\n",
       "      <th>protein_sequence</th>\n",
       "      <th>dna_sequence</th>\n",
       "      <th>xgb_score</th>\n",
       "      <th>linked_seros</th>\n",
       "    </tr>\n",
       "  </thead>\n",
       "  <tbody>\n",
       "    <tr>\n",
       "      <th>166</th>\n",
       "      <td>K74PH129C2</td>\n",
       "      <td>K74PH129C2_gp5</td>\n",
       "      <td>MALVSQSIKNLKGGISQQPEILRYPEQGSLQVNGWSSETEGLQKRP...</td>\n",
       "      <td>ATGGCTCTCGTATCACAATCAATCAAGAACCTCAAGGGAGGCATTA...</td>\n",
       "      <td>0.946969</td>\n",
       "      <td>[K74, K80, K68]</td>\n",
       "    </tr>\n",
       "    <tr>\n",
       "      <th>167</th>\n",
       "      <td>K74PH129C2</td>\n",
       "      <td>K74PH129C2_gp10</td>\n",
       "      <td>MDQEIKTVIQYPTGSTEFDIPFDYLSRKFVRVSLVANDNRRLLSNI...</td>\n",
       "      <td>ATGGACCAAGAAATTAAAACAGTCATCCAGTACCCCACAGGGTCCA...</td>\n",
       "      <td>0.985026</td>\n",
       "      <td>[K74, K80, K68]</td>\n",
       "    </tr>\n",
       "    <tr>\n",
       "      <th>168</th>\n",
       "      <td>K74PH129C2</td>\n",
       "      <td>K74PH129C2_gp11</td>\n",
       "      <td>MLNNLNQPKGSTIGVLKDGRTIQEAFDQLDPVVSLSSTVSLATAVA...</td>\n",
       "      <td>ATGTTAAACAATCTGAATCAGCCGAAAGGCTCAACCATTGGTGTGC...</td>\n",
       "      <td>0.999348</td>\n",
       "      <td>[K74, K80, K68]</td>\n",
       "    </tr>\n",
       "  </tbody>\n",
       "</table>\n",
       "</div>"
      ],
      "text/plain": [
       "       phage_ID       protein_ID  \\\n",
       "166  K74PH129C2   K74PH129C2_gp5   \n",
       "167  K74PH129C2  K74PH129C2_gp10   \n",
       "168  K74PH129C2  K74PH129C2_gp11   \n",
       "\n",
       "                                      protein_sequence  \\\n",
       "166  MALVSQSIKNLKGGISQQPEILRYPEQGSLQVNGWSSETEGLQKRP...   \n",
       "167  MDQEIKTVIQYPTGSTEFDIPFDYLSRKFVRVSLVANDNRRLLSNI...   \n",
       "168  MLNNLNQPKGSTIGVLKDGRTIQEAFDQLDPVVSLSSTVSLATAVA...   \n",
       "\n",
       "                                          dna_sequence  xgb_score  \\\n",
       "166  ATGGCTCTCGTATCACAATCAATCAAGAACCTCAAGGGAGGCATTA...   0.946969   \n",
       "167  ATGGACCAAGAAATTAAAACAGTCATCCAGTACCCCACAGGGTCCA...   0.985026   \n",
       "168  ATGTTAAACAATCTGAATCAGCCGAAAGGCTCAACCATTGGTGTGC...   0.999348   \n",
       "\n",
       "        linked_seros  \n",
       "166  [K74, K80, K68]  \n",
       "167  [K74, K80, K68]  \n",
       "168  [K74, K80, K68]  "
      ]
     },
     "execution_count": 7,
     "metadata": {},
     "output_type": "execute_result"
    }
   ],
   "source": [
    "RBPs33"
   ]
  },
  {
   "cell_type": "markdown",
   "metadata": {},
   "source": [
    "This doesn't yield any new evidence as well, as we only find one phage that infects 3 K-types with 3 RBPs..."
   ]
  },
  {
   "cell_type": "code",
   "execution_count": null,
   "metadata": {},
   "outputs": [],
   "source": [
    "# histogram RBP occurrence\n",
    "RBPbase = pd.read_csv(valencia_dir+'/RBPbase'+data_suffix+'.csv')\n",
    "unique_phage_ids = list(set(RBPbase['phage_ID']))\n",
    "counts = pd.DataFrame({'count': [list(RBPbase['phage_ID']).count(unique_id) for unique_id in unique_phage_ids]})\n",
    "\n",
    "import seaborn as sns\n",
    "fig, ax = plt.subplots(figsize=(10,8))\n",
    "ax = sns.countplot(x=\"count\", data=counts)\n",
    "ax.set_xlabel('number of RBPs')\n",
    "ax.set_ylabel('number of occurrences')\n",
    "fig.savefig('/Users/dimi/GoogleDrive/PhD/4_PHAGEHOST_LEARNING/43_RESULTS/RBP_occurences_per_phage.png', dpi=400)"
   ]
  },
  {
   "cell_type": "markdown",
   "metadata": {},
   "source": [
    "### Putting the pieces together\n",
    "\n",
    "Overall, looking a the diversity of both the loci and RBPs, we see that the loci mostly cluster based on K-type, which is of course what we would expect, and that at the loci side, mostly big diffs occur instead of subtle diffs. \n",
    "\n",
    "At the RBP side however, we see\n",
    "\n",
    "- [x] Similar RBPs targeting the same K-type / similar loci (cfr loci cluster 88, and others) to some extent, but actually not always either!\n",
    "- [x] Similar RBPs targeting different K-types / dissimilar loci (looking at the various RBP clusters) -> indicating that subtle changes can change specificity (something we also see in other bacterium-phage systems -> see literature!)\n",
    "- [x] Dissimilar RBPs targeting different K-types / dissimilar loci\n",
    "- [x] Dissimilar RBPs targeting similar loci (clusters 21, 30, 76, ... see above)"
   ]
  },
  {
   "cell_type": "markdown",
   "metadata": {},
   "source": [
    "### 2 - General overview of the data"
   ]
  },
  {
   "cell_type": "markdown",
   "metadata": {},
   "source": [
    "##### Translate proteins and add to dataframe (do only once)"
   ]
  },
  {
   "cell_type": "raw",
   "metadata": {},
   "source": [
    "proteins = {'protein_seq': []}\n",
    "for sequence in RBPs.sequence:\n",
    "    translation = str(Seq(sequence).translate())[:-1]\n",
    "    proteins['protein_seq'].append(translation)\n",
    "RBPs = pd.concat([RBPs, pd.DataFrame(proteins)], axis=1)\n",
    "RBPs.to_csv('/Users/dimi/GoogleDrive/PhD/4_WP2_PWLEARNING/42_DATA/RBPbase_230421.csv', index=False)"
   ]
  },
  {
   "cell_type": "markdown",
   "metadata": {},
   "source": [
    "##### Overview table"
   ]
  },
  {
   "cell_type": "code",
   "execution_count": 5,
   "metadata": {},
   "outputs": [
    {
     "data": {
      "text/html": [
       "<div>\n",
       "<style scoped>\n",
       "    .dataframe tbody tr th:only-of-type {\n",
       "        vertical-align: middle;\n",
       "    }\n",
       "\n",
       "    .dataframe tbody tr th {\n",
       "        vertical-align: top;\n",
       "    }\n",
       "\n",
       "    .dataframe thead th {\n",
       "        text-align: right;\n",
       "    }\n",
       "</style>\n",
       "<table border=\"1\" class=\"dataframe\">\n",
       "  <thead>\n",
       "    <tr style=\"text-align: right;\">\n",
       "      <th></th>\n",
       "      <th>number_of_hits</th>\n",
       "      <th>shortest_length</th>\n",
       "      <th>longest_length</th>\n",
       "      <th>average_length</th>\n",
       "      <th>minimum_%id</th>\n",
       "      <th>maximum_%id</th>\n",
       "    </tr>\n",
       "  </thead>\n",
       "  <tbody>\n",
       "    <tr>\n",
       "      <th>enterococcus_faecium</th>\n",
       "      <td>393</td>\n",
       "      <td>34</td>\n",
       "      <td>965</td>\n",
       "      <td>596.29</td>\n",
       "      <td>0.13</td>\n",
       "      <td>1.0</td>\n",
       "    </tr>\n",
       "    <tr>\n",
       "      <th>staphylococcus_aureus</th>\n",
       "      <td>1514</td>\n",
       "      <td>42</td>\n",
       "      <td>1086</td>\n",
       "      <td>518.19</td>\n",
       "      <td>0.13</td>\n",
       "      <td>1.0</td>\n",
       "    </tr>\n",
       "    <tr>\n",
       "      <th>klebsiella_pneumoniae</th>\n",
       "      <td>1663</td>\n",
       "      <td>29</td>\n",
       "      <td>4356</td>\n",
       "      <td>800.42</td>\n",
       "      <td>0.13</td>\n",
       "      <td>1.0</td>\n",
       "    </tr>\n",
       "    <tr>\n",
       "      <th>acinetobacter_baumannii</th>\n",
       "      <td>74</td>\n",
       "      <td>43</td>\n",
       "      <td>1099</td>\n",
       "      <td>529.00</td>\n",
       "      <td>0.13</td>\n",
       "      <td>1.0</td>\n",
       "    </tr>\n",
       "    <tr>\n",
       "      <th>pseudomonas_aeruginosa</th>\n",
       "      <td>396</td>\n",
       "      <td>53</td>\n",
       "      <td>1257</td>\n",
       "      <td>693.38</td>\n",
       "      <td>0.13</td>\n",
       "      <td>1.0</td>\n",
       "    </tr>\n",
       "    <tr>\n",
       "      <th>enterobacter_cloacae</th>\n",
       "      <td>129</td>\n",
       "      <td>41</td>\n",
       "      <td>1404</td>\n",
       "      <td>717.10</td>\n",
       "      <td>0.13</td>\n",
       "      <td>1.0</td>\n",
       "    </tr>\n",
       "    <tr>\n",
       "      <th>enterobacter_aerogenes</th>\n",
       "      <td>42</td>\n",
       "      <td>143</td>\n",
       "      <td>3108</td>\n",
       "      <td>734.71</td>\n",
       "      <td>0.13</td>\n",
       "      <td>1.0</td>\n",
       "    </tr>\n",
       "  </tbody>\n",
       "</table>\n",
       "</div>"
      ],
      "text/plain": [
       "                         number_of_hits  shortest_length  longest_length  \\\n",
       "enterococcus_faecium                393               34             965   \n",
       "staphylococcus_aureus              1514               42            1086   \n",
       "klebsiella_pneumoniae              1663               29            4356   \n",
       "acinetobacter_baumannii              74               43            1099   \n",
       "pseudomonas_aeruginosa              396               53            1257   \n",
       "enterobacter_cloacae                129               41            1404   \n",
       "enterobacter_aerogenes               42              143            3108   \n",
       "\n",
       "                         average_length  minimum_%id  maximum_%id  \n",
       "enterococcus_faecium             596.29         0.13          1.0  \n",
       "staphylococcus_aureus            518.19         0.13          1.0  \n",
       "klebsiella_pneumoniae            800.42         0.13          1.0  \n",
       "acinetobacter_baumannii          529.00         0.13          1.0  \n",
       "pseudomonas_aeruginosa           693.38         0.13          1.0  \n",
       "enterobacter_cloacae             717.10         0.13          1.0  \n",
       "enterobacter_aerogenes           734.71         0.13          1.0  "
      ]
     },
     "execution_count": 5,
     "metadata": {},
     "output_type": "execute_result"
    }
   ],
   "source": [
    "species = ['enterococcus_faecium', 'staphylococcus_aureus', 'klebsiella_pneumoniae', 'acinetobacter_baumannii', \n",
    "          'pseudomonas_aeruginosa', 'enterobacter_cloacae', 'enterobacter_aerogenes']\n",
    "number = []; shortest = []; longest = []; average = []; minperc = []; maxperc = []\n",
    "\n",
    "for sp in species:\n",
    "    sequences = RBPs.protein_seq[RBPs.host == sp]\n",
    "    protein_lengths = [len(seq) for seq in sequences]\n",
    "    shortest.append(min(protein_lengths))\n",
    "    longest.append(max(protein_lengths))\n",
    "    average.append(round(np.mean(protein_lengths), 2))\n",
    "    number.append(sum(RBPs.host == sp))\n",
    "    \n",
    "    indices = RBPs.host == sp\n",
    "    #RBPsub = RBPalign[indices, :][:,indices]\n",
    "    #minperc.append(round(np.min(RBPsub), 3))\n",
    "    minperc.append(round(np.min(RBPalign), 3))\n",
    "    maxperc.append(round(np.max(RBPalign), 3))\n",
    "    #maxperc.append(round(np.max(RBPsub), 3))\n",
    "\n",
    "RBPdf = pd.DataFrame({'number_of_hits':number, 'shortest_length':shortest, 'longest_length':longest, \n",
    "                       'average_length':average, 'minimum_%id':minperc, 'maximum_%id':maxperc})\n",
    "RBPdf.index = species\n",
    "RBPdf"
   ]
  },
  {
   "cell_type": "markdown",
   "metadata": {},
   "source": [
    "There appear to still be some very short sequences in the database but also some very long sequences (these lengths are at the protein level). We will further examine these outliers first and then filter them from the database."
   ]
  },
  {
   "cell_type": "markdown",
   "metadata": {},
   "source": [
    "##### Further preprocessing for outliers"
   ]
  },
  {
   "cell_type": "code",
   "execution_count": 9,
   "metadata": {
    "scrolled": true
   },
   "outputs": [
    {
     "name": "stdout",
     "output_type": "stream",
     "text": [
      "number of small ones: 136\n",
      "number of large ones: 103\n"
     ]
    }
   ],
   "source": [
    "count_small = 0\n",
    "count_large = 0\n",
    "pr_lens = []\n",
    "for sequence in RBPs.protein_seq:\n",
    "    pr_lens.append(len(sequence))\n",
    "    if len(sequence) < 200:\n",
    "        count_small += 1\n",
    "    elif len(sequence) > 2500:\n",
    "        count_large += 1\n",
    "        #print(sequence)\n",
    "print('number of small ones:', count_small)\n",
    "print('number of large ones:', count_large)"
   ]
  },
  {
   "cell_type": "markdown",
   "metadata": {},
   "source": [
    "BLASTing a random subset of the large ones, we find that all of them contain DUF1983, a domain we have condisered as a chaperone domain. However, it might not be best to include proteins as RBPs if they ONLY contain a chaperone domain. Looking again at Pfam however, we do mostly find hits that point to RBPs. So we'll move along with them but filter out the small and large ones."
   ]
  },
  {
   "cell_type": "code",
   "execution_count": 7,
   "metadata": {},
   "outputs": [
    {
     "data": {
      "text/plain": [
       "(array([ 44.,  18.,  35.,  40.,  31., 266., 137., 372., 355., 137., 317.,\n",
       "        245.,  84., 675., 184., 230., 189., 137.,  41.,  85.,  86.,  20.,\n",
       "        185.,  12.,  21.,  11.,  50.,  72.,  16.,   7.,   1.,   3.,   2.,\n",
       "          0.,   0.,   0.,   0.,   0.,   0.,   0.,   0.,   0.,   0.,   0.,\n",
       "          0.,   0.,   0.,   0.,   0.,   0.,   0.,   0.,   0.,   0.,   0.,\n",
       "          0.,   0.,   0.,   0.,   0.,   0.,   0.,   0.,   0.,   2.,   0.,\n",
       "          1.,   3.,   2.,   0.,   1.,   2.,   0.,   0.,   0.,   1.,   2.,\n",
       "          2.,   0.,   0.,   0.,   0.,   0.,   0.,   0.,   6.,   3.,   0.,\n",
       "          0.,   0.,   0.,   0.,   0.,   1.,   1.,   3.,   7.,  65.,   0.,\n",
       "          1.]),\n",
       " array([  29.  ,   72.27,  115.54,  158.81,  202.08,  245.35,  288.62,\n",
       "         331.89,  375.16,  418.43,  461.7 ,  504.97,  548.24,  591.51,\n",
       "         634.78,  678.05,  721.32,  764.59,  807.86,  851.13,  894.4 ,\n",
       "         937.67,  980.94, 1024.21, 1067.48, 1110.75, 1154.02, 1197.29,\n",
       "        1240.56, 1283.83, 1327.1 , 1370.37, 1413.64, 1456.91, 1500.18,\n",
       "        1543.45, 1586.72, 1629.99, 1673.26, 1716.53, 1759.8 , 1803.07,\n",
       "        1846.34, 1889.61, 1932.88, 1976.15, 2019.42, 2062.69, 2105.96,\n",
       "        2149.23, 2192.5 , 2235.77, 2279.04, 2322.31, 2365.58, 2408.85,\n",
       "        2452.12, 2495.39, 2538.66, 2581.93, 2625.2 , 2668.47, 2711.74,\n",
       "        2755.01, 2798.28, 2841.55, 2884.82, 2928.09, 2971.36, 3014.63,\n",
       "        3057.9 , 3101.17, 3144.44, 3187.71, 3230.98, 3274.25, 3317.52,\n",
       "        3360.79, 3404.06, 3447.33, 3490.6 , 3533.87, 3577.14, 3620.41,\n",
       "        3663.68, 3706.95, 3750.22, 3793.49, 3836.76, 3880.03, 3923.3 ,\n",
       "        3966.57, 4009.84, 4053.11, 4096.38, 4139.65, 4182.92, 4226.19,\n",
       "        4269.46, 4312.73, 4356.  ]),\n",
       " <BarContainer object of 100 artists>)"
      ]
     },
     "execution_count": 7,
     "metadata": {},
     "output_type": "execute_result"
    },
    {
     "data": {
      "image/png": "[encoded data removed]",
      "text/plain": [
       "<Figure size 432x288 with 1 Axes>"
      ]
     },
     "metadata": {
      "needs_background": "light"
     },
     "output_type": "display_data"
    }
   ],
   "source": [
    "plt.hist(pr_lens, bins=100)"
   ]
  },
  {
   "cell_type": "markdown",
   "metadata": {},
   "source": [
    "Clearly, all sequences with a length above 2000 should be viewed as outliers. The histogram peaks at around 380 and 551 AAs, and dies down at around 1400 AAs. Then some outliers occur at around 3000-4000. Also, there's a clear drop in sequences occuring below 205 AAs. Which is kind of what we would expect from a biology standpoint. So we'll put two filters at 250 (conservative) and 1500."
   ]
  },
  {
   "cell_type": "code",
   "execution_count": 5,
   "metadata": {},
   "outputs": [
    {
     "data": {
      "text/plain": [
       "(3933, 3933)"
      ]
     },
     "execution_count": 5,
     "metadata": {},
     "output_type": "execute_result"
    }
   ],
   "source": [
    "to_delete = []\n",
    "for i, sequence in enumerate(RBPs.protein_seq):\n",
    "    if (len(sequence) < 250) or (len(sequence) > 1500):\n",
    "        to_delete.append(i)\n",
    "        \n",
    "RBPs = RBPs.drop(to_delete)\n",
    "RBPs = RBPs.reset_index(drop=True)\n",
    "RBPalign = np.delete(RBPalign, to_delete, 0)\n",
    "RBPalign = np.delete(RBPalign, to_delete, 1)\n",
    "RBPalignN = np.delete(RBPalignN, to_delete, 0)\n",
    "RBPalignN = np.delete(RBPalignN, to_delete, 1)\n",
    "RBPalignC = np.delete(RBPalignC, to_delete, 0)\n",
    "RBPalignC = np.delete(RBPalignC, to_delete, 1)\n",
    "\n",
    "RBPs.shape\n",
    "RBPalign.shape"
   ]
  },
  {
   "cell_type": "markdown",
   "metadata": {},
   "source": [
    "### 4 -  RBP building blocks\n",
    "\n",
    "In this section, we try to visualize the different building blocks of RBPs we have identified in previous work and look at their occurrence (= counts) across the species (using a heatmap)."
   ]
  },
  {
   "cell_type": "markdown",
   "metadata": {},
   "source": [
    "*Heatmap without MillardLab RBPs*"
   ]
  },
  {
   "cell_type": "code",
   "execution_count": 7,
   "metadata": {},
   "outputs": [
    {
     "data": {
      "application/vnd.jupyter.widget-view+json": {
       "model_id": "6ad1f343e0944ce1b44edbb5cf8eb5d1",
       "version_major": 2,
       "version_minor": 0
      },
      "text/plain": [
       "  0%|          | 0/3933 [00:00<?, ?it/s]"
      ]
     },
     "metadata": {},
     "output_type": "display_data"
    },
    {
     "name": "stdout",
     "output_type": "stream",
     "text": [
      "test dimensions: True\n"
     ]
    },
    {
     "data": {
      "text/plain": [
       "(7, 87)"
      ]
     },
     "execution_count": 7,
     "metadata": {},
     "output_type": "execute_result"
    }
   ],
   "source": [
    "# define the paths and RBP building blocks (first all N-term, then C-term, then chaps)\n",
    "blocks = ['Phage_T7_tail','Tail_spike_N','Prophage_tail','BppU_N','Mtd_N','Head_binding','DUF3751','End_N_terminal', \n",
    "           'phage_tail_N','Prophage_tailD1','DUF2163','Phage_fiber_2','phage_RBP_N1','phage_RBP_N4','phage_RBP_N26',\n",
    "           'phage_RBP_N28','phage_RBP_N34','phage_RBP_N45', 'other_N', 'unknown_N',\n",
    "           'Lipase_GDSL_2','Pectate_lyase_3','gp37_C','Beta_helix','Gp58','End_beta_propel','End_tail_spike', \n",
    "           'End_beta_barrel','PhageP22-tail','Phage_spike_2','gp12-short_mid','Collar', 'phage_RBP_C2', \n",
    "           'phage_RBP_C10','phage_RBP_C24','phage_RBP_C43','phage_RBP_C59','phage_RBP_C60','phage_RBP_C62',\n",
    "            'phage_RBP_C67','phage_RBP_C79','phage_RBP_C97','phage_RBP_C111','phage_RBP_C115','phage_RBP_C120',\n",
    "            'phage_RBP_C126','phage_RBP_C138','phage_RBP_C143','phage_RBP_C157','phage_RBP_C164','phage_RBP_C175',\n",
    "            'phage_RBP_C180','phage_RBP_C205','phage_RBP_C217','phage_RBP_C220','phage_RBP_C221','phage_RBP_C223',\n",
    "            'phage_RBP_C234','phage_RBP_C235','phage_RBP_C237','phage_RBP_C249','phage_RBP_C259','phage_RBP_C267',\n",
    "            'phage_RBP_C271','phage_RBP_C277','phage_RBP_C281','phage_RBP_C292','phage_RBP_C293','phage_RBP_C296', \n",
    "            'phage_RBP_C300','phage_RBP_C301','phage_RBP_C319','phage_RBP_C320','phage_RBP_C321','phage_RBP_C326', \n",
    "            'phage_RBP_C331','phage_RBP_C337','phage_RBP_C338','phage_RBP_C340',\n",
    "           'Peptidase_S74', 'Phage_fiber_C', 'S_tail_recep_bd', 'CBM_4_9', 'DUF1983', 'DUF3672', 'other_C', 'unknown_C']\n",
    "\n",
    "# initialize dict\n",
    "map_dict = {'enterococcus_faecium': [0]*len(blocks),'staphylococcus_aureus': [0]*len(blocks), \n",
    "               'klebsiella_pneumoniae': [0]*len(blocks), 'acinetobacter_baumannii': [0]*len(blocks),\n",
    "               'pseudomonas_aeruginosa': [0]*len(blocks), 'enterobacter_cloacae': [0]*len(blocks), \n",
    "               'enterobacter_aerogenes': [0]*len(blocks)}\n",
    "\n",
    "# loop over every species and make dict of counts of every block (incl 'other')\n",
    "loc_otherN = blocks.index('other_N')\n",
    "loc_otherC = blocks.index('other_C')\n",
    "loc_unknownN = blocks.index('unknown_N')\n",
    "loc_unknownC = blocks.index('unknown_C')\n",
    "bar = tqdm(total=len(RBPs.sequence), leave=True)\n",
    "for i, sequence in enumerate(RBPs['sequence']):\n",
    "    host = RBPs['host'][i]\n",
    "    domains, scores, biases, ranges = exu.gene_domain_scan(hmm_path, pfam_db, [sequence], threshold=18)\n",
    "    unknown_N = 0\n",
    "    unknown_C = 0\n",
    "    # loop over hits and count the significants in the correct key of the dictionary\n",
    "    for j, dom in enumerate(domains):\n",
    "        OM_score = math.floor(math.log(scores[j], 10)) # order of magnitude\n",
    "        OM_bias = math.floor(math.log(biases[j]+0.00001, 10))\n",
    "        # add building block domain at correct location\n",
    "        if (OM_score > OM_bias) and (dom in blocks):\n",
    "            location = blocks.index(dom)\n",
    "            if (location <= loc_unknownN):\n",
    "                unknown_N += 1\n",
    "                map_dict[host][location] += 1\n",
    "            elif (location > loc_unknownN) and (scores[j] >= 25): # C-terminals over 25\n",
    "                unknown_C += 1\n",
    "                map_dict[host][location] += 1\n",
    "        # add other_N domain\n",
    "        elif (OM_score > OM_bias) and (dom not in blocks) and (ranges[j][1] < 200):\n",
    "            map_dict[host][loc_otherN] += 1\n",
    "            unknown_N += 1\n",
    "        # add other_C domain\n",
    "        elif (OM_score > OM_bias) and (dom not in blocks) and (ranges[j][1] >= 200) and (scores[j] >= 25):\n",
    "            map_dict[host][loc_otherC] += 1\n",
    "            unknown_C += 1\n",
    "    # add counts if no known domain was found\n",
    "    if unknown_N == 0:\n",
    "        map_dict[host][loc_unknownN] += 1\n",
    "    elif unknown_C == 0:\n",
    "        map_dict[host][loc_unknownC] += 1\n",
    "    bar.update(1)\n",
    "bar.close()\n",
    "    \n",
    "# convert dict to matrix and normalize to plot as heatmap (rows = species, cols = building blocks)\n",
    "map_df = pd.DataFrame.from_dict(map_dict)\n",
    "map_array = np.asarray(map_df).T\n",
    "map_array_N = map_array[:,:loc_unknownN+1]\n",
    "map_array_C = map_array[:,loc_unknownN+1:]\n",
    "print('test dimensions:', map_array.shape[1] == (map_array_N.shape[1]+map_array_C.shape[1]))\n",
    "\n",
    "# split and normalize N/C separately, then concat again\n",
    "map_array_N = map_array_N/map_array_N.sum(axis=1, keepdims=1)\n",
    "map_array_C = map_array_C/map_array_C.sum(axis=1, keepdims=1)\n",
    "map_array = np.concatenate((map_array_N, map_array_C), axis=1)\n",
    "map_array.shape"
   ]
  },
  {
   "cell_type": "code",
   "execution_count": 22,
   "metadata": {},
   "outputs": [
    {
     "data": {
      "text/html": [
       "<div>\n",
       "<style scoped>\n",
       "    .dataframe tbody tr th:only-of-type {\n",
       "        vertical-align: middle;\n",
       "    }\n",
       "\n",
       "    .dataframe tbody tr th {\n",
       "        vertical-align: top;\n",
       "    }\n",
       "\n",
       "    .dataframe thead th {\n",
       "        text-align: right;\n",
       "    }\n",
       "</style>\n",
       "<table border=\"1\" class=\"dataframe\">\n",
       "  <thead>\n",
       "    <tr style=\"text-align: right;\">\n",
       "      <th></th>\n",
       "      <th>phage_RBP_C120</th>\n",
       "      <th>phage_RBP_C143</th>\n",
       "      <th>phage_RBP_C175</th>\n",
       "      <th>phage_RBP_C221</th>\n",
       "      <th>phage_RBP_C234</th>\n",
       "      <th>phage_RBP_C237</th>\n",
       "      <th>phage_RBP_C271</th>\n",
       "      <th>phage_RBP_C277</th>\n",
       "    </tr>\n",
       "  </thead>\n",
       "  <tbody>\n",
       "    <tr>\n",
       "      <th>0</th>\n",
       "      <td>0.164201</td>\n",
       "      <td>0.16716</td>\n",
       "      <td>0.000000</td>\n",
       "      <td>0.000000</td>\n",
       "      <td>0.023669</td>\n",
       "      <td>0.023669</td>\n",
       "      <td>0.000000</td>\n",
       "      <td>0.000000</td>\n",
       "    </tr>\n",
       "    <tr>\n",
       "      <th>1</th>\n",
       "      <td>0.000000</td>\n",
       "      <td>0.00000</td>\n",
       "      <td>0.119203</td>\n",
       "      <td>0.237639</td>\n",
       "      <td>0.000000</td>\n",
       "      <td>0.000000</td>\n",
       "      <td>0.236489</td>\n",
       "      <td>0.119203</td>\n",
       "    </tr>\n",
       "    <tr>\n",
       "      <th>2</th>\n",
       "      <td>0.000000</td>\n",
       "      <td>0.00000</td>\n",
       "      <td>0.000000</td>\n",
       "      <td>0.000000</td>\n",
       "      <td>0.000000</td>\n",
       "      <td>0.000000</td>\n",
       "      <td>0.000000</td>\n",
       "      <td>0.000000</td>\n",
       "    </tr>\n",
       "    <tr>\n",
       "      <th>3</th>\n",
       "      <td>0.000000</td>\n",
       "      <td>0.00000</td>\n",
       "      <td>0.000000</td>\n",
       "      <td>0.000000</td>\n",
       "      <td>0.000000</td>\n",
       "      <td>0.000000</td>\n",
       "      <td>0.000000</td>\n",
       "      <td>0.000000</td>\n",
       "    </tr>\n",
       "    <tr>\n",
       "      <th>4</th>\n",
       "      <td>0.000000</td>\n",
       "      <td>0.00000</td>\n",
       "      <td>0.000000</td>\n",
       "      <td>0.000000</td>\n",
       "      <td>0.000000</td>\n",
       "      <td>0.000000</td>\n",
       "      <td>0.000000</td>\n",
       "      <td>0.000000</td>\n",
       "    </tr>\n",
       "    <tr>\n",
       "      <th>5</th>\n",
       "      <td>0.000000</td>\n",
       "      <td>0.00000</td>\n",
       "      <td>0.000000</td>\n",
       "      <td>0.000000</td>\n",
       "      <td>0.000000</td>\n",
       "      <td>0.000000</td>\n",
       "      <td>0.000000</td>\n",
       "      <td>0.000000</td>\n",
       "    </tr>\n",
       "    <tr>\n",
       "      <th>6</th>\n",
       "      <td>0.000000</td>\n",
       "      <td>0.00000</td>\n",
       "      <td>0.000000</td>\n",
       "      <td>0.000000</td>\n",
       "      <td>0.000000</td>\n",
       "      <td>0.000000</td>\n",
       "      <td>0.000000</td>\n",
       "      <td>0.000000</td>\n",
       "    </tr>\n",
       "  </tbody>\n",
       "</table>\n",
       "</div>"
      ],
      "text/plain": [
       "   phage_RBP_C120  phage_RBP_C143  phage_RBP_C175  phage_RBP_C221  \\\n",
       "0        0.164201         0.16716        0.000000        0.000000   \n",
       "1        0.000000         0.00000        0.119203        0.237639   \n",
       "2        0.000000         0.00000        0.000000        0.000000   \n",
       "3        0.000000         0.00000        0.000000        0.000000   \n",
       "4        0.000000         0.00000        0.000000        0.000000   \n",
       "5        0.000000         0.00000        0.000000        0.000000   \n",
       "6        0.000000         0.00000        0.000000        0.000000   \n",
       "\n",
       "   phage_RBP_C234  phage_RBP_C237  phage_RBP_C271  phage_RBP_C277  \n",
       "0        0.023669        0.023669        0.000000        0.000000  \n",
       "1        0.000000        0.000000        0.236489        0.119203  \n",
       "2        0.000000        0.000000        0.000000        0.000000  \n",
       "3        0.000000        0.000000        0.000000        0.000000  \n",
       "4        0.000000        0.000000        0.000000        0.000000  \n",
       "5        0.000000        0.000000        0.000000        0.000000  \n",
       "6        0.000000        0.000000        0.000000        0.000000  "
      ]
     },
     "execution_count": 22,
     "metadata": {},
     "output_type": "execute_result"
    }
   ],
   "source": [
    "# new clusters\n",
    "pd.DataFrame(map_array_C, columns=blocks[20:])[['phage_RBP_C120', 'phage_RBP_C143', 'phage_RBP_C175', 'phage_RBP_C221', 'phage_RBP_C234', 'phage_RBP_C237', 'phage_RBP_C271', 'phage_RBP_C277']]"
   ]
  },
  {
   "cell_type": "code",
   "execution_count": 10,
   "metadata": {},
   "outputs": [
    {
     "data": {
      "image/png": "[encoded data removed]",
      "text/plain": [
       "<Figure size 1440x360 with 2 Axes>"
      ]
     },
     "metadata": {
      "needs_background": "light"
     },
     "output_type": "display_data"
    }
   ],
   "source": [
    "fig, ax = plt.subplots(figsize=(20,5))\n",
    "xticks = blocks\n",
    "yticks = ['E. faecium', 'S. aureus', 'K. pneumoniae', 'A. baumannii', 'P. aeruginosa', 'E. cloacae', 'E. aerogenes']\n",
    "sns.heatmap(map_array, cmap='YlGnBu', xticklabels=xticks, yticklabels=yticks)\n",
    "ax.hlines([1, 2, 3, 4, 5, 6], *ax.get_xlim())\n",
    "ax.vlines([loc_unknownN+1], *ax.get_ylim())\n",
    "ax.set_title('Heatmap of occurences of RBP domains across the ESKAPE species \\n normalized per species and per N/C terminus', size=15)\n",
    "plt.tight_layout()\n",
    "fig.savefig('/Users/dimi/GoogleDrive/PhD/4_WP2_PWLEARNING/43_RESULTS/RBP_exploration/prophages_domains_heatmap_thr18.png', dpi=400)"
   ]
  },
  {
   "cell_type": "markdown",
   "metadata": {},
   "source": [
    "*Heatmap with MillardLab RBPs included*"
   ]
  },
  {
   "cell_type": "code",
   "execution_count": 16,
   "metadata": {},
   "outputs": [],
   "source": [
    "milrbps = pd.read_csv('/Users/Dimi/GoogleDrive/PhD/3_WP1_PHAGEBASE/32_DATA/MillardLab_RBPs.csv', sep='\\t')\n",
    "to_delete = [index for index, name in enumerate(milrbps['ProteinName']) if 'attachment' in name]\n",
    "milrbps.drop(index=to_delete, inplace=True)\n",
    "milrbps.reset_index(inplace=True)"
   ]
  },
  {
   "cell_type": "code",
   "execution_count": 17,
   "metadata": {},
   "outputs": [],
   "source": [
    "mil_df = pd.DataFrame({'phage_nr': [999]*milrbps.shape[0], 'host': milrbps.Host, 'host_accession': milrbps.Accession,\n",
    "                      'sequence': milrbps.DNASeq, 'protein_seq': milrbps.ProteinSeq})\n",
    "RBPs = pd.concat([RBPs, mil_df], axis=0, ignore_index=True)"
   ]
  },
  {
   "cell_type": "code",
   "execution_count": 18,
   "metadata": {},
   "outputs": [
    {
     "data": {
      "application/vnd.jupyter.widget-view+json": {
       "model_id": "766c2afd63dd45859704516622f4ff21",
       "version_major": 2,
       "version_minor": 0
      },
      "text/plain": [
       "  0%|          | 0/8899 [00:00<?, ?it/s]"
      ]
     },
     "metadata": {},
     "output_type": "display_data"
    },
    {
     "name": "stderr",
     "output_type": "stream",
     "text": [
      "/opt/anaconda3/lib/python3.7/site-packages/Bio/Seq.py:2859: BiopythonWarning: Partial codon, len(sequence) not a multiple of three. Explicitly trim the sequence or add trailing N before translation. This may become an error in future.\n",
      "  BiopythonWarning,\n"
     ]
    },
    {
     "name": "stdout",
     "output_type": "stream",
     "text": [
      "test dimensions: True\n"
     ]
    },
    {
     "data": {
      "text/plain": [
       "(8, 87)"
      ]
     },
     "execution_count": 18,
     "metadata": {},
     "output_type": "execute_result"
    }
   ],
   "source": [
    "# define the paths and RBP building blocks (first all N-term, then C-term, then chaps)\n",
    "blocks = ['Phage_T7_tail','Tail_spike_N','Prophage_tail','BppU_N','Mtd_N','Head_binding','DUF3751','End_N_terminal', \n",
    "           'phage_tail_N','Prophage_tailD1','DUF2163','Phage_fiber_2','phage_RBP_N1','phage_RBP_N4','phage_RBP_N26',\n",
    "           'phage_RBP_N28','phage_RBP_N34','phage_RBP_N45', 'other_N', 'unknown_N',\n",
    "           'Lipase_GDSL_2','Pectate_lyase_3','gp37_C','Beta_helix','Gp58','End_beta_propel','End_tail_spike', \n",
    "           'End_beta_barrel','PhageP22-tail','Phage_spike_2','gp12-short_mid','Collar', 'phage_RBP_C2', \n",
    "           'phage_RBP_C10','phage_RBP_C24','phage_RBP_C43','phage_RBP_C59','phage_RBP_C60','phage_RBP_C62',\n",
    "            'phage_RBP_C67','phage_RBP_C79','phage_RBP_C97','phage_RBP_C111','phage_RBP_C115','phage_RBP_C120',\n",
    "            'phage_RBP_C126','phage_RBP_C138','phage_RBP_C143','phage_RBP_C157','phage_RBP_C164','phage_RBP_C175',\n",
    "            'phage_RBP_C180','phage_RBP_C205','phage_RBP_C217','phage_RBP_C220','phage_RBP_C221','phage_RBP_C223',\n",
    "            'phage_RBP_C234','phage_RBP_C235','phage_RBP_C237','phage_RBP_C249','phage_RBP_C259','phage_RBP_C267',\n",
    "            'phage_RBP_C271','phage_RBP_C277','phage_RBP_C281','phage_RBP_C292','phage_RBP_C293','phage_RBP_C296', \n",
    "            'phage_RBP_C300','phage_RBP_C301','phage_RBP_C319','phage_RBP_C320','phage_RBP_C321','phage_RBP_C326', \n",
    "            'phage_RBP_C331','phage_RBP_C337','phage_RBP_C338','phage_RBP_C340',\n",
    "           'Peptidase_S74', 'Phage_fiber_C', 'S_tail_recep_bd', 'CBM_4_9', 'DUF1983', 'DUF3672', 'other_C', 'unknown_C']\n",
    "\n",
    "# initialize dict\n",
    "map_dict = {'enterococcus_faecium': [0]*len(blocks),'staphylococcus_aureus': [0]*len(blocks), \n",
    "               'klebsiella_pneumoniae': [0]*len(blocks), 'acinetobacter_baumannii': [0]*len(blocks),\n",
    "               'pseudomonas_aeruginosa': [0]*len(blocks), 'enterobacter_cloacae': [0]*len(blocks), \n",
    "               'enterobacter_aerogenes': [0]*len(blocks), 'MillardLab_RBPs': [0]*len(blocks)}\n",
    "\n",
    "# loop over every species and make dict of counts of every block (incl 'other')\n",
    "loc_otherN = blocks.index('other_N')\n",
    "loc_otherC = blocks.index('other_C')\n",
    "loc_unknownN = blocks.index('unknown_N')\n",
    "loc_unknownC = blocks.index('unknown_C')\n",
    "bar = tqdm(total=len(RBPs.sequence), leave=True)\n",
    "for i, sequence in enumerate(RBPs['sequence']):\n",
    "    host = RBPs['host'][i]\n",
    "    domains, scores, biases, ranges = exu.gene_domain_scan(hmm_path, pfam_db, [sequence], threshold=18)\n",
    "    unknown_N = 0\n",
    "    unknown_C = 0\n",
    "    # loop over hits and count the significants in the correct key of the dictionary\n",
    "    for j, dom in enumerate(domains):\n",
    "        # order of magnitude\n",
    "        OM_score = math.floor(math.log(scores[j], 10))\n",
    "        OM_bias = math.floor(math.log(biases[j]+0.00001, 10))\n",
    "        # add building block domain at correct location\n",
    "        if (OM_score > OM_bias) and (dom in blocks):\n",
    "            location = blocks.index(dom)\n",
    "            if host in map_dict.keys():\n",
    "                if location <= loc_unknownN:\n",
    "                    map_dict[host][location] += 1\n",
    "                    unknown_N += 1\n",
    "                elif (location > loc_unknownN) and (scores[j] >= 25):\n",
    "                    map_dict[host][location] += 1\n",
    "                    unknown_C += 1\n",
    "            else:\n",
    "                if location <= loc_unknownN:\n",
    "                    map_dict['MillardLab_RBPs'][location] += 1\n",
    "                    unknown_N += 1\n",
    "                elif (location > loc_unknownN) and (scores[j] >= 25):\n",
    "                    map_dict['MillardLab_RBPs'][location] += 1\n",
    "                    unknown_C += 1\n",
    "        # add other_N domain\n",
    "        elif (OM_score > OM_bias) and (dom not in blocks) and (ranges[j][1] < 200):\n",
    "            if host in map_dict.keys():\n",
    "                map_dict[host][loc_otherN] += 1\n",
    "            else:\n",
    "                map_dict['MillardLab_RBPs'][loc_otherN] += 1\n",
    "            unknown_N += 1\n",
    "        # add other_C domain\n",
    "        elif (OM_score > OM_bias) and (dom not in blocks) and (ranges[j][1] >= 200) and (scores[j] >= 25):\n",
    "            if host in map_dict.keys():\n",
    "                map_dict[host][loc_otherC] += 1\n",
    "            else:\n",
    "                map_dict['MillardLab_RBPs'][loc_otherC] += 1\n",
    "            unknown_C += 1\n",
    "    # add counts if no known domain was found\n",
    "    if unknown_N == 0:\n",
    "        if host in map_dict.keys():\n",
    "            map_dict[host][loc_unknownN] += 1\n",
    "        else:\n",
    "            map_dict['MillardLab_RBPs'][loc_unknownN] += 1\n",
    "    elif unknown_C == 0:\n",
    "        if host in map_dict.keys():\n",
    "            map_dict[host][loc_unknownC] += 1\n",
    "        else:\n",
    "            map_dict['MillardLab_RBPs'][loc_unknownC] += 1\n",
    "    bar.update(1)\n",
    "bar.close()\n",
    "    \n",
    "# convert dict to matrix and normalize to plot as heatmap (rows = species, cols = building blocks)\n",
    "map_df = pd.DataFrame.from_dict(map_dict)\n",
    "map_array = np.asarray(map_df).T\n",
    "map_array_N = map_array[:,:loc_unknownN+1]\n",
    "map_array_C = map_array[:,loc_unknownN+1:]\n",
    "print('test dimensions:', map_array.shape[1] == (map_array_N.shape[1]+map_array_C.shape[1]))\n",
    "\n",
    "# split and normalize N/C separately, then concat again\n",
    "map_array_N = map_array_N/map_array_N.sum(axis=1, keepdims=1)\n",
    "map_array_C = map_array_C/map_array_C.sum(axis=1, keepdims=1)\n",
    "map_array = np.concatenate((map_array_N, map_array_C), axis=1)\n",
    "map_array.shape"
   ]
  },
  {
   "cell_type": "code",
   "execution_count": 19,
   "metadata": {},
   "outputs": [
    {
     "data": {
      "image/png": "[encoded data removed]",
      "text/plain": [
       "<Figure size 1440x360 with 2 Axes>"
      ]
     },
     "metadata": {
      "needs_background": "light"
     },
     "output_type": "display_data"
    }
   ],
   "source": [
    "fig, ax = plt.subplots(figsize=(20,5))\n",
    "xticks = blocks\n",
    "yticks = ['E. faecium', 'S. aureus', 'K. pneumoniae', 'A. baumannii', 'P. aeruginosa', 'E. cloacae', 'E. aerogenes', 'Other MilRBPs']\n",
    "sns.heatmap(map_array, cmap='YlGnBu', xticklabels=xticks, yticklabels=yticks)\n",
    "ax.hlines([1, 2, 3, 4, 5, 6, 7], *ax.get_xlim())\n",
    "ax.vlines([20], *ax.get_ylim())\n",
    "ax.set_title('Heatmap of occurences of RBP domains across the ESKAPE species \\n normalized per species and per N/C terminus', size=15)\n",
    "plt.tight_layout()\n",
    "fig.savefig('/Users/dimi/GoogleDrive/PhD/4_WP2_PWLEARNING/43_RESULTS/RBP_exploration/allRBPs_domains_heatmap.png', dpi=400)"
   ]
  },
  {
   "cell_type": "markdown",
   "metadata": {},
   "source": [
    "The heatmap of normalized count (P(domain ¡ host)) looks somewhat better than when we display absolute counts. In addition, we have normalized all of the building blocks of the N-terminus separately from the one of the C-terminus. This allows us to more easily appreciate how the building blocks at the N-terminus are distributed and those at the C-terminus (because these are two separate distributions of course! = mosaicism). \n",
    "\n",
    "Looking at the N-terminus, the first thing we notice is two groups (E. faecium + S. aureus) that are characterized by the proportionally equal occurence of Prophage_tail and BppU_N; and the other species that are characterized by the occurence of DUF3751 together with DUF2163 or Phage_fiber_2. Overall, not many of the N-terminal blocks are 'other_N', meaning protein domains that occur but that we haven't (manually) identified to be related to RBPs. In addition, we see some unknown blocks, particularly present at the C-terminus for E. faecium and S. aureus. A. baumannii also exhibits some unknown blocks but here at the N-terminus.\n",
    "\n",
    "Looking at the C-terminus, we see that E. faecium mostly has other C-terminal domains (which we also noticed on the first network-style visualization we made), which in a sense is weird because this should have been 'dealt with' at the stage of the RBP detection: we have attempted to discover unknown N/C termini and clustering them to construct new HMMs. If E. faecium sequences weren't included in these new HMMs, it is because they appeared in clusters that were too small (less than 5 entries per cluster). Indeed, in of the 347 C-terminal clusters that were identified, only 47 (=13.5%) of them contained more than 5 sequences. S. aureus looks very binary at the C-terminus: either Lipase_GDSL_2 or some other domain(s). K. pneumoniae and P. aeruginosa and mostly E. aerogenes as well seem pretty much equally distributed (indeed, we observed before that many of the in-house constructed HMMs match K. pneumoniae and P. aeruginosa sequences). A. baumannii also matches some of these constructed HMMs but in a much more sparse way (most matches with phage_RBP_C296, some with phage_RBP_C220 and phage_RBP_C10).\n",
    "\n",
    "UPDATE 15/04\n",
    "\n",
    "The picture at the C-terminus improved for E. faecium, but for S. aureus we still have most C-terminal ends unknown. This means that C-terminal ends that do not share a known domain are too dissimilar to be taken up into HMMs (cfr. cluster of >=5 members). But does this make sense? Above, we do see the histograms of the C-terminal ends, in which there are sequences that share 70+% identity. So for these not to be involved in clusters, they must have a known C-terminal end.\n",
    "\n",
    "UPDATE 16/04\n",
    "\n",
    "Something we also notice is that for K. pneumoniae, A. baumannii and E. cloacae, most of the N-terminal blocks are also unknown! Would the reason for this be similar to the S. aureus C-terminal unknowns? In general, over all species, we see that our constructed N-terminal HMMs have not picked up any of the sequences in the set... Not finding many hits for the species that have a lot of other KNOWN N-terminal blocks is expected (e.g. E. faecium and S. aureus and even P. aeruginosa). But the ones with the majority of unknown blocks is weird. Because these are the ones that you would expect to be in the HMM construction, and thus those that you would want to find. Same for S. aureus at the C-terminus.\n",
    "\n",
    "The size of the clusters does not seem to be of influence, because the big N_28 cluster has 79 sequences in it but doesn't find anything here! Looking in detail at the HMM hits of N_28, we find 13 hits in the database, but all of them with a score < 25 (don't pass the threshold). Most of them are in the range of 12-14 scores. And still, it is remarkable that from a profile of 79 sequences (those same sequences), that only 13 of them are picked up afterwards.\n",
    "\n",
    "One potential explanation for the N-terminals: because we see that at the C-terminus, this problem doesn't occur, it might have to do with the length of the profiles. More specifically, shorter sequences lead to lower scores (while still 'significant' hits)\n",
    "\n",
    "CONCLUSIONS:\n",
    "- The heatmap is not a complete picture, as we filter some of the newly constructed HMMs out of precaution (suspicious annotations).\n",
    "- While it is true that most clusters have only one member, and thus we don't see them in the HMM construction, this only represents 16.6% of the sequences in all of the clusters. Meaning: there are some cluster that have a substantial amount of sequences in them (50+). From a sequence perspective, we still include +75% of the C-terminal ends in the HMMs.\n",
    "- The S. aureus sequences are thus not all unique or much more diverse than the other species. It's because they were in cluster C_221, which got filtered.\n",
    "- The known C-terminal building blocks don't occur very often, but this has been the case throughout all the iterations, this is not new.\n",
    "- The strange last thing, is the newly constructed N-terminals. This partly has to do with cluster N_1 that got filtered, but we've also noticed strange behaviour for e.g. N_28, which has 79 members but afterwards only finds 13 hits that are all filtered under the score threshold... **remaining question: why does a profile built with unknown sequences at first not find those after it is built?** Versus: cluster 1 only containing 7 sequences and then detecting a loooot of new hits?!\n",
    "- We've trained HMMs on MillardLab RBPs as well, explains why some models have no hits whatsoever!\n",
    "\n",
    "UPDATE 30/04\n",
    "\n",
    "After adding the new HMMs to Pfam extended and appropriately renaming these HMMs, we see a result that we expect. The unknowns for S. aureus are gone, and spread out accross the HMMs that we hadn't included before. Now we do notice 'many' unknown hits at the N-terminus, for E. cloacae and A. baumannii, but this is misleading as it is shown in a heatmap! Previously, the largest values on the heatmap were 0.8, while now this is only 0.5. So colors can't be compared to previously constructed heatmaps. In general, we wouls expect a little more hits as we've lowered the threshold for N-terminal HMMs from 25 to 18. But ofcourse, we can not make hard conclusions based on the heatmap, because it only shows frequencies, not absolute numbers. \n",
    "\n",
    "The fact that we do see quite a lot of unknowns (especially for A. baumannii and E. cloacae), we can pose the question whether more novel HMMs could additionally be constructed for the N-terminus (because now, we have included all of the HMMs that we have already constructed).\n",
    "\n",
    "UPDATE 03/05\n",
    "\n",
    "What is a good precision here? A good precision would be if we only include a sequence if:\n",
    "\n",
    "1. the sequence has at least one known Pfam RBP-related domain (not custom built by us) at either N- or C-terminus, in combination with either a custom built HMM or an other domain or an unknown.\n",
    "2. the sequence has a combination of custom built HMMs, both of which ALSO occur in combination with known Pfam RBP domains.\n",
    "\n",
    "Hypothesis: in HMMs built with many sequences, some of the 'signal' of a subpart of the sequences may get lost (signal-to-noise ratio) due to the presence of the other sequences, which leads to insignificant hits."
   ]
  },
  {
   "cell_type": "markdown",
   "metadata": {},
   "source": [
    "We see a lot of hits in cluster C_221, but this is one that we have discarded based on suspicious annotation! The same might be true for cluster N_1, which was also discarded but often had hits related to Klebsiella and Acinetobacter..."
   ]
  },
  {
   "cell_type": "code",
   "execution_count": 5,
   "metadata": {},
   "outputs": [
    {
     "data": {
      "text/plain": [
       "Text(0, 0.5, 'number of occurences')"
      ]
     },
     "execution_count": 5,
     "metadata": {},
     "output_type": "execute_result"
    },
    {
     "data": {
      "image/png": "[encoded data removed]",
      "text/plain": [
       "<Figure size 720x576 with 1 Axes>"
      ]
     },
     "metadata": {
      "needs_background": "light"
     },
     "output_type": "display_data"
    }
   ],
   "source": [
    "# histogram of number of sequences in the clusters\n",
    "dom_path = '/Users/Dimi/GoogleDrive/PhD/3_WP1_PHAGEBASE/32_DATA/RBP_detection/clusters' \n",
    "clusters_unknown_C = open(dom_path+'/'+ 'unknown_N_termini.clstr')\n",
    "cluster_count = 0\n",
    "cluster_sizes = []\n",
    "for line in clusters_unknown_C.readlines():\n",
    "    # new cluster\n",
    "    if line[0] == '>':\n",
    "        cluster_sizes.append(cluster_count)\n",
    "        cluster_count = 0\n",
    "    # in a cluster -> count sequence\n",
    "    else:\n",
    "        cluster_count += 1\n",
    "cluster_sizes.pop(0) # delete first artifact\n",
    "\n",
    "# make histogram\n",
    "fig, ax = plt.subplots(figsize=(10,8))\n",
    "plt.hist(cluster_sizes, bins=120)\n",
    "plt.xlim(0, 100)\n",
    "plt.xlabel('number of sequences in N-terminal cluster')\n",
    "plt.ylabel('number of occurences')\n",
    "#plt.savefig('/Users/dimi/GoogleDrive/PhD/4_WP2_PWLEARNING/43_RESULTS/RBP_exploration/cluster40_size_histogram.png', dpi=400)"
   ]
  },
  {
   "cell_type": "code",
   "execution_count": 4,
   "metadata": {},
   "outputs": [
    {
     "data": {
      "text/plain": [
       "0.2843601895734597"
      ]
     },
     "execution_count": 4,
     "metadata": {},
     "output_type": "execute_result"
    }
   ],
   "source": [
    "# proportion of sequences that reside in a singular cluster (size 1)\n",
    "(cluster_sizes.count(1)+cluster_sizes.count(2)+cluster_sizes.count(3)+cluster_sizes.count(4))/ sum(cluster_sizes)"
   ]
  },
  {
   "cell_type": "code",
   "execution_count": null,
   "metadata": {},
   "outputs": [],
   "source": [
    "# see how many E faecium and S aureus sequences in the different clusters\n",
    "# {cluster_size: species_sequences}\n",
    "#indices = [index for index, sequence in enumerate(genebase.sequence) if cluster_sequence in str(Seq(sequence).translate()[:-1])]\n",
    "genebase = pd.read_csv('/Users/Dimi/GoogleDrive/PhD/3_WP1_PHAGEBASE/32_DATA/PhageGeneBase.csv')\n",
    "entero_indices = genebase.host == 'enterococcus_faecium'\n",
    "staph_indices = genebase.host == 'staphylococcus_aureus'\n",
    "enteros = genebase.sequence[entero_indices]\n",
    "staphs = genebase.sequence[staph_indices]\n",
    "\n",
    "# get the sequences\n",
    "input_file = dom_path+'/'+ 'unknown_C_cutsequences.fasta'\n",
    "sequence_list = []\n",
    "for record in SeqIO.parse(input_file, 'fasta'): # get sequences in a list\n",
    "    sequence_list.append(str(record.seq))\n",
    "    \n",
    "clusters_unknown_C = open(dom_path+'/'+ 'unknown_C_termini.clstr')\n",
    "for line in clusters_unknown_C.readlines():\n",
    "    if line[0] == '>':\n",
    "        # finish old cluster if not the first one\n",
    "        if (cluster_iter > 0):\n",
    "            staph_counts = sum([1 for ])\n",
    "            \n",
    "            \n",
    "            \n",
    "            fasta = open(dom_path+'/'+'unknown_C_termini_cluster_'+str(cluster_iter)+'.fasta', 'w')\n",
    "            for i, seq in enumerate(cluster_sequences):\n",
    "                index = cluster_indices[i]\n",
    "                fasta.write('>sequence'+index+'\\n'+seq+'\\n')\n",
    "            fasta.close()\n",
    "        # initiate new cluster\n",
    "        cluster_sequences = []\n",
    "        cluster_indices = []\n",
    "        cluster_iter += 1\n",
    "    # in a cluster\n",
    "    else:\n",
    "        current_index = re.search('>sequence_[0-9]+', line).group(0).split('sequence_')[1]\n",
    "        current_sequence = sequence_list[int(current_index)]\n",
    "        cluster_indices.append(current_index)\n",
    "        cluster_sequences.append(current_sequence)"
   ]
  },
  {
   "cell_type": "markdown",
   "metadata": {},
   "source": [
    "The heatmap is interesting, and shows us how different building blocks occur across the species. But it doesn't show us how different combinations of building blocks occur, from which we could infer:\n",
    "1. how combinations differ accross species\n",
    "2. which (predicted) HGT events have occurred\n",
    "\n",
    "This is why the next section focuses on constructing bipartite graphs and/or chord diagrams that illustrate the occurences of the building blocks as well as which combinations of them occur (per species)."
   ]
  },
  {
   "cell_type": "markdown",
   "metadata": {},
   "source": [
    "### 5 - RBP cluster graph & building blocks\n",
    "\n",
    "For simplicity, we concat the chaperone domains with the binding domains (we're interested in HGTs between N- and C-terminus). High scoring interactions linked to nodes of high degree, can indicate particularly important interactions in the network. Can we identify differences in 'importance interactions' (= important domain combos here), that differ among the species?!\n",
    "\n",
    "RERUN RBP set first to exclude MillardLab RBPs!"
   ]
  },
  {
   "cell_type": "code",
   "execution_count": null,
   "metadata": {},
   "outputs": [],
   "source": [
    "species = ['enterococcus_faecium', 'staphylococcus_aureus', 'klebsiella_pneumoniae', 'acinetobacter_baumannii', \n",
    "          'pseudomonas_aeruginosa', 'enterobacter_cloacae', 'enterobacter_aerogenes']\n",
    "for sp in species:\n",
    "    indices = RBPs.host == sp\n",
    "    sequences_sp = RBPs.sequence[indices]\n",
    "    exu.domain_cluster_graph(hmm_path, pfam_db, sequences_sp, filename='/Users/Dimi/Desktop/domains_circos_'+sp+'.png')"
   ]
  },
  {
   "cell_type": "markdown",
   "metadata": {},
   "source": [
    "Now the question is: can we identify combinations that are unique to some species or that occur more often in some species versus others?\n",
    "\n",
    "As a reference, the following clusters were initially filtered: N_1, C_120, C_143, C_175, C_221, C_234, C_237, C_271, C_277. These are the clusters we will pay extra attention to. We should also be wary of unknown-unknown combinations and other-unknown or unknown-other combinations.\n",
    "\n",
    "##### E. faecium\n",
    "At first glance, the circos graph for E. faecium appears dense. Many different combinations are identified. At the N-terminus, most combinations are with Prophage_tail, BppU_N and other_N. At the side of the C-terminus, we notice a lot of phage_RBP_C143, phage_RBP_C249, phage_RBP_C321 and other_C. The combinations that occur most frequently are (Prophage_tail + phage_RBP_C249), (BppU_N + phage_RBP_C321), (Prophage_tail + other_C), (other_N + phage_RBP_C143) and (other_N + phage_RBP_C120). We also notice very few unknown_C, which is a good thing, but quite a few other_C, which hints at the possibility of adding more known Pfam domains to the curated RBP list. We also notice some (other_N + other_C) combinations. We do not however notice any unknown+unknown, other+unknown or unknown+other combinations, which is good. Additionally, looking at this circos graph, none of the later added clusters look suspicious. The only sequences we could filter here are the (other_N + other_C) combinations.\n",
    "\n",
    "##### S. aureus\n",
    "For S. aureus, the first glance of the graph looks quite similar to E. faecium. Here, the one N-terminal building block that is present most often is BppU_N, followed by Prophage_tailD1 and Prophage_tail. At the C-terminus, we see a lot of C221, C271 and C277; in addition to other_C and unknown_C. Interestingly, the three custom built HMMs are all mostly linked to BppU_N. Some sequences seem to have a (unknown_N + other_C) combination, which might seem at first odd as to how it got in the dataset in the first place. But this could actually be a (unknown_N + Lipase_GDSL_2 + other_C) combination, we cannot see those threefold combinations from the circos graphs. Same with a (other_N + unknown_C) combination that could also be a (Prophage_tailD1 + other_N + unknown_C) combination. This is something we can account for in the final filtering below.\n",
    "\n",
    "##### K. pneumoniae\n",
    "Here we directly notice the many unknown_N occurences, which was already obvious from the heatmap. To put this into perspective, about 50% of the sequences have an unknown_N block. Most of these unknown_N are linked to C235, which itself is only seldom linked with DUF3751. This could be a block that we filter from the final selection. One other thing we notice is that N1 is mostly linked with unknown_C and other_C and only sometimes linked with Lipase_GDSL_2. Instead of completely discarding those sequences, we can also opt to discard the combinations that we think are dubious (N1 + unknown_C).\n",
    "\n",
    "##### A. baumannii\n",
    "Here, DUF3751, DUF2163 and unknown_N are the most occurring at the N-terminus. Two suspicious combinations we see are (unknown_N + **phage_RBP_C217**) and (unknown_N + **phage_RBP_C259**). Both C-terminal HMMs are not related to any other combination! The question now is, do we delete those? As they were not denoted as being suspicious by BLAST results.\n",
    "\n",
    "##### P. aeruginosa\n",
    "For P. aeruginosa we immediately notice the DUF3751 and DUF2163 that occur most often, followed by the unknown_N domain. We also see that these are combined with a variety of C-terminal building blocks, mostly custom built ones. This shows a nice example of HGT, but at the same time, we can notice that the combinations with DUF3751 are mostly distinct from the combinations with DUF2163 (groups of phages targeting other strains?). We also notice very few unknown_C, which is a sign that are constructed HMMs capture the C-terminal blocks very well (but in contrast, most of the C-terminal Pfam domains rarely occur).\n",
    "\n",
    "##### E. cloacae\n",
    "This is the second species for which we notice many unknown_N, followed by Phage_fiber_2 and DUF3751. One particular suspicious combo that we notice is (unknown_N + C67), as the **C67** does not occur in combination with any other N-terminal block. Same for **C205, C217, C223 and C259**. Of note, both C217 and C223 are connected to DUF3751 for P. aeruginosa.\n",
    "\n",
    "##### E. aerogenes\n",
    "Here, DUF3751 and N1 seem to be most occurring at the N-terminus, and three combinations that occur most often are (DUF3751 + Collar), (Phage_fiber_2 + Collar) and (N1 + Pectate_lyase_3). We do not notice any particularly suspicious combination."
   ]
  }
 ],
 "metadata": {
  "kernelspec": {
   "display_name": "Python 3 (ipykernel)",
   "language": "python",
   "name": "python3"
  },
  "language_info": {
   "codemirror_mode": {
    "name": "ipython",
    "version": 3
   },
   "file_extension": ".py",
   "mimetype": "text/x-python",
   "name": "python",
   "nbconvert_exporter": "python",
   "pygments_lexer": "ipython3",
   "version": "3.9.7"
  }
 },
 "nbformat": 4,
 "nbformat_minor": 4
}
