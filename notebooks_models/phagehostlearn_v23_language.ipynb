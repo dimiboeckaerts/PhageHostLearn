{
 "cells": [
  {
   "cell_type": "markdown",
   "id": "chronic-establishment",
   "metadata": {},
   "source": [
    "# PhageHostLearn - v2.3 (Klebsiella)\n",
    "\n",
    "An AI-based Phage-Host interaction predictor framework with K-loci and receptor-binding proteins at its core. This particular PhageHostLearn is for *Klebsiella pneumoniae* related phages. This notebook follows after having ran the PhageHostLearn_processing steps implemented in the accompanying Jupyter notebook.\n",
    "\n",
    "**Architecture of this framework**: \n",
    "- Multi-RBP setting: phages consisting of one or more RBPs (multi-instance)\n",
    "- K-loci proteins (multi-instance) \n",
    "- Embeddings for both that are concatenated\n",
    "- Train an XGBoost model on the concatenated embeddings (binary classification)\n",
    "\n",
    "**Overview of the notebook**:\n",
    "\n",
    "1. [Transform the loci proteins into embeddings](#locusembed)\n",
    "2. [Transform the RBP sequences into embeddings](#rbpembed)\n",
    "3. Constructing a dataframe for training models\n",
    "4. [Concatenate and train an XGBoost and RF models](#models)"
   ]
  },
  {
   "cell_type": "markdown",
   "id": "catholic-brush",
   "metadata": {},
   "source": [
    "## 0 - Libraries and directories"
   ]
  },
  {
   "cell_type": "code",
   "execution_count": 1,
   "id": "drawn-centre",
   "metadata": {},
   "outputs": [],
   "source": [
    "import os\n",
    "import math\n",
    "import json\n",
    "#import umap\n",
    "import random\n",
    "import subprocess\n",
    "import numpy as np\n",
    "import pandas as pd\n",
    "import seaborn as sns\n",
    "import matplotlib.pyplot as plt\n",
    "from matplotlib import cm\n",
    "from tqdm.notebook import tqdm\n",
    "from Bio import SeqIO\n",
    "from xgboost import XGBClassifier\n",
    "from scipy.stats import spearmanr\n",
    "from Bio.Blast import NCBIWWW, NCBIXML\n",
    "from sklearn.manifold import TSNE\n",
    "from sklearn.decomposition import PCA\n",
    "from sklearn.ensemble import RandomForestClassifier\n",
    "from Bio.Blast.Applications import NcbiblastpCommandline\n",
    "from sklearn.model_selection import GridSearchCV, StratifiedKFold, train_test_split, LeaveOneGroupOut\n",
    "from sklearn.metrics import make_scorer, f1_score, roc_auc_score, auc, precision_recall_curve\n",
    "#from bio_embeddings.embed import Word2VecEmbedder, ProtTransBertBFDEmbedder, SeqVecEmbedder\n",
    "%matplotlib inline"
   ]
  },
  {
   "cell_type": "code",
   "execution_count": 2,
   "id": "together-constitution",
   "metadata": {},
   "outputs": [],
   "source": [
    "# set project directory (to locate Kaptive), data directory and results directory\n",
    "project_dir = '/Users/dimi/Documents/GitHub_Local/PhageHostLearning'\n",
    "valencia_dir = '/Users/dimi/GoogleDrive/PhD/4_PHAGEHOST_LEARNING/42_DATA/Valencia_data' # general directory\n",
    "data_suffix = 'Valencia' # choose a suffix for the created data files\n",
    "results_dir = '/Users/dimi/GoogleDrive/PhD/4_PHAGEHOST_LEARNING/43_RESULTS/models'\n",
    "cdpath = '/Users/dimi/cd-hit-v4.8.1-2019-0228'"
   ]
  },
  {
   "cell_type": "markdown",
   "id": "posted-continuity",
   "metadata": {},
   "source": [
    "## 1 - Transform locus into embeddings<a name=\"locusembed\"></a>"
   ]
  },
  {
   "cell_type": "code",
   "execution_count": 3,
   "id": "6356e67d",
   "metadata": {},
   "outputs": [],
   "source": [
    "def loci_protein_embeddings(dict_path, results_dir):\n",
    "    \"\"\"\n",
    "    This function computes ProtTransBertBFD embeddings for loci proteins in a dictionary (as json). It uses \n",
    "    the bio-embeddings package together with BioPython.\n",
    "    \n",
    "    WARNING: running this on a personal laptop without GPU can be slow (not advised). Best to start a Google\n",
    "    Colab notebook and run the computations in the cloud.\n",
    "    \n",
    "    Input:\n",
    "    - jason_dict: path to dictionary (json file) containing the accessions as keys and proteins as values\n",
    "    - results_dir: path to dir to store embeddings\n",
    "    Output:\n",
    "    - an embeddings file with 1 resulting embedding per accession (= multi-instance)\n",
    "    \"\"\"\n",
    "    \n",
    "    # Load json file\n",
    "    dict_file = open(dict_path)\n",
    "    loci_dict = json.load(dict_file)\n",
    "    \n",
    "    # compute embeddings\n",
    "    embedder = ProtTransBertBFDEmbedder()\n",
    "    embeddings_list = [] # store locus embeddings\n",
    "    for key in tqdm(loci_dict.keys()):\n",
    "        embeddings = [embedder.reduce_per_protein(embedder.embed(sequence)) for sequence in tqdm(loci_dict[key])]\n",
    "        locus_emb_matrix = np.vstack(embeddings)\n",
    "        locus_embedding = np.mean(locus_emb_matrix, axis=0)\n",
    "        embeddings_list.append(locus_embedding)\n",
    "        \n",
    "    embeddings_df = pd.concat([pd.DataFrame({'accession':list(loci_dict.keys())}), pd.DataFrame(embeddings_list)], axis=1)\n",
    "    embeddings_df.to_csv(results_dir+'/loci_embeddings.csv', index=False)\n",
    "    \n",
    "    return"
   ]
  },
  {
   "cell_type": "code",
   "execution_count": 4,
   "id": "7379c6af",
   "metadata": {},
   "outputs": [],
   "source": [
    "#json_file = valencia_dir+'/LociBaseValencia.json'\n",
    "#loci_protein_embeddings(json_file, '')"
   ]
  },
  {
   "cell_type": "markdown",
   "id": "colored-spencer",
   "metadata": {},
   "source": [
    "## 2 - Tranform RBP sequences into embeddings <a name=\"rbpembed\"></a>"
   ]
  },
  {
   "cell_type": "code",
   "execution_count": null,
   "id": "e0af9b43",
   "metadata": {},
   "outputs": [],
   "source": [
    "def RBP_embeddings(RBPbase, results_dir):\n",
    "    \"\"\"\n",
    "    This function computes embeddings for RBPs in a pandas dataframe.\n",
    "    \"\"\"\n",
    "    embedder = ProtTransBertBFDEmbedder()\n",
    "    embeddings = [embedder.reduce_per_protein(embedder.embed(sequence)) for sequence in tqdm(RBPbase['protein_sequence'])]\n",
    "    embeddings_df = pd.concat([pd.DataFrame({'protein_ID':list(RBPbase['protein_ID'])}), pd.DataFrame(embeddings)], axis=1)\n",
    "    embeddings_df.to_csv(results_dir+'/RBP_embeddings.csv', index=False)\n",
    "    return"
   ]
  },
  {
   "cell_type": "code",
   "execution_count": 65,
   "id": "spanish-repository",
   "metadata": {},
   "outputs": [],
   "source": [
    "#RBPbase = pd.read_csv(valencia_dir+'/RBPbase'+data_suffix+'.csv')\n",
    "#RBP_embeddings(RBPbase, results_dir) # do in Google Colab or Kaggle"
   ]
  },
  {
   "cell_type": "markdown",
   "id": "13cbc5e8",
   "metadata": {},
   "source": [
    "Alternatively, we can subselect previously computed embeddings (for RBP detection step)"
   ]
  },
  {
   "cell_type": "code",
   "execution_count": 18,
   "id": "f825ea32",
   "metadata": {},
   "outputs": [],
   "source": [
    "phage_protein_embeddings = pd.read_csv(valencia_dir+'/phage_proteinsValencia_embeddings.csv')\n",
    "RBPbase = pd.read_csv(valencia_dir+'/RBPbase'+data_suffix+'.csv')\n",
    "\n",
    "to_delete = []\n",
    "for i, protein_id in enumerate(phage_protein_embeddings['ID']):\n",
    "    if protein_id not in list(RBPbase['protein_ID']):\n",
    "        to_delete.append(i)\n",
    "        \n",
    "RBP_embeddings = phage_protein_embeddings.drop(to_delete)\n",
    "RBP_embeddings = RBP_embeddings.reset_index(drop=True)\n",
    "RBP_embeddings = pd.concat([RBPbase['phage_ID'], RBP_embeddings], axis=1)\n",
    "RBP_embeddings.to_csv(valencia_dir+'/RBP_embeddings.csv', index=False)"
   ]
  },
  {
   "cell_type": "markdown",
   "id": "statistical-offer",
   "metadata": {},
   "source": [
    "## 3 - Processing into structured dataframe for training at multi-RBP level"
   ]
  },
  {
   "cell_type": "code",
   "execution_count": 3,
   "id": "d8fc2ec5",
   "metadata": {},
   "outputs": [],
   "source": [
    "# construct multi-RBP representations\n",
    "RBP_embeddings = pd.read_csv(valencia_dir+'/esm2_embeddings_rbpValencia.csv')\n",
    "\n",
    "multi_embeddings = []\n",
    "names = []\n",
    "for phage_id in list(set(RBP_embeddings['phage_ID'])):\n",
    "    rbp_embeddings = RBP_embeddings.iloc[:,2:][RBP_embeddings['phage_ID'] == phage_id]\n",
    "    multi_embedding = np.mean(np.asarray(rbp_embeddings), axis=0)\n",
    "    names.append(phage_id)\n",
    "    multi_embeddings.append(multi_embedding)\n",
    "multiRBP_embeddings = pd.concat([pd.DataFrame({'phage_ID': names}), pd.DataFrame(multi_embeddings)], axis=1)"
   ]
  },
  {
   "cell_type": "code",
   "execution_count": 5,
   "id": "3de2f74f",
   "metadata": {},
   "outputs": [
    {
     "name": "stdout",
     "output_type": "stream",
     "text": [
      "Dimensions match? True\n"
     ]
    }
   ],
   "source": [
    "# construct dataframe for training\n",
    "loci_embeddings = pd.read_csv(valencia_dir+'/esm2_embeddings_lociValencia.csv')\n",
    "interactions = pd.read_csv(valencia_dir+'/phage_host_interactionsValencia.csv', index_col=0)\n",
    "features = []\n",
    "labels = []\n",
    "groups_loci = []\n",
    "groups_phage = []\n",
    "for i, accession in enumerate(loci_embeddings['accession']):\n",
    "    for j, phage_id in enumerate(multiRBP_embeddings['phage_ID']):\n",
    "        interaction = interactions.loc[accession][phage_id]\n",
    "        if math.isnan(interaction) == False: # if the interaction is known\n",
    "            features.append(pd.concat([loci_embeddings.iloc[i, 1:], multiRBP_embeddings.iloc[j, 1:]]))\n",
    "            labels.append(int(interaction))\n",
    "            groups_loci.append(i)\n",
    "            groups_phage.append(j)\n",
    "features = np.asarray(features)\n",
    "print(\"Dimensions match?\", features.shape[1] == (loci_embeddings.shape[1]+multiRBP_embeddings.shape[1]-2))"
   ]
  },
  {
   "cell_type": "markdown",
   "id": "a4c0143c",
   "metadata": {},
   "source": [
    "## 4 - Building and evaluating machine learning models <a name=\"models\"></a>\n",
    "\n",
    "Idea is to (1) shuffle data, (2) keep a test set aside, (3) do CV for hyperparameter tuning, (4) plot learning curves with optimized hyperparams and (5) test final performance on test set."
   ]
  },
  {
   "cell_type": "markdown",
   "id": "c5bd6860",
   "metadata": {},
   "source": [
    "#### XGBoost"
   ]
  },
  {
   "cell_type": "code",
   "execution_count": 6,
   "id": "37776eb4",
   "metadata": {},
   "outputs": [],
   "source": [
    "# shuffle and set test set aside\n",
    "X_train, X_test, y_train, y_test = train_test_split(features, labels, test_size=0.2, stratify=labels)"
   ]
  },
  {
   "cell_type": "code",
   "execution_count": 7,
   "id": "14c3537f",
   "metadata": {},
   "outputs": [],
   "source": [
    "# define model and cross-validation iterator\n",
    "cpus = 6\n",
    "imbalance = sum([1 for i in y_train if i ==1]) / sum([1 for i in y_train if i ==0])\n",
    "xgb = XGBClassifier(scale_pos_weight=1/imbalance, n_jobs=cpus, use_label_encoder=False)\n",
    "params_xgb = {'max_depth': [3, 5, 7], 'n_estimators': [250, 500, 750], \n",
    "              'learning_rate': [0.2, 0.3]}\n",
    "cv = StratifiedKFold(n_splits=5, shuffle=True)"
   ]
  },
  {
   "cell_type": "code",
   "execution_count": 8,
   "id": "c350eff2",
   "metadata": {
    "scrolled": true
   },
   "outputs": [
    {
     "name": "stdout",
     "output_type": "stream",
     "text": [
      "Fitting 5 folds for each of 18 candidates, totalling 90 fits\n",
      "[CV 1/5] END learning_rate=0.2, max_depth=3, n_estimators=250;, score=0.748 total time=  15.9s\n",
      "[CV 2/5] END learning_rate=0.2, max_depth=3, n_estimators=250;, score=0.882 total time=  15.9s\n",
      "[CV 3/5] END learning_rate=0.2, max_depth=3, n_estimators=250;, score=0.842 total time=  18.2s\n",
      "[CV 4/5] END learning_rate=0.2, max_depth=3, n_estimators=250;, score=0.776 total time=  18.0s\n",
      "[CV 5/5] END learning_rate=0.2, max_depth=3, n_estimators=250;, score=0.894 total time=  18.5s\n",
      "[CV 1/5] END learning_rate=0.2, max_depth=3, n_estimators=500;, score=0.755 total time=  37.2s\n",
      "[CV 2/5] END learning_rate=0.2, max_depth=3, n_estimators=500;, score=0.882 total time=  38.2s\n",
      "[CV 3/5] END learning_rate=0.2, max_depth=3, n_estimators=500;, score=0.856 total time=  38.9s\n",
      "[CV 4/5] END learning_rate=0.2, max_depth=3, n_estimators=500;, score=0.768 total time=  39.0s\n",
      "[CV 5/5] END learning_rate=0.2, max_depth=3, n_estimators=500;, score=0.906 total time=  39.7s\n",
      "[CV 1/5] END learning_rate=0.2, max_depth=3, n_estimators=750;, score=0.755 total time= 1.0min\n",
      "[CV 2/5] END learning_rate=0.2, max_depth=3, n_estimators=750;, score=0.884 total time= 1.0min\n",
      "[CV 3/5] END learning_rate=0.2, max_depth=3, n_estimators=750;, score=0.857 total time= 1.0min\n",
      "[CV 4/5] END learning_rate=0.2, max_depth=3, n_estimators=750;, score=0.769 total time= 1.0min\n",
      "[CV 5/5] END learning_rate=0.2, max_depth=3, n_estimators=750;, score=0.907 total time= 1.0min\n",
      "[CV 1/5] END learning_rate=0.2, max_depth=5, n_estimators=250;, score=0.771 total time=  33.8s\n",
      "[CV 2/5] END learning_rate=0.2, max_depth=5, n_estimators=250;, score=0.885 total time=  34.0s\n",
      "[CV 3/5] END learning_rate=0.2, max_depth=5, n_estimators=250;, score=0.840 total time=  35.7s\n",
      "[CV 4/5] END learning_rate=0.2, max_depth=5, n_estimators=250;, score=0.765 total time=  35.9s\n",
      "[CV 5/5] END learning_rate=0.2, max_depth=5, n_estimators=250;, score=0.902 total time=  36.1s\n",
      "[CV 1/5] END learning_rate=0.2, max_depth=5, n_estimators=500;, score=0.767 total time= 1.2min\n",
      "[CV 2/5] END learning_rate=0.2, max_depth=5, n_estimators=500;, score=0.883 total time= 1.2min\n",
      "[CV 3/5] END learning_rate=0.2, max_depth=5, n_estimators=500;, score=0.839 total time= 1.2min\n",
      "[CV 4/5] END learning_rate=0.2, max_depth=5, n_estimators=500;, score=0.763 total time= 1.2min\n",
      "[CV 5/5] END learning_rate=0.2, max_depth=5, n_estimators=500;, score=0.904 total time= 1.3min\n",
      "[CV 1/5] END learning_rate=0.2, max_depth=5, n_estimators=750;, score=0.766 total time= 1.7min\n",
      "[CV 2/5] END learning_rate=0.2, max_depth=5, n_estimators=750;, score=0.881 total time= 1.7min\n",
      "[CV 3/5] END learning_rate=0.2, max_depth=5, n_estimators=750;, score=0.838 total time= 1.7min\n",
      "[CV 4/5] END learning_rate=0.2, max_depth=5, n_estimators=750;, score=0.763 total time= 1.7min\n",
      "[CV 5/5] END learning_rate=0.2, max_depth=5, n_estimators=750;, score=0.905 total time= 1.7min\n",
      "[CV 1/5] END learning_rate=0.2, max_depth=7, n_estimators=250;, score=0.729 total time=  46.0s\n",
      "[CV 2/5] END learning_rate=0.2, max_depth=7, n_estimators=250;, score=0.882 total time=  45.8s\n",
      "[CV 3/5] END learning_rate=0.2, max_depth=7, n_estimators=250;, score=0.851 total time=  47.1s\n",
      "[CV 4/5] END learning_rate=0.2, max_depth=7, n_estimators=250;, score=0.788 total time=  47.0s\n",
      "[CV 5/5] END learning_rate=0.2, max_depth=7, n_estimators=250;, score=0.902 total time=  47.8s\n",
      "[CV 1/5] END learning_rate=0.2, max_depth=7, n_estimators=500;, score=0.730 total time= 1.5min\n",
      "[CV 2/5] END learning_rate=0.2, max_depth=7, n_estimators=500;, score=0.880 total time= 1.5min\n",
      "[CV 3/5] END learning_rate=0.2, max_depth=7, n_estimators=500;, score=0.850 total time= 1.5min\n",
      "[CV 4/5] END learning_rate=0.2, max_depth=7, n_estimators=500;, score=0.784 total time= 1.4min\n",
      "[CV 5/5] END learning_rate=0.2, max_depth=7, n_estimators=500;, score=0.902 total time= 1.4min\n",
      "[CV 1/5] END learning_rate=0.2, max_depth=7, n_estimators=750;, score=0.730 total time= 2.1min\n",
      "[CV 2/5] END learning_rate=0.2, max_depth=7, n_estimators=750;, score=0.879 total time= 2.1min\n",
      "[CV 3/5] END learning_rate=0.2, max_depth=7, n_estimators=750;, score=0.851 total time= 2.1min\n",
      "[CV 4/5] END learning_rate=0.2, max_depth=7, n_estimators=750;, score=0.784 total time= 2.1min\n",
      "[CV 5/5] END learning_rate=0.2, max_depth=7, n_estimators=750;, score=0.902 total time= 2.2min\n",
      "[CV 1/5] END learning_rate=0.3, max_depth=3, n_estimators=250;, score=0.749 total time=  23.1s\n",
      "[CV 2/5] END learning_rate=0.3, max_depth=3, n_estimators=250;, score=0.868 total time=  22.6s\n",
      "[CV 3/5] END learning_rate=0.3, max_depth=3, n_estimators=250;, score=0.850 total time=  22.1s\n",
      "[CV 4/5] END learning_rate=0.3, max_depth=3, n_estimators=250;, score=0.776 total time=  22.0s\n",
      "[CV 5/5] END learning_rate=0.3, max_depth=3, n_estimators=250;, score=0.907 total time=  21.9s\n",
      "[CV 1/5] END learning_rate=0.3, max_depth=3, n_estimators=500;, score=0.754 total time=  43.6s\n",
      "[CV 2/5] END learning_rate=0.3, max_depth=3, n_estimators=500;, score=0.872 total time=  44.7s\n",
      "[CV 3/5] END learning_rate=0.3, max_depth=3, n_estimators=500;, score=0.850 total time=  45.0s\n",
      "[CV 4/5] END learning_rate=0.3, max_depth=3, n_estimators=500;, score=0.767 total time=  44.0s\n",
      "[CV 5/5] END learning_rate=0.3, max_depth=3, n_estimators=500;, score=0.904 total time=  43.0s\n",
      "[CV 1/5] END learning_rate=0.3, max_depth=3, n_estimators=750;, score=0.755 total time= 1.1min\n",
      "[CV 2/5] END learning_rate=0.3, max_depth=3, n_estimators=750;, score=0.872 total time= 1.1min\n",
      "[CV 3/5] END learning_rate=0.3, max_depth=3, n_estimators=750;, score=0.849 total time= 1.1min\n",
      "[CV 4/5] END learning_rate=0.3, max_depth=3, n_estimators=750;, score=0.766 total time= 1.1min\n",
      "[CV 5/5] END learning_rate=0.3, max_depth=3, n_estimators=750;, score=0.904 total time= 1.1min\n",
      "[CV 1/5] END learning_rate=0.3, max_depth=5, n_estimators=250;, score=0.734 total time=  35.6s\n",
      "[CV 2/5] END learning_rate=0.3, max_depth=5, n_estimators=250;, score=0.877 total time=  36.0s\n",
      "[CV 3/5] END learning_rate=0.3, max_depth=5, n_estimators=250;, score=0.849 total time=  36.3s\n",
      "[CV 4/5] END learning_rate=0.3, max_depth=5, n_estimators=250;, score=0.813 total time=  36.7s\n",
      "[CV 5/5] END learning_rate=0.3, max_depth=5, n_estimators=250;, score=0.908 total time=  35.8s\n",
      "[CV 1/5] END learning_rate=0.3, max_depth=5, n_estimators=500;, score=0.732 total time= 1.1min\n",
      "[CV 2/5] END learning_rate=0.3, max_depth=5, n_estimators=500;, score=0.876 total time= 1.1min\n",
      "[CV 3/5] END learning_rate=0.3, max_depth=5, n_estimators=500;, score=0.847 total time= 1.1min\n",
      "[CV 4/5] END learning_rate=0.3, max_depth=5, n_estimators=500;, score=0.807 total time= 1.2min\n",
      "[CV 5/5] END learning_rate=0.3, max_depth=5, n_estimators=500;, score=0.907 total time= 1.2min\n",
      "[CV 1/5] END learning_rate=0.3, max_depth=5, n_estimators=750;, score=0.733 total time= 1.7min\n",
      "[CV 2/5] END learning_rate=0.3, max_depth=5, n_estimators=750;, score=0.877 total time= 1.7min\n",
      "[CV 3/5] END learning_rate=0.3, max_depth=5, n_estimators=750;, score=0.847 total time= 1.7min\n",
      "[CV 4/5] END learning_rate=0.3, max_depth=5, n_estimators=750;, score=0.804 total time= 1.7min\n",
      "[CV 5/5] END learning_rate=0.3, max_depth=5, n_estimators=750;, score=0.908 total time= 1.7min\n",
      "[CV 1/5] END learning_rate=0.3, max_depth=7, n_estimators=250;, score=0.747 total time=  45.7s\n",
      "[CV 2/5] END learning_rate=0.3, max_depth=7, n_estimators=250;, score=0.875 total time=  46.2s\n",
      "[CV 3/5] END learning_rate=0.3, max_depth=7, n_estimators=250;, score=0.825 total time=  46.7s\n",
      "[CV 4/5] END learning_rate=0.3, max_depth=7, n_estimators=250;, score=0.783 total time=  47.3s\n",
      "[CV 5/5] END learning_rate=0.3, max_depth=7, n_estimators=250;, score=0.913 total time=  47.9s\n",
      "[CV 1/5] END learning_rate=0.3, max_depth=7, n_estimators=500;, score=0.742 total time= 1.4min\n",
      "[CV 2/5] END learning_rate=0.3, max_depth=7, n_estimators=500;, score=0.873 total time= 1.4min\n",
      "[CV 3/5] END learning_rate=0.3, max_depth=7, n_estimators=500;, score=0.825 total time= 1.4min\n",
      "[CV 4/5] END learning_rate=0.3, max_depth=7, n_estimators=500;, score=0.786 total time= 1.4min\n",
      "[CV 5/5] END learning_rate=0.3, max_depth=7, n_estimators=500;, score=0.912 total time= 1.4min\n",
      "[CV 1/5] END learning_rate=0.3, max_depth=7, n_estimators=750;, score=0.745 total time= 2.1min\n"
     ]
    },
    {
     "name": "stdout",
     "output_type": "stream",
     "text": [
      "[CV 2/5] END learning_rate=0.3, max_depth=7, n_estimators=750;, score=0.873 total time= 2.0min\n",
      "[CV 3/5] END learning_rate=0.3, max_depth=7, n_estimators=750;, score=0.826 total time= 2.1min\n",
      "[CV 4/5] END learning_rate=0.3, max_depth=7, n_estimators=750;, score=0.786 total time= 2.0min\n",
      "[CV 5/5] END learning_rate=0.3, max_depth=7, n_estimators=750;, score=0.912 total time= 2.1min\n",
      "{'learning_rate': 0.3, 'max_depth': 5, 'n_estimators': 250}\n"
     ]
    }
   ],
   "source": [
    "# do hyperparameter tuning (in GridSearchCV)\n",
    "tuned_xgb = GridSearchCV(xgb, cv=cv, param_grid=params_xgb, scoring='roc_auc', verbose=3)\n",
    "tuned_xgb.fit(X_train, y_train, eval_metric='logloss')\n",
    "print(tuned_xgb.best_params_)"
   ]
  },
  {
   "cell_type": "raw",
   "id": "0e934048",
   "metadata": {
    "collapsed": true
   },
   "source": [
    "# fit optimized model and plot learning curves\n",
    "xgb = XGBClassifier(scale_pos_weight=1/imbalance, learning_rate=0.2, n_estimators=250, max_depth=7,\n",
    "                    n_jobs=cpus, use_label_encoder=False)\n",
    "X_tr, X_val, y_tr, y_val = train_test_split(X_train, y_train, test_size=0.2, random_state=42, stratify=y_train)\n",
    "eval_set = [(X_tr, y_tr), (X_val, y_val)]\n",
    "xgb.fit(X_tr, y_tr, eval_metric='auc', eval_set=eval_set)\n",
    "results = xgb.evals_result()\n",
    "epochs = len(results['validation_0']['auc'])\n",
    "fig, ax = plt.subplots(figsize=(10,8))\n",
    "ax.plot(range(0, epochs), results['validation_0']['auc'], label='Train')\n",
    "ax.plot(range(0, epochs), results['validation_1']['auc'], label='Test')\n",
    "ax.legend()\n",
    "ax.set_ylabel('ROC-AUC')\n",
    "ax.set_xlabel('# of XGB estimators')\n",
    "ax.set_ylim(0.5, 1.01)\n",
    "fig.savefig(results_dir+'/models/v2.3/v23_multi_language_learning_curve.png', dpi=400)"
   ]
  },
  {
   "cell_type": "code",
   "execution_count": 9,
   "id": "6be47d29",
   "metadata": {},
   "outputs": [
    {
     "name": "stdout",
     "output_type": "stream",
     "text": [
      "[11:57:58] WARNING: /private/var/folders/p1/fvz7cyr12yl0lf647b14byy80000gn/T/pip-install-w5n3w6k9/xgboost_a8a36401f804426fb00f941f2eae565c/build/temp.macosx-11.0-arm64-3.9/xgboost/src/learner.cc:1115: Starting in XGBoost 1.3.0, the default evaluation metric used with the objective 'binary:logistic' was changed from 'error' to 'logloss'. Explicitly set eval_metric if you'd like to restore the old behavior.\n",
      "AUC: 0.8329878134192463\n"
     ]
    }
   ],
   "source": [
    "# test set evaluation\n",
    "xgb = XGBClassifier(scale_pos_weight=1/imbalance, learning_rate=0.3, n_estimators=250, max_depth=5,\n",
    "                    n_jobs=cpus, use_label_encoder=False)\n",
    "xgb.fit(X_train, y_train)\n",
    "score_xgb = xgb.predict_proba(X_test)[:,1]\n",
    "print('AUC:', roc_auc_score(y_test, score_xgb))"
   ]
  },
  {
   "cell_type": "code",
   "execution_count": 10,
   "id": "d1a28d91",
   "metadata": {},
   "outputs": [],
   "source": [
    "results = pd.DataFrame({'labels': y_test, 'scores': score_xgb})\n",
    "results.to_csv(results_dir+'/v3.3/language_xgb_kfoldscores.csv', index=False)"
   ]
  },
  {
   "cell_type": "markdown",
   "id": "8a71b886",
   "metadata": {},
   "source": [
    "The fact that we're seeing a higher AUC on the test set then before with the learning curve to me indicates that sufficient data is crucial! In the learning curve, we splitted X_train up into train an validation, and result is lower AUC... so enough data seems crucial!"
   ]
  },
  {
   "cell_type": "markdown",
   "id": "e846f040",
   "metadata": {},
   "source": [
    "#### Randomized labels"
   ]
  },
  {
   "cell_type": "code",
   "execution_count": 17,
   "id": "825b665f",
   "metadata": {},
   "outputs": [
    {
     "name": "stdout",
     "output_type": "stream",
     "text": [
      "[11:21:38] WARNING: /private/var/folders/p1/fvz7cyr12yl0lf647b14byy80000gn/T/pip-install-w5n3w6k9/xgboost_a8a36401f804426fb00f941f2eae565c/build/temp.macosx-11.0-arm64-3.9/xgboost/src/learner.cc:1115: Starting in XGBoost 1.3.0, the default evaluation metric used with the objective 'binary:logistic' was changed from 'error' to 'logloss'. Explicitly set eval_metric if you'd like to restore the old behavior.\n",
      "AUC: 0.5167767890216484\n"
     ]
    }
   ],
   "source": [
    "random.shuffle(y_train)\n",
    "xgb = XGBClassifier(scale_pos_weight=1/imbalance, learning_rate=0.2, n_estimators=500, max_depth=5,\n",
    "                    n_jobs=cpus, use_label_encoder=False)\n",
    "xgb.fit(X_train, y_train)\n",
    "score_xgb = xgb.predict_proba(X_test)[:,1]\n",
    "print('AUC:', roc_auc_score(y_test, score_xgb))\n",
    "results = pd.DataFrame({'labels': y_test, 'scores': score_xgb})\n",
    "results.to_csv(results_dir+'/v2.2/language_xgb_scores_random.csv', index=False)"
   ]
  },
  {
   "cell_type": "markdown",
   "id": "02b076e1",
   "metadata": {},
   "source": [
    "#### LOGOCV XGBoost over loci\n",
    "\n",
    "Basically, the idea is to do a LOGOCV with every locus being one group (so a total of ~200 groups). We won't do hyperparam optimization, as that would be too computationally intensive, but we will assume standard params except for the 500 estimators. Then, we can also compute MRR, because we know that each test set is in fact one query for which the probabilities can be ranked."
   ]
  },
  {
   "cell_type": "code",
   "execution_count": 20,
   "id": "cb5b270c",
   "metadata": {},
   "outputs": [],
   "source": [
    "seros = pd.read_csv(valencia_dir+'/serotypes'+data_suffix+'.csv')"
   ]
  },
  {
   "cell_type": "code",
   "execution_count": 21,
   "id": "9815d3c9",
   "metadata": {},
   "outputs": [],
   "source": [
    "def mean_reciprocal_rank(queries):\n",
    "    \"\"\"\n",
    "    This function computes the mean reciprocal rank for a given array or\n",
    "    matrix of queries. It deals with relevant vs. non-relevant queries that are\n",
    "    binary. If queries is a matrix, then it will compute the reciprocal ranks over\n",
    "    all rows individually (for each 'query') and then average those.\n",
    "    E.g.:\n",
    "    queries = [[0, 0, 0], [0, 1, 0], [1, 0, 0]]\n",
    "    mean_reciprocal_rank(queries) -> 0.5\n",
    "    \"\"\"\n",
    "    queries = (np.asarray(r).nonzero()[0] for r in queries)\n",
    "    return np.mean([1. / (r[0] + 1) if r.size else 0. for r in queries])"
   ]
  },
  {
   "cell_type": "code",
   "execution_count": 22,
   "id": "aacff3ac",
   "metadata": {},
   "outputs": [],
   "source": [
    "def recallatk(queries, k):\n",
    "    \"\"\"\n",
    "    recall at top K for binary problems. Relevant items should be labeled as 1.\n",
    "    \n",
    "    Input: \n",
    "    - queries: list of lists of queries that are sorted (i.e. true labels sorted by prediction score)\n",
    "    - k: the top you want to look at\n",
    "    \"\"\"\n",
    "    recalls_k = [query[:k].count(1) / query.count(1) for query in queries]\n",
    "    return np.mean(recalls_k)"
   ]
  },
  {
   "cell_type": "code",
   "execution_count": 23,
   "id": "c2ea9c5e",
   "metadata": {},
   "outputs": [],
   "source": [
    "def hitratio(queries, k):\n",
    "    \"\"\"\n",
    "    hit ratio for in the first k elements (sorted queries)\n",
    "    \"\"\"\n",
    "    return sum([1 for query in queries if sum(query[:k]) > 0]) / len(queries)"
   ]
  },
  {
   "cell_type": "code",
   "execution_count": 27,
   "id": "3c39dc78",
   "metadata": {
    "scrolled": false
   },
   "outputs": [
    {
     "data": {
      "application/vnd.jupyter.widget-view+json": {
       "model_id": "53754df5f01749238c8411cefbf104f0",
       "version_major": 2,
       "version_minor": 0
      },
      "text/plain": [
       "  0%|          | 0/200 [00:00<?, ?it/s]"
      ]
     },
     "metadata": {},
     "output_type": "display_data"
    }
   ],
   "source": [
    "# do the LOGOCV\n",
    "logo = LeaveOneGroupOut()\n",
    "cpus = 6\n",
    "rocauc_scores = []\n",
    "prauc_scores = []\n",
    "noauc_scores = []\n",
    "ranked_queries = []\n",
    "labels = np.asarray(labels)\n",
    "sero_groups = []\n",
    "pbar = tqdm(total=200)\n",
    "for train_index, test_index in logo.split(features, labels, groups_loci):\n",
    "    # get the training and test data\n",
    "    X_train, X_test = features[train_index], features[test_index]\n",
    "    y_train, y_test = labels[train_index], labels[test_index]\n",
    "    imbalance = sum([1 for i in y_train if i ==1]) / sum([1 for i in y_train if i ==0])\n",
    "\n",
    "    # fit a XGBoost model\n",
    "    xgb = XGBClassifier(scale_pos_weight=1/imbalance, learning_rate=0.2, n_estimators=250, max_depth=7,\n",
    "                        n_jobs=cpus, eval_metric='logloss', use_label_encoder=False)\n",
    "    xgb.fit(X_train, y_train)\n",
    "    \n",
    "    # make predictions & compute ROC + PR AUC\n",
    "    score_xgb = xgb.predict_proba(X_test)[:,1]\n",
    "    try:\n",
    "        roc_auc = roc_auc_score(y_test, score_xgb)\n",
    "        rocauc_scores.append(roc_auc)\n",
    "        precision, recall, thresholds = precision_recall_curve(y_test, score_xgb)\n",
    "        pr_auc = round(auc(recall, precision), 3)\n",
    "        prauc_scores.append(pr_auc)\n",
    "        this_sero = seros['sero'][groups_loci[test_index[0]]]\n",
    "        sero_groups.append(this_sero) # get serotype linked to this test group\n",
    "        # sort labels to compute MRR later\n",
    "        ranked_query = [x for _, x in sorted(zip(score_xgb, y_test), reverse=True)]\n",
    "        ranked_queries.append(ranked_query)\n",
    "    except:\n",
    "        noauc_scores.append(score_xgb)\n",
    "  \n",
    "    # pbar update\n",
    "    pbar.update(1)\n",
    "pbar.close()"
   ]
  },
  {
   "cell_type": "code",
   "execution_count": 28,
   "id": "201961fa",
   "metadata": {},
   "outputs": [
    {
     "name": "stdout",
     "output_type": "stream",
     "text": [
      "ROC AUC:  0.8136089389782957\n",
      "PR AUC:  0.5655905511811024\n",
      "MRR:  0.6850350571119078\n",
      "top 10 Recall:  0.6821772278465192\n"
     ]
    }
   ],
   "source": [
    "# print results\n",
    "print('ROC AUC: ', np.mean(rocauc_scores))\n",
    "print('PR AUC: ', np.mean(prauc_scores))\n",
    "print('MRR: ', mean_reciprocal_rank(ranked_queries))\n",
    "print('top 10 Recall: ', recallatk(ranked_queries, 10))\n",
    "logo_results = pd.DataFrame({'sero': sero_groups, 'rocauc_scores': rocauc_scores, 'prauc_scores': prauc_scores, \n",
    "                             'ranked_queries': ranked_queries})\n",
    "logo_results.to_csv(results_dir+'/v2.3/language_xgb_logocv_results.csv', index=False)"
   ]
  },
  {
   "cell_type": "code",
   "execution_count": 29,
   "id": "b942a946",
   "metadata": {},
   "outputs": [],
   "source": [
    "ks = np.linspace(1, 50, 50)\n",
    "recalls = [recallatk(logo_results['ranked_queries'], int(k)) for k in ks]"
   ]
  },
  {
   "cell_type": "code",
   "execution_count": 30,
   "id": "7269a237",
   "metadata": {},
   "outputs": [
    {
     "data": {
      "image/png": "[encoded data removed]",
      "text/plain": [
       "<Figure size 720x504 with 1 Axes>"
      ]
     },
     "metadata": {
      "needs_background": "light"
     },
     "output_type": "display_data"
    }
   ],
   "source": [
    "logo_results = pd.read_csv(results_dir+'/v2.3/language_xgb_logocv_results.csv', converters={'ranked_queries': pd.eval})\n",
    "ks = np.linspace(1, 50, 50)\n",
    "recalls = [recallatk(logo_results['ranked_queries'], int(k)) for k in ks]\n",
    "hits = [hitratio(logo_results['ranked_queries'], int(k)) for k in ks]\n",
    "fig, ax = plt.subplots(figsize=(10,7))\n",
    "ax.plot(ks, recalls, c='#508AA8', linewidth=2.5, label='Recall')\n",
    "ax.plot(ks, hits, c='#BA2D0B', linewidth=2.5, label='Hit ratio')\n",
    "ax.set_xlabel('k')\n",
    "ax.set_ylabel('Recall / HR')\n",
    "ax.legend()\n",
    "fig.savefig(results_dir+'/v2.3/language_xgb_logocv_recall_hitratio.png', dpi=400)"
   ]
  },
  {
   "cell_type": "code",
   "execution_count": 31,
   "id": "3601e9b7",
   "metadata": {
    "scrolled": false
   },
   "outputs": [
    {
     "data": {
      "image/png": "[encoded data removed]",
      "text/plain": [
       "<Figure size 720x504 with 1 Axes>"
      ]
     },
     "metadata": {
      "needs_background": "light"
     },
     "output_type": "display_data"
    }
   ],
   "source": [
    "noauc_flat = np.concatenate(noauc_scores).ravel()\n",
    "fig, ax = plt.subplots(figsize=(10,7))\n",
    "ax.hist(noauc_flat, bins=50)\n",
    "ax.set_xlabel('XGB score')\n",
    "ax.set_ylabel('# of occurrences')\n",
    "fig.savefig(results_dir+'/v2.3/language_xgb_logocv_noauc_scores.png', dpi=400)"
   ]
  },
  {
   "cell_type": "markdown",
   "id": "81d00131",
   "metadata": {},
   "source": [
    "#### Single-RBP LOOCV"
   ]
  },
  {
   "cell_type": "code",
   "execution_count": 37,
   "id": "afc3e45e",
   "metadata": {},
   "outputs": [
    {
     "data": {
      "application/vnd.jupyter.widget-view+json": {
       "model_id": "ed995021943e4287957389dd7e90a3e8",
       "version_major": 2,
       "version_minor": 0
      },
      "text/plain": [
       "  0%|          | 0/200 [00:00<?, ?it/s]"
      ]
     },
     "metadata": {},
     "output_type": "display_data"
    }
   ],
   "source": [
    "logo = LeaveOneGroupOut()\n",
    "cpus = 6\n",
    "rocauc_scores = []\n",
    "prauc_scores = []\n",
    "noauc_scores = []\n",
    "ranked_queries = []\n",
    "labels = np.asarray(labels)\n",
    "sero_groups = []\n",
    "pbar = tqdm(total=200)\n",
    "for train_index, test_index in logo.split(features, labels, groups_loci):\n",
    "    # get the training and test data\n",
    "    X_train, X_test = features[train_index], features[test_index]\n",
    "    y_train, y_test = labels[train_index], labels[test_index]\n",
    "    phage_test = np.asarray(groups_phage)[test_index]\n",
    "    imbalance = sum([1 for i in y_train if i ==1]) / sum([1 for i in y_train if i ==0])\n",
    "\n",
    "    # fit a XGBoost model\n",
    "    xgb = XGBClassifier(scale_pos_weight=1/imbalance, learning_rate=0.2, n_estimators=250, max_depth=7,\n",
    "                        n_jobs=cpus, eval_metric='logloss', use_label_encoder=False)\n",
    "    xgb.fit(X_train, y_train)\n",
    "    \n",
    "    # loop over phage's RBPs\n",
    "    score_xgb = []\n",
    "    loci_embedding = X_test[0, :1280] # always the same within a test group\n",
    "    for phage_index in phage_test:\n",
    "        # get the correct embeddings\n",
    "        phage_id = list(multiRBP_embeddings['phage_ID'])[phage_index]\n",
    "        rbp_embeddings = RBP_embeddings.iloc[:,2:][RBP_embeddings['phage_ID'] == phage_id]\n",
    "        \n",
    "        # make predictions for each single RBP\n",
    "        rbp_scores = []\n",
    "        for rbpi in range(rbp_embeddings.shape[0]):\n",
    "            test_embedding = pd.concat([pd.DataFrame(loci_embedding), rbp_embeddings.iloc[rbpi,:]])\n",
    "            this_xgb_score = xgb.predict_proba(np.asarray(test_embedding).reshape((1,-1)))[:,1]\n",
    "            rbp_scores.append(this_xgb_score[0])\n",
    "                              \n",
    "        # add max score to the list for AUC computing\n",
    "        score_xgb.append(max(rbp_scores))\n",
    "    \n",
    "    # compute ROC & PR AUC\n",
    "    try:\n",
    "        roc_auc = roc_auc_score(y_test, score_xgb)\n",
    "        rocauc_scores.append(roc_auc)\n",
    "        precision, recall, thresholds = precision_recall_curve(y_test, score_xgb)\n",
    "        pr_auc = round(auc(recall, precision), 3)\n",
    "        prauc_scores.append(pr_auc)\n",
    "        this_sero = seros['sero'][groups_loci[test_index[0]]]\n",
    "        sero_groups.append(this_sero) # get serotype linked to this test group\n",
    "\n",
    "        # sort labels to compute MRR later\n",
    "        ranked_query = [x for _, x in sorted(zip(score_xgb, y_test), reverse=True)]\n",
    "        ranked_queries.append(ranked_query) \n",
    "    except:\n",
    "        noauc_scores.append(score_xgb)\n",
    "\n",
    "    # pbar update\n",
    "    pbar.update(1)\n",
    "pbar.close()"
   ]
  },
  {
   "cell_type": "code",
   "execution_count": 38,
   "id": "4280be54",
   "metadata": {},
   "outputs": [
    {
     "name": "stdout",
     "output_type": "stream",
     "text": [
      "ROC AUC:  0.7785468959224573\n",
      "PR AUC:  0.3663464566929134\n",
      "MRR:  0.47427649711853287\n",
      "top 10 recall:  0.6006061742282215\n"
     ]
    }
   ],
   "source": [
    "# print results\n",
    "print('ROC AUC: ', np.mean(rocauc_scores))\n",
    "print('PR AUC: ', np.mean(prauc_scores))\n",
    "print('MRR: ', mean_reciprocal_rank(ranked_queries))\n",
    "print('top 10 recall: ', recallatk(ranked_queries, 10))\n",
    "logo_results = pd.DataFrame({'sero': sero_groups, 'rocauc_scores': rocauc_scores, 'prauc_scores': prauc_scores, \n",
    "                             'ranked_queries': ranked_queries})\n",
    "logo_results.to_csv(results_dir+'/v2.3/language_xgb_singlerbp_logocv_results.csv', index=False)"
   ]
  },
  {
   "cell_type": "code",
   "execution_count": 39,
   "id": "584c8058",
   "metadata": {},
   "outputs": [
    {
     "data": {
      "image/png": "[encoded data removed]",
      "text/plain": [
       "<Figure size 720x504 with 1 Axes>"
      ]
     },
     "metadata": {
      "needs_background": "light"
     },
     "output_type": "display_data"
    }
   ],
   "source": [
    "logo_results = pd.read_csv(results_dir+'/v2.3/language_xgb_singlerbp_logocv_results.csv', converters={'ranked_queries': pd.eval})\n",
    "ks = np.linspace(1, 50, 50)\n",
    "recalls = [recallatk(logo_results['ranked_queries'], int(k)) for k in ks]\n",
    "hits = [hitratio(logo_results['ranked_queries'], int(k)) for k in ks]\n",
    "fig, ax = plt.subplots(figsize=(10,7))\n",
    "ax.plot(ks, recalls, c='#508AA8', linewidth=2.5, label='Recall')\n",
    "ax.plot(ks, hits, c='#BA2D0B', linewidth=2.5, label='Hit ratio')\n",
    "ax.set_xlabel('k')\n",
    "ax.set_ylabel('Recall / HR')\n",
    "ax.legend()\n",
    "fig.savefig(results_dir+'/v2.3/language_xgb_singlerbp_logocv_recall_hitratio.png', dpi=400)"
   ]
  },
  {
   "cell_type": "code",
   "execution_count": null,
   "id": "7ca91986",
   "metadata": {},
   "outputs": [],
   "source": [
    "noauc_flat = np.concatenate(noauc_scores).ravel()\n",
    "fig, ax = plt.subplots(figsize=(10,7))\n",
    "ax.hist(noauc_flat, bins=50)\n",
    "ax.set_xlabel('XGB score')\n",
    "ax.set_ylabel('# of occurrences')\n",
    "fig.savefig(results_dir+'/v2.3/language_xgb_singlerbp_logocv_noauc_scores.png', dpi=400)"
   ]
  },
  {
   "cell_type": "markdown",
   "id": "81eb5e61",
   "metadata": {},
   "source": [
    "#### Randomized labels LOGOCV"
   ]
  },
  {
   "cell_type": "code",
   "execution_count": 8,
   "id": "ecc5cd63",
   "metadata": {},
   "outputs": [
    {
     "data": {
      "application/vnd.jupyter.widget-view+json": {
       "model_id": "b918ec07e40f40a7bf5ed7a858259626",
       "version_major": 2,
       "version_minor": 0
      },
      "text/plain": [
       "  0%|          | 0/200 [00:00<?, ?it/s]"
      ]
     },
     "metadata": {},
     "output_type": "display_data"
    }
   ],
   "source": [
    "# do the LOGOCV\n",
    "logo = LeaveOneGroupOut()\n",
    "cpus = 6\n",
    "rocauc_scores = []\n",
    "prauc_scores = []\n",
    "noauc_scores = []\n",
    "ranked_queries = []\n",
    "labels = np.asarray(labels)\n",
    "sero_groups = []\n",
    "pbar = tqdm(total=200)\n",
    "for train_index, test_index in logo.split(features, labels, groups_loci):\n",
    "    # get the training and test data\n",
    "    X_train, X_test = features[train_index], features[test_index]\n",
    "    y_train, y_test = labels[train_index], labels[test_index]\n",
    "    imbalance = sum([1 for i in y_train if i ==1]) / sum([1 for i in y_train if i ==0])\n",
    "    random.shuffle(y_train)\n",
    "\n",
    "    # fit a XGBoost model\n",
    "    xgb = XGBClassifier(scale_pos_weight=1/imbalance, n_estimators=500, n_jobs=cpus, eval_metric='logloss', \n",
    "                        use_label_encoder=False)\n",
    "    xgb.fit(X_train, y_train)\n",
    "    \n",
    "    # make predictions & compute ROC + PR AUC\n",
    "    score_xgb = xgb.predict_proba(X_test)[:,1]\n",
    "    try:\n",
    "        roc_auc = roc_auc_score(y_test, score_xgb)\n",
    "        rocauc_scores.append(roc_auc)\n",
    "        precision, recall, thresholds = precision_recall_curve(y_test, score_xgb)\n",
    "        pr_auc = round(auc(recall, precision), 3)\n",
    "        prauc_scores.append(pr_auc)\n",
    "        this_sero = seros['sero'][groups_loci[test_index[0]]]\n",
    "        sero_groups.append(this_sero) # get serotype linked to this test group\n",
    "        # sort labels to compute MRR later\n",
    "        ranked_query = [x for _, x in sorted(zip(score_xgb, y_test), reverse=True)]\n",
    "        ranked_queries.append(ranked_query)\n",
    "    except:\n",
    "        noauc_scores.append(score_xgb)\n",
    "  \n",
    "    # pbar update\n",
    "    pbar.update(1)\n",
    "pbar.close()"
   ]
  },
  {
   "cell_type": "code",
   "execution_count": 9,
   "id": "954c6dcb",
   "metadata": {},
   "outputs": [
    {
     "name": "stdout",
     "output_type": "stream",
     "text": [
      "ROC AUC:  0.49176550418033227\n",
      "PR AUC:  0.08181102362204723\n",
      "MRR:  0.16767793879172216\n",
      "top 10 recall:  0.1955693038370204\n"
     ]
    }
   ],
   "source": [
    "# print results\n",
    "print('ROC AUC: ', np.mean(rocauc_scores))\n",
    "print('PR AUC: ', np.mean(prauc_scores))\n",
    "print('MRR: ', mean_reciprocal_rank(ranked_queries))\n",
    "print('top 10 recall: ', recallatk(ranked_queries, 10))"
   ]
  },
  {
   "cell_type": "markdown",
   "id": "residential-aging",
   "metadata": {},
   "source": [
    "## X - Out of use"
   ]
  },
  {
   "cell_type": "raw",
   "id": "14e07c4c",
   "metadata": {},
   "source": [
    "# RANDOM SHUFFLE LABELS\n",
    "loci_sim = np.loadtxt(klebsiella_dir+'/kaptive_loci_score_matrix.txt')\n",
    "rf = RandomForestClassifier(n_estimators=200, class_weight='balanced', n_jobs=6)\n",
    "loci_cv = KFold(n_splits=10, shuffle=True)\n",
    "features = np.asarray(frame.iloc[:,:-4])\n",
    "labels = np.asarray(frame.iloc[:,-4])\n",
    "random.shuffle(labels)\n",
    "\n",
    "loci_list = []; rbps_list = []; scores_list = []\n",
    "for train_index, test_index in loci_cv.split(loci_sim):\n",
    "    print('new split')\n",
    "    # construct training and test dataframe\n",
    "    train_index_frame = []; test_index_frame = []\n",
    "    for i, row_id in enumerate(frame['row']):\n",
    "        if row_id in train_index:\n",
    "            train_index_frame.append(i)\n",
    "        else:\n",
    "            test_index_frame.append(i)\n",
    "    features_train, features_test = features[train_index_frame], features[test_index_frame]\n",
    "    labels_train, labels_test = labels[train_index_frame], labels[test_index_frame]\n",
    "    \n",
    "    # fit a model\n",
    "    rf.fit(features_train, labels_train)\n",
    "    \n",
    "    # make predictions\n",
    "    for test_i in tqdm(test_index_frame):\n",
    "        loci_nr = frame['row'][test_i]\n",
    "        rbp_nr = frame['col'][test_i]\n",
    "        score = rf.predict_proba(features[test_i].reshape(1,-1))[:,1]\n",
    "        loci_list.append(loci_nr)\n",
    "        rbps_list.append(rbp_nr)\n",
    "        scores_list.append(score[0])\n",
    "\n",
    "results = pd.DataFrame({'locus': loci_list, 'rbps': rbps_list, 'scores': scores_list})\n",
    "interaction_matrix_mono = np.asarray(pd.read_csv(klebsiella_dir+'/interactions_klebsiella_mono.csv', index_col=0))\n",
    "labels_random = [interaction_matrix_mono[results['locus'][i],results['rbps'][i]] \n",
    "             for i in range(results.shape[0])]\n",
    "\n",
    "ROCAUC = round(roc_auc_score(labels_random, results['scores']), 3)\n",
    "precision, recall, thresholds = precision_recall_curve(labels_random, results['scores'])\n",
    "PRAUC = round(auc(recall, precision), 3)\n",
    "print('ROCAUC: ', ROCAUC)\n",
    "print('PRAUC: ', PRAUC)"
   ]
  },
  {
   "cell_type": "raw",
   "id": "promising-omaha",
   "metadata": {},
   "source": [
    "def blast_local_python(file_name, data_dir):\n",
    "    \"\"\"\n",
    "    This function does pairwise BLASTs between all sequences of an input FASTA file (Kaptive results)\n",
    "    \n",
    "    Input:\n",
    "    - file_name: string of FASTA file to pairwise BLAST\n",
    "    \n",
    "    To do:\n",
    "    - change to kaptive_file_names -> no big fasta needed, no need to make small fasta's first.\n",
    "    \"\"\"\n",
    "    \n",
    "    sequence_list = []\n",
    "    for record in SeqIO.parse(data_dir+'/'+file_name, 'fasta'):\n",
    "        sequence_list.append(str(record.seq))\n",
    "    score_matrix = np.zeros((len(sequence_list), len(sequence_list)))\n",
    "\n",
    "    for i in range(len(sequence_list)-1):\n",
    "        # make fasta sequence 1\n",
    "        fasta1 = open(data_dir+'/sequence1.fasta', 'w')\n",
    "        fasta1.write('>sequence1'+'\\n'+sequence_list[i]+'\\n')\n",
    "        fasta1.close()\n",
    "        \n",
    "        for j in range(i, len(sequence_list)):\n",
    "            # make fasta sequence 2\n",
    "            fasta2 = open(data_dir+'/sequence2.fasta', 'w')\n",
    "            fasta2.write('>sequence2'+'\\n'+sequence_list[j]+'\\n')\n",
    "            fasta2.close()\n",
    "            \n",
    "            # perform BLAST\n",
    "            blastp_cline = NcbiblastpCommandline(query=data_dir+'/sequence1.fasta', subject=data_dir+'/sequence2.fasta', \n",
    "                                                 evalue=10, outfmt=5, out=data_dir+'/BLAST_results.xml')\n",
    "            stdout, stderr = blastp_cline()\n",
    "            \n",
    "            # get results\n",
    "            blast_result = open(data_dir+'/BLAST_results.xml')\n",
    "            blast_record = NCBIXML.read(blast_result)\n",
    "            try:\n",
    "                alignment = blast_record.alignments[0]\n",
    "                hsp = alignment.hsps[0]\n",
    "                identity = (hsp.identities/hsp.align_length)*100\n",
    "            except IndexError:\n",
    "                identity = 0\n",
    "                pass\n",
    "            \n",
    "            # write to score matrix\n",
    "            score_matrix[i,j] = identity\n",
    "            \n",
    "    score_matrix = score_matrix + score_matrix.transpose()\n",
    "    score_matrix = score_matrix - np.diag(np.diag(score_matrix))  \n",
    "    \n",
    "    os.remove(data_dir+'/sequence1.fasta')\n",
    "    os.remove(data_dir+'/sequence2.fasta')\n",
    "    \n",
    "    return score_matrix"
   ]
  },
  {
   "cell_type": "raw",
   "id": "b66189c8",
   "metadata": {},
   "source": [
    "def locus_embeddings(kaptive_file_names, data_dir):\n",
    "    \"\"\"\n",
    "    This functions computes Word2Vec embeddings for bacterial genomic loci. It uses the bio-embeddings\n",
    "    package together with BioPython to transform fasta sequences of bacterial loci into numerical embeddings.\n",
    "    \n",
    "    WARNING: running this on a personal laptop without GPU can be slow (not advised). Best to start a Google\n",
    "    Colab notebook and run the computations in the cloud.\n",
    "    \n",
    "    Input:\n",
    "    - kaptive_file_names: list of fasta filenames of bacterial loci (output of Kaptive)\n",
    "    - data_dir: location of the sequence file(s) to loop over\n",
    "    - results_dir: directory to store the resulting embeddings in.\n",
    "    \n",
    "    Output:\n",
    "    - embeddings: Pandas DataFrame (as .csv file) with file names and their corresponding embedding\n",
    "    \"\"\"\n",
    "    embedder = Word2VecEmbedder()\n",
    "    embeddings_list = []\n",
    "\n",
    "    for name in tqdm(kaptive_file_names):\n",
    "        locus_sequence = ''\n",
    "        # one or multiple records in fasta file\n",
    "        for record in SeqIO.parse(data_dir+'/'+name, 'fasta'):\n",
    "            locus_sequence += str(record.seq)\n",
    "        \n",
    "        # compute embedding\n",
    "        embedding = embedder.embed(locus_sequence)\n",
    "        reduced_embedding = embedder.reduce_per_protein(embedding)\n",
    "        embeddings_list.append(reduced_embedding)\n",
    "        \n",
    "    embeddings_df = pd.concat([pd.DataFrame(kaptive_file_names), pd.DataFrame(embeddings_list)], axis=1)\n",
    "    embeddings_df.to_csv(data_dir+'/locus_embeddings.csv', index=False)\n",
    "    \n",
    "    return"
   ]
  }
 ],
 "metadata": {
  "kernelspec": {
   "display_name": "Python 3 (ipykernel)",
   "language": "python",
   "name": "python3"
  },
  "language_info": {
   "codemirror_mode": {
    "name": "ipython",
    "version": 3
   },
   "file_extension": ".py",
   "mimetype": "text/x-python",
   "name": "python",
   "nbconvert_exporter": "python",
   "pygments_lexer": "ipython3",
   "version": "3.9.7"
  }
 },
 "nbformat": 4,
 "nbformat_minor": 5
}
