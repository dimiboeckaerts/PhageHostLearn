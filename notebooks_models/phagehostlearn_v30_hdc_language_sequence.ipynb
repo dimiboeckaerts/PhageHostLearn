{
 "cells": [
  {
   "cell_type": "markdown",
   "id": "f577d7df",
   "metadata": {},
   "source": [
    "# PhageHostLearn - v3 (Klebsiella)\n",
    "\n",
    "An AI-based Phage-Host interaction predictor framework with K-loci and receptor-binding proteins at its core. This particular PhageHostLearn is for *Klebsiella pneumoniae* related phages. This notebook follows after having ran the PhageHostLearn_processing steps implemented in the accompanying Jupyter notebook.\n",
    "\n",
    "**Architecture of this framework**: \n",
    "\n",
    "- protein language embeddings of RBPs and loci proteins (single-instance) as inputs\n",
    "- HDC projections of those embeddings\n",
    "- Aggregation of the projections (multi-instance) \n",
    "- Binding to signatures\n",
    "- PCA and RF\n",
    "\n",
    "(alternatively: first do PCA on aggregates, then concat and pass to RF)\n",
    "\n",
    "**Overview of the notebook**:\n",
    "\n",
    "1. [Defining the necessary functions](#functions)\n",
    "2. [Transform the loci sequences into embeddings](#lociembed) using hyperdimensional vectors\n",
    "3. [Transform the RBP sequences into embeddings](#rbpembed) using hyperdimensional vectors\n",
    "4. [Compute joint features: bind or concat](#joint)\n",
    "5. [PCA and RF](#machinelearning)\n",
    "6. PCA + RF LOGOCV"
   ]
  },
  {
   "cell_type": "markdown",
   "id": "a4cc1380",
   "metadata": {},
   "source": [
    "## 0 - Libraries and directories"
   ]
  },
  {
   "cell_type": "code",
   "execution_count": 1,
   "id": "5e3e26c3",
   "metadata": {},
   "outputs": [
    {
     "name": "stderr",
     "output_type": "stream",
     "text": [
      "┌ Info: Precompiling HyperdimensionalComputing [top-level]\n",
      "└ @ Base loading.jl:1342\n",
      "WARNING: using LinearAlgebra.normalize! in module HyperdimensionalComputing conflicts with an existing identifier.\n"
     ]
    }
   ],
   "source": [
    "using CSV\n",
    "using MLJ\n",
    "using Test\n",
    "using JSON\n",
    "using Plots\n",
    "using FASTX\n",
    "using MLBase\n",
    "using Colors\n",
    "using Random\n",
    "using XGBoost\n",
    "using StatsBase\n",
    "using Statistics\n",
    "using DataFrames\n",
    "using ScikitLearn\n",
    "using EvalMetrics\n",
    "using BioAlignments\n",
    "using ProgressMeter\n",
    "using LinearAlgebra\n",
    "using ProgressMeter\n",
    "using BioAlignments\n",
    "using DelimitedFiles\n",
    "using MultivariateStats\n",
    "using ScikitLearn.Pipelines: Pipeline\n",
    "using ScikitLearn.CrossValidation: train_test_split\n",
    "using ScikitLearn.GridSearch: GridSearchCV\n",
    "using ScikitLearn.Skcore: make_scorer\n",
    "\n",
    "@sk_import decomposition: PCA\n",
    "@sk_import ensemble: RandomForestClassifier\n",
    "@sk_import metrics: roc_auc_score\n",
    "\n",
    "push!(LOAD_PATH, \"/Users/dimi/Documents/GitHub/HyperdimensionalComputing.jl/src/\")\n",
    "using HyperdimensionalComputing\n",
    "\n",
    "general_dir = \"/Users/dimi/GoogleDrive/PhD/4_PHAGEHOST_LEARNING/42_DATA/Valencia_data\" # general directory\n",
    "results_dir = \"/Users/dimi/GoogleDrive/PhD/4_PHAGEHOST_LEARNING/43_RESULTS/models\"\n",
    "data_suffix = \"Valencia\"; # choose a suffix for the created data files"
   ]
  },
  {
   "cell_type": "markdown",
   "id": "a9cff52b",
   "metadata": {},
   "source": [
    "## 1 - Functions<a name=\"functions\"></a>"
   ]
  },
  {
   "cell_type": "code",
   "execution_count": 2,
   "id": "015ad564",
   "metadata": {},
   "outputs": [
    {
     "data": {
      "text/plain": [
       "file_to_array (generic function with 1 method)"
      ]
     },
     "execution_count": 2,
     "metadata": {},
     "output_type": "execute_result"
    }
   ],
   "source": [
    "function file_to_array(file)\n",
    "    \"\"\"\n",
    "    Function that reads a FASTA file and puts its sequences in an array.\n",
    "    \"\"\"\n",
    "    sequences = []\n",
    "    reader = FASTA.Reader(open(file, \"r\"))\n",
    "    for record in reader\n",
    "        seq = FASTA.sequence(record)\n",
    "        push!(sequences, seq)\n",
    "    end\n",
    "    return sequences\n",
    "end"
   ]
  },
  {
   "cell_type": "code",
   "execution_count": 3,
   "id": "fc871105",
   "metadata": {
    "scrolled": true
   },
   "outputs": [
    {
     "data": {
      "text/plain": [
       "mean_reciprocal_rank (generic function with 1 method)"
      ]
     },
     "execution_count": 3,
     "metadata": {},
     "output_type": "execute_result"
    }
   ],
   "source": [
    "function mean_reciprocal_rank(queries)\n",
    "    \"\"\"\n",
    "    This function computes the mean reciprocal rank for a given array or\n",
    "    matrix of queries. It deals with relevant vs. non-relevant queries that are\n",
    "    binary. If queries is a matrix, then it will compute the reciprocal ranks over\n",
    "    all rows individually (for each 'query') and then average those.\n",
    "    E.g.:\n",
    "    queries = [[0, 0, 0], [0, 1, 0], [1, 0, 0]]\n",
    "    mean_reciprocal_rank(queries) -> 0.5\n",
    "    \"\"\"\n",
    "    if isa(queries, Matrix)\n",
    "        queries_list = [queries[i,:] for i in 1:size(queries)[1]]\n",
    "        reciprocal_ranks = [sum(query) > 0 ? 1/argmax(query) : 0 for query in queries_list]\n",
    "    else\n",
    "        reciprocal_ranks = [sum(query) > 0 ? 1/argmax(query) : 0 for query in queries]\n",
    "    end\n",
    "    return mean(reciprocal_ranks)\n",
    "end"
   ]
  },
  {
   "cell_type": "code",
   "execution_count": 4,
   "id": "2641f52c",
   "metadata": {},
   "outputs": [
    {
     "data": {
      "text/plain": [
       "recallatk (generic function with 1 method)"
      ]
     },
     "execution_count": 4,
     "metadata": {},
     "output_type": "execute_result"
    }
   ],
   "source": [
    "function recallatk(queries, k)\n",
    "    \"\"\"\n",
    "    recall at top K for binary problems. Relevant items should be labeled as 1.\n",
    "    \n",
    "    Input: \n",
    "    - queries: list of lists of queries that are sorted (i.e. true labels sorted by prediction score)\n",
    "    - k: the top you want to look at\n",
    "    \"\"\"\n",
    "    recalls_k = [sum(query[1:k] .== 1) / sum(query .== 1) for query in queries]\n",
    "    return mean(recalls_k)\n",
    "end"
   ]
  },
  {
   "cell_type": "code",
   "execution_count": 5,
   "id": "5dd8f81a",
   "metadata": {},
   "outputs": [
    {
     "data": {
      "text/plain": [
       "hitratio (generic function with 1 method)"
      ]
     },
     "execution_count": 5,
     "metadata": {},
     "output_type": "execute_result"
    }
   ],
   "source": [
    "function hitratio(queries, k)\n",
    "    \"\"\"\n",
    "    hit ratio for in the first k elements (sorted queries)\n",
    "    \"\"\"\n",
    "    return sum([1 for query in queries if sum(query[1:k]) > 0]) / length(queries)\n",
    "end"
   ]
  },
  {
   "cell_type": "code",
   "execution_count": 6,
   "id": "130cd07c",
   "metadata": {},
   "outputs": [
    {
     "data": {
      "text/plain": [
       "sort_label_matrix (generic function with 1 method)"
      ]
     },
     "execution_count": 6,
     "metadata": {},
     "output_type": "execute_result"
    }
   ],
   "source": [
    "function sort_label_matrix(score_matrix, label_matrix)\n",
    "    \"\"\"\n",
    "    This function sorts the label matrix based on the score matrix.\n",
    "    It does so per row (corresponding to bacteria in our setting).\n",
    "    \n",
    "    WARNING: The sortperm function will rank equal elements by ascending index order. \n",
    "    This potentially can cause an underestimation of performance (MRR), as it can be that \n",
    "    an irrelevant 0 appears earlier and then is place before a relevant 1.\n",
    "    \"\"\"\n",
    "    @assert size(label_matrix) == size(score_matrix)\n",
    "    sorted_matrix = zeros(Int64, size(label_matrix)[1], size(label_matrix)[2])\n",
    "    for i in 1:size(label_matrix)[1] # loop over rows\n",
    "        label_row = label_matrix[i,:]\n",
    "        score_row = score_matrix[i,:]\n",
    "        sorted_row = label_row[sortperm(score_row, rev=true)]\n",
    "        sorted_matrix[i,:] = sorted_row\n",
    "    end\n",
    "    return sorted_matrix\n",
    "end"
   ]
  },
  {
   "cell_type": "code",
   "execution_count": 7,
   "id": "596df09d",
   "metadata": {},
   "outputs": [
    {
     "data": {
      "text/plain": [
       "mrr_from_scores (generic function with 1 method)"
      ]
     },
     "execution_count": 7,
     "metadata": {},
     "output_type": "execute_result"
    }
   ],
   "source": [
    "function mrr_from_scores(score_matrix, label_matrix)\n",
    "    \"\"\"\n",
    "    This function is a wrapper for the previous functions that computes\n",
    "    the MRR starting from a matrix of (prediction) scores, a threshold above\n",
    "    which to consider an interaction positive and a label matrix.\n",
    "    \"\"\"\n",
    "    # sort the matrix per row and compute\n",
    "    replace!(label_matrix, missing => 0)\n",
    "    sorted_matrix = sort_label_matrix(score_matrix, label_matrix)\n",
    "    \n",
    "    return mean_reciprocal_rank(sorted_matrix)\n",
    "end"
   ]
  },
  {
   "cell_type": "code",
   "execution_count": 8,
   "id": "916c4a1c",
   "metadata": {},
   "outputs": [
    {
     "data": {
      "text/plain": [
       "auc_from_scores (generic function with 1 method)"
      ]
     },
     "execution_count": 8,
     "metadata": {},
     "output_type": "execute_result"
    }
   ],
   "source": [
    "function auc_from_scores(scores_flat, labels_flat)\n",
    "    \"\"\"\n",
    "    This function computes the AUC from raw scores returned by ScikitLearn classifiers.\n",
    "    For the AUC, we need the flat versions of scores and labels that don't contain missing \n",
    "    values (if not, this will skew the results).\n",
    "    \n",
    "    Dependencies: MLJ\n",
    "    \"\"\"\n",
    "    c = [\"neg\", \"pos\"]\n",
    "    labels_cat = categorical(c[labels_flat .+ 1])\n",
    "    scores_uni = [UnivariateFinite(categorical([\"neg\", \"pos\"]), [1.0 - p, p]) for p in scores_flat]\n",
    "    AUC = auc(scores_uni, labels_cat)\n",
    "    return AUC\n",
    "end"
   ]
  },
  {
   "cell_type": "code",
   "execution_count": 9,
   "id": "7123b0c9",
   "metadata": {},
   "outputs": [
    {
     "data": {
      "text/plain": [
       "compute_performance (generic function with 1 method)"
      ]
     },
     "execution_count": 9,
     "metadata": {},
     "output_type": "execute_result"
    }
   ],
   "source": [
    "function compute_performance(score_matrix, label_matrix, scores_flat, labels_flat)\n",
    "    \"\"\"\n",
    "    Wrapper function that computes the two relevant results we want to compare for \n",
    "    our models: the ROC AUC and the MRR.    \n",
    "    \"\"\"\n",
    "    MRR = mrr_from_scores(score_matrix, label_matrix) # compute MRR\n",
    "    AUC = auc_from_scores(scores_flat, labels_flat) # compute AUC\n",
    "    return MRR, AUC\n",
    "end"
   ]
  },
  {
   "cell_type": "code",
   "execution_count": 10,
   "id": "c1296604",
   "metadata": {},
   "outputs": [
    {
     "data": {
      "text/plain": [
       "shift (generic function with 2 methods)"
      ]
     },
     "execution_count": 10,
     "metadata": {},
     "output_type": "execute_result"
    }
   ],
   "source": [
    "hdv(n) = rand((-1,1), n, 10000)\n",
    "binned(v) = round(Int, (v+10) * 1000) + 1\n",
    "shift(x, k=1) = circshift(x, k)"
   ]
  },
  {
   "cell_type": "code",
   "execution_count": 11,
   "id": "6b9685e8",
   "metadata": {},
   "outputs": [
    {
     "data": {
      "text/plain": [
       "range_hdvs (generic function with 1 method)"
      ]
     },
     "execution_count": 11,
     "metadata": {},
     "output_type": "execute_result"
    }
   ],
   "source": [
    "function range_hdvs(steps)\n",
    "    \"\"\"\n",
    "    Generate HDVs from a stepwise range.\n",
    "    \"\"\"\n",
    "    k = length(steps) - 1\n",
    "    V = hdv(k+1)\n",
    "    for i in 2:k+1\n",
    "        for j in 1:10000\n",
    "            V[i,j] = rand() < 1 / k ? -V[i-1,j] : V[i-1,j]\n",
    "        end\n",
    "    end\n",
    "    return V\n",
    "end"
   ]
  },
  {
   "cell_type": "code",
   "execution_count": 24,
   "id": "dbf24fcf",
   "metadata": {},
   "outputs": [
    {
     "data": {
      "text/plain": [
       "binding_binary (generic function with 1 method)"
      ]
     },
     "execution_count": 24,
     "metadata": {},
     "output_type": "execute_result"
    }
   ],
   "source": [
    "bundling(U::Matrix{Int}) = sum(U, dims=1)[:] .|> sign\n",
    "bundling(U::Matrix{Float64}) = sum(U, dims=1)\n",
    "binding(xs::Vector{Int}...) = reduce(.*, xs)\n",
    "binding(xs::Vector{Float64}...) = reduce(.*, xs)\n",
    "binding_binary(xs::Vector{Int}...) =  .⊻"
   ]
  },
  {
   "cell_type": "markdown",
   "id": "c2a9bb56",
   "metadata": {},
   "source": [
    "## 2 - Loading language embeddings"
   ]
  },
  {
   "cell_type": "code",
   "execution_count": 12,
   "id": "8c60ba82",
   "metadata": {},
   "outputs": [],
   "source": [
    "RBP_embeddings = DataFrame(CSV.File(general_dir*\"/esm2_embeddings_rbpValencia.csv\"));"
   ]
  },
  {
   "cell_type": "code",
   "execution_count": 13,
   "id": "984ad0cc",
   "metadata": {},
   "outputs": [],
   "source": [
    "loci_embeddings = DataFrame(CSV.File(general_dir*\"/esm2_embeddings_lociValencia.csv\"));"
   ]
  },
  {
   "cell_type": "markdown",
   "id": "ad15eb36",
   "metadata": {},
   "source": [
    "## 3 - Project embeddings into hyperdimensional space"
   ]
  },
  {
   "cell_type": "markdown",
   "id": "ce4badeb",
   "metadata": {},
   "source": [
    "So far, we've seen that projecting with bipolar vectors does not improve performance over just using language embeddings. Perhaps bipolar undoes the similarity conservation of matrix multiplication because some sums will become subtractions…\n",
    "\n",
    "Binary vectors also don't seem to improve much. But the thing is we don't really know how much info we're losing by doing the PCA... Perhaps we need to stay in high dim space to have the benefit of the multi-instance?\n",
    "\n",
    "Let's try with GradedHDVs AND cut the PCA."
   ]
  },
  {
   "cell_type": "markdown",
   "id": "5eac79aa",
   "metadata": {},
   "source": [
    "#### Using matrix multiplication"
   ]
  },
  {
   "cell_type": "code",
   "execution_count": 14,
   "id": "c36b119a",
   "metadata": {},
   "outputs": [],
   "source": [
    "# get actual values\n",
    "rbp_emb = RBP_embeddings[:, 3:end]\n",
    "loci_emb = loci_embeddings[:, 2:end];"
   ]
  },
  {
   "cell_type": "code",
   "execution_count": 17,
   "id": "1b857e0b",
   "metadata": {},
   "outputs": [],
   "source": [
    "# create hdv matrix where # of rows correspond to language embedding dimension\n",
    "hdv_matrix = zeros(Float64, size(rbp_emb)[2], 10000)\n",
    "for i in 1:size(rbp_emb)[2]\n",
    "    hdv_matrix[i,:] = BipolarHDV(10000)\n",
    "end"
   ]
  },
  {
   "cell_type": "code",
   "execution_count": 21,
   "id": "98a34561",
   "metadata": {},
   "outputs": [],
   "source": [
    "# do RBP matrix multiplication and turn into bipolar array\n",
    "rbphdc = Matrix(rbp_emb) * hdv_matrix .|> sign\n",
    "#rbphdc = convert(Matrix{Int64}, rbphdc);"
   ]
  },
  {
   "cell_type": "code",
   "execution_count": 22,
   "id": "57566bb2",
   "metadata": {},
   "outputs": [],
   "source": [
    "# do loci matrix multiplication and turn into bipolar array\n",
    "locihdc = Matrix(loci_emb) * hdv_matrix .|> sign\n",
    "#locihdc = convert(Matrix{Int64}, locihdc);"
   ]
  },
  {
   "cell_type": "markdown",
   "id": "04a41cf7",
   "metadata": {},
   "source": [
    "#### Using range HDVs"
   ]
  },
  {
   "cell_type": "code",
   "execution_count": 81,
   "id": "10c49033",
   "metadata": {},
   "outputs": [],
   "source": [
    "steps = -10.0:0.001:1\n",
    "hdv_matrix = range_hdvs(steps);"
   ]
  },
  {
   "cell_type": "code",
   "execution_count": 114,
   "id": "06d0b71b",
   "metadata": {},
   "outputs": [],
   "source": [
    "# project RBP embeddings into hyperspace\n",
    "rbphdc = zeros(size(rbp_emb)[1], 10000)\n",
    "for i in 1:size(rbp_emb)[1]\n",
    "    # loop over the language space\n",
    "    projections = []\n",
    "    for j in 1:size(rbp_emb)[2]\n",
    "        # for each position, get the index and correct HDV\n",
    "        this_projection = hdv_matrix[binned(rbp_emb[i,j]), :]\n",
    "        # shift for the position of the language space\n",
    "        this_projection = circshift(this_projection, j-1)\n",
    "        push!(projections, this_projection)\n",
    "    end\n",
    "    rbphdc[i,:] = binding(projections...)\n",
    "end\n",
    "rbphdc = convert(Matrix{Int64}, rbphdc);"
   ]
  },
  {
   "cell_type": "code",
   "execution_count": 116,
   "id": "19a51df9",
   "metadata": {},
   "outputs": [],
   "source": [
    "# project loci embeddings into hyperspace\n",
    "locihdc = zeros(size(loci_emb)[1], 10000)\n",
    "for i in 1:size(loci_emb)[1]\n",
    "    # loop over the language space\n",
    "    projections = []\n",
    "    for j in 1:size(loci_emb)[2]\n",
    "        # for each position, get the index and correct HDV\n",
    "        this_projection = hdv_matrix[binned(loci_emb[i,j]), :]\n",
    "        # shift for the position of the language space\n",
    "        this_projection = circshift(this_projection, j-1)\n",
    "        push!(projections, this_projection)\n",
    "    end\n",
    "    locihdc[i,:] = binding(projections...)\n",
    "end\n",
    "locihdc = convert(Matrix{Int64}, locihdc);"
   ]
  },
  {
   "cell_type": "markdown",
   "id": "f2c62514",
   "metadata": {},
   "source": [
    "## 3b - Correlation between projections\n",
    "\n",
    "How is the information of the HDC projection preserved compared to the original language embeddings. We would expect it to be conserved, as you don't lose any info with matrix multiplication. One way to check is to compute distances between the RBPs or loci and see if these distances are preserved when we project into hyperdimensional space. \n",
    "\n",
    "If this works out but the performance is still not good, then the problem resides at the level of multi-RBP aggregation or signature binding..."
   ]
  },
  {
   "cell_type": "code",
   "execution_count": 50,
   "id": "15ec9fd1",
   "metadata": {},
   "outputs": [],
   "source": [
    "cosine_similarity(x,y) = dot(x,y)/(norm(x)*norm(y));"
   ]
  },
  {
   "cell_type": "code",
   "execution_count": 51,
   "id": "0ae9d399",
   "metadata": {},
   "outputs": [],
   "source": [
    "# compute cosine similarities for RBP embeddings\n",
    "hdc_sim = zeros(Float64, size(rbphdc)[1], size(rbphdc)[1])\n",
    "for i in 1:size(rbphdc)[1]\n",
    "    for j in 1:size(rbphdc)[1]\n",
    "        hdc_sim[i,j] = cosine_similarity(rbphdc[i, :], rbphdc[j, :])\n",
    "    end\n",
    "end"
   ]
  },
  {
   "cell_type": "code",
   "execution_count": 52,
   "id": "db45d799",
   "metadata": {},
   "outputs": [],
   "source": [
    "# compute cosine similarities for RBP embeddings\n",
    "lan_sim = zeros(Float64, size(rbphdc)[1], size(rbphdc)[1])\n",
    "for i in 1:size(rbphdc)[1]\n",
    "    for j in 1:size(rbphdc)[1]\n",
    "        lan_sim[i,j] = cosine_similarity(rbp_emb[i, :], rbp_emb[j, :])\n",
    "    end\n",
    "end"
   ]
  },
  {
   "cell_type": "code",
   "execution_count": 53,
   "id": "18bbcbda",
   "metadata": {},
   "outputs": [],
   "source": [
    "# Make RBP scatter plot\n",
    "h = plot(seriestype=:scatter)\n",
    "for i in 1:size(rbphdc)[1]\n",
    "    plot!([hdc_sim[i, :]], [lan_sim[i, :]], seriestype=:scatter, label=\"\")\n",
    "end\n",
    "plot!(xlabel=\"HDC cosine similarity\", xguidefontsize=9, ylabel=\"Language cosine similarity\", yguidefontsize=9, size=(500, 400), dpi=300)\n",
    "this_cor = cor(vcat(hdc_sim...), vcat(lan_sim...))\n",
    "plot!(title=\"correlation: \"*string(round(this_cor, digits=4)))\n",
    "savefig(h, results_dir*\"/v3.0/HDC_language_similarity_scores_gradedMatMul.png\")"
   ]
  },
  {
   "cell_type": "markdown",
   "id": "ed1c97c6",
   "metadata": {},
   "source": [
    "## 4 - Aggregate single-instances to multi-instance HDVs"
   ]
  },
  {
   "cell_type": "code",
   "execution_count": 27,
   "id": "69bb08d8",
   "metadata": {},
   "outputs": [],
   "source": [
    "multirbphdc = zeros(Float64, length(unique(RBP_embeddings.phage_ID)), 10000)\n",
    "for (i, phageid) in enumerate(unique(RBP_embeddings.phage_ID))\n",
    "    subset = rbphdc[RBP_embeddings.phage_ID .== phageid, :]\n",
    "    multirbphdc[i, :] = bundling(subset)\n",
    "end\n",
    "multirbphdc = convert(Matrix{Float64}, multirbphdc);"
   ]
  },
  {
   "cell_type": "code",
   "execution_count": null,
   "id": "92afab51",
   "metadata": {},
   "outputs": [],
   "source": [
    "# aggregate loci proteins if building up from single locus protein embeddings!"
   ]
  },
  {
   "cell_type": "markdown",
   "id": "7bc0aabf",
   "metadata": {},
   "source": [
    "## 5 - Binding to joint signatures"
   ]
  },
  {
   "cell_type": "code",
   "execution_count": 29,
   "id": "927ec46b",
   "metadata": {},
   "outputs": [],
   "source": [
    "# load data\n",
    "LociBase = JSON.parsefile(general_dir*\"/Locibase\"*data_suffix*\".json\")\n",
    "seros = DataFrame(CSV.File(general_dir*\"/serotypes\"*data_suffix*\".csv\"))\n",
    "\n",
    "IM = DataFrame(CSV.File(general_dir*\"/phage_host_interactions\"*data_suffix*\".csv\"))\n",
    "rename!(IM,:Column1 => :Host)\n",
    "interaction_matrix = Matrix(IM[1:end, 2:end]);"
   ]
  },
  {
   "cell_type": "code",
   "execution_count": 30,
   "id": "91299063",
   "metadata": {},
   "outputs": [],
   "source": [
    "# compute sigatures for loci x RBP embeddings by BINDING\n",
    "signatures = []\n",
    "labels = []\n",
    "groups_loci = []\n",
    "groups_phage = []\n",
    "for (i, accession) in enumerate(collect(keys(LociBase)))\n",
    "    for (j, phage_id) in enumerate(unique(RBP_embeddings.phage_ID))\n",
    "        subset = filter(row -> row.Host == accession, IM)\n",
    "        interaction = subset[!, phage_id][1]\n",
    "        if isequal(interaction, 1) || isequal(interaction, 0)\n",
    "            signature = binding(locihdc[i,:], multirbphdc[j, :])\n",
    "            push!(signatures, signature)\n",
    "            push!(labels, trunc(Int, interaction))\n",
    "            push!(groups_loci, i)\n",
    "            push!(groups_phage, j)\n",
    "        end\n",
    "    end\n",
    "end"
   ]
  },
  {
   "cell_type": "code",
   "execution_count": 31,
   "id": "f4714297",
   "metadata": {},
   "outputs": [],
   "source": [
    "# put the signatures in a matrix for sklearn\n",
    "features = zeros(Float64, length(signatures), 10000)\n",
    "\n",
    "for i in range(1, length=length(signatures))\n",
    "    features[i,:] = signatures[i]\n",
    "end\n",
    "features = convert(Matrix{Float64}, features);"
   ]
  },
  {
   "cell_type": "markdown",
   "id": "14d4aa51",
   "metadata": {},
   "source": [
    "## 5 - PCA + RF K-fold evaluation<a name=\"machinelearning\"></a>\n",
    "\n",
    "RF + language embeddings gets to around 70-76%...\n",
    "\n",
    "language - Bipolar MatMul - Bind - RF: around 68%\n",
    "\n",
    "language - Graded MatMul - Bind - RF: around 73%\n",
    "\n",
    "Graded HDVs show promise looking at hyperparam tuning results! now around 65% while before always around 53%"
   ]
  },
  {
   "cell_type": "code",
   "execution_count": 32,
   "id": "bb2e38b1",
   "metadata": {},
   "outputs": [],
   "source": [
    "# shuffle and set test set aside\n",
    "X_train, X_test, y_train, y_test = train_test_split(features, labels, test_size=0.2, stratify=labels);"
   ]
  },
  {
   "cell_type": "code",
   "execution_count": 33,
   "id": "d44377ee",
   "metadata": {},
   "outputs": [],
   "source": [
    "# define model and CV\n",
    "rf = RandomForestClassifier(class_weight=\"balanced\", n_jobs=6)\n",
    "#pca = PCA()\n",
    "#pipe = Pipeline([(\"pca\", pca), (\"rf\", rf)])\n",
    "params = Dict(\"n_estimators\"=>[750, 1000, 1250], \"max_depth\"=>[3, 5, 7, 9])\n",
    "cv = CrossValidation.StratifiedKFold(y_train, n_folds=5, shuffle=true, random_state=42);"
   ]
  },
  {
   "cell_type": "code",
   "execution_count": 34,
   "id": "ee6e4c03",
   "metadata": {},
   "outputs": [
    {
     "name": "stdout",
     "output_type": "stream",
     "text": [
      "Fitting 5 folds for each of 12 candidates, totalling 60 fits\n",
      "[CV] n_estimators=750, max_depth=3\n",
      "[CV] n_estimators=750, max_depth=3, score=0.63257  -  2.7s\n",
      "[CV] n_estimators=750, max_depth=3\n",
      "[CV] n_estimators=750, max_depth=3, score=0.64534  -  2.3s\n",
      "[CV] n_estimators=750, max_depth=3\n",
      "[CV] n_estimators=750, max_depth=3, score=0.62887  -  2.5s\n",
      "[CV] n_estimators=750, max_depth=3\n",
      "[CV] n_estimators=750, max_depth=3, score=0.71775  -  2.2s\n",
      "[CV] n_estimators=750, max_depth=3\n",
      "[CV] n_estimators=750, max_depth=3, score=0.66886  -  2.3s\n",
      "[CV] n_estimators=1000, max_depth=3\n",
      "[CV] n_estimators=1000, max_depth=3, score=0.63092  -  2.7s\n",
      "[CV] n_estimators=1000, max_depth=3\n",
      "[CV] n_estimators=1000, max_depth=3, score=0.64403  -  2.8s\n",
      "[CV] n_estimators=1000, max_depth=3\n",
      "[CV] n_estimators=1000, max_depth=3, score=0.62458  -  2.7s\n",
      "[CV] n_estimators=1000, max_depth=3\n",
      "[CV] n_estimators=1000, max_depth=3, score=0.71906  -  2.7s\n",
      "[CV] n_estimators=1000, max_depth=3\n",
      "[CV] n_estimators=1000, max_depth=3, score=0.66294  -  2.8s\n",
      "[CV] n_estimators=1250, max_depth=3\n",
      "[CV] n_estimators=1250, max_depth=3, score=0.62400  -  3.3s\n",
      "[CV] n_estimators=1250, max_depth=3\n",
      "[CV] n_estimators=1250, max_depth=3, score=0.64436  -  3.3s\n",
      "[CV] n_estimators=1250, max_depth=3\n",
      "[CV] n_estimators=1250, max_depth=3, score=0.63317  -  3.4s\n",
      "[CV] n_estimators=1250, max_depth=3\n",
      "[CV] n_estimators=1250, max_depth=3, score=0.72104  -  3.3s\n",
      "[CV] n_estimators=1250, max_depth=3\n",
      "[CV] n_estimators=1250, max_depth=3, score=0.67237  -  3.3s\n",
      "[CV] n_estimators=750, max_depth=5\n",
      "[CV] n_estimators=750, max_depth=5, score=0.64272  -  3.0s\n",
      "[CV] n_estimators=750, max_depth=5\n",
      "[CV] n_estimators=750, max_depth=5, score=0.65158  -  2.9s\n",
      "[CV] n_estimators=750, max_depth=5\n",
      "[CV] n_estimators=750, max_depth=5, score=0.61864  -  2.9s\n",
      "[CV] n_estimators=750, max_depth=5\n",
      "[CV] n_estimators=750, max_depth=5, score=0.68758  -  3.1s\n",
      "[CV] n_estimators=750, max_depth=5\n",
      "[CV] n_estimators=750, max_depth=5, score=0.68167  -  2.9s\n",
      "[CV] n_estimators=1000, max_depth=5\n",
      "[CV] n_estimators=1000, max_depth=5, score=0.64140  -  4.6s\n",
      "[CV] n_estimators=1000, max_depth=5\n",
      "[CV] n_estimators=1000, max_depth=5, score=0.65191  -  4.3s\n",
      "[CV] n_estimators=1000, max_depth=5\n",
      "[CV] n_estimators=1000, max_depth=5, score=0.61864  -  3.9s\n",
      "[CV] n_estimators=1000, max_depth=5\n",
      "[CV] n_estimators=1000, max_depth=5, score=0.68561  -  3.9s\n",
      "[CV] n_estimators=1000, max_depth=5\n",
      "[CV] n_estimators=1000, max_depth=5, score=0.68233  -  3.9s\n",
      "[CV] n_estimators=1250, max_depth=5\n",
      "[CV] n_estimators=1250, max_depth=5, score=0.64206  -  4.9s\n",
      "[CV] n_estimators=1250, max_depth=5\n",
      "[CV] n_estimators=1250, max_depth=5, score=0.65158  -  4.7s\n",
      "[CV] n_estimators=1250, max_depth=5\n",
      "[CV] n_estimators=1250, max_depth=5, score=0.61766  -  4.8s\n",
      "[CV] n_estimators=1250, max_depth=5\n",
      "[CV] n_estimators=1250, max_depth=5, score=0.68561  -  4.8s\n",
      "[CV] n_estimators=1250, max_depth=5\n",
      "[CV] n_estimators=1250, max_depth=5, score=0.68101  -  4.6s\n",
      "[CV] n_estimators=750, max_depth=7\n",
      "[CV] n_estimators=750, max_depth=7, score=0.66083  -  4.4s\n",
      "[CV] n_estimators=750, max_depth=7\n",
      "[CV] n_estimators=750, max_depth=7, score=0.63446  -  4.0s\n",
      "[CV] n_estimators=750, max_depth=7\n",
      "[CV] n_estimators=750, max_depth=7, score=0.63147  -  4.0s\n",
      "[CV] n_estimators=750, max_depth=7\n",
      "[CV] n_estimators=750, max_depth=7, score=0.67684  -  4.2s\n",
      "[CV] n_estimators=750, max_depth=7\n",
      "[CV] n_estimators=750, max_depth=7, score=0.67191  -  4.2s\n",
      "[CV] n_estimators=1000, max_depth=7\n",
      "[CV] n_estimators=1000, max_depth=7, score=0.64997  -  5.3s\n",
      "[CV] n_estimators=1000, max_depth=7\n",
      "[CV] n_estimators=1000, max_depth=7, score=0.64532  -  5.3s\n",
      "[CV] n_estimators=1000, max_depth=7\n",
      "[CV] n_estimators=1000, max_depth=7, score=0.61897  -  5.2s\n",
      "[CV] n_estimators=1000, max_depth=7\n",
      "[CV] n_estimators=1000, max_depth=7, score=0.67651  -  5.2s\n",
      "[CV] n_estimators=1000, max_depth=7\n",
      "[CV] n_estimators=1000, max_depth=7, score=0.67191  -  5.7s\n",
      "[CV] n_estimators=1250, max_depth=7\n",
      "[CV] n_estimators=1250, max_depth=7, score=0.65095  -  6.9s\n",
      "[CV] n_estimators=1250, max_depth=7\n",
      "[CV] n_estimators=1250, max_depth=7, score=0.63183  -  6.5s\n",
      "[CV] n_estimators=1250, max_depth=7\n",
      "[CV] n_estimators=1250, max_depth=7, score=0.61963  -  6.6s\n",
      "[CV] n_estimators=1250, max_depth=7\n",
      "[CV] n_estimators=1250, max_depth=7, score=0.67684  -  6.6s\n",
      "[CV] n_estimators=1250, max_depth=7\n",
      "[CV] n_estimators=1250, max_depth=7, score=0.67224  -  6.6s\n",
      "[CV] n_estimators=750, max_depth=9\n",
      "[CV] n_estimators=750, max_depth=9, score=0.57520  -  5.6s\n",
      "[CV] n_estimators=750, max_depth=9\n",
      "[CV] n_estimators=750, max_depth=9, score=0.58043  -  5.7s\n",
      "[CV] n_estimators=750, max_depth=9\n",
      "[CV] n_estimators=750, max_depth=9, score=0.62354  -  5.7s\n",
      "[CV] n_estimators=750, max_depth=9\n",
      "[CV] n_estimators=750, max_depth=9, score=0.63921  -  6.0s\n",
      "[CV] n_estimators=750, max_depth=9\n",
      "[CV] n_estimators=750, max_depth=9, score=0.63208  -  6.1s\n",
      "[CV] n_estimators=1000, max_depth=9\n",
      "[CV] n_estimators=1000, max_depth=9, score=0.58606  -  7.5s\n",
      "[CV] n_estimators=1000, max_depth=9\n",
      "[CV] n_estimators=1000, max_depth=9, score=0.57154  -  7.5s\n",
      "[CV] n_estimators=1000, max_depth=9\n",
      "[CV] n_estimators=1000, max_depth=9, score=0.63473  -  7.5s\n",
      "[CV] n_estimators=1000, max_depth=9\n",
      "[CV] n_estimators=1000, max_depth=9, score=0.63954  -  7.5s\n",
      "[CV] n_estimators=1000, max_depth=9\n",
      "[CV] n_estimators=1000, max_depth=9, score=0.62100  -  7.5s\n",
      "[CV] n_estimators=1250, max_depth=9\n",
      "[CV] n_estimators=1250, max_depth=9, score=0.58475  -  9.6s\n",
      "[CV] n_estimators=1250, max_depth=9\n",
      "[CV] n_estimators=1250, max_depth=9, score=0.56957  -  9.0s\n",
      "[CV] n_estimators=1250, max_depth=9\n",
      "[CV] n_estimators=1250, max_depth=9, score=0.62518  -  9.3s\n",
      "[CV] n_estimators=1250, max_depth=9\n",
      "[CV] n_estimators=1250, max_depth=9, score=0.62879  -  9.1s\n",
      "[CV] n_estimators=1250, max_depth=9\n",
      "[CV] n_estimators=1250, max_depth=9, score=0.63142  -  9.1s\n",
      "Dict{Symbol, Any}(:n_estimators => 1250, :max_depth => 3)\n"
     ]
    }
   ],
   "source": [
    "# do hyperparameter tuning\n",
    "rocauc = make_scorer(roc_auc_score)\n",
    "rf_tuned = GridSearchCV(rf, params, cv=cv, scoring=rocauc, verbose=3)\n",
    "ScikitLearn.fit!(rf_tuned, X_train, y_train)\n",
    "println(rf_tuned.best_params_)"
   ]
  },
  {
   "cell_type": "code",
   "execution_count": 72,
   "id": "3a683ed7",
   "metadata": {},
   "outputs": [
    {
     "data": {
      "text/plain": [
       "0.7301672079460386"
      ]
     },
     "execution_count": 72,
     "metadata": {},
     "output_type": "execute_result"
    }
   ],
   "source": [
    "# test set evaluation\n",
    "rf = RandomForestClassifier(n_estimators=1000, max_depth=3, class_weight=\"balanced\", n_jobs=6)\n",
    "#pca = PCA(n_components=200)\n",
    "#pipe = Pipeline([(\"pca\", pca), (\"rf\", rf)])\n",
    "model = ScikitLearn.fit!(rf, X_train, y_train)\n",
    "scores_pos = ScikitLearn.predict_proba(model, X_test)[:,2]\n",
    "roc_auc_score(y_test, scores_pos)"
   ]
  },
  {
   "cell_type": "code",
   "execution_count": 73,
   "id": "41f62a35",
   "metadata": {},
   "outputs": [
    {
     "data": {
      "text/plain": [
       "\"/Users/dimi/GoogleDrive/PhD/4_PHAGEHOST_LEARNING/43_RESULTS/models/v3.0/language_hdc_gradedmatmul.csv\""
      ]
     },
     "execution_count": 73,
     "metadata": {},
     "output_type": "execute_result"
    }
   ],
   "source": [
    "# save scores for plotting\n",
    "results = DataFrame(labels=y_test, scores=scores_pos)\n",
    "CSV.write(results_dir*\"/v3.0/hdc_language_sequence.csv\", results)"
   ]
  },
  {
   "cell_type": "code",
   "execution_count": 20,
   "id": "57ff3f2a",
   "metadata": {},
   "outputs": [
    {
     "name": "stdout",
     "output_type": "stream",
     "text": [
      "0.5316325387869025\n"
     ]
    },
    {
     "data": {
      "text/plain": [
       "\"/Users/dimi/GoogleDrive/PhD/4_PHAGEHOST_LEARNING/43_RESULTS/models/v2.2/hdc_bind_rf_scores_random.csv\""
      ]
     },
     "execution_count": 20,
     "metadata": {},
     "output_type": "execute_result"
    }
   ],
   "source": [
    "# randomized labels\n",
    "rf = RandomForestClassifier(n_estimators=100, class_weight=\"balanced\")\n",
    "pca = PCA(n_components=200)\n",
    "pipe = Pipeline([(\"pca\", pca), (\"rf\", rf)])\n",
    "y_shuffled = shuffle(y_train)\n",
    "model = ScikitLearn.fit!(pipe, X_train, y_shuffled)\n",
    "scores_pos = ScikitLearn.predict_proba(model, X_test)[:,2]\n",
    "println(roc_auc_score(y_test, scores_pos))\n",
    "results = DataFrame(labels=y_test, scores=scores_pos)\n",
    "CSV.write(results_dir*\"/v2.2/hdc_bind_rf_scores_random.csv\", results)"
   ]
  },
  {
   "cell_type": "markdown",
   "id": "d3d6c75e",
   "metadata": {},
   "source": [
    "## 6 - PCA+RF in LOGOCV setting"
   ]
  },
  {
   "cell_type": "code",
   "execution_count": 75,
   "id": "7a8803b7",
   "metadata": {},
   "outputs": [
    {
     "name": "stderr",
     "output_type": "stream",
     "text": [
      "\u001b[32mProgress: 100%|█████████████████████████████████████████| Time: 2:09:21\u001b[39m\n"
     ]
    }
   ],
   "source": [
    "rf = RandomForestClassifier(n_estimators=1000, max_depth=3, class_weight=\"balanced\", n_jobs=6)\n",
    "noauc_scores = []\n",
    "rocauc_scores = []\n",
    "prauc_scores = []\n",
    "sero_groups = []\n",
    "ranked_q = []\n",
    "p = Progress(200)\n",
    "\n",
    "for item in unique(groups_loci)\n",
    "    # define training and test data\n",
    "    x_train = features[groups_loci .!= item, :]\n",
    "    y_train = labels[groups_loci .!= item]\n",
    "    x_test = features[groups_loci .== item, :]\n",
    "    y_test = labels[groups_loci .== item]\n",
    "    \n",
    "    # train the model\n",
    "    model = ScikitLearn.fit!(rf, x_train, y_train)\n",
    "    \n",
    "    # make predictions and keep the scores\n",
    "    scores_pos = ScikitLearn.predict_proba(model, x_test)[:,2]\n",
    "    try\n",
    "        roc_auc = roc_auc_score(y_test, scores_pos)\n",
    "        pr_auc = au_prcurve(convert(Vector{Int64}, y_test), convert(Vector{Float64}, scores_pos))\n",
    "        push!(rocauc_scores, roc_auc)\n",
    "        push!(prauc_scores, pr_auc)\n",
    "        this_sero = seros.sero[item]\n",
    "        push!(sero_groups, this_sero)\n",
    "        sorted_query = y_test[sortperm(scores_pos, rev=true)] # sort labels to compute MRR later\n",
    "        push!(ranked_q, sorted_query)\n",
    "    catch\n",
    "        push!(noauc_scores, scores_pos)\n",
    "    end\n",
    "    \n",
    "    # pbar update\n",
    "    next!(p)\n",
    "end"
   ]
  },
  {
   "cell_type": "code",
   "execution_count": 76,
   "id": "0cce3ddf",
   "metadata": {},
   "outputs": [
    {
     "name": "stdout",
     "output_type": "stream",
     "text": [
      "ROC AUC: 0.683953514026349\n",
      "PR AUC: 0.2928992405169087\n",
      "MRR: 0.4031040408495346\n",
      "Top 10 Recall: 0.4427446569178853\n"
     ]
    }
   ],
   "source": [
    "# print scores\n",
    "println(\"ROC AUC: \", mean(rocauc_scores))\n",
    "println(\"PR AUC: \", mean(prauc_scores))\n",
    "println(\"MRR: \", mean_reciprocal_rank(ranked_q))\n",
    "println(\"Top 10 Recall: \", recallatk(ranked_q, 10))\n",
    "\n",
    "# save scores for plotting\n",
    "logo_results = DataFrame(sero=sero_groups, rocauc_scores=rocauc_scores, prauc_scores=prauc_scores, \n",
    "                            ranked_queries=ranked_q)\n",
    "CSV.write(results_dir*\"/v3.0/hdc_language_sequence_logocv_results.csv\", logo_results);"
   ]
  },
  {
   "cell_type": "code",
   "execution_count": 79,
   "id": "1a2495fd",
   "metadata": {},
   "outputs": [],
   "source": [
    "logo_results = DataFrame(CSV.File(results_dir*\"/v3.0/hdc_language_sequence_logocv_results.csv\"))\n",
    "ranked_queries = [eval(Meta.parse(logo_results.ranked_queries[i])) for i in 1:length(logo_results.ranked_queries)]\n",
    "ks = LinRange(1, 46, 46)\n",
    "recalls = [recallatk(ranked_queries, trunc(Int, k)) for k in ks]\n",
    "hits = [hitratio(ranked_queries, trunc(Int, k)) for k in ks]\n",
    "plot(ks, recalls, lw=2.5, label=\"Recall\", c=\"#508AA8\", legend=:topleft, dpi=400)\n",
    "plot!(ks, hits, lw=2.5, label=\"Hit ratio\", c=\"#BA2D0B\")\n",
    "ylims!((0.1, 1))\n",
    "savefig(results_dir*\"/v3.0/hdc_language_logocv_recall_hitratio.png\")"
   ]
  },
  {
   "cell_type": "code",
   "execution_count": 80,
   "id": "7d90eba1",
   "metadata": {},
   "outputs": [
    {
     "data": {
      "image/svg+xml": [
       "<?xml version=\"1.0\" encoding=\"utf-8\"?>\n",
       "<svg xmlns=\"http://www.w3.org/2000/svg\" xmlns:xlink=\"http://www.w3.org/1999/xlink\" width=\"600\" height=\"400\" viewBox=\"0 0 2400 1600\">\n",
       "<defs>\n",
       "  <clipPath id=\"clip500\">\n",
       "    <rect x=\"0\" y=\"0\" width=\"2400\" height=\"1600\"/>\n",
       "  </clipPath>\n",
       "</defs>\n",
       "<path clip-path=\"url(#clip500)\" d=\"\n",
       "M0 1600 L2400 1600 L2400 0 L0 0  Z\n",
       "  \" fill=\"#ffffff\" fill-rule=\"evenodd\" fill-opacity=\"1\"/>\n",
       "<defs>\n",
       "  <clipPath id=\"clip501\">\n",
       "    <rect x=\"480\" y=\"0\" width=\"1681\" height=\"1600\"/>\n",
       "  </clipPath>\n",
       "</defs>\n",
       "<path clip-path=\"url(#clip500)\" d=\"\n",
       "M172.015 1486.45 L2352.76 1486.45 L2352.76 47.2441 L172.015 47.2441  Z\n",
       "  \" fill=\"#ffffff\" fill-rule=\"evenodd\" fill-opacity=\"1\"/>\n",
       "<defs>\n",
       "  <clipPath id=\"clip502\">\n",
       "    <rect x=\"172\" y=\"47\" width=\"2182\" height=\"1440\"/>\n",
       "  </clipPath>\n",
       "</defs>\n",
       "<polyline clip-path=\"url(#clip502)\" style=\"stroke:#000000; stroke-linecap:round; stroke-linejoin:round; stroke-width:2; stroke-opacity:0.1; fill:none\" points=\"\n",
       "  473.914,1486.45 473.914,47.2441 \n",
       "  \"/>\n",
       "<polyline clip-path=\"url(#clip502)\" style=\"stroke:#000000; stroke-linecap:round; stroke-linejoin:round; stroke-width:2; stroke-opacity:0.1; fill:none\" points=\"\n",
       "  777.172,1486.45 777.172,47.2441 \n",
       "  \"/>\n",
       "<polyline clip-path=\"url(#clip502)\" style=\"stroke:#000000; stroke-linecap:round; stroke-linejoin:round; stroke-width:2; stroke-opacity:0.1; fill:none\" points=\"\n",
       "  1080.43,1486.45 1080.43,47.2441 \n",
       "  \"/>\n",
       "<polyline clip-path=\"url(#clip502)\" style=\"stroke:#000000; stroke-linecap:round; stroke-linejoin:round; stroke-width:2; stroke-opacity:0.1; fill:none\" points=\"\n",
       "  1383.69,1486.45 1383.69,47.2441 \n",
       "  \"/>\n",
       "<polyline clip-path=\"url(#clip502)\" style=\"stroke:#000000; stroke-linecap:round; stroke-linejoin:round; stroke-width:2; stroke-opacity:0.1; fill:none\" points=\"\n",
       "  1686.95,1486.45 1686.95,47.2441 \n",
       "  \"/>\n",
       "<polyline clip-path=\"url(#clip502)\" style=\"stroke:#000000; stroke-linecap:round; stroke-linejoin:round; stroke-width:2; stroke-opacity:0.1; fill:none\" points=\"\n",
       "  1990.2,1486.45 1990.2,47.2441 \n",
       "  \"/>\n",
       "<polyline clip-path=\"url(#clip502)\" style=\"stroke:#000000; stroke-linecap:round; stroke-linejoin:round; stroke-width:2; stroke-opacity:0.1; fill:none\" points=\"\n",
       "  2293.46,1486.45 2293.46,47.2441 \n",
       "  \"/>\n",
       "<polyline clip-path=\"url(#clip500)\" style=\"stroke:#000000; stroke-linecap:round; stroke-linejoin:round; stroke-width:4; stroke-opacity:1; fill:none\" points=\"\n",
       "  172.015,1486.45 2352.76,1486.45 \n",
       "  \"/>\n",
       "<polyline clip-path=\"url(#clip500)\" style=\"stroke:#000000; stroke-linecap:round; stroke-linejoin:round; stroke-width:4; stroke-opacity:1; fill:none\" points=\"\n",
       "  473.914,1486.45 473.914,1467.55 \n",
       "  \"/>\n",
       "<polyline clip-path=\"url(#clip500)\" style=\"stroke:#000000; stroke-linecap:round; stroke-linejoin:round; stroke-width:4; stroke-opacity:1; fill:none\" points=\"\n",
       "  777.172,1486.45 777.172,1467.55 \n",
       "  \"/>\n",
       "<polyline clip-path=\"url(#clip500)\" style=\"stroke:#000000; stroke-linecap:round; stroke-linejoin:round; stroke-width:4; stroke-opacity:1; fill:none\" points=\"\n",
       "  1080.43,1486.45 1080.43,1467.55 \n",
       "  \"/>\n",
       "<polyline clip-path=\"url(#clip500)\" style=\"stroke:#000000; stroke-linecap:round; stroke-linejoin:round; stroke-width:4; stroke-opacity:1; fill:none\" points=\"\n",
       "  1383.69,1486.45 1383.69,1467.55 \n",
       "  \"/>\n",
       "<polyline clip-path=\"url(#clip500)\" style=\"stroke:#000000; stroke-linecap:round; stroke-linejoin:round; stroke-width:4; stroke-opacity:1; fill:none\" points=\"\n",
       "  1686.95,1486.45 1686.95,1467.55 \n",
       "  \"/>\n",
       "<polyline clip-path=\"url(#clip500)\" style=\"stroke:#000000; stroke-linecap:round; stroke-linejoin:round; stroke-width:4; stroke-opacity:1; fill:none\" points=\"\n",
       "  1990.2,1486.45 1990.2,1467.55 \n",
       "  \"/>\n",
       "<polyline clip-path=\"url(#clip500)\" style=\"stroke:#000000; stroke-linecap:round; stroke-linejoin:round; stroke-width:4; stroke-opacity:1; fill:none\" points=\"\n",
       "  2293.46,1486.45 2293.46,1467.55 \n",
       "  \"/>\n",
       "<path clip-path=\"url(#clip500)\" d=\"M451.623 1517.37 Q448.012 1517.37 446.183 1520.93 Q444.377 1524.47 444.377 1531.6 Q444.377 1538.71 446.183 1542.27 Q448.012 1545.82 451.623 1545.82 Q455.257 1545.82 457.063 1542.27 Q458.891 1538.71 458.891 1531.6 Q458.891 1524.47 457.063 1520.93 Q455.257 1517.37 451.623 1517.37 M451.623 1513.66 Q457.433 1513.66 460.488 1518.27 Q463.567 1522.85 463.567 1531.6 Q463.567 1540.33 460.488 1544.94 Q457.433 1549.52 451.623 1549.52 Q445.813 1549.52 442.734 1544.94 Q439.678 1540.33 439.678 1531.6 Q439.678 1522.85 442.734 1518.27 Q445.813 1513.66 451.623 1513.66 Z\" fill=\"#000000\" fill-rule=\"evenodd\" fill-opacity=\"1\" /><path clip-path=\"url(#clip500)\" d=\"M471.785 1542.97 L476.669 1542.97 L476.669 1548.85 L471.785 1548.85 L471.785 1542.97 Z\" fill=\"#000000\" fill-rule=\"evenodd\" fill-opacity=\"1\" /><path clip-path=\"url(#clip500)\" d=\"M501.021 1530.21 Q504.377 1530.93 506.252 1533.2 Q508.15 1535.47 508.15 1538.8 Q508.15 1543.92 504.632 1546.72 Q501.113 1549.52 494.632 1549.52 Q492.456 1549.52 490.141 1549.08 Q487.849 1548.66 485.396 1547.81 L485.396 1543.29 Q487.34 1544.43 489.655 1545.01 Q491.97 1545.58 494.493 1545.58 Q498.891 1545.58 501.183 1543.85 Q503.497 1542.11 503.497 1538.8 Q503.497 1535.75 501.345 1534.03 Q499.215 1532.3 495.396 1532.3 L491.368 1532.3 L491.368 1528.45 L495.581 1528.45 Q499.03 1528.45 500.859 1527.09 Q502.687 1525.7 502.687 1523.11 Q502.687 1520.45 500.789 1519.03 Q498.914 1517.6 495.396 1517.6 Q493.474 1517.6 491.275 1518.01 Q489.076 1518.43 486.437 1519.31 L486.437 1515.14 Q489.099 1514.4 491.414 1514.03 Q493.752 1513.66 495.812 1513.66 Q501.136 1513.66 504.238 1516.09 Q507.34 1518.5 507.34 1522.62 Q507.34 1525.49 505.697 1527.48 Q504.053 1529.45 501.021 1530.21 Z\" fill=\"#000000\" fill-rule=\"evenodd\" fill-opacity=\"1\" /><path clip-path=\"url(#clip500)\" d=\"M754.314 1517.37 Q750.703 1517.37 748.874 1520.93 Q747.068 1524.47 747.068 1531.6 Q747.068 1538.71 748.874 1542.27 Q750.703 1545.82 754.314 1545.82 Q757.948 1545.82 759.754 1542.27 Q761.582 1538.71 761.582 1531.6 Q761.582 1524.47 759.754 1520.93 Q757.948 1517.37 754.314 1517.37 M754.314 1513.66 Q760.124 1513.66 763.179 1518.27 Q766.258 1522.85 766.258 1531.6 Q766.258 1540.33 763.179 1544.94 Q760.124 1549.52 754.314 1549.52 Q748.504 1549.52 745.425 1544.94 Q742.369 1540.33 742.369 1531.6 Q742.369 1522.85 745.425 1518.27 Q748.504 1513.66 754.314 1513.66 Z\" fill=\"#000000\" fill-rule=\"evenodd\" fill-opacity=\"1\" /><path clip-path=\"url(#clip500)\" d=\"M774.476 1542.97 L779.36 1542.97 L779.36 1548.85 L774.476 1548.85 L774.476 1542.97 Z\" fill=\"#000000\" fill-rule=\"evenodd\" fill-opacity=\"1\" /><path clip-path=\"url(#clip500)\" d=\"M802.392 1518.36 L790.587 1536.81 L802.392 1536.81 L802.392 1518.36 M801.165 1514.29 L807.045 1514.29 L807.045 1536.81 L811.975 1536.81 L811.975 1540.7 L807.045 1540.7 L807.045 1548.85 L802.392 1548.85 L802.392 1540.7 L786.79 1540.7 L786.79 1536.19 L801.165 1514.29 Z\" fill=\"#000000\" fill-rule=\"evenodd\" fill-opacity=\"1\" /><path clip-path=\"url(#clip500)\" d=\"M1058.31 1517.37 Q1054.7 1517.37 1052.87 1520.93 Q1051.07 1524.47 1051.07 1531.6 Q1051.07 1538.71 1052.87 1542.27 Q1054.7 1545.82 1058.31 1545.82 Q1061.95 1545.82 1063.75 1542.27 Q1065.58 1538.71 1065.58 1531.6 Q1065.58 1524.47 1063.75 1520.93 Q1061.95 1517.37 1058.31 1517.37 M1058.31 1513.66 Q1064.12 1513.66 1067.18 1518.27 Q1070.26 1522.85 1070.26 1531.6 Q1070.26 1540.33 1067.18 1544.94 Q1064.12 1549.52 1058.31 1549.52 Q1052.5 1549.52 1049.42 1544.94 Q1046.37 1540.33 1046.37 1531.6 Q1046.37 1522.85 1049.42 1518.27 Q1052.5 1513.66 1058.31 1513.66 Z\" fill=\"#000000\" fill-rule=\"evenodd\" fill-opacity=\"1\" /><path clip-path=\"url(#clip500)\" d=\"M1078.47 1542.97 L1083.36 1542.97 L1083.36 1548.85 L1078.47 1548.85 L1078.47 1542.97 Z\" fill=\"#000000\" fill-rule=\"evenodd\" fill-opacity=\"1\" /><path clip-path=\"url(#clip500)\" d=\"M1093.59 1514.29 L1111.95 1514.29 L1111.95 1518.22 L1097.87 1518.22 L1097.87 1526.7 Q1098.89 1526.35 1099.91 1526.19 Q1100.93 1526 1101.95 1526 Q1107.73 1526 1111.11 1529.17 Q1114.49 1532.34 1114.49 1537.76 Q1114.49 1543.34 1111.02 1546.44 Q1107.55 1549.52 1101.23 1549.52 Q1099.05 1549.52 1096.78 1549.15 Q1094.54 1548.78 1092.13 1548.04 L1092.13 1543.34 Q1094.22 1544.47 1096.44 1545.03 Q1098.66 1545.58 1101.14 1545.58 Q1105.14 1545.58 1107.48 1543.48 Q1109.82 1541.37 1109.82 1537.76 Q1109.82 1534.15 1107.48 1532.04 Q1105.14 1529.94 1101.14 1529.94 Q1099.26 1529.94 1097.39 1530.35 Q1095.53 1530.77 1093.59 1531.65 L1093.59 1514.29 Z\" fill=\"#000000\" fill-rule=\"evenodd\" fill-opacity=\"1\" /><path clip-path=\"url(#clip500)\" d=\"M1360.99 1517.37 Q1357.38 1517.37 1355.55 1520.93 Q1353.75 1524.47 1353.75 1531.6 Q1353.75 1538.71 1355.55 1542.27 Q1357.38 1545.82 1360.99 1545.82 Q1364.63 1545.82 1366.43 1542.27 Q1368.26 1538.71 1368.26 1531.6 Q1368.26 1524.47 1366.43 1520.93 Q1364.63 1517.37 1360.99 1517.37 M1360.99 1513.66 Q1366.8 1513.66 1369.86 1518.27 Q1372.94 1522.85 1372.94 1531.6 Q1372.94 1540.33 1369.86 1544.94 Q1366.8 1549.52 1360.99 1549.52 Q1355.18 1549.52 1352.1 1544.94 Q1349.05 1540.33 1349.05 1531.6 Q1349.05 1522.85 1352.1 1518.27 Q1355.18 1513.66 1360.99 1513.66 Z\" fill=\"#000000\" fill-rule=\"evenodd\" fill-opacity=\"1\" /><path clip-path=\"url(#clip500)\" d=\"M1381.15 1542.97 L1386.04 1542.97 L1386.04 1548.85 L1381.15 1548.85 L1381.15 1542.97 Z\" fill=\"#000000\" fill-rule=\"evenodd\" fill-opacity=\"1\" /><path clip-path=\"url(#clip500)\" d=\"M1406.8 1529.7 Q1403.65 1529.7 1401.8 1531.86 Q1399.97 1534.01 1399.97 1537.76 Q1399.97 1541.49 1401.8 1543.66 Q1403.65 1545.82 1406.8 1545.82 Q1409.95 1545.82 1411.78 1543.66 Q1413.63 1541.49 1413.63 1537.76 Q1413.63 1534.01 1411.78 1531.86 Q1409.95 1529.7 1406.8 1529.7 M1416.08 1515.05 L1416.08 1519.31 Q1414.33 1518.48 1412.52 1518.04 Q1410.74 1517.6 1408.98 1517.6 Q1404.35 1517.6 1401.89 1520.72 Q1399.46 1523.85 1399.12 1530.17 Q1400.48 1528.15 1402.54 1527.09 Q1404.6 1526 1407.08 1526 Q1412.29 1526 1415.3 1529.17 Q1418.33 1532.32 1418.33 1537.76 Q1418.33 1543.08 1415.18 1546.3 Q1412.03 1549.52 1406.8 1549.52 Q1400.81 1549.52 1397.64 1544.94 Q1394.46 1540.33 1394.46 1531.6 Q1394.46 1523.41 1398.35 1518.55 Q1402.24 1513.66 1408.79 1513.66 Q1410.55 1513.66 1412.33 1514.01 Q1414.14 1514.36 1416.08 1515.05 Z\" fill=\"#000000\" fill-rule=\"evenodd\" fill-opacity=\"1\" /><path clip-path=\"url(#clip500)\" d=\"M1664.78 1517.37 Q1661.17 1517.37 1659.34 1520.93 Q1657.54 1524.47 1657.54 1531.6 Q1657.54 1538.71 1659.34 1542.27 Q1661.17 1545.82 1664.78 1545.82 Q1668.42 1545.82 1670.22 1542.27 Q1672.05 1538.71 1672.05 1531.6 Q1672.05 1524.47 1670.22 1520.93 Q1668.42 1517.37 1664.78 1517.37 M1664.78 1513.66 Q1670.59 1513.66 1673.65 1518.27 Q1676.73 1522.85 1676.73 1531.6 Q1676.73 1540.33 1673.65 1544.94 Q1670.59 1549.52 1664.78 1549.52 Q1658.97 1549.52 1655.89 1544.94 Q1652.84 1540.33 1652.84 1531.6 Q1652.84 1522.85 1655.89 1518.27 Q1658.97 1513.66 1664.78 1513.66 Z\" fill=\"#000000\" fill-rule=\"evenodd\" fill-opacity=\"1\" /><path clip-path=\"url(#clip500)\" d=\"M1684.94 1542.97 L1689.83 1542.97 L1689.83 1548.85 L1684.94 1548.85 L1684.94 1542.97 Z\" fill=\"#000000\" fill-rule=\"evenodd\" fill-opacity=\"1\" /><path clip-path=\"url(#clip500)\" d=\"M1698.83 1514.29 L1721.06 1514.29 L1721.06 1516.28 L1708.51 1548.85 L1703.62 1548.85 L1715.43 1518.22 L1698.83 1518.22 L1698.83 1514.29 Z\" fill=\"#000000\" fill-rule=\"evenodd\" fill-opacity=\"1\" /><path clip-path=\"url(#clip500)\" d=\"M1967.64 1517.37 Q1964.02 1517.37 1962.2 1520.93 Q1960.39 1524.47 1960.39 1531.6 Q1960.39 1538.71 1962.2 1542.27 Q1964.02 1545.82 1967.64 1545.82 Q1971.27 1545.82 1973.08 1542.27 Q1974.9 1538.71 1974.9 1531.6 Q1974.9 1524.47 1973.08 1520.93 Q1971.27 1517.37 1967.64 1517.37 M1967.64 1513.66 Q1973.45 1513.66 1976.5 1518.27 Q1979.58 1522.85 1979.58 1531.6 Q1979.58 1540.33 1976.5 1544.94 Q1973.45 1549.52 1967.64 1549.52 Q1961.83 1549.52 1958.75 1544.94 Q1955.69 1540.33 1955.69 1531.6 Q1955.69 1522.85 1958.75 1518.27 Q1961.83 1513.66 1967.64 1513.66 Z\" fill=\"#000000\" fill-rule=\"evenodd\" fill-opacity=\"1\" /><path clip-path=\"url(#clip500)\" d=\"M1987.8 1542.97 L1992.68 1542.97 L1992.68 1548.85 L1987.8 1548.85 L1987.8 1542.97 Z\" fill=\"#000000\" fill-rule=\"evenodd\" fill-opacity=\"1\" /><path clip-path=\"url(#clip500)\" d=\"M2012.87 1532.44 Q2009.53 1532.44 2007.61 1534.22 Q2005.71 1536 2005.71 1539.13 Q2005.71 1542.25 2007.61 1544.03 Q2009.53 1545.82 2012.87 1545.82 Q2016.2 1545.82 2018.12 1544.03 Q2020.04 1542.23 2020.04 1539.13 Q2020.04 1536 2018.12 1534.22 Q2016.22 1532.44 2012.87 1532.44 M2008.19 1530.45 Q2005.18 1529.7 2003.49 1527.64 Q2001.83 1525.58 2001.83 1522.62 Q2001.83 1518.48 2004.76 1516.07 Q2007.73 1513.66 2012.87 1513.66 Q2018.03 1513.66 2020.97 1516.07 Q2023.91 1518.48 2023.91 1522.62 Q2023.91 1525.58 2022.22 1527.64 Q2020.55 1529.7 2017.57 1530.45 Q2020.95 1531.23 2022.82 1533.52 Q2024.72 1535.82 2024.72 1539.13 Q2024.72 1544.15 2021.64 1546.83 Q2018.58 1549.52 2012.87 1549.52 Q2007.15 1549.52 2004.07 1546.83 Q2001.01 1544.15 2001.01 1539.13 Q2001.01 1535.82 2002.91 1533.52 Q2004.81 1531.23 2008.19 1530.45 M2006.48 1523.06 Q2006.48 1525.75 2008.14 1527.25 Q2009.83 1528.76 2012.87 1528.76 Q2015.88 1528.76 2017.57 1527.25 Q2019.28 1525.75 2019.28 1523.06 Q2019.28 1520.38 2017.57 1518.87 Q2015.88 1517.37 2012.87 1517.37 Q2009.83 1517.37 2008.14 1518.87 Q2006.48 1520.38 2006.48 1523.06 Z\" fill=\"#000000\" fill-rule=\"evenodd\" fill-opacity=\"1\" /><path clip-path=\"url(#clip500)\" d=\"M2270.94 1517.37 Q2267.33 1517.37 2265.5 1520.93 Q2263.69 1524.47 2263.69 1531.6 Q2263.69 1538.71 2265.5 1542.27 Q2267.33 1545.82 2270.94 1545.82 Q2274.57 1545.82 2276.38 1542.27 Q2278.21 1538.71 2278.21 1531.6 Q2278.21 1524.47 2276.38 1520.93 Q2274.57 1517.37 2270.94 1517.37 M2270.94 1513.66 Q2276.75 1513.66 2279.81 1518.27 Q2282.88 1522.85 2282.88 1531.6 Q2282.88 1540.33 2279.81 1544.94 Q2276.75 1549.52 2270.94 1549.52 Q2265.13 1549.52 2262.05 1544.94 Q2259 1540.33 2259 1531.6 Q2259 1522.85 2262.05 1518.27 Q2265.13 1513.66 2270.94 1513.66 Z\" fill=\"#000000\" fill-rule=\"evenodd\" fill-opacity=\"1\" /><path clip-path=\"url(#clip500)\" d=\"M2291.1 1542.97 L2295.99 1542.97 L2295.99 1548.85 L2291.1 1548.85 L2291.1 1542.97 Z\" fill=\"#000000\" fill-rule=\"evenodd\" fill-opacity=\"1\" /><path clip-path=\"url(#clip500)\" d=\"M2306.31 1548.13 L2306.31 1543.87 Q2308.07 1544.7 2309.87 1545.14 Q2311.68 1545.58 2313.42 1545.58 Q2318.05 1545.58 2320.48 1542.48 Q2322.93 1539.36 2323.28 1533.01 Q2321.93 1535.01 2319.87 1536.07 Q2317.81 1537.13 2315.31 1537.13 Q2310.13 1537.13 2307.1 1534.01 Q2304.09 1530.86 2304.09 1525.42 Q2304.09 1520.1 2307.24 1516.88 Q2310.38 1513.66 2315.62 1513.66 Q2321.61 1513.66 2324.76 1518.27 Q2327.93 1522.85 2327.93 1531.6 Q2327.93 1539.77 2324.04 1544.66 Q2320.18 1549.52 2313.62 1549.52 Q2311.87 1549.52 2310.06 1549.17 Q2308.25 1548.82 2306.31 1548.13 M2315.62 1533.48 Q2318.76 1533.48 2320.59 1531.32 Q2322.44 1529.17 2322.44 1525.42 Q2322.44 1521.7 2320.59 1519.54 Q2318.76 1517.37 2315.62 1517.37 Q2312.47 1517.37 2310.62 1519.54 Q2308.79 1521.7 2308.79 1525.42 Q2308.79 1529.17 2310.62 1531.32 Q2312.47 1533.48 2315.62 1533.48 Z\" fill=\"#000000\" fill-rule=\"evenodd\" fill-opacity=\"1\" /><polyline clip-path=\"url(#clip502)\" style=\"stroke:#000000; stroke-linecap:round; stroke-linejoin:round; stroke-width:2; stroke-opacity:0.1; fill:none\" points=\"\n",
       "  172.015,1445.72 2352.76,1445.72 \n",
       "  \"/>\n",
       "<polyline clip-path=\"url(#clip502)\" style=\"stroke:#000000; stroke-linecap:round; stroke-linejoin:round; stroke-width:2; stroke-opacity:0.1; fill:none\" points=\"\n",
       "  172.015,1162.85 2352.76,1162.85 \n",
       "  \"/>\n",
       "<polyline clip-path=\"url(#clip502)\" style=\"stroke:#000000; stroke-linecap:round; stroke-linejoin:round; stroke-width:2; stroke-opacity:0.1; fill:none\" points=\"\n",
       "  172.015,879.991 2352.76,879.991 \n",
       "  \"/>\n",
       "<polyline clip-path=\"url(#clip502)\" style=\"stroke:#000000; stroke-linecap:round; stroke-linejoin:round; stroke-width:2; stroke-opacity:0.1; fill:none\" points=\"\n",
       "  172.015,597.129 2352.76,597.129 \n",
       "  \"/>\n",
       "<polyline clip-path=\"url(#clip502)\" style=\"stroke:#000000; stroke-linecap:round; stroke-linejoin:round; stroke-width:2; stroke-opacity:0.1; fill:none\" points=\"\n",
       "  172.015,314.266 2352.76,314.266 \n",
       "  \"/>\n",
       "<polyline clip-path=\"url(#clip500)\" style=\"stroke:#000000; stroke-linecap:round; stroke-linejoin:round; stroke-width:4; stroke-opacity:1; fill:none\" points=\"\n",
       "  172.015,1486.45 172.015,47.2441 \n",
       "  \"/>\n",
       "<polyline clip-path=\"url(#clip500)\" style=\"stroke:#000000; stroke-linecap:round; stroke-linejoin:round; stroke-width:4; stroke-opacity:1; fill:none\" points=\"\n",
       "  172.015,1445.72 190.912,1445.72 \n",
       "  \"/>\n",
       "<polyline clip-path=\"url(#clip500)\" style=\"stroke:#000000; stroke-linecap:round; stroke-linejoin:round; stroke-width:4; stroke-opacity:1; fill:none\" points=\"\n",
       "  172.015,1162.85 190.912,1162.85 \n",
       "  \"/>\n",
       "<polyline clip-path=\"url(#clip500)\" style=\"stroke:#000000; stroke-linecap:round; stroke-linejoin:round; stroke-width:4; stroke-opacity:1; fill:none\" points=\"\n",
       "  172.015,879.991 190.912,879.991 \n",
       "  \"/>\n",
       "<polyline clip-path=\"url(#clip500)\" style=\"stroke:#000000; stroke-linecap:round; stroke-linejoin:round; stroke-width:4; stroke-opacity:1; fill:none\" points=\"\n",
       "  172.015,597.129 190.912,597.129 \n",
       "  \"/>\n",
       "<polyline clip-path=\"url(#clip500)\" style=\"stroke:#000000; stroke-linecap:round; stroke-linejoin:round; stroke-width:4; stroke-opacity:1; fill:none\" points=\"\n",
       "  172.015,314.266 190.912,314.266 \n",
       "  \"/>\n",
       "<path clip-path=\"url(#clip500)\" d=\"M124.07 1431.51 Q120.459 1431.51 118.631 1435.08 Q116.825 1438.62 116.825 1445.75 Q116.825 1452.86 118.631 1456.42 Q120.459 1459.96 124.07 1459.96 Q127.705 1459.96 129.51 1456.42 Q131.339 1452.86 131.339 1445.75 Q131.339 1438.62 129.51 1435.08 Q127.705 1431.51 124.07 1431.51 M124.07 1427.81 Q129.881 1427.81 132.936 1432.42 Q136.015 1437 136.015 1445.75 Q136.015 1454.48 132.936 1459.08 Q129.881 1463.67 124.07 1463.67 Q118.26 1463.67 115.182 1459.08 Q112.126 1454.48 112.126 1445.75 Q112.126 1437 115.182 1432.42 Q118.26 1427.81 124.07 1427.81 Z\" fill=\"#000000\" fill-rule=\"evenodd\" fill-opacity=\"1\" /><path clip-path=\"url(#clip500)\" d=\"M54.5569 1176.2 L62.1958 1176.2 L62.1958 1149.83 L53.8856 1151.5 L53.8856 1147.24 L62.1495 1145.57 L66.8254 1145.57 L66.8254 1176.2 L74.4642 1176.2 L74.4642 1180.13 L54.5569 1180.13 L54.5569 1176.2 Z\" fill=\"#000000\" fill-rule=\"evenodd\" fill-opacity=\"1\" /><path clip-path=\"url(#clip500)\" d=\"M93.9086 1148.65 Q90.2975 1148.65 88.4688 1152.22 Q86.6632 1155.76 86.6632 1162.89 Q86.6632 1169.99 88.4688 1173.56 Q90.2975 1177.1 93.9086 1177.1 Q97.5428 1177.1 99.3483 1173.56 Q101.177 1169.99 101.177 1162.89 Q101.177 1155.76 99.3483 1152.22 Q97.5428 1148.65 93.9086 1148.65 M93.9086 1144.95 Q99.7187 1144.95 102.774 1149.55 Q105.853 1154.14 105.853 1162.89 Q105.853 1171.61 102.774 1176.22 Q99.7187 1180.8 93.9086 1180.8 Q88.0984 1180.8 85.0197 1176.22 Q81.9642 1171.61 81.9642 1162.89 Q81.9642 1154.14 85.0197 1149.55 Q88.0984 1144.95 93.9086 1144.95 Z\" fill=\"#000000\" fill-rule=\"evenodd\" fill-opacity=\"1\" /><path clip-path=\"url(#clip500)\" d=\"M124.07 1148.65 Q120.459 1148.65 118.631 1152.22 Q116.825 1155.76 116.825 1162.89 Q116.825 1169.99 118.631 1173.56 Q120.459 1177.1 124.07 1177.1 Q127.705 1177.1 129.51 1173.56 Q131.339 1169.99 131.339 1162.89 Q131.339 1155.76 129.51 1152.22 Q127.705 1148.65 124.07 1148.65 M124.07 1144.95 Q129.881 1144.95 132.936 1149.55 Q136.015 1154.14 136.015 1162.89 Q136.015 1171.61 132.936 1176.22 Q129.881 1180.8 124.07 1180.8 Q118.26 1180.8 115.182 1176.22 Q112.126 1171.61 112.126 1162.89 Q112.126 1154.14 115.182 1149.55 Q118.26 1144.95 124.07 1144.95 Z\" fill=\"#000000\" fill-rule=\"evenodd\" fill-opacity=\"1\" /><path clip-path=\"url(#clip500)\" d=\"M57.7745 893.336 L74.0939 893.336 L74.0939 897.271 L52.1495 897.271 L52.1495 893.336 Q54.8115 890.581 59.3949 885.952 Q64.0013 881.299 65.1819 879.956 Q67.4272 877.433 68.3068 875.697 Q69.2096 873.938 69.2096 872.248 Q69.2096 869.493 67.2652 867.757 Q65.3439 866.021 62.2421 866.021 Q60.043 866.021 57.5893 866.785 Q55.1588 867.549 52.381 869.1 L52.381 864.378 Q55.2051 863.243 57.6588 862.665 Q60.1124 862.086 62.1495 862.086 Q67.5198 862.086 70.7142 864.771 Q73.9087 867.456 73.9087 871.947 Q73.9087 874.077 73.0985 875.998 Q72.3115 877.896 70.205 880.489 Q69.6263 881.16 66.5245 884.377 Q63.4226 887.572 57.7745 893.336 Z\" fill=\"#000000\" fill-rule=\"evenodd\" fill-opacity=\"1\" /><path clip-path=\"url(#clip500)\" d=\"M93.9086 865.79 Q90.2975 865.79 88.4688 869.354 Q86.6632 872.896 86.6632 880.026 Q86.6632 887.132 88.4688 890.697 Q90.2975 894.239 93.9086 894.239 Q97.5428 894.239 99.3483 890.697 Q101.177 887.132 101.177 880.026 Q101.177 872.896 99.3483 869.354 Q97.5428 865.79 93.9086 865.79 M93.9086 862.086 Q99.7187 862.086 102.774 866.692 Q105.853 871.276 105.853 880.026 Q105.853 888.752 102.774 893.359 Q99.7187 897.942 93.9086 897.942 Q88.0984 897.942 85.0197 893.359 Q81.9642 888.752 81.9642 880.026 Q81.9642 871.276 85.0197 866.692 Q88.0984 862.086 93.9086 862.086 Z\" fill=\"#000000\" fill-rule=\"evenodd\" fill-opacity=\"1\" /><path clip-path=\"url(#clip500)\" d=\"M124.07 865.79 Q120.459 865.79 118.631 869.354 Q116.825 872.896 116.825 880.026 Q116.825 887.132 118.631 890.697 Q120.459 894.239 124.07 894.239 Q127.705 894.239 129.51 890.697 Q131.339 887.132 131.339 880.026 Q131.339 872.896 129.51 869.354 Q127.705 865.79 124.07 865.79 M124.07 862.086 Q129.881 862.086 132.936 866.692 Q136.015 871.276 136.015 880.026 Q136.015 888.752 132.936 893.359 Q129.881 897.942 124.07 897.942 Q118.26 897.942 115.182 893.359 Q112.126 888.752 112.126 880.026 Q112.126 871.276 115.182 866.692 Q118.26 862.086 124.07 862.086 Z\" fill=\"#000000\" fill-rule=\"evenodd\" fill-opacity=\"1\" /><path clip-path=\"url(#clip500)\" d=\"M67.9133 595.774 Q71.2698 596.492 73.1448 598.76 Q75.0429 601.029 75.0429 604.362 Q75.0429 609.478 71.5244 612.279 Q68.0059 615.08 61.5245 615.08 Q59.3486 615.08 57.0338 614.64 Q54.7421 614.223 52.2884 613.367 L52.2884 608.853 Q54.2328 609.987 56.5477 610.566 Q58.8625 611.145 61.3856 611.145 Q65.7837 611.145 68.0754 609.409 Q70.3902 607.672 70.3902 604.362 Q70.3902 601.307 68.2374 599.594 Q66.1078 597.858 62.2884 597.858 L58.2606 597.858 L58.2606 594.015 L62.4735 594.015 Q65.9226 594.015 67.7513 592.649 Q69.58 591.261 69.58 588.668 Q69.58 586.006 67.6819 584.594 Q65.8069 583.159 62.2884 583.159 Q60.3671 583.159 58.168 583.575 Q55.969 583.992 53.3301 584.872 L53.3301 580.705 Q55.9921 579.964 58.3069 579.594 Q60.6449 579.224 62.705 579.224 Q68.0291 579.224 71.1309 581.654 Q74.2327 584.061 74.2327 588.182 Q74.2327 591.052 72.5892 593.043 Q70.9457 595.011 67.9133 595.774 Z\" fill=\"#000000\" fill-rule=\"evenodd\" fill-opacity=\"1\" /><path clip-path=\"url(#clip500)\" d=\"M93.9086 582.927 Q90.2975 582.927 88.4688 586.492 Q86.6632 590.034 86.6632 597.163 Q86.6632 604.27 88.4688 607.835 Q90.2975 611.376 93.9086 611.376 Q97.5428 611.376 99.3483 607.835 Q101.177 604.27 101.177 597.163 Q101.177 590.034 99.3483 586.492 Q97.5428 582.927 93.9086 582.927 M93.9086 579.224 Q99.7187 579.224 102.774 583.83 Q105.853 588.413 105.853 597.163 Q105.853 605.89 102.774 610.497 Q99.7187 615.08 93.9086 615.08 Q88.0984 615.08 85.0197 610.497 Q81.9642 605.89 81.9642 597.163 Q81.9642 588.413 85.0197 583.83 Q88.0984 579.224 93.9086 579.224 Z\" fill=\"#000000\" fill-rule=\"evenodd\" fill-opacity=\"1\" /><path clip-path=\"url(#clip500)\" d=\"M124.07 582.927 Q120.459 582.927 118.631 586.492 Q116.825 590.034 116.825 597.163 Q116.825 604.27 118.631 607.835 Q120.459 611.376 124.07 611.376 Q127.705 611.376 129.51 607.835 Q131.339 604.27 131.339 597.163 Q131.339 590.034 129.51 586.492 Q127.705 582.927 124.07 582.927 M124.07 579.224 Q129.881 579.224 132.936 583.83 Q136.015 588.413 136.015 597.163 Q136.015 605.89 132.936 610.497 Q129.881 615.08 124.07 615.08 Q118.26 615.08 115.182 610.497 Q112.126 605.89 112.126 597.163 Q112.126 588.413 115.182 583.83 Q118.26 579.224 124.07 579.224 Z\" fill=\"#000000\" fill-rule=\"evenodd\" fill-opacity=\"1\" /><path clip-path=\"url(#clip500)\" d=\"M66.5939 301.06 L54.7884 319.509 L66.5939 319.509 L66.5939 301.06 M65.367 296.986 L71.2466 296.986 L71.2466 319.509 L76.1772 319.509 L76.1772 323.398 L71.2466 323.398 L71.2466 331.546 L66.5939 331.546 L66.5939 323.398 L50.9921 323.398 L50.9921 318.884 L65.367 296.986 Z\" fill=\"#000000\" fill-rule=\"evenodd\" fill-opacity=\"1\" /><path clip-path=\"url(#clip500)\" d=\"M93.9086 300.065 Q90.2975 300.065 88.4688 303.63 Q86.6632 307.171 86.6632 314.301 Q86.6632 321.407 88.4688 324.972 Q90.2975 328.514 93.9086 328.514 Q97.5428 328.514 99.3483 324.972 Q101.177 321.407 101.177 314.301 Q101.177 307.171 99.3483 303.63 Q97.5428 300.065 93.9086 300.065 M93.9086 296.361 Q99.7187 296.361 102.774 300.968 Q105.853 305.551 105.853 314.301 Q105.853 323.028 102.774 327.634 Q99.7187 332.217 93.9086 332.217 Q88.0984 332.217 85.0197 327.634 Q81.9642 323.028 81.9642 314.301 Q81.9642 305.551 85.0197 300.968 Q88.0984 296.361 93.9086 296.361 Z\" fill=\"#000000\" fill-rule=\"evenodd\" fill-opacity=\"1\" /><path clip-path=\"url(#clip500)\" d=\"M124.07 300.065 Q120.459 300.065 118.631 303.63 Q116.825 307.171 116.825 314.301 Q116.825 321.407 118.631 324.972 Q120.459 328.514 124.07 328.514 Q127.705 328.514 129.51 324.972 Q131.339 321.407 131.339 314.301 Q131.339 307.171 129.51 303.63 Q127.705 300.065 124.07 300.065 M124.07 296.361 Q129.881 296.361 132.936 300.968 Q136.015 305.551 136.015 314.301 Q136.015 323.028 132.936 327.634 Q129.881 332.217 124.07 332.217 Q118.26 332.217 115.182 327.634 Q112.126 323.028 112.126 314.301 Q112.126 305.551 115.182 300.968 Q118.26 296.361 124.07 296.361 Z\" fill=\"#000000\" fill-rule=\"evenodd\" fill-opacity=\"1\" /><path clip-path=\"url(#clip502)\" d=\"\n",
       "M291.959 1428.74 L291.959 1445.72 L352.611 1445.72 L352.611 1428.74 L291.959 1428.74 L291.959 1428.74  Z\n",
       "  \" fill=\"#009af9\" fill-rule=\"evenodd\" fill-opacity=\"1\"/>\n",
       "<polyline clip-path=\"url(#clip502)\" style=\"stroke:#000000; stroke-linecap:round; stroke-linejoin:round; stroke-width:4; stroke-opacity:1; fill:none\" points=\"\n",
       "  291.959,1428.74 291.959,1445.72 352.611,1445.72 352.611,1428.74 291.959,1428.74 \n",
       "  \"/>\n",
       "<path clip-path=\"url(#clip502)\" d=\"\n",
       "M352.611 905.449 L352.611 1445.72 L413.263 1445.72 L413.263 905.449 L352.611 905.449 L352.611 905.449  Z\n",
       "  \" fill=\"#009af9\" fill-rule=\"evenodd\" fill-opacity=\"1\"/>\n",
       "<polyline clip-path=\"url(#clip502)\" style=\"stroke:#000000; stroke-linecap:round; stroke-linejoin:round; stroke-width:4; stroke-opacity:1; fill:none\" points=\"\n",
       "  352.611,905.449 352.611,1445.72 413.263,1445.72 413.263,905.449 352.611,905.449 \n",
       "  \"/>\n",
       "<path clip-path=\"url(#clip502)\" d=\"\n",
       "M413.263 147.377 L413.263 1445.72 L473.914 1445.72 L473.914 147.377 L413.263 147.377 L413.263 147.377  Z\n",
       "  \" fill=\"#009af9\" fill-rule=\"evenodd\" fill-opacity=\"1\"/>\n",
       "<polyline clip-path=\"url(#clip502)\" style=\"stroke:#000000; stroke-linecap:round; stroke-linejoin:round; stroke-width:4; stroke-opacity:1; fill:none\" points=\"\n",
       "  413.263,147.377 413.263,1445.72 473.914,1445.72 473.914,147.377 413.263,147.377 \n",
       "  \"/>\n",
       "<path clip-path=\"url(#clip502)\" d=\"\n",
       "M473.914 218.093 L473.914 1445.72 L534.566 1445.72 L534.566 218.093 L473.914 218.093 L473.914 218.093  Z\n",
       "  \" fill=\"#009af9\" fill-rule=\"evenodd\" fill-opacity=\"1\"/>\n",
       "<polyline clip-path=\"url(#clip502)\" style=\"stroke:#000000; stroke-linecap:round; stroke-linejoin:round; stroke-width:4; stroke-opacity:1; fill:none\" points=\"\n",
       "  473.914,218.093 473.914,1445.72 534.566,1445.72 534.566,218.093 473.914,218.093 \n",
       "  \"/>\n",
       "<path clip-path=\"url(#clip502)\" d=\"\n",
       "M534.566 370.839 L534.566 1445.72 L595.218 1445.72 L595.218 370.839 L534.566 370.839 L534.566 370.839  Z\n",
       "  \" fill=\"#009af9\" fill-rule=\"evenodd\" fill-opacity=\"1\"/>\n",
       "<polyline clip-path=\"url(#clip502)\" style=\"stroke:#000000; stroke-linecap:round; stroke-linejoin:round; stroke-width:4; stroke-opacity:1; fill:none\" points=\"\n",
       "  534.566,370.839 534.566,1445.72 595.218,1445.72 595.218,370.839 534.566,370.839 \n",
       "  \"/>\n",
       "<path clip-path=\"url(#clip502)\" d=\"\n",
       "M595.218 87.9763 L595.218 1445.72 L655.869 1445.72 L655.869 87.9763 L595.218 87.9763 L595.218 87.9763  Z\n",
       "  \" fill=\"#009af9\" fill-rule=\"evenodd\" fill-opacity=\"1\"/>\n",
       "<polyline clip-path=\"url(#clip502)\" style=\"stroke:#000000; stroke-linecap:round; stroke-linejoin:round; stroke-width:4; stroke-opacity:1; fill:none\" points=\"\n",
       "  595.218,87.9763 595.218,1445.72 655.869,1445.72 655.869,87.9763 595.218,87.9763 \n",
       "  \"/>\n",
       "<path clip-path=\"url(#clip502)\" d=\"\n",
       "M655.869 218.093 L655.869 1445.72 L716.521 1445.72 L716.521 218.093 L655.869 218.093 L655.869 218.093  Z\n",
       "  \" fill=\"#009af9\" fill-rule=\"evenodd\" fill-opacity=\"1\"/>\n",
       "<polyline clip-path=\"url(#clip502)\" style=\"stroke:#000000; stroke-linecap:round; stroke-linejoin:round; stroke-width:4; stroke-opacity:1; fill:none\" points=\"\n",
       "  655.869,218.093 655.869,1445.72 716.521,1445.72 716.521,218.093 655.869,218.093 \n",
       "  \"/>\n",
       "<path clip-path=\"url(#clip502)\" d=\"\n",
       "M716.521 713.102 L716.521 1445.72 L777.172 1445.72 L777.172 713.102 L716.521 713.102 L716.521 713.102  Z\n",
       "  \" fill=\"#009af9\" fill-rule=\"evenodd\" fill-opacity=\"1\"/>\n",
       "<polyline clip-path=\"url(#clip502)\" style=\"stroke:#000000; stroke-linecap:round; stroke-linejoin:round; stroke-width:4; stroke-opacity:1; fill:none\" points=\"\n",
       "  716.521,713.102 716.521,1445.72 777.172,1445.72 777.172,713.102 716.521,713.102 \n",
       "  \"/>\n",
       "<path clip-path=\"url(#clip502)\" d=\"\n",
       "M777.172 817.761 L777.172 1445.72 L837.824 1445.72 L837.824 817.761 L777.172 817.761 L777.172 817.761  Z\n",
       "  \" fill=\"#009af9\" fill-rule=\"evenodd\" fill-opacity=\"1\"/>\n",
       "<polyline clip-path=\"url(#clip502)\" style=\"stroke:#000000; stroke-linecap:round; stroke-linejoin:round; stroke-width:4; stroke-opacity:1; fill:none\" points=\"\n",
       "  777.172,817.761 777.172,1445.72 837.824,1445.72 837.824,817.761 777.172,817.761 \n",
       "  \"/>\n",
       "<path clip-path=\"url(#clip502)\" d=\"\n",
       "M837.824 1236.4 L837.824 1445.72 L898.476 1445.72 L898.476 1236.4 L837.824 1236.4 L837.824 1236.4  Z\n",
       "  \" fill=\"#009af9\" fill-rule=\"evenodd\" fill-opacity=\"1\"/>\n",
       "<polyline clip-path=\"url(#clip502)\" style=\"stroke:#000000; stroke-linecap:round; stroke-linejoin:round; stroke-width:4; stroke-opacity:1; fill:none\" points=\"\n",
       "  837.824,1236.4 837.824,1445.72 898.476,1445.72 898.476,1236.4 837.824,1236.4 \n",
       "  \"/>\n",
       "<path clip-path=\"url(#clip502)\" d=\"\n",
       "M898.476 1216.6 L898.476 1445.72 L959.127 1445.72 L959.127 1216.6 L898.476 1216.6 L898.476 1216.6  Z\n",
       "  \" fill=\"#009af9\" fill-rule=\"evenodd\" fill-opacity=\"1\"/>\n",
       "<polyline clip-path=\"url(#clip502)\" style=\"stroke:#000000; stroke-linecap:round; stroke-linejoin:round; stroke-width:4; stroke-opacity:1; fill:none\" points=\"\n",
       "  898.476,1216.6 898.476,1445.72 959.127,1445.72 959.127,1216.6 898.476,1216.6 \n",
       "  \"/>\n",
       "<path clip-path=\"url(#clip502)\" d=\"\n",
       "M959.127 1321.26 L959.127 1445.72 L1019.78 1445.72 L1019.78 1321.26 L959.127 1321.26 L959.127 1321.26  Z\n",
       "  \" fill=\"#009af9\" fill-rule=\"evenodd\" fill-opacity=\"1\"/>\n",
       "<polyline clip-path=\"url(#clip502)\" style=\"stroke:#000000; stroke-linecap:round; stroke-linejoin:round; stroke-width:4; stroke-opacity:1; fill:none\" points=\"\n",
       "  959.127,1321.26 959.127,1445.72 1019.78,1445.72 1019.78,1321.26 959.127,1321.26 \n",
       "  \"/>\n",
       "<path clip-path=\"url(#clip502)\" d=\"\n",
       "M1019.78 1346.71 L1019.78 1445.72 L1080.43 1445.72 L1080.43 1346.71 L1019.78 1346.71 L1019.78 1346.71  Z\n",
       "  \" fill=\"#009af9\" fill-rule=\"evenodd\" fill-opacity=\"1\"/>\n",
       "<polyline clip-path=\"url(#clip502)\" style=\"stroke:#000000; stroke-linecap:round; stroke-linejoin:round; stroke-width:4; stroke-opacity:1; fill:none\" points=\"\n",
       "  1019.78,1346.71 1019.78,1445.72 1080.43,1445.72 1080.43,1346.71 1019.78,1346.71 \n",
       "  \"/>\n",
       "<path clip-path=\"url(#clip502)\" d=\"\n",
       "M1080.43 1425.92 L1080.43 1445.72 L1141.08 1445.72 L1141.08 1425.92 L1080.43 1425.92 L1080.43 1425.92  Z\n",
       "  \" fill=\"#009af9\" fill-rule=\"evenodd\" fill-opacity=\"1\"/>\n",
       "<polyline clip-path=\"url(#clip502)\" style=\"stroke:#000000; stroke-linecap:round; stroke-linejoin:round; stroke-width:4; stroke-opacity:1; fill:none\" points=\"\n",
       "  1080.43,1425.92 1080.43,1445.72 1141.08,1445.72 1141.08,1425.92 1080.43,1425.92 \n",
       "  \"/>\n",
       "<path clip-path=\"url(#clip502)\" d=\"\n",
       "M1141.08 1406.11 L1141.08 1445.72 L1201.73 1445.72 L1201.73 1406.11 L1141.08 1406.11 L1141.08 1406.11  Z\n",
       "  \" fill=\"#009af9\" fill-rule=\"evenodd\" fill-opacity=\"1\"/>\n",
       "<polyline clip-path=\"url(#clip502)\" style=\"stroke:#000000; stroke-linecap:round; stroke-linejoin:round; stroke-width:4; stroke-opacity:1; fill:none\" points=\"\n",
       "  1141.08,1406.11 1141.08,1445.72 1201.73,1445.72 1201.73,1406.11 1141.08,1406.11 \n",
       "  \"/>\n",
       "<path clip-path=\"url(#clip502)\" d=\"\n",
       "M1201.73 1428.74 L1201.73 1445.72 L1262.39 1445.72 L1262.39 1428.74 L1201.73 1428.74 L1201.73 1428.74  Z\n",
       "  \" fill=\"#009af9\" fill-rule=\"evenodd\" fill-opacity=\"1\"/>\n",
       "<polyline clip-path=\"url(#clip502)\" style=\"stroke:#000000; stroke-linecap:round; stroke-linejoin:round; stroke-width:4; stroke-opacity:1; fill:none\" points=\"\n",
       "  1201.73,1428.74 1201.73,1445.72 1262.39,1445.72 1262.39,1428.74 1201.73,1428.74 \n",
       "  \"/>\n",
       "<path clip-path=\"url(#clip502)\" d=\"\n",
       "M1262.39 1386.31 L1262.39 1445.72 L1323.04 1445.72 L1323.04 1386.31 L1262.39 1386.31 L1262.39 1386.31  Z\n",
       "  \" fill=\"#009af9\" fill-rule=\"evenodd\" fill-opacity=\"1\"/>\n",
       "<polyline clip-path=\"url(#clip502)\" style=\"stroke:#000000; stroke-linecap:round; stroke-linejoin:round; stroke-width:4; stroke-opacity:1; fill:none\" points=\"\n",
       "  1262.39,1386.31 1262.39,1445.72 1323.04,1445.72 1323.04,1386.31 1262.39,1386.31 \n",
       "  \"/>\n",
       "<path clip-path=\"url(#clip502)\" d=\"\n",
       "M1323.04 1295.8 L1323.04 1445.72 L1383.69 1445.72 L1383.69 1295.8 L1323.04 1295.8 L1323.04 1295.8  Z\n",
       "  \" fill=\"#009af9\" fill-rule=\"evenodd\" fill-opacity=\"1\"/>\n",
       "<polyline clip-path=\"url(#clip502)\" style=\"stroke:#000000; stroke-linecap:round; stroke-linejoin:round; stroke-width:4; stroke-opacity:1; fill:none\" points=\"\n",
       "  1323.04,1295.8 1323.04,1445.72 1383.69,1445.72 1383.69,1295.8 1323.04,1295.8 \n",
       "  \"/>\n",
       "<path clip-path=\"url(#clip502)\" d=\"\n",
       "M1383.69 1377.83 L1383.69 1445.72 L1444.34 1445.72 L1444.34 1377.83 L1383.69 1377.83 L1383.69 1377.83  Z\n",
       "  \" fill=\"#009af9\" fill-rule=\"evenodd\" fill-opacity=\"1\"/>\n",
       "<polyline clip-path=\"url(#clip502)\" style=\"stroke:#000000; stroke-linecap:round; stroke-linejoin:round; stroke-width:4; stroke-opacity:1; fill:none\" points=\"\n",
       "  1383.69,1377.83 1383.69,1445.72 1444.34,1445.72 1444.34,1377.83 1383.69,1377.83 \n",
       "  \"/>\n",
       "<path clip-path=\"url(#clip502)\" d=\"\n",
       "M1444.34 1400.46 L1444.34 1445.72 L1504.99 1445.72 L1504.99 1400.46 L1444.34 1400.46 L1444.34 1400.46  Z\n",
       "  \" fill=\"#009af9\" fill-rule=\"evenodd\" fill-opacity=\"1\"/>\n",
       "<polyline clip-path=\"url(#clip502)\" style=\"stroke:#000000; stroke-linecap:round; stroke-linejoin:round; stroke-width:4; stroke-opacity:1; fill:none\" points=\"\n",
       "  1444.34,1400.46 1444.34,1445.72 1504.99,1445.72 1504.99,1400.46 1444.34,1400.46 \n",
       "  \"/>\n",
       "<path clip-path=\"url(#clip502)\" d=\"\n",
       "M1504.99 1414.6 L1504.99 1445.72 L1565.64 1445.72 L1565.64 1414.6 L1504.99 1414.6 L1504.99 1414.6  Z\n",
       "  \" fill=\"#009af9\" fill-rule=\"evenodd\" fill-opacity=\"1\"/>\n",
       "<polyline clip-path=\"url(#clip502)\" style=\"stroke:#000000; stroke-linecap:round; stroke-linejoin:round; stroke-width:4; stroke-opacity:1; fill:none\" points=\"\n",
       "  1504.99,1414.6 1504.99,1445.72 1565.64,1445.72 1565.64,1414.6 1504.99,1414.6 \n",
       "  \"/>\n",
       "<path clip-path=\"url(#clip502)\" d=\"\n",
       "M1565.64 1425.92 L1565.64 1445.72 L1626.3 1445.72 L1626.3 1425.92 L1565.64 1425.92 L1565.64 1425.92  Z\n",
       "  \" fill=\"#009af9\" fill-rule=\"evenodd\" fill-opacity=\"1\"/>\n",
       "<polyline clip-path=\"url(#clip502)\" style=\"stroke:#000000; stroke-linecap:round; stroke-linejoin:round; stroke-width:4; stroke-opacity:1; fill:none\" points=\"\n",
       "  1565.64,1425.92 1565.64,1445.72 1626.3,1445.72 1626.3,1425.92 1565.64,1425.92 \n",
       "  \"/>\n",
       "<path clip-path=\"url(#clip502)\" d=\"\n",
       "M1626.3 1389.14 L1626.3 1445.72 L1686.95 1445.72 L1686.95 1389.14 L1626.3 1389.14 L1626.3 1389.14  Z\n",
       "  \" fill=\"#009af9\" fill-rule=\"evenodd\" fill-opacity=\"1\"/>\n",
       "<polyline clip-path=\"url(#clip502)\" style=\"stroke:#000000; stroke-linecap:round; stroke-linejoin:round; stroke-width:4; stroke-opacity:1; fill:none\" points=\"\n",
       "  1626.3,1389.14 1626.3,1445.72 1686.95,1445.72 1686.95,1389.14 1626.3,1389.14 \n",
       "  \"/>\n",
       "<path clip-path=\"url(#clip502)\" d=\"\n",
       "M1686.95 1343.89 L1686.95 1445.72 L1747.6 1445.72 L1747.6 1343.89 L1686.95 1343.89 L1686.95 1343.89  Z\n",
       "  \" fill=\"#009af9\" fill-rule=\"evenodd\" fill-opacity=\"1\"/>\n",
       "<polyline clip-path=\"url(#clip502)\" style=\"stroke:#000000; stroke-linecap:round; stroke-linejoin:round; stroke-width:4; stroke-opacity:1; fill:none\" points=\"\n",
       "  1686.95,1343.89 1686.95,1445.72 1747.6,1445.72 1747.6,1343.89 1686.95,1343.89 \n",
       "  \"/>\n",
       "<path clip-path=\"url(#clip502)\" d=\"\n",
       "M1747.6 1329.74 L1747.6 1445.72 L1808.25 1445.72 L1808.25 1329.74 L1747.6 1329.74 L1747.6 1329.74  Z\n",
       "  \" fill=\"#009af9\" fill-rule=\"evenodd\" fill-opacity=\"1\"/>\n",
       "<polyline clip-path=\"url(#clip502)\" style=\"stroke:#000000; stroke-linecap:round; stroke-linejoin:round; stroke-width:4; stroke-opacity:1; fill:none\" points=\"\n",
       "  1747.6,1329.74 1747.6,1445.72 1808.25,1445.72 1808.25,1329.74 1747.6,1329.74 \n",
       "  \"/>\n",
       "<path clip-path=\"url(#clip502)\" d=\"\n",
       "M1808.25 1343.89 L1808.25 1445.72 L1868.9 1445.72 L1868.9 1343.89 L1808.25 1343.89 L1808.25 1343.89  Z\n",
       "  \" fill=\"#009af9\" fill-rule=\"evenodd\" fill-opacity=\"1\"/>\n",
       "<polyline clip-path=\"url(#clip502)\" style=\"stroke:#000000; stroke-linecap:round; stroke-linejoin:round; stroke-width:4; stroke-opacity:1; fill:none\" points=\"\n",
       "  1808.25,1343.89 1808.25,1445.72 1868.9,1445.72 1868.9,1343.89 1808.25,1343.89 \n",
       "  \"/>\n",
       "<path clip-path=\"url(#clip502)\" d=\"\n",
       "M1868.9 1363.69 L1868.9 1445.72 L1929.55 1445.72 L1929.55 1363.69 L1868.9 1363.69 L1868.9 1363.69  Z\n",
       "  \" fill=\"#009af9\" fill-rule=\"evenodd\" fill-opacity=\"1\"/>\n",
       "<polyline clip-path=\"url(#clip502)\" style=\"stroke:#000000; stroke-linecap:round; stroke-linejoin:round; stroke-width:4; stroke-opacity:1; fill:none\" points=\"\n",
       "  1868.9,1363.69 1868.9,1445.72 1929.55,1445.72 1929.55,1363.69 1868.9,1363.69 \n",
       "  \"/>\n",
       "<path clip-path=\"url(#clip502)\" d=\"\n",
       "M1929.55 1406.11 L1929.55 1445.72 L1990.2 1445.72 L1990.2 1406.11 L1929.55 1406.11 L1929.55 1406.11  Z\n",
       "  \" fill=\"#009af9\" fill-rule=\"evenodd\" fill-opacity=\"1\"/>\n",
       "<polyline clip-path=\"url(#clip502)\" style=\"stroke:#000000; stroke-linecap:round; stroke-linejoin:round; stroke-width:4; stroke-opacity:1; fill:none\" points=\"\n",
       "  1929.55,1406.11 1929.55,1445.72 1990.2,1445.72 1990.2,1406.11 1929.55,1406.11 \n",
       "  \"/>\n",
       "<path clip-path=\"url(#clip502)\" d=\"\n",
       "M1990.2 1425.92 L1990.2 1445.72 L2050.86 1445.72 L2050.86 1425.92 L1990.2 1425.92 L1990.2 1425.92  Z\n",
       "  \" fill=\"#009af9\" fill-rule=\"evenodd\" fill-opacity=\"1\"/>\n",
       "<polyline clip-path=\"url(#clip502)\" style=\"stroke:#000000; stroke-linecap:round; stroke-linejoin:round; stroke-width:4; stroke-opacity:1; fill:none\" points=\"\n",
       "  1990.2,1425.92 1990.2,1445.72 2050.86,1445.72 2050.86,1425.92 1990.2,1425.92 \n",
       "  \"/>\n",
       "<path clip-path=\"url(#clip502)\" d=\"\n",
       "M2050.86 1420.26 L2050.86 1445.72 L2111.51 1445.72 L2111.51 1420.26 L2050.86 1420.26 L2050.86 1420.26  Z\n",
       "  \" fill=\"#009af9\" fill-rule=\"evenodd\" fill-opacity=\"1\"/>\n",
       "<polyline clip-path=\"url(#clip502)\" style=\"stroke:#000000; stroke-linecap:round; stroke-linejoin:round; stroke-width:4; stroke-opacity:1; fill:none\" points=\"\n",
       "  2050.86,1420.26 2050.86,1445.72 2111.51,1445.72 2111.51,1420.26 2050.86,1420.26 \n",
       "  \"/>\n",
       "<path clip-path=\"url(#clip502)\" d=\"\n",
       "M2111.51 1425.92 L2111.51 1445.72 L2172.16 1445.72 L2172.16 1425.92 L2111.51 1425.92 L2111.51 1425.92  Z\n",
       "  \" fill=\"#009af9\" fill-rule=\"evenodd\" fill-opacity=\"1\"/>\n",
       "<polyline clip-path=\"url(#clip502)\" style=\"stroke:#000000; stroke-linecap:round; stroke-linejoin:round; stroke-width:4; stroke-opacity:1; fill:none\" points=\"\n",
       "  2111.51,1425.92 2111.51,1445.72 2172.16,1445.72 2172.16,1425.92 2111.51,1425.92 \n",
       "  \"/>\n",
       "<path clip-path=\"url(#clip502)\" d=\"\n",
       "M2172.16 1442.89 L2172.16 1445.72 L2232.81 1445.72 L2232.81 1442.89 L2172.16 1442.89 L2172.16 1442.89  Z\n",
       "  \" fill=\"#009af9\" fill-rule=\"evenodd\" fill-opacity=\"1\"/>\n",
       "<polyline clip-path=\"url(#clip502)\" style=\"stroke:#000000; stroke-linecap:round; stroke-linejoin:round; stroke-width:4; stroke-opacity:1; fill:none\" points=\"\n",
       "  2172.16,1442.89 2172.16,1445.72 2232.81,1445.72 2232.81,1442.89 2172.16,1442.89 \n",
       "  \"/>\n",
       "<circle clip-path=\"url(#clip502)\" style=\"fill:#009af9; stroke:none; fill-opacity:0\" cx=\"322.285\" cy=\"1428.74\" r=\"2\"/>\n",
       "<circle clip-path=\"url(#clip502)\" style=\"fill:#009af9; stroke:none; fill-opacity:0\" cx=\"382.937\" cy=\"905.449\" r=\"2\"/>\n",
       "<circle clip-path=\"url(#clip502)\" style=\"fill:#009af9; stroke:none; fill-opacity:0\" cx=\"443.589\" cy=\"147.377\" r=\"2\"/>\n",
       "<circle clip-path=\"url(#clip502)\" style=\"fill:#009af9; stroke:none; fill-opacity:0\" cx=\"504.24\" cy=\"218.093\" r=\"2\"/>\n",
       "<circle clip-path=\"url(#clip502)\" style=\"fill:#009af9; stroke:none; fill-opacity:0\" cx=\"564.892\" cy=\"370.839\" r=\"2\"/>\n",
       "<circle clip-path=\"url(#clip502)\" style=\"fill:#009af9; stroke:none; fill-opacity:0\" cx=\"625.543\" cy=\"87.9763\" r=\"2\"/>\n",
       "<circle clip-path=\"url(#clip502)\" style=\"fill:#009af9; stroke:none; fill-opacity:0\" cx=\"686.195\" cy=\"218.093\" r=\"2\"/>\n",
       "<circle clip-path=\"url(#clip502)\" style=\"fill:#009af9; stroke:none; fill-opacity:0\" cx=\"746.847\" cy=\"713.102\" r=\"2\"/>\n",
       "<circle clip-path=\"url(#clip502)\" style=\"fill:#009af9; stroke:none; fill-opacity:0\" cx=\"807.498\" cy=\"817.761\" r=\"2\"/>\n",
       "<circle clip-path=\"url(#clip502)\" style=\"fill:#009af9; stroke:none; fill-opacity:0\" cx=\"868.15\" cy=\"1236.4\" r=\"2\"/>\n",
       "<circle clip-path=\"url(#clip502)\" style=\"fill:#009af9; stroke:none; fill-opacity:0\" cx=\"928.801\" cy=\"1216.6\" r=\"2\"/>\n",
       "<circle clip-path=\"url(#clip502)\" style=\"fill:#009af9; stroke:none; fill-opacity:0\" cx=\"989.453\" cy=\"1321.26\" r=\"2\"/>\n",
       "<circle clip-path=\"url(#clip502)\" style=\"fill:#009af9; stroke:none; fill-opacity:0\" cx=\"1050.1\" cy=\"1346.71\" r=\"2\"/>\n",
       "<circle clip-path=\"url(#clip502)\" style=\"fill:#009af9; stroke:none; fill-opacity:0\" cx=\"1110.76\" cy=\"1425.92\" r=\"2\"/>\n",
       "<circle clip-path=\"url(#clip502)\" style=\"fill:#009af9; stroke:none; fill-opacity:0\" cx=\"1171.41\" cy=\"1406.11\" r=\"2\"/>\n",
       "<circle clip-path=\"url(#clip502)\" style=\"fill:#009af9; stroke:none; fill-opacity:0\" cx=\"1232.06\" cy=\"1428.74\" r=\"2\"/>\n",
       "<circle clip-path=\"url(#clip502)\" style=\"fill:#009af9; stroke:none; fill-opacity:0\" cx=\"1292.71\" cy=\"1386.31\" r=\"2\"/>\n",
       "<circle clip-path=\"url(#clip502)\" style=\"fill:#009af9; stroke:none; fill-opacity:0\" cx=\"1353.36\" cy=\"1295.8\" r=\"2\"/>\n",
       "<circle clip-path=\"url(#clip502)\" style=\"fill:#009af9; stroke:none; fill-opacity:0\" cx=\"1414.01\" cy=\"1377.83\" r=\"2\"/>\n",
       "<circle clip-path=\"url(#clip502)\" style=\"fill:#009af9; stroke:none; fill-opacity:0\" cx=\"1474.67\" cy=\"1400.46\" r=\"2\"/>\n",
       "<circle clip-path=\"url(#clip502)\" style=\"fill:#009af9; stroke:none; fill-opacity:0\" cx=\"1535.32\" cy=\"1414.6\" r=\"2\"/>\n",
       "<circle clip-path=\"url(#clip502)\" style=\"fill:#009af9; stroke:none; fill-opacity:0\" cx=\"1595.97\" cy=\"1425.92\" r=\"2\"/>\n",
       "<circle clip-path=\"url(#clip502)\" style=\"fill:#009af9; stroke:none; fill-opacity:0\" cx=\"1656.62\" cy=\"1389.14\" r=\"2\"/>\n",
       "<circle clip-path=\"url(#clip502)\" style=\"fill:#009af9; stroke:none; fill-opacity:0\" cx=\"1717.27\" cy=\"1343.89\" r=\"2\"/>\n",
       "<circle clip-path=\"url(#clip502)\" style=\"fill:#009af9; stroke:none; fill-opacity:0\" cx=\"1777.92\" cy=\"1329.74\" r=\"2\"/>\n",
       "<circle clip-path=\"url(#clip502)\" style=\"fill:#009af9; stroke:none; fill-opacity:0\" cx=\"1838.58\" cy=\"1343.89\" r=\"2\"/>\n",
       "<circle clip-path=\"url(#clip502)\" style=\"fill:#009af9; stroke:none; fill-opacity:0\" cx=\"1899.23\" cy=\"1363.69\" r=\"2\"/>\n",
       "<circle clip-path=\"url(#clip502)\" style=\"fill:#009af9; stroke:none; fill-opacity:0\" cx=\"1959.88\" cy=\"1406.11\" r=\"2\"/>\n",
       "<circle clip-path=\"url(#clip502)\" style=\"fill:#009af9; stroke:none; fill-opacity:0\" cx=\"2020.53\" cy=\"1425.92\" r=\"2\"/>\n",
       "<circle clip-path=\"url(#clip502)\" style=\"fill:#009af9; stroke:none; fill-opacity:0\" cx=\"2081.18\" cy=\"1420.26\" r=\"2\"/>\n",
       "<circle clip-path=\"url(#clip502)\" style=\"fill:#009af9; stroke:none; fill-opacity:0\" cx=\"2141.83\" cy=\"1425.92\" r=\"2\"/>\n",
       "<circle clip-path=\"url(#clip502)\" style=\"fill:#009af9; stroke:none; fill-opacity:0\" cx=\"2202.49\" cy=\"1442.89\" r=\"2\"/>\n",
       "<path clip-path=\"url(#clip500)\" d=\"\n",
       "M1985.33 198.898 L2280.06 198.898 L2280.06 95.2176 L1985.33 95.2176  Z\n",
       "  \" fill=\"#ffffff\" fill-rule=\"evenodd\" fill-opacity=\"1\"/>\n",
       "<polyline clip-path=\"url(#clip500)\" style=\"stroke:#000000; stroke-linecap:round; stroke-linejoin:round; stroke-width:4; stroke-opacity:1; fill:none\" points=\"\n",
       "  1985.33,198.898 2280.06,198.898 2280.06,95.2176 1985.33,95.2176 1985.33,198.898 \n",
       "  \"/>\n",
       "<path clip-path=\"url(#clip500)\" d=\"\n",
       "M2009.56 167.794 L2154.94 167.794 L2154.94 126.322 L2009.56 126.322 L2009.56 167.794  Z\n",
       "  \" fill=\"#009af9\" fill-rule=\"evenodd\" fill-opacity=\"1\"/>\n",
       "<polyline clip-path=\"url(#clip500)\" style=\"stroke:#000000; stroke-linecap:round; stroke-linejoin:round; stroke-width:4; stroke-opacity:1; fill:none\" points=\"\n",
       "  2009.56,167.794 2154.94,167.794 2154.94,126.322 2009.56,126.322 2009.56,167.794 \n",
       "  \"/>\n",
       "<path clip-path=\"url(#clip500)\" d=\"M2193.02 166.745 Q2191.21 171.375 2189.5 172.787 Q2187.78 174.199 2184.91 174.199 L2181.51 174.199 L2181.51 170.634 L2184.01 170.634 Q2185.77 170.634 2186.74 169.8 Q2187.71 168.967 2188.9 165.865 L2189.66 163.921 L2179.17 138.412 L2183.69 138.412 L2191.79 158.689 L2199.89 138.412 L2204.4 138.412 L2193.02 166.745 Z\" fill=\"#000000\" fill-rule=\"evenodd\" fill-opacity=\"1\" /><path clip-path=\"url(#clip500)\" d=\"M2211.7 160.402 L2219.34 160.402 L2219.34 134.037 L2211.03 135.703 L2211.03 131.444 L2219.29 129.778 L2223.96 129.778 L2223.96 160.402 L2231.6 160.402 L2231.6 164.338 L2211.7 164.338 L2211.7 160.402 Z\" fill=\"#000000\" fill-rule=\"evenodd\" fill-opacity=\"1\" /></svg>\n"
      ]
     },
     "execution_count": 80,
     "metadata": {},
     "output_type": "execute_result"
    }
   ],
   "source": [
    "scores_flat = vcat(noauc_scores...)\n",
    "histogram(scores_flat) # not all scores are very low..."
   ]
  },
  {
   "cell_type": "markdown",
   "id": "b04c5cef",
   "metadata": {},
   "source": [
    "## 7 - PCA+RF single-RBP LOGOCV"
   ]
  },
  {
   "cell_type": "raw",
   "id": "0bb773fd",
   "metadata": {},
   "source": [
    "rf = RandomForestClassifier(n_estimators=1000, max_depth=3, class_weight=\"balanced\", n_jobs=6)\n",
    "noauc_scores = []\n",
    "rocauc_scores = []\n",
    "prauc_scores = []\n",
    "sero_groups = []\n",
    "ranked_q = []\n",
    "p = Progress(200)\n",
    "\n",
    "for item in unique(groups_loci)\n",
    "    # define training and test data\n",
    "    x_train = features_b[groups_loci .!= item, :]\n",
    "    y_train = labels[groups_loci .!= item]\n",
    "    x_test = features_b[groups_loci .== item, :]\n",
    "    y_test = labels[groups_loci .== item]\n",
    "    phage_test = groups_phage[groups_loci .== item]\n",
    "    \n",
    "    # train the model\n",
    "    model = ScikitLearn.fit!(rf, x_train, y_train)\n",
    "    \n",
    "    # loop over phage RBPs in test set\n",
    "    scores_pos = []\n",
    "    this_loci_embedding = loci_embeddings[item]\n",
    "    for phage_index in phage_test\n",
    "        # get the correct rbp embeddings\n",
    "        phageid = unique(RBPbase.phage_ID)[phage_index]\n",
    "        single_rbp_subset = filter(:name => n -> n == phageid, single_rbp_embeddings)\n",
    "        \n",
    "        # make predictions for each single RBP\n",
    "        rbp_scores = []\n",
    "        for rbpi in 1:size(single_rbp_subset)[1] # loop over each single rbp embedding\n",
    "            this_rbp_embedding = BipolarHDV(Vector(single_rbp_subset[rbpi, 2:end]))\n",
    "            test_signature = binding([this_loci_embedding, this_rbp_embedding])\n",
    "            test_matrix = zeros(Int64, 1, 10000)\n",
    "            test_matrix[1,:] = test_signature\n",
    "            this_score = ScikitLearn.predict_proba(model, test_matrix)[:,2]\n",
    "            push!(rbp_scores, this_score[1])\n",
    "        end\n",
    "        \n",
    "        # add max score to the list for AUC computing\n",
    "        push!(scores_pos, maximum(rbp_scores))\n",
    "    end\n",
    "    \n",
    "    # compute ROC & PR AUC\n",
    "    try\n",
    "        roc_auc = roc_auc_score(y_test, scores_pos)\n",
    "        pr_auc = au_prcurve(convert(Vector{Int64}, y_test), convert(Vector{Float64}, scores_pos))\n",
    "        push!(rocauc_scores, roc_auc)\n",
    "        push!(prauc_scores, pr_auc)\n",
    "        this_sero = seros.sero[item]\n",
    "        push!(sero_groups, this_sero)\n",
    "        sorted_query = y_test[sortperm(scores_pos, rev=true)] # sort labels to compute MRR later\n",
    "        push!(ranked_q, sorted_query)\n",
    "    catch\n",
    "        push!(noauc_scores, scores_pos)\n",
    "    end\n",
    "    \n",
    "    # pbar update\n",
    "    next!(p)\n",
    "end"
   ]
  },
  {
   "cell_type": "raw",
   "id": "6a8f0287",
   "metadata": {},
   "source": [
    "# print scores\n",
    "println(\"ROC AUC: \", mean(rocauc_scores))\n",
    "println(\"PR AUC: \", mean(prauc_scores))\n",
    "println(\"MRR: \", mean_reciprocal_rank(ranked_q))\n",
    "println(\"Top 10 Recall: \", recallatk(ranked_q, 10))\n",
    "\n",
    "# save scores for plotting\n",
    "logo_results = DataFrame(sero=sero_groups, rocauc_scores=rocauc_scores, prauc_scores=prauc_scores, \n",
    "                            ranked_queries=ranked_q)\n",
    "CSV.write(results_dir*\"/v3.0/hdc_language_sequence_singlerbp_logocv_results.csv\", logo_results);"
   ]
  },
  {
   "cell_type": "raw",
   "id": "097fbff0",
   "metadata": {},
   "source": [
    "logo_results = DataFrame(CSV.File(results_dir*\"/v2.3/hdc_bind_rf_singlerbp_logocv_results.csv\"))\n",
    "ranked_queries = [eval(Meta.parse(logo_results.ranked_queries[i])) for i in 1:length(logo_results.ranked_queries)]\n",
    "ks = LinRange(1, 46, 46)\n",
    "recalls = [recallatk(ranked_queries, trunc(Int, k)) for k in ks]\n",
    "hits = [hitratio(ranked_queries, trunc(Int, k)) for k in ks]\n",
    "plot(ks, recalls, lw=2.5, label=\"Recall\", c=\"#508AA8\", legend=:topleft, dpi=400)\n",
    "plot!(ks, hits, lw=2.5, label=\"Hit ratio\", c=\"#BA2D0B\")\n",
    "ylims!((0.1, 1))\n",
    "savefig(results_dir*\"/v3.0/hdc_language_singlerbp_logocv_recall_hitratio.png\")"
   ]
  },
  {
   "cell_type": "raw",
   "id": "89b95855",
   "metadata": {},
   "source": [
    "scores_flat = vcat(noauc_scores...)\n",
    "histogram(scores_flat) # quasi all scores are very low"
   ]
  },
  {
   "cell_type": "markdown",
   "id": "9b11a256",
   "metadata": {},
   "source": [
    "## X - Out of use"
   ]
  },
  {
   "cell_type": "raw",
   "id": "09ef2fbb",
   "metadata": {},
   "source": [
    "### to delete: multi rbp language embeddings as test\n",
    "rbp_emb = Matrix(RBP_embeddings[:, 3:end])\n",
    "\n",
    "multirbpemb = zeros(Float64, length(unique(RBP_embeddings.phage_ID)), 1280)\n",
    "for (i, phageid) in enumerate(unique(RBP_embeddings.phage_ID))\n",
    "    subset = rbp_emb[RBP_embeddings.phage_ID .== phageid, :]\n",
    "    multirbpemb[i, :] = mean(subset, dims=1)\n",
    "end\n",
    "multirbpemb = convert(Matrix{Float64}, multirbpemb);"
   ]
  },
  {
   "cell_type": "raw",
   "id": "ccdd5f50",
   "metadata": {},
   "source": [
    "### to delete: language embedding conctatenation as test\n",
    "loci_emb = Matrix(loci_embeddings[:, 2:end])\n",
    "\n",
    "signatures = []\n",
    "labels = []\n",
    "groups_loci = []\n",
    "groups_phage = []\n",
    "for (i, accession) in enumerate(collect(keys(LociBase)))\n",
    "    for (j, phage_id) in enumerate(unique(RBP_embeddings.phage_ID))\n",
    "        subset = filter(row -> row.Host == accession, IM)\n",
    "        interaction = subset[!, phage_id][1]\n",
    "        if isequal(interaction, 1) || isequal(interaction, 0)\n",
    "            signature = vcat(loci_emb[i, :], multirbpemb[j, :])\n",
    "            push!(signatures, signature)\n",
    "            push!(labels, trunc(Int, interaction))\n",
    "            push!(groups_loci, i)\n",
    "            push!(groups_phage, j)\n",
    "        end\n",
    "    end\n",
    "end"
   ]
  },
  {
   "cell_type": "markdown",
   "id": "205933e6",
   "metadata": {},
   "source": [
    "## X - Tests"
   ]
  },
  {
   "cell_type": "code",
   "execution_count": 69,
   "id": "10452d24",
   "metadata": {},
   "outputs": [
    {
     "name": "stdout",
     "output_type": "stream",
     "text": [
      "\u001b[37m\u001b[1mTest Summary: | \u001b[22m\u001b[39m\u001b[32m\u001b[1mPass  \u001b[22m\u001b[39m\u001b[36m\u001b[1mTotal\u001b[22m\u001b[39m\n",
      "tests for MRR | \u001b[32m   3  \u001b[39m\u001b[36m    3\u001b[39m\n"
     ]
    }
   ],
   "source": [
    "@testset \"tests for MRR\" begin\n",
    "    @test mean_reciprocal_rank([[0, 0, 0], [0, 1, 0], [1, 0, 0]]) == 0.5\n",
    "    @test mean_reciprocal_rank([[1, 0, 0], [1, 1, 0], [1, 0, 0]]) == 1\n",
    "    A = [0 0 0; 0 1 0; 1 0 0] # Matrix\n",
    "    @test mean_reciprocal_rank(A) == 0.5\n",
    "end;"
   ]
  },
  {
   "cell_type": "code",
   "execution_count": 19,
   "id": "e31efab6",
   "metadata": {},
   "outputs": [
    {
     "name": "stdout",
     "output_type": "stream",
     "text": [
      "\u001b[37m\u001b[1mTest Summary:     | \u001b[22m\u001b[39m\u001b[32m\u001b[1mPass  \u001b[22m\u001b[39m\u001b[36m\u001b[1mTotal\u001b[22m\u001b[39m\n",
      "test for Recall@K | \u001b[32m   2  \u001b[39m\u001b[36m    2\u001b[39m\n"
     ]
    }
   ],
   "source": [
    "@testset \"test for Recall@K\" begin\n",
    "    @test recallatk([[1, 0, 0, 1, 0]], 3) == 0.5\n",
    "    @test recallatk([[1, 0, 0, 1, 0], [1, 1, 0, 0, 0]], 3) == 0.75\n",
    "end;"
   ]
  },
  {
   "cell_type": "code",
   "execution_count": 51,
   "id": "77d726c1",
   "metadata": {},
   "outputs": [
    {
     "name": "stdout",
     "output_type": "stream",
     "text": [
      "\u001b[37m\u001b[1mTest Summary:                          | \u001b[22m\u001b[39m\u001b[32m\u001b[1mPass  \u001b[22m\u001b[39m\u001b[36m\u001b[1mTotal\u001b[22m\u001b[39m\n",
      "tests for constructing relevant matrix | \u001b[32m   3  \u001b[39m\u001b[36m    3\u001b[39m\n"
     ]
    }
   ],
   "source": [
    "@testset \"tests for constructing relevant matrix\" begin\n",
    "    preds = [0 0 1; 1 1 0; 0 0 0]\n",
    "    labels = [0 0 1; 1 1 0; 0 0 0]\n",
    "    @test construct_relevant_matrix(preds, labels) == labels # all TPs\n",
    "    preds = [0 0 0; 1 0 0; 0 0 0]\n",
    "    labels = [0 0 1; 1 1 0; 0 0 0]\n",
    "    @test construct_relevant_matrix(preds, labels) == [0 0 0; 1 0 0; 0 0 0] # missed TPs\n",
    "    preds = [0 1 0; 1 1 0; 1 0 0]\n",
    "    labels = [0 0 1; 1 1 0; 0 0 0]\n",
    "    @test construct_relevant_matrix(preds, labels) == [0 0 0; 1 1 0; 0 0 0] # FPs\n",
    "end;"
   ]
  },
  {
   "cell_type": "code",
   "execution_count": 122,
   "id": "ecf63855",
   "metadata": {},
   "outputs": [
    {
     "name": "stdout",
     "output_type": "stream",
     "text": [
      "\u001b[37m\u001b[1mTest Summary:                  | \u001b[22m\u001b[39m\u001b[32m\u001b[1mPass  \u001b[22m\u001b[39m\u001b[36m\u001b[1mTotal\u001b[22m\u001b[39m\n",
      "tests for sorting label matrix | \u001b[32m   2  \u001b[39m\u001b[36m    2\u001b[39m\n"
     ]
    }
   ],
   "source": [
    "@testset \"tests for sorting label matrix\" begin \n",
    "    rel = [0 0 1; 1 1 0; 0 0 0]\n",
    "    scores = [0.5 0.3 1; 1 0.3 0.7; 0.2 0.3 0.3]\n",
    "    @test sort_label_matrix(scores, rel) == [1 0 0; 1 0 1; 0 0 0]\n",
    "    \n",
    "    rel = [0 0 1; 1 1 0; 0 0 0]\n",
    "    scores = [1 0.3 1; 1 0.3 0.7; 0.2 0.3 0.3] # equal score for 0 and 1\n",
    "    @test sort_label_matrix(scores, rel) == [0 1 0; 1 0 1; 0 0 0] # equals will appear in ascending order\n",
    "end;"
   ]
  },
  {
   "cell_type": "code",
   "execution_count": 124,
   "id": "522f6870",
   "metadata": {},
   "outputs": [
    {
     "name": "stdout",
     "output_type": "stream",
     "text": [
      "\u001b[37m\u001b[1mTest Summary:  | \u001b[22m\u001b[39m\u001b[32m\u001b[1mPass  \u001b[22m\u001b[39m\u001b[36m\u001b[1mTotal\u001b[22m\u001b[39m\n",
      "tests pipeline | \u001b[32m   3  \u001b[39m\u001b[36m    3\u001b[39m\n"
     ]
    }
   ],
   "source": [
    "@testset \"tests pipeline\" begin\n",
    "    preds = [0 0 1; 0 1 0; 0 0 0]\n",
    "    labels = [0 0 1; 1 1 0; 0 0 0]\n",
    "    scores = [0 0.2 0.5; 0.3 0.2 0.1; 0.2 0.4 0.3]\n",
    "    relm = construct_relevant_matrix(preds, labels)\n",
    "    sortm = sort_label_matrix(scores, relm)\n",
    "    @test construct_relevant_matrix(preds, labels) == [0 0 1; 0 1 0; 0 0 0]\n",
    "    @test sort_relevant_matrix(relm, scores) == [1 0 0; 0 1 0; 0 0 0] \n",
    "    @test mean_reciprocal_rank(sortm) == 0.5\n",
    "end;"
   ]
  },
  {
   "cell_type": "code",
   "execution_count": 28,
   "id": "01358f70",
   "metadata": {},
   "outputs": [
    {
     "name": "stdout",
     "output_type": "stream",
     "text": [
      "\u001b[37m\u001b[1mTest Summary:         | \u001b[22m\u001b[39m\u001b[32m\u001b[1mPass  \u001b[22m\u001b[39m\u001b[36m\u001b[1mTotal\u001b[22m\u001b[39m\n",
      "tests mrr from scores | \u001b[32m   1  \u001b[39m\u001b[36m    1\u001b[39m\n"
     ]
    }
   ],
   "source": [
    "@testset \"tests mrr from scores\" begin\n",
    "    labels = [0 0 1; 1 1 0; 0 0 0]\n",
    "    scores = [0 0.2 0.5; 0.3 0.5 0.6; 0.2 0.4 0.3]\n",
    "    @test mrr_from_scores(scores, labels, 0.4) == 0.5\n",
    "end;"
   ]
  }
 ],
 "metadata": {
  "kernelspec": {
   "display_name": "Julia 1.6.3",
   "language": "julia",
   "name": "julia-1.6"
  },
  "language_info": {
   "file_extension": ".jl",
   "mimetype": "application/julia",
   "name": "julia",
   "version": "1.6.3"
  }
 },
 "nbformat": 4,
 "nbformat_minor": 5
}
