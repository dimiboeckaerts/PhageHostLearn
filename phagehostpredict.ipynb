{
 "cells": [
  {
   "cell_type": "markdown",
   "id": "chronic-establishment",
   "metadata": {},
   "source": [
    "# PhageHostPredict (Klebsiella)\n",
    "\n",
    "An AI-based Phage-Host interaction predictor framework with receptors and receptor-binding proteins at its core. This particular PhageHostPredict is for *Klebsiella pneumoniae* related phages.\n",
    "\n",
    "This notebook follows after having ran the PhageHostPredict_processing steps implemented in the accompanying Python script.\n",
    "\n",
    "The predictive framework works as follows:\n",
    "\n",
    "1. [Transform the locus into an embedding using Word2Vec](#locusembed)\n",
    "2. [Transform the RBP sequence into an embedding](#rbpembed) using UniRep, ProtTransBert, SeqVec, ...\n",
    "3. Constructing a dataframe for training models\n",
    "4. [Exploring the interactions space](#interactions) for insight and further improvement\n",
    "5. [Concatenate and train an RF model](#models) via cross-validation"
   ]
  },
  {
   "cell_type": "markdown",
   "id": "catholic-brush",
   "metadata": {},
   "source": [
    "## 0 - Libraries and directories"
   ]
  },
  {
   "cell_type": "code",
   "execution_count": 1,
   "id": "drawn-centre",
   "metadata": {},
   "outputs": [
    {
     "name": "stdout",
     "output_type": "stream",
     "text": [
      "Init Plugin\n",
      "Init Graph Optimizer\n",
      "Init Kernel\n"
     ]
    }
   ],
   "source": [
    "import os\n",
    "import math\n",
    "import umap\n",
    "import random\n",
    "import subprocess\n",
    "import numpy as np\n",
    "import pandas as pd\n",
    "import seaborn as sns\n",
    "import matplotlib.pyplot as plt\n",
    "from matplotlib import cm\n",
    "from tqdm.notebook import tqdm\n",
    "from Bio import SeqIO\n",
    "from Bio.Blast import NCBIWWW, NCBIXML\n",
    "from sklearn.manifold import TSNE\n",
    "from sklearn.decomposition import PCA\n",
    "from sklearn.ensemble import RandomForestClassifier\n",
    "from Bio.Blast.Applications import NcbiblastpCommandline\n",
    "from sklearn.model_selection import GridSearchCV, KFold, GroupKFold, cross_val_score\n",
    "from sklearn.metrics import make_scorer, f1_score, roc_auc_score, auc, precision_recall_curve, precision_score, confusion_matrix\n",
    "#from bio_embeddings.embed import Word2VecEmbedder, ProtTransBertBFDEmbedder, SeqVecEmbedder\n",
    "%matplotlib inline"
   ]
  },
  {
   "cell_type": "code",
   "execution_count": 2,
   "id": "together-constitution",
   "metadata": {},
   "outputs": [],
   "source": [
    "# set project directory (to locate Kaptive), data directory and results directory\n",
    "project_dir = '/Users/dimi/Documents/GitHub_Local/PhageHostLearning'\n",
    "klebsiella_dir = '/Users/dimi/GoogleDrive/PhD/4_PHAGEHOST_LEARNING/42_DATA/Klebsiella_RBP_data'\n",
    "results_dir = '/Users/dimi/GoogleDrive/PhD/4_PHAGEHOST_LEARNING/43_RESULTS'\n",
    "cdpath = '/Users/dimi/cd-hit-v4.8.1-2019-0228'"
   ]
  },
  {
   "cell_type": "markdown",
   "id": "posted-continuity",
   "metadata": {},
   "source": [
    "## 1 - Transform locus into embeddings<a name=\"locusembed\"></a>"
   ]
  },
  {
   "cell_type": "code",
   "execution_count": 13,
   "id": "herbal-madness",
   "metadata": {},
   "outputs": [],
   "source": [
    "def locus_embeddings(interactions, data_dir, results_dir):\n",
    "    \"\"\"\n",
    "    This functions computes ProtTransBertBFD embeddings for bacterial genomic loci. It uses the bio-embeddings\n",
    "    package together with BioPython to transform fasta sequences of bacterial loci into numerical embeddings.\n",
    "    \n",
    "    WARNING: running this on a personal laptop without GPU can be slow (not advised). Best to start a Google\n",
    "    Colab notebook and run the computations in the cloud.\n",
    "    \n",
    "    Input:\n",
    "    - interactions: interaction matrix of phages and hosts with column 'accession'\n",
    "    - data_dir: location of the sequence file(s) to loop over\n",
    "    - results_dir: location to store results\n",
    "    \n",
    "    Output:\n",
    "    - embeddings: Pandas DataFrame (as .csv file) with file names and their corresponding embedding\n",
    "    \"\"\"\n",
    "    embedder = ProtTransBertBFDEmbedder()\n",
    "    id_list = list(interactions['accession'])\n",
    "    embeddings_list = []\n",
    "\n",
    "    for name in tqdm(id_list):\n",
    "        # loop over the different proteins in a locus\n",
    "        locus_list = []\n",
    "        for record in SeqIO.parse(data_dir+'/kaptive_results_proteins_'+name+'.fasta', 'fasta'):\n",
    "            protein = str(record.seq)\n",
    "            # compute each embedding\n",
    "            this_embedding = embedder.embed(protein)\n",
    "            this_embedding_red = embedder.reduce_per_protein(this_embedding)\n",
    "            locus_list.append(this_embedding_red)\n",
    "        locus_emb_matrix = np.vstack(locus_list)\n",
    "        locus_embedding = np.mean(locus_emb_matrix, axis=0)\n",
    "        embeddings_list.append(locus_embedding)\n",
    "        \n",
    "    embeddings_df = pd.concat([pd.DataFrame(id_list), pd.DataFrame(embeddings_list)], axis=1)\n",
    "    embeddings_df.to_csv(results_dir+'/locus_embeddings.csv', index=False)\n",
    "    \n",
    "    return"
   ]
  },
  {
   "cell_type": "code",
   "execution_count": null,
   "id": "7379c6af",
   "metadata": {},
   "outputs": [],
   "source": [
    "IM = pd.read_csv('../input/klebsiellaloci2/interactions_klebsiella.csv')\n",
    "#locus_embeddings(IM, '../input/klebsiellaloci2', './')"
   ]
  },
  {
   "cell_type": "markdown",
   "id": "colored-spencer",
   "metadata": {},
   "source": [
    "## 2 - Tranform RBP sequences into embeddings <a name=\"rbpembed\"></a>"
   ]
  },
  {
   "cell_type": "code",
   "execution_count": 36,
   "id": "anticipated-crack",
   "metadata": {},
   "outputs": [],
   "source": [
    "def protein_embeddings_df(dataframe, results_dir):\n",
    "    \"\"\"\n",
    "    This functions computes ProttransBERT embeddings protein sequences in a dataframe. It uses the bio-embeddings\n",
    "    package together with BioPython to transform fasta sequences of phage RBPs into numerical embeddings.\n",
    "    \n",
    "    WARNING: running this on a personal laptop without GPU is very slow and not advised. Best to start a Google\n",
    "    Collab notebook and run the computations in the cloud \n",
    "    \n",
    "    Input:\n",
    "    - dataframe: RBPbase, columns 'protein_seq', 'unique_ID'\n",
    "    - results_dir: directory to store the resulting embeddings in\n",
    "    \n",
    "    Output:\n",
    "    - embeddings: Pandas DataFrame (as .csv file) with file names and their corresponding embedding\n",
    "    \"\"\"\n",
    "    embedder = ProtTransBertBFDEmbedder()\n",
    "    id_list = []\n",
    "    embeddings_list = []\n",
    "    pb = tqdm(total=dataframe.shape[0])\n",
    "\n",
    "    for i, sequence in enumerate(dataframe['protein_seq']):\n",
    "        id_list.append(dataframe['unique_ID'][i])\n",
    "        embedding = embedder.embed(sequence)\n",
    "        reduced_embedding = embedder.reduce_per_protein(embedding)\n",
    "        embeddings_list.append(reduced_embedding)\n",
    "        pb.update(1)\n",
    "    pb.close()\n",
    "    \n",
    "    embeddings_df = pd.concat([pd.DataFrame(id_list), pd.DataFrame(embeddings_list)], axis=1)\n",
    "    embeddings_df.to_csv(results_dir+'/RBPbase_031221_klebsiella_pneumoniae_embeddings.csv', index=False)\n",
    "    \n",
    "    return"
   ]
  },
  {
   "cell_type": "code",
   "execution_count": 65,
   "id": "spanish-repository",
   "metadata": {},
   "outputs": [],
   "source": [
    "#protein_embeddings(rbp_file_names, data_dir) # do in Google Colab or Kaggle"
   ]
  },
  {
   "cell_type": "markdown",
   "id": "statistical-offer",
   "metadata": {},
   "source": [
    "## 3 - Processing into structured dataframe for training"
   ]
  },
  {
   "cell_type": "code",
   "execution_count": 4,
   "id": "classical-individual",
   "metadata": {},
   "outputs": [],
   "source": [
    "def construct_training_dataframe(locus_features, rbp_features, interaction_matrix, RBPbase):\n",
    "    \"\"\"\n",
    "    This function combines the seraparetly computed features of both the locus and the RBPs\n",
    "    into one array suitable for training, considering the interaction matrix.\n",
    "    \n",
    "    At this point, the rows of the featuresets should correspond with the rows and columns of the interaction\n",
    "    matrix, meaning the interaction matrix should be constructed starting from the same data as the features!\n",
    "    \n",
    "    Input:\n",
    "    - locus features: DataFrame of the features constructed for the bacterial loci (m x #feats)\n",
    "    - rbp_features: DataFrame of the features constructured for the phage RBPs (n x #feats)\n",
    "    - interaction matrix: (m x n) with positives (1), negatives (0) and unknown (NaN)\n",
    "    - RBPbase: RBP dataframe for sanity check (optional)\n",
    "    \"\"\"\n",
    "    \n",
    "    # define lists to append to\n",
    "    locus_list = []; rbp_list = []; interaction_list = []; row_list = []; col_list = []; origin_list = []\n",
    "    \n",
    "    # loop over interaction matrix and construct dataframe\n",
    "    for i in range(interaction_matrix.shape[0]):\n",
    "        for j in range(interaction_matrix.shape[1]):\n",
    "            interaction = interaction_matrix[i,j]\n",
    "            \n",
    "            if math.isnan(interaction) == False:\n",
    "                # make list of lists, that can subsequently be combined\n",
    "                locus_list.append(list(locus_features.iloc[i,:]))\n",
    "                rbp_list.append(list(rbp_features.iloc[j,:]))\n",
    "                interaction_list.append(int(interaction))\n",
    "                row_list.append(i)\n",
    "                col_list.append(j)\n",
    "                origin_list.append(RBPbase['origin'][j])\n",
    "            \n",
    "            # sanity check (optional)\n",
    "            #if (interaction == 1) and (type(RBPbase) !=  int):\n",
    "            #    locus_id = locus_em.index[i].split('kaptive_results_')[1].split('.fasta')[0]\n",
    "            #    rbp_id = RBPbase['host_accession'][j]\n",
    "            #    if locus_id != rbp_id:\n",
    "            #        print('mismatch!', rbp_id, locus_id)\n",
    "    \n",
    "    # concatenate to final dataframe\n",
    "    training_dataframe = pd.concat([pd.DataFrame(locus_list), pd.DataFrame(rbp_list), pd.DataFrame({'label': interaction_list}),\n",
    "                                    pd.DataFrame({'row': row_list}), pd.DataFrame({'col': col_list}), \n",
    "                                    pd.DataFrame({'origin': origin_list})], axis=1)\n",
    "    \n",
    "    return training_dataframe     "
   ]
  },
  {
   "cell_type": "markdown",
   "id": "304c9636",
   "metadata": {},
   "source": [
    "## 4 - Exploring embeddings<a name=\"interactions\"></a>"
   ]
  },
  {
   "cell_type": "markdown",
   "id": "1ed039e0",
   "metadata": {},
   "source": [
    "#### Load data and create training dataframe"
   ]
  },
  {
   "cell_type": "code",
   "execution_count": null,
   "id": "cd3f6ca5",
   "metadata": {},
   "outputs": [],
   "source": [
    "rbpbase = pd.read_csv(klebsiella_dir+'/RBPbase_031221_klebsiella_pneumoniae.csv')\n",
    "locus_em = pd.read_csv(klebsiella_dir+'/klebsiella_genomes_031221_ProtTrans_embeddings.csv', index_col=0)\n",
    "rbp_em = pd.read_csv(klebsiella_dir+'/RBPbase_031221_klebsiella_pneumoniae_embeddings.csv', index_col=0)\n",
    "#interaction_matrix = np.asarray(pd.read_csv(klebsiella_dir+'/interactions_klebsiella.csv', index_col=0))\n",
    "interaction_matrix_mono = np.asarray(pd.read_csv(klebsiella_dir+'/interactions_klebsiella_mono.csv', index_col=0))\n",
    "frame = construct_training_dataframe(locus_em, rbp_em, interaction_matrix_mono, rbpbase)\n",
    "labels = np.asarray(frame.iloc[:,-4])"
   ]
  },
  {
   "cell_type": "code",
   "execution_count": null,
   "id": "9944bf75",
   "metadata": {},
   "outputs": [],
   "source": [
    "print('pos:', sum(labels==1), 'negs:', sum(labels==0))"
   ]
  },
  {
   "cell_type": "markdown",
   "id": "aec36c3e",
   "metadata": {},
   "source": [
    "#### Constructing TSNE and UMAP projections"
   ]
  },
  {
   "cell_type": "code",
   "execution_count": 6,
   "id": "b03a3906",
   "metadata": {},
   "outputs": [],
   "source": [
    "X = np.asarray(frame.iloc[:, :-4])\n",
    "X_loci = np.asarray(frame.iloc[:, :1024]) # first 1024\n",
    "X_rbps = np.asarray(frame.iloc[:, 1024:-4]) # second 1024"
   ]
  },
  {
   "cell_type": "code",
   "execution_count": 7,
   "id": "0fe4df40",
   "metadata": {},
   "outputs": [
    {
     "data": {
      "text/plain": [
       "Text(0, 0.5, 'tSNE component 2')"
      ]
     },
     "execution_count": 7,
     "metadata": {},
     "output_type": "execute_result"
    },
    {
     "data": {
      "image/png": "[encoded data removed]",
      "text/plain": [
       "<Figure size 720x504 with 1 Axes>"
      ]
     },
     "metadata": {
      "needs_background": "light"
     },
     "output_type": "display_data"
    }
   ],
   "source": [
    "# colored by label\n",
    "X_tsne = TSNE(n_components=2, learning_rate='auto', init='random').fit_transform(X)\n",
    "plt.figure(figsize=(10,7))\n",
    "colors = [\"navy\", \"darkorange\"]\n",
    "\n",
    "for i in range(X_tsne.shape[0]):\n",
    "    if (frame['origin'][i] == 'prophage') and (labels[i] == 1):\n",
    "        plt.scatter(X_tsne[i,0], X_tsne[i,1], color='darkorange', marker='+')\n",
    "    if (frame['origin'][i] == 'prophage') and (labels[i] == 0):\n",
    "        plt.scatter(X_tsne[i,0], X_tsne[i,1], color='navy', marker='+')\n",
    "    if (frame['origin'][i] == 'valencia') and (labels[i] == 1):\n",
    "        plt.scatter(X_tsne[i,0], X_tsne[i,1], color='darkorange', marker='>')\n",
    "    if (frame['origin'][i] == 'valencia') and (labels[i] == 0):\n",
    "        plt.scatter(X_tsne[i,0], X_tsne[i,1], color='navy', marker='>')\n",
    "        \n",
    "plt.scatter([],[], color='darkorange', marker='+', label='pos+ prophage')\n",
    "plt.scatter([],[], color='navy', marker='+', label='neg- prophage')\n",
    "plt.scatter([],[], color='darkorange', marker='>', label='pos+ valencia')\n",
    "plt.scatter([],[], color='navy', marker='>', label='neg- valencia')\n",
    "  \n",
    "plt.legend(loc=\"best\", shadow=False, scatterpoints=1)\n",
    "plt.title(\"tSNE of dataset\")\n",
    "plt.xlabel('tSNE component 1')\n",
    "plt.ylabel('tSNE component 2')\n",
    "#plt.savefig(results_dir+'/features/all_embeddings_tSNE.png', dpi=400)"
   ]
  },
  {
   "cell_type": "code",
   "execution_count": 36,
   "id": "a101f157",
   "metadata": {},
   "outputs": [
    {
     "data": {
      "image/png": "[encoded data removed]",
      "text/plain": [
       "<Figure size 720x504 with 1 Axes>"
      ]
     },
     "metadata": {
      "needs_background": "light"
     },
     "output_type": "display_data"
    }
   ],
   "source": [
    "# colored by serotype\n",
    "X_tsne = TSNE(n_components=2, learning_rate='auto', init='random').fit_transform(X_rbps)\n",
    "seros = pd.read_csv(klebsiella_dir+'/klebsiella_genomes_031221_serotypes.csv')\n",
    "unique_seros = list(set(seros['sero']))\n",
    "seros_count = [list(seros['sero']).count(x) for x in unique_seros]\n",
    "seros_top = [x for _,x in sorted(zip(seros_count,unique_seros), reverse=True)][:20]\n",
    "plt.figure(figsize=(10,7))\n",
    "viridis = cm.get_cmap('rainbow')\n",
    "crange = np.linspace(0.01, 0.99, len(seros_top))\n",
    "\n",
    "for i in range(X_tsne.shape[0]):\n",
    "    this_index = frame['row'][i]\n",
    "    this_sero = seros['sero'][this_index]\n",
    "    if (frame['origin'][i] == 'prophage') and (this_sero in seros_top):\n",
    "        col = viridis(crange[seros_top.index(this_sero)])\n",
    "        plt.scatter(X_tsne[i,0], X_tsne[i,1], color=col, marker='+')\n",
    "    if (frame['origin'][i] == 'prophage') and (this_sero not in seros_top):\n",
    "        plt.scatter(X_tsne[i,0], X_tsne[i,1], color='grey', marker='+')\n",
    "    if (frame['origin'][i] == 'valencia') and (this_sero in seros_top):\n",
    "        col = viridis(crange[seros_top.index(this_sero)])\n",
    "        plt.scatter(X_tsne[i,0], X_tsne[i,1], color=col, marker='>')\n",
    "    if (frame['origin'][i] == 'valencia') and (this_sero not in seros_top):\n",
    "        plt.scatter(X_tsne[i,0], X_tsne[i,1], color='grey', marker='>')\n",
    "         \n",
    "plt.title(\"tSNE of dataset, colored by top20 serotypes\")\n",
    "plt.xlabel('tSNE component 1')\n",
    "plt.ylabel('tSNE component 2')\n",
    "plt.savefig(results_dir+'/features/rbp_embeddings_tSNE_serocolor.png', dpi=400)"
   ]
  },
  {
   "cell_type": "code",
   "execution_count": 7,
   "id": "cde19f8a",
   "metadata": {},
   "outputs": [
    {
     "data": {
      "image/png": "[encoded data removed]",
      "text/plain": [
       "<Figure size 720x504 with 1 Axes>"
      ]
     },
     "metadata": {
      "needs_background": "light"
     },
     "output_type": "display_data"
    }
   ],
   "source": [
    "# colored with Valencia RBPs\n",
    "X_tsne = TSNE(n_components=2, perplexity=61, learning_rate='auto', init='random').fit_transform(X_rbps)\n",
    "\n",
    "unique_valencia_rbps = list(set(frame['col'][frame['origin']=='valencia']))\n",
    "colors = cm.get_cmap('rainbow')\n",
    "crange = np.linspace(0.01, 0.99, len(unique_valencia_rbps))\n",
    "\n",
    "plt.figure(figsize=(10,7))\n",
    "for i in range(X_tsne.shape[0]):\n",
    "    this_rbp = frame['col'][i]\n",
    "    if (frame['origin'][i] == 'prophage'):        \n",
    "        plt.scatter(X_tsne[i,0], X_tsne[i,1], color='grey', marker='+')\n",
    "    if (frame['origin'][i] == 'valencia'):\n",
    "        col = colors(crange[unique_valencia_rbps.index(this_rbp)])\n",
    "        plt.scatter(X_tsne[i,0], X_tsne[i,1], color=col, marker='>')\n",
    "         \n",
    "plt.title(\"tSNE of dataset, colored by Valencia RBP\")\n",
    "plt.xlabel('tSNE component 1')\n",
    "plt.ylabel('tSNE component 2')\n",
    "plt.savefig(results_dir+'/features/rbp_embeddings_tSNE_rbpcolor.png', dpi=400)"
   ]
  },
  {
   "cell_type": "code",
   "execution_count": 60,
   "id": "1e3a5d62",
   "metadata": {},
   "outputs": [
    {
     "data": {
      "text/html": [
       "<div>\n",
       "<style scoped>\n",
       "    .dataframe tbody tr th:only-of-type {\n",
       "        vertical-align: middle;\n",
       "    }\n",
       "\n",
       "    .dataframe tbody tr th {\n",
       "        vertical-align: top;\n",
       "    }\n",
       "\n",
       "    .dataframe thead th {\n",
       "        text-align: right;\n",
       "    }\n",
       "</style>\n",
       "<table border=\"1\" class=\"dataframe\">\n",
       "  <thead>\n",
       "    <tr style=\"text-align: right;\">\n",
       "      <th></th>\n",
       "      <th>0</th>\n",
       "      <th>1</th>\n",
       "      <th>2</th>\n",
       "      <th>3</th>\n",
       "      <th>4</th>\n",
       "      <th>5</th>\n",
       "      <th>6</th>\n",
       "      <th>7</th>\n",
       "      <th>8</th>\n",
       "      <th>9</th>\n",
       "      <th>...</th>\n",
       "      <th>1014</th>\n",
       "      <th>1015</th>\n",
       "      <th>1016</th>\n",
       "      <th>1017</th>\n",
       "      <th>1018</th>\n",
       "      <th>1019</th>\n",
       "      <th>1020</th>\n",
       "      <th>1021</th>\n",
       "      <th>1022</th>\n",
       "      <th>1023</th>\n",
       "    </tr>\n",
       "  </thead>\n",
       "  <tbody>\n",
       "    <tr>\n",
       "      <th>132</th>\n",
       "      <td>0.019961</td>\n",
       "      <td>-0.009518</td>\n",
       "      <td>0.001155</td>\n",
       "      <td>0.012606</td>\n",
       "      <td>0.068221</td>\n",
       "      <td>-0.022728</td>\n",
       "      <td>0.001187</td>\n",
       "      <td>-0.004848</td>\n",
       "      <td>-0.084081</td>\n",
       "      <td>0.026543</td>\n",
       "      <td>...</td>\n",
       "      <td>-0.010422</td>\n",
       "      <td>-0.044509</td>\n",
       "      <td>-0.023501</td>\n",
       "      <td>-0.033047</td>\n",
       "      <td>0.093405</td>\n",
       "      <td>0.024353</td>\n",
       "      <td>-0.005163</td>\n",
       "      <td>0.005833</td>\n",
       "      <td>-0.002526</td>\n",
       "      <td>0.033885</td>\n",
       "    </tr>\n",
       "    <tr>\n",
       "      <th>142</th>\n",
       "      <td>0.019961</td>\n",
       "      <td>-0.009518</td>\n",
       "      <td>0.001155</td>\n",
       "      <td>0.012606</td>\n",
       "      <td>0.068221</td>\n",
       "      <td>-0.022728</td>\n",
       "      <td>0.001187</td>\n",
       "      <td>-0.004848</td>\n",
       "      <td>-0.084081</td>\n",
       "      <td>0.026543</td>\n",
       "      <td>...</td>\n",
       "      <td>-0.010422</td>\n",
       "      <td>-0.044509</td>\n",
       "      <td>-0.023501</td>\n",
       "      <td>-0.033047</td>\n",
       "      <td>0.093405</td>\n",
       "      <td>0.024353</td>\n",
       "      <td>-0.005163</td>\n",
       "      <td>0.005833</td>\n",
       "      <td>-0.002526</td>\n",
       "      <td>0.033885</td>\n",
       "    </tr>\n",
       "    <tr>\n",
       "      <th>152</th>\n",
       "      <td>0.019961</td>\n",
       "      <td>-0.009518</td>\n",
       "      <td>0.001155</td>\n",
       "      <td>0.012606</td>\n",
       "      <td>0.068221</td>\n",
       "      <td>-0.022728</td>\n",
       "      <td>0.001187</td>\n",
       "      <td>-0.004848</td>\n",
       "      <td>-0.084081</td>\n",
       "      <td>0.026543</td>\n",
       "      <td>...</td>\n",
       "      <td>-0.010422</td>\n",
       "      <td>-0.044509</td>\n",
       "      <td>-0.023501</td>\n",
       "      <td>-0.033047</td>\n",
       "      <td>0.093405</td>\n",
       "      <td>0.024353</td>\n",
       "      <td>-0.005163</td>\n",
       "      <td>0.005833</td>\n",
       "      <td>-0.002526</td>\n",
       "      <td>0.033885</td>\n",
       "    </tr>\n",
       "    <tr>\n",
       "      <th>162</th>\n",
       "      <td>0.019961</td>\n",
       "      <td>-0.009518</td>\n",
       "      <td>0.001155</td>\n",
       "      <td>0.012606</td>\n",
       "      <td>0.068221</td>\n",
       "      <td>-0.022728</td>\n",
       "      <td>0.001187</td>\n",
       "      <td>-0.004848</td>\n",
       "      <td>-0.084081</td>\n",
       "      <td>0.026543</td>\n",
       "      <td>...</td>\n",
       "      <td>-0.010422</td>\n",
       "      <td>-0.044509</td>\n",
       "      <td>-0.023501</td>\n",
       "      <td>-0.033047</td>\n",
       "      <td>0.093405</td>\n",
       "      <td>0.024353</td>\n",
       "      <td>-0.005163</td>\n",
       "      <td>0.005833</td>\n",
       "      <td>-0.002526</td>\n",
       "      <td>0.033885</td>\n",
       "    </tr>\n",
       "    <tr>\n",
       "      <th>172</th>\n",
       "      <td>0.019961</td>\n",
       "      <td>-0.009518</td>\n",
       "      <td>0.001155</td>\n",
       "      <td>0.012606</td>\n",
       "      <td>0.068221</td>\n",
       "      <td>-0.022728</td>\n",
       "      <td>0.001187</td>\n",
       "      <td>-0.004848</td>\n",
       "      <td>-0.084081</td>\n",
       "      <td>0.026543</td>\n",
       "      <td>...</td>\n",
       "      <td>-0.010422</td>\n",
       "      <td>-0.044509</td>\n",
       "      <td>-0.023501</td>\n",
       "      <td>-0.033047</td>\n",
       "      <td>0.093405</td>\n",
       "      <td>0.024353</td>\n",
       "      <td>-0.005163</td>\n",
       "      <td>0.005833</td>\n",
       "      <td>-0.002526</td>\n",
       "      <td>0.033885</td>\n",
       "    </tr>\n",
       "    <tr>\n",
       "      <th>...</th>\n",
       "      <td>...</td>\n",
       "      <td>...</td>\n",
       "      <td>...</td>\n",
       "      <td>...</td>\n",
       "      <td>...</td>\n",
       "      <td>...</td>\n",
       "      <td>...</td>\n",
       "      <td>...</td>\n",
       "      <td>...</td>\n",
       "      <td>...</td>\n",
       "      <td>...</td>\n",
       "      <td>...</td>\n",
       "      <td>...</td>\n",
       "      <td>...</td>\n",
       "      <td>...</td>\n",
       "      <td>...</td>\n",
       "      <td>...</td>\n",
       "      <td>...</td>\n",
       "      <td>...</td>\n",
       "      <td>...</td>\n",
       "      <td>...</td>\n",
       "    </tr>\n",
       "    <tr>\n",
       "      <th>702</th>\n",
       "      <td>0.019961</td>\n",
       "      <td>-0.009518</td>\n",
       "      <td>0.001155</td>\n",
       "      <td>0.012606</td>\n",
       "      <td>0.068221</td>\n",
       "      <td>-0.022728</td>\n",
       "      <td>0.001187</td>\n",
       "      <td>-0.004848</td>\n",
       "      <td>-0.084081</td>\n",
       "      <td>0.026543</td>\n",
       "      <td>...</td>\n",
       "      <td>-0.010422</td>\n",
       "      <td>-0.044509</td>\n",
       "      <td>-0.023501</td>\n",
       "      <td>-0.033047</td>\n",
       "      <td>0.093405</td>\n",
       "      <td>0.024353</td>\n",
       "      <td>-0.005163</td>\n",
       "      <td>0.005833</td>\n",
       "      <td>-0.002526</td>\n",
       "      <td>0.033885</td>\n",
       "    </tr>\n",
       "    <tr>\n",
       "      <th>712</th>\n",
       "      <td>0.019961</td>\n",
       "      <td>-0.009518</td>\n",
       "      <td>0.001155</td>\n",
       "      <td>0.012606</td>\n",
       "      <td>0.068221</td>\n",
       "      <td>-0.022728</td>\n",
       "      <td>0.001187</td>\n",
       "      <td>-0.004848</td>\n",
       "      <td>-0.084081</td>\n",
       "      <td>0.026543</td>\n",
       "      <td>...</td>\n",
       "      <td>-0.010422</td>\n",
       "      <td>-0.044509</td>\n",
       "      <td>-0.023501</td>\n",
       "      <td>-0.033047</td>\n",
       "      <td>0.093405</td>\n",
       "      <td>0.024353</td>\n",
       "      <td>-0.005163</td>\n",
       "      <td>0.005833</td>\n",
       "      <td>-0.002526</td>\n",
       "      <td>0.033885</td>\n",
       "    </tr>\n",
       "    <tr>\n",
       "      <th>722</th>\n",
       "      <td>0.019961</td>\n",
       "      <td>-0.009518</td>\n",
       "      <td>0.001155</td>\n",
       "      <td>0.012606</td>\n",
       "      <td>0.068221</td>\n",
       "      <td>-0.022728</td>\n",
       "      <td>0.001187</td>\n",
       "      <td>-0.004848</td>\n",
       "      <td>-0.084081</td>\n",
       "      <td>0.026543</td>\n",
       "      <td>...</td>\n",
       "      <td>-0.010422</td>\n",
       "      <td>-0.044509</td>\n",
       "      <td>-0.023501</td>\n",
       "      <td>-0.033047</td>\n",
       "      <td>0.093405</td>\n",
       "      <td>0.024353</td>\n",
       "      <td>-0.005163</td>\n",
       "      <td>0.005833</td>\n",
       "      <td>-0.002526</td>\n",
       "      <td>0.033885</td>\n",
       "    </tr>\n",
       "    <tr>\n",
       "      <th>732</th>\n",
       "      <td>0.019961</td>\n",
       "      <td>-0.009518</td>\n",
       "      <td>0.001155</td>\n",
       "      <td>0.012606</td>\n",
       "      <td>0.068221</td>\n",
       "      <td>-0.022728</td>\n",
       "      <td>0.001187</td>\n",
       "      <td>-0.004848</td>\n",
       "      <td>-0.084081</td>\n",
       "      <td>0.026543</td>\n",
       "      <td>...</td>\n",
       "      <td>-0.010422</td>\n",
       "      <td>-0.044509</td>\n",
       "      <td>-0.023501</td>\n",
       "      <td>-0.033047</td>\n",
       "      <td>0.093405</td>\n",
       "      <td>0.024353</td>\n",
       "      <td>-0.005163</td>\n",
       "      <td>0.005833</td>\n",
       "      <td>-0.002526</td>\n",
       "      <td>0.033885</td>\n",
       "    </tr>\n",
       "    <tr>\n",
       "      <th>742</th>\n",
       "      <td>0.019961</td>\n",
       "      <td>-0.009518</td>\n",
       "      <td>0.001155</td>\n",
       "      <td>0.012606</td>\n",
       "      <td>0.068221</td>\n",
       "      <td>-0.022728</td>\n",
       "      <td>0.001187</td>\n",
       "      <td>-0.004848</td>\n",
       "      <td>-0.084081</td>\n",
       "      <td>0.026543</td>\n",
       "      <td>...</td>\n",
       "      <td>-0.010422</td>\n",
       "      <td>-0.044509</td>\n",
       "      <td>-0.023501</td>\n",
       "      <td>-0.033047</td>\n",
       "      <td>0.093405</td>\n",
       "      <td>0.024353</td>\n",
       "      <td>-0.005163</td>\n",
       "      <td>0.005833</td>\n",
       "      <td>-0.002526</td>\n",
       "      <td>0.033885</td>\n",
       "    </tr>\n",
       "  </tbody>\n",
       "</table>\n",
       "<p>62 rows × 1024 columns</p>\n",
       "</div>"
      ],
      "text/plain": [
       "         0         1         2         3         4         5         6     \\\n",
       "132  0.019961 -0.009518  0.001155  0.012606  0.068221 -0.022728  0.001187   \n",
       "142  0.019961 -0.009518  0.001155  0.012606  0.068221 -0.022728  0.001187   \n",
       "152  0.019961 -0.009518  0.001155  0.012606  0.068221 -0.022728  0.001187   \n",
       "162  0.019961 -0.009518  0.001155  0.012606  0.068221 -0.022728  0.001187   \n",
       "172  0.019961 -0.009518  0.001155  0.012606  0.068221 -0.022728  0.001187   \n",
       "..        ...       ...       ...       ...       ...       ...       ...   \n",
       "702  0.019961 -0.009518  0.001155  0.012606  0.068221 -0.022728  0.001187   \n",
       "712  0.019961 -0.009518  0.001155  0.012606  0.068221 -0.022728  0.001187   \n",
       "722  0.019961 -0.009518  0.001155  0.012606  0.068221 -0.022728  0.001187   \n",
       "732  0.019961 -0.009518  0.001155  0.012606  0.068221 -0.022728  0.001187   \n",
       "742  0.019961 -0.009518  0.001155  0.012606  0.068221 -0.022728  0.001187   \n",
       "\n",
       "         7         8         9     ...      1014      1015      1016  \\\n",
       "132 -0.004848 -0.084081  0.026543  ... -0.010422 -0.044509 -0.023501   \n",
       "142 -0.004848 -0.084081  0.026543  ... -0.010422 -0.044509 -0.023501   \n",
       "152 -0.004848 -0.084081  0.026543  ... -0.010422 -0.044509 -0.023501   \n",
       "162 -0.004848 -0.084081  0.026543  ... -0.010422 -0.044509 -0.023501   \n",
       "172 -0.004848 -0.084081  0.026543  ... -0.010422 -0.044509 -0.023501   \n",
       "..        ...       ...       ...  ...       ...       ...       ...   \n",
       "702 -0.004848 -0.084081  0.026543  ... -0.010422 -0.044509 -0.023501   \n",
       "712 -0.004848 -0.084081  0.026543  ... -0.010422 -0.044509 -0.023501   \n",
       "722 -0.004848 -0.084081  0.026543  ... -0.010422 -0.044509 -0.023501   \n",
       "732 -0.004848 -0.084081  0.026543  ... -0.010422 -0.044509 -0.023501   \n",
       "742 -0.004848 -0.084081  0.026543  ... -0.010422 -0.044509 -0.023501   \n",
       "\n",
       "         1017      1018      1019      1020      1021      1022      1023  \n",
       "132 -0.033047  0.093405  0.024353 -0.005163  0.005833 -0.002526  0.033885  \n",
       "142 -0.033047  0.093405  0.024353 -0.005163  0.005833 -0.002526  0.033885  \n",
       "152 -0.033047  0.093405  0.024353 -0.005163  0.005833 -0.002526  0.033885  \n",
       "162 -0.033047  0.093405  0.024353 -0.005163  0.005833 -0.002526  0.033885  \n",
       "172 -0.033047  0.093405  0.024353 -0.005163  0.005833 -0.002526  0.033885  \n",
       "..        ...       ...       ...       ...       ...       ...       ...  \n",
       "702 -0.033047  0.093405  0.024353 -0.005163  0.005833 -0.002526  0.033885  \n",
       "712 -0.033047  0.093405  0.024353 -0.005163  0.005833 -0.002526  0.033885  \n",
       "722 -0.033047  0.093405  0.024353 -0.005163  0.005833 -0.002526  0.033885  \n",
       "732 -0.033047  0.093405  0.024353 -0.005163  0.005833 -0.002526  0.033885  \n",
       "742 -0.033047  0.093405  0.024353 -0.005163  0.005833 -0.002526  0.033885  \n",
       "\n",
       "[62 rows x 1024 columns]"
      ]
     },
     "execution_count": 60,
     "metadata": {},
     "output_type": "execute_result"
    }
   ],
   "source": [
    "# are the different embeddings the same?\n",
    "frame_rbps = frame.iloc[:, 1024:-4]\n",
    "unique_valencia_rbps = list(set(frame['col'][frame['origin']=='valencia']))\n",
    "frame_rbps[frame['col'] == 1538]"
   ]
  },
  {
   "cell_type": "markdown",
   "id": "171bd8c2",
   "metadata": {},
   "source": [
    "We see that the prophage datapoints (if plotted), are quite different from the Valencia data. Within the Valencia data however we see different clusters of points, but the positives are not separatable from the negatives (in two dimensions).\n",
    "\n",
    "Qs: What do the clusters represent? What does this mean? That the difference between pos/neg is smaller/more subtle than another difference between the datapoints?\n",
    "\n",
    "Coloring the datapoints by serotype (top20) does not reveal that the different clusters are linked to different serotypes, so there's something else behind it...\n",
    "\n",
    "A t-SNE of the loci_embeddings turns out quite nicely, we clearly see separations between the different serotypes. The rbp_embeddings turn out weird... these should be doublechecked."
   ]
  },
  {
   "cell_type": "code",
   "execution_count": 21,
   "id": "9bba6e26",
   "metadata": {},
   "outputs": [
    {
     "data": {
      "text/plain": [
       "Text(0, 0.5, 'UMAP component 2')"
      ]
     },
     "execution_count": 21,
     "metadata": {},
     "output_type": "execute_result"
    },
    {
     "data": {
      "image/png": "[encoded data removed]",
      "text/plain": [
       "<Figure size 720x504 with 1 Axes>"
      ]
     },
     "metadata": {
      "needs_background": "light"
     },
     "output_type": "display_data"
    }
   ],
   "source": [
    "# colored by label\n",
    "reducer = umap.UMAP()\n",
    "X_umap = reducer.fit_transform(X_rbps)\n",
    "\n",
    "plt.figure(figsize=(10,7))\n",
    "colors = [\"navy\", \"darkorange\"]\n",
    "\n",
    "for i in range(X_umap.shape[0]):\n",
    "    if (frame['origin'][i] == 'prophage') and (labels[i] == 1):\n",
    "        plt.scatter(X_umap[i,0], X_umap[i,1], color='darkorange', marker='+')\n",
    "    if (frame['origin'][i] == 'prophage') and (labels[i] == 0):\n",
    "        plt.scatter(X_umap[i,0], X_umap[i,1], color='navy', marker='+')\n",
    "    if (frame['origin'][i] == 'valencia') and (labels[i] == 1):\n",
    "        plt.scatter(X_umap[i,0], X_umap[i,1], color='darkorange', marker='>')\n",
    "    if (frame['origin'][i] == 'valencia') and (labels[i] == 0):\n",
    "        plt.scatter(X_umap[i,0], X_umap[i,1], color='navy', marker='>')\n",
    "        \n",
    "plt.scatter([],[], color='darkorange', marker='+', label='pos+ prophage')\n",
    "plt.scatter([],[], color='navy', marker='+', label='neg- prophage')\n",
    "plt.scatter([],[], color='darkorange', marker='>', label='pos+ valencia')\n",
    "plt.scatter([],[], color='navy', marker='>', label='neg- valencia')\n",
    "  \n",
    "plt.legend(loc=\"best\", shadow=False, scatterpoints=1)\n",
    "plt.title(\"UMAP of dataset\")\n",
    "plt.xlabel('UMAP component 1')\n",
    "plt.ylabel('UMAP component 2')\n",
    "#plt.savefig(results_dir+'/features/all_embeddings_UMAP.png', dpi=400)"
   ]
  },
  {
   "cell_type": "code",
   "execution_count": 53,
   "id": "12239207",
   "metadata": {
    "scrolled": false
   },
   "outputs": [
    {
     "data": {
      "text/plain": [
       "Text(0, 0.5, 'UMAP component 2')"
      ]
     },
     "execution_count": 53,
     "metadata": {},
     "output_type": "execute_result"
    },
    {
     "data": {
      "image/png": "[encoded data removed]",
      "text/plain": [
       "<Figure size 720x504 with 1 Axes>"
      ]
     },
     "metadata": {
      "needs_background": "light"
     },
     "output_type": "display_data"
    }
   ],
   "source": [
    "# colored by serotype\n",
    "reducer = umap.UMAP()\n",
    "X_umap = reducer.fit_transform(X_rbps)\n",
    "seros = pd.read_csv(klebsiella_dir+'/klebsiella_genomes_031221_serotypes.csv')\n",
    "unique_seros = list(set(seros['sero']))\n",
    "seros_count = [list(seros['sero']).count(x) for x in unique_seros]\n",
    "seros_top = [x for _,x in sorted(zip(seros_count,unique_seros), reverse=True)][:20]\n",
    "plt.figure(figsize=(10,7))\n",
    "rainbow = cm.get_cmap('rainbow')\n",
    "crange = np.linspace(0.01, 0.99, len(seros_top))\n",
    "\n",
    "for i in range(X_umap.shape[0]):\n",
    "    this_index = frame['row'][i]\n",
    "    this_sero = seros['sero'][this_index]\n",
    "    if (frame['origin'][i] == 'prophage') and (this_sero in seros_top):\n",
    "        col = rainbow(crange[seros_top.index(this_sero)])\n",
    "        plt.scatter(X_umap[i,0], X_umap[i,1], color=col, marker='+')\n",
    "    elif (frame['origin'][i] == 'prophage') and (this_sero not in seros_top):\n",
    "        plt.scatter(X_umap[i,0], X_umap[i,1], color='grey', marker='+')\n",
    "    elif (frame['origin'][i] == 'valencia') and (this_sero in seros_top):\n",
    "        col = rainbow(crange[seros_top.index(this_sero)])\n",
    "        plt.scatter(X_umap[i,0], X_umap[i,1], color=col, marker='>')\n",
    "    elif (frame['origin'][i] == 'valencia') and (this_sero not in seros_top):\n",
    "        plt.scatter(X_umap[i,0], X_umap[i,1], color='grey', marker='>')\n",
    "        \n",
    "#plt.legend(loc=\"best\", shadow=False, scatterpoints=1)\n",
    "plt.title(\"UMAP of dataset, colored by top20 serotypes\")\n",
    "plt.xlabel('UMAP component 1')\n",
    "plt.ylabel('UMAP component 2')\n",
    "#plt.savefig(results_dir+'/features/all_embeddings_UMAP_serocolor.png', dpi=400)"
   ]
  },
  {
   "cell_type": "code",
   "execution_count": null,
   "id": "7826c049",
   "metadata": {},
   "outputs": [],
   "source": [
    "# look at rbps that have UMAP C1 > 25 (every UMAP will look slightly different, look at the plot above!)\n",
    "count = 0\n",
    "for i in range(X_umap.shape[0]):\n",
    "    if X_umap[i,0] > 25:\n",
    "        phage_number = frame['col'][i]\n",
    "        #print(phage_number)\n",
    "        count += 1\n",
    "count"
   ]
  },
  {
   "cell_type": "markdown",
   "id": "674207c0",
   "metadata": {},
   "source": [
    "Looking at the UMAP projections of RBP embeddings, we see sort of the same pattern as we are witnessing in the full embeddings projections. This indicates that that 'weird' pattern is in fact the result of the RBP embeddings. A CD-HIT clusters analysis of the Valencia RBPs does not reveal anything suspicious in particular. Meaning that the sequences do in fact look  normal, some more similar then others.\n",
    "\n",
    "Results: every cluster is in fact a single RBP. Most of these datapoints are negative, and then one or a few are positive. This makes sense in the Valencie database, as every phage was tested against a panel of bacterial strains. And because we only have a few RBPs still in our dataset (cfr ongoing structure prediction efforts), we see a finite number of different clusters, all relating to a particular RBP! Though the tSNE of RBPs is still a weird pattern that has no explanation...\n",
    "\n",
    "After looking at the tSNE in more detail, colored by Valencia RBPs (see above), we see that the same RBPs are actually plotted at different points on the tSNE! This is weird, but it's even weirder because not all of them do this, some are actually plotted on top of one another just like the UMAP. Two RBPs in particular make up the weird circle like pattern. Must check these in a bit more detail. OK so the RBPs themselves (and their embeddings), don't look weird. I've looked up some more info on tSNE and found the perplexity parameter (i.e. number of effective neighbors in learning the manifold) and it's default is 30. Lower values look even worse, but higher values look good (>61). So the weird results might be simply the result of a parameter that wasn't properly set. As a sanity check, let's do a simple PCA and see what that gives."
   ]
  },
  {
   "cell_type": "code",
   "execution_count": 84,
   "id": "be309d89",
   "metadata": {},
   "outputs": [
    {
     "data": {
      "text/plain": [
       "Text(0, 0.5, 'tSNE component 2')"
      ]
     },
     "execution_count": 84,
     "metadata": {},
     "output_type": "execute_result"
    },
    {
     "data": {
      "image/png": "[encoded data removed]",
      "text/plain": [
       "<Figure size 720x504 with 1 Axes>"
      ]
     },
     "metadata": {
      "needs_background": "light"
     },
     "output_type": "display_data"
    }
   ],
   "source": [
    "# colored with Valencia RBPs\n",
    "X_PCA = PCA(n_components=2).fit_transform(X_rbps)\n",
    "\n",
    "unique_valencia_rbps = list(set(frame['col'][frame['origin']=='valencia']))\n",
    "colors = cm.get_cmap('rainbow')\n",
    "crange = np.linspace(0.01, 0.99, len(unique_valencia_rbps))\n",
    "\n",
    "plt.figure(figsize=(10,7))\n",
    "for i in range(X_tsne.shape[0]):\n",
    "    this_rbp = frame['col'][i]\n",
    "    if (frame['origin'][i] == 'prophage'):        \n",
    "        plt.scatter(X_PCA[i,0], X_PCA[i,1], color='grey', marker='+')\n",
    "    if (frame['origin'][i] == 'valencia'):\n",
    "        col = colors(crange[unique_valencia_rbps.index(this_rbp)])\n",
    "        plt.scatter(X_PCA[i,0], X_PCA[i,1], color=col, marker='>')\n",
    "         \n",
    "plt.title(\"tSNE of dataset, colored by Valencia RBP\")\n",
    "plt.xlabel('tSNE component 1')\n",
    "plt.ylabel('tSNE component 2')\n",
    "#plt.savefig(results_dir+'/features/rbp_embeddings_tSNE_serocolor.png', dpi=400)"
   ]
  },
  {
   "cell_type": "markdown",
   "id": "finnish-converter",
   "metadata": {},
   "source": [
    "## 6 - Machine learning models <a name=\"models\"></a>"
   ]
  },
  {
   "cell_type": "code",
   "execution_count": null,
   "id": "e17693f2",
   "metadata": {},
   "outputs": [],
   "source": [
    "rbpbase = pd.read_csv(klebsiella_dir+'/RBPbase_031221_klebsiella_pneumoniae.csv')\n",
    "locus_em = pd.read_csv(klebsiella_dir+'/klebsiella_genomes_031221_ProtTrans_embeddings.csv', index_col=0)\n",
    "rbp_em = pd.read_csv(klebsiella_dir+'/RBPbase_031221_klebsiella_pneumoniae_embeddings.csv', index_col=0)\n",
    "#interaction_matrix = np.asarray(pd.read_csv(klebsiella_dir+'/interactions_klebsiella.csv', index_col=0))\n",
    "interaction_matrix_mono = np.asarray(pd.read_csv(klebsiella_dir+'/interactions_klebsiella_mono.csv', index_col=0))\n",
    "frame = construct_training_dataframe(locus_em, rbp_em, interaction_matrix_mono, rbpbase)\n",
    "labels = np.asarray(frame.iloc[:,-4])"
   ]
  },
  {
   "cell_type": "markdown",
   "id": "8b78bf22",
   "metadata": {},
   "source": [
    "#### Simple cross-validation with all data"
   ]
  },
  {
   "cell_type": "code",
   "execution_count": 95,
   "id": "weighted-special",
   "metadata": {},
   "outputs": [
    {
     "data": {
      "text/plain": [
       "0.9446730897195295"
      ]
     },
     "execution_count": 95,
     "metadata": {},
     "output_type": "execute_result"
    }
   ],
   "source": [
    "# first simple test\n",
    "rf = RandomForestClassifier(n_estimators=200, class_weight='balanced')\n",
    "#outer_cv = StratifiedKFold(n_splits=10)\n",
    "outer_cv = KFold(n_splits=10, shuffle=True)\n",
    "score_f1 = make_scorer(f1_score)\n",
    "frame = np.asarray(frame.iloc[:,:-3])\n",
    "perf_f1 = cross_val_score(rf, X=frame[:,:-1], y=frame[:,-1], scoring=score_f1, cv=outer_cv, verbose=False)\n",
    "np.mean(perf_f1)"
   ]
  },
  {
   "cell_type": "markdown",
   "id": "2b2e9f03",
   "metadata": {},
   "source": [
    "#### Grouped cross-validation with Valencia data only"
   ]
  },
  {
   "cell_type": "code",
   "execution_count": 88,
   "id": "c3a878d0",
   "metadata": {},
   "outputs": [],
   "source": [
    "rf = RandomForestClassifier(n_estimators=200, class_weight='balanced', n_jobs=6)\n",
    "loci_cv = GroupKFold(n_splits=10)\n",
    "frame_val = frame.loc[frame['origin']=='valencia'] # valencia only\n",
    "features = np.asarray(frame_val.iloc[:,:-4])\n",
    "labels = np.asarray(frame_val.iloc[:,-4])\n",
    "\n",
    "loci_list = []; rbps_list = []; scores_list = []\n",
    "for train_index, test_index in loci_cv.split(features, labels, frame_val['row']):\n",
    "    features_train, features_test = features[train_index], features[test_index]\n",
    "    labels_train, labels_test = labels[train_index], labels[test_index]\n",
    "    \n",
    "    # fit a model\n",
    "    rf.fit(features_train, labels_train)\n",
    "    \n",
    "    # make predictions\n",
    "    scores = rf.predict_proba(features_test)[:,1]\n",
    "    test_loci = np.array(frame_val['row'])[test_index]\n",
    "    test_rbps = np.array(frame_val['col'])[test_index]\n",
    "    scores_list = scores_list + list(scores)\n",
    "    loci_list = loci_list + list(test_loci)\n",
    "    rbps_list = rbps_list + list(test_rbps)\n",
    "    \n",
    "results = pd.DataFrame({'locus': loci_list, 'rbps': rbps_list, 'scores': scores_list})\n",
    "results.to_csv(results_dir+'/models/results_RF_grouped10CV_valencia.csv', index=False)"
   ]
  },
  {
   "cell_type": "code",
   "execution_count": 94,
   "id": "f70af515",
   "metadata": {},
   "outputs": [
    {
     "name": "stdout",
     "output_type": "stream",
     "text": [
      "ROCAUC:  0.385\n",
      "PRAUC:  0.018\n"
     ]
    }
   ],
   "source": [
    "# compute AUC scores\n",
    "results_CV = pd.read_csv(results_dir+'/models/results_RF_grouped10CV_valencia.csv')\n",
    "interaction_matrix_mono = np.asarray(pd.read_csv(klebsiella_dir+'/interactions_klebsiella_mono.csv', index_col=0))\n",
    "labels_CV = [interaction_matrix_mono[results_CV['locus'][i],results_CV['rbps'][i]] \n",
    "             for i in range(results_CV.shape[0])]\n",
    "\n",
    "ROCAUC = round(roc_auc_score(labels_CV, results_CV['scores']), 3)\n",
    "precision, recall, thresholds = precision_recall_curve(labels_CV, results_CV['scores'])\n",
    "PRAUC = round(auc(recall, precision), 3)\n",
    "print('ROCAUC: ', ROCAUC)\n",
    "print('PRAUC: ', PRAUC)"
   ]
  },
  {
   "cell_type": "markdown",
   "id": "d213003c",
   "metadata": {},
   "source": [
    "These results are quite bad... One of the reason I hypothesize is because we only have 12 positive samples in a collection of 620 samples... RF can't deal with the imbalance? Just too few positives to train from? One thing we can check now is train from prophages to test on Valencia. If that works well, we could append the valencia positives with some prophage positives to improve the results. -> could be visualized with a learning curve, increasingly adding more prophage positives."
   ]
  },
  {
   "cell_type": "code",
   "execution_count": null,
   "id": "94a7f0af",
   "metadata": {},
   "outputs": [],
   "source": [
    "# top 3 accuracy\n",
    "# ..."
   ]
  },
  {
   "cell_type": "markdown",
   "id": "e067af3c",
   "metadata": {},
   "source": [
    "#### Training on prophages to test on Valencia data"
   ]
  },
  {
   "cell_type": "code",
   "execution_count": 106,
   "id": "0772900c",
   "metadata": {},
   "outputs": [],
   "source": [
    "def constrained_random_interaction_matrix(loci_similarities, loci_threshold, rbp_similarities, rbp_threshold,\n",
    "                                          interaction_matrix):\n",
    "    \"\"\"\n",
    "    This function constructs an interaction matrix for training by adding known positive interactions\n",
    "    and using similarity scores to sample negative interactions in a random manner, with constraints.\n",
    "    \n",
    "    Input:\n",
    "    - loci_similarities, rbp_similarities: similarity score matrices (hosts m x m and phages n x n)\n",
    "    - loci_threshold, rbp_threshold: thresholds above which not to consider negative interactions\n",
    "    - interaction matrix: the known interactions\n",
    "    \n",
    "    Output:\n",
    "    - adjusted interaction matrix\n",
    "    \"\"\"\n",
    "\n",
    "    # sample random RBP and bacterial locus\n",
    "    iteration = 0\n",
    "    while iteration < np.sum(interaction_matrix == 1): # number of rbps = number of positives\n",
    "        random_locus = random.choice(range(interaction_matrix.shape[0]))\n",
    "        random_rbp = random.choice(range(interaction_matrix.shape[1]))\n",
    "\n",
    "        # construct reliable negative interaction within constraints\n",
    "        if interaction_matrix[random_locus, random_rbp] != 1:\n",
    "            # collect similar RBPs and their interacting loci\n",
    "            rbp_similarities_row = rbp_similarities[random_rbp,:]\n",
    "            rbp_threshold_indices = [index for index, sim in enumerate(rbp_similarities_row) if sim >= rbp_threshold]\n",
    "            loci_threshold_indices = [index for thr_index in rbp_threshold_indices for index in range(interaction_matrix.shape[0]) \n",
    "                                      if interaction_matrix[index, thr_index] == 1]\n",
    "            duplicates = [dup for dup in loci_threshold_indices if loci_threshold_indices.count(dup) > 1]\n",
    "\n",
    "            # assess similarity between collected loci\n",
    "            loci_similarities_row = loci_similarities[random_locus,:]\n",
    "            loci_exceeding_threshold = [index for index in loci_threshold_indices if loci_similarities_row[index] \n",
    "                                        >= loci_threshold]\n",
    "            if len(loci_exceeding_threshold) == 0:\n",
    "                interaction_matrix[random_locus, random_rbp] = 0\n",
    "                iteration += 1\n",
    "    print(iteration)\n",
    "    return interaction_matrix"
   ]
  },
  {
   "cell_type": "code",
   "execution_count": 132,
   "id": "ef6e30fd",
   "metadata": {},
   "outputs": [
    {
     "name": "stdout",
     "output_type": "stream",
     "text": [
      "Check? True\n",
      "Check? True\n",
      "128\n"
     ]
    }
   ],
   "source": [
    "# load data & subset propjages\n",
    "rbpbase = pd.read_csv(klebsiella_dir+'/RBPbase_031221_klebsiella_pneumoniae.csv')\n",
    "rbpbase_prophage = rbpbase[rbpbase.origin=='prophage']\n",
    "im_mono = pd.read_csv(klebsiella_dir+'/interactions_klebsiella_mono.csv', index_col=0)\n",
    "\n",
    "# adjust interaction matrix\n",
    "to_delete_rownames = [locus for locus in im_mono.index if locus not in list(rbpbase_prophage['host_accession'])]\n",
    "to_delete_colnames = [rbp for rbp in im_mono.columns if rbp not in list(rbpbase_prophage['unique_ID'])]\n",
    "im_prophage = im_mono.drop(to_delete_rownames)\n",
    "im_prophage = im_prophage.drop(to_delete_colnames, axis=1)\n",
    "im_prophage = np.asarray(im_prophage)\n",
    "\n",
    "# adjust similarity matrices\n",
    "to_delete_rows = [i for i, locus in enumerate(im_mono.index) if locus not in list(rbpbase_prophage['host_accession'])]\n",
    "to_delete_cols = [j for j, rbp in enumerate(im_mono.columns) if rbp not in list(rbpbase_prophage['unique_ID'])]\n",
    "loci_sim = np.loadtxt(klebsiella_dir+'/kaptive_loci_score_matrix.txt')\n",
    "rbp_sim = np.loadtxt(klebsiella_dir+'/RBPbase_031221_klebsiella_pneumoniae.fasta_score_matrix.txt')\n",
    "loci_sim_prophage = np.delete(loci_sim, to_delete_rows, 0)\n",
    "loci_sim_prophage = np.delete(loci_sim_prophage, to_delete_rows, 1) # delete loci from both axes\n",
    "rbp_sim_prophage = np.delete(rbp_sim, to_delete_cols, 0)\n",
    "rbp_sim_prophage = np.delete(rbp_sim_prophage, to_delete_cols, 1) # delete rbps from both axes\n",
    "print('Check?', loci_sim_prophage.shape[0] == im_prophage.shape[0])\n",
    "print('Check?', rbp_sim_prophage.shape[0] == im_prophage.shape[1])\n",
    "\n",
    "# construct new interaction matrix with negatives\n",
    "im_constrained = constrained_random_interaction_matrix(loci_sim_prophage, 0.9, rbp_sim_prophage, 0.75, im_prophage)"
   ]
  },
  {
   "cell_type": "code",
   "execution_count": 133,
   "id": "5e2518d6",
   "metadata": {},
   "outputs": [],
   "source": [
    "# construct training dataframe from prophage data\n",
    "locus_em = pd.read_csv(klebsiella_dir+'/klebsiella_genomes_031221_ProtTrans_embeddings.csv', index_col=0)\n",
    "rbp_em = pd.read_csv(klebsiella_dir+'/RBPbase_031221_klebsiella_pneumoniae_embeddings.csv', index_col=0)\n",
    "\n",
    "locus_em_prophage = locus_em.drop(to_delete_rownames)\n",
    "rbp_em_prophage = rbp_em.drop(to_delete_colnames)\n",
    "frame_prophage = construct_training_dataframe(locus_em_prophage, rbp_em_prophage, im_constrained, rbpbase_prophage)\n",
    "\n",
    "interaction_matrix_mono = np.asarray(pd.read_csv(klebsiella_dir+'/interactions_klebsiella_mono.csv', index_col=0))\n",
    "frame = construct_training_dataframe(locus_em, rbp_em, interaction_matrix_mono, rbpbase)\n",
    "frame_val = frame.loc[frame['origin']=='valencia'] # valencia only"
   ]
  },
  {
   "cell_type": "code",
   "execution_count": 134,
   "id": "91b23c56",
   "metadata": {},
   "outputs": [
    {
     "name": "stdout",
     "output_type": "stream",
     "text": [
      "ROCAUC:  0.616\n",
      "PRAUC:  0.109\n"
     ]
    }
   ],
   "source": [
    "# train a model on prophage data, test on valencia data\n",
    "score_f1 = make_scorer(f1_score)\n",
    "rf = RandomForestClassifier(class_weight='balanced')\n",
    "rf_params = {'n_estimators': [100, 200, 500], 'max_depth':[3, 5, 8]}\n",
    "inner_cv = KFold(n_splits=5, shuffle=True)\n",
    "rf_grid = GridSearchCV(rf, cv=inner_cv, param_grid=rf_params, scoring=score_f1)\n",
    "\n",
    "features_train = np.asarray(frame_prophage.iloc[:,:-4])\n",
    "labels_train = np.asarray(frame_prophage.iloc[:,-4])\n",
    "rf_grid.fit(features_train, labels_train)\n",
    "\n",
    "features_test = frame_val.iloc[:,:-4]\n",
    "labels_test = frame_val.iloc[:,-4]\n",
    "scores = rf_grid.predict_proba(features_test)[:,1]\n",
    "\n",
    "ROCAUC = round(roc_auc_score(labels_test, scores), 3)\n",
    "precision, recall, thresholds = precision_recall_curve(labels_test, scores)\n",
    "PRAUC = round(auc(recall, precision), 3)\n",
    "print('ROCAUC: ', ROCAUC)\n",
    "print('PRAUC: ', PRAUC)"
   ]
  },
  {
   "cell_type": "markdown",
   "id": "af9bd332",
   "metadata": {},
   "source": [
    "These results are also not great. I guess it's just a hard situation to train and test models on because: prophage data only contains known pos+, but Valencia contains mostly known negs-. Of course we should be able to at least somewhat sample negatives in the prophage data confidently, but it might still be overly optimistic that we score really well when we don't know what a good strategy is. So: check out the wrongly predicted pos+ valencia samples and compare them with negatives from prophage data!\n",
    "\n",
    "One idea would be to do a one-class approach, but here this would be difficult as well: the known prophage samples are all positive, but in general this is actually the minority (outlier) class! Training on the majority class would thus involve solely relying on a negative sampling approach that might not be ideal..."
   ]
  },
  {
   "cell_type": "code",
   "execution_count": 127,
   "id": "c9b8fbfe",
   "metadata": {
    "scrolled": true
   },
   "outputs": [
    {
     "name": "stdout",
     "output_type": "stream",
     "text": [
      "start new iteration\n",
      "128\n",
      "start new iteration\n",
      "128\n",
      "start new iteration\n",
      "128\n",
      "start new iteration\n",
      "128\n",
      "start new iteration\n",
      "128\n",
      "start new iteration\n",
      "128\n",
      "start new iteration\n",
      "128\n",
      "start new iteration\n",
      "128\n",
      "start new iteration\n",
      "128\n"
     ]
    }
   ],
   "source": [
    "thresholds_grid = [(0.85, 0.85), (0.9, 0.85), (0.95, 0.85), (0.85, 0.9), (0.9, 0.9), (0.95, 0.9), (0.85, 0.95), (0.9, 0.95), (0.95, 0.95)]\n",
    "results = []\n",
    "for combo in thresholds_grid:\n",
    "    print('start new iteration')\n",
    "    loci_thr, rbp_thr = combo[0], combo[1]\n",
    "    im_constrained = constrained_random_interaction_matrix(loci_sim_prophage, loci_thr, rbp_sim_prophage, rbp_thr, im_prophage)\n",
    "    frame_prophage = construct_training_dataframe(locus_em_prophage, rbp_em_prophage, im_constrained, rbpbase_prophage)\n",
    "    \n",
    "    features_train = np.asarray(frame_prophage.iloc[:,:-4])\n",
    "    labels_train = np.asarray(frame_prophage.iloc[:,-4])\n",
    "    rf_grid.fit(features_train, labels_train)\n",
    "\n",
    "    features_test = frame_val.iloc[:,:-4]\n",
    "    labels_test = frame_val.iloc[:,-4]\n",
    "    scores = rf_grid.predict_proba(features_test)[:,1]\n",
    "    results.append(round(roc_auc_score(labels_test, scores), 3))"
   ]
  },
  {
   "cell_type": "code",
   "execution_count": 131,
   "id": "7fec72b1",
   "metadata": {},
   "outputs": [
    {
     "data": {
      "text/plain": [
       "<matplotlib.collections.PathCollection at 0x2b4e544f0>"
      ]
     },
     "execution_count": 131,
     "metadata": {},
     "output_type": "execute_result"
    },
    {
     "data": {
      "image/png": "[encoded data removed]",
      "text/plain": [
       "<Figure size 864x432 with 2 Axes>"
      ]
     },
     "metadata": {
      "needs_background": "light"
     },
     "output_type": "display_data"
    }
   ],
   "source": [
    "fig, (ax1, ax2) = plt.subplots(1,2, figsize=(12,6))\n",
    "loci_thr = [combo[0] for combo in thresholds_grid]\n",
    "rbp_thr = [combo[1] for combo in thresholds_grid]\n",
    "ax1.scatter(loci_thr, results)\n",
    "ax2.scatter(rbp_thr, results)"
   ]
  },
  {
   "cell_type": "raw",
   "id": "tutorial-thread",
   "metadata": {},
   "source": [
    "# inner 4-fold cross-validation to tune hyperparameters\n",
    "lr_l1 = GridSearchCV(pipe_lr_l1, cv=inner_cv, param_grid=param_grid_lr, scoring=score_acc)\n",
    "lr_l2 = GridSearchCV(pipe_lr_l2, cv=inner_cv, param_grid=param_grid_lr, scoring=score_acc)\n",
    "rf = GridSearchCV(pipe_rf, cv=inner_cv, param_grid=param_grid_rf, scoring=score_acc)\n",
    "gb = GridSearchCV(pipe_gb, cv=inner_cv, param_grid=param_grid_gb, scoring=score_acc)\n",
    "\n",
    "# outer 4-fold cross-validation to compute performance\n",
    "performances = {}\n",
    "features['class'] = np.asarray(dummies) # add target column\n",
    "models = {'LDA': pipe_lda, 'logistic (L1)': lr_l1, 'logistic (L2)': lr_l2, 'RF': rf, 'GB': gb}\n",
    "for model_name, model in models.items():\n",
    "    perf_acc = cross_val_score(model, features.iloc[:, :-1], features.iloc[:,-1], scoring=score_acc, cv=outer_cv, verbose=False)\n",
    "    perf_P = cross_val_score(model, features.iloc[:, :-1], features.iloc[:,-1], scoring=score_P, cv=outer_cv, verbose=False)\n",
    "    perf_R = cross_val_score(model, features.iloc[:, :-1], features.iloc[:,-1], scoring=score_R, cv=outer_cv, verbose=False)\n",
    "    perf_f1 = cross_val_score(model, features.iloc[:, :-1], features.iloc[:,-1], scoring=score_f1, cv=outer_cv, verbose=False)\n",
    "    performances[model_name] = {'Acc':np.mean(perf_acc), 'P':np.mean(perf_P), 'R':np.mean(perf_R), 'f1':np.mean(perf_f1)}"
   ]
  },
  {
   "cell_type": "markdown",
   "id": "9438ff47",
   "metadata": {},
   "source": [
    "##### Structured-output learning"
   ]
  },
  {
   "cell_type": "code",
   "execution_count": 37,
   "id": "2aca4c7b",
   "metadata": {},
   "outputs": [],
   "source": [
    "rbpbase = pd.read_csv(data_dir+'/RBPbase_250621_klebsiella_pneumoniae.csv')\n",
    "locus_em = pd.read_csv(data_dir+'/locus_embeddings.csv', index_col=0)\n",
    "rbp_em = pd.read_csv(data_dir+'/protein_embeddings.csv', index_col=0)"
   ]
  },
  {
   "cell_type": "code",
   "execution_count": 12,
   "id": "f93e89c2",
   "metadata": {},
   "outputs": [
    {
     "name": "stdout",
     "output_type": "stream",
     "text": [
      "[121.73740733  31.15853281  98.09647206  67.71553523  41.61800365]\n"
     ]
    }
   ],
   "source": [
    "# k-nearest neighbors for multioutput regression\n",
    "from sklearn.datasets import make_regression\n",
    "from sklearn.neighbors import KNeighborsRegressor\n",
    "import numpy as np\n",
    "# create datasets\n",
    "X, y = make_regression(n_samples=1000, n_features=10, n_informative=5, n_targets=5, random_state=1, noise=0.5)\n",
    "# define model\n",
    "model = KNeighborsRegressor()\n",
    "# fit model\n",
    "model.fit(X, y)\n",
    "# make a prediction\n",
    "row = [0.21947749, 0.32948997, 0.81560036, 0.440956, -0.0606303, -0.29257894, -0.2820059, -0.00290545, 0.96402263, 0.04992249]\n",
    "yhat = model.predict([row])\n",
    "# summarize prediction\n",
    "print(yhat[0])"
   ]
  },
  {
   "cell_type": "code",
   "execution_count": 106,
   "id": "3daab495",
   "metadata": {},
   "outputs": [],
   "source": [
    "# construct simple X and Y off of the embeddings\n",
    "X = np.zeros((rbpbase.shape[0], locus_em.shape[1]))\n",
    "host_names = list(locus_em.index)\n",
    "for row, host in enumerate(rbpbase['host_accession']):\n",
    "    index = [i for i, x in enumerate(host_names) if host in x][0]\n",
    "    X[row, :] = locus_em.iloc[index, :]\n",
    "    \n",
    "from sklearn.decomposition import PCA\n",
    "pca = PCA(n_components=5)\n",
    "Y = pca.fit_transform(rbp_em)"
   ]
  },
  {
   "cell_type": "code",
   "execution_count": 107,
   "id": "59a0ed5d",
   "metadata": {},
   "outputs": [],
   "source": [
    "# fit a linear model without jointXY\n",
    "W1 = np.linalg.inv(np.dot(X.T, X))\n",
    "W2 = np.dot(X.T, Y)\n",
    "W = np.dot(W1, W2)"
   ]
  },
  {
   "cell_type": "code",
   "execution_count": 110,
   "id": "81138efc",
   "metadata": {},
   "outputs": [
    {
     "name": "stdout",
     "output_type": "stream",
     "text": [
      "accuracy:  0.0332667997338656\n"
     ]
    }
   ],
   "source": [
    "# make predictions & compute naive accuracy\n",
    "acc = 0\n",
    "for row in range(X.shape[0]):\n",
    "    yhat = np.dot(W.T, X[row,:])\n",
    "    distances = [sum(abs(Y[i,:]-yhat)) for i in range(Y.shape[0])]\n",
    "    #prediction = distances.index(min(distances))\n",
    "    preds = np.argsort(distances)[:20]\n",
    "    if row in preds:\n",
    "        acc += 1\n",
    "print('accuracy: ', acc/X.shape[0])"
   ]
  },
  {
   "cell_type": "code",
   "execution_count": null,
   "id": "0cb6aef5",
   "metadata": {},
   "outputs": [],
   "source": [
    "from sklearn.neighbors import KNeighborsRegressor\n",
    "model = KNeighborsRegressor()\n",
    "model.fit(X, Y)\n",
    "\n",
    "# make predictions & compute naive accuracy\n",
    "acc = 0\n",
    "for row in range(X.shape[0]):\n",
    "    yhat = model.predict([X[row,:]])\n",
    "    distances = [sum(abs(Y[i,:]-yhat)) for i in range(Y.shape[0])]\n",
    "    preds = np.argsort(distances)[:10]\n",
    "    if row in preds:\n",
    "        acc += 1\n",
    "print('accuracy: ', acc/X.shape[0])"
   ]
  },
  {
   "cell_type": "code",
   "execution_count": 22,
   "id": "3f4674dd",
   "metadata": {},
   "outputs": [
    {
     "data": {
      "text/plain": [
       "(1000, 5)"
      ]
     },
     "execution_count": 22,
     "metadata": {},
     "output_type": "execute_result"
    }
   ],
   "source": [
    "jointXY = ...\n",
    "\n",
    "# fit on the data\n",
    "W1 = np.linalg.inv(np.dot(jointXY.T, jointXY))\n",
    "W2 = np.dot(jointXY.T, y)\n",
    "W = np.dot(W1, W2)\n",
    "\n",
    "# make preds for new data: for every X in the testset, we construct a jointXY_test\n",
    "for row in range(Y.shape[1]):\n",
    "    Yi = Y[row, :]\n",
    "    "
   ]
  },
  {
   "cell_type": "markdown",
   "id": "residential-aging",
   "metadata": {},
   "source": [
    "## X - Out of use"
   ]
  },
  {
   "cell_type": "raw",
   "id": "14e07c4c",
   "metadata": {},
   "source": [
    "# RANDOM SHUFFLE LABELS\n",
    "loci_sim = np.loadtxt(klebsiella_dir+'/kaptive_loci_score_matrix.txt')\n",
    "rf = RandomForestClassifier(n_estimators=200, class_weight='balanced', n_jobs=6)\n",
    "loci_cv = KFold(n_splits=10, shuffle=True)\n",
    "features = np.asarray(frame.iloc[:,:-4])\n",
    "labels = np.asarray(frame.iloc[:,-4])\n",
    "random.shuffle(labels)\n",
    "\n",
    "loci_list = []; rbps_list = []; scores_list = []\n",
    "for train_index, test_index in loci_cv.split(loci_sim):\n",
    "    print('new split')\n",
    "    # construct training and test dataframe\n",
    "    train_index_frame = []; test_index_frame = []\n",
    "    for i, row_id in enumerate(frame['row']):\n",
    "        if row_id in train_index:\n",
    "            train_index_frame.append(i)\n",
    "        else:\n",
    "            test_index_frame.append(i)\n",
    "    features_train, features_test = features[train_index_frame], features[test_index_frame]\n",
    "    labels_train, labels_test = labels[train_index_frame], labels[test_index_frame]\n",
    "    \n",
    "    # fit a model\n",
    "    rf.fit(features_train, labels_train)\n",
    "    \n",
    "    # make predictions\n",
    "    for test_i in tqdm(test_index_frame):\n",
    "        loci_nr = frame['row'][test_i]\n",
    "        rbp_nr = frame['col'][test_i]\n",
    "        score = rf.predict_proba(features[test_i].reshape(1,-1))[:,1]\n",
    "        loci_list.append(loci_nr)\n",
    "        rbps_list.append(rbp_nr)\n",
    "        scores_list.append(score[0])\n",
    "\n",
    "results = pd.DataFrame({'locus': loci_list, 'rbps': rbps_list, 'scores': scores_list})\n",
    "interaction_matrix_mono = np.asarray(pd.read_csv(klebsiella_dir+'/interactions_klebsiella_mono.csv', index_col=0))\n",
    "labels_random = [interaction_matrix_mono[results['locus'][i],results['rbps'][i]] \n",
    "             for i in range(results.shape[0])]\n",
    "\n",
    "ROCAUC = round(roc_auc_score(labels_random, results['scores']), 3)\n",
    "precision, recall, thresholds = precision_recall_curve(labels_random, results['scores'])\n",
    "PRAUC = round(auc(recall, precision), 3)\n",
    "print('ROCAUC: ', ROCAUC)\n",
    "print('PRAUC: ', PRAUC)"
   ]
  },
  {
   "cell_type": "raw",
   "id": "promising-omaha",
   "metadata": {},
   "source": [
    "def blast_local_python(file_name, data_dir):\n",
    "    \"\"\"\n",
    "    This function does pairwise BLASTs between all sequences of an input FASTA file (Kaptive results)\n",
    "    \n",
    "    Input:\n",
    "    - file_name: string of FASTA file to pairwise BLAST\n",
    "    \n",
    "    To do:\n",
    "    - change to kaptive_file_names -> no big fasta needed, no need to make small fasta's first.\n",
    "    \"\"\"\n",
    "    \n",
    "    sequence_list = []\n",
    "    for record in SeqIO.parse(data_dir+'/'+file_name, 'fasta'):\n",
    "        sequence_list.append(str(record.seq))\n",
    "    score_matrix = np.zeros((len(sequence_list), len(sequence_list)))\n",
    "\n",
    "    for i in range(len(sequence_list)-1):\n",
    "        # make fasta sequence 1\n",
    "        fasta1 = open(data_dir+'/sequence1.fasta', 'w')\n",
    "        fasta1.write('>sequence1'+'\\n'+sequence_list[i]+'\\n')\n",
    "        fasta1.close()\n",
    "        \n",
    "        for j in range(i, len(sequence_list)):\n",
    "            # make fasta sequence 2\n",
    "            fasta2 = open(data_dir+'/sequence2.fasta', 'w')\n",
    "            fasta2.write('>sequence2'+'\\n'+sequence_list[j]+'\\n')\n",
    "            fasta2.close()\n",
    "            \n",
    "            # perform BLAST\n",
    "            blastp_cline = NcbiblastpCommandline(query=data_dir+'/sequence1.fasta', subject=data_dir+'/sequence2.fasta', \n",
    "                                                 evalue=10, outfmt=5, out=data_dir+'/BLAST_results.xml')\n",
    "            stdout, stderr = blastp_cline()\n",
    "            \n",
    "            # get results\n",
    "            blast_result = open(data_dir+'/BLAST_results.xml')\n",
    "            blast_record = NCBIXML.read(blast_result)\n",
    "            try:\n",
    "                alignment = blast_record.alignments[0]\n",
    "                hsp = alignment.hsps[0]\n",
    "                identity = (hsp.identities/hsp.align_length)*100\n",
    "            except IndexError:\n",
    "                identity = 0\n",
    "                pass\n",
    "            \n",
    "            # write to score matrix\n",
    "            score_matrix[i,j] = identity\n",
    "            \n",
    "    score_matrix = score_matrix + score_matrix.transpose()\n",
    "    score_matrix = score_matrix - np.diag(np.diag(score_matrix))  \n",
    "    \n",
    "    os.remove(data_dir+'/sequence1.fasta')\n",
    "    os.remove(data_dir+'/sequence2.fasta')\n",
    "    \n",
    "    return score_matrix"
   ]
  },
  {
   "cell_type": "raw",
   "id": "b66189c8",
   "metadata": {},
   "source": [
    "def locus_embeddings(kaptive_file_names, data_dir):\n",
    "    \"\"\"\n",
    "    This functions computes Word2Vec embeddings for bacterial genomic loci. It uses the bio-embeddings\n",
    "    package together with BioPython to transform fasta sequences of bacterial loci into numerical embeddings.\n",
    "    \n",
    "    WARNING: running this on a personal laptop without GPU can be slow (not advised). Best to start a Google\n",
    "    Colab notebook and run the computations in the cloud.\n",
    "    \n",
    "    Input:\n",
    "    - kaptive_file_names: list of fasta filenames of bacterial loci (output of Kaptive)\n",
    "    - data_dir: location of the sequence file(s) to loop over\n",
    "    - results_dir: directory to store the resulting embeddings in.\n",
    "    \n",
    "    Output:\n",
    "    - embeddings: Pandas DataFrame (as .csv file) with file names and their corresponding embedding\n",
    "    \"\"\"\n",
    "    embedder = Word2VecEmbedder()\n",
    "    embeddings_list = []\n",
    "\n",
    "    for name in tqdm(kaptive_file_names):\n",
    "        locus_sequence = ''\n",
    "        # one or multiple records in fasta file\n",
    "        for record in SeqIO.parse(data_dir+'/'+name, 'fasta'):\n",
    "            locus_sequence += str(record.seq)\n",
    "        \n",
    "        # compute embedding\n",
    "        embedding = embedder.embed(locus_sequence)\n",
    "        reduced_embedding = embedder.reduce_per_protein(embedding)\n",
    "        embeddings_list.append(reduced_embedding)\n",
    "        \n",
    "    embeddings_df = pd.concat([pd.DataFrame(kaptive_file_names), pd.DataFrame(embeddings_list)], axis=1)\n",
    "    embeddings_df.to_csv(data_dir+'/locus_embeddings.csv', index=False)\n",
    "    \n",
    "    return"
   ]
  }
 ],
 "metadata": {
  "kernelspec": {
   "display_name": "Python 3 (ipykernel)",
   "language": "python",
   "name": "python3"
  },
  "language_info": {
   "codemirror_mode": {
    "name": "ipython",
    "version": 3
   },
   "file_extension": ".py",
   "mimetype": "text/x-python",
   "name": "python",
   "nbconvert_exporter": "python",
   "pygments_lexer": "ipython3",
   "version": "3.9.7"
  }
 },
 "nbformat": 4,
 "nbformat_minor": 5
}
